{
  "nbformat": 4,
  "nbformat_minor": 0,
  "metadata": {
    "colab": {
      "name": "vector.ipynb",
      "provenance": [],
      "authorship_tag": "ABX9TyPYAQSWMjSBvcL5hSEu7eNZ",
      "include_colab_link": true
    },
    "kernelspec": {
      "name": "python3",
      "display_name": "Python 3"
    }
  },
  "cells": [
    {
      "cell_type": "markdown",
      "metadata": {
        "id": "view-in-github",
        "colab_type": "text"
      },
      "source": [
        "<a href=\"https://colab.research.google.com/github/palash04/Artificial-Intelligence/blob/master/LearnPython/vector.ipynb\" target=\"_parent\"><img src=\"https://colab.research.google.com/assets/colab-badge.svg\" alt=\"Open In Colab\"/></a>"
      ]
    },
    {
      "cell_type": "code",
      "metadata": {
        "id": "dvOT-FKhRo0p",
        "colab_type": "code",
        "colab": {}
      },
      "source": [
        "class Vector(object):\n",
        "  def __init__(self,coordinates):\n",
        "    try:\n",
        "      if not coordinates:\n",
        "        raise ValueError\n",
        "      self.coordinates = tuple(coordinates)\n",
        "      self.dimension = len(coordinates)\n",
        "    except ValueError:\n",
        "      raise ValueError('The coordinates must be nonempty')\n",
        "\n",
        "  def __str__(self):\n",
        "    return 'Vector: {}'.format(self.coordinates)\n",
        "\n",
        "  def __eq__(self,v):\n",
        "    return self.coordinates == v.coordinates"
      ],
      "execution_count": 25,
      "outputs": []
    },
    {
      "cell_type": "code",
      "metadata": {
        "id": "HmcOXcQzR6aF",
        "colab_type": "code",
        "colab": {
          "base_uri": "https://localhost:8080/",
          "height": 68
        },
        "outputId": "abbff32a-5439-420d-893c-111e185dbe18"
      },
      "source": [
        "my_vector = Vector([1,2,3])\n",
        "print (my_vector)\n",
        "my_vector2 = Vector([1,2,3])\n",
        "my_vector3 = Vector([-1,2,3])\n",
        "print (my_vector == my_vector2)\n",
        "print (my_vector == my_vector3)"
      ],
      "execution_count": 26,
      "outputs": [
        {
          "output_type": "stream",
          "text": [
            "Vector: (1, 2, 3)\n",
            "True\n",
            "False\n"
          ],
          "name": "stdout"
        }
      ]
    },
    {
      "cell_type": "markdown",
      "metadata": {
        "id": "kiSEPE45YYiM",
        "colab_type": "text"
      },
      "source": [
        "# **Vector Addition, Subtraction, and Scalar Multiply**\n"
      ]
    },
    {
      "cell_type": "code",
      "metadata": {
        "id": "39ANhaNfTWgN",
        "colab_type": "code",
        "colab": {}
      },
      "source": [
        "class Vector:\n",
        "  def __init__(self, coordinates):\n",
        "    self.coordinates = coordinates\n",
        "\n",
        "  def __str__(self):\n",
        "    return \"Vector: {}\".format(self.coordinates)\n",
        "\n",
        "  def plus(self,v):\n",
        "    new_coordinates = []\n",
        "    n = len(self.coordinates)\n",
        "    for i in range(n):\n",
        "      new_coordinates.append(self.coordinates[i] + v.coordinates[i])\n",
        "    return Vector(new_coordinates)\n",
        "\n",
        "  def minus(self,v):\n",
        "    new_coordinates = [x-y for x,y in zip(self.coordinates,v.coordinates)]\n",
        "    return Vector(new_coordinates)\n",
        "\n",
        "  def times_scalar(self,c):\n",
        "    new_coordinates = [c*x for x in self.coordinates]\n",
        "    return Vector(new_coordinates)  "
      ],
      "execution_count": 37,
      "outputs": []
    },
    {
      "cell_type": "code",
      "metadata": {
        "id": "fp9EJRf6YyOL",
        "colab_type": "code",
        "colab": {
          "base_uri": "https://localhost:8080/",
          "height": 68
        },
        "outputId": "5a63fb65-6b25-444c-f1e4-f3d5f032d5ac"
      },
      "source": [
        "vec1 = Vector([1,2,3])\n",
        "vec2 = Vector([4,5,6])\n",
        "vec3 = vec1.plus(vec2)\n",
        "print (vec3)\n",
        "vec4 = vec1.minus(vec2)\n",
        "print (vec4)\n",
        "vec5 = vec2.times_scalar(3)\n",
        "print (vec5)"
      ],
      "execution_count": 38,
      "outputs": [
        {
          "output_type": "stream",
          "text": [
            "Vector: [5, 7, 9]\n",
            "Vector: [-3, -3, -3]\n",
            "Vector: [12, 15, 18]\n"
          ],
          "name": "stdout"
        }
      ]
    },
    {
      "cell_type": "markdown",
      "metadata": {
        "id": "eLcazHx9gRsd",
        "colab_type": "text"
      },
      "source": [
        "# **Magnitude and Direction**"
      ]
    },
    {
      "cell_type": "code",
      "metadata": {
        "id": "pk1JiXE8bm6Z",
        "colab_type": "code",
        "colab": {}
      },
      "source": [
        "import math\n",
        "class Vector:\n",
        "  def __init__(self,coordinates):\n",
        "    self.coordinates = tuple(coordinates)\n",
        "    self.dimension = len(coordinates)\n",
        "\n",
        "  def getMagnitude(self):\n",
        "    mag = 0\n",
        "    coord_squared = [x**2 for x in self.coordinates]\n",
        "    return math.sqrt(sum(coord_squared))\n",
        "\n",
        "  def times_scalar(self,c):\n",
        "    new_coordinates = [c*x for x in self.coordinates]\n",
        "    return Vector(new_coordinates)  \n",
        "\n",
        "  def normalization(self):\n",
        "    try:\n",
        "      magnitude = self.getMagnitude()\n",
        "      return self.times_scalar(1./magnitude)\n",
        "    except ZeoDivisionError:\n",
        "      raise Exception('Cannot normalize the zero vector')\n",
        "\n",
        "  def __str__(self):\n",
        "    return \"Vector: {}\".format(self.coordinates)\n"
      ],
      "execution_count": 67,
      "outputs": []
    },
    {
      "cell_type": "code",
      "metadata": {
        "id": "F4pDNpcYhZqW",
        "colab_type": "code",
        "colab": {
          "base_uri": "https://localhost:8080/",
          "height": 34
        },
        "outputId": "1475a58f-0aed-48ca-d434-58eaf75e0c94"
      },
      "source": [
        "vec1 = Vector([8.813,-1.331,-6.247])\n",
        "magnitude_vec1 = vec1.getMagnitude()\n",
        "print (magnitude_vec1)"
      ],
      "execution_count": 63,
      "outputs": [
        {
          "output_type": "stream",
          "text": [
            "10.884187567292289\n"
          ],
          "name": "stdout"
        }
      ]
    },
    {
      "cell_type": "code",
      "metadata": {
        "id": "fexWcUenhmPG",
        "colab_type": "code",
        "colab": {
          "base_uri": "https://localhost:8080/",
          "height": 51
        },
        "outputId": "1de64c97-a555-47ba-c536-609294122038"
      },
      "source": [
        "vec2 = Vector([5.581,-2.136])\n",
        "vec3 = vec2.normalization()\n",
        "print (vec3)\n",
        "\n",
        "vec2 = Vector([1.996,3.108,-4.554])\n",
        "vec3 = vec2.normalization()\n",
        "print (vec3)"
      ],
      "execution_count": 68,
      "outputs": [
        {
          "output_type": "stream",
          "text": [
            "Vector: (0.9339352140866403, -0.35744232526233)\n",
            "Vector: (0.3404012959433014, 0.5300437012984873, -0.7766470449528029)\n"
          ],
          "name": "stdout"
        }
      ]
    },
    {
      "cell_type": "markdown",
      "metadata": {
        "id": "N9VJ7O3Ywv_3",
        "colab_type": "text"
      },
      "source": [
        "# **Dot Product**"
      ]
    },
    {
      "cell_type": "code",
      "metadata": {
        "id": "O4XL_B80lzco",
        "colab_type": "code",
        "colab": {}
      },
      "source": [
        "class Vector:\n",
        "  def __init__(self,coordinates):\n",
        "    self.coordinates = tuple(coordinates)\n",
        "    self.dimension = len(coordinates)\n",
        "\n",
        "  def dot(self, v):\n",
        "    return sum([x*y for x,y in zip(self.coordinates,v.coordinates)])"
      ],
      "execution_count": 69,
      "outputs": []
    },
    {
      "cell_type": "code",
      "metadata": {
        "id": "bG7hlXS9xo1s",
        "colab_type": "code",
        "colab": {
          "base_uri": "https://localhost:8080/",
          "height": 34
        },
        "outputId": "e9604e71-48d3-4510-d5f0-fe866072803a"
      },
      "source": [
        "vec1 = Vector([1,2,3])\n",
        "vec2 = Vector([3,2,5])\n",
        "print (vec1.dot(vec2))"
      ],
      "execution_count": 71,
      "outputs": [
        {
          "output_type": "stream",
          "text": [
            "22\n"
          ],
          "name": "stdout"
        }
      ]
    },
    {
      "cell_type": "code",
      "metadata": {
        "id": "vxXOKQp1zKO2",
        "colab_type": "code",
        "colab": {}
      },
      "source": [
        ""
      ],
      "execution_count": null,
      "outputs": []
    }
  ]
}