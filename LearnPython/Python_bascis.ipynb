{
  "nbformat": 4,
  "nbformat_minor": 0,
  "metadata": {
    "colab": {
      "name": "Python_bascis.ipynb",
      "provenance": [],
      "authorship_tag": "ABX9TyNGKIYzAfjMcU7Qpqh+07Km",
      "include_colab_link": true
    },
    "kernelspec": {
      "name": "python3",
      "display_name": "Python 3"
    }
  },
  "cells": [
    {
      "cell_type": "markdown",
      "metadata": {
        "id": "view-in-github",
        "colab_type": "text"
      },
      "source": [
        "<a href=\"https://colab.research.google.com/github/palash04/Artificial-Intelligence/blob/master/LearnPython/Python_bascis.ipynb\" target=\"_parent\"><img src=\"https://colab.research.google.com/assets/colab-badge.svg\" alt=\"Open In Colab\"/></a>"
      ]
    },
    {
      "cell_type": "code",
      "metadata": {
        "id": "uP8GU3WQ4T4w",
        "colab_type": "code",
        "colab": {
          "base_uri": "https://localhost:8080/",
          "height": 68
        },
        "outputId": "83852f58-92aa-4f4e-9a95-4a5f66d56242"
      },
      "source": [
        "print (\"Hello World\")\n",
        "print (\"Hello Again\")\n",
        "print (\"Yay, this is fun\")"
      ],
      "execution_count": null,
      "outputs": [
        {
          "output_type": "stream",
          "text": [
            "Hello World\n",
            "Hello Again\n",
            "Yay, this is fun\n"
          ],
          "name": "stdout"
        }
      ]
    },
    {
      "cell_type": "markdown",
      "metadata": {
        "id": "FHqVeyhaDvMq",
        "colab_type": "text"
      },
      "source": [
        "**Comments and Pound Characters**"
      ]
    },
    {
      "cell_type": "code",
      "metadata": {
        "id": "SC_fk_PmDFa5",
        "colab_type": "code",
        "colab": {
          "base_uri": "https://localhost:8080/",
          "height": 51
        },
        "outputId": "08b10f8d-5804-43a9-a3b0-1ea7e4f6c72d"
      },
      "source": [
        "# A comment, this is so you can read your program later\n",
        "print (\"This is comment block\")\n",
        "print (\"This will run\") # comment after is ignored"
      ],
      "execution_count": null,
      "outputs": [
        {
          "output_type": "stream",
          "text": [
            "This is comment block\n",
            "This will run\n"
          ],
          "name": "stdout"
        }
      ]
    },
    {
      "cell_type": "markdown",
      "metadata": {
        "id": "5BUipOzuFLWs",
        "colab_type": "text"
      },
      "source": [
        "**Numbers and Math**"
      ]
    },
    {
      "cell_type": "code",
      "metadata": {
        "id": "oKALMw8mED16",
        "colab_type": "code",
        "colab": {
          "base_uri": "https://localhost:8080/",
          "height": 51
        },
        "outputId": "af8c92bf-a2ad-49ec-8c1a-d71a4924b300"
      },
      "source": [
        "print (\"Counting number of stars\")\n",
        "print (\"Stars\", 2500/10 + 45)"
      ],
      "execution_count": null,
      "outputs": [
        {
          "output_type": "stream",
          "text": [
            "Counting number of stars\n",
            "Stars 295.0\n"
          ],
          "name": "stdout"
        }
      ]
    },
    {
      "cell_type": "code",
      "metadata": {
        "id": "N_yw8OtUFatg",
        "colab_type": "code",
        "colab": {
          "base_uri": "https://localhost:8080/",
          "height": 34
        },
        "outputId": "4a84c857-2d12-444c-8e28-2691712fc8fc"
      },
      "source": [
        "print (\"Add 2+3 = \", 2+3)"
      ],
      "execution_count": null,
      "outputs": [
        {
          "output_type": "stream",
          "text": [
            "Add 2+3 =  5\n"
          ],
          "name": "stdout"
        }
      ]
    },
    {
      "cell_type": "code",
      "metadata": {
        "id": "ZWYR6gWdFhI-",
        "colab_type": "code",
        "colab": {
          "base_uri": "https://localhost:8080/",
          "height": 51
        },
        "outputId": "096c3061-9223-45d5-d13f-18abb4ada4c0"
      },
      "source": [
        "print (\"Is 2 greater than 5:\", 2>5)\n",
        "print (\"Is 2 less than or equal to 5\", 2<=5)"
      ],
      "execution_count": null,
      "outputs": [
        {
          "output_type": "stream",
          "text": [
            "Is 2 greater than 5: False\n",
            "Is 2 less than or equal to 5 True\n"
          ],
          "name": "stdout"
        }
      ]
    },
    {
      "cell_type": "code",
      "metadata": {
        "id": "BmImjEZyFqgL",
        "colab_type": "code",
        "colab": {
          "base_uri": "https://localhost:8080/",
          "height": 34
        },
        "outputId": "52e4d90a-28d6-4d97-ebbf-4974ad8c4189"
      },
      "source": [
        "print (2/2.5)"
      ],
      "execution_count": null,
      "outputs": [
        {
          "output_type": "stream",
          "text": [
            "0.8\n"
          ],
          "name": "stdout"
        }
      ]
    },
    {
      "cell_type": "code",
      "metadata": {
        "id": "S-cvweGzF7l5",
        "colab_type": "code",
        "colab": {
          "base_uri": "https://localhost:8080/",
          "height": 34
        },
        "outputId": "d42581c5-0d95-4e56-d887-e9f035e6bc2b"
      },
      "source": [
        "print (\"Remainder of 15 divided by 4\", 15%4)"
      ],
      "execution_count": null,
      "outputs": [
        {
          "output_type": "stream",
          "text": [
            "Remainder of 15 divided by 4 3\n"
          ],
          "name": "stdout"
        }
      ]
    },
    {
      "cell_type": "code",
      "metadata": {
        "id": "34DOMr7QGG3O",
        "colab_type": "code",
        "colab": {
          "base_uri": "https://localhost:8080/",
          "height": 51
        },
        "outputId": "841b12f1-3591-403c-f3e5-9d9a4a28f6f7"
      },
      "source": [
        "print (7/4)\n",
        "print (7.0/4.0)"
      ],
      "execution_count": null,
      "outputs": [
        {
          "output_type": "stream",
          "text": [
            "1.75\n",
            "1.75\n"
          ],
          "name": "stdout"
        }
      ]
    },
    {
      "cell_type": "markdown",
      "metadata": {
        "id": "CDdOQzoEGUDV",
        "colab_type": "text"
      },
      "source": [
        "**Variables and Names**"
      ]
    },
    {
      "cell_type": "code",
      "metadata": {
        "id": "CPaAbnhxGOIf",
        "colab_type": "code",
        "colab": {}
      },
      "source": [
        "cars = 100\n",
        "space_in_car = 4.0\n",
        "drivers = 30\n",
        "passengers = 90\n",
        "cars_not_driven = cars - drivers\n",
        "cars_driven = drivers\n",
        "carpool_capacity = cars_driven * space_in_car"
      ],
      "execution_count": null,
      "outputs": []
    },
    {
      "cell_type": "code",
      "metadata": {
        "id": "4yDvGveUHHn3",
        "colab_type": "code",
        "colab": {
          "base_uri": "https://localhost:8080/",
          "height": 85
        },
        "outputId": "8ba80b45-fa71-4db8-d834-a298404ed42d"
      },
      "source": [
        "print (\"There are\", cars, \"cars available.\")\n",
        "print (\"There are only\", drivers , \"drivers available.\")\n",
        "print (\"There will be\", cars_not_driven, \"empty cars today.\")\n",
        "print (\"We have\", passengers, \"to carpool capacity.\")"
      ],
      "execution_count": null,
      "outputs": [
        {
          "output_type": "stream",
          "text": [
            "There are 100 cars available.\n",
            "There are only 30 drivers available.\n",
            "There will be 70 empty cars today.\n",
            "We have 90 to carpool capacity.\n"
          ],
          "name": "stdout"
        }
      ]
    },
    {
      "cell_type": "code",
      "metadata": {
        "id": "C-LbdFB8Hk9Y",
        "colab_type": "code",
        "colab": {}
      },
      "source": [
        "name = \"Sean\"\n",
        "age = 23\n",
        "height = 180\n",
        "weight = 60.575\n",
        "eyes = \"blue\"\n",
        "hair = \"black\""
      ],
      "execution_count": null,
      "outputs": []
    },
    {
      "cell_type": "code",
      "metadata": {
        "id": "HbQ7CrWyJLXA",
        "colab_type": "code",
        "colab": {
          "base_uri": "https://localhost:8080/",
          "height": 85
        },
        "outputId": "35db6d39-1309-4e1f-b55b-13d039d65a02"
      },
      "source": [
        "print (\"My name %s\" %name)\n",
        "print (\"Age %d\" %age)\n",
        "print (\"Height %d cm\" %height)\n",
        "print (\"Weight %.2f kg\" %weight)"
      ],
      "execution_count": null,
      "outputs": [
        {
          "output_type": "stream",
          "text": [
            "My name Sean\n",
            "Age 23\n",
            "Height 180 cm\n",
            "Weight 60.58 kg\n"
          ],
          "name": "stdout"
        }
      ]
    },
    {
      "cell_type": "code",
      "metadata": {
        "id": "n0QASq89JRc6",
        "colab_type": "code",
        "colab": {
          "base_uri": "https://localhost:8080/",
          "height": 68
        },
        "outputId": "0525d9a1-1894-43de-d496-30c22be036f3"
      },
      "source": [
        "print (\"Name %s, Age %d, Height %d cm, Weight %.2f kg\" % (name,age,height,weight))\n",
        "print (\"Name {0}, Age {1}\".format(name,age))\n",
        "print (\"Name {name}, Age {age}\".format(name=name,age=age))"
      ],
      "execution_count": null,
      "outputs": [
        {
          "output_type": "stream",
          "text": [
            "Name Sean, Age 23, Height 180 cm, Weight 60.58 kg\n",
            "Name Sean, Age 23\n",
            "Name Sean, Age 23\n"
          ],
          "name": "stdout"
        }
      ]
    },
    {
      "cell_type": "code",
      "metadata": {
        "id": "JhxUnC4qKl1a",
        "colab_type": "code",
        "colab": {
          "base_uri": "https://localhost:8080/",
          "height": 34
        },
        "outputId": "61f9568a-5a6f-4cca-ba0c-e0f60e7eef6c"
      },
      "source": [
        "print (\"Name %r %r\" %(name,age)) # %r is used for debugging purpose"
      ],
      "execution_count": null,
      "outputs": [
        {
          "output_type": "stream",
          "text": [
            "Name 'Sean' 23\n"
          ],
          "name": "stdout"
        }
      ]
    },
    {
      "cell_type": "code",
      "metadata": {
        "id": "RVro6gkiMpcd",
        "colab_type": "code",
        "colab": {}
      },
      "source": [
        "end1 = \"C\"\n",
        "end2 = \"h\"\n",
        "end3 = \"e\"\n",
        "end4 = \"e\"\n",
        "end5 = \"s\"\n",
        "end6 = \"e\"\n",
        "end7 = \"B\"\n",
        "end8 = \"u\"\n",
        "end9 = \"r\"\n",
        "end10 = \"g\"\n",
        "end11 = \"e\"\n",
        "end12 = \"r\""
      ],
      "execution_count": null,
      "outputs": []
    },
    {
      "cell_type": "code",
      "metadata": {
        "id": "ovbtfk0VNRX6",
        "colab_type": "code",
        "colab": {
          "base_uri": "https://localhost:8080/",
          "height": 34
        },
        "outputId": "07d3fb82-57f7-4813-ffac-a8d7a8d370c5"
      },
      "source": [
        "print (end1 + end2 + end3 + end4 + end5 + end6,end7 + end8 + end9 + end10 + end11 + end12)"
      ],
      "execution_count": null,
      "outputs": [
        {
          "output_type": "stream",
          "text": [
            "Cheese Burger\n"
          ],
          "name": "stdout"
        }
      ]
    },
    {
      "cell_type": "code",
      "metadata": {
        "id": "ZLGY-zKoNjrB",
        "colab_type": "code",
        "colab": {
          "base_uri": "https://localhost:8080/",
          "height": 119
        },
        "outputId": "0a69e55e-d41a-4aab-cce3-d42433f1eee4"
      },
      "source": [
        "days = \"Mon Tues Wed Thurs Fri Sat\"\n",
        "months = \"Jan\\nFeb\\nMarch\\nApril\\nMay..\"\n",
        "print (days)\n",
        "print (months)"
      ],
      "execution_count": null,
      "outputs": [
        {
          "output_type": "stream",
          "text": [
            "Mon Tues Wed Thurs Fri Sat\n",
            "Jan\n",
            "Feb\n",
            "March\n",
            "April\n",
            "May..\n"
          ],
          "name": "stdout"
        }
      ]
    },
    {
      "cell_type": "code",
      "metadata": {
        "id": "PIR5gBMBOkPs",
        "colab_type": "code",
        "colab": {
          "base_uri": "https://localhost:8080/",
          "height": 119
        },
        "outputId": "8441274d-0cf1-4804-9369-9fd7387ec289"
      },
      "source": [
        "print (\"\"\"\n",
        "Hello, This is my blog post.\n",
        "Here I will write the story of my life.\n",
        "To begin with my first story, \n",
        "I live on 21st floor of a multi storey building\n",
        "\"\"\")"
      ],
      "execution_count": null,
      "outputs": [
        {
          "output_type": "stream",
          "text": [
            "\n",
            "Hello, This is my blog post.\n",
            "Here I will write the story of my life.\n",
            "To begin with my first story, \n",
            "I live on 21st floor of a multi storey building\n",
            "\n"
          ],
          "name": "stdout"
        }
      ]
    },
    {
      "cell_type": "markdown",
      "metadata": {
        "id": "_rBAj9FDPTi8",
        "colab_type": "text"
      },
      "source": [
        "**Use of backslash character**"
      ]
    },
    {
      "cell_type": "code",
      "metadata": {
        "id": "kuJnFFT9O7kr",
        "colab_type": "code",
        "colab": {
          "base_uri": "https://localhost:8080/",
          "height": 119
        },
        "outputId": "f6bb8a57-8aed-45a8-86bf-ee358b5e03b7"
      },
      "source": [
        "tabby_cat = \"\\tI'm tabbed in\"\n",
        "persian_cat = \"I'm split \\non a new line\"\n",
        "backslash_cat = \"I'm \\\\ a \\\\ cat \"\n",
        "some_cat = \"I am 6'2\\\" tall\"\n",
        "that_cat = 'I am 6\\'2\" tall'\n",
        "\n",
        "print (tabby_cat)\n",
        "print (persian_cat)\n",
        "print (backslash_cat)\n",
        "print (some_cat)\n",
        "print (that_cat)"
      ],
      "execution_count": null,
      "outputs": [
        {
          "output_type": "stream",
          "text": [
            "\tI'm tabbed in\n",
            "I'm split \n",
            "on a new line\n",
            "I'm \\ a \\ cat \n",
            "I am 6'2\" tall\n",
            "I am 6'2\" tall\n"
          ],
          "name": "stdout"
        }
      ]
    },
    {
      "cell_type": "markdown",
      "metadata": {
        "id": "JIbQKr9iK0Bp",
        "colab_type": "text"
      },
      "source": [
        "**Prompting People**"
      ]
    },
    {
      "cell_type": "code",
      "metadata": {
        "id": "7V1Ot7QCQDl2",
        "colab_type": "code",
        "colab": {
          "base_uri": "https://localhost:8080/",
          "height": 136
        },
        "outputId": "51832937-81cf-41ba-d729-bdba0d6c667b"
      },
      "source": [
        "print (\"How old are you?\",)\n",
        "age = input()\n",
        "print (\"How tall are you?\",)\n",
        "height = input()\n",
        "print (\"How much do you weigh?\",)\n",
        "weight = input()\n",
        "\n",
        "print (\"So, you are {age} years old, {height} cm tall, {weight} kg heavy\".format(age=age,height=height,weight=weight))"
      ],
      "execution_count": 1,
      "outputs": [
        {
          "output_type": "stream",
          "text": [
            "How old are you?\n",
            "23\n",
            "How tall are you?\n",
            "180\n",
            "How much do you weigh?\n",
            "60\n",
            "So, you are 23 years old, 180 cm tall, 60 kg heavy\n"
          ],
          "name": "stdout"
        }
      ]
    },
    {
      "cell_type": "code",
      "metadata": {
        "id": "e6hRLIUiK5Mf",
        "colab_type": "code",
        "colab": {
          "base_uri": "https://localhost:8080/",
          "height": 51
        },
        "outputId": "5cf325ab-6ae0-4a91-cdda-7790763e5ecf"
      },
      "source": [
        "x = int(input())\n",
        "print (x)"
      ],
      "execution_count": 2,
      "outputs": [
        {
          "output_type": "stream",
          "text": [
            "14\n",
            "14\n"
          ],
          "name": "stdout"
        }
      ]
    },
    {
      "cell_type": "code",
      "metadata": {
        "id": "gFWebl-WK-qd",
        "colab_type": "code",
        "colab": {
          "base_uri": "https://localhost:8080/",
          "height": 85
        },
        "outputId": "e3f11202-1e6b-482f-c8e7-2be79d3a5149"
      },
      "source": [
        "age = input(\"How old are you? \")\n",
        "height = input(\"How tall are you? \")\n",
        "weight = input(\"How much do you weigh? \")\n",
        "\n",
        "print (\"So, you are {age} years old, {height} cm tall, {weight} kg heavy\".format(age=age,height=height,weight=weight))"
      ],
      "execution_count": 3,
      "outputs": [
        {
          "output_type": "stream",
          "text": [
            "How old are you? 23\n",
            "How tall are you? 180\n",
            "How much do you weigh? 60\n",
            "So, you are 23 years old, 180 cm tall, 60 kg heavy\n"
          ],
          "name": "stdout"
        }
      ]
    },
    {
      "cell_type": "markdown",
      "metadata": {
        "id": "SpdP4ilDNvwP",
        "colab_type": "text"
      },
      "source": [
        "**Prompting and Passing**"
      ]
    },
    {
      "cell_type": "code",
      "metadata": {
        "id": "eaYz0BtgLCsu",
        "colab_type": "code",
        "colab": {
          "base_uri": "https://localhost:8080/",
          "height": 238
        },
        "outputId": "6571fad5-7988-4d00-9346-2bd5bbe9318b"
      },
      "source": [
        "script, username = \"zoro\",\"Jackal\"\n",
        "prompt = '> '\n",
        "\n",
        "print (\"Hi %s I'm %s script\" %(username,script))\n",
        "print (\"I would like to ask you few questions.\")\n",
        "print (\"Do you like me %s?\" %username)\n",
        "likes = input(prompt)\n",
        "print (\"Where do you live?\")\n",
        "lives = input(prompt)\n",
        "print (\"What kind of computer do you have\")\n",
        "computer = input(prompt)\n",
        "\n",
        "print (\"\"\"\n",
        "Alright, so you said %r about liking me,\n",
        "You live in %r. Not sure where that is.\n",
        "And you have a %r computer. Nice.\n",
        "\"\"\" %(likes,lives,computer))\n"
      ],
      "execution_count": 8,
      "outputs": [
        {
          "output_type": "stream",
          "text": [
            "Hi Jackal I'm zoro script\n",
            "I would like to ask you few questions.\n",
            "Do you like me Jackal?\n",
            "> No\n",
            "Where do you live?\n",
            "> Right beside you\n",
            "What kind of computer do you have\n",
            "> Just like you xD\n",
            "\n",
            "Alright, so you said 'No' about liking me,\n",
            "You live in 'Right beside you'. Not sure where that is.\n",
            "And you have a 'Just like you xD' computer. Nice.\n",
            "\n"
          ],
          "name": "stdout"
        }
      ]
    },
    {
      "cell_type": "code",
      "metadata": {
        "id": "V32iMK3VOA4s",
        "colab_type": "code",
        "colab": {}
      },
      "source": [
        ""
      ],
      "execution_count": null,
      "outputs": []
    }
  ]
}