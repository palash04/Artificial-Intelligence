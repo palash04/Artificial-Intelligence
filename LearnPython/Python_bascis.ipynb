{
  "nbformat": 4,
  "nbformat_minor": 0,
  "metadata": {
    "colab": {
      "name": "Python_bascis.ipynb",
      "provenance": [],
      "collapsed_sections": [],
      "authorship_tag": "ABX9TyMOaXvCGCbPX/mQDNbzrYrd",
      "include_colab_link": true
    },
    "kernelspec": {
      "name": "python3",
      "display_name": "Python 3"
    }
  },
  "cells": [
    {
      "cell_type": "markdown",
      "metadata": {
        "id": "view-in-github",
        "colab_type": "text"
      },
      "source": [
        "<a href=\"https://colab.research.google.com/github/palash04/Artificial-Intelligence/blob/master/LearnPython/Python_bascis.ipynb\" target=\"_parent\"><img src=\"https://colab.research.google.com/assets/colab-badge.svg\" alt=\"Open In Colab\"/></a>"
      ]
    },
    {
      "cell_type": "code",
      "metadata": {
        "id": "uP8GU3WQ4T4w",
        "colab_type": "code",
        "colab": {
          "base_uri": "https://localhost:8080/",
          "height": 68
        },
        "outputId": "62653a5d-5c65-4553-e845-8e461bf08aa2"
      },
      "source": [
        "print (\"Hello World\")\n",
        "print (\"Hello Again\")\n",
        "print (\"Yay, this is fun\")"
      ],
      "execution_count": 45,
      "outputs": [
        {
          "output_type": "stream",
          "text": [
            "Hello World\n",
            "Hello Again\n",
            "Yay, this is fun\n"
          ],
          "name": "stdout"
        }
      ]
    },
    {
      "cell_type": "markdown",
      "metadata": {
        "id": "FHqVeyhaDvMq",
        "colab_type": "text"
      },
      "source": [
        "# **Comments and Pound Characters**"
      ]
    },
    {
      "cell_type": "code",
      "metadata": {
        "id": "SC_fk_PmDFa5",
        "colab_type": "code",
        "colab": {
          "base_uri": "https://localhost:8080/",
          "height": 51
        },
        "outputId": "f981351b-d8b2-4d76-b0e3-9ec2bcad55a5"
      },
      "source": [
        "# A comment, this is so you can read your program later\n",
        "print (\"This is comment block\")\n",
        "print (\"This will run\") # comment after is ignored"
      ],
      "execution_count": 46,
      "outputs": [
        {
          "output_type": "stream",
          "text": [
            "This is comment block\n",
            "This will run\n"
          ],
          "name": "stdout"
        }
      ]
    },
    {
      "cell_type": "markdown",
      "metadata": {
        "id": "5BUipOzuFLWs",
        "colab_type": "text"
      },
      "source": [
        "# **Numbers and Math**"
      ]
    },
    {
      "cell_type": "code",
      "metadata": {
        "id": "oKALMw8mED16",
        "colab_type": "code",
        "colab": {
          "base_uri": "https://localhost:8080/",
          "height": 51
        },
        "outputId": "8d73d8d3-42c5-4652-bf15-a5e452a96199"
      },
      "source": [
        "print (\"Counting number of stars\")\n",
        "print (\"Stars\", 2500/10 + 45)"
      ],
      "execution_count": 47,
      "outputs": [
        {
          "output_type": "stream",
          "text": [
            "Counting number of stars\n",
            "Stars 295.0\n"
          ],
          "name": "stdout"
        }
      ]
    },
    {
      "cell_type": "code",
      "metadata": {
        "id": "N_yw8OtUFatg",
        "colab_type": "code",
        "colab": {
          "base_uri": "https://localhost:8080/",
          "height": 34
        },
        "outputId": "d370a6e0-f43d-4f2e-f658-feff42f8805f"
      },
      "source": [
        "print (\"Add 2+3 = \", 2+3)"
      ],
      "execution_count": 48,
      "outputs": [
        {
          "output_type": "stream",
          "text": [
            "Add 2+3 =  5\n"
          ],
          "name": "stdout"
        }
      ]
    },
    {
      "cell_type": "code",
      "metadata": {
        "id": "ZWYR6gWdFhI-",
        "colab_type": "code",
        "colab": {
          "base_uri": "https://localhost:8080/",
          "height": 51
        },
        "outputId": "e4d4a759-91a5-4d91-a8d9-8bf4f19f1194"
      },
      "source": [
        "print (\"Is 2 greater than 5:\", 2>5)\n",
        "print (\"Is 2 less than or equal to 5\", 2<=5)"
      ],
      "execution_count": 49,
      "outputs": [
        {
          "output_type": "stream",
          "text": [
            "Is 2 greater than 5: False\n",
            "Is 2 less than or equal to 5 True\n"
          ],
          "name": "stdout"
        }
      ]
    },
    {
      "cell_type": "code",
      "metadata": {
        "id": "BmImjEZyFqgL",
        "colab_type": "code",
        "colab": {
          "base_uri": "https://localhost:8080/",
          "height": 34
        },
        "outputId": "8cecda7b-76db-4ed6-dc96-4fadfe7a3a44"
      },
      "source": [
        "print (2/2.5)"
      ],
      "execution_count": 50,
      "outputs": [
        {
          "output_type": "stream",
          "text": [
            "0.8\n"
          ],
          "name": "stdout"
        }
      ]
    },
    {
      "cell_type": "code",
      "metadata": {
        "id": "S-cvweGzF7l5",
        "colab_type": "code",
        "colab": {
          "base_uri": "https://localhost:8080/",
          "height": 34
        },
        "outputId": "c6a19fd4-d728-4314-bcfe-a56736231b94"
      },
      "source": [
        "print (\"Remainder of 15 divided by 4\", 15%4)"
      ],
      "execution_count": 51,
      "outputs": [
        {
          "output_type": "stream",
          "text": [
            "Remainder of 15 divided by 4 3\n"
          ],
          "name": "stdout"
        }
      ]
    },
    {
      "cell_type": "code",
      "metadata": {
        "id": "34DOMr7QGG3O",
        "colab_type": "code",
        "colab": {
          "base_uri": "https://localhost:8080/",
          "height": 51
        },
        "outputId": "5dd14724-2692-4fbe-9e25-b53579a20790"
      },
      "source": [
        "print (7/4)\n",
        "print (7.0/4.0)"
      ],
      "execution_count": 52,
      "outputs": [
        {
          "output_type": "stream",
          "text": [
            "1.75\n",
            "1.75\n"
          ],
          "name": "stdout"
        }
      ]
    },
    {
      "cell_type": "markdown",
      "metadata": {
        "id": "CDdOQzoEGUDV",
        "colab_type": "text"
      },
      "source": [
        "# **Variables and Names**"
      ]
    },
    {
      "cell_type": "code",
      "metadata": {
        "id": "CPaAbnhxGOIf",
        "colab_type": "code",
        "colab": {}
      },
      "source": [
        "cars = 100\n",
        "space_in_car = 4.0\n",
        "drivers = 30\n",
        "passengers = 90\n",
        "cars_not_driven = cars - drivers\n",
        "cars_driven = drivers\n",
        "carpool_capacity = cars_driven * space_in_car"
      ],
      "execution_count": 53,
      "outputs": []
    },
    {
      "cell_type": "code",
      "metadata": {
        "id": "4yDvGveUHHn3",
        "colab_type": "code",
        "colab": {
          "base_uri": "https://localhost:8080/",
          "height": 85
        },
        "outputId": "1691ab40-c364-4dfb-b0e7-160bbed5ca9c"
      },
      "source": [
        "print (\"There are\", cars, \"cars available.\")\n",
        "print (\"There are only\", drivers , \"drivers available.\")\n",
        "print (\"There will be\", cars_not_driven, \"empty cars today.\")\n",
        "print (\"We have\", passengers, \"to carpool capacity.\")"
      ],
      "execution_count": 54,
      "outputs": [
        {
          "output_type": "stream",
          "text": [
            "There are 100 cars available.\n",
            "There are only 30 drivers available.\n",
            "There will be 70 empty cars today.\n",
            "We have 90 to carpool capacity.\n"
          ],
          "name": "stdout"
        }
      ]
    },
    {
      "cell_type": "code",
      "metadata": {
        "id": "C-LbdFB8Hk9Y",
        "colab_type": "code",
        "colab": {}
      },
      "source": [
        "name = \"Sean\"\n",
        "age = 23\n",
        "height = 180\n",
        "weight = 60.575\n",
        "eyes = \"blue\"\n",
        "hair = \"black\""
      ],
      "execution_count": 55,
      "outputs": []
    },
    {
      "cell_type": "code",
      "metadata": {
        "id": "HbQ7CrWyJLXA",
        "colab_type": "code",
        "colab": {
          "base_uri": "https://localhost:8080/",
          "height": 85
        },
        "outputId": "75775abd-9414-4904-cf17-2be751dfeb1c"
      },
      "source": [
        "print (\"My name %s\" %name)\n",
        "print (\"Age %d\" %age)\n",
        "print (\"Height %d cm\" %height)\n",
        "print (\"Weight %.2f kg\" %weight)"
      ],
      "execution_count": 56,
      "outputs": [
        {
          "output_type": "stream",
          "text": [
            "My name Sean\n",
            "Age 23\n",
            "Height 180 cm\n",
            "Weight 60.58 kg\n"
          ],
          "name": "stdout"
        }
      ]
    },
    {
      "cell_type": "code",
      "metadata": {
        "id": "n0QASq89JRc6",
        "colab_type": "code",
        "colab": {
          "base_uri": "https://localhost:8080/",
          "height": 68
        },
        "outputId": "6b282194-bbbf-44e8-fa0c-253a8bd9975a"
      },
      "source": [
        "print (\"Name %s, Age %d, Height %d cm, Weight %.2f kg\" % (name,age,height,weight))\n",
        "print (\"Name {0}, Age {1}\".format(name,age))\n",
        "print (\"Name {name}, Age {age}\".format(name=name,age=age))"
      ],
      "execution_count": 57,
      "outputs": [
        {
          "output_type": "stream",
          "text": [
            "Name Sean, Age 23, Height 180 cm, Weight 60.58 kg\n",
            "Name Sean, Age 23\n",
            "Name Sean, Age 23\n"
          ],
          "name": "stdout"
        }
      ]
    },
    {
      "cell_type": "code",
      "metadata": {
        "id": "JhxUnC4qKl1a",
        "colab_type": "code",
        "colab": {
          "base_uri": "https://localhost:8080/",
          "height": 34
        },
        "outputId": "e321b961-9f3a-4961-89dc-69d79f9260b6"
      },
      "source": [
        "print (\"Name %r %r\" %(name,age)) # %r is used for debugging purpose"
      ],
      "execution_count": 58,
      "outputs": [
        {
          "output_type": "stream",
          "text": [
            "Name 'Sean' 23\n"
          ],
          "name": "stdout"
        }
      ]
    },
    {
      "cell_type": "code",
      "metadata": {
        "id": "RVro6gkiMpcd",
        "colab_type": "code",
        "colab": {}
      },
      "source": [
        "end1 = \"C\"\n",
        "end2 = \"h\"\n",
        "end3 = \"e\"\n",
        "end4 = \"e\"\n",
        "end5 = \"s\"\n",
        "end6 = \"e\"\n",
        "end7 = \"B\"\n",
        "end8 = \"u\"\n",
        "end9 = \"r\"\n",
        "end10 = \"g\"\n",
        "end11 = \"e\"\n",
        "end12 = \"r\""
      ],
      "execution_count": 59,
      "outputs": []
    },
    {
      "cell_type": "code",
      "metadata": {
        "id": "ovbtfk0VNRX6",
        "colab_type": "code",
        "colab": {
          "base_uri": "https://localhost:8080/",
          "height": 34
        },
        "outputId": "7079d6b0-90e4-4276-ea1a-9b56eb0402dc"
      },
      "source": [
        "print (end1 + end2 + end3 + end4 + end5 + end6,end7 + end8 + end9 + end10 + end11 + end12)"
      ],
      "execution_count": 60,
      "outputs": [
        {
          "output_type": "stream",
          "text": [
            "Cheese Burger\n"
          ],
          "name": "stdout"
        }
      ]
    },
    {
      "cell_type": "code",
      "metadata": {
        "id": "ZLGY-zKoNjrB",
        "colab_type": "code",
        "colab": {
          "base_uri": "https://localhost:8080/",
          "height": 119
        },
        "outputId": "90b85660-c887-4b86-ce52-1510b473b718"
      },
      "source": [
        "days = \"Mon Tues Wed Thurs Fri Sat\"\n",
        "months = \"Jan\\nFeb\\nMarch\\nApril\\nMay..\"\n",
        "print (days)\n",
        "print (months)"
      ],
      "execution_count": 61,
      "outputs": [
        {
          "output_type": "stream",
          "text": [
            "Mon Tues Wed Thurs Fri Sat\n",
            "Jan\n",
            "Feb\n",
            "March\n",
            "April\n",
            "May..\n"
          ],
          "name": "stdout"
        }
      ]
    },
    {
      "cell_type": "code",
      "metadata": {
        "id": "PIR5gBMBOkPs",
        "colab_type": "code",
        "colab": {
          "base_uri": "https://localhost:8080/",
          "height": 119
        },
        "outputId": "6eebcdfd-2c24-4d4c-fe40-97e5161214e8"
      },
      "source": [
        "print (\"\"\"\n",
        "Hello, This is my blog post.\n",
        "Here I will write the story of my life.\n",
        "To begin with my first story, \n",
        "I live on 21st floor of a multi storey building\n",
        "\"\"\")"
      ],
      "execution_count": 62,
      "outputs": [
        {
          "output_type": "stream",
          "text": [
            "\n",
            "Hello, This is my blog post.\n",
            "Here I will write the story of my life.\n",
            "To begin with my first story, \n",
            "I live on 21st floor of a multi storey building\n",
            "\n"
          ],
          "name": "stdout"
        }
      ]
    },
    {
      "cell_type": "markdown",
      "metadata": {
        "id": "_rBAj9FDPTi8",
        "colab_type": "text"
      },
      "source": [
        "# **Use of backslash character**"
      ]
    },
    {
      "cell_type": "code",
      "metadata": {
        "id": "kuJnFFT9O7kr",
        "colab_type": "code",
        "colab": {
          "base_uri": "https://localhost:8080/",
          "height": 119
        },
        "outputId": "e09b43f6-cf71-42a3-ec14-3d93846aa6fd"
      },
      "source": [
        "tabby_cat = \"\\tI'm tabbed in\"\n",
        "persian_cat = \"I'm split \\non a new line\"\n",
        "backslash_cat = \"I'm \\\\ a \\\\ cat \"\n",
        "some_cat = \"I am 6'2\\\" tall\"\n",
        "that_cat = 'I am 6\\'2\" tall'\n",
        "\n",
        "print (tabby_cat)\n",
        "print (persian_cat)\n",
        "print (backslash_cat)\n",
        "print (some_cat)\n",
        "print (that_cat)"
      ],
      "execution_count": 63,
      "outputs": [
        {
          "output_type": "stream",
          "text": [
            "\tI'm tabbed in\n",
            "I'm split \n",
            "on a new line\n",
            "I'm \\ a \\ cat \n",
            "I am 6'2\" tall\n",
            "I am 6'2\" tall\n"
          ],
          "name": "stdout"
        }
      ]
    },
    {
      "cell_type": "markdown",
      "metadata": {
        "id": "JIbQKr9iK0Bp",
        "colab_type": "text"
      },
      "source": [
        "# **Prompting People**"
      ]
    },
    {
      "cell_type": "code",
      "metadata": {
        "id": "7V1Ot7QCQDl2",
        "colab_type": "code",
        "colab": {
          "base_uri": "https://localhost:8080/",
          "height": 136
        },
        "outputId": "7fa12ec7-221b-484a-cec0-1d2079ab4639"
      },
      "source": [
        "print (\"How old are you?\",)\n",
        "age = input()\n",
        "print (\"How tall are you?\",)\n",
        "height = input()\n",
        "print (\"How much do you weigh?\",)\n",
        "weight = input()\n",
        "\n",
        "print (\"So, you are {age} years old, {height} cm tall, {weight} kg heavy\".format(age=age,height=height,weight=weight))"
      ],
      "execution_count": 64,
      "outputs": [
        {
          "output_type": "stream",
          "text": [
            "How old are you?\n",
            "23\n",
            "How tall are you?\n",
            "180\n",
            "How much do you weigh?\n",
            "60\n",
            "So, you are 23 years old, 180 cm tall, 60 kg heavy\n"
          ],
          "name": "stdout"
        }
      ]
    },
    {
      "cell_type": "code",
      "metadata": {
        "id": "e6hRLIUiK5Mf",
        "colab_type": "code",
        "colab": {
          "base_uri": "https://localhost:8080/",
          "height": 51
        },
        "outputId": "a6c29c60-3727-4ea1-8666-f0f8314cf51b"
      },
      "source": [
        "x = int(input())\n",
        "print (x)"
      ],
      "execution_count": 65,
      "outputs": [
        {
          "output_type": "stream",
          "text": [
            "12\n",
            "12\n"
          ],
          "name": "stdout"
        }
      ]
    },
    {
      "cell_type": "code",
      "metadata": {
        "id": "gFWebl-WK-qd",
        "colab_type": "code",
        "colab": {
          "base_uri": "https://localhost:8080/",
          "height": 85
        },
        "outputId": "405d7d3b-ca68-429d-a8c8-0ca25d689ab7"
      },
      "source": [
        "age = input(\"How old are you? \")\n",
        "height = input(\"How tall are you? \")\n",
        "weight = input(\"How much do you weigh? \")\n",
        "\n",
        "print (\"So, you are {age} years old, {height} cm tall, {weight} kg heavy\".format(age=age,height=height,weight=weight))"
      ],
      "execution_count": 66,
      "outputs": [
        {
          "output_type": "stream",
          "text": [
            "How old are you? 23\n",
            "How tall are you? 180\n",
            "How much do you weigh? 60\n",
            "So, you are 23 years old, 180 cm tall, 60 kg heavy\n"
          ],
          "name": "stdout"
        }
      ]
    },
    {
      "cell_type": "markdown",
      "metadata": {
        "id": "SpdP4ilDNvwP",
        "colab_type": "text"
      },
      "source": [
        "# **Prompting and Passing**"
      ]
    },
    {
      "cell_type": "code",
      "metadata": {
        "id": "eaYz0BtgLCsu",
        "colab_type": "code",
        "colab": {
          "base_uri": "https://localhost:8080/",
          "height": 238
        },
        "outputId": "6ee33201-afcc-417b-b773-45e22942ff5f"
      },
      "source": [
        "script, username = \"zoro\",\"Jackal\"\n",
        "prompt = '> '\n",
        "\n",
        "print (\"Hi %s I'm %s script\" %(username,script))\n",
        "print (\"I would like to ask you few questions.\")\n",
        "print (\"Do you like me %s?\" %username)\n",
        "likes = input(prompt)\n",
        "print (\"Where do you live?\")\n",
        "lives = input(prompt)\n",
        "print (\"What kind of computer do you have\")\n",
        "computer = input(prompt)\n",
        "\n",
        "print (\"\"\"\n",
        "Alright, so you said %r about liking me,\n",
        "You live in %r. Not sure where that is.\n",
        "And you have a %r computer. Nice.\n",
        "\"\"\" %(likes,lives,computer))\n"
      ],
      "execution_count": 67,
      "outputs": [
        {
          "output_type": "stream",
          "text": [
            "Hi Jackal I'm zoro script\n",
            "I would like to ask you few questions.\n",
            "Do you like me Jackal?\n",
            "> No\n",
            "Where do you live?\n",
            "> 13B..you guess it\n",
            "What kind of computer do you have\n",
            "> very old.. kinda\n",
            "\n",
            "Alright, so you said 'No' about liking me,\n",
            "You live in '13B..you guess it'. Not sure where that is.\n",
            "And you have a 'very old.. kinda' computer. Nice.\n",
            "\n"
          ],
          "name": "stdout"
        }
      ]
    },
    {
      "cell_type": "markdown",
      "metadata": {
        "id": "13BOmTauiKM5",
        "colab_type": "text"
      },
      "source": [
        "# **Functions**"
      ]
    },
    {
      "cell_type": "code",
      "metadata": {
        "id": "V32iMK3VOA4s",
        "colab_type": "code",
        "colab": {}
      },
      "source": [
        "# You can create a function by using the word def in Python.\n",
        "\n",
        "def print_two(arg1,arg2):\n",
        "  print (\"arg1: %r, arg2: %r\" %(arg1,arg2))\n",
        "\n",
        "def print_one(arg1):\n",
        "  print (\"arg1: %r\" %arg1)\n",
        "\n",
        "def print_none():\n",
        "  print (\"This is function with no arguments\")"
      ],
      "execution_count": 68,
      "outputs": []
    },
    {
      "cell_type": "code",
      "metadata": {
        "id": "ruKhcUi4inoy",
        "colab_type": "code",
        "colab": {
          "base_uri": "https://localhost:8080/",
          "height": 68
        },
        "outputId": "843cb768-81fc-4d02-c19c-54aea39aa232"
      },
      "source": [
        "print_two(1,\"Hello\")\n",
        "print_one('Hola')\n",
        "print_none()"
      ],
      "execution_count": 69,
      "outputs": [
        {
          "output_type": "stream",
          "text": [
            "arg1: 1, arg2: 'Hello'\n",
            "arg1: 'Hola'\n",
            "This is function with no arguments\n"
          ],
          "name": "stdout"
        }
      ]
    },
    {
      "cell_type": "code",
      "metadata": {
        "id": "ZHCDHgdwiwZt",
        "colab_type": "code",
        "colab": {}
      },
      "source": [
        "# Calculator\n",
        "\n",
        "def add(a,b):\n",
        "  return a+b\n",
        "\n",
        "def subtract(a,b):\n",
        "  return a-b\n",
        "\n",
        "def multiply(a,b):\n",
        "  return a*b\n",
        "\n",
        "def divide(a,b):\n",
        "  return a/b"
      ],
      "execution_count": 70,
      "outputs": []
    },
    {
      "cell_type": "code",
      "metadata": {
        "id": "JkUpfHdMj0MD",
        "colab_type": "code",
        "colab": {
          "base_uri": "https://localhost:8080/",
          "height": 34
        },
        "outputId": "38687232-25e9-4833-9fd2-7272ea2ae556"
      },
      "source": [
        "age = add(30,5)\n",
        "height = subtract(78,4)\n",
        "weight = multiply(90,2)\n",
        "iq = divide(100,2)\n",
        "\n",
        "print (\"Age: %d, Height: %d, Weight: %d, IQ: %.2f\" %(age,height,weight,iq))\n"
      ],
      "execution_count": 71,
      "outputs": [
        {
          "output_type": "stream",
          "text": [
            "Age: 35, Height: 74, Weight: 180, IQ: 50.00\n"
          ],
          "name": "stdout"
        }
      ]
    },
    {
      "cell_type": "code",
      "metadata": {
        "id": "zej4E6nSj2Dx",
        "colab_type": "code",
        "colab": {
          "base_uri": "https://localhost:8080/",
          "height": 34
        },
        "outputId": "2fb0e819-eeee-4214-c335-ac6e42058692"
      },
      "source": [
        "print (add(age, subtract(height, multiply(weight, divide(iq,2)))))"
      ],
      "execution_count": 72,
      "outputs": [
        {
          "output_type": "stream",
          "text": [
            "-4391.0\n"
          ],
          "name": "stdout"
        }
      ]
    },
    {
      "cell_type": "markdown",
      "metadata": {
        "id": "gvqL6Y4inCCZ",
        "colab_type": "text"
      },
      "source": [
        "# **What if**"
      ]
    },
    {
      "cell_type": "code",
      "metadata": {
        "id": "OUhdTLN5liSI",
        "colab_type": "code",
        "colab": {
          "base_uri": "https://localhost:8080/",
          "height": 102
        },
        "outputId": "d84055a9-af1a-49da-9ad8-cc26d58a2636"
      },
      "source": [
        "people  = 20\n",
        "cats = 30\n",
        "dogs = 15\n",
        "\n",
        "if people < cats:\n",
        "  print (\"Too many cats! The world is doomed!\")\n",
        "\n",
        "if people > cats:\n",
        "  print (\"Not many cats! The world is saved!\")\n",
        "\n",
        "if people < dogs:\n",
        "  print (\"The world is drooled on!\")\n",
        "\n",
        "if people > dogs:\n",
        "  print (\"The world is dry!\")\n",
        "\n",
        "dogs += 5\n",
        "if people >= dogs:\n",
        "  print (\"People are greater than equal to dogs\")\n",
        "\n",
        "if people <= dogs:\n",
        "  print (\"People are less than equal to dogs\")\n",
        "\n",
        "if people == dogs:\n",
        "  print (\"People are dogs\")"
      ],
      "execution_count": 73,
      "outputs": [
        {
          "output_type": "stream",
          "text": [
            "Too many cats! The world is doomed!\n",
            "The world is dry!\n",
            "People are greater than equal to dogs\n",
            "People are less than equal to dogs\n",
            "People are dogs\n"
          ],
          "name": "stdout"
        }
      ]
    },
    {
      "cell_type": "markdown",
      "metadata": {
        "id": "G--yRdWJn3qB",
        "colab_type": "text"
      },
      "source": [
        "# **Else and If**"
      ]
    },
    {
      "cell_type": "code",
      "metadata": {
        "id": "d6_CIwJhnmXm",
        "colab_type": "code",
        "colab": {
          "base_uri": "https://localhost:8080/",
          "height": 34
        },
        "outputId": "89afddab-f384-413b-d85e-6ca799702359"
      },
      "source": [
        "people = 30\n",
        "cars = 40\n",
        "buses = 15\n",
        "\n",
        "if cars > people:\n",
        "  print (\"We should take the cars.\")\n",
        "elif cars < people:\n",
        "  print (\"We should not take the cars.\")\n",
        "else:\n",
        "  print (\"We can't decide.\")"
      ],
      "execution_count": 74,
      "outputs": [
        {
          "output_type": "stream",
          "text": [
            "We should take the cars.\n"
          ],
          "name": "stdout"
        }
      ]
    },
    {
      "cell_type": "markdown",
      "metadata": {
        "id": "GVo56BNaojS9",
        "colab_type": "text"
      },
      "source": [
        "# **Making Decsions**"
      ]
    },
    {
      "cell_type": "code",
      "metadata": {
        "id": "9f2F-sMYoc9d",
        "colab_type": "code",
        "colab": {
          "base_uri": "https://localhost:8080/",
          "height": 136
        },
        "outputId": "748d6e93-515f-421d-a451-5ff3de0f3459"
      },
      "source": [
        "print (\"You enter a dark room with two doors. Do you go through door #1 or #2?\")\n",
        "door = input(\"> \")\n",
        "\n",
        "if door == \"1\":\n",
        "  print (\"There is a giant bear here eating a cheese cake. What do you do?\")\n",
        "  print (\"1. Take the cake.\")\n",
        "  print (\"2. Scream at the bear.\")\n",
        "  bear = input(\"> \")\n",
        "  if bear == \"1\":\n",
        "    print (\"The bear eats your face off. Good job!\")\n",
        "  elif bear == \"2\":\n",
        "    print (\"The bear eats your legs off. Good job!\")\n",
        "  else:\n",
        "    print (\"Well, doing %s is probably better. Bear runs away.\" %bear)\n",
        "\n",
        "elif door == \"2\":\n",
        "  print (\"You enter the fairy land.\")\n",
        "else:\n",
        "  print (\"You stumble around and fall on something edgy and died. Good job\")\n"
      ],
      "execution_count": 75,
      "outputs": [
        {
          "output_type": "stream",
          "text": [
            "You enter a dark room with two doors. Do you go through door #1 or #2?\n",
            "> 1\n",
            "> 2\n",
            "There is a giant bear here eating a cheese cake. What do you do?\n",
            "1. Take the cake.\n",
            "2. Scream at the bear.\n",
            "The bear eats your legs off. Good job!\n"
          ],
          "name": "stdout"
        }
      ]
    },
    {
      "cell_type": "markdown",
      "metadata": {
        "id": "dYxDGuvprLTg",
        "colab_type": "text"
      },
      "source": [
        "# **Loops and Lists**"
      ]
    },
    {
      "cell_type": "code",
      "metadata": {
        "id": "6WPr5sKAqpZK",
        "colab_type": "code",
        "colab": {
          "base_uri": "https://localhost:8080/",
          "height": 493
        },
        "outputId": "8913538d-e245-4c6c-c83f-e895083c1bf5"
      },
      "source": [
        "the_count = [1,2,3,4,5]\n",
        "fruits = [\"apples\",\"oranges\",\"berries\",\"pears\",\"apricots\"]\n",
        "change = [1,'pennies',2,\"dimes\",3,'quarters']\n",
        "\n",
        "for number in the_count:\n",
        "  print (\"%d\" %number)\n",
        "\n",
        "for fruit in fruits:\n",
        "  print (\"%s\" %fruit)\n",
        "\n",
        "for i in change:\n",
        "  print (\"%r\" %i)   # use %r, since we don't know whats in it\n",
        "\n",
        "# build lists,\n",
        "elements = []\n",
        "for i in range(0,6):\n",
        "  print (\"Adding %d to list\" %i)\n",
        "  elements.append(i)\n",
        "\n",
        "for i in elements:\n",
        "  print (\"Element %d\" %i)"
      ],
      "execution_count": 76,
      "outputs": [
        {
          "output_type": "stream",
          "text": [
            "1\n",
            "2\n",
            "3\n",
            "4\n",
            "5\n",
            "apples\n",
            "oranges\n",
            "berries\n",
            "pears\n",
            "apricots\n",
            "1\n",
            "'pennies'\n",
            "2\n",
            "'dimes'\n",
            "3\n",
            "'quarters'\n",
            "Adding 0 to list\n",
            "Adding 1 to list\n",
            "Adding 2 to list\n",
            "Adding 3 to list\n",
            "Adding 4 to list\n",
            "Adding 5 to list\n",
            "Element 0\n",
            "Element 1\n",
            "Element 2\n",
            "Element 3\n",
            "Element 4\n",
            "Element 5\n"
          ],
          "name": "stdout"
        }
      ]
    },
    {
      "cell_type": "markdown",
      "metadata": {
        "id": "pYL_7g6HuU41",
        "colab_type": "text"
      },
      "source": [
        "# **While Loops**"
      ]
    },
    {
      "cell_type": "code",
      "metadata": {
        "id": "iZ4rTpJQtisv",
        "colab_type": "code",
        "colab": {
          "base_uri": "https://localhost:8080/",
          "height": 51
        },
        "outputId": "102a1668-9a00-4fef-a302-931b074e1bdd"
      },
      "source": [
        "i = 0\n",
        "nums = []\n",
        "while i < 6:\n",
        "  nums.append(i)\n",
        "  i = i+1\n",
        "\n",
        "for i in nums:\n",
        "  print (i,end=\" \") # prints on a single line\n",
        "\n",
        "print ()\n",
        "print (\"Hello\", end = \" \")\n",
        "print (\"World\")"
      ],
      "execution_count": 77,
      "outputs": [
        {
          "output_type": "stream",
          "text": [
            "0 1 2 3 4 5 \n",
            "Hello World\n"
          ],
          "name": "stdout"
        }
      ]
    },
    {
      "cell_type": "markdown",
      "metadata": {
        "id": "7vzfYpqL7a2N",
        "colab_type": "text"
      },
      "source": [
        "# **Accessing Elements of List**"
      ]
    },
    {
      "cell_type": "code",
      "metadata": {
        "id": "-MYWY5d8uygo",
        "colab_type": "code",
        "colab": {
          "base_uri": "https://localhost:8080/",
          "height": 34
        },
        "outputId": "41c960bc-1106-4e68-96b2-b62ad5d59d9d"
      },
      "source": [
        "animals = ['bear','bear','panda','zebra']\n",
        "animal = animals[2]\n",
        "print (animal)"
      ],
      "execution_count": 78,
      "outputs": [
        {
          "output_type": "stream",
          "text": [
            "panda\n"
          ],
          "name": "stdout"
        }
      ]
    },
    {
      "cell_type": "code",
      "metadata": {
        "id": "4EmYnho_7rfS",
        "colab_type": "code",
        "colab": {
          "base_uri": "https://localhost:8080/",
          "height": 34
        },
        "outputId": "100d921e-79da-4848-94e3-f0f9524dd389"
      },
      "source": [
        "animals[2] = 'Hyena'\n",
        "animal = animals[2]\n",
        "print(animal)"
      ],
      "execution_count": 79,
      "outputs": [
        {
          "output_type": "stream",
          "text": [
            "Hyena\n"
          ],
          "name": "stdout"
        }
      ]
    },
    {
      "cell_type": "code",
      "metadata": {
        "id": "QoioJLEj9MxV",
        "colab_type": "code",
        "colab": {
          "base_uri": "https://localhost:8080/",
          "height": 170
        },
        "outputId": "9f9d12d6-4c59-409f-8808-aba261d97499"
      },
      "source": [
        "ten_things = \"Apples Oranges Crows Telephone Light Sugar\"\n",
        "stuff = ten_things.split(' ')\n",
        "more_stuff = ['Day','Night','Song','Frisbee','Corn','Banana','Girl','Boy']\n",
        "\n",
        "while len(stuff) != 10:\n",
        "  next_one = more_stuff.pop()\n",
        "  print (\"Adding: \", next_one)\n",
        "  stuff.append(next_one)\n",
        "  print (\"Ther's %d items now\" % len(stuff))\n",
        "\n",
        "for s in stuff:\n",
        "  print (s, end = \" \")"
      ],
      "execution_count": 80,
      "outputs": [
        {
          "output_type": "stream",
          "text": [
            "Adding:  Boy\n",
            "Ther's 7 items now\n",
            "Adding:  Girl\n",
            "Ther's 8 items now\n",
            "Adding:  Banana\n",
            "Ther's 9 items now\n",
            "Adding:  Corn\n",
            "Ther's 10 items now\n",
            "Apples Oranges Crows Telephone Light Sugar Boy Girl Banana Corn "
          ],
          "name": "stdout"
        }
      ]
    },
    {
      "cell_type": "markdown",
      "metadata": {
        "id": "y8PUkL97DjOj",
        "colab_type": "text"
      },
      "source": [
        "# **Dictionaries**"
      ]
    },
    {
      "cell_type": "code",
      "metadata": {
        "id": "JoxJW88cBz-F",
        "colab_type": "code",
        "colab": {
          "base_uri": "https://localhost:8080/",
          "height": 34
        },
        "outputId": "bfe35b3f-7ae1-4e6b-9d38-af11adf6f78a"
      },
      "source": [
        "stuff = {'name':'Palash', 'age': 23, 'height': 180, 'emailId':'noneofyourbusiness@fk.com'}\n",
        "\n",
        "stuff['emailId']"
      ],
      "execution_count": 81,
      "outputs": [
        {
          "output_type": "execute_result",
          "data": {
            "text/plain": [
              "'noneofyourbusiness@fk.com'"
            ]
          },
          "metadata": {
            "tags": []
          },
          "execution_count": 81
        }
      ]
    },
    {
      "cell_type": "code",
      "metadata": {
        "id": "T9_iIeWWErsb",
        "colab_type": "code",
        "colab": {}
      },
      "source": [
        "stuff['Edu'] = 'Undergrad'"
      ],
      "execution_count": 82,
      "outputs": []
    },
    {
      "cell_type": "code",
      "metadata": {
        "id": "LQUvFz14EyRW",
        "colab_type": "code",
        "colab": {
          "base_uri": "https://localhost:8080/",
          "height": 102
        },
        "outputId": "b8914fd8-8fe5-4a19-b74e-da1fbec5fcc7"
      },
      "source": [
        "for i in stuff:\n",
        "  print (i , \":\" , stuff[i])"
      ],
      "execution_count": 83,
      "outputs": [
        {
          "output_type": "stream",
          "text": [
            "name : Palash\n",
            "age : 23\n",
            "height : 180\n",
            "emailId : noneofyourbusiness@fk.com\n",
            "Edu : Undergrad\n"
          ],
          "name": "stdout"
        }
      ]
    },
    {
      "cell_type": "code",
      "metadata": {
        "id": "o1Sw2rfBFNRL",
        "colab_type": "code",
        "colab": {
          "base_uri": "https://localhost:8080/",
          "height": 102
        },
        "outputId": "623d6137-2eed-42e8-e450-dc761a04da07"
      },
      "source": [
        "for k,v in stuff.items():\n",
        "  print (k , \":\", v)"
      ],
      "execution_count": 84,
      "outputs": [
        {
          "output_type": "stream",
          "text": [
            "name : Palash\n",
            "age : 23\n",
            "height : 180\n",
            "emailId : noneofyourbusiness@fk.com\n",
            "Edu : Undergrad\n"
          ],
          "name": "stdout"
        }
      ]
    },
    {
      "cell_type": "code",
      "metadata": {
        "id": "SL4obP0EFaLn",
        "colab_type": "code",
        "colab": {
          "base_uri": "https://localhost:8080/",
          "height": 34
        },
        "outputId": "70fc46bd-a4e4-4e58-aaf0-ae3ac428cf61"
      },
      "source": [
        "del stuff['emailId']\n",
        "print (stuff)"
      ],
      "execution_count": 85,
      "outputs": [
        {
          "output_type": "stream",
          "text": [
            "{'name': 'Palash', 'age': 23, 'height': 180, 'Edu': 'Undergrad'}\n"
          ],
          "name": "stdout"
        }
      ]
    },
    {
      "cell_type": "code",
      "metadata": {
        "id": "j1yThnfxFiTG",
        "colab_type": "code",
        "colab": {
          "base_uri": "https://localhost:8080/",
          "height": 34
        },
        "outputId": "827e8ac6-7d3d-49b8-ddb9-190e2ab716d7"
      },
      "source": [
        "name = stuff.get('Salary',\"Salary not present\")\n",
        "print (name)"
      ],
      "execution_count": 86,
      "outputs": [
        {
          "output_type": "stream",
          "text": [
            "Salary not present\n"
          ],
          "name": "stdout"
        }
      ]
    },
    {
      "cell_type": "markdown",
      "metadata": {
        "id": "xwsyNXGQLxKK",
        "colab_type": "text"
      },
      "source": [
        "# **Modules,Classes, and Objects**"
      ]
    },
    {
      "cell_type": "code",
      "metadata": {
        "id": "85IcXaYZGQ_j",
        "colab_type": "code",
        "colab": {
          "base_uri": "https://localhost:8080/",
          "height": 34
        },
        "outputId": "e31c5803-d0d7-4869-feb9-c17786f034b0"
      },
      "source": [
        "class MyStuff(object):\n",
        "  def __init__(self):\n",
        "    self.coldplay = \"Fixing up a car to drive in it again.\"\n",
        "  \n",
        "  def upAndUp(self):\n",
        "    print (self.coldplay)\n",
        "\n",
        "sing = MyStuff()\n",
        "sing.upAndUp()"
      ],
      "execution_count": 87,
      "outputs": [
        {
          "output_type": "stream",
          "text": [
            "Fixing up a car to drive in it again.\n"
          ],
          "name": "stdout"
        }
      ]
    },
    {
      "cell_type": "code",
      "metadata": {
        "id": "1xsCaJydUSmq",
        "colab_type": "code",
        "colab": {}
      },
      "source": [
        "# Class Example\n",
        "\n",
        "class Song(object):\n",
        "  def __init__(self,lyrics):\n",
        "    self.lyrics = lyrics\n",
        "  \n",
        "  def sing(self):\n",
        "    for line in self.lyrics:\n",
        "      print (line)"
      ],
      "execution_count": 88,
      "outputs": []
    },
    {
      "cell_type": "code",
      "metadata": {
        "id": "LsZlXecaVIWV",
        "colab_type": "code",
        "colab": {
          "base_uri": "https://localhost:8080/",
          "height": 85
        },
        "outputId": "8af71892-dc80-4e6e-a0c0-375192a81ec6"
      },
      "source": [
        "coldplay = Song([\"Fixing up a car to drive in it again\",\"Searching for the water,hoping for the rain\",\"Up and up\",\"Up and up\"])\n",
        "coldplay.sing()"
      ],
      "execution_count": 89,
      "outputs": [
        {
          "output_type": "stream",
          "text": [
            "Fixing up a car to drive in it again\n",
            "Searching for the water,hoping for the rain\n",
            "Up and up\n",
            "Up and up\n"
          ],
          "name": "stdout"
        }
      ]
    },
    {
      "cell_type": "code",
      "metadata": {
        "id": "mz_WTe_eV-eR",
        "colab_type": "code",
        "colab": {
          "base_uri": "https://localhost:8080/",
          "height": 85
        },
        "outputId": "f7208375-737d-4bc2-f5e8-cb648dbb3db4"
      },
      "source": [
        "fix_you = Song([\"When you try your best but you don't succeed\",\"When you get what you want but not what you need\",\"When you feel so tired but you can't sleep\",\"Stuck in reverse\"])\n",
        "fix_you.sing()"
      ],
      "execution_count": 90,
      "outputs": [
        {
          "output_type": "stream",
          "text": [
            "When you try your best but you don't succeed\n",
            "When you get what you want but not what you need\n",
            "When you feel so tired but you can't sleep\n",
            "Stuck in reverse\n"
          ],
          "name": "stdout"
        }
      ]
    },
    {
      "cell_type": "code",
      "metadata": {
        "id": "j8br6nwYXM2L",
        "colab_type": "code",
        "colab": {}
      },
      "source": [
        "class Animal(object):\n",
        "  pass\n",
        "\n",
        "class Dog(Animal):\n",
        "  def __init__(self,name):\n",
        "    self.name = name\n",
        "  \n",
        "class Cat(Animal):\n",
        "  def __init__(self,name):\n",
        "    self.name = name\n",
        "\n",
        "class Person(object):\n",
        "  def __init__(self,name):\n",
        "    self.name = name\n",
        "    self.pet = None\n",
        "\n",
        "class Employee(Person):\n",
        "  def __init__(self,name,salary):\n",
        "    super(Employee,self).__init__(name)\n",
        "    self.salary = salary\n",
        "\n",
        "class Fish(object):\n",
        "  pass\n",
        "\n",
        "class Salmon(Fish):\n",
        "  pass\n",
        "\n",
        "class Halibut(Fish):\n",
        "  pass\n",
        "\n",
        "rover = Dog(\"rover\")\n",
        "satan = Cat(\"satan\")\n",
        "mary = Person(\"Mary\")\n",
        "mary.pet = satan\n",
        "frank = Employee(\"Frank\",120000)\n",
        "frank.pet = rover\n",
        "flipper = Fish()\n",
        "crouse = Salmon()\n",
        "harry = Halibut()\n",
        "\n"
      ],
      "execution_count": 91,
      "outputs": []
    },
    {
      "cell_type": "markdown",
      "metadata": {
        "id": "WlMg4eg5ls1h",
        "colab_type": "text"
      },
      "source": [
        "# **Data Hiding**"
      ]
    },
    {
      "cell_type": "code",
      "metadata": {
        "id": "Onz1Z7EKiCLM",
        "colab_type": "code",
        "colab": {
          "base_uri": "https://localhost:8080/",
          "height": 34
        },
        "outputId": "cb801ee0-c205-4f33-8967-e55f13deb3cb"
      },
      "source": [
        "# use double underscore Or(__) before the variable names to hide it i.e to make it private, so that those attributre will not be visbile outside\n",
        "class MyClass:\n",
        "  __moveBy = 0\n",
        "\n",
        "  def set(self,increment):\n",
        "    self.__moveBy += increment\n",
        "  def get(self):\n",
        "    return self.__moveBy\n",
        "\n",
        "mobj = MyClass()\n",
        "mobj.set(15)\n",
        "left = mobj.get()\n",
        "print (left)\n",
        "# print (mobj.__moveBy) # this will give error as __moveBy is a private variable "
      ],
      "execution_count": 92,
      "outputs": [
        {
          "output_type": "stream",
          "text": [
            "15\n"
          ],
          "name": "stdout"
        }
      ]
    },
    {
      "cell_type": "markdown",
      "metadata": {
        "id": "xjaYaLyx0BLb",
        "colab_type": "text"
      },
      "source": [
        "# **Inheritance**"
      ]
    },
    {
      "cell_type": "code",
      "metadata": {
        "id": "pCXjUB7ruMSe",
        "colab_type": "code",
        "colab": {
          "base_uri": "https://localhost:8080/",
          "height": 51
        },
        "outputId": "56838334-18e6-4ed5-ea36-fa1e5eb2a257"
      },
      "source": [
        "# Implicit Inheritance\n",
        "class Parent:\n",
        "  def implicit(self):\n",
        "    print (\"Parent's implicit\")\n",
        "\n",
        "class Child(Parent):\n",
        "  pass\n",
        "\n",
        "d = Parent()\n",
        "s = Child()\n",
        "d.implicit()\n",
        "s.implicit()"
      ],
      "execution_count": 93,
      "outputs": [
        {
          "output_type": "stream",
          "text": [
            "Parent's implicit\n",
            "Parent's implicit\n"
          ],
          "name": "stdout"
        }
      ]
    },
    {
      "cell_type": "code",
      "metadata": {
        "id": "Yiz5hcUB0fHT",
        "colab_type": "code",
        "colab": {
          "base_uri": "https://localhost:8080/",
          "height": 51
        },
        "outputId": "d18042a1-ffda-401d-8060-0130ec4892da"
      },
      "source": [
        "# Override Explicitly\n",
        "class Parent:\n",
        "  def override(self):\n",
        "    print (\"Inside Parent\")\n",
        "\n",
        "class Child:\n",
        "  def override(self):\n",
        "    print (\"Inside Child\")\n",
        "  \n",
        "d = Parent()\n",
        "s = Child()\n",
        "d.override()\n",
        "s.override()"
      ],
      "execution_count": 94,
      "outputs": [
        {
          "output_type": "stream",
          "text": [
            "Inside Parent\n",
            "Inside Child\n"
          ],
          "name": "stdout"
        }
      ]
    },
    {
      "cell_type": "code",
      "metadata": {
        "id": "0BZ_ZlAN1Onm",
        "colab_type": "code",
        "colab": {
          "base_uri": "https://localhost:8080/",
          "height": 136
        },
        "outputId": "73a2c106-4947-4b88-b4ce-b9ddd00826d6"
      },
      "source": [
        "# Alter before or after\n",
        "class Parent:\n",
        "  def altered(self):\n",
        "    print (\"Parent Altered\")\n",
        "  \n",
        "class Child(Parent):\n",
        "  def altered(self):\n",
        "    print (\"Child Altered\")\n",
        "    super(Child,self).altered()\n",
        "    print (\"Child Altered\")\n",
        "\n",
        "d = Parent()\n",
        "s = Child()\n",
        "print (\"-\"*10)\n",
        "d.altered()\n",
        "print (\"-\"*10)\n",
        "s.altered()\n",
        "print (\"-\"*10)"
      ],
      "execution_count": 95,
      "outputs": [
        {
          "output_type": "stream",
          "text": [
            "----------\n",
            "Parent Altered\n",
            "----------\n",
            "Child Altered\n",
            "Parent Altered\n",
            "Child Altered\n",
            "----------\n"
          ],
          "name": "stdout"
        }
      ]
    },
    {
      "cell_type": "code",
      "metadata": {
        "id": "570Lkyra5kle",
        "colab_type": "code",
        "colab": {
          "base_uri": "https://localhost:8080/",
          "height": 102
        },
        "outputId": "58aba3e6-38ff-46cc-834d-e297a2848beb"
      },
      "source": [
        "# Multiple Inheritance\n",
        "class Base1:\n",
        "  def __init__(self):\n",
        "    self.str1 = \"Geek1\"\n",
        "    print (\"Base1\")\n",
        "\n",
        "class Base2:\n",
        "  def __init__(self):\n",
        "    self.str2 = \"Geek2\"\n",
        "    print (\"Base2\")\n",
        "\n",
        "class Derived(Base1,Base2):\n",
        "  def __init__(self):\n",
        "    Base1.__init__(self)\n",
        "    Base2.__init__(self)\n",
        "    print (\"Derived\")\n",
        "  \n",
        "  def printStrs(self):\n",
        "    print (self.str1)\n",
        "    print (self.str2)\n",
        "\n",
        "ob = Derived()\n",
        "ob.printStrs()"
      ],
      "execution_count": 96,
      "outputs": [
        {
          "output_type": "stream",
          "text": [
            "Base1\n",
            "Base2\n",
            "Derived\n",
            "Geek1\n",
            "Geek2\n"
          ],
          "name": "stdout"
        }
      ]
    },
    {
      "cell_type": "code",
      "metadata": {
        "id": "dV4I62NN84Jk",
        "colab_type": "code",
        "colab": {
          "base_uri": "https://localhost:8080/",
          "height": 68
        },
        "outputId": "fb1daf3a-21b5-4288-cb10-e2fa8eacda2c"
      },
      "source": [
        "class X:\n",
        "  def __init__(self,a):\n",
        "    self.num = a\n",
        "  def doubleUp(self):\n",
        "    self.num *= 2\n",
        "  \n",
        "class Y(X):\n",
        "  def __init__(self,a):\n",
        "    X.__init__(self,a)\n",
        "  def tripleUp(self):\n",
        "    self.num *= 3\n",
        "  \n",
        "ob = Y(4)\n",
        "print (ob.num)\n",
        "\n",
        "ob.doubleUp()\n",
        "print (ob.num)\n",
        "\n",
        "ob.tripleUp()\n",
        "print (ob.num)\n"
      ],
      "execution_count": 97,
      "outputs": [
        {
          "output_type": "stream",
          "text": [
            "4\n",
            "8\n",
            "24\n"
          ],
          "name": "stdout"
        }
      ]
    },
    {
      "cell_type": "code",
      "metadata": {
        "id": "Az7HKSD__E_E",
        "colab_type": "code",
        "colab": {
          "base_uri": "https://localhost:8080/",
          "height": 34
        },
        "outputId": "0317484e-3b01-4811-a9c1-5971c59ab339"
      },
      "source": [
        "class Person:\n",
        "  def __init__(self,name):\n",
        "    self.name = name\n",
        "\n",
        "  def getName(self):\n",
        "    return self.name\n",
        "\n",
        "  def isEmployee(self):\n",
        "    return False\n",
        "\n",
        "class Employee(Person):\n",
        "  def __init__(self,name,eid):\n",
        "    super().__init__(name)  # in python 3.0+ can be used like this\n",
        "    self.empId = eid\n",
        "  \n",
        "  def isEmployee(self):\n",
        "    return True\n",
        "  \n",
        "  def getId(self):\n",
        "    return self.empId\n",
        "\n",
        "emp = Employee(\"Palash\",\"CS101\")\n",
        "print (emp.getName(), emp.getId(), emp.isEmployee())\n"
      ],
      "execution_count": 98,
      "outputs": [
        {
          "output_type": "stream",
          "text": [
            "Palash CS101 True\n"
          ],
          "name": "stdout"
        }
      ]
    }
  ]
}