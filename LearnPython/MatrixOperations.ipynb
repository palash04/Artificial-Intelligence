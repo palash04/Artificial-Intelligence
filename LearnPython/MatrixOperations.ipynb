{
  "nbformat": 4,
  "nbformat_minor": 0,
  "metadata": {
    "colab": {
      "name": "MatrixOperations.ipynb",
      "provenance": [],
      "authorship_tag": "ABX9TyN6Yn8t/q99xU1jGt1Z5859",
      "include_colab_link": true
    },
    "kernelspec": {
      "name": "python3",
      "display_name": "Python 3"
    }
  },
  "cells": [
    {
      "cell_type": "markdown",
      "metadata": {
        "id": "view-in-github",
        "colab_type": "text"
      },
      "source": [
        "<a href=\"https://colab.research.google.com/github/palash04/Artificial-Intelligence/blob/master/LearnPython/MatrixOperations.ipynb\" target=\"_parent\"><img src=\"https://colab.research.google.com/assets/colab-badge.svg\" alt=\"Open In Colab\"/></a>"
      ]
    },
    {
      "cell_type": "code",
      "metadata": {
        "id": "Yeqdue3zqdHQ",
        "colab_type": "code",
        "colab": {
          "base_uri": "https://localhost:8080/",
          "height": 51
        },
        "outputId": "a18ccc57-29b8-4382-c4a8-2f03960e0e3a"
      },
      "source": [
        "# Matrix representation in python\n",
        "# In order to represent a matrix in python, we difine a list of lists\n",
        "# Ex. 4x5 matrix would look like\n",
        "\n",
        "first_row = [1,2,3,4,5]\n",
        "second_row = [4,5,6,7,8]\n",
        "third_row = [2,3,8,9,1]\n",
        "fourth_row = [2,2,2,7,8]\n",
        "\n",
        "matrix = [first_row, second_row, third_row, fourth_row]\n",
        "print (matrix)\n",
        "print (matrix[1][2])\n"
      ],
      "execution_count": 2,
      "outputs": [
        {
          "output_type": "stream",
          "text": [
            "[[1, 2, 3, 4, 5], [4, 5, 6, 7, 8], [2, 3, 8, 9, 1], [2, 2, 2, 7, 8]]\n",
            "6\n"
          ],
          "name": "stdout"
        }
      ]
    },
    {
      "cell_type": "code",
      "metadata": {
        "id": "lOB5IQB6rS2g",
        "colab_type": "code",
        "colab": {
          "base_uri": "https://localhost:8080/",
          "height": 34
        },
        "outputId": "c81cd09f-263d-476d-c91f-bcfe13c3d096"
      },
      "source": [
        "# more precise way \n",
        "matrix = [\n",
        "  [1,2,3,4,5],\n",
        "  [2,3,4,5,6],\n",
        "  [4,5,6,7,8],\n",
        "  [2,1,7,8,8]\n",
        "]\n",
        "print (matrix)"
      ],
      "execution_count": 4,
      "outputs": [
        {
          "output_type": "stream",
          "text": [
            "[[1, 2, 3, 4, 5], [2, 3, 4, 5, 6], [4, 5, 6, 7, 8], [2, 1, 7, 8, 8]]\n"
          ],
          "name": "stdout"
        }
      ]
    },
    {
      "cell_type": "code",
      "metadata": {
        "id": "dSa3-G3artqs",
        "colab_type": "code",
        "colab": {}
      },
      "source": [
        "# v is list\n",
        "v = [1,2,3,4,5]\n",
        "\n",
        "# v can also be thought of as 1x5 matrix\n",
        "# to that make it a list of list\n",
        "mat = [[1,2,3,4,5]] # or simply mat = [v]\n"
      ],
      "execution_count": 5,
      "outputs": []
    },
    {
      "cell_type": "code",
      "metadata": {
        "id": "TH2qti_8sPv0",
        "colab_type": "code",
        "colab": {
          "base_uri": "https://localhost:8080/",
          "height": 34
        },
        "outputId": "977ab205-d903-44a4-8ba2-341cd387090a"
      },
      "source": [
        "m = len(matrix)\n",
        "n = len(matrix[0])\n",
        "print (m,n)"
      ],
      "execution_count": 7,
      "outputs": [
        {
          "output_type": "stream",
          "text": [
            "4 5\n"
          ],
          "name": "stdout"
        }
      ]
    },
    {
      "cell_type": "code",
      "metadata": {
        "id": "aImhIYNet5OI",
        "colab_type": "code",
        "colab": {
          "base_uri": "https://localhost:8080/",
          "height": 34
        },
        "outputId": "cd4a5c00-2e39-471e-d0de-386a66e68bbe"
      },
      "source": [
        "# matrix scalar multiplication\n",
        "# multiply each element of matrix by 5\n",
        "r = []\n",
        "for i in range(m):\n",
        "    rs = []\n",
        "    for j in range(n):\n",
        "      rs.append(matrix[i][j]*5)\n",
        "    r.append(rs)\n",
        "\n",
        "print (r)"
      ],
      "execution_count": 10,
      "outputs": [
        {
          "output_type": "stream",
          "text": [
            "[[5, 10, 15, 20, 25], [10, 15, 20, 25, 30], [20, 25, 30, 35, 40], [10, 5, 35, 40, 40]]\n"
          ],
          "name": "stdout"
        }
      ]
    },
    {
      "cell_type": "code",
      "metadata": {
        "id": "5_RU3z6ouYdY",
        "colab_type": "code",
        "colab": {
          "base_uri": "https://localhost:8080/",
          "height": 85
        },
        "outputId": "36261b92-c194-4d42-b426-ef0646c4e1bc"
      },
      "source": [
        "def matrix_print(matrix):\n",
        "    k = len(matrix)\n",
        "    l = len(matrix[0])\n",
        "    for i in range(k):\n",
        "        for j in range(l):\n",
        "            print (matrix[i][j], end=\" \")\n",
        "        print ()\n",
        "    return\n",
        "\n",
        "matrix_print(r)"
      ],
      "execution_count": 12,
      "outputs": [
        {
          "output_type": "stream",
          "text": [
            "5 10 15 20 25 \n",
            "10 15 20 25 30 \n",
            "20 25 30 35 40 \n",
            "10 5 35 40 40 \n"
          ],
          "name": "stdout"
        }
      ]
    },
    {
      "cell_type": "code",
      "metadata": {
        "id": "FINWT2eJvJHI",
        "colab_type": "code",
        "colab": {}
      },
      "source": [
        "# Matrix addition\n",
        "# add matrix matrix + r\n",
        "\n",
        "def matrix_addition(matrixA,matrixB):\n",
        "  matrixSum = []\n",
        "    \n",
        "  m = len(matrixA)\n",
        "  n = len(matrixA[0])\n",
        "    \n",
        "  for i in range(m):\n",
        "      row = []\n",
        "      for j in range(n):\n",
        "          row.append(matrixA[i][j] + matrixB[i][j])\n",
        "      matrixSum.append(row)\n",
        "  return matrixSum"
      ],
      "execution_count": 14,
      "outputs": []
    },
    {
      "cell_type": "code",
      "metadata": {
        "id": "S-1527HnvvYg",
        "colab_type": "code",
        "colab": {
          "base_uri": "https://localhost:8080/",
          "height": 34
        },
        "outputId": "f4711aed-9999-4e6e-be79-782e7d497251"
      },
      "source": [
        "matrix_add = matrix_addition(matrix,r)\n",
        "print (matrix_add)"
      ],
      "execution_count": 15,
      "outputs": [
        {
          "output_type": "stream",
          "text": [
            "[[6, 12, 18, 24, 30], [12, 18, 24, 30, 36], [24, 30, 36, 42, 48], [12, 6, 42, 48, 48]]\n"
          ],
          "name": "stdout"
        }
      ]
    },
    {
      "cell_type": "code",
      "metadata": {
        "id": "2q7T7kKkxQ4a",
        "colab_type": "code",
        "colab": {}
      },
      "source": [
        "# Matrix Multiplication\n",
        "\n",
        "matrixA = [\n",
        "  [2, 1, 8, 2, 1],\n",
        "  [5, 6, 4, 2, 1]\n",
        "]\n",
        "\n",
        "matrixB = [\n",
        "  [1, 7, 2], \n",
        "  [2, 6, 3], \n",
        "  [3, 1, 1], \n",
        "  [1, 20, 1], \n",
        "  [7, 4, 16]\n",
        "]"
      ],
      "execution_count": 16,
      "outputs": []
    },
    {
      "cell_type": "code",
      "metadata": {
        "id": "NGaett6Y3fO4",
        "colab_type": "code",
        "colab": {}
      },
      "source": [
        "def get_row(matrix, row_number):\n",
        "  return matrix[row_number]\n",
        "\n",
        "def get_column(matrix, column_number):\n",
        "  col = []\n",
        "  for i in range(len(matrix)):\n",
        "    col.append(matrix[i][column_number])\n",
        "  return col"
      ],
      "execution_count": 17,
      "outputs": []
    },
    {
      "cell_type": "code",
      "metadata": {
        "id": "t_LLgbfZ3yHO",
        "colab_type": "code",
        "colab": {}
      },
      "source": [
        "def dot_product(vectora,vectorb):\n",
        "  return sum([x*y for x,y in zip(vectora,vectorb)]) # see python basics if got confused here"
      ],
      "execution_count": 18,
      "outputs": []
    },
    {
      "cell_type": "code",
      "metadata": {
        "id": "u14PZVtr4CMH",
        "colab_type": "code",
        "colab": {}
      },
      "source": [
        "# (MxN) x (NxP) = (MxP)\n",
        "def matrix_multiplication(matrixA,matrixB):\n",
        "  m_rows = len(matrixA)\n",
        "  p_columns = len(matrixB[0])\n",
        "\n",
        "  result = []   # stores the result matrix\n",
        "\n",
        "  for i in range(m_rows):\n",
        "    row_result = []\n",
        "    for j in range(p_columns):\n",
        "      vectora = get_row(matrixA,i)\n",
        "      vectorb = get_column(matrixB,j)\n",
        "      row_result.append(dot_product(vectora,vectorb))\n",
        "    result.append(row_result)\n",
        "  return result"
      ],
      "execution_count": 19,
      "outputs": []
    },
    {
      "cell_type": "code",
      "metadata": {
        "id": "MThtkTFW4tXL",
        "colab_type": "code",
        "colab": {
          "base_uri": "https://localhost:8080/",
          "height": 51
        },
        "outputId": "b458663a-95d3-4cc6-8f28-68a51b9b348b"
      },
      "source": [
        "matrix_mul_res = matrix_multiplication(matrixA,matrixB)\n",
        "matrix_print(matrix_mul_res)"
      ],
      "execution_count": 20,
      "outputs": [
        {
          "output_type": "stream",
          "text": [
            "37 72 33 \n",
            "38 119 50 \n"
          ],
          "name": "stdout"
        }
      ]
    },
    {
      "cell_type": "code",
      "metadata": {
        "id": "MVEXDvFc47FH",
        "colab_type": "code",
        "colab": {}
      },
      "source": [
        "# Transpose of Matrix\n",
        "def transpose(matrix):\n",
        "  matrix_transpose = []\n",
        "  rows = len(matrix)\n",
        "  cols = len(matrix[0])\n",
        "  for i in range(cols):\n",
        "      row_result = []\n",
        "      for j in range(rows):\n",
        "          row_result.append(matrix[j][i])\n",
        "      matrix_transpose.append(row_result)\n",
        "  return matrix_transpose"
      ],
      "execution_count": 21,
      "outputs": []
    },
    {
      "cell_type": "code",
      "metadata": {
        "id": "DsCPEY539tNM",
        "colab_type": "code",
        "colab": {
          "base_uri": "https://localhost:8080/",
          "height": 204
        },
        "outputId": "e4fe5212-f910-4ca8-86b8-f61e6995af4f"
      },
      "source": [
        "print (\"-\"*10)\n",
        "matrix_print(matrix)\n",
        "transposeM = transpose(matrix)\n",
        "print (\"-\"*10)\n",
        "matrix_print(transposeM)"
      ],
      "execution_count": 22,
      "outputs": [
        {
          "output_type": "stream",
          "text": [
            "----------\n",
            "1 2 3 4 5 \n",
            "2 3 4 5 6 \n",
            "4 5 6 7 8 \n",
            "2 1 7 8 8 \n",
            "----------\n",
            "1 2 4 2 \n",
            "2 3 5 1 \n",
            "3 4 6 7 \n",
            "4 5 7 8 \n",
            "5 6 8 8 \n"
          ],
          "name": "stdout"
        }
      ]
    },
    {
      "cell_type": "code",
      "metadata": {
        "id": "tZROIV8l98Aw",
        "colab_type": "code",
        "colab": {}
      },
      "source": [
        "# Matrix Multiplication using AB^T (A * transpose_of_B)\n",
        "\n",
        "def matrix_mult(matrixA,matrixB):\n",
        "  transposeB = transpose(matrixB)\n",
        "  product = []\n",
        "  for i in range(len(matrixA)):\n",
        "    row_result = []\n",
        "    for j in range(len(transposeB)):\n",
        "      dp = dot_product(matrixA[i],transposeB[j])\n",
        "      row_result.append(dp)\n",
        "    product.append(row_result)\n",
        "  return product"
      ],
      "execution_count": 25,
      "outputs": []
    },
    {
      "cell_type": "code",
      "metadata": {
        "id": "zvvGajb5-03r",
        "colab_type": "code",
        "colab": {}
      },
      "source": [
        "res1 = matrix_multiplication(matrixA,matrixB)\n",
        "res2 = matrix_mult(matrixA,matrixB)\n",
        "\n",
        "assert res1 == res2 # checks if both matrices are same"
      ],
      "execution_count": 28,
      "outputs": []
    },
    {
      "cell_type": "code",
      "metadata": {
        "id": "7veEwaOG--NF",
        "colab_type": "code",
        "colab": {
          "base_uri": "https://localhost:8080/",
          "height": 51
        },
        "outputId": "c4a263dd-4e7d-456d-e140-492b2b90eeb7"
      },
      "source": [
        "matA = [[3,-2],[1,0]]\n",
        "matB = [[-1,1]]\n",
        "res_mat = matrix_mult(matA,matB)\n",
        "matrix_print(res_mat)"
      ],
      "execution_count": 30,
      "outputs": [
        {
          "output_type": "stream",
          "text": [
            "-3 3 \n",
            "-1 1 \n"
          ],
          "name": "stdout"
        }
      ]
    },
    {
      "cell_type": "code",
      "metadata": {
        "id": "uUQqx4yfEuIt",
        "colab_type": "code",
        "colab": {}
      },
      "source": [
        ""
      ],
      "execution_count": 34,
      "outputs": []
    }
  ]
}