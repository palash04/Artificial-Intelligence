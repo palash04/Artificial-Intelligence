{
  "nbformat": 4,
  "nbformat_minor": 0,
  "metadata": {
    "colab": {
      "name": "LinkedList.ipynb",
      "provenance": [],
      "authorship_tag": "ABX9TyN+25zkcaHQPTiR9BNVgH+A",
      "include_colab_link": true
    },
    "kernelspec": {
      "name": "python3",
      "display_name": "Python 3"
    }
  },
  "cells": [
    {
      "cell_type": "markdown",
      "metadata": {
        "id": "view-in-github",
        "colab_type": "text"
      },
      "source": [
        "<a href=\"https://colab.research.google.com/github/palash04/Artificial-Intelligence/blob/master/LearnPython/DSA/LinkedList.ipynb\" target=\"_parent\"><img src=\"https://colab.research.google.com/assets/colab-badge.svg\" alt=\"Open In Colab\"/></a>"
      ]
    },
    {
      "cell_type": "markdown",
      "metadata": {
        "id": "-QTlThTujjp5",
        "colab_type": "text"
      },
      "source": [
        "# **Singly Linked List**"
      ]
    },
    {
      "cell_type": "code",
      "metadata": {
        "id": "hh47CLR0jgzb",
        "colab_type": "code",
        "colab": {}
      },
      "source": [
        "class SLL:\n",
        "  def __init__(self,val):\n",
        "    self.val = val\n",
        "    self.next = None"
      ],
      "execution_count": 5,
      "outputs": []
    },
    {
      "cell_type": "code",
      "metadata": {
        "id": "Luucb56ilDOv",
        "colab_type": "code",
        "colab": {}
      },
      "source": [
        "def printList(head):\n",
        "  temp = head\n",
        "  while temp != None:\n",
        "    print (temp.val, end = \"->\")\n",
        "    temp = temp.next\n",
        "  print (\"Null\")"
      ],
      "execution_count": 15,
      "outputs": []
    },
    {
      "cell_type": "code",
      "metadata": {
        "id": "jFYeqjCGlLza",
        "colab_type": "code",
        "colab": {}
      },
      "source": [
        "def addAtBeg(head,value):\n",
        "  if head == None:\n",
        "    head = SLL(value)\n",
        "    return head\n",
        "  else:\n",
        "    temp = SLL(value)\n",
        "    temp.next = head\n",
        "    head = temp\n",
        "    return head\n",
        "\n",
        "def addAtEnd(head,value):\n",
        "  if head == None:\n",
        "    head = SLL(value)\n",
        "    return head\n",
        "  else:\n",
        "    temp = head\n",
        "    while temp.next != None:\n",
        "      temp = temp.next\n",
        "    newNode = SLL(value)\n",
        "    temp.next = newNode\n",
        "    return head\n",
        "  \n",
        "def addAtIndex(head,value,index):\n",
        "  if index == 0:\n",
        "    return addAtBeg(head,value)\n",
        "  temp = head\n",
        "  for i in range(index-1):\n",
        "    if temp == None:\n",
        "      return None # can't add at given index, index out of range\n",
        "    temp = temp.next\n",
        "  newNode = SLL(value)\n",
        "  newNode.next = temp.next\n",
        "  temp.next = newNode\n",
        "  return head"
      ],
      "execution_count": 21,
      "outputs": []
    },
    {
      "cell_type": "code",
      "metadata": {
        "id": "gDlT_lwOoPxL",
        "colab_type": "code",
        "colab": {
          "base_uri": "https://localhost:8080/",
          "height": 85
        },
        "outputId": "771463bf-48e9-4348-a436-3da3b2a5bb53"
      },
      "source": [
        "head = None\n",
        "head = addAtBeg(head,2)\n",
        "head = addAtBeg(head,3)\n",
        "head = addAtBeg(head,4)\n",
        "printList(head)\n",
        "\n",
        "head = addAtEnd(head,5)\n",
        "head = addAtEnd(head,6)\n",
        "printList(head)\n",
        "\n",
        "head = addAtIndex(head,10,2)\n",
        "printList(head)\n",
        "\n",
        "head = addAtIndex(head,12,10)\n",
        "if head == None:\n",
        "  print (\"Can't insert. Index out of range\")\n",
        "else:\n",
        "  printList(head)"
      ],
      "execution_count": 23,
      "outputs": [
        {
          "output_type": "stream",
          "text": [
            "4->3->2->Null\n",
            "4->3->2->5->6->Null\n",
            "4->3->10->2->5->6->Null\n",
            "Can't insert. Index out of range\n"
          ],
          "name": "stdout"
        }
      ]
    },
    {
      "cell_type": "markdown",
      "metadata": {
        "id": "f7VHgFrNvxgR",
        "colab_type": "text"
      },
      "source": [
        "# **Doubly Linked List**"
      ]
    },
    {
      "cell_type": "code",
      "metadata": {
        "id": "tiH9X6LnoYzG",
        "colab_type": "code",
        "colab": {}
      },
      "source": [
        "class DLL:\n",
        "  def __init__(self,val):\n",
        "    self.val = val\n",
        "    self.next = None\n",
        "    self.prev = None"
      ],
      "execution_count": 25,
      "outputs": []
    }
  ]
}