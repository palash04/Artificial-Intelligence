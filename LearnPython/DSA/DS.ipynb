{
  "nbformat": 4,
  "nbformat_minor": 0,
  "metadata": {
    "colab": {
      "name": "DS.ipynb",
      "provenance": [],
      "authorship_tag": "ABX9TyMh+e/UEzYYOAdofYxC/7Tu",
      "include_colab_link": true
    },
    "kernelspec": {
      "name": "python3",
      "display_name": "Python 3"
    }
  },
  "cells": [
    {
      "cell_type": "markdown",
      "metadata": {
        "id": "view-in-github",
        "colab_type": "text"
      },
      "source": [
        "<a href=\"https://colab.research.google.com/github/palash04/Artificial-Intelligence/blob/master/LearnPython/DSA/DS.ipynb\" target=\"_parent\"><img src=\"https://colab.research.google.com/assets/colab-badge.svg\" alt=\"Open In Colab\"/></a>"
      ]
    },
    {
      "cell_type": "markdown",
      "metadata": {
        "id": "FyMNbKcEggkx",
        "colab_type": "text"
      },
      "source": [
        "# **Python List**"
      ]
    },
    {
      "cell_type": "code",
      "metadata": {
        "id": "gu-nNW_uf7wU",
        "colab_type": "code",
        "colab": {
          "base_uri": "https://localhost:8080/",
          "height": 34
        },
        "outputId": "2cd29d22-a49b-4ed1-84a9-d5599647ed7b"
      },
      "source": [
        "listA = []  # creating a list\n",
        "listA.append(2)\n",
        "listA.append(4)\n",
        "listA.append(8)\n",
        "listA.append(16)\n",
        "\n",
        "print (listA)"
      ],
      "execution_count": 22,
      "outputs": [
        {
          "output_type": "stream",
          "text": [
            "[2, 4, 8, 16]\n"
          ],
          "name": "stdout"
        }
      ]
    },
    {
      "cell_type": "code",
      "metadata": {
        "id": "U51QmNM7gNz0",
        "colab_type": "code",
        "colab": {
          "base_uri": "https://localhost:8080/",
          "height": 34
        },
        "outputId": "a760d660-e8d9-42dc-8cb6-edde9b014c28"
      },
      "source": [
        "listB = []\n",
        "listB.append(64)\n",
        "listB.append(128)\n",
        "listB.append(512)\n",
        "\n",
        "print (listB)"
      ],
      "execution_count": 23,
      "outputs": [
        {
          "output_type": "stream",
          "text": [
            "[64, 128, 512]\n"
          ],
          "name": "stdout"
        }
      ]
    },
    {
      "cell_type": "code",
      "metadata": {
        "id": "Ik2Am0p5gWNz",
        "colab_type": "code",
        "colab": {
          "base_uri": "https://localhost:8080/",
          "height": 34
        },
        "outputId": "a60d91ee-0a31-4d48-c82e-27f511359bca"
      },
      "source": [
        "# append one list to another\n",
        "listA.extend(listB)\n",
        "print (listA)"
      ],
      "execution_count": 24,
      "outputs": [
        {
          "output_type": "stream",
          "text": [
            "[2, 4, 8, 16, 64, 128, 512]\n"
          ],
          "name": "stdout"
        }
      ]
    },
    {
      "cell_type": "code",
      "metadata": {
        "id": "4vaVyjR_gqFZ",
        "colab_type": "code",
        "colab": {
          "base_uri": "https://localhost:8080/",
          "height": 34
        },
        "outputId": "1a460bd7-0464-4a61-d324-dddda7ed8fcd"
      },
      "source": [
        "# insert in the list\n",
        "listA.insert(4,32)\n",
        "print (listA)"
      ],
      "execution_count": 25,
      "outputs": [
        {
          "output_type": "stream",
          "text": [
            "[2, 4, 8, 16, 32, 64, 128, 512]\n"
          ],
          "name": "stdout"
        }
      ]
    },
    {
      "cell_type": "code",
      "metadata": {
        "id": "bC6lWleMgw7O",
        "colab_type": "code",
        "colab": {
          "base_uri": "https://localhost:8080/",
          "height": 51
        },
        "outputId": "4c96c6eb-e584-4f9d-935d-643564315423"
      },
      "source": [
        "# removing items\n",
        "listA.pop(0)  # removes first item\n",
        "print (listA)\n",
        "\n",
        "listA.pop(-2) # removes second last item\n",
        "print (listA)"
      ],
      "execution_count": 26,
      "outputs": [
        {
          "output_type": "stream",
          "text": [
            "[4, 8, 16, 32, 64, 128, 512]\n",
            "[4, 8, 16, 32, 64, 512]\n"
          ],
          "name": "stdout"
        }
      ]
    },
    {
      "cell_type": "code",
      "metadata": {
        "id": "4_biPBGmg23m",
        "colab_type": "code",
        "colab": {
          "base_uri": "https://localhost:8080/",
          "height": 102
        },
        "outputId": "2a843086-c635-43c9-96f6-0dc03fce2bf4"
      },
      "source": [
        "# List Slice\n",
        "# Slicing is an operation that creates a new list consisting of a contiguous subset of elements from the original list. \n",
        "# The original list is not modified by this operation.\n",
        "\n",
        "aslice = [1,2,3,4,5,6,7,8,9,10]\n",
        "list_sliced = aslice[1:3] # get the elements from index 1 to index (3-1) i.e 2 inclusive\n",
        "print (aslice)\n",
        "print (list_sliced)\n",
        "\n",
        "list_sliced = aslice[:7]  # get the elements from index 0 to index 6 inclusive\n",
        "print (list_sliced)\n",
        "\n",
        "list_sliced = aslice[4:]  # get the elements from index 4 to index n-1 inclusive\n",
        "print (list_sliced)\n",
        "\n",
        "list_sliced = aslice[:]  # get the elements from 0 to n-1 inclusive\n",
        "print (list_sliced)\n",
        "\n"
      ],
      "execution_count": 33,
      "outputs": [
        {
          "output_type": "stream",
          "text": [
            "[1, 2, 3, 4, 5, 6, 7, 8, 9, 10]\n",
            "[2, 3]\n",
            "[1, 2, 3, 4, 5, 6, 7]\n",
            "[5, 6, 7, 8, 9, 10]\n",
            "[1, 2, 3, 4, 5, 6, 7, 8, 9, 10]\n"
          ],
          "name": "stdout"
        }
      ]
    },
    {
      "cell_type": "markdown",
      "metadata": {
        "id": "_fm_itJ6m0ar",
        "colab_type": "text"
      },
      "source": [
        "# **Set**"
      ]
    },
    {
      "cell_type": "markdown",
      "metadata": {
        "id": "k7jrg8P-m4Y-",
        "colab_type": "text"
      },
      "source": [
        "### **Set ADT**\n",
        "\n",
        "\n",
        "\n",
        "*   Set(): Creates a new set initialized to empty set\n",
        "*   *length*(): Returns the number of elements in set. Accessed using **len()** function\n",
        "*   contains(element): Determines if the given value is an element of the set and returns appropriate boolean value. Accessed using the **in** operator.\n",
        "*   add(element): Modifies the set by adding the given value or element to the set if the element is not already a member. If the element is not unique, no action is taken and the operation is skipped.\n",
        "\n",
        "*   remove(element): Removes the given value from the set if the value is contained in the set and raises an exception otherwise.\n",
        "*   equals ( setB ): Determines if the set is equal to another set and returns a boolean value. For two sets, A and B, to be equal, both A and B must contain the same number of elements and all elements in A must also be elements in B. If both sets are empty, the sets are equal. Access with == or !=.\n",
        "\n",
        "\n",
        "\n",
        "*   isSubsetOf( setB ): Determines if the set is a subset of another set and re- turns a boolean value. For set A to be a subset of B, all elements in A must also be elements in B.\n",
        "\n",
        "*   union( setB ): Creates and returns a new set that is the union of this set and setB. The new set created from the union of two sets, A and B, contains all elements in A plus those elements in B that are not in A. Neither set A nor set B is modified by this operation.\n",
        "\n",
        "\n",
        "*   intersect(setB): Creates and returns a new set that is the intersection of this set and setB. The intersection of sets A and B contains only those elements that are in both A and B. Neither set A nor set B is modified by this operation.\n",
        "*   difference( setB ): Creates and returns a new set that is the difference of this set and setB. The set difference, A−B, contains only those elements that are in A but not in B. Neither set A nor set B is modified by this operation.\n",
        "\n",
        "*   iterator (): Creates and returns an iterator that can be used to iterate over the collection of items.\n",
        "\n",
        "\n",
        "\n",
        "\n",
        "\n",
        "\n",
        "\n",
        "\n",
        "\n",
        "\n",
        "\n"
      ]
    },
    {
      "cell_type": "code",
      "metadata": {
        "id": "K7m-q40-iKX1",
        "colab_type": "code",
        "colab": {
          "base_uri": "https://localhost:8080/",
          "height": 153
        },
        "outputId": "be31eb6c-b4e7-491c-de7a-ee9317bccc00"
      },
      "source": [
        "smith = set()\n",
        "smith.add(\"CSCI-112\")\n",
        "smith.add(\"MATH-121\")\n",
        "smith.add(\"HIST-340\")\n",
        "smith.add(\"ECON-101\")\n",
        "\n",
        "roberts = set()\n",
        "roberts.add(\"POL-101\")\n",
        "roberts.add(\"ANTH-230\")\n",
        "roberts.add(\"CSCI-112\")\n",
        "roberts.add(\"ECON-101\")\n",
        "\n",
        "if smith == roberts:\n",
        "  print (\"Smith and Roberts are taking the same courses.\")\n",
        "else:\n",
        "  sameCourses = smith.intersection(roberts)\n",
        "  if len(sameCourses) == 0:\n",
        "    print (\"Smith and Roberts are not taking any of the same courses.\")\n",
        "  else:\n",
        "    print (\"Smith and Roberts are taking some of the same courses.\")\n",
        "    for course in sameCourses:\n",
        "      print (course)\n",
        "\n",
        "\n",
        "# unique courses taken by smith\n",
        "print (\"Unique courses taken by smith\")\n",
        "unique_courses = smith.difference(roberts)\n",
        "if unique_courses:\n",
        "  for uc in unique_courses:\n",
        "    print (uc)\n",
        "else:\n",
        "  print (None)\n",
        "\n",
        "\n",
        "# check if smith has taken course \"HIST-340\"\n",
        "if \"HIST-340\" in smith:\n",
        "  print (\"Smith has taken course HIST-340\")\n",
        "else:\n",
        "  print (\"Smith has not taken course HIST-340\")\n",
        "\n",
        "# roberts wants to withdraw from course ANTH-230\n",
        "roberts.remove(\"ANTH-230\")\n",
        "print (\"Roberts courses: \", roberts)"
      ],
      "execution_count": 51,
      "outputs": [
        {
          "output_type": "stream",
          "text": [
            "Smith and Roberts are taking some of the same courses.\n",
            "CSCI-112\n",
            "ECON-101\n",
            "Unique courses taken by smith\n",
            "HIST-340\n",
            "MATH-121\n",
            "Smith has taken course HIST-340\n",
            "Roberts courses:  {'POL-101', 'CSCI-112', 'ECON-101'}\n"
          ],
          "name": "stdout"
        }
      ]
    },
    {
      "cell_type": "markdown",
      "metadata": {
        "id": "chSZEIxA5IeG",
        "colab_type": "text"
      },
      "source": [
        "# **Maps**\n",
        "\n",
        "### **Map ADT**\n",
        "\n",
        "\n",
        "\n",
        "*   dict(): Creates a new empty map\n",
        "*   length (): Returns the number of key/value pairs in the map.\n",
        "\n",
        "\n",
        "*   contains ( key ): Determines if the given key is in the map and returns True if the key is found and False otherwise.\n",
        "*   add( key, value ): Adds a new key/value pair to the map if the key is not already in the map or replaces the data associated with the key if the key is in the map. Returns True if this is a new key and False if the data associated with the existing key is replaced.\n",
        "\n",
        "\n",
        "*   remove( key ): Removes the key/value pair for the given key if it is in the map and raises an exception otherwise.\n",
        "\n",
        "*   valueOf( key ): Returns the data record associated with the given key. The key must exist in the map or an exception is raised.\n",
        "\n",
        "*   iterator (): Creates and returns an iterator that can be used to iterate over the keys in the map.\n",
        "\n",
        "\n",
        "\n",
        "\n",
        "\n",
        "\n",
        "\n"
      ]
    },
    {
      "cell_type": "code",
      "metadata": {
        "id": "op5NdXpH2M6I",
        "colab_type": "code",
        "colab": {}
      },
      "source": [
        "mp = dict()\n"
      ],
      "execution_count": 2,
      "outputs": []
    },
    {
      "cell_type": "code",
      "metadata": {
        "id": "npKCGnXR5z_2",
        "colab_type": "code",
        "colab": {}
      },
      "source": [
        "mp[1] = \"one\"\n",
        "mp[2] = \"two\"\n",
        "mp[\"three\"] = 3\n",
        "mp[\"four\"] = \"4four\""
      ],
      "execution_count": 3,
      "outputs": []
    },
    {
      "cell_type": "code",
      "metadata": {
        "id": "YTnlU8rXY24k",
        "colab_type": "code",
        "colab": {
          "base_uri": "https://localhost:8080/",
          "height": 51
        },
        "outputId": "a7399ab4-1e02-4998-e684-7c65089c475a"
      },
      "source": [
        "print (mp.get(2))\n",
        "print (mp.get(3, \"Not there\"))"
      ],
      "execution_count": 9,
      "outputs": [
        {
          "output_type": "stream",
          "text": [
            "two\n",
            "Not there\n"
          ],
          "name": "stdout"
        }
      ]
    },
    {
      "cell_type": "code",
      "metadata": {
        "id": "5wT-6aIsY5MK",
        "colab_type": "code",
        "colab": {
          "base_uri": "https://localhost:8080/",
          "height": 34
        },
        "outputId": "1e097b76-66ee-42df-cf57-a3dcfc481fec"
      },
      "source": [
        "mp[\"three\"] = \"3three\"\n",
        "mp.get(\"three\")"
      ],
      "execution_count": 10,
      "outputs": [
        {
          "output_type": "execute_result",
          "data": {
            "text/plain": [
              "'3three'"
            ]
          },
          "metadata": {
            "tags": []
          },
          "execution_count": 10
        }
      ]
    },
    {
      "cell_type": "code",
      "metadata": {
        "id": "VLitf2ePZL5o",
        "colab_type": "code",
        "colab": {}
      },
      "source": [
        "mp[\"5\"] = \"five\"\n",
        "mp[\"6\"] = \"six\""
      ],
      "execution_count": 11,
      "outputs": []
    },
    {
      "cell_type": "code",
      "metadata": {
        "id": "u-fcxdpQZTED",
        "colab_type": "code",
        "colab": {
          "base_uri": "https://localhost:8080/",
          "height": 136
        },
        "outputId": "bf914c41-4cbd-4f3a-a4e3-bda02e57ced1"
      },
      "source": [
        "# loop through the dict\n",
        "for x in mp:\n",
        "  print (x, end=\" \") # printing the keys\n",
        "\n",
        "print ()\n",
        "for x in mp:\n",
        "  print (x, \" = \", mp[x]) # printing key value pairs"
      ],
      "execution_count": 16,
      "outputs": [
        {
          "output_type": "stream",
          "text": [
            "1 2 three four 5 6 \n",
            "1  =  one\n",
            "2  =  two\n",
            "three  =  3three\n",
            "four  =  4four\n",
            "5  =  five\n",
            "6  =  six\n"
          ],
          "name": "stdout"
        }
      ]
    },
    {
      "cell_type": "code",
      "metadata": {
        "id": "E9Xiq7gNZYe1",
        "colab_type": "code",
        "colab": {
          "base_uri": "https://localhost:8080/",
          "height": 119
        },
        "outputId": "740a7dc3-234b-45d1-b045-190ee3d69a1c"
      },
      "source": [
        "for x,y in mp.items():\n",
        "  print (x,y)"
      ],
      "execution_count": 17,
      "outputs": [
        {
          "output_type": "stream",
          "text": [
            "1 one\n",
            "2 two\n",
            "three 3three\n",
            "four 4four\n",
            "5 five\n",
            "6 six\n"
          ],
          "name": "stdout"
        }
      ]
    },
    {
      "cell_type": "code",
      "metadata": {
        "id": "lBcreHnqZxs0",
        "colab_type": "code",
        "colab": {
          "base_uri": "https://localhost:8080/",
          "height": 34
        },
        "outputId": "227d6ab1-8113-45c4-b191-ee7724fc1fd7"
      },
      "source": [
        "# check if key exists in the dictionary\n",
        "if \"four\" in mp:\n",
        "  print (\"Key found.\")\n",
        "else:\n",
        "  print (\"Key not present.\")"
      ],
      "execution_count": 18,
      "outputs": [
        {
          "output_type": "stream",
          "text": [
            "Key found.\n"
          ],
          "name": "stdout"
        }
      ]
    },
    {
      "cell_type": "code",
      "metadata": {
        "id": "PMc-e14nZ_MX",
        "colab_type": "code",
        "colab": {
          "base_uri": "https://localhost:8080/",
          "height": 34
        },
        "outputId": "dae88169-6621-4438-cf1f-1cca5b63fd66"
      },
      "source": [
        "# length of dict\n",
        "print (len(mp))"
      ],
      "execution_count": 19,
      "outputs": [
        {
          "output_type": "stream",
          "text": [
            "6\n"
          ],
          "name": "stdout"
        }
      ]
    },
    {
      "cell_type": "code",
      "metadata": {
        "id": "16zC3Xe4aL3-",
        "colab_type": "code",
        "colab": {
          "base_uri": "https://localhost:8080/",
          "height": 34
        },
        "outputId": "18e88b96-9d25-4074-e124-d42f4f9251e0"
      },
      "source": [
        "# Remove items from dict\n",
        "mp.pop(\"three\")"
      ],
      "execution_count": 22,
      "outputs": [
        {
          "output_type": "execute_result",
          "data": {
            "text/plain": [
              "'3three'"
            ]
          },
          "metadata": {
            "tags": []
          },
          "execution_count": 22
        }
      ]
    },
    {
      "cell_type": "code",
      "metadata": {
        "id": "9RNe9t9paRAs",
        "colab_type": "code",
        "colab": {
          "base_uri": "https://localhost:8080/",
          "height": 34
        },
        "outputId": "d37396e2-4bf1-4269-f5f3-93ba7b75d24a"
      },
      "source": [
        "print (len(mp))"
      ],
      "execution_count": 23,
      "outputs": [
        {
          "output_type": "stream",
          "text": [
            "5\n"
          ],
          "name": "stdout"
        }
      ]
    },
    {
      "cell_type": "code",
      "metadata": {
        "id": "3Ukrc1bgaZaW",
        "colab_type": "code",
        "colab": {
          "base_uri": "https://localhost:8080/",
          "height": 34
        },
        "outputId": "00036802-2f59-4841-bdae-3cbd24475237"
      },
      "source": [
        "# Remove last item\n",
        "mp.popitem()"
      ],
      "execution_count": 24,
      "outputs": [
        {
          "output_type": "execute_result",
          "data": {
            "text/plain": [
              "('6', 'six')"
            ]
          },
          "metadata": {
            "tags": []
          },
          "execution_count": 24
        }
      ]
    },
    {
      "cell_type": "code",
      "metadata": {
        "id": "u86D7dwUagW8",
        "colab_type": "code",
        "colab": {
          "base_uri": "https://localhost:8080/",
          "height": 34
        },
        "outputId": "2799422d-68e6-4a33-c532-cbaa33932d05"
      },
      "source": [
        "print (len(mp))"
      ],
      "execution_count": 25,
      "outputs": [
        {
          "output_type": "stream",
          "text": [
            "4\n"
          ],
          "name": "stdout"
        }
      ]
    },
    {
      "cell_type": "code",
      "metadata": {
        "id": "-647qLbZaiNh",
        "colab_type": "code",
        "colab": {
          "base_uri": "https://localhost:8080/",
          "height": 34
        },
        "outputId": "a96d165f-a5dc-405d-d485-e1d00384ee7a"
      },
      "source": [
        "# clear method empties the dict\n",
        "mp.clear()\n",
        "print (len(mp))"
      ],
      "execution_count": 26,
      "outputs": [
        {
          "output_type": "stream",
          "text": [
            "0\n"
          ],
          "name": "stdout"
        }
      ]
    },
    {
      "cell_type": "markdown",
      "metadata": {
        "id": "EUfWjKsLbBHV",
        "colab_type": "text"
      },
      "source": [
        "# **Python Tuples**"
      ]
    },
    {
      "cell_type": "code",
      "metadata": {
        "id": "9D-diRLLao7B",
        "colab_type": "code",
        "colab": {
          "base_uri": "https://localhost:8080/",
          "height": 34
        },
        "outputId": "17eb0887-2e29-41ac-d4ba-85803f609535"
      },
      "source": [
        "# Python tuples are written in round brackets, whereas lists are written in square brackets\n",
        "thistuple = (\"apple\",\"banana\",\"cherry\",\"tiger\",\"panda\",\"harry\")\n",
        "print (thistuple)"
      ],
      "execution_count": 27,
      "outputs": [
        {
          "output_type": "stream",
          "text": [
            "('apple', 'banana', 'cherry', 'tiger', 'panda', 'harry')\n"
          ],
          "name": "stdout"
        }
      ]
    },
    {
      "cell_type": "code",
      "metadata": {
        "id": "X3PWGesBbYvT",
        "colab_type": "code",
        "colab": {
          "base_uri": "https://localhost:8080/",
          "height": 51
        },
        "outputId": "d0e2a018-69ef-4665-9db4-09f531c44402"
      },
      "source": [
        "# Accessing tuple items\n",
        "print (thistuple[3])\n",
        "\n",
        "# Negative indexing means accessing from last. -1 means last, -2 means second last and so on\n",
        "print (thistuple[-2])"
      ],
      "execution_count": 29,
      "outputs": [
        {
          "output_type": "stream",
          "text": [
            "tiger\n",
            "panda\n"
          ],
          "name": "stdout"
        }
      ]
    },
    {
      "cell_type": "code",
      "metadata": {
        "id": "ybQpYnSjbi30",
        "colab_type": "code",
        "colab": {
          "base_uri": "https://localhost:8080/",
          "height": 51
        },
        "outputId": "120e8902-515e-405b-8748-6ae853c694c3"
      },
      "source": [
        "# slicing\n",
        "print (thistuple[1:4])\n",
        "print (thistuple[-4:-1])"
      ],
      "execution_count": 33,
      "outputs": [
        {
          "output_type": "stream",
          "text": [
            "('banana', 'cherry', 'tiger')\n",
            "('cherry', 'tiger', 'panda')\n"
          ],
          "name": "stdout"
        }
      ]
    },
    {
      "cell_type": "code",
      "metadata": {
        "id": "SzhHZYT_b2Nq",
        "colab_type": "code",
        "colab": {
          "base_uri": "https://localhost:8080/",
          "height": 34
        },
        "outputId": "b900cdee-be7d-46bb-b5ff-1653987d4152"
      },
      "source": [
        "# Tuples are immutable unlike lists\n",
        "# thistuple[2] = \"berry\" # gives error\n",
        "# so convert to list to be able to change it\n",
        "\n",
        "x = list(thistuple)\n",
        "x[2] = \"berry\"\n",
        "print (x)"
      ],
      "execution_count": 36,
      "outputs": [
        {
          "output_type": "stream",
          "text": [
            "['apple', 'banana', 'berry', 'tiger', 'panda', 'harry']\n"
          ],
          "name": "stdout"
        }
      ]
    },
    {
      "cell_type": "code",
      "metadata": {
        "id": "VHp7xvyzcPZA",
        "colab_type": "code",
        "colab": {
          "base_uri": "https://localhost:8080/",
          "height": 119
        },
        "outputId": "06ef9a39-aba9-4042-d81a-0285d6743244"
      },
      "source": [
        "# Loop through tuple\n",
        "for x in x:\n",
        "  print (x)"
      ],
      "execution_count": 37,
      "outputs": [
        {
          "output_type": "stream",
          "text": [
            "apple\n",
            "banana\n",
            "berry\n",
            "tiger\n",
            "panda\n",
            "harry\n"
          ],
          "name": "stdout"
        }
      ]
    },
    {
      "cell_type": "code",
      "metadata": {
        "id": "R3Q-Ncric0fe",
        "colab_type": "code",
        "colab": {
          "base_uri": "https://localhost:8080/",
          "height": 34
        },
        "outputId": "53ddf738-ea93-46d1-fadf-4bf1f40eeda4"
      },
      "source": [
        "# check if \"harry\" present in tuple\n",
        "if \"harry\" in thistuple:\n",
        "  print (\"Harry found\")\n",
        "else:\n",
        "  print (\"Harry not found\")"
      ],
      "execution_count": 38,
      "outputs": [
        {
          "output_type": "stream",
          "text": [
            "Harry found\n"
          ],
          "name": "stdout"
        }
      ]
    },
    {
      "cell_type": "code",
      "metadata": {
        "id": "BHrzGPzmdErs",
        "colab_type": "code",
        "colab": {
          "base_uri": "https://localhost:8080/",
          "height": 51
        },
        "outputId": "e67672d5-ab96-4b5a-9147-07b422617d5e"
      },
      "source": [
        "tuple1 = (\"apple\",) \n",
        "print (type(tuple1))\n",
        "\n",
        "tuple1 = [\"apple\"]\n",
        "print (type(tuple1))"
      ],
      "execution_count": 40,
      "outputs": [
        {
          "output_type": "stream",
          "text": [
            "<class 'tuple'>\n",
            "<class 'list'>\n"
          ],
          "name": "stdout"
        }
      ]
    },
    {
      "cell_type": "code",
      "metadata": {
        "id": "K1ATGyRTdT8Y",
        "colab_type": "code",
        "colab": {}
      },
      "source": [
        ""
      ],
      "execution_count": null,
      "outputs": []
    }
  ]
}