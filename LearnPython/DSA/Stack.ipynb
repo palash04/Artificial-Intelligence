{
  "nbformat": 4,
  "nbformat_minor": 0,
  "metadata": {
    "colab": {
      "name": "Stack.ipynb",
      "provenance": [],
      "collapsed_sections": [],
      "authorship_tag": "ABX9TyOCVE23DR07znjXGC3/Liw4",
      "include_colab_link": true
    },
    "kernelspec": {
      "name": "python3",
      "display_name": "Python 3"
    }
  },
  "cells": [
    {
      "cell_type": "markdown",
      "metadata": {
        "id": "view-in-github",
        "colab_type": "text"
      },
      "source": [
        "<a href=\"https://colab.research.google.com/github/palash04/Artificial-Intelligence/blob/master/LearnPython/DSA/Stack.ipynb\" target=\"_parent\"><img src=\"https://colab.research.google.com/assets/colab-badge.svg\" alt=\"Open In Colab\"/></a>"
      ]
    },
    {
      "cell_type": "code",
      "metadata": {
        "id": "OLT4E-eEbs81",
        "colab_type": "code",
        "colab": {}
      },
      "source": [
        "# Implementation of stack ADT using linked list\n",
        "\n",
        "class StackNode:\n",
        "  def __init__(self,item,link):\n",
        "    self.item = item\n",
        "    self.next = link\n",
        "\n",
        "class Stack:\n",
        "  def __init__(self):\n",
        "    self.top = None\n",
        "    self.size = 0\n",
        "  \n",
        "  def push(self,item):\n",
        "    self.top = StackNode(item,self.top)\n",
        "    self.size += 1\n",
        "  \n",
        "  def peek(self):\n",
        "    assert not self.isEmpty(), \"Cannot peek at empty stack\"\n",
        "    return self.top.item\n",
        "\n",
        "  def isEmpty(self):\n",
        "    return self.top is None\n",
        "  \n",
        "  def __len__(self):\n",
        "    return self.size\n",
        "  \n",
        "  def pop(self):\n",
        "    assert not self.isEmpty(), \"Cannot pop from empty stack\"\n",
        "    node = self.top\n",
        "    self.top = node.next\n",
        "    self.size -= 1\n",
        "    return node.item"
      ],
      "execution_count": 38,
      "outputs": []
    },
    {
      "cell_type": "code",
      "metadata": {
        "id": "pUrNqg9zcNtl",
        "colab_type": "code",
        "colab": {
          "base_uri": "https://localhost:8080/",
          "height": 119
        },
        "outputId": "fa5b0a8e-a964-459a-e2e3-fbf6e44573d3"
      },
      "source": [
        "# push 1,2,3 into stack\n",
        "stack = Stack()\n",
        "stack.push(1)\n",
        "stack.push(2)\n",
        "stack.push(3)\n",
        "\n",
        "# print top item and pop it \n",
        "print (stack.pop())\n",
        "\n",
        "# adding few more items\n",
        "stack.push(4)\n",
        "stack.push([1,2,3])\n",
        "stack.push({1:'one',2:'two'})\n",
        "\n",
        "while not stack.isEmpty():\n",
        "  print (stack.pop())"
      ],
      "execution_count": 39,
      "outputs": [
        {
          "output_type": "stream",
          "text": [
            "3\n",
            "{1: 'one', 2: 'two'}\n",
            "[1, 2, 3]\n",
            "4\n",
            "2\n",
            "1\n"
          ],
          "name": "stdout"
        }
      ]
    },
    {
      "cell_type": "code",
      "metadata": {
        "id": "L3vExEVHh3RX",
        "colab_type": "code",
        "colab": {
          "base_uri": "https://localhost:8080/",
          "height": 51
        },
        "outputId": "aab6650f-b5eb-4633-a1e0-a560e36f7c9c"
      },
      "source": [
        "# stack applications\n",
        "# checking for balanced paranthesis\n",
        "# test case 1 : test1 = \"(()(()))\"\n",
        "# test case 2 : test2 = \"(()))\"\n",
        "\n",
        "test1 = \"(()(()))\"\n",
        "test2 = \"(()))\"\n",
        "\n",
        "def isValid(s: str) -> bool:\n",
        "        stack = Stack()\n",
        "        for c in s:\n",
        "            if c == '(' or c == '{' or c == '[':\n",
        "                stack.push(c)\n",
        "            else:\n",
        "                if stack.isEmpty():\n",
        "                    return False\n",
        "                x = stack.pop()\n",
        "                if (c == ')' and (x=='[' or x=='{')) or (c == '}' and (x=='(' or x=='[')) or (c==']' and (x=='(' or x=='{')):\n",
        "                    return False\n",
        "        return stack.isEmpty()\n"
      ],
      "execution_count": 45,
      "outputs": [
        {
          "output_type": "stream",
          "text": [
            "True\n",
            "False\n"
          ],
          "name": "stdout"
        }
      ]
    },
    {
      "cell_type": "code",
      "metadata": {
        "id": "jHof7PH_pORI",
        "colab_type": "code",
        "colab": {
          "base_uri": "https://localhost:8080/",
          "height": 68
        },
        "outputId": "e844e81f-cf5a-43d9-e31c-76d809515b24"
      },
      "source": [
        "print (isValid(test1))\n",
        "print (isValid(test2))\n",
        "print (isValid(\"({[{}}]})\"))\n"
      ],
      "execution_count": 49,
      "outputs": [
        {
          "output_type": "stream",
          "text": [
            "True\n",
            "False\n",
            "False\n"
          ],
          "name": "stdout"
        }
      ]
    },
    {
      "cell_type": "code",
      "metadata": {
        "id": "8HSLFe4cvQky",
        "colab_type": "code",
        "colab": {}
      },
      "source": [
        ""
      ],
      "execution_count": null,
      "outputs": []
    }
  ]
}