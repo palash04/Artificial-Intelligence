{
  "nbformat": 4,
  "nbformat_minor": 0,
  "metadata": {
    "colab": {
      "name": "05_Auto_Complete_Using_N_Grams.ipynb",
      "provenance": [],
      "collapsed_sections": []
    },
    "kernelspec": {
      "name": "python3",
      "display_name": "Python 3"
    },
    "language_info": {
      "name": "python"
    }
  },
  "cells": [
    {
      "cell_type": "markdown",
      "metadata": {
        "id": "EOZxN1Su3mg_"
      },
      "source": [
        "# Language Models: Auto-Complete\n",
        "\n",
        "Auto-complete system is something you may see every day\n",
        "- When you google something, you often have suggestions to help you complete your search. \n",
        "- When you are writing an email, you get suggestions telling you possible endings to your sentence.  \n",
        "\n",
        "<img width=\"654\" alt=\"stanford\" src=\"https://user-images.githubusercontent.com/26361028/124538186-d18ac700-de38-11eb-94c9-2ac1706daaea.png\">\n"
      ]
    },
    {
      "cell_type": "markdown",
      "metadata": {
        "id": "vvaxIASR3_fC"
      },
      "source": [
        "A key building block for an auto-complete system is a language model.\n",
        "A language model assigns the probability to a sequence of words, in a way that more \"likely\" sequences receive higher scores.  For example, \n",
        ">\"I have a pen\" \n",
        "is expected to have a higher probability than \n",
        ">\"I am a pen\"\n",
        "since the first one seems to be a more natural sentence in the real world.\n",
        "\n",
        "You can take advantage of this probability calculation to develop an auto-complete system.  \n",
        "Suppose the user typed \n",
        ">\"I eat scrambled\"\n",
        "Then you can find a word `x`  such that \"I eat scrambled x\" receives the highest probability.  If x = \"eggs\", the sentence would be\n",
        ">\"I eat scrambled eggs\"\n",
        "\n",
        "While a variety of language models have been developed, this assignment uses **N-grams**, a simple but powerful method for language modeling.\n",
        "- N-grams are also used in machine translation and speech recognition. \n",
        "\n",
        "\n",
        "Here are the steps of this assignment:\n",
        "\n",
        "1. Load and preprocess data\n",
        "    - Load and tokenize data.\n",
        "    - Split the sentences into train and test sets.\n",
        "    - Replace words with a low frequency by an unknown marker `<unk>`.\n",
        "1. Develop N-gram based language models\n",
        "    - Compute the count of n-grams from a given data set.\n",
        "    - Estimate the conditional probability of a next word with k-smoothing.\n",
        "1. Evaluate the N-gram models by computing the perplexity score.\n",
        "1. Use your own model to suggest an upcoming word given your sentence. "
      ]
    },
    {
      "cell_type": "code",
      "metadata": {
        "id": "FIfHP9R_33X7"
      },
      "source": [
        "import math\n",
        "import random\n",
        "import numpy as np\n",
        "import pandas as pd\n",
        "import nltk\n",
        "nltk.data.path.append('.')\n",
        "from nltk.tokenize import TweetTokenizer   # module for tokenizing strings"
      ],
      "execution_count": 2,
      "outputs": []
    },
    {
      "cell_type": "code",
      "metadata": {
        "colab": {
          "base_uri": "https://localhost:8080/"
        },
        "id": "vPrcY3q7Qr6v",
        "outputId": "5f4d8671-c752-4da9-cb23-c2b7e0e855ce"
      },
      "source": [
        "nltk.download('punkt')"
      ],
      "execution_count": 3,
      "outputs": [
        {
          "output_type": "stream",
          "text": [
            "[nltk_data] Downloading package punkt to /root/nltk_data...\n",
            "[nltk_data]   Unzipping tokenizers/punkt.zip.\n"
          ],
          "name": "stdout"
        },
        {
          "output_type": "execute_result",
          "data": {
            "text/plain": [
              "True"
            ]
          },
          "metadata": {
            "tags": []
          },
          "execution_count": 3
        }
      ]
    },
    {
      "cell_type": "markdown",
      "metadata": {
        "id": "7cdd8-b64maW"
      },
      "source": [
        "## Part1: Load and Preprocess Data\n",
        "\n",
        "### Part1.1: Load the data\n",
        "\n",
        "- Twitter dataset used"
      ]
    },
    {
      "cell_type": "code",
      "metadata": {
        "colab": {
          "base_uri": "https://localhost:8080/",
          "height": 257
        },
        "id": "nSzZSyQh3REP",
        "outputId": "6d515c6b-0e87-43c7-eb3c-3589fc8622d8"
      },
      "source": [
        "with open(\"/content/en_US.twitter.txt\", \"r\") as f:\n",
        "    data = f.read()\n",
        "print(\"Data type:\", type(data))\n",
        "print(\"Number of letters:\", len(data))\n",
        "print(\"First 300 letters of the data\")\n",
        "print(\"-------\")\n",
        "display(data[0:300])\n",
        "print(\"-------\")\n",
        "\n",
        "print(\"Last 300 letters of the data\")\n",
        "print(\"-------\")\n",
        "display(data[-300:])\n",
        "print(\"-------\")"
      ],
      "execution_count": 4,
      "outputs": [
        {
          "output_type": "stream",
          "text": [
            "Data type: <class 'str'>\n",
            "Number of letters: 3335477\n",
            "First 300 letters of the data\n",
            "-------\n"
          ],
          "name": "stdout"
        },
        {
          "output_type": "display_data",
          "data": {
            "application/vnd.google.colaboratory.intrinsic+json": {
              "type": "string"
            },
            "text/plain": [
              "\"How are you? Btw thanks for the RT. You gonna be in DC anytime soon? Love to see you. Been way, way too long.\\nWhen you meet someone special... you'll know. Your heart will beat more rapidly and you'll smile for no reason.\\nthey've decided its more fun if I don't.\\nSo Tired D; Played Lazer Tag & Ran A \""
            ]
          },
          "metadata": {
            "tags": []
          }
        },
        {
          "output_type": "stream",
          "text": [
            "-------\n",
            "Last 300 letters of the data\n",
            "-------\n"
          ],
          "name": "stdout"
        },
        {
          "output_type": "display_data",
          "data": {
            "application/vnd.google.colaboratory.intrinsic+json": {
              "type": "string"
            },
            "text/plain": [
              "\"ust had one a few weeks back....hopefully we will be back soon! wish you the best yo\\nColombia is with an 'o'...“: We now ship to 4 countries in South America (fist pump). Please welcome Columbia to the Stunner Family”\\n#GutsiestMovesYouCanMake Giving a cat a bath.\\nCoffee after 5 was a TERRIBLE idea.\\n\""
            ]
          },
          "metadata": {
            "tags": []
          }
        },
        {
          "output_type": "stream",
          "text": [
            "-------\n"
          ],
          "name": "stdout"
        }
      ]
    },
    {
      "cell_type": "markdown",
      "metadata": {
        "id": "t9U5hy0W5D2W"
      },
      "source": [
        "### Part1.2: Preprocess the data\n",
        "\n",
        "Preprocess this data with the following steps:\n",
        "\n",
        "1. Split data into sentences using \"\\n\" as the delimiter.\n",
        "1. Split each sentence into tokens. Note that in this assignment we use \"token\" and \"words\" interchangeably.\n",
        "1. Assign sentences into train or test sets.\n",
        "1. Find tokens that appear at least N times in the training data.\n",
        "1. Replace tokens that appear less than N times by `<unk>`\n"
      ]
    },
    {
      "cell_type": "markdown",
      "metadata": {
        "id": "F1OAJ_bS5YdP"
      },
      "source": [
        "#### 1. Split data into sentences"
      ]
    },
    {
      "cell_type": "code",
      "metadata": {
        "id": "VnUoDtQu45Lq"
      },
      "source": [
        "def split_to_sentences(data):\n",
        "  \"\"\"\n",
        "  Split data by linebreak \"\\n\"\n",
        "\n",
        "  Returns: A list of sentence\n",
        "  \"\"\"\n",
        "  sentences = data.split('\\n')\n",
        "\n",
        "  # remove trailing and leading spaces from sentences\n",
        "  sentences = [s.strip() for s in sentences]\n",
        "\n",
        "  # drop sentences if they are empty strings\n",
        "  sentences = [s for s in sentences if len(s) > 0]\n",
        "\n",
        "  return sentences"
      ],
      "execution_count": 5,
      "outputs": []
    },
    {
      "cell_type": "code",
      "metadata": {
        "colab": {
          "base_uri": "https://localhost:8080/"
        },
        "id": "xy0scKj6N6v6",
        "outputId": "853f2ce2-4767-47e4-d9c3-097275c14e0c"
      },
      "source": [
        "# test your code\n",
        "x = \"\"\"\n",
        "I have a pen.\\nI have an apple. \\nAh\\nApple pen.\\n\n",
        "\"\"\"\n",
        "print(x)\n",
        "\n",
        "split_to_sentences(x)"
      ],
      "execution_count": 6,
      "outputs": [
        {
          "output_type": "stream",
          "text": [
            "\n",
            "I have a pen.\n",
            "I have an apple. \n",
            "Ah\n",
            "Apple pen.\n",
            "\n",
            "\n"
          ],
          "name": "stdout"
        },
        {
          "output_type": "execute_result",
          "data": {
            "text/plain": [
              "['I have a pen.', 'I have an apple.', 'Ah', 'Apple pen.']"
            ]
          },
          "metadata": {
            "tags": []
          },
          "execution_count": 6
        }
      ]
    },
    {
      "cell_type": "markdown",
      "metadata": {
        "id": "8BiFoGaaOGSy"
      },
      "source": [
        "#### 2. Toeknize sentences (split a sentence into a list of words)\n",
        "\n",
        "- Convert all tokens into lower case so that words which are capitalized (for example, at the start of a sentence) in the original text are treated the same as the lowercase versions of the words.\n",
        "- Append each tokenized list of words into a list of tokenized sentences."
      ]
    },
    {
      "cell_type": "code",
      "metadata": {
        "id": "TDE-H6ZKODax"
      },
      "source": [
        "def tokenize_sentences(sentences):\n",
        "  \"\"\"\n",
        "  Args:\n",
        "    sentences: list of strings [\"hello dear\", \"How are you\", \"I am good.\", \"Thankyou\"]\n",
        "\n",
        "  Returns:\n",
        "    list of list of tokens [['hello','dear'], ['how', 'are', 'you'], ...]\n",
        "  \"\"\"\n",
        "\n",
        "  tokenized_sentences = []\n",
        "\n",
        "  for sentence in sentences:\n",
        "    sentence = sentence.lower()\n",
        "\n",
        "    tokenized = nltk.word_tokenize(sentence)\n",
        "    tokenized_sentences.append(tokenized)\n",
        "    \n",
        "  return tokenized_sentences\n"
      ],
      "execution_count": 7,
      "outputs": []
    },
    {
      "cell_type": "code",
      "metadata": {
        "colab": {
          "base_uri": "https://localhost:8080/"
        },
        "id": "9e1GoFLKQLOr",
        "outputId": "4d7a93c4-eaf3-4ec6-d2da-c015bc33764a"
      },
      "source": [
        "# test your code\n",
        "sentences = [\"Sky is blue.\", \"Leaves are green.\", \"Roses are red.\"]\n",
        "tokenize_sentences(sentences)"
      ],
      "execution_count": 8,
      "outputs": [
        {
          "output_type": "execute_result",
          "data": {
            "text/plain": [
              "[['sky', 'is', 'blue', '.'],\n",
              " ['leaves', 'are', 'green', '.'],\n",
              " ['roses', 'are', 'red', '.']]"
            ]
          },
          "metadata": {
            "tags": []
          },
          "execution_count": 8
        }
      ]
    },
    {
      "cell_type": "markdown",
      "metadata": {
        "id": "2SwsGb1-RCNX"
      },
      "source": [
        "#### 3. Get the tokenized data\n",
        "\n",
        "- split the data into sentences\n",
        "- tokenize those sentences"
      ]
    },
    {
      "cell_type": "code",
      "metadata": {
        "id": "0MsIb-r6QMSq"
      },
      "source": [
        "def get_tokenized_data(data):\n",
        "  \"\"\"\n",
        "  Make a list of tokenized sentences\n",
        "  \n",
        "  Args:\n",
        "      data: String\n",
        "  \n",
        "  Returns:\n",
        "      List of lists of tokens\n",
        "  \"\"\"\n",
        "\n",
        "  # Get the sentences by splitting up the data\n",
        "  sentences = split_to_sentences(data)\n",
        "  \n",
        "  # Get the list of lists of tokens by tokenizing the sentences\n",
        "  tokenized_sentences = tokenize_sentences(sentences)\n",
        "  \n",
        "  return tokenized_sentences"
      ],
      "execution_count": 9,
      "outputs": []
    },
    {
      "cell_type": "code",
      "metadata": {
        "colab": {
          "base_uri": "https://localhost:8080/"
        },
        "id": "4Xw8rRjURO-d",
        "outputId": "e59360c9-65ef-4a01-b6b2-4859fde84ad1"
      },
      "source": [
        "# test your function\n",
        "x = \"Sky is blue.\\nLeaves are green\\nRoses are red.\"\n",
        "get_tokenized_data(x)"
      ],
      "execution_count": 10,
      "outputs": [
        {
          "output_type": "execute_result",
          "data": {
            "text/plain": [
              "[['sky', 'is', 'blue', '.'],\n",
              " ['leaves', 'are', 'green'],\n",
              " ['roses', 'are', 'red', '.']]"
            ]
          },
          "metadata": {
            "tags": []
          },
          "execution_count": 10
        }
      ]
    },
    {
      "cell_type": "markdown",
      "metadata": {
        "id": "tRUjqLfNRUlu"
      },
      "source": [
        "#### Split into train and test sets"
      ]
    },
    {
      "cell_type": "code",
      "metadata": {
        "id": "CKuZbj-bRQsl"
      },
      "source": [
        "tokenized_data = get_tokenized_data(data)\n",
        "random.seed(87)\n",
        "random.shuffle(tokenized_data)\n",
        "\n",
        "train_size = int(len(tokenized_data) * 0.8)\n",
        "train_data = tokenized_data[0:train_size]\n",
        "test_data = tokenized_data[train_size:]"
      ],
      "execution_count": 11,
      "outputs": []
    },
    {
      "cell_type": "code",
      "metadata": {
        "colab": {
          "base_uri": "https://localhost:8080/"
        },
        "id": "vQvkJImTRlZ7",
        "outputId": "5b452614-cc47-440d-b20a-f71f7ff3792a"
      },
      "source": [
        "print(\"{} data are split into {} train and {} test set\".format(\n",
        "    len(tokenized_data), len(train_data), len(test_data)))\n",
        "\n",
        "print(\"First training sample:\")\n",
        "print(train_data[0])\n",
        "      \n",
        "print(\"First test sample\")\n",
        "print(test_data[0])"
      ],
      "execution_count": 12,
      "outputs": [
        {
          "output_type": "stream",
          "text": [
            "47961 data are split into 38368 train and 9593 test set\n",
            "First training sample:\n",
            "['i', 'personally', 'would', 'like', 'as', 'our', 'official', 'glove', 'of', 'the', 'team', 'local', 'company', 'and', 'quality', 'production']\n",
            "First test sample\n",
            "['that', 'picture', 'i', 'just', 'seen', 'whoa', 'dere', '!', '!', '>', '>', '>', '>', '>', '>', '>']\n"
          ],
          "name": "stdout"
        }
      ]
    },
    {
      "cell_type": "markdown",
      "metadata": {
        "id": "TGBkSq90SR01"
      },
      "source": [
        "#### You won't use all the tokens (words) appearing in the data for training.  Instead, you will use the more frequently used words.  \n",
        "- You will focus on the words that appear at least N times in the data.\n",
        "- First count how many times each word appears in the data.\n"
      ]
    },
    {
      "cell_type": "code",
      "metadata": {
        "id": "unqQtUsNRouZ"
      },
      "source": [
        "def count_words(tokenized_sentences):\n",
        "  \"\"\"\n",
        "  Count the number of word appearence in the tokenized sentences\n",
        "  \n",
        "  Args:\n",
        "      tokenized_sentences: List of lists of strings\n",
        "  \n",
        "  Returns:\n",
        "      dict that maps word (str) to the frequency (int)\n",
        "  \"\"\"\n",
        "\n",
        "  word_counts = {}\n",
        "\n",
        "  for sentence in tokenized_sentences:\n",
        "    for token in sentence:\n",
        "      if token not in word_counts:\n",
        "        word_counts[token] = 1\n",
        "      else:\n",
        "        word_counts[token] += 1\n",
        "  return word_counts"
      ],
      "execution_count": 13,
      "outputs": []
    },
    {
      "cell_type": "code",
      "metadata": {
        "colab": {
          "base_uri": "https://localhost:8080/"
        },
        "id": "WTBOe97vS4I5",
        "outputId": "de25d844-34d3-421c-cd42-c8c4cc28a602"
      },
      "source": [
        "# test your code\n",
        "tokenized_sentences = [['sky', 'is', 'blue', '.'],\n",
        "                       ['leaves', 'are', 'green', '.'],\n",
        "                       ['roses', 'are', 'red', '.']]\n",
        "count_words(tokenized_sentences)"
      ],
      "execution_count": 14,
      "outputs": [
        {
          "output_type": "execute_result",
          "data": {
            "text/plain": [
              "{'.': 3,\n",
              " 'are': 2,\n",
              " 'blue': 1,\n",
              " 'green': 1,\n",
              " 'is': 1,\n",
              " 'leaves': 1,\n",
              " 'red': 1,\n",
              " 'roses': 1,\n",
              " 'sky': 1}"
            ]
          },
          "metadata": {
            "tags": []
          },
          "execution_count": 14
        }
      ]
    },
    {
      "cell_type": "markdown",
      "metadata": {
        "id": "uKxyjmo3Ukna"
      },
      "source": [
        "## Handling out of vocabulary words\n",
        "\n",
        "If your model is performing autocomplete, but encounters a word that it never saw during training, it won't have an input word to help it determine the next word to suggest. The model will not be able to predict the next word because there are no counts for the current word. \n",
        "- This 'new' word is called an 'unknown word', or <b>out of vocabulary (OOV)</b> words.\n",
        "- The percentage of unknown words in the test set is called the <b> OOV </b> rate. \n",
        "\n",
        "To handle unknown words during prediction, use a special token to represent all unknown words 'unk'. \n",
        "- Modify the training data so that it has some 'unknown' words to train on.\n",
        "- Words to convert into \"unknown\" words are those that do not occur very frequently in the training set.\n",
        "- Create a list of the most frequent words in the training set, called the <b> closed vocabulary </b>. \n",
        "- Convert all the other words that are not part of the closed vocabulary to the token 'unk'. "
      ]
    },
    {
      "cell_type": "code",
      "metadata": {
        "id": "__60fwKIS56r"
      },
      "source": [
        "def get_words_with_nplus_frequency(tokenized_sentences, count_threshold):\n",
        "  \"\"\"\n",
        "  Find the words that appear N times or more\n",
        "  \n",
        "  Args:\n",
        "      tokenized_sentences: List of lists of sentences\n",
        "      count_threshold: minimum number of occurrences for a word to be in the closed vocabulary.\n",
        "  \n",
        "  Returns:\n",
        "      List of words that appear N times or more\n",
        "  \"\"\"\n",
        "  closed_vocab = []\n",
        "  word_counts = count_words(tokenized_sentences)\n",
        "\n",
        "  for word, count in word_counts.items():\n",
        "    if count >= count_threshold:\n",
        "      closed_vocab.append(word)\n",
        "    \n",
        "  return closed_vocab"
      ],
      "execution_count": 15,
      "outputs": []
    },
    {
      "cell_type": "code",
      "metadata": {
        "colab": {
          "base_uri": "https://localhost:8080/"
        },
        "id": "xYgrqRxHV2Xn",
        "outputId": "9cdbb047-1216-4d39-8760-24745fd0c7ac"
      },
      "source": [
        "# test your code\n",
        "tokenized_sentences = [['sky', 'is', 'blue', '.'],\n",
        "                       ['leaves', 'are', 'green', '.'],\n",
        "                       ['roses', 'are', 'red', '.']]\n",
        "tmp_closed_vocab = get_words_with_nplus_frequency(tokenized_sentences, count_threshold=2)\n",
        "print(f\"Closed vocabulary:\")\n",
        "print(tmp_closed_vocab)"
      ],
      "execution_count": 16,
      "outputs": [
        {
          "output_type": "stream",
          "text": [
            "Closed vocabulary:\n",
            "['.', 'are']\n"
          ],
          "name": "stdout"
        }
      ]
    },
    {
      "cell_type": "markdown",
      "metadata": {
        "id": "f40PBcwzV_ka"
      },
      "source": [
        "#### The words that appear `count_threshold` times or more are in the closed vocabulary. \n",
        "- All other words are regarded as `unknown`.\n",
        "- Replace words not in the closed vocabulary with the token `<unk>`."
      ]
    },
    {
      "cell_type": "code",
      "metadata": {
        "id": "QZ2EUTcnV6GQ"
      },
      "source": [
        "def replace_oov_words_by_unk(tokenized_sentences, vocabulary, unknown_token='<unk>'):\n",
        "  \"\"\"\n",
        "  Replace words not in the given vocabulary with '<unk>' token.\n",
        "  \n",
        "  Args:\n",
        "      tokenized_sentences: List of lists of strings\n",
        "      vocabulary: List of strings that we will use\n",
        "      unknown_token: A string representing unknown (out-of-vocabulary) words\n",
        "  \n",
        "  Returns:\n",
        "      List of lists of strings, with words not in the vocabulary replaced\n",
        "  \"\"\"\n",
        "  # place into set for faster search\n",
        "  vocabulary = set(vocabulary)\n",
        "\n",
        "  replaced_tokenized_sentences = []\n",
        "\n",
        "  for sentence in tokenized_sentences:\n",
        "    replaced_sentence = []\n",
        "\n",
        "    for token in sentence:\n",
        "      if token in vocabulary:\n",
        "        replaced_sentence.append(token)\n",
        "      else:\n",
        "        replaced_sentence.append(unknown_token)\n",
        "    replaced_tokenized_sentences.append(replaced_sentence)\n",
        "  \n",
        "  return replaced_tokenized_sentences"
      ],
      "execution_count": 17,
      "outputs": []
    },
    {
      "cell_type": "code",
      "metadata": {
        "colab": {
          "base_uri": "https://localhost:8080/"
        },
        "id": "DzsQNxsLXDQt",
        "outputId": "917144df-5c06-4574-808d-07fbf1983ea2"
      },
      "source": [
        "tokenized_sentences = [[\"dogs\", \"run\"], [\"cats\", \"sleep\"]]\n",
        "vocabulary = [\"dogs\", \"sleep\"]\n",
        "tmp_replaced_tokenized_sentences = replace_oov_words_by_unk(tokenized_sentences, vocabulary)\n",
        "print(f\"Original sentence:\")\n",
        "print(tokenized_sentences)\n",
        "print(f\"tokenized_sentences with less frequent words converted to '<unk>':\")\n",
        "print(tmp_replaced_tokenized_sentences)"
      ],
      "execution_count": 18,
      "outputs": [
        {
          "output_type": "stream",
          "text": [
            "Original sentence:\n",
            "[['dogs', 'run'], ['cats', 'sleep']]\n",
            "tokenized_sentences with less frequent words converted to '<unk>':\n",
            "[['dogs', '<unk>'], ['<unk>', 'sleep']]\n"
          ],
          "name": "stdout"
        }
      ]
    },
    {
      "cell_type": "markdown",
      "metadata": {
        "id": "L6bAphOhXm-_"
      },
      "source": [
        "#### Now we are ready to process our data by combining the functions that you just implemented.\n",
        "\n",
        "1. Find tokens that appear at least count_threshold times in the training data.\n",
        "1. Replace tokens that appear less than count_threshold times by \"<unk\\>\" both for training and test data."
      ]
    },
    {
      "cell_type": "code",
      "metadata": {
        "id": "QUtwlwudXERs"
      },
      "source": [
        "def preprocess_data(train_data, test_data, count_threshold):\n",
        "  \"\"\"\n",
        "  Preprocess data, i.e.,\n",
        "      - Find tokens that appear at least N times in the training data.\n",
        "      - Replace tokens that appear less than N times by \"<unk>\" both for training and test data.        \n",
        "  Args:\n",
        "      train_data, test_data: List of lists of strings.\n",
        "      count_threshold: Words whose count is less than this are \n",
        "                    treated as unknown.\n",
        "  \n",
        "  Returns:\n",
        "      Tuple of\n",
        "      - training data with low frequent words replaced by \"<unk>\"\n",
        "      - test data with low frequent words replaced by \"<unk>\"\n",
        "      - vocabulary of words that appear n times or more in the training data\n",
        "  \"\"\"\n",
        "\n",
        "  # Get the closed vocabulary using the train data\n",
        "  vocabulary = get_words_with_nplus_frequency(train_data, count_threshold=count_threshold)\n",
        "  \n",
        "  # For the train data, replace less common words with \"<unk>\"\n",
        "  train_data_replaced = replace_oov_words_by_unk(train_data, vocabulary)\n",
        "  \n",
        "  # For the test data, replace less common words with \"<unk>\"\n",
        "  test_data_replaced = replace_oov_words_by_unk(test_data, vocabulary)\n",
        "\n",
        "  return train_data_replaced, test_data_replaced, vocabulary"
      ],
      "execution_count": 19,
      "outputs": []
    },
    {
      "cell_type": "code",
      "metadata": {
        "colab": {
          "base_uri": "https://localhost:8080/"
        },
        "id": "pNf7MIXGXry2",
        "outputId": "0098fd08-ded2-4fc0-bef4-9f1d82f7462a"
      },
      "source": [
        "# test your code\n",
        "tmp_train = [['sky', 'is', 'blue', '.'],\n",
        "     ['leaves', 'are', 'green']]\n",
        "tmp_test = [['roses', 'are', 'red', '.']]\n",
        "\n",
        "tmp_train_repl, tmp_test_repl, tmp_vocab = preprocess_data(tmp_train, \n",
        "                                                           tmp_test, \n",
        "                                                           count_threshold = 1)\n",
        "\n",
        "print(\"tmp_train_repl\")\n",
        "print(tmp_train_repl)\n",
        "print()\n",
        "print(\"tmp_test_repl\")\n",
        "print(tmp_test_repl)\n",
        "print()\n",
        "print(\"tmp_vocab\")\n",
        "print(tmp_vocab)"
      ],
      "execution_count": 20,
      "outputs": [
        {
          "output_type": "stream",
          "text": [
            "tmp_train_repl\n",
            "[['sky', 'is', 'blue', '.'], ['leaves', 'are', 'green']]\n",
            "\n",
            "tmp_test_repl\n",
            "[['<unk>', 'are', '<unk>', '.']]\n",
            "\n",
            "tmp_vocab\n",
            "['sky', 'is', 'blue', '.', 'leaves', 'are', 'green']\n"
          ],
          "name": "stdout"
        }
      ]
    },
    {
      "cell_type": "markdown",
      "metadata": {
        "id": "8N5j5VBzXwri"
      },
      "source": [
        "### Preprocess the train and test data"
      ]
    },
    {
      "cell_type": "code",
      "metadata": {
        "id": "6kedBcYFXs-p"
      },
      "source": [
        "minimum_freq = 2\n",
        "train_data_processed, test_data_processed, vocabulary = preprocess_data(train_data,\n",
        "                                                                        test_data, \n",
        "                                                                        minimum_freq)"
      ],
      "execution_count": 21,
      "outputs": []
    },
    {
      "cell_type": "code",
      "metadata": {
        "colab": {
          "base_uri": "https://localhost:8080/"
        },
        "id": "qYhaWjtgZHzg",
        "outputId": "203cbbee-b18b-4a1d-f8f5-c3c6e177ab1b"
      },
      "source": [
        "print(\"First preprocessed training sample:\")\n",
        "print(train_data_processed[0])\n",
        "print()\n",
        "print(\"First preprocessed test sample:\")\n",
        "print(test_data_processed[0])\n",
        "print()\n",
        "print(\"First 10 vocabulary:\")\n",
        "print(vocabulary[0:10])\n",
        "print()\n",
        "print(\"Size of vocabulary:\", len(vocabulary))"
      ],
      "execution_count": 22,
      "outputs": [
        {
          "output_type": "stream",
          "text": [
            "First preprocessed training sample:\n",
            "['i', 'personally', 'would', 'like', 'as', 'our', 'official', 'glove', 'of', 'the', 'team', 'local', 'company', 'and', 'quality', 'production']\n",
            "\n",
            "First preprocessed test sample:\n",
            "['that', 'picture', 'i', 'just', 'seen', 'whoa', 'dere', '!', '!', '>', '>', '>', '>', '>', '>', '>']\n",
            "\n",
            "First 10 vocabulary:\n",
            "['i', 'personally', 'would', 'like', 'as', 'our', 'official', 'glove', 'of', 'the']\n",
            "\n",
            "Size of vocabulary: 14944\n"
          ],
          "name": "stdout"
        }
      ]
    },
    {
      "cell_type": "markdown",
      "metadata": {
        "id": "JSnHebMwZXsE"
      },
      "source": [
        "## Part2: Develop N-gram based language models\n",
        "\n",
        "In this section, you will develop the n-grams language model.\n",
        "- Assume the probability of the next word depends only on the previous n-gram.\n",
        "- The previous n-gram is the series of the previous 'n' words.\n",
        "\n",
        "The conditional probability for the word at position 't' in the sentence, given that the words preceding it are $w_{t-1}, w_{t-2} \\cdots w_{t-n}$ is:\n",
        "\n",
        "$$ P(w_t | w_{t-1}\\dots w_{t-n}) \\tag{1}$$\n",
        "\n",
        "You can estimate this probability  by counting the occurrences of these series of words in the training data.\n",
        "- The probability can be estimated as a ratio, where\n",
        "- The numerator is the number of times word 't' appears after words t-1 through t-n appear in the training data.\n",
        "- The denominator is the number of times word t-1 through t-n appears in the training data.\n",
        "\n",
        "$$ \\hat{P}(w_t | w_{t-1}\\dots w_{t-n}) = \\frac{C(w_{t-1}\\dots w_{t-n}, w_n)}{C(w_{t-1}\\dots w_{t-n})} \\tag{2} $$\n",
        "\n",
        "- The function $C(\\cdots)$ denotes the number of occurence of the given sequence. \n",
        "- $\\hat{P}$ means the estimation of $P$. \n",
        "- Notice that denominator of the equation (2) is the number of occurence of the previous $n$ words, and the numerator is the same sequence followed by the word $w_t$.\n",
        "\n",
        "Later, you will modify the equation (2) by adding k-smoothing, which avoids errors when any counts are zero.\n",
        "\n",
        "The equation (2) tells us that to estimate probabilities based on n-grams, you need the counts of n-grams (for denominator) and (n+1)-grams (for numerator)."
      ]
    },
    {
      "cell_type": "markdown",
      "metadata": {
        "id": "_ZT3gapdaZ1R"
      },
      "source": [
        "Next, you will implement a function that computes the counts of n-grams for an arbitrary number $n$.\n",
        "\n",
        "When computing the counts for n-grams, prepare the sentence beforehand by prepending $n-1$ starting markers \"<s\\>\" to indicate the beginning of the sentence.  \n",
        "- For example, in the bi-gram model (N=2), a sequence with two start tokens \"<s\\><s\\>\" should predict the first word of a sentence.\n",
        "- So, if the sentence is \"I like food\", modify it to be \"<s\\><s\\> I like food\".\n",
        "- Also prepare the sentence for counting by appending an end token \"<e\\>\" so that the model can predict when to finish a sentence.\n",
        "\n",
        "Technical note: In this implementation, you will store the counts as a dictionary.\n",
        "- The key of each key-value pair in the dictionary is a **tuple** of n words (and not a list)\n",
        "- The value in the key-value pair is the number of occurrences.  \n",
        "- The reason for using a tuple as a key instead of a list is because a list in Python is a mutable object (it can be changed after it is first created).  A tuple is \"immutable\", so it cannot be altered after it is first created.  This makes a tuple suitable as a data type for the key in a dictionary."
      ]
    },
    {
      "cell_type": "code",
      "metadata": {
        "id": "GIGfe3pbZKEd"
      },
      "source": [
        "def count_n_grams(data, n, start_token='<s>', end_token = '<e>'):\n",
        "  \"\"\"\n",
        "  Count all n-grams in the data\n",
        "  \n",
        "  Args:\n",
        "      data: List of lists of words\n",
        "      n: number of words in a sequence\n",
        "  \n",
        "  Returns:\n",
        "      A dictionary that maps a tuple of n-words to its frequency\n",
        "  \"\"\"\n",
        "  \n",
        "  # Initialize dictionary of n-grams and their counts\n",
        "  n_grams = {}\n",
        "  \n",
        "  # Go through each sentence in the data\n",
        "  for sentence in data:\n",
        "    # prepend start token n times, and  append <e> one time\n",
        "    sentence = [start_token] * n + sentence + [end_token]\n",
        "    \n",
        "    # convert list to tuple\n",
        "    # So that the sequence of words can be used as\n",
        "    # a key in the dictionary\n",
        "    sentence = tuple(sentence)\n",
        "    \n",
        "    # Use 'i' to indicate the start of the n-gram\n",
        "    # from index 0\n",
        "    # to the last index where the end of the n-gram\n",
        "    # is within the sentence.\n",
        "    \n",
        "    m = len(sentence) if n==1 else len(sentence)-1\n",
        "    for i in range(m):\n",
        "      # Get the n-gram from i to i+n\n",
        "      n_gram = sentence[i:i+n]\n",
        "\n",
        "      # check if the n-gram is in the dictionary\n",
        "      if n_gram in n_grams:        \n",
        "        # Increment the count for this n-gram\n",
        "        n_grams[n_gram] += 1\n",
        "      else:\n",
        "        # Initialize this n-gram count to 1\n",
        "        n_grams[n_gram] = 1\n",
        "\n",
        "  return n_grams"
      ],
      "execution_count": 23,
      "outputs": []
    },
    {
      "cell_type": "code",
      "metadata": {
        "colab": {
          "base_uri": "https://localhost:8080/"
        },
        "id": "-PUUAJBEb28P",
        "outputId": "b104fd9c-c57a-4d76-f709-50addf1e172f"
      },
      "source": [
        "# test your code\n",
        "# CODE REVIEW COMMENT: Outcome does not match expected outcome\n",
        "sentences = [['i', 'like', 'a', 'cat'],\n",
        "             ['this', 'dog', 'is', 'like', 'a', 'cat']]\n",
        "print(\"Uni-gram:\")\n",
        "print(count_n_grams(sentences, 1))\n",
        "print(\"Bi-gram:\")\n",
        "print(count_n_grams(sentences, 2))"
      ],
      "execution_count": 24,
      "outputs": [
        {
          "output_type": "stream",
          "text": [
            "Uni-gram:\n",
            "{('<s>',): 2, ('i',): 1, ('like',): 2, ('a',): 2, ('cat',): 2, ('<e>',): 2, ('this',): 1, ('dog',): 1, ('is',): 1}\n",
            "Bi-gram:\n",
            "{('<s>', '<s>'): 2, ('<s>', 'i'): 1, ('i', 'like'): 1, ('like', 'a'): 2, ('a', 'cat'): 2, ('cat', '<e>'): 2, ('<s>', 'this'): 1, ('this', 'dog'): 1, ('dog', 'is'): 1, ('is', 'like'): 1}\n"
          ],
          "name": "stdout"
        }
      ]
    },
    {
      "cell_type": "markdown",
      "metadata": {
        "id": "Z3XJU7WJcAo8"
      },
      "source": [
        "Next, estimate the probability of a word given the prior 'n' words using the n-gram counts.\n",
        "\n",
        "$$ \\hat{P}(w_t | w_{t-1}\\dots w_{t-n}) = \\frac{C(w_{t-1}\\dots w_{t-n}, w_n)}{C(w_{t-1}\\dots w_{t-n})} \\tag{2} $$\n",
        "\n",
        "This formula doesn't work when a count of an n-gram is zero..\n",
        "- Suppose we encounter an n-gram that did not occur in the training data.  \n",
        "- Then, the equation (2) cannot be evaluated (it becomes zero divided by zero).\n",
        "\n",
        "A way to handle zero counts is to add k-smoothing.  \n",
        "- K-smoothing adds a positive constant $k$ to each numerator and $k \\times |V|$ in the denominator, where $|V|$ is the number of words in the vocabulary.\n",
        "\n",
        "$$ \\hat{P}(w_t | w_{t-1}\\dots w_{t-n}) = \\frac{C(w_{t-1}\\dots w_{t-n}, w_n) + k}{C(w_{t-1}\\dots w_{t-n}) + k|V|} \\tag{3} $$\n",
        "\n",
        "\n",
        "For n-grams that have a zero count, the equation (3) becomes $\\frac{1}{|V|}$.\n",
        "- This means that any n-gram with zero count has the same probability of $\\frac{1}{|V|}$.\n",
        "\n",
        "Define a function that computes the probability estimate (3) from n-gram counts and a constant $k$.\n",
        "\n",
        "- The function takes in a dictionary 'n_gram_counts', where the key is the n-gram and the value is the count of that n-gram.\n",
        "- The function also takes another dictionary n_plus1_gram_counts, which you'll use to find the count for the previous n-gram plus the current word."
      ]
    },
    {
      "cell_type": "code",
      "metadata": {
        "id": "cqS7rG2tb4LF"
      },
      "source": [
        "def estimate_probability(word, previous_n_gram, \n",
        "                         n_gram_counts, n_plus1_gram_counts, vocabulary_size, k=1.0):\n",
        "  \"\"\"\n",
        "  Estimate the probabilities of a next word using the n-gram counts with k-smoothing\n",
        "  \n",
        "  Args:\n",
        "      word: next word\n",
        "      previous_n_gram: A sequence of words of length n\n",
        "      n_gram_counts: Dictionary of counts of n-grams\n",
        "      n_plus1_gram_counts: Dictionary of counts of (n+1)-grams\n",
        "      vocabulary_size: number of words in the vocabulary\n",
        "      k: positive constant, smoothing parameter\n",
        "  \n",
        "  Returns:\n",
        "      A probability\n",
        "  \"\"\"\n",
        "  # convert list to tuple to use it as a dictionary key\n",
        "  previous_n_gram = tuple(previous_n_gram)\n",
        "  \n",
        "  # Set the denominator\n",
        "  # If the previous n-gram exists in the dictionary of n-gram counts,\n",
        "  # Get its count.  Otherwise set the count to zero\n",
        "  # Use the dictionary that has counts for n-grams\n",
        "  previous_n_gram_count = n_gram_counts.get(previous_n_gram, 0)\n",
        "      \n",
        "  # Calculate the denominator using the count of the previous n gram\n",
        "  # and apply k-smoothing\n",
        "  denominator = previous_n_gram_count + k * vocabulary_size\n",
        "\n",
        "  # Define n plus 1 gram as the previous n-gram plus the current word as a tuple\n",
        "  n_plus1_gram = previous_n_gram + (word,)\n",
        "\n",
        "  # Set the count to the count in the dictionary,\n",
        "  # otherwise 0 if not in the dictionary\n",
        "  # use the dictionary that has counts for the n-gram plus current word\n",
        "  n_plus1_gram_count = n_plus1_gram_counts.get(n_plus1_gram, 0)\n",
        "      \n",
        "  # Define the numerator use the count of the n-gram plus current word,\n",
        "  # and apply smoothing\n",
        "  numerator = n_plus1_gram_count + k\n",
        "\n",
        "  # Calculate the probability as the numerator divided by denominator\n",
        "  probability = numerator / denominator\n",
        "  \n",
        "  return probability"
      ],
      "execution_count": 25,
      "outputs": []
    },
    {
      "cell_type": "code",
      "metadata": {
        "colab": {
          "base_uri": "https://localhost:8080/"
        },
        "id": "gv_Ihetrda56",
        "outputId": "6c17c224-6633-4c86-e4a1-32e0b2c04364"
      },
      "source": [
        "# test your code\n",
        "sentences = [['i', 'like', 'a', 'cat'],\n",
        "             ['this', 'dog', 'is', 'like', 'a', 'cat']]\n",
        "unique_words = list(set(sentences[0] + sentences[1]))\n",
        "\n",
        "unigram_counts = count_n_grams(sentences, 1)\n",
        "bigram_counts = count_n_grams(sentences, 2)\n",
        "tmp_prob = estimate_probability(\"cat\", \"a\", unigram_counts, bigram_counts, len(unique_words), k=1)\n",
        "\n",
        "print(f\"The estimated probability of word 'cat' given the previous n-gram 'a' is: {tmp_prob:.4f}\")"
      ],
      "execution_count": 26,
      "outputs": [
        {
          "output_type": "stream",
          "text": [
            "The estimated probability of word 'cat' given the previous n-gram 'a' is: 0.3333\n"
          ],
          "name": "stdout"
        }
      ]
    },
    {
      "cell_type": "code",
      "metadata": {
        "id": "1J_UYqjSdln_"
      },
      "source": [
        "def estimate_probabilities(previous_n_gram, n_gram_counts, n_plus1_gram_counts, vocabulary, k=1.0):\n",
        "  \"\"\"\n",
        "  Estimate the probabilities of next words using the n-gram counts with k-smoothing\n",
        "  \n",
        "  Args:\n",
        "      previous_n_gram: A sequence of words of length n\n",
        "      n_gram_counts: Dictionary of counts of n-grams\n",
        "      n_plus1_gram_counts: Dictionary of counts of (n+1)-grams\n",
        "      vocabulary: List of words\n",
        "      k: positive constant, smoothing parameter\n",
        "  \n",
        "  Returns:\n",
        "      A dictionary mapping from next words to the probability.\n",
        "  \"\"\"\n",
        "  \n",
        "  # convert list to tuple to use it as a dictionary key\n",
        "  previous_n_gram = tuple(previous_n_gram)\n",
        "  \n",
        "  # add <e> <unk> to the vocabulary\n",
        "  # <s> is not needed since it should not appear as the next word\n",
        "  vocabulary = vocabulary + [\"<e>\", \"<unk>\"]\n",
        "  vocabulary_size = len(vocabulary)\n",
        "  \n",
        "  probabilities = {}\n",
        "  for word in vocabulary:\n",
        "      probability = estimate_probability(word, previous_n_gram, \n",
        "                                          n_gram_counts, n_plus1_gram_counts, \n",
        "                                          vocabulary_size, k=k)\n",
        "      probabilities[word] = probability\n",
        "\n",
        "  return probabilities"
      ],
      "execution_count": 27,
      "outputs": []
    },
    {
      "cell_type": "code",
      "metadata": {
        "colab": {
          "base_uri": "https://localhost:8080/"
        },
        "id": "5qhm55oLePmA",
        "outputId": "5c6fc8a8-8759-4522-c6e8-be68b6e2811e"
      },
      "source": [
        "# test your code\n",
        "sentences = [['i', 'like', 'a', 'cat'],\n",
        "             ['this', 'dog', 'is', 'like', 'a', 'cat']]\n",
        "unique_words = list(set(sentences[0] + sentences[1]))\n",
        "unigram_counts = count_n_grams(sentences, 1)\n",
        "bigram_counts = count_n_grams(sentences, 2)\n",
        "estimate_probabilities(\"a\", unigram_counts, bigram_counts, unique_words, k=1)"
      ],
      "execution_count": 28,
      "outputs": [
        {
          "output_type": "execute_result",
          "data": {
            "text/plain": [
              "{'<e>': 0.09090909090909091,\n",
              " '<unk>': 0.09090909090909091,\n",
              " 'a': 0.09090909090909091,\n",
              " 'cat': 0.2727272727272727,\n",
              " 'dog': 0.09090909090909091,\n",
              " 'i': 0.09090909090909091,\n",
              " 'is': 0.09090909090909091,\n",
              " 'like': 0.09090909090909091,\n",
              " 'this': 0.09090909090909091}"
            ]
          },
          "metadata": {
            "tags": []
          },
          "execution_count": 28
        }
      ]
    },
    {
      "cell_type": "code",
      "metadata": {
        "colab": {
          "base_uri": "https://localhost:8080/"
        },
        "id": "h2Vcpax0eQ0a",
        "outputId": "6c3eccb1-953d-4e0e-a8fc-14be85315378"
      },
      "source": [
        "# Additional test\n",
        "trigram_counts = count_n_grams(sentences, 3)\n",
        "estimate_probabilities([\"<s>\", \"<s>\"], bigram_counts, trigram_counts, unique_words, k=1)"
      ],
      "execution_count": 29,
      "outputs": [
        {
          "output_type": "execute_result",
          "data": {
            "text/plain": [
              "{'<e>': 0.09090909090909091,\n",
              " '<unk>': 0.09090909090909091,\n",
              " 'a': 0.09090909090909091,\n",
              " 'cat': 0.09090909090909091,\n",
              " 'dog': 0.09090909090909091,\n",
              " 'i': 0.18181818181818182,\n",
              " 'is': 0.09090909090909091,\n",
              " 'like': 0.09090909090909091,\n",
              " 'this': 0.18181818181818182}"
            ]
          },
          "metadata": {
            "tags": []
          },
          "execution_count": 29
        }
      ]
    },
    {
      "cell_type": "code",
      "metadata": {
        "id": "poRjYjjReS2U"
      },
      "source": [
        "def make_count_matrix(n_plus1_gram_counts, vocabulary):\n",
        "  # add <e> <unk> to the vocabulary\n",
        "  # <s> is omitted since it should not appear as the next word\n",
        "  vocabulary = vocabulary + [\"<e>\", \"<unk>\"]\n",
        "  \n",
        "  # obtain unique n-grams\n",
        "  n_grams = []\n",
        "  for n_plus1_gram in n_plus1_gram_counts.keys():\n",
        "      n_gram = n_plus1_gram[0:-1]\n",
        "      n_grams.append(n_gram)\n",
        "  n_grams = list(set(n_grams))\n",
        "  \n",
        "  # mapping from n-gram to row\n",
        "  row_index = {n_gram:i for i, n_gram in enumerate(n_grams)}\n",
        "  # mapping from next word to column\n",
        "  col_index = {word:j for j, word in enumerate(vocabulary)}\n",
        "  \n",
        "  nrow = len(n_grams)\n",
        "  ncol = len(vocabulary)\n",
        "  count_matrix = np.zeros((nrow, ncol))\n",
        "  for n_plus1_gram, count in n_plus1_gram_counts.items():\n",
        "      n_gram = n_plus1_gram[0:-1]\n",
        "      word = n_plus1_gram[-1]\n",
        "      if word not in vocabulary:\n",
        "          continue\n",
        "      i = row_index[n_gram]\n",
        "      j = col_index[word]\n",
        "      count_matrix[i, j] = count\n",
        "  \n",
        "  count_matrix = pd.DataFrame(count_matrix, index=n_grams, columns=vocabulary)\n",
        "  return count_matrix"
      ],
      "execution_count": 30,
      "outputs": []
    },
    {
      "cell_type": "code",
      "metadata": {
        "colab": {
          "base_uri": "https://localhost:8080/",
          "height": 314
        },
        "id": "Hc96OEuHefHI",
        "outputId": "1e059130-9bbc-4518-b457-d44985e77944"
      },
      "source": [
        "sentences = [['i', 'like', 'a', 'cat'],\n",
        "                 ['this', 'dog', 'is', 'like', 'a', 'cat']]\n",
        "unique_words = list(set(sentences[0] + sentences[1]))\n",
        "bigram_counts = count_n_grams(sentences, 2)\n",
        "\n",
        "print('bigram counts')\n",
        "display(make_count_matrix(bigram_counts, unique_words))"
      ],
      "execution_count": 31,
      "outputs": [
        {
          "output_type": "stream",
          "text": [
            "bigram counts\n"
          ],
          "name": "stdout"
        },
        {
          "output_type": "display_data",
          "data": {
            "text/html": [
              "<div>\n",
              "<style scoped>\n",
              "    .dataframe tbody tr th:only-of-type {\n",
              "        vertical-align: middle;\n",
              "    }\n",
              "\n",
              "    .dataframe tbody tr th {\n",
              "        vertical-align: top;\n",
              "    }\n",
              "\n",
              "    .dataframe thead th {\n",
              "        text-align: right;\n",
              "    }\n",
              "</style>\n",
              "<table border=\"1\" class=\"dataframe\">\n",
              "  <thead>\n",
              "    <tr style=\"text-align: right;\">\n",
              "      <th></th>\n",
              "      <th>cat</th>\n",
              "      <th>this</th>\n",
              "      <th>a</th>\n",
              "      <th>i</th>\n",
              "      <th>like</th>\n",
              "      <th>dog</th>\n",
              "      <th>is</th>\n",
              "      <th>&lt;e&gt;</th>\n",
              "      <th>&lt;unk&gt;</th>\n",
              "    </tr>\n",
              "  </thead>\n",
              "  <tbody>\n",
              "    <tr>\n",
              "      <th>(like,)</th>\n",
              "      <td>0.0</td>\n",
              "      <td>0.0</td>\n",
              "      <td>2.0</td>\n",
              "      <td>0.0</td>\n",
              "      <td>0.0</td>\n",
              "      <td>0.0</td>\n",
              "      <td>0.0</td>\n",
              "      <td>0.0</td>\n",
              "      <td>0.0</td>\n",
              "    </tr>\n",
              "    <tr>\n",
              "      <th>(dog,)</th>\n",
              "      <td>0.0</td>\n",
              "      <td>0.0</td>\n",
              "      <td>0.0</td>\n",
              "      <td>0.0</td>\n",
              "      <td>0.0</td>\n",
              "      <td>0.0</td>\n",
              "      <td>1.0</td>\n",
              "      <td>0.0</td>\n",
              "      <td>0.0</td>\n",
              "    </tr>\n",
              "    <tr>\n",
              "      <th>(is,)</th>\n",
              "      <td>0.0</td>\n",
              "      <td>0.0</td>\n",
              "      <td>0.0</td>\n",
              "      <td>0.0</td>\n",
              "      <td>1.0</td>\n",
              "      <td>0.0</td>\n",
              "      <td>0.0</td>\n",
              "      <td>0.0</td>\n",
              "      <td>0.0</td>\n",
              "    </tr>\n",
              "    <tr>\n",
              "      <th>(a,)</th>\n",
              "      <td>2.0</td>\n",
              "      <td>0.0</td>\n",
              "      <td>0.0</td>\n",
              "      <td>0.0</td>\n",
              "      <td>0.0</td>\n",
              "      <td>0.0</td>\n",
              "      <td>0.0</td>\n",
              "      <td>0.0</td>\n",
              "      <td>0.0</td>\n",
              "    </tr>\n",
              "    <tr>\n",
              "      <th>(cat,)</th>\n",
              "      <td>0.0</td>\n",
              "      <td>0.0</td>\n",
              "      <td>0.0</td>\n",
              "      <td>0.0</td>\n",
              "      <td>0.0</td>\n",
              "      <td>0.0</td>\n",
              "      <td>0.0</td>\n",
              "      <td>2.0</td>\n",
              "      <td>0.0</td>\n",
              "    </tr>\n",
              "    <tr>\n",
              "      <th>(this,)</th>\n",
              "      <td>0.0</td>\n",
              "      <td>0.0</td>\n",
              "      <td>0.0</td>\n",
              "      <td>0.0</td>\n",
              "      <td>0.0</td>\n",
              "      <td>1.0</td>\n",
              "      <td>0.0</td>\n",
              "      <td>0.0</td>\n",
              "      <td>0.0</td>\n",
              "    </tr>\n",
              "    <tr>\n",
              "      <th>(&lt;s&gt;,)</th>\n",
              "      <td>0.0</td>\n",
              "      <td>1.0</td>\n",
              "      <td>0.0</td>\n",
              "      <td>1.0</td>\n",
              "      <td>0.0</td>\n",
              "      <td>0.0</td>\n",
              "      <td>0.0</td>\n",
              "      <td>0.0</td>\n",
              "      <td>0.0</td>\n",
              "    </tr>\n",
              "    <tr>\n",
              "      <th>(i,)</th>\n",
              "      <td>0.0</td>\n",
              "      <td>0.0</td>\n",
              "      <td>0.0</td>\n",
              "      <td>0.0</td>\n",
              "      <td>1.0</td>\n",
              "      <td>0.0</td>\n",
              "      <td>0.0</td>\n",
              "      <td>0.0</td>\n",
              "      <td>0.0</td>\n",
              "    </tr>\n",
              "  </tbody>\n",
              "</table>\n",
              "</div>"
            ],
            "text/plain": [
              "         cat  this    a    i  like  dog   is  <e>  <unk>\n",
              "(like,)  0.0   0.0  2.0  0.0   0.0  0.0  0.0  0.0    0.0\n",
              "(dog,)   0.0   0.0  0.0  0.0   0.0  0.0  1.0  0.0    0.0\n",
              "(is,)    0.0   0.0  0.0  0.0   1.0  0.0  0.0  0.0    0.0\n",
              "(a,)     2.0   0.0  0.0  0.0   0.0  0.0  0.0  0.0    0.0\n",
              "(cat,)   0.0   0.0  0.0  0.0   0.0  0.0  0.0  2.0    0.0\n",
              "(this,)  0.0   0.0  0.0  0.0   0.0  1.0  0.0  0.0    0.0\n",
              "(<s>,)   0.0   1.0  0.0  1.0   0.0  0.0  0.0  0.0    0.0\n",
              "(i,)     0.0   0.0  0.0  0.0   1.0  0.0  0.0  0.0    0.0"
            ]
          },
          "metadata": {
            "tags": []
          }
        }
      ]
    },
    {
      "cell_type": "markdown",
      "metadata": {
        "id": "-of9RCb0_9cP"
      },
      "source": [
        "## Part 3: Perplexity\n",
        "\n",
        "In this section, we will generate the perplexity score to evaluate our model on the test set. \n",
        "- We will also use back-off when needed. \n",
        "- Perplexity is used as an evaluation metric of our language model. \n",
        "- To calculate the  the perplexity score of the test set on an n-gram model, use: \n",
        "\n",
        "$$ PP(W) =\\sqrt[N]{ \\prod_{t=n+1}^N \\frac{1}{P(w_t | w_{t-n} \\cdots w_{t-1})} } \\tag{4}$$\n",
        "\n",
        "- where $N$ is the length of the sentence.\n",
        "- $n$ is the number of words in the n-gram (e.g. 2 for a bigram).\n",
        "- In math, the numbering starts at one and not zero.\n",
        "\n",
        "In code, array indexing starts at zero, so the code will use ranges for $t$ according to this formula:\n",
        "\n",
        "$$ PP(W) =\\sqrt[N]{ \\prod_{t=n}^{N-1} \\frac{1}{P(w_t | w_{t-n} \\cdots w_{t-1})} } \\tag{4.1}$$\n",
        "\n",
        "The higher the probabilities are, the lower the perplexity will be. \n",
        "- The more the n-grams tell us about the sentence, the lower the perplexity score will be. "
      ]
    },
    {
      "cell_type": "code",
      "metadata": {
        "id": "G-5oGa2ieihj"
      },
      "source": [
        "def calculate_perplexity(sentence, n_gram_counts, n_plus1_gram_counts, vocabulary_size, k=1.0):\n",
        "  \"\"\"\n",
        "  Calculate perplexity for a list of sentences\n",
        "  \n",
        "  Args:\n",
        "      sentence: List of strings\n",
        "      n_gram_counts: Dictionary of counts of n-grams\n",
        "      n_plus1_gram_counts: Dictionary of counts of (n+1)-grams\n",
        "      vocabulary_size: number of unique words in the vocabulary\n",
        "      k: Positive smoothing constant\n",
        "  \n",
        "  Returns:\n",
        "      Perplexity score\n",
        "  \"\"\"\n",
        "  # length of previous words\n",
        "  n = len(list(n_gram_counts.keys())[0])\n",
        "  \n",
        "  # prepend <s> and append <e>\n",
        "  sentence = [\"<s>\"] * n + sentence + [\"<e>\"]\n",
        "  \n",
        "  # Cast the sentence from a list to a tuple\n",
        "  sentence = tuple(sentence)\n",
        "  \n",
        "  # length of sentence (after adding <s> and <e> tokens)\n",
        "  N = len(sentence)\n",
        "  \n",
        "  # The variable p will hold the product\n",
        "  # that is calculated inside the n-root\n",
        "  # Update this in the code below\n",
        "  product_pi = 1.0\n",
        "  \n",
        "  # Index t ranges from n to N - 1, inclusive on both ends\n",
        "  for t in range(n, N): # complete this line\n",
        "\n",
        "      # get the n-gram preceding the word at position t\n",
        "      n_gram = sentence[t-n:t]\n",
        "      \n",
        "      # get the word at position t\n",
        "      word = sentence[t]\n",
        "      \n",
        "      # Estimate the probability of the word given the n-gram\n",
        "      # using the n-gram counts, n-plus1-gram counts,\n",
        "      # vocabulary size, and smoothing constant\n",
        "      probability = estimate_probability(word,n_gram, n_gram_counts, n_plus1_gram_counts, vocabulary_size, k=1)\n",
        "      \n",
        "      # Update the product of the probabilities\n",
        "      # This 'product_pi' is a cumulative product \n",
        "      # of the (1/P) factors that are calculated in the loop\n",
        "      product_pi *= 1 / probability\n",
        "\n",
        "  # Take the Nth root of the product\n",
        "  perplexity = product_pi ** (1/float(N))\n",
        "  \n",
        "  return perplexity"
      ],
      "execution_count": 39,
      "outputs": []
    },
    {
      "cell_type": "code",
      "metadata": {
        "colab": {
          "base_uri": "https://localhost:8080/"
        },
        "id": "RLmpOhSzArEw",
        "outputId": "d0d828b8-079e-4169-f955-4cdedbc65fbd"
      },
      "source": [
        "# test your code\n",
        "\n",
        "sentences = [['i', 'like', 'a', 'cat'],\n",
        "                 ['this', 'dog', 'is', 'like', 'a', 'cat']]\n",
        "unique_words = list(set(sentences[0] + sentences[1]))\n",
        "\n",
        "unigram_counts = count_n_grams(sentences, 1)\n",
        "bigram_counts = count_n_grams(sentences, 2)\n",
        "\n",
        "\n",
        "perplexity_train1 = calculate_perplexity(sentences[0],\n",
        "                                         unigram_counts, bigram_counts,\n",
        "                                         len(unique_words), k=1.0)\n",
        "print(f\"Perplexity for first train sample: {perplexity_train1:.4f}\")\n",
        "\n",
        "test_sentence = ['i', 'like', 'a', 'dog']\n",
        "perplexity_test = calculate_perplexity(test_sentence,\n",
        "                                       unigram_counts, bigram_counts,\n",
        "                                       len(unique_words), k=1.0)\n",
        "print(f\"Perplexity for test sample: {perplexity_test:.4f}\")"
      ],
      "execution_count": 40,
      "outputs": [
        {
          "output_type": "stream",
          "text": [
            "Perplexity for first train sample: 2.8040\n",
            "Perplexity for test sample: 3.9654\n"
          ],
          "name": "stdout"
        }
      ]
    },
    {
      "cell_type": "markdown",
      "metadata": {
        "id": "xz9pgCZtCkM7"
      },
      "source": [
        "## Part4: Build an auto-complete system"
      ]
    },
    {
      "cell_type": "code",
      "metadata": {
        "id": "kieDSdI-BFlq"
      },
      "source": [
        "def suggest_a_word(previous_tokens, n_gram_counts, n_plus1_gram_counts, vocabulary, k=1.0, start_with=None):\n",
        "  \"\"\"\n",
        "  Get suggestion for the next word\n",
        "  \n",
        "  Args:\n",
        "      previous_tokens: The sentence you input where each token is a word. Must have length > n \n",
        "      n_gram_counts: Dictionary of counts of n-grams\n",
        "      n_plus1_gram_counts: Dictionary of counts of (n+1)-grams\n",
        "      vocabulary: List of words\n",
        "      k: positive constant, smoothing parameter\n",
        "      start_with: If not None, specifies the first few letters of the next word\n",
        "      \n",
        "  Returns:\n",
        "      A tuple of \n",
        "        - string of the most likely next word\n",
        "        - corresponding probability\n",
        "  \"\"\"\n",
        "  \n",
        "  # length of previous words\n",
        "  n = len(list(n_gram_counts.keys())[0]) \n",
        "  \n",
        "  # From the words that the user already typed\n",
        "  # get the most recent 'n' words as the previous n-gram\n",
        "  previous_n_gram = previous_tokens[-n:]\n",
        "\n",
        "  # Estimate the probabilities that each word in the vocabulary\n",
        "  # is the next word,\n",
        "  # given the previous n-gram, the dictionary of n-gram counts,\n",
        "  # the dictionary of n plus 1 gram counts, and the smoothing constant\n",
        "  probabilities = estimate_probabilities(previous_n_gram,\n",
        "                                          n_gram_counts, n_plus1_gram_counts,\n",
        "                                          vocabulary, k=k)\n",
        "  \n",
        "  # Initialize suggested word to None\n",
        "  # This will be set to the word with highest probability\n",
        "  suggestion = None\n",
        "  \n",
        "  # Initialize the highest word probability to 0\n",
        "  # this will be set to the highest probability \n",
        "  # of all words to be suggested\n",
        "  max_prob = 0\n",
        "  \n",
        "  # For each word and its probability in the probabilities dictionary:\n",
        "  for word, prob in probabilities.items():\n",
        "      \n",
        "      # If the optional start_with string is set\n",
        "      if start_with != None: \n",
        "          \n",
        "          # Check if the beginning of word does not match with the letters in 'start_with'\n",
        "          if not word.startswith(start_with):\n",
        "\n",
        "              # if they don't match, skip this word (move onto the next word)\n",
        "              continue\n",
        "      \n",
        "      # Check if this word's probability\n",
        "      # is greater than the current maximum probability\n",
        "      if prob > max_prob:\n",
        "          \n",
        "          # If so, save this word as the best suggestion (so far)\n",
        "          suggestion = word\n",
        "          \n",
        "          # Save the new maximum probability\n",
        "          max_prob = prob\n",
        "  \n",
        "  return suggestion, max_prob"
      ],
      "execution_count": 46,
      "outputs": []
    },
    {
      "cell_type": "code",
      "metadata": {
        "colab": {
          "base_uri": "https://localhost:8080/"
        },
        "id": "HHIOqhU6Ddsw",
        "outputId": "ecdae146-754c-44b0-caba-64b63f1c5183"
      },
      "source": [
        "# test your code\n",
        "sentences = [['i', 'like', 'a', 'cat'],\n",
        "             ['this', 'dog', 'is', 'like', 'a', 'cat']]\n",
        "unique_words = list(set(sentences[0] + sentences[1]))\n",
        "\n",
        "unigram_counts = count_n_grams(sentences, 1)\n",
        "bigram_counts = count_n_grams(sentences, 2)\n",
        "\n",
        "previous_tokens = [\"i\", \"like\"]\n",
        "tmp_suggest1 = suggest_a_word(previous_tokens, unigram_counts, bigram_counts, unique_words, k=1.0)\n",
        "print(f\"The previous words are 'i like',\\n\\tand the suggested word is `{tmp_suggest1[0]}` with a probability of {tmp_suggest1[1]:.4f}\")\n",
        "\n",
        "print()\n",
        "# test your code when setting the starts_with\n",
        "tmp_starts_with = 'd'\n",
        "tmp_suggest2 = suggest_a_word(previous_tokens, unigram_counts, bigram_counts, unique_words, k=1.0, start_with=tmp_starts_with)\n",
        "print(f\"The previous words are 'i like', the suggestion must start with `{tmp_starts_with}`\\n\\tand the suggested word is `{tmp_suggest2[0]}` with a probability of {tmp_suggest2[1]:.4f}\")"
      ],
      "execution_count": 49,
      "outputs": [
        {
          "output_type": "stream",
          "text": [
            "The previous words are 'i like',\n",
            "\tand the suggested word is `a` with a probability of 0.2727\n",
            "\n",
            "The previous words are 'i like', the suggestion must start with `d`\n",
            "\tand the suggested word is `dog` with a probability of 0.0909\n"
          ],
          "name": "stdout"
        }
      ]
    },
    {
      "cell_type": "code",
      "metadata": {
        "id": "6rty4jPgD8SM"
      },
      "source": [
        ""
      ],
      "execution_count": null,
      "outputs": []
    }
  ]
}