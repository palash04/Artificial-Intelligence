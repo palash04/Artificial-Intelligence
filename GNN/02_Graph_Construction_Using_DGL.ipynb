{
  "nbformat": 4,
  "nbformat_minor": 0,
  "metadata": {
    "colab": {
      "name": "02_Graph_Construction_Using_DGL.ipynb",
      "provenance": []
    },
    "kernelspec": {
      "name": "python3",
      "display_name": "Python 3"
    },
    "language_info": {
      "name": "python"
    }
  },
  "cells": [
    {
      "cell_type": "code",
      "metadata": {
        "colab": {
          "base_uri": "https://localhost:8080/"
        },
        "id": "n_jk3xKhEBli",
        "outputId": "318be04f-b32c-4f0a-8e41-7aa59f4738c1"
      },
      "source": [
        "!pip install dgl"
      ],
      "execution_count": 1,
      "outputs": [
        {
          "output_type": "stream",
          "text": [
            "Collecting dgl\n",
            "  Downloading dgl-0.6.1-cp37-cp37m-manylinux1_x86_64.whl (4.4 MB)\n",
            "\u001b[K     |████████████████████████████████| 4.4 MB 6.1 MB/s \n",
            "\u001b[?25hRequirement already satisfied: requests>=2.19.0 in /usr/local/lib/python3.7/dist-packages (from dgl) (2.23.0)\n",
            "Requirement already satisfied: scipy>=1.1.0 in /usr/local/lib/python3.7/dist-packages (from dgl) (1.4.1)\n",
            "Requirement already satisfied: networkx>=2.1 in /usr/local/lib/python3.7/dist-packages (from dgl) (2.5.1)\n",
            "Requirement already satisfied: numpy>=1.14.0 in /usr/local/lib/python3.7/dist-packages (from dgl) (1.19.5)\n",
            "Requirement already satisfied: decorator<5,>=4.3 in /usr/local/lib/python3.7/dist-packages (from networkx>=2.1->dgl) (4.4.2)\n",
            "Requirement already satisfied: chardet<4,>=3.0.2 in /usr/local/lib/python3.7/dist-packages (from requests>=2.19.0->dgl) (3.0.4)\n",
            "Requirement already satisfied: idna<3,>=2.5 in /usr/local/lib/python3.7/dist-packages (from requests>=2.19.0->dgl) (2.10)\n",
            "Requirement already satisfied: urllib3!=1.25.0,!=1.25.1,<1.26,>=1.21.1 in /usr/local/lib/python3.7/dist-packages (from requests>=2.19.0->dgl) (1.24.3)\n",
            "Requirement already satisfied: certifi>=2017.4.17 in /usr/local/lib/python3.7/dist-packages (from requests>=2.19.0->dgl) (2021.5.30)\n",
            "Installing collected packages: dgl\n",
            "Successfully installed dgl-0.6.1\n"
          ],
          "name": "stdout"
        }
      ]
    },
    {
      "cell_type": "code",
      "metadata": {
        "colab": {
          "base_uri": "https://localhost:8080/"
        },
        "id": "wAQj1MLFGqTq",
        "outputId": "563edb93-b217-4b68-ec11-9f53be9e8c1c"
      },
      "source": [
        "import dgl\n",
        "import torch"
      ],
      "execution_count": 2,
      "outputs": [
        {
          "output_type": "stream",
          "text": [
            "DGL backend not selected or invalid.  Assuming PyTorch for now.\n"
          ],
          "name": "stderr"
        },
        {
          "output_type": "stream",
          "text": [
            "Setting the default backend to \"pytorch\". You can change it in the ~/.dgl/config.json file or export the DGLBACKEND environment variable.  Valid options are: pytorch, mxnet, tensorflow (all lowercase)\n"
          ],
          "name": "stdout"
        },
        {
          "output_type": "stream",
          "text": [
            "Using backend: pytorch\n"
          ],
          "name": "stderr"
        }
      ]
    },
    {
      "cell_type": "markdown",
      "metadata": {
        "id": "_8OpJ47CHY4Q"
      },
      "source": [
        "### DGL Graph Construction"
      ]
    },
    {
      "cell_type": "code",
      "metadata": {
        "id": "BAeejMkJGsS-"
      },
      "source": [
        "source_nodes = torch.LongTensor([0,0,0,0,0])\n",
        "destination_nodes = torch.LongTensor([1,2,3,4,5])\n",
        "\n",
        "# Edges: (0,1), (0,2), (0,3), (0,4), (0,5)\n",
        "\n",
        "g = dgl.graph((source_nodes, destination_nodes), num_nodes=6) # num_nodes is optional"
      ],
      "execution_count": 3,
      "outputs": []
    },
    {
      "cell_type": "code",
      "metadata": {
        "colab": {
          "base_uri": "https://localhost:8080/"
        },
        "id": "u3H8qc3gHHOW",
        "outputId": "5d4cc069-c0a6-4632-d3be-cac2ac01865e"
      },
      "source": [
        "print(g.num_nodes())\n",
        "print(g.num_edges())\n",
        "print(g.num_src_nodes())\n",
        "print(g.num_dst_nodes())\n",
        "print(g.out_degrees())"
      ],
      "execution_count": 6,
      "outputs": [
        {
          "output_type": "stream",
          "text": [
            "6\n",
            "5\n",
            "6\n",
            "6\n",
            "tensor([5, 0, 0, 0, 0, 0])\n"
          ],
          "name": "stdout"
        }
      ]
    },
    {
      "cell_type": "markdown",
      "metadata": {
        "id": "2osnBC_FHbDd"
      },
      "source": [
        "### Assigning Node and Edge Features to Graph\n",
        "\n",
        "Many graph data contain attributes on nodes and edges. Although the types of node and edge attributes can be arbitrary in real world, DGLGraph only accepts attributes stored in tensors (with numerical contents). Consequently, an attribute of all the nodes or edges must have the same shape. In the context of deep learning, those attributes are often called features."
      ]
    },
    {
      "cell_type": "code",
      "metadata": {
        "id": "rPhy-YD5HKjk"
      },
      "source": [
        "# Assign a 3-dimensional node feature vector for each node.\n",
        "g.ndata['x'] = torch.rand(6, 3) # shape of feature matrix 'x': (num_nodes, num_features)\n",
        "\n",
        "# Assign a 4-dimensional edge feature vector for each edge.\n",
        "g.edata['a'] = torch.rand(5, 4)\n",
        "\n",
        "# Assign a 5x4 node feature matrix for each node.  Node and edge features in DGL can be multi-dimensional.\n",
        "g.ndata['y'] = torch.rand(6, 5, 4)"
      ],
      "execution_count": 7,
      "outputs": []
    },
    {
      "cell_type": "code",
      "metadata": {
        "colab": {
          "base_uri": "https://localhost:8080/"
        },
        "id": "hiawmxgbH-kd",
        "outputId": "7f3cb0db-4942-4b1c-ac38-307c46b13451"
      },
      "source": [
        "print(g.edata['a'].shape)\n",
        "print(g.edata['a'])"
      ],
      "execution_count": 9,
      "outputs": [
        {
          "output_type": "stream",
          "text": [
            "torch.Size([5, 4])\n",
            "tensor([[0.1867, 0.9001, 0.1756, 0.4395],\n",
            "        [0.8044, 0.9233, 0.2546, 0.3940],\n",
            "        [0.6858, 0.2266, 0.5921, 0.8945],\n",
            "        [0.3366, 0.8734, 0.0227, 0.6714],\n",
            "        [0.7393, 0.3779, 0.4420, 0.1522]])\n"
          ],
          "name": "stdout"
        }
      ]
    },
    {
      "cell_type": "code",
      "metadata": {
        "colab": {
          "base_uri": "https://localhost:8080/"
        },
        "id": "ZwjK5EfgIAdC",
        "outputId": "c6143e50-e6fb-44be-8485-de3e6610d8f3"
      },
      "source": [
        "print(g.ndata['x'].shape)\n",
        "print(g.ndata['x'])"
      ],
      "execution_count": 11,
      "outputs": [
        {
          "output_type": "stream",
          "text": [
            "torch.Size([6, 3])\n",
            "tensor([[0.6537, 0.1834, 0.3923],\n",
            "        [0.8319, 0.6363, 0.8668],\n",
            "        [0.6875, 0.9529, 0.6878],\n",
            "        [0.3345, 0.5809, 0.1746],\n",
            "        [0.3187, 0.5822, 0.4995],\n",
            "        [0.8684, 0.3820, 0.8329]])\n"
          ],
          "name": "stdout"
        }
      ]
    },
    {
      "cell_type": "markdown",
      "metadata": {
        "id": "Da8kpkCnXyLE"
      },
      "source": [
        "### Loading and Saving graph"
      ]
    },
    {
      "cell_type": "code",
      "metadata": {
        "id": "C81RHruhIE3y"
      },
      "source": [
        "# save graph\n",
        "dgl.save_graphs('graph.dgl', g)\n",
        "\n",
        "# load graph\n",
        "g = dgl.load_graphs('graph.dgl')"
      ],
      "execution_count": 12,
      "outputs": []
    },
    {
      "cell_type": "code",
      "metadata": {
        "colab": {
          "base_uri": "https://localhost:8080/"
        },
        "id": "woOCSYgiX_Nq",
        "outputId": "d888b858-48c9-442d-def9-a1f3a75fee7f"
      },
      "source": [
        "print(g)"
      ],
      "execution_count": 13,
      "outputs": [
        {
          "output_type": "stream",
          "text": [
            "([Graph(num_nodes=6, num_edges=5,\n",
            "      ndata_schemes={'y': Scheme(shape=(5, 4), dtype=torch.float32), 'x': Scheme(shape=(3,), dtype=torch.float32)}\n",
            "      edata_schemes={'a': Scheme(shape=(4,), dtype=torch.float32)})], {})\n"
          ],
          "name": "stdout"
        }
      ]
    },
    {
      "cell_type": "code",
      "metadata": {
        "id": "2mvxV8hwYAWg"
      },
      "source": [
        ""
      ],
      "execution_count": null,
      "outputs": []
    }
  ]
}