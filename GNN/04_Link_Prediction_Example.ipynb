{
  "nbformat": 4,
  "nbformat_minor": 0,
  "metadata": {
    "colab": {
      "name": "04_Link_Prediction_Example.ipynb",
      "provenance": []
    },
    "kernelspec": {
      "name": "python3",
      "display_name": "Python 3"
    },
    "language_info": {
      "name": "python"
    }
  },
  "cells": [
    {
      "cell_type": "code",
      "metadata": {
        "colab": {
          "base_uri": "https://localhost:8080/"
        },
        "id": "X5Go_TIJd2QL",
        "outputId": "e277f17c-96c7-4d82-8e97-0b0a8407c30a"
      },
      "source": [
        "!pip install dgl"
      ],
      "execution_count": 1,
      "outputs": [
        {
          "output_type": "stream",
          "text": [
            "Collecting dgl\n",
            "  Downloading dgl-0.6.1-cp37-cp37m-manylinux1_x86_64.whl (4.4 MB)\n",
            "\u001b[K     |████████████████████████████████| 4.4 MB 33.9 MB/s \n",
            "\u001b[?25hRequirement already satisfied: scipy>=1.1.0 in /usr/local/lib/python3.7/dist-packages (from dgl) (1.4.1)\n",
            "Requirement already satisfied: numpy>=1.14.0 in /usr/local/lib/python3.7/dist-packages (from dgl) (1.19.5)\n",
            "Requirement already satisfied: networkx>=2.1 in /usr/local/lib/python3.7/dist-packages (from dgl) (2.5.1)\n",
            "Requirement already satisfied: requests>=2.19.0 in /usr/local/lib/python3.7/dist-packages (from dgl) (2.23.0)\n",
            "Requirement already satisfied: decorator<5,>=4.3 in /usr/local/lib/python3.7/dist-packages (from networkx>=2.1->dgl) (4.4.2)\n",
            "Requirement already satisfied: chardet<4,>=3.0.2 in /usr/local/lib/python3.7/dist-packages (from requests>=2.19.0->dgl) (3.0.4)\n",
            "Requirement already satisfied: certifi>=2017.4.17 in /usr/local/lib/python3.7/dist-packages (from requests>=2.19.0->dgl) (2021.5.30)\n",
            "Requirement already satisfied: urllib3!=1.25.0,!=1.25.1,<1.26,>=1.21.1 in /usr/local/lib/python3.7/dist-packages (from requests>=2.19.0->dgl) (1.24.3)\n",
            "Requirement already satisfied: idna<3,>=2.5 in /usr/local/lib/python3.7/dist-packages (from requests>=2.19.0->dgl) (2.10)\n",
            "Installing collected packages: dgl\n",
            "Successfully installed dgl-0.6.1\n"
          ],
          "name": "stdout"
        }
      ]
    },
    {
      "cell_type": "code",
      "metadata": {
        "colab": {
          "base_uri": "https://localhost:8080/"
        },
        "id": "WPsNzD8Nd_tf",
        "outputId": "5fc98fd9-39c0-4485-8d29-91008d65b638"
      },
      "source": [
        "import dgl\n",
        "import dgl.nn as dglnn\n",
        "import dgl.function as fn\n",
        "\n",
        "import torch\n",
        "import torch.nn as nn\n",
        "import torch.nn.functional as F\n",
        "\n",
        "import numpy as np"
      ],
      "execution_count": 2,
      "outputs": [
        {
          "output_type": "stream",
          "text": [
            "Setting the default backend to \"pytorch\". You can change it in the ~/.dgl/config.json file or export the DGLBACKEND environment variable.  Valid options are: pytorch, mxnet, tensorflow (all lowercase)\n"
          ],
          "name": "stdout"
        },
        {
          "output_type": "stream",
          "text": [
            "DGL backend not selected or invalid.  Assuming PyTorch for now.\n",
            "Using backend: pytorch\n"
          ],
          "name": "stderr"
        }
      ]
    },
    {
      "cell_type": "code",
      "metadata": {
        "id": "MmCxAJayvbxF"
      },
      "source": [
        "def trace(x, name):\n",
        "  print(f'Shape of {name}: {x.shape}')"
      ],
      "execution_count": 3,
      "outputs": []
    },
    {
      "cell_type": "code",
      "metadata": {
        "id": "sXgWPyCLeIKt"
      },
      "source": [
        "n_users = 1000\n",
        "n_items = 500\n",
        "n_follows = 3000\n",
        "n_clicks = 5000\n",
        "n_dislikes = 500\n",
        "n_hetero_features = 10\n",
        "n_user_classes = 5\n",
        "n_max_clicks = 10\n",
        "\n",
        "follow_src = np.random.randint(0, n_users, n_follows)\n",
        "follow_dst = np.random.randint(0, n_users, n_follows)\n",
        "click_src = np.random.randint(0, n_users, n_clicks)\n",
        "click_dst = np.random.randint(0, n_items, n_clicks)\n",
        "dislike_src = np.random.randint(0, n_users, n_dislikes)\n",
        "dislike_dst = np.random.randint(0, n_items, n_dislikes)"
      ],
      "execution_count": 4,
      "outputs": []
    },
    {
      "cell_type": "code",
      "metadata": {
        "id": "onQZEMvPeMfO"
      },
      "source": [
        "hetero_graph = dgl.heterograph({\n",
        "    ('user', 'click', 'item') : (click_src, click_dst),\n",
        "    ('item', 'clicked_by', 'user'): (click_dst, click_src)\n",
        "}, )"
      ],
      "execution_count": 5,
      "outputs": []
    },
    {
      "cell_type": "code",
      "metadata": {
        "colab": {
          "base_uri": "https://localhost:8080/"
        },
        "id": "_QCwOCb9eowE",
        "outputId": "5b23f2f0-ea66-46f9-9094-6a7379beb3e3"
      },
      "source": [
        "print(f'Total number of nodes {hetero_graph.num_nodes()}')\n",
        "print(f'Total number of edges: {hetero_graph.num_edges()}')"
      ],
      "execution_count": 6,
      "outputs": [
        {
          "output_type": "stream",
          "text": [
            "Total number of nodes 1500\n",
            "Total number of edges: 10000\n"
          ],
          "name": "stdout"
        }
      ]
    },
    {
      "cell_type": "code",
      "metadata": {
        "id": "R0k_H5hVfSlm"
      },
      "source": [
        "# Node features\n",
        "hetero_graph.nodes['user'].data['features'] = torch.randn(n_users, n_hetero_features)\n",
        "\n",
        "# item features\n",
        "hetero_graph.nodes['item'].data['features'] = torch.randn(n_items, n_hetero_features)\n",
        "\n",
        "# Train mask\n",
        "hetero_graph.nodes['user'].data['train_mask'] = torch.zeros(n_users, dtype=torch.bool).bernoulli(0.6)\n",
        "hetero_graph.edges['click'].data['train_mask'] = torch.zeros(n_clicks, dtype=torch.bool).bernoulli(0.6)"
      ],
      "execution_count": 7,
      "outputs": []
    },
    {
      "cell_type": "code",
      "metadata": {
        "id": "ggyY-VFGgCiE"
      },
      "source": [
        "class HeteroDotProductPredictor(nn.Module):\n",
        "  def forward(self, graph, h, etype):\n",
        "    # h contains the node representations for each node type computed from\n",
        "    # the GNN defined in the previous section (Section 5.1).\n",
        "    with graph.local_scope():\n",
        "      graph.ndata['h'] = h\n",
        "      graph.apply_edges(fn.u_dot_v('h', 'h', 'score'), etype=etype)\n",
        "      return graph.edges[etype].data['score']"
      ],
      "execution_count": 9,
      "outputs": []
    },
    {
      "cell_type": "code",
      "metadata": {
        "id": "741Ona_3gIYH"
      },
      "source": [
        "def construct_negative_graph(graph, k, mask, etype):\n",
        "  utype, _, vtype = etype\n",
        "  src, dst = graph.edges(etype=etype)\n",
        "  src = src[mask]\n",
        "  neg_src = src.repeat_interleave(k)\n",
        "  neg_dst = torch.randint(0, graph.num_nodes(vtype), (len(src) * k,))\n",
        "  return dgl.heterograph(\n",
        "    {etype: (neg_src, neg_dst)},\n",
        "    num_nodes_dict={ntype: graph.num_nodes(ntype) for ntype in graph.ntypes})"
      ],
      "execution_count": 27,
      "outputs": []
    },
    {
      "cell_type": "code",
      "metadata": {
        "id": "2m_zCcz0gkVJ"
      },
      "source": [
        "class RGCN(nn.Module):\n",
        "  def __init__(self, in_feats, hid_feats, out_feats, rel_names):\n",
        "    super().__init__()\n",
        "\n",
        "    self.conv1 = dglnn.HeteroGraphConv({\n",
        "        rel: dglnn.GraphConv(in_feats, hid_feats)\n",
        "        for rel in rel_names}, aggregate='sum')\n",
        "    self.conv2 = dglnn.HeteroGraphConv({\n",
        "        rel: dglnn.GraphConv(hid_feats, out_feats)\n",
        "        for rel in rel_names}, aggregate='sum')\n",
        "\n",
        "  def forward(self, graph, inputs):\n",
        "    # inputs are features of nodes\n",
        "    h = self.conv1(graph, inputs)\n",
        "    h = {k: F.relu(v) for k, v in h.items()}\n",
        "    h = self.conv2(graph, h)\n",
        "    return h"
      ],
      "execution_count": 19,
      "outputs": []
    },
    {
      "cell_type": "code",
      "metadata": {
        "id": "KS1xOqzUgMa-"
      },
      "source": [
        "class Model(nn.Module):\n",
        "  def __init__(self, in_features, hidden_features, out_features, rel_names):\n",
        "    super().__init__()\n",
        "    self.sage = RGCN(in_features, hidden_features, out_features, rel_names)\n",
        "    self.pred = HeteroDotProductPredictor()\n",
        "  def forward(self, g, neg_g, x, etype):\n",
        "    h = self.sage(g, x)\n",
        "    return self.pred(g, h, etype), self.pred(neg_g, h, etype)"
      ],
      "execution_count": 35,
      "outputs": []
    },
    {
      "cell_type": "code",
      "metadata": {
        "colab": {
          "base_uri": "https://localhost:8080/"
        },
        "id": "WJkqtVHcgRdf",
        "outputId": "9163d679-ea94-456e-be6b-822457f639f7"
      },
      "source": [
        "def compute_loss(pos_score, neg_score):\n",
        "    # Margin loss\n",
        "    \n",
        "    print(pos_score.unsqueeze(1).shape)\n",
        "    n_edges = pos_score.shape[0]\n",
        "    print(neg_score.view(n_edges, -1).shape)\n",
        "\n",
        "    return (1 - pos_score.unsqueeze(1) + neg_score.view(n_edges, -1)).clamp(min=0).mean()\n",
        "\n",
        "k = 5\n",
        "model = Model(10, 20, 5, hetero_graph.etypes)\n",
        "user_feats = hetero_graph.nodes['user'].data['features']\n",
        "trace(user_feats,'user_feats')\n",
        "item_feats = hetero_graph.nodes['item'].data['features']\n",
        "trace(item_feats,'item_feats')\n",
        "node_features = {'user': user_feats, 'item': item_feats}\n",
        "opt = torch.optim.Adam(model.parameters())\n",
        "for epoch in range(10):\n",
        "  train_mask = hetero_graph.edges['click'].data['train_mask']\n",
        "  negative_graph = construct_negative_graph(hetero_graph, k, train_mask, ('user', 'click', 'item'))\n",
        "  pos_score, neg_score = model(hetero_graph, negative_graph, node_features, ('user', 'click', 'item'))\n",
        "  break\n",
        "  trace(pos_score, 'pos_score')\n",
        "  trace(neg_score, 'neg_score')\n",
        "  loss = compute_loss(pos_score[train_mask], neg_score)\n",
        "  opt.zero_grad()\n",
        "  loss.backward()\n",
        "  opt.step()\n",
        "  print(loss.item())"
      ],
      "execution_count": 36,
      "outputs": [
        {
          "output_type": "stream",
          "text": [
            "Shape of user_feats: torch.Size([1000, 10])\n",
            "Shape of item_feats: torch.Size([500, 10])\n",
            "torch.Size([1000, 5])\n",
            "torch.Size([500, 5])\n"
          ],
          "name": "stdout"
        }
      ]
    },
    {
      "cell_type": "code",
      "metadata": {
        "colab": {
          "base_uri": "https://localhost:8080/"
        },
        "id": "OFZOeU86vYLy",
        "outputId": "343e09df-da15-4090-faab-f0bedd7a6c5d"
      },
      "source": [
        "hetero_graph"
      ],
      "execution_count": 37,
      "outputs": [
        {
          "output_type": "execute_result",
          "data": {
            "text/plain": [
              "Graph(num_nodes={'item': 500, 'user': 1000},\n",
              "      num_edges={('item', 'clicked_by', 'user'): 5000, ('user', 'click', 'item'): 5000},\n",
              "      metagraph=[('item', 'user', 'clicked_by'), ('user', 'item', 'click')])"
            ]
          },
          "metadata": {
            "tags": []
          },
          "execution_count": 37
        }
      ]
    }
  ]
}