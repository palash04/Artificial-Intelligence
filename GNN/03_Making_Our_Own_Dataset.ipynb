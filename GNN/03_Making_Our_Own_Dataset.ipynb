{
  "nbformat": 4,
  "nbformat_minor": 0,
  "metadata": {
    "colab": {
      "name": "03_Making_Our_Own_Dataset.ipynb",
      "provenance": []
    },
    "kernelspec": {
      "name": "python3",
      "display_name": "Python 3"
    },
    "language_info": {
      "name": "python"
    }
  },
  "cells": [
    {
      "cell_type": "code",
      "metadata": {
        "colab": {
          "base_uri": "https://localhost:8080/"
        },
        "id": "AvsGkUb3WsB-",
        "outputId": "ea5b6fc7-82c0-4adf-8390-833805f4c5c2"
      },
      "source": [
        "!pip install dgl"
      ],
      "execution_count": 1,
      "outputs": [
        {
          "output_type": "stream",
          "text": [
            "Collecting dgl\n",
            "  Downloading dgl-0.6.1-cp37-cp37m-manylinux1_x86_64.whl (4.4 MB)\n",
            "\u001b[K     |████████████████████████████████| 4.4 MB 5.0 MB/s \n",
            "\u001b[?25hRequirement already satisfied: numpy>=1.14.0 in /usr/local/lib/python3.7/dist-packages (from dgl) (1.19.5)\n",
            "Requirement already satisfied: requests>=2.19.0 in /usr/local/lib/python3.7/dist-packages (from dgl) (2.23.0)\n",
            "Requirement already satisfied: networkx>=2.1 in /usr/local/lib/python3.7/dist-packages (from dgl) (2.5.1)\n",
            "Requirement already satisfied: scipy>=1.1.0 in /usr/local/lib/python3.7/dist-packages (from dgl) (1.4.1)\n",
            "Requirement already satisfied: decorator<5,>=4.3 in /usr/local/lib/python3.7/dist-packages (from networkx>=2.1->dgl) (4.4.2)\n",
            "Requirement already satisfied: certifi>=2017.4.17 in /usr/local/lib/python3.7/dist-packages (from requests>=2.19.0->dgl) (2021.5.30)\n",
            "Requirement already satisfied: idna<3,>=2.5 in /usr/local/lib/python3.7/dist-packages (from requests>=2.19.0->dgl) (2.10)\n",
            "Requirement already satisfied: urllib3!=1.25.0,!=1.25.1,<1.26,>=1.21.1 in /usr/local/lib/python3.7/dist-packages (from requests>=2.19.0->dgl) (1.24.3)\n",
            "Requirement already satisfied: chardet<4,>=3.0.2 in /usr/local/lib/python3.7/dist-packages (from requests>=2.19.0->dgl) (3.0.4)\n",
            "Installing collected packages: dgl\n",
            "Successfully installed dgl-0.6.1\n"
          ],
          "name": "stdout"
        }
      ]
    },
    {
      "cell_type": "code",
      "metadata": {
        "id": "7EUQmk-aWwXj"
      },
      "source": [
        "import dgl\n",
        "from dgl.data import DGLDataset\n",
        "\n",
        "import os\n",
        "\n",
        "import torch\n",
        "import torch.nn as nn\n",
        "import torch.nn.functional as F"
      ],
      "execution_count": 7,
      "outputs": []
    },
    {
      "cell_type": "markdown",
      "metadata": {
        "id": "GOezDYkUZrZk"
      },
      "source": [
        "## Creating a dataset for node classification from csv"
      ]
    },
    {
      "cell_type": "markdown",
      "metadata": {
        "id": "cWWakwVFZ0Et"
      },
      "source": [
        "Dataset taken from [Zachary's Karate Club](https://en.wikipedia.org/wiki/Zachary%27s_karate_club)"
      ]
    },
    {
      "cell_type": "code",
      "metadata": {
        "id": "0nihmExdW0qW"
      },
      "source": [
        "import urllib.request\n",
        "import pandas as pd"
      ],
      "execution_count": 4,
      "outputs": []
    },
    {
      "cell_type": "code",
      "metadata": {
        "colab": {
          "base_uri": "https://localhost:8080/"
        },
        "id": "_YOeNTdiaBn5",
        "outputId": "120c7058-643f-4d58-edee-c57f17d4fe51"
      },
      "source": [
        "urllib.request.urlretrieve(\n",
        "    'https://data.dgl.ai/tutorial/dataset/members.csv', './members.csv'\n",
        ")\n",
        "\n",
        "urllib.request.urlretrieve(\n",
        "    'https://data.dgl.ai/tutorial/dataset/interactions.csv', './interactions.csv'\n",
        ")"
      ],
      "execution_count": 5,
      "outputs": [
        {
          "output_type": "execute_result",
          "data": {
            "text/plain": [
              "('./interactions.csv', <http.client.HTTPMessage at 0x7efbbca20e10>)"
            ]
          },
          "metadata": {
            "tags": []
          },
          "execution_count": 5
        }
      ]
    },
    {
      "cell_type": "markdown",
      "metadata": {
        "id": "l7kbjzD_aO1V"
      },
      "source": [
        "Treating members as nodes and interactions as edges"
      ]
    },
    {
      "cell_type": "code",
      "metadata": {
        "id": "XbQYWUgLbbMf"
      },
      "source": [
        "nodes_data = pd.read_csv('./members.csv')\n",
        "edges_data = pd.read_csv('./interactions.csv')"
      ],
      "execution_count": 9,
      "outputs": []
    },
    {
      "cell_type": "code",
      "metadata": {
        "colab": {
          "base_uri": "https://localhost:8080/"
        },
        "id": "Vy0zSrgubcMn",
        "outputId": "81cfb7d0-bb30-4d98-99bd-4c3d499d4f50"
      },
      "source": [
        "print(nodes_data.head())"
      ],
      "execution_count": 10,
      "outputs": [
        {
          "output_type": "stream",
          "text": [
            "   Id    Club  Age\n",
            "0   0  Mr. Hi   44\n",
            "1   1  Mr. Hi   37\n",
            "2   2  Mr. Hi   37\n",
            "3   3  Mr. Hi   40\n",
            "4   4  Mr. Hi   30\n"
          ],
          "name": "stdout"
        }
      ]
    },
    {
      "cell_type": "code",
      "metadata": {
        "colab": {
          "base_uri": "https://localhost:8080/"
        },
        "id": "vig34hnXb2ZD",
        "outputId": "2b838a37-b07b-455f-be4a-89640651f327"
      },
      "source": [
        "node_labels = torch.from_numpy(nodes_data['Club'].astype('category').cat.codes.to_numpy())\n",
        "print(len(node_labels))\n",
        "print(node_labels)"
      ],
      "execution_count": 14,
      "outputs": [
        {
          "output_type": "stream",
          "text": [
            "34\n",
            "tensor([0, 0, 0, 0, 0, 0, 0, 0, 0, 1, 0, 0, 0, 0, 1, 1, 0, 0, 1, 0, 1, 0, 1, 1,\n",
            "        1, 1, 1, 1, 1, 1, 1, 1, 1, 1], dtype=torch.int8)\n"
          ],
          "name": "stdout"
        }
      ]
    },
    {
      "cell_type": "code",
      "metadata": {
        "colab": {
          "base_uri": "https://localhost:8080/"
        },
        "id": "it_iTEHVbeQ-",
        "outputId": "66358b52-5e8d-476a-c3d8-4563ec931ee0"
      },
      "source": [
        "print(edges_data.head())"
      ],
      "execution_count": 11,
      "outputs": [
        {
          "output_type": "stream",
          "text": [
            "   Src  Dst    Weight\n",
            "0    0    1  0.043591\n",
            "1    0    2  0.282119\n",
            "2    0    3  0.370293\n",
            "3    0    4  0.730570\n",
            "4    0    5  0.821187\n"
          ],
          "name": "stdout"
        }
      ]
    },
    {
      "cell_type": "code",
      "metadata": {
        "id": "Cj0rw0S6aMCT"
      },
      "source": [
        "class KarateClubDataset(DGLDataset):\n",
        "  def __init__(self):\n",
        "    super().__init__(name='karate_club')\n",
        "\n",
        "  def process(self):\n",
        "    nodes_data = pd.read_csv('./members.csv')\n",
        "    edges_data = pd.read_csv('./interactions.csv')\n",
        "    node_features = torch.from_numpy(nodes_data['Age'].to_numpy())\n",
        "    node_labels = torch.from_numpy(nodes_data['Club'].astype('category').cat.codes.to_numpy())\n",
        "    edge_features = torch.from_numpy(edges_data['Weight'].to_numpy())\n",
        "    edges_src = torch.from_numpy(edges_data['Src'].to_numpy())\n",
        "    edges_dst = torch.from_numpy(edges_data['Dst'].to_numpy())\n",
        "\n",
        "    self.graph = dgl.graph((edges_src, edges_dst), num_nodes=nodes_data.shape[0])\n",
        "    self.graph.ndata['feat'] = node_features\n",
        "    self.graph.ndata['label'] = node_labels\n",
        "    self.graph.edata['weight'] = edge_features\n",
        "\n",
        "    # assigning masks indicating whether a node belongs to training,\n",
        "    # validation, and test set\n",
        "    n_nodes = nodes_data.shape[0]\n",
        "    n_train = int(n_nodes * 0.6)\n",
        "    n_val = int(n_nodes * 0.2)\n",
        "    train_mask = torch.zeros(n_nodes, dtype=torch.bool)\n",
        "    val_mask = torch.zeros(n_nodes, dtype=torch.bool)\n",
        "    test_mask = torch.zeros(n_nodes, dtype=torch.bool)\n",
        "    train_mask[:n_train] = True\n",
        "    val_mask[n_train : n_train + n_val] = True\n",
        "    test_mask[n_train + n_val:] = True\n",
        "    self.graph.ndata['train_mask'] = train_mask\n",
        "    self.graph.ndata['val_mask'] = val_mask\n",
        "    self.graph.ndata['test_mask'] = test_mask\n",
        "  \n",
        "  def __getitem__(self, i):\n",
        "    return self.graph\n",
        "  \n",
        "  def __len__(self):\n",
        "    return 1"
      ],
      "execution_count": 17,
      "outputs": []
    },
    {
      "cell_type": "code",
      "metadata": {
        "id": "mq5Cgf_aa16V"
      },
      "source": [
        "dataset = KarateClubDataset()\n",
        "graph = dataset[0]"
      ],
      "execution_count": 21,
      "outputs": []
    },
    {
      "cell_type": "code",
      "metadata": {
        "colab": {
          "base_uri": "https://localhost:8080/"
        },
        "id": "x-HXS7xOc04v",
        "outputId": "d8988ae4-24c1-4493-a080-70574d28934a"
      },
      "source": [
        "print(graph)"
      ],
      "execution_count": 19,
      "outputs": [
        {
          "output_type": "stream",
          "text": [
            "Graph(num_nodes=34, num_edges=156,\n",
            "      ndata_schemes={'feat': Scheme(shape=(), dtype=torch.int64), 'label': Scheme(shape=(), dtype=torch.int8), 'train_mask': Scheme(shape=(), dtype=torch.bool), 'val_mask': Scheme(shape=(), dtype=torch.bool), 'test_mask': Scheme(shape=(), dtype=torch.bool)}\n",
            "      edata_schemes={'weight': Scheme(shape=(), dtype=torch.float64)})\n"
          ],
          "name": "stdout"
        }
      ]
    }
  ]
}