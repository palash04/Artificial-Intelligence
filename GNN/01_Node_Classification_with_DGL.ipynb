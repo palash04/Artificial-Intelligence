{
  "nbformat": 4,
  "nbformat_minor": 0,
  "metadata": {
    "colab": {
      "name": "01_Node_Classification_with_DGL.ipynb",
      "provenance": []
    },
    "kernelspec": {
      "name": "python3",
      "display_name": "Python 3"
    },
    "language_info": {
      "name": "python"
    }
  },
  "cells": [
    {
      "cell_type": "markdown",
      "metadata": {
        "id": "bPo8IUdU4bNu"
      },
      "source": [
        "## Node Classification with Deep Graph Library"
      ]
    },
    {
      "cell_type": "code",
      "metadata": {
        "colab": {
          "base_uri": "https://localhost:8080/"
        },
        "id": "2qNiSdei4LGp",
        "outputId": "f7be1e69-a52e-410a-c347-1c25057480ce"
      },
      "source": [
        "!pip install dgl"
      ],
      "execution_count": 1,
      "outputs": [
        {
          "output_type": "stream",
          "text": [
            "Collecting dgl\n",
            "  Downloading dgl-0.6.1-cp37-cp37m-manylinux1_x86_64.whl (4.4 MB)\n",
            "\u001b[K     |████████████████████████████████| 4.4 MB 5.1 MB/s \n",
            "\u001b[?25hRequirement already satisfied: networkx>=2.1 in /usr/local/lib/python3.7/dist-packages (from dgl) (2.5.1)\n",
            "Requirement already satisfied: requests>=2.19.0 in /usr/local/lib/python3.7/dist-packages (from dgl) (2.23.0)\n",
            "Requirement already satisfied: scipy>=1.1.0 in /usr/local/lib/python3.7/dist-packages (from dgl) (1.4.1)\n",
            "Requirement already satisfied: numpy>=1.14.0 in /usr/local/lib/python3.7/dist-packages (from dgl) (1.19.5)\n",
            "Requirement already satisfied: decorator<5,>=4.3 in /usr/local/lib/python3.7/dist-packages (from networkx>=2.1->dgl) (4.4.2)\n",
            "Requirement already satisfied: idna<3,>=2.5 in /usr/local/lib/python3.7/dist-packages (from requests>=2.19.0->dgl) (2.10)\n",
            "Requirement already satisfied: certifi>=2017.4.17 in /usr/local/lib/python3.7/dist-packages (from requests>=2.19.0->dgl) (2021.5.30)\n",
            "Requirement already satisfied: chardet<4,>=3.0.2 in /usr/local/lib/python3.7/dist-packages (from requests>=2.19.0->dgl) (3.0.4)\n",
            "Requirement already satisfied: urllib3!=1.25.0,!=1.25.1,<1.26,>=1.21.1 in /usr/local/lib/python3.7/dist-packages (from requests>=2.19.0->dgl) (1.24.3)\n",
            "Installing collected packages: dgl\n",
            "Successfully installed dgl-0.6.1\n"
          ],
          "name": "stdout"
        }
      ]
    },
    {
      "cell_type": "code",
      "metadata": {
        "colab": {
          "base_uri": "https://localhost:8080/"
        },
        "id": "CwRCK9jv4hXr",
        "outputId": "861ebd96-7f00-4a59-9d55-245e29067b86"
      },
      "source": [
        "import dgl\n",
        "import torch\n",
        "import torch.nn as nn\n",
        "import torch.nn.functional as F"
      ],
      "execution_count": 2,
      "outputs": [
        {
          "output_type": "stream",
          "text": [
            "DGL backend not selected or invalid.  Assuming PyTorch for now.\n"
          ],
          "name": "stderr"
        },
        {
          "output_type": "stream",
          "text": [
            "Setting the default backend to \"pytorch\". You can change it in the ~/.dgl/config.json file or export the DGLBACKEND environment variable.  Valid options are: pytorch, mxnet, tensorflow (all lowercase)\n"
          ],
          "name": "stdout"
        },
        {
          "output_type": "stream",
          "text": [
            "Using backend: pytorch\n"
          ],
          "name": "stderr"
        }
      ]
    },
    {
      "cell_type": "markdown",
      "metadata": {
        "id": "7l5UWVG47Bzd"
      },
      "source": [
        "## Loading Cora Dataset"
      ]
    },
    {
      "cell_type": "code",
      "metadata": {
        "colab": {
          "base_uri": "https://localhost:8080/"
        },
        "id": "L62abPjz4nbQ",
        "outputId": "2f6b0bce-86c9-4c75-91b9-b4d041735a96"
      },
      "source": [
        "import dgl.data as data\n",
        "dataset = data.CoraGraphDataset()"
      ],
      "execution_count": 3,
      "outputs": [
        {
          "output_type": "stream",
          "text": [
            "Downloading /root/.dgl/cora_v2.zip from https://data.dgl.ai/dataset/cora_v2.zip...\n",
            "Extracting file to /root/.dgl/cora_v2\n",
            "Finished data loading and preprocessing.\n",
            "  NumNodes: 2708\n",
            "  NumEdges: 10556\n",
            "  NumFeats: 1433\n",
            "  NumClasses: 7\n",
            "  NumTrainingSamples: 140\n",
            "  NumValidationSamples: 500\n",
            "  NumTestSamples: 1000\n",
            "Done saving data into cached files.\n"
          ],
          "name": "stdout"
        }
      ]
    },
    {
      "cell_type": "code",
      "metadata": {
        "colab": {
          "base_uri": "https://localhost:8080/"
        },
        "id": "R8UiKt_C7Rj5",
        "outputId": "bcccee1c-1e03-4f72-a7c1-f7cc370da610"
      },
      "source": [
        "print(f'Number of categories: {dataset.num_classes}')"
      ],
      "execution_count": 4,
      "outputs": [
        {
          "output_type": "stream",
          "text": [
            "Number of categories: 7\n"
          ],
          "name": "stdout"
        }
      ]
    },
    {
      "cell_type": "markdown",
      "metadata": {
        "id": "cjAfyG9p7eRX"
      },
      "source": [
        "A DGL Dataset object may contain one or multiple graphs. The Cora dataset used in this tutorial only consists of one single graph."
      ]
    },
    {
      "cell_type": "code",
      "metadata": {
        "colab": {
          "base_uri": "https://localhost:8080/"
        },
        "id": "6niy7Cur7Y4d",
        "outputId": "5d78e674-99ff-48ce-c049-42a66a18ab27"
      },
      "source": [
        "print(f'Number of graphs: {len(dataset)}')"
      ],
      "execution_count": 5,
      "outputs": [
        {
          "output_type": "stream",
          "text": [
            "Number of graphs: 1\n"
          ],
          "name": "stdout"
        }
      ]
    },
    {
      "cell_type": "code",
      "metadata": {
        "id": "Eh0W328U7kZf"
      },
      "source": [
        "g = dataset[0]"
      ],
      "execution_count": 6,
      "outputs": []
    },
    {
      "cell_type": "code",
      "metadata": {
        "colab": {
          "base_uri": "https://localhost:8080/"
        },
        "id": "LnBwCxrrGCI3",
        "outputId": "8792c2a8-32ba-4666-8811-52993d0645ed"
      },
      "source": [
        "print(g.num_nodes())\n",
        "print(g.num_edges())\n",
        "print(g.num_src_nodes())"
      ],
      "execution_count": 7,
      "outputs": [
        {
          "output_type": "stream",
          "text": [
            "2708\n",
            "10556\n",
            "2708\n"
          ],
          "name": "stdout"
        }
      ]
    },
    {
      "cell_type": "markdown",
      "metadata": {
        "id": "VhMpbvj-7304"
      },
      "source": [
        "A DGL graph can store node features and edge features in two dictionary-like attributes called ndata and edata. In the DGL Cora dataset, the graph contains the following node features:\n",
        "\n",
        "- train_mask: A boolean tensor indicating whether the node is in the training set.\n",
        "\n",
        "- val_mask: A boolean tensor indicating whether the node is in the validation set.\n",
        "\n",
        "- test_mask: A boolean tensor indicating whether the node is in the test set.\n",
        "\n",
        "- label: The ground truth node category.\n",
        "\n",
        "- feat: The node features."
      ]
    },
    {
      "cell_type": "code",
      "metadata": {
        "colab": {
          "base_uri": "https://localhost:8080/"
        },
        "id": "lsTiNf_z7lqJ",
        "outputId": "4325b3da-579f-4163-dfcb-bb7a85c8b12e"
      },
      "source": [
        "print('Node features')\n",
        "print(g.ndata)"
      ],
      "execution_count": 8,
      "outputs": [
        {
          "output_type": "stream",
          "text": [
            "Node features\n",
            "{'train_mask': tensor([ True,  True,  True,  ..., False, False, False]), 'val_mask': tensor([False, False, False,  ..., False, False, False]), 'test_mask': tensor([False, False, False,  ...,  True,  True,  True]), 'label': tensor([3, 4, 4,  ..., 3, 3, 3]), 'feat': tensor([[0., 0., 0.,  ..., 0., 0., 0.],\n",
            "        [0., 0., 0.,  ..., 0., 0., 0.],\n",
            "        [0., 0., 0.,  ..., 0., 0., 0.],\n",
            "        ...,\n",
            "        [0., 0., 0.,  ..., 0., 0., 0.],\n",
            "        [0., 0., 0.,  ..., 0., 0., 0.],\n",
            "        [0., 0., 0.,  ..., 0., 0., 0.]])}\n"
          ],
          "name": "stdout"
        }
      ]
    },
    {
      "cell_type": "code",
      "metadata": {
        "colab": {
          "base_uri": "https://localhost:8080/"
        },
        "id": "v0Jb-eJd8DBr",
        "outputId": "2ba9ede6-3ec0-4963-9f92-28afa91ac510"
      },
      "source": [
        "num_train_examples = g.ndata['train_mask'].sum()\n",
        "num_test_examples = g.ndata['test_mask'].sum()\n",
        "num_val_examples = g.ndata['val_mask'].sum()\n",
        "\n",
        "print(f'Number of train examples: {num_train_examples}')\n",
        "print(f'Number of test examples: {num_test_examples}')\n",
        "print(f'Number of val examples: {num_val_examples}')"
      ],
      "execution_count": 9,
      "outputs": [
        {
          "output_type": "stream",
          "text": [
            "Number of train examples: 140\n",
            "Number of test examples: 1000\n",
            "Number of val examples: 500\n"
          ],
          "name": "stdout"
        }
      ]
    },
    {
      "cell_type": "code",
      "metadata": {
        "colab": {
          "base_uri": "https://localhost:8080/"
        },
        "id": "ATotRUzDffi9",
        "outputId": "6423cb33-8bae-4201-e152-db05c82bd1f7"
      },
      "source": [
        "print(g.ndata['feat'].shape)"
      ],
      "execution_count": 10,
      "outputs": [
        {
          "output_type": "stream",
          "text": [
            "torch.Size([2708, 1433])\n"
          ],
          "name": "stdout"
        }
      ]
    },
    {
      "cell_type": "code",
      "metadata": {
        "colab": {
          "base_uri": "https://localhost:8080/"
        },
        "id": "vg8AcLcv8RB4",
        "outputId": "953f1e9a-422e-4744-a6fd-d871f3306064"
      },
      "source": [
        "print('Edge features')\n",
        "print(g.edata)"
      ],
      "execution_count": 11,
      "outputs": [
        {
          "output_type": "stream",
          "text": [
            "Edge features\n",
            "{}\n"
          ],
          "name": "stdout"
        }
      ]
    },
    {
      "cell_type": "markdown",
      "metadata": {
        "id": "fe4V7j4Y87MV"
      },
      "source": [
        "## Defining a GCN\n",
        "\n",
        "[GCN](http://tkipf.github.io/graph-convolutional-networks/)\n",
        "\n",
        "Building **2-layer** GCN\n",
        "\n",
        "Each layer computes new node representations by aggregating neighbor information.\n",
        "\n",
        "To build a multi-layer GCN you can simply stack **dgl.nn.GraphConv** modules, which inherit **torch.nn.Module**"
      ]
    },
    {
      "cell_type": "code",
      "metadata": {
        "id": "n2maGZ1B8rWt"
      },
      "source": [
        "from dgl.nn import GraphConv\n",
        "\n",
        "class GCN(nn.Module):\n",
        "  def __init__(self, in_features, h_features, num_classes):\n",
        "    super(GCN, self).__init__()\n",
        "    self.conv1 = GraphConv(in_feats=in_features, out_feats=h_features)\n",
        "    self.conv2 = GraphConv(in_feats=h_features, out_feats=num_classes)\n",
        "\n",
        "  def forward(self, g, in_feat):\n",
        "    # shape of in_feat: (number_of_nodes x number_of_features)\n",
        "    h = self.conv1(g, in_feat)\n",
        "    h = F.relu(h)\n",
        "    # shape of h: (number_of_nodes x number_of_hidden_features)\n",
        "    o = self.conv2(g, h)\n",
        "    # shape of o: (number_of_nodes x number_of_classes)\n",
        "    return o"
      ],
      "execution_count": 12,
      "outputs": []
    },
    {
      "cell_type": "code",
      "metadata": {
        "colab": {
          "base_uri": "https://localhost:8080/"
        },
        "id": "dYQ4IMWbf9gY",
        "outputId": "a3f71e6a-b91c-4bbd-e25b-1138bbf496e7"
      },
      "source": [
        "# Testing GCN architecture\n",
        "X = g.ndata['feat']\n",
        "model = GCN(X.shape[1], 128, dataset.num_classes)\n",
        "output = model(g, X)\n",
        "print(output.shape)"
      ],
      "execution_count": 13,
      "outputs": [
        {
          "output_type": "stream",
          "text": [
            "torch.Size([2708, 7])\n"
          ],
          "name": "stdout"
        }
      ]
    },
    {
      "cell_type": "markdown",
      "metadata": {
        "id": "9aP5nGCfexP4"
      },
      "source": [
        "## Training the GCN"
      ]
    },
    {
      "cell_type": "code",
      "metadata": {
        "id": "3T5MbRjz-3d5"
      },
      "source": [
        "def train(g, model, epochs=100):\n",
        "  optimizer = torch.optim.Adam(model.parameters(), lr=0.01)\n",
        "  best_val_acc = 0\n",
        "  best_test_acc = 0\n",
        "\n",
        "  features = g.ndata['feat']    # shape: (num_nodes, num_features)\n",
        "  labels = g.ndata['label']     # shape: (num_nodes)\n",
        "\n",
        "  train_mask = g.ndata['train_mask']\n",
        "  test_mask = g.ndata['test_mask']\n",
        "  val_mask = g.ndata['val_mask']\n",
        "\n",
        "  for epoch in range(epochs):\n",
        "    # forward pass\n",
        "    logits = model(g, features)\n",
        "\n",
        "    # compute prediction\n",
        "    pred = logits.argmax(1)\n",
        "\n",
        "    # compute loss\n",
        "    loss = F.cross_entropy(logits[train_mask], labels[train_mask])\n",
        "\n",
        "    # compute accuracy on training/validatio/test\n",
        "    train_acc = (pred[train_mask] == labels[train_mask]).float().mean()\n",
        "    val_acc = (pred[val_mask] == labels[val_mask]).float().mean()\n",
        "    test_acc = (pred[test_mask] == labels[test_mask]).float().mean()\n",
        "\n",
        "    # save best validation accuracy and corresponding test accuracy\n",
        "    if val_acc > best_val_acc:\n",
        "      best_val_acc = val_acc\n",
        "      best_test_acc = test_acc\n",
        "    \n",
        "    # Backward\n",
        "    optimizer.zero_grad()\n",
        "    loss.backward()\n",
        "    optimizer.step()\n",
        "\n",
        "    if epoch % 5 == 0:\n",
        "      print(f'Epoch: [{epoch+1}/{epochs}], Loss: {loss:.6f}, Val Acc: {val_acc:.3f}, Best Val Acc: {best_val_acc:.3f}, Test Acc: {test_acc:.3f}, Best Test Acc: {best_test_acc:.3f}')"
      ],
      "execution_count": 30,
      "outputs": []
    },
    {
      "cell_type": "code",
      "metadata": {
        "id": "lBRdjxAUgicR"
      },
      "source": [
        "model = GCN(g.ndata['feat'].shape[1], 16, dataset.num_classes)"
      ],
      "execution_count": 31,
      "outputs": []
    },
    {
      "cell_type": "code",
      "metadata": {
        "colab": {
          "base_uri": "https://localhost:8080/"
        },
        "id": "wqeianMCirtj",
        "outputId": "e2b576bc-3b9b-4f94-a8f9-1dc26305a4c8"
      },
      "source": [
        "train(g, model)"
      ],
      "execution_count": 32,
      "outputs": [
        {
          "output_type": "stream",
          "text": [
            "Epoch: [1/100], Loss: 1.946356, Val Acc: 0.146, Best Val Acc: 0.146, Test Acc: 0.150, Best Test Acc: 0.150\n",
            "Epoch: [6/100], Loss: 1.887570, Val Acc: 0.354, Best Val Acc: 0.354, Test Acc: 0.343, Best Test Acc: 0.342\n",
            "Epoch: [11/100], Loss: 1.804297, Val Acc: 0.390, Best Val Acc: 0.390, Test Acc: 0.390, Best Test Acc: 0.390\n",
            "Epoch: [16/100], Loss: 1.698399, Val Acc: 0.554, Best Val Acc: 0.554, Test Acc: 0.575, Best Test Acc: 0.575\n",
            "Epoch: [21/100], Loss: 1.572961, Val Acc: 0.638, Best Val Acc: 0.638, Test Acc: 0.664, Best Test Acc: 0.654\n",
            "Epoch: [26/100], Loss: 1.429610, Val Acc: 0.672, Best Val Acc: 0.672, Test Acc: 0.701, Best Test Acc: 0.701\n",
            "Epoch: [31/100], Loss: 1.272831, Val Acc: 0.720, Best Val Acc: 0.720, Test Acc: 0.738, Best Test Acc: 0.738\n",
            "Epoch: [36/100], Loss: 1.109048, Val Acc: 0.738, Best Val Acc: 0.738, Test Acc: 0.746, Best Test Acc: 0.746\n",
            "Epoch: [41/100], Loss: 0.946338, Val Acc: 0.750, Best Val Acc: 0.750, Test Acc: 0.755, Best Test Acc: 0.755\n",
            "Epoch: [46/100], Loss: 0.793090, Val Acc: 0.756, Best Val Acc: 0.756, Test Acc: 0.763, Best Test Acc: 0.763\n",
            "Epoch: [51/100], Loss: 0.655496, Val Acc: 0.758, Best Val Acc: 0.758, Test Acc: 0.768, Best Test Acc: 0.768\n",
            "Epoch: [56/100], Loss: 0.536875, Val Acc: 0.762, Best Val Acc: 0.762, Test Acc: 0.764, Best Test Acc: 0.765\n",
            "Epoch: [61/100], Loss: 0.437782, Val Acc: 0.762, Best Val Acc: 0.762, Test Acc: 0.760, Best Test Acc: 0.765\n",
            "Epoch: [66/100], Loss: 0.356915, Val Acc: 0.768, Best Val Acc: 0.768, Test Acc: 0.759, Best Test Acc: 0.759\n",
            "Epoch: [71/100], Loss: 0.291935, Val Acc: 0.774, Best Val Acc: 0.774, Test Acc: 0.759, Best Test Acc: 0.760\n",
            "Epoch: [76/100], Loss: 0.240188, Val Acc: 0.778, Best Val Acc: 0.778, Test Acc: 0.759, Best Test Acc: 0.762\n",
            "Epoch: [81/100], Loss: 0.199158, Val Acc: 0.780, Best Val Acc: 0.780, Test Acc: 0.765, Best Test Acc: 0.761\n",
            "Epoch: [86/100], Loss: 0.166626, Val Acc: 0.782, Best Val Acc: 0.782, Test Acc: 0.765, Best Test Acc: 0.765\n",
            "Epoch: [91/100], Loss: 0.140753, Val Acc: 0.788, Best Val Acc: 0.788, Test Acc: 0.760, Best Test Acc: 0.760\n",
            "Epoch: [96/100], Loss: 0.120063, Val Acc: 0.788, Best Val Acc: 0.788, Test Acc: 0.758, Best Test Acc: 0.760\n"
          ],
          "name": "stdout"
        }
      ]
    },
    {
      "cell_type": "markdown",
      "metadata": {
        "id": "DvtL8fFDjeZR"
      },
      "source": [
        "## Training on gpu"
      ]
    },
    {
      "cell_type": "code",
      "metadata": {
        "id": "dKyel7IOitUC"
      },
      "source": [
        "g = g.to('cuda')\n",
        "model = GCN(g.ndata['feat'].shape[1], 16, dataset.num_classes).to('cuda')\n",
        "train(g, model)"
      ],
      "execution_count": null,
      "outputs": []
    }
  ]
}