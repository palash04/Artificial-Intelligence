{
  "nbformat": 4,
  "nbformat_minor": 0,
  "metadata": {
    "colab": {
      "name": "FMNIST.ipynb",
      "provenance": [],
      "collapsed_sections": []
    },
    "kernelspec": {
      "name": "python3",
      "display_name": "Python 3"
    },
    "accelerator": "GPU",
    "widgets": {
      "application/vnd.jupyter.widget-state+json": {
        "5ef2e78ce05d408e9e4f692d0c004df3": {
          "model_module": "@jupyter-widgets/controls",
          "model_name": "HBoxModel",
          "state": {
            "_view_name": "HBoxView",
            "_dom_classes": [],
            "_model_name": "HBoxModel",
            "_view_module": "@jupyter-widgets/controls",
            "_model_module_version": "1.5.0",
            "_view_count": null,
            "_view_module_version": "1.5.0",
            "box_style": "",
            "layout": "IPY_MODEL_59d5c3374d824864a44f4c2bb2af9342",
            "_model_module": "@jupyter-widgets/controls",
            "children": [
              "IPY_MODEL_97d061b6b16c4d7e898b65f0d9d97c88",
              "IPY_MODEL_a0106c23c4a84539ac85f8f1cce3319b"
            ]
          }
        },
        "59d5c3374d824864a44f4c2bb2af9342": {
          "model_module": "@jupyter-widgets/base",
          "model_name": "LayoutModel",
          "state": {
            "_view_name": "LayoutView",
            "grid_template_rows": null,
            "right": null,
            "justify_content": null,
            "_view_module": "@jupyter-widgets/base",
            "overflow": null,
            "_model_module_version": "1.2.0",
            "_view_count": null,
            "flex_flow": null,
            "width": null,
            "min_width": null,
            "border": null,
            "align_items": null,
            "bottom": null,
            "_model_module": "@jupyter-widgets/base",
            "top": null,
            "grid_column": null,
            "overflow_y": null,
            "overflow_x": null,
            "grid_auto_flow": null,
            "grid_area": null,
            "grid_template_columns": null,
            "flex": null,
            "_model_name": "LayoutModel",
            "justify_items": null,
            "grid_row": null,
            "max_height": null,
            "align_content": null,
            "visibility": null,
            "align_self": null,
            "height": null,
            "min_height": null,
            "padding": null,
            "grid_auto_rows": null,
            "grid_gap": null,
            "max_width": null,
            "order": null,
            "_view_module_version": "1.2.0",
            "grid_template_areas": null,
            "object_position": null,
            "object_fit": null,
            "grid_auto_columns": null,
            "margin": null,
            "display": null,
            "left": null
          }
        },
        "97d061b6b16c4d7e898b65f0d9d97c88": {
          "model_module": "@jupyter-widgets/controls",
          "model_name": "FloatProgressModel",
          "state": {
            "_view_name": "ProgressView",
            "style": "IPY_MODEL_0fe6cac8806a4c099c8129c30ad7a269",
            "_dom_classes": [],
            "description": "",
            "_model_name": "FloatProgressModel",
            "bar_style": "info",
            "max": 1,
            "_view_module": "@jupyter-widgets/controls",
            "_model_module_version": "1.5.0",
            "value": 1,
            "_view_count": null,
            "_view_module_version": "1.5.0",
            "orientation": "horizontal",
            "min": 0,
            "description_tooltip": null,
            "_model_module": "@jupyter-widgets/controls",
            "layout": "IPY_MODEL_27118b9c9f734fbd84b08e358fded843"
          }
        },
        "a0106c23c4a84539ac85f8f1cce3319b": {
          "model_module": "@jupyter-widgets/controls",
          "model_name": "HTMLModel",
          "state": {
            "_view_name": "HTMLView",
            "style": "IPY_MODEL_87e894c3e97f42c98fcb8c6a8042c906",
            "_dom_classes": [],
            "description": "",
            "_model_name": "HTMLModel",
            "placeholder": "​",
            "_view_module": "@jupyter-widgets/controls",
            "_model_module_version": "1.5.0",
            "value": " 26427392/? [00:20&lt;00:00, 4587804.62it/s]",
            "_view_count": null,
            "_view_module_version": "1.5.0",
            "description_tooltip": null,
            "_model_module": "@jupyter-widgets/controls",
            "layout": "IPY_MODEL_650751bfd5c04fcfaae3200f45e54e76"
          }
        },
        "0fe6cac8806a4c099c8129c30ad7a269": {
          "model_module": "@jupyter-widgets/controls",
          "model_name": "ProgressStyleModel",
          "state": {
            "_view_name": "StyleView",
            "_model_name": "ProgressStyleModel",
            "description_width": "initial",
            "_view_module": "@jupyter-widgets/base",
            "_model_module_version": "1.5.0",
            "_view_count": null,
            "_view_module_version": "1.2.0",
            "bar_color": null,
            "_model_module": "@jupyter-widgets/controls"
          }
        },
        "27118b9c9f734fbd84b08e358fded843": {
          "model_module": "@jupyter-widgets/base",
          "model_name": "LayoutModel",
          "state": {
            "_view_name": "LayoutView",
            "grid_template_rows": null,
            "right": null,
            "justify_content": null,
            "_view_module": "@jupyter-widgets/base",
            "overflow": null,
            "_model_module_version": "1.2.0",
            "_view_count": null,
            "flex_flow": null,
            "width": null,
            "min_width": null,
            "border": null,
            "align_items": null,
            "bottom": null,
            "_model_module": "@jupyter-widgets/base",
            "top": null,
            "grid_column": null,
            "overflow_y": null,
            "overflow_x": null,
            "grid_auto_flow": null,
            "grid_area": null,
            "grid_template_columns": null,
            "flex": null,
            "_model_name": "LayoutModel",
            "justify_items": null,
            "grid_row": null,
            "max_height": null,
            "align_content": null,
            "visibility": null,
            "align_self": null,
            "height": null,
            "min_height": null,
            "padding": null,
            "grid_auto_rows": null,
            "grid_gap": null,
            "max_width": null,
            "order": null,
            "_view_module_version": "1.2.0",
            "grid_template_areas": null,
            "object_position": null,
            "object_fit": null,
            "grid_auto_columns": null,
            "margin": null,
            "display": null,
            "left": null
          }
        },
        "87e894c3e97f42c98fcb8c6a8042c906": {
          "model_module": "@jupyter-widgets/controls",
          "model_name": "DescriptionStyleModel",
          "state": {
            "_view_name": "StyleView",
            "_model_name": "DescriptionStyleModel",
            "description_width": "",
            "_view_module": "@jupyter-widgets/base",
            "_model_module_version": "1.5.0",
            "_view_count": null,
            "_view_module_version": "1.2.0",
            "_model_module": "@jupyter-widgets/controls"
          }
        },
        "650751bfd5c04fcfaae3200f45e54e76": {
          "model_module": "@jupyter-widgets/base",
          "model_name": "LayoutModel",
          "state": {
            "_view_name": "LayoutView",
            "grid_template_rows": null,
            "right": null,
            "justify_content": null,
            "_view_module": "@jupyter-widgets/base",
            "overflow": null,
            "_model_module_version": "1.2.0",
            "_view_count": null,
            "flex_flow": null,
            "width": null,
            "min_width": null,
            "border": null,
            "align_items": null,
            "bottom": null,
            "_model_module": "@jupyter-widgets/base",
            "top": null,
            "grid_column": null,
            "overflow_y": null,
            "overflow_x": null,
            "grid_auto_flow": null,
            "grid_area": null,
            "grid_template_columns": null,
            "flex": null,
            "_model_name": "LayoutModel",
            "justify_items": null,
            "grid_row": null,
            "max_height": null,
            "align_content": null,
            "visibility": null,
            "align_self": null,
            "height": null,
            "min_height": null,
            "padding": null,
            "grid_auto_rows": null,
            "grid_gap": null,
            "max_width": null,
            "order": null,
            "_view_module_version": "1.2.0",
            "grid_template_areas": null,
            "object_position": null,
            "object_fit": null,
            "grid_auto_columns": null,
            "margin": null,
            "display": null,
            "left": null
          }
        },
        "1a3cfe81d1f24c87a7ff20faa8ff7dcd": {
          "model_module": "@jupyter-widgets/controls",
          "model_name": "HBoxModel",
          "state": {
            "_view_name": "HBoxView",
            "_dom_classes": [],
            "_model_name": "HBoxModel",
            "_view_module": "@jupyter-widgets/controls",
            "_model_module_version": "1.5.0",
            "_view_count": null,
            "_view_module_version": "1.5.0",
            "box_style": "",
            "layout": "IPY_MODEL_6c43f02b336b4d6482c4f5d8ee536b3d",
            "_model_module": "@jupyter-widgets/controls",
            "children": [
              "IPY_MODEL_5056dbb9322d4067917b48266d0ed3c4",
              "IPY_MODEL_99a2a88b89d646d0a0e2860851141c28"
            ]
          }
        },
        "6c43f02b336b4d6482c4f5d8ee536b3d": {
          "model_module": "@jupyter-widgets/base",
          "model_name": "LayoutModel",
          "state": {
            "_view_name": "LayoutView",
            "grid_template_rows": null,
            "right": null,
            "justify_content": null,
            "_view_module": "@jupyter-widgets/base",
            "overflow": null,
            "_model_module_version": "1.2.0",
            "_view_count": null,
            "flex_flow": null,
            "width": null,
            "min_width": null,
            "border": null,
            "align_items": null,
            "bottom": null,
            "_model_module": "@jupyter-widgets/base",
            "top": null,
            "grid_column": null,
            "overflow_y": null,
            "overflow_x": null,
            "grid_auto_flow": null,
            "grid_area": null,
            "grid_template_columns": null,
            "flex": null,
            "_model_name": "LayoutModel",
            "justify_items": null,
            "grid_row": null,
            "max_height": null,
            "align_content": null,
            "visibility": null,
            "align_self": null,
            "height": null,
            "min_height": null,
            "padding": null,
            "grid_auto_rows": null,
            "grid_gap": null,
            "max_width": null,
            "order": null,
            "_view_module_version": "1.2.0",
            "grid_template_areas": null,
            "object_position": null,
            "object_fit": null,
            "grid_auto_columns": null,
            "margin": null,
            "display": null,
            "left": null
          }
        },
        "5056dbb9322d4067917b48266d0ed3c4": {
          "model_module": "@jupyter-widgets/controls",
          "model_name": "FloatProgressModel",
          "state": {
            "_view_name": "ProgressView",
            "style": "IPY_MODEL_c99c749b438140e585a617af98e4efda",
            "_dom_classes": [],
            "description": "",
            "_model_name": "FloatProgressModel",
            "bar_style": "success",
            "max": 1,
            "_view_module": "@jupyter-widgets/controls",
            "_model_module_version": "1.5.0",
            "value": 1,
            "_view_count": null,
            "_view_module_version": "1.5.0",
            "orientation": "horizontal",
            "min": 0,
            "description_tooltip": null,
            "_model_module": "@jupyter-widgets/controls",
            "layout": "IPY_MODEL_28b79e69c1914fb08eb290b611e96b35"
          }
        },
        "99a2a88b89d646d0a0e2860851141c28": {
          "model_module": "@jupyter-widgets/controls",
          "model_name": "HTMLModel",
          "state": {
            "_view_name": "HTMLView",
            "style": "IPY_MODEL_ccd7dc4b93c04cc7b91c61de7b91e0f9",
            "_dom_classes": [],
            "description": "",
            "_model_name": "HTMLModel",
            "placeholder": "​",
            "_view_module": "@jupyter-widgets/controls",
            "_model_module_version": "1.5.0",
            "value": " 32768/? [00:00&lt;00:00, 101715.24it/s]",
            "_view_count": null,
            "_view_module_version": "1.5.0",
            "description_tooltip": null,
            "_model_module": "@jupyter-widgets/controls",
            "layout": "IPY_MODEL_5e11091b5b3e420e8428cc46795e8bc1"
          }
        },
        "c99c749b438140e585a617af98e4efda": {
          "model_module": "@jupyter-widgets/controls",
          "model_name": "ProgressStyleModel",
          "state": {
            "_view_name": "StyleView",
            "_model_name": "ProgressStyleModel",
            "description_width": "initial",
            "_view_module": "@jupyter-widgets/base",
            "_model_module_version": "1.5.0",
            "_view_count": null,
            "_view_module_version": "1.2.0",
            "bar_color": null,
            "_model_module": "@jupyter-widgets/controls"
          }
        },
        "28b79e69c1914fb08eb290b611e96b35": {
          "model_module": "@jupyter-widgets/base",
          "model_name": "LayoutModel",
          "state": {
            "_view_name": "LayoutView",
            "grid_template_rows": null,
            "right": null,
            "justify_content": null,
            "_view_module": "@jupyter-widgets/base",
            "overflow": null,
            "_model_module_version": "1.2.0",
            "_view_count": null,
            "flex_flow": null,
            "width": null,
            "min_width": null,
            "border": null,
            "align_items": null,
            "bottom": null,
            "_model_module": "@jupyter-widgets/base",
            "top": null,
            "grid_column": null,
            "overflow_y": null,
            "overflow_x": null,
            "grid_auto_flow": null,
            "grid_area": null,
            "grid_template_columns": null,
            "flex": null,
            "_model_name": "LayoutModel",
            "justify_items": null,
            "grid_row": null,
            "max_height": null,
            "align_content": null,
            "visibility": null,
            "align_self": null,
            "height": null,
            "min_height": null,
            "padding": null,
            "grid_auto_rows": null,
            "grid_gap": null,
            "max_width": null,
            "order": null,
            "_view_module_version": "1.2.0",
            "grid_template_areas": null,
            "object_position": null,
            "object_fit": null,
            "grid_auto_columns": null,
            "margin": null,
            "display": null,
            "left": null
          }
        },
        "ccd7dc4b93c04cc7b91c61de7b91e0f9": {
          "model_module": "@jupyter-widgets/controls",
          "model_name": "DescriptionStyleModel",
          "state": {
            "_view_name": "StyleView",
            "_model_name": "DescriptionStyleModel",
            "description_width": "",
            "_view_module": "@jupyter-widgets/base",
            "_model_module_version": "1.5.0",
            "_view_count": null,
            "_view_module_version": "1.2.0",
            "_model_module": "@jupyter-widgets/controls"
          }
        },
        "5e11091b5b3e420e8428cc46795e8bc1": {
          "model_module": "@jupyter-widgets/base",
          "model_name": "LayoutModel",
          "state": {
            "_view_name": "LayoutView",
            "grid_template_rows": null,
            "right": null,
            "justify_content": null,
            "_view_module": "@jupyter-widgets/base",
            "overflow": null,
            "_model_module_version": "1.2.0",
            "_view_count": null,
            "flex_flow": null,
            "width": null,
            "min_width": null,
            "border": null,
            "align_items": null,
            "bottom": null,
            "_model_module": "@jupyter-widgets/base",
            "top": null,
            "grid_column": null,
            "overflow_y": null,
            "overflow_x": null,
            "grid_auto_flow": null,
            "grid_area": null,
            "grid_template_columns": null,
            "flex": null,
            "_model_name": "LayoutModel",
            "justify_items": null,
            "grid_row": null,
            "max_height": null,
            "align_content": null,
            "visibility": null,
            "align_self": null,
            "height": null,
            "min_height": null,
            "padding": null,
            "grid_auto_rows": null,
            "grid_gap": null,
            "max_width": null,
            "order": null,
            "_view_module_version": "1.2.0",
            "grid_template_areas": null,
            "object_position": null,
            "object_fit": null,
            "grid_auto_columns": null,
            "margin": null,
            "display": null,
            "left": null
          }
        },
        "9a39051f353045fb97f180c4174860f4": {
          "model_module": "@jupyter-widgets/controls",
          "model_name": "HBoxModel",
          "state": {
            "_view_name": "HBoxView",
            "_dom_classes": [],
            "_model_name": "HBoxModel",
            "_view_module": "@jupyter-widgets/controls",
            "_model_module_version": "1.5.0",
            "_view_count": null,
            "_view_module_version": "1.5.0",
            "box_style": "",
            "layout": "IPY_MODEL_90aeb871ff6046aeb23e98107128dffa",
            "_model_module": "@jupyter-widgets/controls",
            "children": [
              "IPY_MODEL_b71a00a619d349b0851c8de6f77f8d0a",
              "IPY_MODEL_a9da88fb67be498696ccac1c3ed4af0c"
            ]
          }
        },
        "90aeb871ff6046aeb23e98107128dffa": {
          "model_module": "@jupyter-widgets/base",
          "model_name": "LayoutModel",
          "state": {
            "_view_name": "LayoutView",
            "grid_template_rows": null,
            "right": null,
            "justify_content": null,
            "_view_module": "@jupyter-widgets/base",
            "overflow": null,
            "_model_module_version": "1.2.0",
            "_view_count": null,
            "flex_flow": null,
            "width": null,
            "min_width": null,
            "border": null,
            "align_items": null,
            "bottom": null,
            "_model_module": "@jupyter-widgets/base",
            "top": null,
            "grid_column": null,
            "overflow_y": null,
            "overflow_x": null,
            "grid_auto_flow": null,
            "grid_area": null,
            "grid_template_columns": null,
            "flex": null,
            "_model_name": "LayoutModel",
            "justify_items": null,
            "grid_row": null,
            "max_height": null,
            "align_content": null,
            "visibility": null,
            "align_self": null,
            "height": null,
            "min_height": null,
            "padding": null,
            "grid_auto_rows": null,
            "grid_gap": null,
            "max_width": null,
            "order": null,
            "_view_module_version": "1.2.0",
            "grid_template_areas": null,
            "object_position": null,
            "object_fit": null,
            "grid_auto_columns": null,
            "margin": null,
            "display": null,
            "left": null
          }
        },
        "b71a00a619d349b0851c8de6f77f8d0a": {
          "model_module": "@jupyter-widgets/controls",
          "model_name": "FloatProgressModel",
          "state": {
            "_view_name": "ProgressView",
            "style": "IPY_MODEL_187cc75272cd48418e6f2b89968669d9",
            "_dom_classes": [],
            "description": "",
            "_model_name": "FloatProgressModel",
            "bar_style": "info",
            "max": 1,
            "_view_module": "@jupyter-widgets/controls",
            "_model_module_version": "1.5.0",
            "value": 1,
            "_view_count": null,
            "_view_module_version": "1.5.0",
            "orientation": "horizontal",
            "min": 0,
            "description_tooltip": null,
            "_model_module": "@jupyter-widgets/controls",
            "layout": "IPY_MODEL_b189a18f02af49de862ca36efa0b4ca0"
          }
        },
        "a9da88fb67be498696ccac1c3ed4af0c": {
          "model_module": "@jupyter-widgets/controls",
          "model_name": "HTMLModel",
          "state": {
            "_view_name": "HTMLView",
            "style": "IPY_MODEL_c20b0b97093041baab483cd9ff8e5316",
            "_dom_classes": [],
            "description": "",
            "_model_name": "HTMLModel",
            "placeholder": "​",
            "_view_module": "@jupyter-widgets/controls",
            "_model_module_version": "1.5.0",
            "value": " 4423680/? [00:17&lt;00:00, 869279.16it/s]",
            "_view_count": null,
            "_view_module_version": "1.5.0",
            "description_tooltip": null,
            "_model_module": "@jupyter-widgets/controls",
            "layout": "IPY_MODEL_f09097dd196142bd8d3cd7f882a45c1d"
          }
        },
        "187cc75272cd48418e6f2b89968669d9": {
          "model_module": "@jupyter-widgets/controls",
          "model_name": "ProgressStyleModel",
          "state": {
            "_view_name": "StyleView",
            "_model_name": "ProgressStyleModel",
            "description_width": "initial",
            "_view_module": "@jupyter-widgets/base",
            "_model_module_version": "1.5.0",
            "_view_count": null,
            "_view_module_version": "1.2.0",
            "bar_color": null,
            "_model_module": "@jupyter-widgets/controls"
          }
        },
        "b189a18f02af49de862ca36efa0b4ca0": {
          "model_module": "@jupyter-widgets/base",
          "model_name": "LayoutModel",
          "state": {
            "_view_name": "LayoutView",
            "grid_template_rows": null,
            "right": null,
            "justify_content": null,
            "_view_module": "@jupyter-widgets/base",
            "overflow": null,
            "_model_module_version": "1.2.0",
            "_view_count": null,
            "flex_flow": null,
            "width": null,
            "min_width": null,
            "border": null,
            "align_items": null,
            "bottom": null,
            "_model_module": "@jupyter-widgets/base",
            "top": null,
            "grid_column": null,
            "overflow_y": null,
            "overflow_x": null,
            "grid_auto_flow": null,
            "grid_area": null,
            "grid_template_columns": null,
            "flex": null,
            "_model_name": "LayoutModel",
            "justify_items": null,
            "grid_row": null,
            "max_height": null,
            "align_content": null,
            "visibility": null,
            "align_self": null,
            "height": null,
            "min_height": null,
            "padding": null,
            "grid_auto_rows": null,
            "grid_gap": null,
            "max_width": null,
            "order": null,
            "_view_module_version": "1.2.0",
            "grid_template_areas": null,
            "object_position": null,
            "object_fit": null,
            "grid_auto_columns": null,
            "margin": null,
            "display": null,
            "left": null
          }
        },
        "c20b0b97093041baab483cd9ff8e5316": {
          "model_module": "@jupyter-widgets/controls",
          "model_name": "DescriptionStyleModel",
          "state": {
            "_view_name": "StyleView",
            "_model_name": "DescriptionStyleModel",
            "description_width": "",
            "_view_module": "@jupyter-widgets/base",
            "_model_module_version": "1.5.0",
            "_view_count": null,
            "_view_module_version": "1.2.0",
            "_model_module": "@jupyter-widgets/controls"
          }
        },
        "f09097dd196142bd8d3cd7f882a45c1d": {
          "model_module": "@jupyter-widgets/base",
          "model_name": "LayoutModel",
          "state": {
            "_view_name": "LayoutView",
            "grid_template_rows": null,
            "right": null,
            "justify_content": null,
            "_view_module": "@jupyter-widgets/base",
            "overflow": null,
            "_model_module_version": "1.2.0",
            "_view_count": null,
            "flex_flow": null,
            "width": null,
            "min_width": null,
            "border": null,
            "align_items": null,
            "bottom": null,
            "_model_module": "@jupyter-widgets/base",
            "top": null,
            "grid_column": null,
            "overflow_y": null,
            "overflow_x": null,
            "grid_auto_flow": null,
            "grid_area": null,
            "grid_template_columns": null,
            "flex": null,
            "_model_name": "LayoutModel",
            "justify_items": null,
            "grid_row": null,
            "max_height": null,
            "align_content": null,
            "visibility": null,
            "align_self": null,
            "height": null,
            "min_height": null,
            "padding": null,
            "grid_auto_rows": null,
            "grid_gap": null,
            "max_width": null,
            "order": null,
            "_view_module_version": "1.2.0",
            "grid_template_areas": null,
            "object_position": null,
            "object_fit": null,
            "grid_auto_columns": null,
            "margin": null,
            "display": null,
            "left": null
          }
        },
        "11adb0c2f73a44739b14985d00df15c1": {
          "model_module": "@jupyter-widgets/controls",
          "model_name": "HBoxModel",
          "state": {
            "_view_name": "HBoxView",
            "_dom_classes": [],
            "_model_name": "HBoxModel",
            "_view_module": "@jupyter-widgets/controls",
            "_model_module_version": "1.5.0",
            "_view_count": null,
            "_view_module_version": "1.5.0",
            "box_style": "",
            "layout": "IPY_MODEL_15c827ac0e5f4034935282523e8d1c13",
            "_model_module": "@jupyter-widgets/controls",
            "children": [
              "IPY_MODEL_fbc9030d32dd41a3af2218c35164e524",
              "IPY_MODEL_dc624204ff4a45be86c3895591d4d6e6"
            ]
          }
        },
        "15c827ac0e5f4034935282523e8d1c13": {
          "model_module": "@jupyter-widgets/base",
          "model_name": "LayoutModel",
          "state": {
            "_view_name": "LayoutView",
            "grid_template_rows": null,
            "right": null,
            "justify_content": null,
            "_view_module": "@jupyter-widgets/base",
            "overflow": null,
            "_model_module_version": "1.2.0",
            "_view_count": null,
            "flex_flow": null,
            "width": null,
            "min_width": null,
            "border": null,
            "align_items": null,
            "bottom": null,
            "_model_module": "@jupyter-widgets/base",
            "top": null,
            "grid_column": null,
            "overflow_y": null,
            "overflow_x": null,
            "grid_auto_flow": null,
            "grid_area": null,
            "grid_template_columns": null,
            "flex": null,
            "_model_name": "LayoutModel",
            "justify_items": null,
            "grid_row": null,
            "max_height": null,
            "align_content": null,
            "visibility": null,
            "align_self": null,
            "height": null,
            "min_height": null,
            "padding": null,
            "grid_auto_rows": null,
            "grid_gap": null,
            "max_width": null,
            "order": null,
            "_view_module_version": "1.2.0",
            "grid_template_areas": null,
            "object_position": null,
            "object_fit": null,
            "grid_auto_columns": null,
            "margin": null,
            "display": null,
            "left": null
          }
        },
        "fbc9030d32dd41a3af2218c35164e524": {
          "model_module": "@jupyter-widgets/controls",
          "model_name": "FloatProgressModel",
          "state": {
            "_view_name": "ProgressView",
            "style": "IPY_MODEL_90d5e7847fcc414297e5c3a81c8eca89",
            "_dom_classes": [],
            "description": "  0%",
            "_model_name": "FloatProgressModel",
            "bar_style": "info",
            "max": 1,
            "_view_module": "@jupyter-widgets/controls",
            "_model_module_version": "1.5.0",
            "value": 0,
            "_view_count": null,
            "_view_module_version": "1.5.0",
            "orientation": "horizontal",
            "min": 0,
            "description_tooltip": null,
            "_model_module": "@jupyter-widgets/controls",
            "layout": "IPY_MODEL_acef287e3435436f9ba3f1b4453113b5"
          }
        },
        "dc624204ff4a45be86c3895591d4d6e6": {
          "model_module": "@jupyter-widgets/controls",
          "model_name": "HTMLModel",
          "state": {
            "_view_name": "HTMLView",
            "style": "IPY_MODEL_0921feb0c7544c8ea8604ac5cc4eb6cc",
            "_dom_classes": [],
            "description": "",
            "_model_name": "HTMLModel",
            "placeholder": "​",
            "_view_module": "@jupyter-widgets/controls",
            "_model_module_version": "1.5.0",
            "value": " 0/5148 [00:00&lt;?, ?it/s]",
            "_view_count": null,
            "_view_module_version": "1.5.0",
            "description_tooltip": null,
            "_model_module": "@jupyter-widgets/controls",
            "layout": "IPY_MODEL_44fc2c3f239c4a86adba5eec5f3b4ef6"
          }
        },
        "90d5e7847fcc414297e5c3a81c8eca89": {
          "model_module": "@jupyter-widgets/controls",
          "model_name": "ProgressStyleModel",
          "state": {
            "_view_name": "StyleView",
            "_model_name": "ProgressStyleModel",
            "description_width": "initial",
            "_view_module": "@jupyter-widgets/base",
            "_model_module_version": "1.5.0",
            "_view_count": null,
            "_view_module_version": "1.2.0",
            "bar_color": null,
            "_model_module": "@jupyter-widgets/controls"
          }
        },
        "acef287e3435436f9ba3f1b4453113b5": {
          "model_module": "@jupyter-widgets/base",
          "model_name": "LayoutModel",
          "state": {
            "_view_name": "LayoutView",
            "grid_template_rows": null,
            "right": null,
            "justify_content": null,
            "_view_module": "@jupyter-widgets/base",
            "overflow": null,
            "_model_module_version": "1.2.0",
            "_view_count": null,
            "flex_flow": null,
            "width": null,
            "min_width": null,
            "border": null,
            "align_items": null,
            "bottom": null,
            "_model_module": "@jupyter-widgets/base",
            "top": null,
            "grid_column": null,
            "overflow_y": null,
            "overflow_x": null,
            "grid_auto_flow": null,
            "grid_area": null,
            "grid_template_columns": null,
            "flex": null,
            "_model_name": "LayoutModel",
            "justify_items": null,
            "grid_row": null,
            "max_height": null,
            "align_content": null,
            "visibility": null,
            "align_self": null,
            "height": null,
            "min_height": null,
            "padding": null,
            "grid_auto_rows": null,
            "grid_gap": null,
            "max_width": null,
            "order": null,
            "_view_module_version": "1.2.0",
            "grid_template_areas": null,
            "object_position": null,
            "object_fit": null,
            "grid_auto_columns": null,
            "margin": null,
            "display": null,
            "left": null
          }
        },
        "0921feb0c7544c8ea8604ac5cc4eb6cc": {
          "model_module": "@jupyter-widgets/controls",
          "model_name": "DescriptionStyleModel",
          "state": {
            "_view_name": "StyleView",
            "_model_name": "DescriptionStyleModel",
            "description_width": "",
            "_view_module": "@jupyter-widgets/base",
            "_model_module_version": "1.5.0",
            "_view_count": null,
            "_view_module_version": "1.2.0",
            "_model_module": "@jupyter-widgets/controls"
          }
        },
        "44fc2c3f239c4a86adba5eec5f3b4ef6": {
          "model_module": "@jupyter-widgets/base",
          "model_name": "LayoutModel",
          "state": {
            "_view_name": "LayoutView",
            "grid_template_rows": null,
            "right": null,
            "justify_content": null,
            "_view_module": "@jupyter-widgets/base",
            "overflow": null,
            "_model_module_version": "1.2.0",
            "_view_count": null,
            "flex_flow": null,
            "width": null,
            "min_width": null,
            "border": null,
            "align_items": null,
            "bottom": null,
            "_model_module": "@jupyter-widgets/base",
            "top": null,
            "grid_column": null,
            "overflow_y": null,
            "overflow_x": null,
            "grid_auto_flow": null,
            "grid_area": null,
            "grid_template_columns": null,
            "flex": null,
            "_model_name": "LayoutModel",
            "justify_items": null,
            "grid_row": null,
            "max_height": null,
            "align_content": null,
            "visibility": null,
            "align_self": null,
            "height": null,
            "min_height": null,
            "padding": null,
            "grid_auto_rows": null,
            "grid_gap": null,
            "max_width": null,
            "order": null,
            "_view_module_version": "1.2.0",
            "grid_template_areas": null,
            "object_position": null,
            "object_fit": null,
            "grid_auto_columns": null,
            "margin": null,
            "display": null,
            "left": null
          }
        }
      }
    }
  },
  "cells": [
    {
      "cell_type": "code",
      "metadata": {
        "id": "EKIooJ7XhmWL"
      },
      "source": [
        "import torch\n",
        "import torch.nn as nn\n",
        "import torch.optim as optim\n",
        "import torch.nn.functional as F\n",
        "from torchvision.datasets import FashionMNIST\n",
        "from torch.utils.data import DataLoader\n",
        "from torchvision import transforms"
      ],
      "execution_count": 1,
      "outputs": []
    },
    {
      "cell_type": "code",
      "metadata": {
        "colab": {
          "base_uri": "https://localhost:8080/",
          "height": 386,
          "referenced_widgets": [
            "5ef2e78ce05d408e9e4f692d0c004df3",
            "59d5c3374d824864a44f4c2bb2af9342",
            "97d061b6b16c4d7e898b65f0d9d97c88",
            "a0106c23c4a84539ac85f8f1cce3319b",
            "0fe6cac8806a4c099c8129c30ad7a269",
            "27118b9c9f734fbd84b08e358fded843",
            "87e894c3e97f42c98fcb8c6a8042c906",
            "650751bfd5c04fcfaae3200f45e54e76",
            "1a3cfe81d1f24c87a7ff20faa8ff7dcd",
            "6c43f02b336b4d6482c4f5d8ee536b3d",
            "5056dbb9322d4067917b48266d0ed3c4",
            "99a2a88b89d646d0a0e2860851141c28",
            "c99c749b438140e585a617af98e4efda",
            "28b79e69c1914fb08eb290b611e96b35",
            "ccd7dc4b93c04cc7b91c61de7b91e0f9",
            "5e11091b5b3e420e8428cc46795e8bc1",
            "9a39051f353045fb97f180c4174860f4",
            "90aeb871ff6046aeb23e98107128dffa",
            "b71a00a619d349b0851c8de6f77f8d0a",
            "a9da88fb67be498696ccac1c3ed4af0c",
            "187cc75272cd48418e6f2b89968669d9",
            "b189a18f02af49de862ca36efa0b4ca0",
            "c20b0b97093041baab483cd9ff8e5316",
            "f09097dd196142bd8d3cd7f882a45c1d",
            "11adb0c2f73a44739b14985d00df15c1",
            "15c827ac0e5f4034935282523e8d1c13",
            "fbc9030d32dd41a3af2218c35164e524",
            "dc624204ff4a45be86c3895591d4d6e6",
            "90d5e7847fcc414297e5c3a81c8eca89",
            "acef287e3435436f9ba3f1b4453113b5",
            "0921feb0c7544c8ea8604ac5cc4eb6cc",
            "44fc2c3f239c4a86adba5eec5f3b4ef6"
          ]
        },
        "id": "RBwv5omhpPns",
        "outputId": "61ef0a55-41cd-4bfc-bf5e-9f41e4900f17"
      },
      "source": [
        "data_transform = transforms.ToTensor()\n",
        "\n",
        "train_data = FashionMNIST(root='./data', train=True, download=True, transform=data_transform)\n",
        "test_data = FashionMNIST(root='./data', train=False, download=True, transform=data_transform)"
      ],
      "execution_count": 2,
      "outputs": [
        {
          "output_type": "stream",
          "text": [
            "Downloading http://fashion-mnist.s3-website.eu-central-1.amazonaws.com/train-images-idx3-ubyte.gz to ./data/FashionMNIST/raw/train-images-idx3-ubyte.gz\n"
          ],
          "name": "stdout"
        },
        {
          "output_type": "display_data",
          "data": {
            "application/vnd.jupyter.widget-view+json": {
              "model_id": "5ef2e78ce05d408e9e4f692d0c004df3",
              "version_minor": 0,
              "version_major": 2
            },
            "text/plain": [
              "HBox(children=(FloatProgress(value=1.0, bar_style='info', max=1.0), HTML(value='')))"
            ]
          },
          "metadata": {
            "tags": []
          }
        },
        {
          "output_type": "stream",
          "text": [
            "Extracting ./data/FashionMNIST/raw/train-images-idx3-ubyte.gz to ./data/FashionMNIST/raw\n",
            "Downloading http://fashion-mnist.s3-website.eu-central-1.amazonaws.com/train-labels-idx1-ubyte.gz to ./data/FashionMNIST/raw/train-labels-idx1-ubyte.gz\n"
          ],
          "name": "stdout"
        },
        {
          "output_type": "display_data",
          "data": {
            "application/vnd.jupyter.widget-view+json": {
              "model_id": "1a3cfe81d1f24c87a7ff20faa8ff7dcd",
              "version_minor": 0,
              "version_major": 2
            },
            "text/plain": [
              "HBox(children=(FloatProgress(value=1.0, bar_style='info', max=1.0), HTML(value='')))"
            ]
          },
          "metadata": {
            "tags": []
          }
        },
        {
          "output_type": "stream",
          "text": [
            "Extracting ./data/FashionMNIST/raw/train-labels-idx1-ubyte.gz to ./data/FashionMNIST/raw\n",
            "Downloading http://fashion-mnist.s3-website.eu-central-1.amazonaws.com/t10k-images-idx3-ubyte.gz to ./data/FashionMNIST/raw/t10k-images-idx3-ubyte.gz\n",
            "\n"
          ],
          "name": "stdout"
        },
        {
          "output_type": "display_data",
          "data": {
            "application/vnd.jupyter.widget-view+json": {
              "model_id": "9a39051f353045fb97f180c4174860f4",
              "version_minor": 0,
              "version_major": 2
            },
            "text/plain": [
              "HBox(children=(FloatProgress(value=1.0, bar_style='info', max=1.0), HTML(value='')))"
            ]
          },
          "metadata": {
            "tags": []
          }
        },
        {
          "output_type": "stream",
          "text": [
            "Extracting ./data/FashionMNIST/raw/t10k-images-idx3-ubyte.gz to ./data/FashionMNIST/raw\n",
            "Downloading http://fashion-mnist.s3-website.eu-central-1.amazonaws.com/t10k-labels-idx1-ubyte.gz to ./data/FashionMNIST/raw/t10k-labels-idx1-ubyte.gz\n"
          ],
          "name": "stdout"
        },
        {
          "output_type": "display_data",
          "data": {
            "application/vnd.jupyter.widget-view+json": {
              "model_id": "11adb0c2f73a44739b14985d00df15c1",
              "version_minor": 0,
              "version_major": 2
            },
            "text/plain": [
              "HBox(children=(FloatProgress(value=1.0, bar_style='info', max=1.0), HTML(value='')))"
            ]
          },
          "metadata": {
            "tags": []
          }
        },
        {
          "output_type": "stream",
          "text": [
            "Extracting ./data/FashionMNIST/raw/t10k-labels-idx1-ubyte.gz to ./data/FashionMNIST/raw\n",
            "Processing...\n",
            "Done!\n"
          ],
          "name": "stdout"
        },
        {
          "output_type": "stream",
          "text": [
            "/usr/local/lib/python3.6/dist-packages/torchvision/datasets/mnist.py:480: UserWarning: The given NumPy array is not writeable, and PyTorch does not support non-writeable tensors. This means you can write to the underlying (supposedly non-writeable) NumPy array using the tensor. You may want to copy the array to protect its data or make it writeable before converting it to a tensor. This type of warning will be suppressed for the rest of this program. (Triggered internally at  /pytorch/torch/csrc/utils/tensor_numpy.cpp:141.)\n",
            "  return torch.from_numpy(parsed.astype(m[2], copy=False)).view(*s)\n"
          ],
          "name": "stderr"
        }
      ]
    },
    {
      "cell_type": "code",
      "metadata": {
        "colab": {
          "base_uri": "https://localhost:8080/"
        },
        "id": "R84qVuEFpmTN",
        "outputId": "1bbfa882-58db-440a-b224-8f55de3401df"
      },
      "source": [
        "print(len(train_data))\n",
        "print(len(test_data))"
      ],
      "execution_count": 5,
      "outputs": [
        {
          "output_type": "stream",
          "text": [
            "60000\n",
            "10000\n"
          ],
          "name": "stdout"
        }
      ]
    },
    {
      "cell_type": "code",
      "metadata": {
        "id": "tjvZ0IOUpdt7"
      },
      "source": [
        "batch_size = 20\n",
        "train_loader = DataLoader(train_data, batch_size=batch_size, shuffle=True, num_workers=8)\n",
        "test_loader = DataLoader(test_data, batch_size=batch_size, num_workers=8)"
      ],
      "execution_count": 4,
      "outputs": []
    },
    {
      "cell_type": "code",
      "metadata": {
        "id": "-k2iz936p1Pj"
      },
      "source": [
        "classes = ['T-shirt/top', 'Trouser', 'Pullover', 'Dress', 'Coat', \n",
        "           'Sandal', 'Shirt', 'Sneaker', 'Bag', 'Ankle boot']"
      ],
      "execution_count": 6,
      "outputs": []
    },
    {
      "cell_type": "code",
      "metadata": {
        "id": "_nj8dIbHp475"
      },
      "source": [
        "import numpy as np\n",
        "import matplotlib.pyplot as plt"
      ],
      "execution_count": 7,
      "outputs": []
    },
    {
      "cell_type": "code",
      "metadata": {
        "id": "tKeiDHp_p8o5"
      },
      "source": [
        "dataiter = iter(train_loader)\n",
        "images, labels = dataiter.next()"
      ],
      "execution_count": 8,
      "outputs": []
    },
    {
      "cell_type": "code",
      "metadata": {
        "colab": {
          "base_uri": "https://localhost:8080/"
        },
        "id": "3p8DwF0CqHhd",
        "outputId": "8f0daa6d-13c4-4079-afc8-d57a777519bc"
      },
      "source": [
        "print(images.shape)\n",
        "print(labels.shape)"
      ],
      "execution_count": 9,
      "outputs": [
        {
          "output_type": "stream",
          "text": [
            "torch.Size([20, 1, 28, 28])\n",
            "torch.Size([20])\n"
          ],
          "name": "stdout"
        }
      ]
    },
    {
      "cell_type": "code",
      "metadata": {
        "colab": {
          "base_uri": "https://localhost:8080/",
          "height": 254
        },
        "id": "ZqI8YOwPqKET",
        "outputId": "8b92eb23-5d98-4bba-8252-faed0eea698e"
      },
      "source": [
        "# visualizing one batch\n",
        "\n",
        "fig = plt.figure(figsize=(25,4))\n",
        "for idx in np.arange(batch_size):\n",
        "  ax = fig.add_subplot(2,batch_size/2, idx+1, xticks=[], yticks=[])\n",
        "  ax.imshow(np.squeeze(images[idx]), cmap='gray')\n",
        "  ax.set_title(classes[labels[idx]])"
      ],
      "execution_count": 10,
      "outputs": [
        {
          "output_type": "display_data",
          "data": {
            "image/png": "[encoded data removed]",
            "text/plain": [
              "<Figure size 1800x288 with 20 Axes>"
            ]
          },
          "metadata": {
            "tags": []
          }
        }
      ]
    },
    {
      "cell_type": "code",
      "metadata": {
        "id": "ax7VRe-Rq1sM"
      },
      "source": [
        "class Net(nn.Module):\n",
        "  def __init__(self, num_classes):\n",
        "    super(Net, self).__init__()\n",
        "\n",
        "    self.conv1 = nn.Conv2d(1, 8, kernel_size=(3,3), stride=(1,1), padding=(1,1))\n",
        "    self.conv2 = nn.Conv2d(8, 16, kernel_size=(3,3), stride=(1,1), padding=(1,1))\n",
        "\n",
        "    self.pool = nn.MaxPool2d(2,2)\n",
        "    self.dropout = nn.Dropout(p=0.5)\n",
        "    self.relu = nn.ReLU()\n",
        "    self.fc1 = nn.Linear(16*7*7, num_classes)\n",
        "\n",
        "  def forward(self, x):\n",
        "    x = self.pool(self.relu(self.conv1(x)))\n",
        "    x = self.pool(self.relu(self.conv2(x)))\n",
        "    x = x.reshape(x.shape[0], -1)\n",
        "    x = self.fc1(x)\n",
        "    return x"
      ],
      "execution_count": 108,
      "outputs": []
    },
    {
      "cell_type": "code",
      "metadata": {
        "colab": {
          "base_uri": "https://localhost:8080/",
          "height": 35
        },
        "id": "KW2ocWYirKDS",
        "outputId": "e0c00e35-3f1e-4a9a-dfb0-4a7c8b667f06"
      },
      "source": [
        "device = 'cuda' if torch.cuda.is_available() else 'cpu'\n",
        "device"
      ],
      "execution_count": 109,
      "outputs": [
        {
          "output_type": "execute_result",
          "data": {
            "application/vnd.google.colaboratory.intrinsic+json": {
              "type": "string"
            },
            "text/plain": [
              "'cuda'"
            ]
          },
          "metadata": {
            "tags": []
          },
          "execution_count": 109
        }
      ]
    },
    {
      "cell_type": "code",
      "metadata": {
        "colab": {
          "base_uri": "https://localhost:8080/"
        },
        "id": "oJsXXbiGrKFh",
        "outputId": "f974f1e3-1216-4c5d-c92f-e4d751f1544f"
      },
      "source": [
        "net = Net(10).to(device)\n",
        "x = torch.randn(20, 1, 28, 28, device=device)\n",
        "output = net(x)\n",
        "print(output.shape)"
      ],
      "execution_count": 110,
      "outputs": [
        {
          "output_type": "stream",
          "text": [
            "torch.Size([20, 10])\n"
          ],
          "name": "stdout"
        }
      ]
    },
    {
      "cell_type": "code",
      "metadata": {
        "id": "oeeEVetntrZq"
      },
      "source": [
        "lr = 0.001\n",
        "criterion = nn.CrossEntropyLoss()\n",
        "optimizer = optim.Adam(net.parameters(), lr = lr)"
      ],
      "execution_count": 111,
      "outputs": []
    },
    {
      "cell_type": "code",
      "metadata": {
        "id": "5l7KDz3vrKBK"
      },
      "source": [
        "def test(net):\n",
        "  net.eval()\n",
        "  total = 0\n",
        "  correct = 0\n",
        "\n",
        "  for batch_idx, data in enumerate(test_loader):\n",
        "    images, labels = data\n",
        "    images = images.to(device)\n",
        "    labels = labels.to(device)\n",
        "\n",
        "    with torch.no_grad():\n",
        "      output = net(images)\n",
        "\n",
        "      prediction = F.softmax(output.float(), dim=1)\n",
        "      _, prediction = torch.max(prediction, dim=1)\n",
        "\n",
        "      total += labels.size(0)\n",
        "      correct += (prediction == labels).sum()\n",
        "\n",
        "    accuracy = 100 * correct / total\n",
        "\n",
        "  print(f'Test accuracy: {accuracy:.2f}%')"
      ],
      "execution_count": 112,
      "outputs": []
    },
    {
      "cell_type": "code",
      "metadata": {
        "id": "L6uE3IgztlMI"
      },
      "source": [
        "def train(epochs, net):\n",
        "  for epoch in range(epochs):\n",
        "    training_loss = 0.0\n",
        "    for batch_idx, data in enumerate(train_loader):\n",
        "      images, labels = data\n",
        "      images = images.to(device)\n",
        "      labels = labels.to(device)\n",
        "\n",
        "      outputs = net(images)\n",
        "\n",
        "      loss = criterion(outputs, labels)\n",
        "\n",
        "      optimizer.zero_grad()\n",
        "      loss.backward()\n",
        "      optimizer.step()\n",
        "\n",
        "      training_loss += loss.item()\n",
        "\n",
        "    print(f'Epoch: {epoch+1}/{epochs}\\t Training Loss: {training_loss/len(train_loader):.6f}')\n",
        "  print('Finished Training!')"
      ],
      "execution_count": 113,
      "outputs": []
    },
    {
      "cell_type": "code",
      "metadata": {
        "colab": {
          "base_uri": "https://localhost:8080/"
        },
        "id": "3aKPFL_8vARc",
        "outputId": "4cfbda5b-5d8b-428e-cd4c-3b5ce7f435f5"
      },
      "source": [
        "epochs = 100\n",
        "train(epochs, net)"
      ],
      "execution_count": 114,
      "outputs": [
        {
          "output_type": "stream",
          "text": [
            "Epoch: 1/100\t Training Loss: 0.493619\n",
            "Epoch: 2/100\t Training Loss: 0.349059\n",
            "Epoch: 3/100\t Training Loss: 0.312850\n",
            "Epoch: 4/100\t Training Loss: 0.290615\n",
            "Epoch: 5/100\t Training Loss: 0.272535\n",
            "Epoch: 6/100\t Training Loss: 0.258499\n",
            "Epoch: 7/100\t Training Loss: 0.249107\n",
            "Epoch: 8/100\t Training Loss: 0.241013\n",
            "Epoch: 9/100\t Training Loss: 0.233713\n",
            "Epoch: 10/100\t Training Loss: 0.227325\n",
            "Epoch: 11/100\t Training Loss: 0.220893\n",
            "Epoch: 12/100\t Training Loss: 0.216604\n",
            "Epoch: 13/100\t Training Loss: 0.213223\n",
            "Epoch: 14/100\t Training Loss: 0.209176\n",
            "Epoch: 15/100\t Training Loss: 0.205848\n",
            "Epoch: 16/100\t Training Loss: 0.202956\n",
            "Epoch: 17/100\t Training Loss: 0.200342\n",
            "Epoch: 18/100\t Training Loss: 0.197919\n",
            "Epoch: 19/100\t Training Loss: 0.194959\n",
            "Epoch: 20/100\t Training Loss: 0.192453\n",
            "Epoch: 21/100\t Training Loss: 0.190989\n",
            "Epoch: 22/100\t Training Loss: 0.189080\n",
            "Epoch: 23/100\t Training Loss: 0.188153\n",
            "Epoch: 24/100\t Training Loss: 0.185771\n",
            "Epoch: 25/100\t Training Loss: 0.183144\n",
            "Epoch: 26/100\t Training Loss: 0.182255\n",
            "Epoch: 27/100\t Training Loss: 0.180011\n",
            "Epoch: 28/100\t Training Loss: 0.180288\n",
            "Epoch: 29/100\t Training Loss: 0.178354\n",
            "Epoch: 30/100\t Training Loss: 0.177875\n",
            "Epoch: 31/100\t Training Loss: 0.176251\n",
            "Epoch: 32/100\t Training Loss: 0.174634\n",
            "Epoch: 33/100\t Training Loss: 0.173021\n",
            "Epoch: 34/100\t Training Loss: 0.172698\n",
            "Epoch: 35/100\t Training Loss: 0.171812\n",
            "Epoch: 36/100\t Training Loss: 0.171131\n",
            "Epoch: 37/100\t Training Loss: 0.169571\n",
            "Epoch: 38/100\t Training Loss: 0.169454\n",
            "Epoch: 39/100\t Training Loss: 0.168391\n",
            "Epoch: 40/100\t Training Loss: 0.167600\n",
            "Epoch: 41/100\t Training Loss: 0.166590\n",
            "Epoch: 42/100\t Training Loss: 0.166258\n",
            "Epoch: 43/100\t Training Loss: 0.165791\n",
            "Epoch: 44/100\t Training Loss: 0.164921\n",
            "Epoch: 45/100\t Training Loss: 0.163686\n",
            "Epoch: 46/100\t Training Loss: 0.163251\n",
            "Epoch: 47/100\t Training Loss: 0.162656\n",
            "Epoch: 48/100\t Training Loss: 0.161802\n",
            "Epoch: 49/100\t Training Loss: 0.162577\n",
            "Epoch: 50/100\t Training Loss: 0.160303\n",
            "Epoch: 51/100\t Training Loss: 0.160518\n",
            "Epoch: 52/100\t Training Loss: 0.158721\n",
            "Epoch: 53/100\t Training Loss: 0.158377\n",
            "Epoch: 54/100\t Training Loss: 0.158129\n",
            "Epoch: 55/100\t Training Loss: 0.157778\n",
            "Epoch: 56/100\t Training Loss: 0.157835\n",
            "Epoch: 57/100\t Training Loss: 0.156032\n",
            "Epoch: 58/100\t Training Loss: 0.156407\n",
            "Epoch: 59/100\t Training Loss: 0.156249\n",
            "Epoch: 60/100\t Training Loss: 0.155439\n",
            "Epoch: 61/100\t Training Loss: 0.154375\n",
            "Epoch: 62/100\t Training Loss: 0.154402\n",
            "Epoch: 63/100\t Training Loss: 0.153720\n",
            "Epoch: 64/100\t Training Loss: 0.154377\n",
            "Epoch: 65/100\t Training Loss: 0.153262\n",
            "Epoch: 66/100\t Training Loss: 0.153306\n",
            "Epoch: 67/100\t Training Loss: 0.152489\n",
            "Epoch: 68/100\t Training Loss: 0.152224\n",
            "Epoch: 69/100\t Training Loss: 0.151818\n",
            "Epoch: 70/100\t Training Loss: 0.152237\n",
            "Epoch: 71/100\t Training Loss: 0.150305\n",
            "Epoch: 72/100\t Training Loss: 0.151443\n",
            "Epoch: 73/100\t Training Loss: 0.149020\n",
            "Epoch: 74/100\t Training Loss: 0.149039\n",
            "Epoch: 75/100\t Training Loss: 0.150487\n",
            "Epoch: 76/100\t Training Loss: 0.148633\n",
            "Epoch: 77/100\t Training Loss: 0.150741\n",
            "Epoch: 78/100\t Training Loss: 0.147908\n",
            "Epoch: 79/100\t Training Loss: 0.147816\n",
            "Epoch: 80/100\t Training Loss: 0.147862\n",
            "Epoch: 81/100\t Training Loss: 0.147261\n",
            "Epoch: 82/100\t Training Loss: 0.146846\n",
            "Epoch: 83/100\t Training Loss: 0.146899\n",
            "Epoch: 84/100\t Training Loss: 0.147538\n",
            "Epoch: 85/100\t Training Loss: 0.147245\n",
            "Epoch: 86/100\t Training Loss: 0.146322\n",
            "Epoch: 87/100\t Training Loss: 0.146712\n",
            "Epoch: 88/100\t Training Loss: 0.145565\n",
            "Epoch: 89/100\t Training Loss: 0.145168\n",
            "Epoch: 90/100\t Training Loss: 0.144986\n",
            "Epoch: 91/100\t Training Loss: 0.144308\n",
            "Epoch: 92/100\t Training Loss: 0.143491\n",
            "Epoch: 93/100\t Training Loss: 0.144037\n",
            "Epoch: 94/100\t Training Loss: 0.143877\n",
            "Epoch: 95/100\t Training Loss: 0.142680\n",
            "Epoch: 96/100\t Training Loss: 0.144468\n",
            "Epoch: 97/100\t Training Loss: 0.142270\n",
            "Epoch: 98/100\t Training Loss: 0.143905\n",
            "Epoch: 99/100\t Training Loss: 0.142618\n",
            "Epoch: 100/100\t Training Loss: 0.143903\n",
            "Finished Training!\n"
          ],
          "name": "stdout"
        }
      ]
    },
    {
      "cell_type": "code",
      "metadata": {
        "colab": {
          "base_uri": "https://localhost:8080/"
        },
        "id": "xeH7rwjbvEd0",
        "outputId": "90774840-2450-45cf-c6d4-0c9dff77a3a0"
      },
      "source": [
        "test(net)"
      ],
      "execution_count": 115,
      "outputs": [
        {
          "output_type": "stream",
          "text": [
            "Test accuracy: 90.36%\n"
          ],
          "name": "stdout"
        }
      ]
    },
    {
      "cell_type": "code",
      "metadata": {
        "colab": {
          "base_uri": "https://localhost:8080/",
          "height": 246
        },
        "id": "5ttfsTs0vYPv",
        "outputId": "bc0f0bf6-ca77-49d9-c184-28d3ee322421"
      },
      "source": [
        "# obtain one batch of test images\n",
        "dataiter = iter(test_loader)\n",
        "images, labels = dataiter.next()\n",
        "# get predictions\n",
        "with torch.no_grad():\n",
        "  output = net(images.to(device))\n",
        "  preds = F.softmax(output.float(), dim=1)\n",
        "  _, preds = torch.max(preds, dim=1)\n",
        "\n",
        "  images = images.numpy()\n",
        "\n",
        "  # plot the images in the batch, along with predicted and true labels\n",
        "  fig = plt.figure(figsize=(25, 4))\n",
        "  for idx in np.arange(batch_size):\n",
        "      ax = fig.add_subplot(2, batch_size/2, idx+1, xticks=[], yticks=[])\n",
        "      ax.imshow(np.squeeze(images[idx]), cmap='gray')\n",
        "      ax.set_title(f'{classes[preds[idx]], classes[labels[idx]]}', color=(\"green\" if preds[idx]==labels[idx] else \"red\"))"
      ],
      "execution_count": 116,
      "outputs": [
        {
          "output_type": "display_data",
          "data": {
            "image/png": "[encoded data removed]",
            "text/plain": [
              "<Figure size 1800x288 with 20 Axes>"
            ]
          },
          "metadata": {
            "tags": []
          }
        }
      ]
    },
    {
      "cell_type": "code",
      "metadata": {
        "id": "jqgwZPh9DrYj"
      },
      "source": [
        "## TODO: change the model_name to something uniqe for any new model\n",
        "## you wish to save, this will save it in the saved_models directory\n",
        "model_dir = 'saved_models/'\n",
        "model_name = 'model_1.pt'\n",
        "\n",
        "# after training, save your model parameters in the dir 'saved_models'\n",
        "# when you're ready, un-comment the line below\n",
        "torch.save(net.state_dict(), model_dir+model_name)"
      ],
      "execution_count": 117,
      "outputs": []
    },
    {
      "cell_type": "code",
      "metadata": {
        "id": "CvEzXs-4DvS0"
      },
      "source": [
        "# instantiate your Net\n",
        "# this refers to your Net class defined above\n",
        "net = Net()\n",
        "\n",
        "# load the net parameters by name\n",
        "# uncomment and write the name of a saved model\n",
        "net.load_state_dict(torch.load('saved_models/model_1.pt'))\n",
        "\n",
        "print(net)\n",
        "\n",
        "# Once you've loaded a specific model in, you can then \n",
        "# us it or further analyze it! \n",
        "# This will be especialy useful for feature visualization"
      ],
      "execution_count": null,
      "outputs": []
    }
  ]
}