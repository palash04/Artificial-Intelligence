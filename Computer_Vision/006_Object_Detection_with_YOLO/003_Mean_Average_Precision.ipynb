{
  "nbformat": 4,
  "nbformat_minor": 0,
  "metadata": {
    "colab": {
      "name": "003_Mean_Average_Precision.ipynb",
      "provenance": [],
      "collapsed_sections": []
    },
    "kernelspec": {
      "name": "python3",
      "display_name": "Python 3"
    }
  },
  "cells": [
    {
      "cell_type": "markdown",
      "metadata": {
        "id": "WKFAdyIWxgMx"
      },
      "source": [
        "# 001_Intersection_Over_Union"
      ]
    },
    {
      "cell_type": "code",
      "metadata": {
        "id": "uPorYD0Nk-WU"
      },
      "source": [
        "import torch"
      ],
      "execution_count": 1,
      "outputs": []
    },
    {
      "cell_type": "code",
      "metadata": {
        "id": "57tTISCwlk0S"
      },
      "source": [
        "def intersection_over_union(boxes_preds, boxes_labels, box_format=\"midpoint\"):\n",
        "  \"\"\"\n",
        "  Parameters: \n",
        "    boxes_preds (tensor): Predictions of bounding boxes (BATCH_SIZE x 4)\n",
        "    boxes_labels (tensor): Ground truths of bounding boxes (BATCH_SIZE x 4)\n",
        "    box_format (str): midpoint (x,y,w,h) or corners (x1,y1,x2,y2)\n",
        "\n",
        "  Returns: \n",
        "    tensor: intersection over union over all examples\n",
        "  \"\"\"\n",
        "\n",
        "  if box_format == \"midpoint\":\n",
        "    box1_x1 = boxes_preds[:, 0:1] - boxes_preds[:, 2:3]/2\n",
        "    box1_y1 = boxes_preds[:, 1:2] - boxes_preds[:, 3:4]/2\n",
        "    box1_x2 = boxes_preds[:, 0:1] + boxes_preds[:, 2:3]/2\n",
        "    box1_y2 = boxes_preds[:, 1:2] + boxes_preds[:, 3:4]/2\n",
        "\n",
        "    box2_x1 = boxes_labels[:, 0:1] - boxes_labels[:, 2:3]/2\n",
        "    box2_y1 = boxes_labels[:, 1:2] - boxes_labels[:, 3:4]/2\n",
        "    box2_x2 = boxes_labels[:, 0:1] + boxes_labels[:, 2:3]/2\n",
        "    box2_y2 = boxes_labels[:, 1:2] + boxes_labels[:, 3:4]/2\n",
        "\n",
        "  if box_format == \"corners\":\n",
        "    box1_x1 = boxes_preds[:, 0:1]\n",
        "    box1_y1 = boxes_preds[:, 1:2]\n",
        "    box1_x2 = boxes_preds[:, 2:3]\n",
        "    box1_y2 = boxes_preds[:, 3:4]\n",
        "\n",
        "    box2_x1 = boxes_labels[:, 0:1]\n",
        "    box2_y1 = boxes_labels[:, 1:2]\n",
        "    box2_x2 = boxes_labels[:, 2:3]\n",
        "    box2_y2 = boxes_labels[:, 3:4]\n",
        "\n",
        "    x1 = torch.max(box1_x1, box2_x1)\n",
        "    y1 = torch.max(box1_y1, box2_y1)\n",
        "    x2 = torch.min(box1_x2, box2_x2)\n",
        "    y2 = torch.min(box1_y2, box2_y2)\n",
        "\n",
        "  intersection = (x2 - x1).clamp(0) * (y2 - y1).clamp(0)\n",
        "\n",
        "  box1_area = abs((box1_x2 - box1_x1) * (box1_y2 - box1_y1))\n",
        "  box2_area = abs((box2_x2 - box2_x1) * (box2_y2 - box2_y1))\n",
        "\n",
        "  return intersection / (box1_area + box2_area - intersection)"
      ],
      "execution_count": 2,
      "outputs": []
    },
    {
      "cell_type": "markdown",
      "metadata": {
        "id": "bBpA5Az0xkrJ"
      },
      "source": [
        "# 002_Non_Max_Suppression"
      ]
    },
    {
      "cell_type": "markdown",
      "metadata": {
        "id": "pFCwA4yPurpH"
      },
      "source": [
        "### NMS Suppression Algo - \n",
        "\n",
        "1. Among all the bounding boxes we obtained remove all those bboxes \n",
        "  - where pc < probability_threshold.\n",
        "    - pc = probability of confidence of object being present\n",
        "2. while we have bboxes:\n",
        "      - take out the largest pc box\n",
        "      - remove all the other bboxes with IoU > threshold\n",
        "3. Repeat step 2 for all classes"
      ]
    },
    {
      "cell_type": "code",
      "metadata": {
        "id": "q3eNspZnxnug"
      },
      "source": [
        "import torch\n",
        "\n",
        "def non_max_suppression(bboxes, iou_threshold, prob_threshold, box_format=\"corners\"):\n",
        "  # bboxes: [[class,prob_confidence,x1,y1,x2,y2],[...],[...]]\n",
        "  assert type(bboxes) == list\n",
        "\n",
        "  bboxes = [box for box in bboxes if box[1] > prob_threshold]\n",
        "  bboxes = sorted(bboxes, key=lambda x:x[1], reverse=True)\n",
        "  bboxes_after_nms = []\n",
        "\n",
        "  while bboxes:\n",
        "    chosen_box = bboxes.pop(0)\n",
        "\n",
        "    bboxes = [\n",
        "              box \n",
        "              for box in bboxes \n",
        "              if box[0] != chosen_box[0] \n",
        "              or intersection_over_union(torch.tensor(chosen_box[2:]),\n",
        "                                         torch.tensor(box[2:]),\n",
        "                                         box_format=box_format) < iou_threshold\n",
        "    ]\n",
        "\n",
        "    bboxes_after_nms.append(chosen_box)\n",
        "\n",
        "  return bboxes_after_nms"
      ],
      "execution_count": 3,
      "outputs": []
    },
    {
      "cell_type": "markdown",
      "metadata": {
        "id": "dSnBTYxrwRmz"
      },
      "source": [
        "# 003_Mean_Average_Precision"
      ]
    },
    {
      "cell_type": "code",
      "metadata": {
        "id": "J7vq9mhm82jd"
      },
      "source": [
        "import torch\n",
        "from collections import Counter"
      ],
      "execution_count": 6,
      "outputs": []
    },
    {
      "cell_type": "code",
      "metadata": {
        "id": "WyGYxbG1wX9G"
      },
      "source": [
        "def mean_average_precision(pred_boxes, true_boxes, iou_threshold=0.5, box_format=\"corners\", num_classes=20):\n",
        "  \"\"\"\n",
        "    Parameters:\n",
        "      pred_boxes (list): [[train_idx, class_pred, prob_score, x1, y1, x2, y2], ...]\n",
        "  \"\"\"\n",
        "  average_precisions = []\n",
        "  epsilon = 1e-6\n",
        "\n",
        "  for c in range(num_classes):\n",
        "    detections = []\n",
        "    ground_truths = []\n",
        "\n",
        "    for detection in pred_boxes:\n",
        "      if detection[1] == c:\n",
        "        detections.append(detection)\n",
        "    \n",
        "    for true_box in true_boxes:\n",
        "      if true_box[1] == c:\n",
        "        ground_truths.append(true_box)\n",
        "\n",
        "    amount_bboxes = Counter([gt[0] for gt in ground_truths])\n",
        "\n",
        "    for key, val in amount_bboxes.items():\n",
        "      # amount_bboxes = {0: torch.tensor([0,0,0]), 1:torch.tensor([0,0,0,0,0])}\n",
        "      amount_bboxes[key] = torch.zeros(val)\n",
        "    \n",
        "    detections.sort(key=lambda x:x[2], reverse=True)\n",
        "    TP = torch.zeros(len(detections))\n",
        "    FP = torch.zeros(len(detections))\n",
        "    total_true_boxes = len(ground_truths)\n",
        "\n",
        "    for detection_idx, detection in enumerate(detections):\n",
        "      ground_truth_img = [bbox for bbox in ground_truths if bbox[0] == detection[0]]\n",
        "      num_gts = len(ground_truth_img)\n",
        "      best_iou = 0\n",
        "\n",
        "      for idx, gt in enumerate(ground_truth_img):\n",
        "        iou = intersection_over_union(torch.tensor(detection[3:]), \n",
        "                                      torch.tensor(gt[3:]), \n",
        "                                      box_format=box_format)\n",
        "        if iou > best_iou:\n",
        "          best_iou = iou\n",
        "          best_gt_idx = idx\n",
        "    \n",
        "      if best_iou > iou_threshold:\n",
        "        if amount_bboxes[detection[0]][best_gt_idx] == 0:\n",
        "          TP[detection_idx] = 1\n",
        "          amount_bboxes[detection[0]][best_gt_idx] = 1\n",
        "        else:\n",
        "          FP[detection_idx] = 1\n",
        "      else:\n",
        "        FP[detection_idx] = 1\n",
        "    \n",
        "    TP_cumsum = torch.cumsum(TP, dim=0)\n",
        "    FP_cumsum = torch.cumsum(FP, dim=0)\n",
        "    recalls = TP_cumsum / (total_true_boxes + epsilon)\n",
        "    precisions = TP_cumsum / (TP_cumsum + FP_cumsum + epsilon)\n",
        "    precisions = torch.cat((torch.tensor([1]), precisions))\n",
        "    recalls = torch.cat((torch.tensor([0]), precisions))\n",
        "    average_precisions.append(torch.trapz(precisions, recalls))\n",
        "\n",
        "  return sum(average_precisions) /  len(average_precisions)"
      ],
      "execution_count": 11,
      "outputs": []
    },
    {
      "cell_type": "code",
      "metadata": {
        "colab": {
          "base_uri": "https://localhost:8080/"
        },
        "id": "cneCk1413C5y",
        "outputId": "e45abf92-4cc0-4b0d-f9d2-8560c5d1dcc9"
      },
      "source": [
        "# Example of Counter\n",
        "mp = Counter([0,0,0,1,1,1,1])\n",
        "print(mp)   # image_1 has 4 bboxes, image_0 has 3 bboxes"
      ],
      "execution_count": 10,
      "outputs": [
        {
          "output_type": "stream",
          "text": [
            "Counter({1: 4, 0: 3})\n"
          ],
          "name": "stdout"
        }
      ]
    },
    {
      "cell_type": "code",
      "metadata": {
        "id": "PtUEmaUH3V-C"
      },
      "source": [
        ""
      ],
      "execution_count": null,
      "outputs": []
    }
  ]
}