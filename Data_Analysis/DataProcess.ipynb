{
  "nbformat": 4,
  "nbformat_minor": 0,
  "metadata": {
    "colab": {
      "name": "DataProcess.ipynb",
      "provenance": [],
      "mount_file_id": "13aruYcyfe8yqAT0PZyrdIgmV66wC-haD",
      "authorship_tag": "ABX9TyNVGWxSX44GEmMRdWDWraYE",
      "include_colab_link": true
    },
    "kernelspec": {
      "name": "python3",
      "display_name": "Python 3"
    }
  },
  "cells": [
    {
      "cell_type": "markdown",
      "metadata": {
        "id": "view-in-github",
        "colab_type": "text"
      },
      "source": [
        "<a href=\"https://colab.research.google.com/github/palash04/Artificial-Intelligence/blob/master/Data_Analysis/DataProcess.ipynb\" target=\"_parent\"><img src=\"https://colab.research.google.com/assets/colab-badge.svg\" alt=\"Open In Colab\"/></a>"
      ]
    },
    {
      "cell_type": "code",
      "metadata": {
        "id": "q1SulbecQYyr",
        "colab_type": "code",
        "colab": {
          "base_uri": "https://localhost:8080/",
          "height": 54
        },
        "outputId": "19381dc3-1b7c-4fcd-c46d-f95d5a47859b"
      },
      "source": [
        "from google.colab import drive\n",
        "drive.mount('/content/drive')"
      ],
      "execution_count": 2,
      "outputs": [
        {
          "output_type": "stream",
          "text": [
            "Drive already mounted at /content/drive; to attempt to forcibly remount, call drive.mount(\"/content/drive\", force_remount=True).\n"
          ],
          "name": "stdout"
        }
      ]
    },
    {
      "cell_type": "code",
      "metadata": {
        "id": "voaTrVM1P9VY",
        "colab_type": "code",
        "colab": {}
      },
      "source": [
        "## representing a csv as a list of rows\n",
        "\n",
        "\n",
        "# option 1 : Each row is a list\n",
        "csv = [['A1','A2','A3'],\n",
        "       ['B1','B2','B3']]\n",
        "\n",
        "# option 2 : Each row is a dictionary, where keys are the column names and values are the fields under column\n",
        "csv = [{'name1':'A1','name2':'A2','name3':'A3'},\n",
        "       {'name1':'B1','name2':'B2','name3':'B3'}]\n"
      ],
      "execution_count": 3,
      "outputs": []
    },
    {
      "cell_type": "code",
      "metadata": {
        "id": "VOh2LKY10kcX",
        "colab_type": "code",
        "colab": {
          "base_uri": "https://localhost:8080/",
          "height": 190
        },
        "outputId": "2660294e-518e-4dca-a573-0ed54f9ec421"
      },
      "source": [
        "!pip install unicodecsv     "
      ],
      "execution_count": 4,
      "outputs": [
        {
          "output_type": "stream",
          "text": [
            "Collecting unicodecsv\n",
            "  Downloading https://files.pythonhosted.org/packages/6f/a4/691ab63b17505a26096608cc309960b5a6bdf39e4ba1a793d5f9b1a53270/unicodecsv-0.14.1.tar.gz\n",
            "Building wheels for collected packages: unicodecsv\n",
            "  Building wheel for unicodecsv (setup.py) ... \u001b[?25l\u001b[?25hdone\n",
            "  Created wheel for unicodecsv: filename=unicodecsv-0.14.1-cp36-none-any.whl size=10768 sha256=9883de4c26cddadebb4d1dc7172fe6c943e7574531f73a110e100cf6ea7ceccf\n",
            "  Stored in directory: /root/.cache/pip/wheels/a6/09/e9/e800279c98a0a8c94543f3de6c8a562f60e51363ed26e71283\n",
            "Successfully built unicodecsv\n",
            "Installing collected packages: unicodecsv\n",
            "Successfully installed unicodecsv-0.14.1\n"
          ],
          "name": "stdout"
        }
      ]
    },
    {
      "cell_type": "code",
      "metadata": {
        "id": "-6uKxdPhxgNf",
        "colab_type": "code",
        "colab": {}
      },
      "source": [
        "# filepaths \n",
        "enrollments_filename = '/content/drive/My Drive/Artificial Intelligence/DataAnalysis/enrollments.csv'\n",
        "daily_engagement_filename = '/content/drive/My Drive/Artificial Intelligence/DataAnalysis/daily_engagement.csv'\n",
        "project_submissions_filename = '/content/drive/My Drive/Artificial Intelligence/DataAnalysis/project_submissions.csv'"
      ],
      "execution_count": 5,
      "outputs": []
    },
    {
      "cell_type": "code",
      "metadata": {
        "id": "7X5JYx-FwkU0",
        "colab_type": "code",
        "colab": {
          "base_uri": "https://localhost:8080/",
          "height": 136
        },
        "outputId": "2a5c71f1-ca47-4c73-8b88-b0f55600ff5e"
      },
      "source": [
        "## Reeading csv files\n",
        "import unicodecsv\n",
        "\n",
        "with open(enrollments_filename,'rb') as f:\n",
        "  reader = unicodecsv.DictReader(f)\n",
        "  enrollments = list(reader)  # reader is an iterable, so convert it to list\n",
        "\n",
        "enrollments[0]\n"
      ],
      "execution_count": 6,
      "outputs": [
        {
          "output_type": "execute_result",
          "data": {
            "text/plain": [
              "OrderedDict([('account_key', '448'),\n",
              "             ('status', 'canceled'),\n",
              "             ('join_date', '2014-11-10'),\n",
              "             ('cancel_date', '2015-01-14'),\n",
              "             ('days_to_cancel', '65'),\n",
              "             ('is_udacity', 'True'),\n",
              "             ('is_canceled', 'True')])"
            ]
          },
          "metadata": {
            "tags": []
          },
          "execution_count": 6
        }
      ]
    },
    {
      "cell_type": "code",
      "metadata": {
        "id": "Q_KwZjCx0V-A",
        "colab_type": "code",
        "colab": {
          "base_uri": "https://localhost:8080/",
          "height": 71
        },
        "outputId": "6777e134-ef5d-4886-ec58-cc98eaf6265b"
      },
      "source": [
        "daily_engagement = []\n",
        "project_submissions = []\n",
        "\n",
        "with open(daily_engagement_filename,'rb') as f:\n",
        "  reader = unicodecsv.DictReader(f)\n",
        "  daily_engagement = list(reader)\n",
        "\n",
        "with open(project_submissions_filename,'rb') as f:\n",
        "  reader = unicodecsv.DictReader(f)\n",
        "  project_submissions = list(reader)\n",
        "\n",
        "print (daily_engagement[0])\n",
        "print (project_submissions[0])"
      ],
      "execution_count": 7,
      "outputs": [
        {
          "output_type": "stream",
          "text": [
            "OrderedDict([('acct', '0'), ('utc_date', '2015-01-09'), ('num_courses_visited', '1.0'), ('total_minutes_visited', '11.6793745'), ('lessons_completed', '0.0'), ('projects_completed', '0.0')])\n",
            "OrderedDict([('creation_date', '2015-01-14'), ('completion_date', '2015-01-16'), ('assigned_rating', 'UNGRADED'), ('account_key', '256'), ('lesson_key', '3176718735'), ('processing_state', 'EVALUATED')])\n"
          ],
          "name": "stdout"
        }
      ]
    },
    {
      "cell_type": "code",
      "metadata": {
        "id": "WrbET4cw1f9D",
        "colab_type": "code",
        "colab": {}
      },
      "source": [
        "# Refactoring the above code\n",
        "def read_csv(filename):\n",
        "  with open(filename, 'rb') as f:\n",
        "    reader = unicodecsv.DictReader(f)\n",
        "    return list(reader)"
      ],
      "execution_count": 8,
      "outputs": []
    },
    {
      "cell_type": "code",
      "metadata": {
        "id": "YfwlzPaX3E2s",
        "colab_type": "code",
        "colab": {}
      },
      "source": [
        "enrollments = read_csv(enrollments_filename)\n",
        "daily_engagement = read_csv(daily_engagement_filename)\n",
        "project_submissions = read_csv(project_submissions_filename)"
      ],
      "execution_count": 9,
      "outputs": []
    },
    {
      "cell_type": "code",
      "metadata": {
        "id": "s6eA97DKyaDu",
        "colab_type": "code",
        "colab": {
          "base_uri": "https://localhost:8080/",
          "height": 88
        },
        "outputId": "747cf62f-610d-493d-9450-e9d7f257f8d1"
      },
      "source": [
        "print (enrollments[0])\n",
        "print (daily_engagement[0])\n",
        "print (project_submissions[0])"
      ],
      "execution_count": 10,
      "outputs": [
        {
          "output_type": "stream",
          "text": [
            "OrderedDict([('account_key', '448'), ('status', 'canceled'), ('join_date', '2014-11-10'), ('cancel_date', '2015-01-14'), ('days_to_cancel', '65'), ('is_udacity', 'True'), ('is_canceled', 'True')])\n",
            "OrderedDict([('acct', '0'), ('utc_date', '2015-01-09'), ('num_courses_visited', '1.0'), ('total_minutes_visited', '11.6793745'), ('lessons_completed', '0.0'), ('projects_completed', '0.0')])\n",
            "OrderedDict([('creation_date', '2015-01-14'), ('completion_date', '2015-01-16'), ('assigned_rating', 'UNGRADED'), ('account_key', '256'), ('lesson_key', '3176718735'), ('processing_state', 'EVALUATED')])\n"
          ],
          "name": "stdout"
        }
      ]
    },
    {
      "cell_type": "code",
      "metadata": {
        "id": "jJwK0B1szW3y",
        "colab_type": "code",
        "colab": {}
      },
      "source": [
        "# fixing the data types\n",
        "# by default every field is of string type\n",
        "# we might need, some integer types, or boolean types. Hence, fixing the data types\n",
        "\n",
        "from datetime import datetime as dt\n",
        "\n",
        "# takes a date a a string, and returns a Python datetime object\n",
        "def parse_date(date):\n",
        "  if date == '':\n",
        "    return None\n",
        "  else:\n",
        "    return dt.strptime(date, '%Y-%m-%d')\n",
        "\n",
        "# takes a string which is either empty string or maybe represents an integer\n",
        "def parse_int(i):\n",
        "  if i == '':\n",
        "    return None\n",
        "  else:\n",
        "    return int(i)\n"
      ],
      "execution_count": 11,
      "outputs": []
    },
    {
      "cell_type": "code",
      "metadata": {
        "id": "rFzM2eB6DKZC",
        "colab_type": "code",
        "colab": {
          "base_uri": "https://localhost:8080/",
          "height": 136
        },
        "outputId": "12e1a494-c719-4c1d-d7a2-c883c8db9e07"
      },
      "source": [
        "for enrollment in enrollments:\n",
        "  enrollment['cancel_date'] = parse_date(enrollment['cancel_date'])\n",
        "  enrollment['days_to_cancel'] = parse_int(enrollment['days_to_cancel'])\n",
        "  enrollment['join_date'] = parse_date(enrollment['join_date'])\n",
        "  enrollment['is_udacity'] = enrollment['is_udacity'] == \"True\"\n",
        "  enrollment['is_canceled'] = enrollment['is_canceled'] == \"True\"\n",
        "\n",
        "enrollments[0]"
      ],
      "execution_count": 12,
      "outputs": [
        {
          "output_type": "execute_result",
          "data": {
            "text/plain": [
              "OrderedDict([('account_key', '448'),\n",
              "             ('status', 'canceled'),\n",
              "             ('join_date', datetime.datetime(2014, 11, 10, 0, 0)),\n",
              "             ('cancel_date', datetime.datetime(2015, 1, 14, 0, 0)),\n",
              "             ('days_to_cancel', 65),\n",
              "             ('is_udacity', True),\n",
              "             ('is_canceled', True)])"
            ]
          },
          "metadata": {
            "tags": []
          },
          "execution_count": 12
        }
      ]
    },
    {
      "cell_type": "code",
      "metadata": {
        "id": "t9B5Otno1v1u",
        "colab_type": "code",
        "colab": {
          "base_uri": "https://localhost:8080/",
          "height": 119
        },
        "outputId": "b0a9ff42-de40-4c36-ca73-3d754fbae8f6"
      },
      "source": [
        "for engagement_record in daily_engagement:\n",
        "  engagement_record['lessons_completed'] = int(float(engagement_record['lessons_completed']))\n",
        "  engagement_record['num_courses_visited'] = int(float(engagement_record['num_courses_visited']))\n",
        "  engagement_record['projects_completed'] = int(float(engagement_record['projects_completed']))\n",
        "  engagement_record['total_minutes_visited'] = float(engagement_record['total_minutes_visited'])\n",
        "  engagement_record['utc_date'] = parse_date(engagement_record['utc_date'])\n",
        "\n",
        "daily_engagement[0]\n"
      ],
      "execution_count": 13,
      "outputs": [
        {
          "output_type": "execute_result",
          "data": {
            "text/plain": [
              "OrderedDict([('acct', '0'),\n",
              "             ('utc_date', datetime.datetime(2015, 1, 9, 0, 0)),\n",
              "             ('num_courses_visited', 1),\n",
              "             ('total_minutes_visited', 11.6793745),\n",
              "             ('lessons_completed', 0),\n",
              "             ('projects_completed', 0)])"
            ]
          },
          "metadata": {
            "tags": []
          },
          "execution_count": 13
        }
      ]
    },
    {
      "cell_type": "code",
      "metadata": {
        "id": "I7F63MqSCBBH",
        "colab_type": "code",
        "colab": {
          "base_uri": "https://localhost:8080/",
          "height": 119
        },
        "outputId": "4f1da088-2cc9-4d0f-bdeb-9f6c1374df31"
      },
      "source": [
        "for submission in project_submissions:\n",
        "  submission['completion_date'] = parse_date(submission['completion_date'])\n",
        "  submission['creation_date'] = parse_date(submission['creation_date'])\n",
        "\n",
        "project_submissions[0]"
      ],
      "execution_count": 14,
      "outputs": [
        {
          "output_type": "execute_result",
          "data": {
            "text/plain": [
              "OrderedDict([('creation_date', datetime.datetime(2015, 1, 14, 0, 0)),\n",
              "             ('completion_date', datetime.datetime(2015, 1, 16, 0, 0)),\n",
              "             ('assigned_rating', 'UNGRADED'),\n",
              "             ('account_key', '256'),\n",
              "             ('lesson_key', '3176718735'),\n",
              "             ('processing_state', 'EVALUATED')])"
            ]
          },
          "metadata": {
            "tags": []
          },
          "execution_count": 14
        }
      ]
    },
    {
      "cell_type": "code",
      "metadata": {
        "id": "RSOx8DevDGvR",
        "colab_type": "code",
        "colab": {}
      },
      "source": [
        "# cleaning the data a bit more\n",
        "# problem 1 : tables enrollments and project_submissions has account_key, whereas daily_engagement has acct\n",
        "# Fixing this problem : \n",
        "\n",
        "for engagement_record in daily_engagement:\n",
        "  engagement_record['account_key'] = engagement_record['acct']\n",
        "  del[engagement_record['acct']]"
      ],
      "execution_count": 15,
      "outputs": []
    },
    {
      "cell_type": "code",
      "metadata": {
        "id": "RL7TRJyDG9VN",
        "colab_type": "code",
        "colab": {
          "base_uri": "https://localhost:8080/",
          "height": 119
        },
        "outputId": "60bc0fb9-6d33-41f5-9873-c4547f35b3bc"
      },
      "source": [
        "daily_engagement[0]"
      ],
      "execution_count": 16,
      "outputs": [
        {
          "output_type": "execute_result",
          "data": {
            "text/plain": [
              "OrderedDict([('utc_date', datetime.datetime(2015, 1, 9, 0, 0)),\n",
              "             ('num_courses_visited', 1),\n",
              "             ('total_minutes_visited', 11.6793745),\n",
              "             ('lessons_completed', 0),\n",
              "             ('projects_completed', 0),\n",
              "             ('account_key', '0')])"
            ]
          },
          "metadata": {
            "tags": []
          },
          "execution_count": 16
        }
      ]
    },
    {
      "cell_type": "code",
      "metadata": {
        "id": "kumDVgJtILwF",
        "colab_type": "code",
        "colab": {}
      },
      "source": [
        "def get_unique_students(data):\n",
        "  unique_students = set()\n",
        "  for data_point in data:\n",
        "    unique_students.add(data_point['account_key'])\n",
        "  return unique_students"
      ],
      "execution_count": 17,
      "outputs": []
    },
    {
      "cell_type": "code",
      "metadata": {
        "id": "5nd_6hToJJI0",
        "colab_type": "code",
        "colab": {
          "base_uri": "https://localhost:8080/",
          "height": 34
        },
        "outputId": "855fdcbb-874b-4181-f119-2175249ed04e"
      },
      "source": [
        "len(enrollments)"
      ],
      "execution_count": 18,
      "outputs": [
        {
          "output_type": "execute_result",
          "data": {
            "text/plain": [
              "1640"
            ]
          },
          "metadata": {
            "tags": []
          },
          "execution_count": 18
        }
      ]
    },
    {
      "cell_type": "code",
      "metadata": {
        "id": "1Prx3whbJYYG",
        "colab_type": "code",
        "colab": {
          "base_uri": "https://localhost:8080/",
          "height": 34
        },
        "outputId": "0f8a7979-f5b5-4ce0-9ead-1f35036b1988"
      },
      "source": [
        "unique_enrolled_students = get_unique_students(enrollments)\n",
        "len(unique_enrolled_students)"
      ],
      "execution_count": 19,
      "outputs": [
        {
          "output_type": "execute_result",
          "data": {
            "text/plain": [
              "1302"
            ]
          },
          "metadata": {
            "tags": []
          },
          "execution_count": 19
        }
      ]
    },
    {
      "cell_type": "code",
      "metadata": {
        "id": "eLY-0Yi7JoUo",
        "colab_type": "code",
        "colab": {
          "base_uri": "https://localhost:8080/",
          "height": 34
        },
        "outputId": "1d5b6202-c8c4-4069-d5f2-09288c6a6183"
      },
      "source": [
        "len(daily_engagement)"
      ],
      "execution_count": 20,
      "outputs": [
        {
          "output_type": "execute_result",
          "data": {
            "text/plain": [
              "136240"
            ]
          },
          "metadata": {
            "tags": []
          },
          "execution_count": 20
        }
      ]
    },
    {
      "cell_type": "code",
      "metadata": {
        "id": "UFEcsT-1JqcB",
        "colab_type": "code",
        "colab": {
          "base_uri": "https://localhost:8080/",
          "height": 34
        },
        "outputId": "3fcd3b49-15e4-485a-ef67-190ef87dfeeb"
      },
      "source": [
        "unique_engagement_students = get_unique_students(daily_engagement)\n",
        "len(unique_engagement_students)"
      ],
      "execution_count": 21,
      "outputs": [
        {
          "output_type": "execute_result",
          "data": {
            "text/plain": [
              "1237"
            ]
          },
          "metadata": {
            "tags": []
          },
          "execution_count": 21
        }
      ]
    },
    {
      "cell_type": "code",
      "metadata": {
        "id": "-qldlDCzJy1p",
        "colab_type": "code",
        "colab": {
          "base_uri": "https://localhost:8080/",
          "height": 34
        },
        "outputId": "083c546a-775f-4e32-fcc6-1f726e138829"
      },
      "source": [
        "len(project_submissions)"
      ],
      "execution_count": 22,
      "outputs": [
        {
          "output_type": "execute_result",
          "data": {
            "text/plain": [
              "3642"
            ]
          },
          "metadata": {
            "tags": []
          },
          "execution_count": 22
        }
      ]
    },
    {
      "cell_type": "code",
      "metadata": {
        "id": "UpmcXEauJ3RH",
        "colab_type": "code",
        "colab": {
          "base_uri": "https://localhost:8080/",
          "height": 34
        },
        "outputId": "7e253ac1-8de9-41c1-e320-f754367003a5"
      },
      "source": [
        "unique_project_submitters = get_unique_students(project_submissions)\n",
        "len(unique_project_submitters)"
      ],
      "execution_count": 23,
      "outputs": [
        {
          "output_type": "execute_result",
          "data": {
            "text/plain": [
              "743"
            ]
          },
          "metadata": {
            "tags": []
          },
          "execution_count": 23
        }
      ]
    },
    {
      "cell_type": "code",
      "metadata": {
        "id": "Gp5INChyJ-x0",
        "colab_type": "code",
        "colab": {
          "base_uri": "https://localhost:8080/",
          "height": 34
        },
        "outputId": "46865086-653d-4f42-a24b-6a0a4b86b2b4"
      },
      "source": [
        "daily_engagement[0]['account_key']"
      ],
      "execution_count": 24,
      "outputs": [
        {
          "output_type": "execute_result",
          "data": {
            "text/plain": [
              "'0'"
            ]
          },
          "metadata": {
            "tags": []
          },
          "execution_count": 24
        }
      ]
    },
    {
      "cell_type": "code",
      "metadata": {
        "id": "P5lH5qDh2GHe",
        "colab_type": "code",
        "colab": {}
      },
      "source": [
        "# Investigating Data Problems, if any\n",
        "# Steps : \n",
        "# 1. Identify surprising data points\n",
        "# 2. Print out one or few surprising points\n",
        "# 3. Fix any problems you find\n",
        "# Repeat the process"
      ],
      "execution_count": 25,
      "outputs": []
    },
    {
      "cell_type": "code",
      "metadata": {
        "id": "gvyVR9-BKGc9",
        "colab_type": "code",
        "colab": {
          "base_uri": "https://localhost:8080/",
          "height": 34
        },
        "outputId": "6a178962-8333-4e88-87d5-fe5b76991bfe"
      },
      "source": [
        "enrolls_not_engaged = []\n",
        "for unique_enrolls in unique_enrolled_students:\n",
        "  if unique_enrolls not in unique_engagement_students:\n",
        "    enrolls_not_engaged.append(unique_enrolls)\n",
        "\n",
        "print (\"Enrolls which are not engaged: \", len(enrolls_not_engaged))"
      ],
      "execution_count": 26,
      "outputs": [
        {
          "output_type": "stream",
          "text": [
            "Enrolls which are not engaged:  65\n"
          ],
          "name": "stdout"
        }
      ]
    },
    {
      "cell_type": "code",
      "metadata": {
        "id": "P9StCIvKzmx-",
        "colab_type": "code",
        "colab": {
          "base_uri": "https://localhost:8080/",
          "height": 1000
        },
        "outputId": "11544d49-1f6a-430c-e76d-c6985e8b997e"
      },
      "source": [
        "for enrollment in enrollments:\n",
        "  if enrollment['account_key'] in enrolls_not_engaged:\n",
        "    print (enrollment)"
      ],
      "execution_count": 27,
      "outputs": [
        {
          "output_type": "stream",
          "text": [
            "OrderedDict([('account_key', '1219'), ('status', 'canceled'), ('join_date', datetime.datetime(2014, 11, 12, 0, 0)), ('cancel_date', datetime.datetime(2014, 11, 12, 0, 0)), ('days_to_cancel', 0), ('is_udacity', False), ('is_canceled', True)])\n",
            "OrderedDict([('account_key', '871'), ('status', 'canceled'), ('join_date', datetime.datetime(2014, 11, 13, 0, 0)), ('cancel_date', datetime.datetime(2014, 11, 13, 0, 0)), ('days_to_cancel', 0), ('is_udacity', False), ('is_canceled', True)])\n",
            "OrderedDict([('account_key', '1218'), ('status', 'canceled'), ('join_date', datetime.datetime(2014, 11, 15, 0, 0)), ('cancel_date', datetime.datetime(2014, 11, 15, 0, 0)), ('days_to_cancel', 0), ('is_udacity', False), ('is_canceled', True)])\n",
            "OrderedDict([('account_key', '654'), ('status', 'canceled'), ('join_date', datetime.datetime(2014, 12, 4, 0, 0)), ('cancel_date', datetime.datetime(2014, 12, 4, 0, 0)), ('days_to_cancel', 0), ('is_udacity', False), ('is_canceled', True)])\n",
            "OrderedDict([('account_key', '654'), ('status', 'canceled'), ('join_date', datetime.datetime(2014, 12, 4, 0, 0)), ('cancel_date', datetime.datetime(2014, 12, 4, 0, 0)), ('days_to_cancel', 0), ('is_udacity', False), ('is_canceled', True)])\n",
            "OrderedDict([('account_key', '654'), ('status', 'canceled'), ('join_date', datetime.datetime(2014, 12, 3, 0, 0)), ('cancel_date', datetime.datetime(2014, 12, 3, 0, 0)), ('days_to_cancel', 0), ('is_udacity', False), ('is_canceled', True)])\n",
            "OrderedDict([('account_key', '964'), ('status', 'canceled'), ('join_date', datetime.datetime(2014, 12, 4, 0, 0)), ('cancel_date', datetime.datetime(2014, 12, 4, 0, 0)), ('days_to_cancel', 0), ('is_udacity', False), ('is_canceled', True)])\n",
            "OrderedDict([('account_key', '817'), ('status', 'canceled'), ('join_date', datetime.datetime(2014, 12, 9, 0, 0)), ('cancel_date', datetime.datetime(2014, 12, 9, 0, 0)), ('days_to_cancel', 0), ('is_udacity', False), ('is_canceled', True)])\n",
            "OrderedDict([('account_key', '1171'), ('status', 'canceled'), ('join_date', datetime.datetime(2015, 1, 7, 0, 0)), ('cancel_date', datetime.datetime(2015, 1, 7, 0, 0)), ('days_to_cancel', 0), ('is_udacity', False), ('is_canceled', True)])\n",
            "OrderedDict([('account_key', '884'), ('status', 'canceled'), ('join_date', datetime.datetime(2015, 1, 8, 0, 0)), ('cancel_date', datetime.datetime(2015, 1, 8, 0, 0)), ('days_to_cancel', 0), ('is_udacity', False), ('is_canceled', True)])\n",
            "OrderedDict([('account_key', '875'), ('status', 'canceled'), ('join_date', datetime.datetime(2014, 11, 17, 0, 0)), ('cancel_date', datetime.datetime(2014, 11, 17, 0, 0)), ('days_to_cancel', 0), ('is_udacity', False), ('is_canceled', True)])\n",
            "OrderedDict([('account_key', '1120'), ('status', 'canceled'), ('join_date', datetime.datetime(2014, 12, 4, 0, 0)), ('cancel_date', datetime.datetime(2014, 12, 4, 0, 0)), ('days_to_cancel', 0), ('is_udacity', False), ('is_canceled', True)])\n",
            "OrderedDict([('account_key', '728'), ('status', 'canceled'), ('join_date', datetime.datetime(2014, 12, 5, 0, 0)), ('cancel_date', datetime.datetime(2014, 12, 5, 0, 0)), ('days_to_cancel', 0), ('is_udacity', False), ('is_canceled', True)])\n",
            "OrderedDict([('account_key', '1191'), ('status', 'canceled'), ('join_date', datetime.datetime(2015, 1, 11, 0, 0)), ('cancel_date', datetime.datetime(2015, 1, 11, 0, 0)), ('days_to_cancel', 0), ('is_udacity', False), ('is_canceled', True)])\n",
            "OrderedDict([('account_key', '1304'), ('status', 'canceled'), ('join_date', datetime.datetime(2015, 1, 10, 0, 0)), ('cancel_date', datetime.datetime(2015, 3, 10, 0, 0)), ('days_to_cancel', 59), ('is_udacity', True), ('is_canceled', True)])\n",
            "OrderedDict([('account_key', '1304'), ('status', 'canceled'), ('join_date', datetime.datetime(2015, 3, 10, 0, 0)), ('cancel_date', datetime.datetime(2015, 6, 17, 0, 0)), ('days_to_cancel', 99), ('is_udacity', True), ('is_canceled', True)])\n",
            "OrderedDict([('account_key', '1010'), ('status', 'canceled'), ('join_date', datetime.datetime(2015, 1, 11, 0, 0)), ('cancel_date', datetime.datetime(2015, 1, 11, 0, 0)), ('days_to_cancel', 0), ('is_udacity', False), ('is_canceled', True)])\n",
            "OrderedDict([('account_key', '841'), ('status', 'canceled'), ('join_date', datetime.datetime(2014, 11, 12, 0, 0)), ('cancel_date', datetime.datetime(2014, 11, 12, 0, 0)), ('days_to_cancel', 0), ('is_udacity', False), ('is_canceled', True)])\n",
            "OrderedDict([('account_key', '707'), ('status', 'canceled'), ('join_date', datetime.datetime(2014, 12, 3, 0, 0)), ('cancel_date', datetime.datetime(2014, 12, 3, 0, 0)), ('days_to_cancel', 0), ('is_udacity', False), ('is_canceled', True)])\n",
            "OrderedDict([('account_key', '717'), ('status', 'canceled'), ('join_date', datetime.datetime(2014, 12, 4, 0, 0)), ('cancel_date', datetime.datetime(2014, 12, 4, 0, 0)), ('days_to_cancel', 0), ('is_udacity', False), ('is_canceled', True)])\n",
            "OrderedDict([('account_key', '727'), ('status', 'canceled'), ('join_date', datetime.datetime(2014, 12, 7, 0, 0)), ('cancel_date', datetime.datetime(2014, 12, 7, 0, 0)), ('days_to_cancel', 0), ('is_udacity', False), ('is_canceled', True)])\n",
            "OrderedDict([('account_key', '1273'), ('status', 'canceled'), ('join_date', datetime.datetime(2015, 1, 12, 0, 0)), ('cancel_date', datetime.datetime(2015, 1, 12, 0, 0)), ('days_to_cancel', 0), ('is_udacity', False), ('is_canceled', True)])\n",
            "OrderedDict([('account_key', '1238'), ('status', 'canceled'), ('join_date', datetime.datetime(2014, 11, 10, 0, 0)), ('cancel_date', datetime.datetime(2014, 11, 10, 0, 0)), ('days_to_cancel', 0), ('is_udacity', False), ('is_canceled', True)])\n",
            "OrderedDict([('account_key', '1044'), ('status', 'canceled'), ('join_date', datetime.datetime(2015, 2, 8, 0, 0)), ('cancel_date', datetime.datetime(2015, 2, 8, 0, 0)), ('days_to_cancel', 0), ('is_udacity', False), ('is_canceled', True)])\n",
            "OrderedDict([('account_key', '749'), ('status', 'canceled'), ('join_date', datetime.datetime(2015, 3, 5, 0, 0)), ('cancel_date', datetime.datetime(2015, 3, 5, 0, 0)), ('days_to_cancel', 0), ('is_udacity', False), ('is_canceled', True)])\n",
            "OrderedDict([('account_key', '1129'), ('status', 'canceled'), ('join_date', datetime.datetime(2015, 3, 7, 0, 0)), ('cancel_date', datetime.datetime(2015, 3, 7, 0, 0)), ('days_to_cancel', 0), ('is_udacity', False), ('is_canceled', True)])\n",
            "OrderedDict([('account_key', '1129'), ('status', 'canceled'), ('join_date', datetime.datetime(2015, 2, 11, 0, 0)), ('cancel_date', datetime.datetime(2015, 2, 11, 0, 0)), ('days_to_cancel', 0), ('is_udacity', False), ('is_canceled', True)])\n",
            "OrderedDict([('account_key', '926'), ('status', 'canceled'), ('join_date', datetime.datetime(2015, 4, 6, 0, 0)), ('cancel_date', datetime.datetime(2015, 4, 6, 0, 0)), ('days_to_cancel', 0), ('is_udacity', False), ('is_canceled', True)])\n",
            "OrderedDict([('account_key', '711'), ('status', 'canceled'), ('join_date', datetime.datetime(2015, 5, 8, 0, 0)), ('cancel_date', datetime.datetime(2015, 5, 8, 0, 0)), ('days_to_cancel', 0), ('is_udacity', False), ('is_canceled', True)])\n",
            "OrderedDict([('account_key', '803'), ('status', 'canceled'), ('join_date', datetime.datetime(2015, 1, 8, 0, 0)), ('cancel_date', datetime.datetime(2015, 1, 8, 0, 0)), ('days_to_cancel', 0), ('is_udacity', False), ('is_canceled', True)])\n",
            "OrderedDict([('account_key', '799'), ('status', 'canceled'), ('join_date', datetime.datetime(2015, 2, 6, 0, 0)), ('cancel_date', datetime.datetime(2015, 2, 6, 0, 0)), ('days_to_cancel', 0), ('is_udacity', False), ('is_canceled', True)])\n",
            "OrderedDict([('account_key', '789'), ('status', 'canceled'), ('join_date', datetime.datetime(2015, 2, 6, 0, 0)), ('cancel_date', datetime.datetime(2015, 2, 6, 0, 0)), ('days_to_cancel', 0), ('is_udacity', False), ('is_canceled', True)])\n",
            "OrderedDict([('account_key', '819'), ('status', 'canceled'), ('join_date', datetime.datetime(2015, 3, 4, 0, 0)), ('cancel_date', datetime.datetime(2015, 3, 4, 0, 0)), ('days_to_cancel', 0), ('is_udacity', False), ('is_canceled', True)])\n",
            "OrderedDict([('account_key', '819'), ('status', 'canceled'), ('join_date', datetime.datetime(2015, 3, 4, 0, 0)), ('cancel_date', datetime.datetime(2015, 3, 4, 0, 0)), ('days_to_cancel', 0), ('is_udacity', False), ('is_canceled', True)])\n",
            "OrderedDict([('account_key', '902'), ('status', 'canceled'), ('join_date', datetime.datetime(2015, 5, 29, 0, 0)), ('cancel_date', datetime.datetime(2015, 5, 29, 0, 0)), ('days_to_cancel', 0), ('is_udacity', False), ('is_canceled', True)])\n",
            "OrderedDict([('account_key', '996'), ('status', 'canceled'), ('join_date', datetime.datetime(2015, 5, 29, 0, 0)), ('cancel_date', datetime.datetime(2015, 5, 29, 0, 0)), ('days_to_cancel', 0), ('is_udacity', False), ('is_canceled', True)])\n",
            "OrderedDict([('account_key', '1213'), ('status', 'canceled'), ('join_date', datetime.datetime(2015, 1, 12, 0, 0)), ('cancel_date', datetime.datetime(2015, 1, 12, 0, 0)), ('days_to_cancel', 0), ('is_udacity', False), ('is_canceled', True)])\n",
            "OrderedDict([('account_key', '733'), ('status', 'canceled'), ('join_date', datetime.datetime(2015, 1, 12, 0, 0)), ('cancel_date', datetime.datetime(2015, 1, 12, 0, 0)), ('days_to_cancel', 0), ('is_udacity', False), ('is_canceled', True)])\n",
            "OrderedDict([('account_key', '1237'), ('status', 'canceled'), ('join_date', datetime.datetime(2015, 5, 28, 0, 0)), ('cancel_date', datetime.datetime(2015, 5, 28, 0, 0)), ('days_to_cancel', 0), ('is_udacity', False), ('is_canceled', True)])\n",
            "OrderedDict([('account_key', '1069'), ('status', 'canceled'), ('join_date', datetime.datetime(2015, 6, 1, 0, 0)), ('cancel_date', datetime.datetime(2015, 6, 1, 0, 0)), ('days_to_cancel', 0), ('is_udacity', True), ('is_canceled', True)])\n",
            "OrderedDict([('account_key', '1086'), ('status', 'canceled'), ('join_date', datetime.datetime(2015, 6, 9, 0, 0)), ('cancel_date', datetime.datetime(2015, 6, 9, 0, 0)), ('days_to_cancel', 0), ('is_udacity', False), ('is_canceled', True)])\n",
            "OrderedDict([('account_key', '1190'), ('status', 'canceled'), ('join_date', datetime.datetime(2015, 3, 6, 0, 0)), ('cancel_date', datetime.datetime(2015, 3, 6, 0, 0)), ('days_to_cancel', 0), ('is_udacity', False), ('is_canceled', True)])\n",
            "OrderedDict([('account_key', '914'), ('status', 'canceled'), ('join_date', datetime.datetime(2015, 4, 2, 0, 0)), ('cancel_date', datetime.datetime(2015, 4, 2, 0, 0)), ('days_to_cancel', 0), ('is_udacity', False), ('is_canceled', True)])\n",
            "OrderedDict([('account_key', '914'), ('status', 'canceled'), ('join_date', datetime.datetime(2015, 7, 17, 0, 0)), ('cancel_date', datetime.datetime(2015, 7, 17, 0, 0)), ('days_to_cancel', 0), ('is_udacity', False), ('is_canceled', True)])\n",
            "OrderedDict([('account_key', '968'), ('status', 'canceled'), ('join_date', datetime.datetime(2015, 7, 17, 0, 0)), ('cancel_date', datetime.datetime(2015, 7, 17, 0, 0)), ('days_to_cancel', 0), ('is_udacity', False), ('is_canceled', True)])\n",
            "OrderedDict([('account_key', '1155'), ('status', 'canceled'), ('join_date', datetime.datetime(2015, 7, 17, 0, 0)), ('cancel_date', datetime.datetime(2015, 7, 17, 0, 0)), ('days_to_cancel', 0), ('is_udacity', False), ('is_canceled', True)])\n",
            "OrderedDict([('account_key', '766'), ('status', 'canceled'), ('join_date', datetime.datetime(2015, 5, 10, 0, 0)), ('cancel_date', datetime.datetime(2015, 5, 10, 0, 0)), ('days_to_cancel', 0), ('is_udacity', False), ('is_canceled', True)])\n",
            "OrderedDict([('account_key', '739'), ('status', 'canceled'), ('join_date', datetime.datetime(2015, 4, 5, 0, 0)), ('cancel_date', datetime.datetime(2015, 4, 5, 0, 0)), ('days_to_cancel', 0), ('is_udacity', False), ('is_canceled', True)])\n",
            "OrderedDict([('account_key', '1222'), ('status', 'canceled'), ('join_date', datetime.datetime(2015, 4, 7, 0, 0)), ('cancel_date', datetime.datetime(2015, 4, 7, 0, 0)), ('days_to_cancel', 0), ('is_udacity', False), ('is_canceled', True)])\n",
            "OrderedDict([('account_key', '1125'), ('status', 'canceled'), ('join_date', datetime.datetime(2015, 5, 31, 0, 0)), ('cancel_date', datetime.datetime(2015, 5, 31, 0, 0)), ('days_to_cancel', 0), ('is_udacity', False), ('is_canceled', True)])\n",
            "OrderedDict([('account_key', '1025'), ('status', 'canceled'), ('join_date', datetime.datetime(2015, 6, 7, 0, 0)), ('cancel_date', datetime.datetime(2015, 6, 7, 0, 0)), ('days_to_cancel', 0), ('is_udacity', False), ('is_canceled', True)])\n",
            "OrderedDict([('account_key', '750'), ('status', 'canceled'), ('join_date', datetime.datetime(2015, 6, 6, 0, 0)), ('cancel_date', datetime.datetime(2015, 6, 6, 0, 0)), ('days_to_cancel', 0), ('is_udacity', False), ('is_canceled', True)])\n",
            "OrderedDict([('account_key', '889'), ('status', 'canceled'), ('join_date', datetime.datetime(2015, 8, 11, 0, 0)), ('cancel_date', datetime.datetime(2015, 8, 11, 0, 0)), ('days_to_cancel', 0), ('is_udacity', False), ('is_canceled', True)])\n",
            "OrderedDict([('account_key', '737'), ('status', 'canceled'), ('join_date', datetime.datetime(2014, 11, 10, 0, 0)), ('cancel_date', datetime.datetime(2014, 11, 10, 0, 0)), ('days_to_cancel', 0), ('is_udacity', False), ('is_canceled', True)])\n",
            "OrderedDict([('account_key', '878'), ('status', 'canceled'), ('join_date', datetime.datetime(2014, 11, 10, 0, 0)), ('cancel_date', datetime.datetime(2014, 11, 10, 0, 0)), ('days_to_cancel', 0), ('is_udacity', False), ('is_canceled', True)])\n",
            "OrderedDict([('account_key', '981'), ('status', 'canceled'), ('join_date', datetime.datetime(2015, 2, 7, 0, 0)), ('cancel_date', datetime.datetime(2015, 2, 7, 0, 0)), ('days_to_cancel', 0), ('is_udacity', False), ('is_canceled', True)])\n",
            "OrderedDict([('account_key', '1101'), ('status', 'current'), ('join_date', datetime.datetime(2015, 2, 25, 0, 0)), ('cancel_date', None), ('days_to_cancel', None), ('is_udacity', True), ('is_canceled', False)])\n",
            "OrderedDict([('account_key', '1148'), ('status', 'canceled'), ('join_date', datetime.datetime(2015, 3, 9, 0, 0)), ('cancel_date', datetime.datetime(2015, 3, 9, 0, 0)), ('days_to_cancel', 0), ('is_udacity', False), ('is_canceled', True)])\n",
            "OrderedDict([('account_key', '1186'), ('status', 'canceled'), ('join_date', datetime.datetime(2015, 3, 11, 0, 0)), ('cancel_date', datetime.datetime(2015, 3, 11, 0, 0)), ('days_to_cancel', 0), ('is_udacity', False), ('is_canceled', True)])\n",
            "OrderedDict([('account_key', '725'), ('status', 'canceled'), ('join_date', datetime.datetime(2014, 12, 6, 0, 0)), ('cancel_date', datetime.datetime(2014, 12, 6, 0, 0)), ('days_to_cancel', 0), ('is_udacity', False), ('is_canceled', True)])\n",
            "OrderedDict([('account_key', '1145'), ('status', 'canceled'), ('join_date', datetime.datetime(2015, 4, 4, 0, 0)), ('cancel_date', datetime.datetime(2015, 4, 4, 0, 0)), ('days_to_cancel', 0), ('is_udacity', False), ('is_canceled', True)])\n",
            "OrderedDict([('account_key', '802'), ('status', 'canceled'), ('join_date', datetime.datetime(2015, 1, 8, 0, 0)), ('cancel_date', datetime.datetime(2015, 1, 8, 0, 0)), ('days_to_cancel', 0), ('is_udacity', False), ('is_canceled', True)])\n",
            "OrderedDict([('account_key', '664'), ('status', 'canceled'), ('join_date', datetime.datetime(2015, 1, 8, 0, 0)), ('cancel_date', datetime.datetime(2015, 1, 8, 0, 0)), ('days_to_cancel', 0), ('is_udacity', False), ('is_canceled', True)])\n",
            "OrderedDict([('account_key', '997'), ('status', 'canceled'), ('join_date', datetime.datetime(2015, 1, 12, 0, 0)), ('cancel_date', datetime.datetime(2015, 1, 12, 0, 0)), ('days_to_cancel', 0), ('is_udacity', False), ('is_canceled', True)])\n",
            "OrderedDict([('account_key', '870'), ('status', 'canceled'), ('join_date', datetime.datetime(2015, 5, 12, 0, 0)), ('cancel_date', datetime.datetime(2015, 5, 12, 0, 0)), ('days_to_cancel', 0), ('is_udacity', False), ('is_canceled', True)])\n",
            "OrderedDict([('account_key', '1284'), ('status', 'canceled'), ('join_date', datetime.datetime(2015, 1, 13, 0, 0)), ('cancel_date', datetime.datetime(2015, 1, 13, 0, 0)), ('days_to_cancel', 0), ('is_udacity', False), ('is_canceled', True)])\n",
            "OrderedDict([('account_key', '1079'), ('status', 'canceled'), ('join_date', datetime.datetime(2015, 2, 9, 0, 0)), ('cancel_date', datetime.datetime(2015, 2, 9, 0, 0)), ('days_to_cancel', 0), ('is_udacity', False), ('is_canceled', True)])\n",
            "OrderedDict([('account_key', '1063'), ('status', 'canceled'), ('join_date', datetime.datetime(2015, 7, 14, 0, 0)), ('cancel_date', datetime.datetime(2015, 7, 14, 0, 0)), ('days_to_cancel', 0), ('is_udacity', False), ('is_canceled', True)])\n",
            "OrderedDict([('account_key', '1270'), ('status', 'canceled'), ('join_date', datetime.datetime(2015, 7, 20, 0, 0)), ('cancel_date', datetime.datetime(2015, 7, 20, 0, 0)), ('days_to_cancel', 0), ('is_udacity', False), ('is_canceled', True)])\n",
            "OrderedDict([('account_key', '1291'), ('status', 'canceled'), ('join_date', datetime.datetime(2015, 6, 3, 0, 0)), ('cancel_date', datetime.datetime(2015, 6, 3, 0, 0)), ('days_to_cancel', 0), ('is_udacity', False), ('is_canceled', True)])\n",
            "OrderedDict([('account_key', '1241'), ('status', 'canceled'), ('join_date', datetime.datetime(2015, 6, 9, 0, 0)), ('cancel_date', datetime.datetime(2015, 6, 9, 0, 0)), ('days_to_cancel', 0), ('is_udacity', False), ('is_canceled', True)])\n"
          ],
          "name": "stdout"
        }
      ]
    },
    {
      "cell_type": "code",
      "metadata": {
        "id": "0jKk793J0h0j",
        "colab_type": "code",
        "colab": {}
      },
      "source": [
        "# We make a conclusion that the ones who are not engaging but enrolled have -\n",
        "# cancelled after enrolling. \n",
        "# The enrollments were cancelled right on the day of enrollment, except two students who cancelled after 59 and 99 days\n",
        "# resp. "
      ],
      "execution_count": 28,
      "outputs": []
    },
    {
      "cell_type": "code",
      "metadata": {
        "id": "elzCcNzp2eEa",
        "colab_type": "code",
        "colab": {
          "base_uri": "https://localhost:8080/",
          "height": 88
        },
        "outputId": "48409bf9-f53b-48ce-f374-91b7afebac6b"
      },
      "source": [
        "# finding those who enrolled but not engaged and their days to cancel is greater than 0\n",
        "for enrollment in enrollments:\n",
        "  if enrollment['account_key'] in enrolls_not_engaged:\n",
        "    dc = enrollment['days_to_cancel']\n",
        "    if dc == None or dc != 0:\n",
        "      print (enrollment)\n",
        "    \n"
      ],
      "execution_count": 29,
      "outputs": [
        {
          "output_type": "stream",
          "text": [
            "OrderedDict([('account_key', '1304'), ('status', 'canceled'), ('join_date', datetime.datetime(2015, 1, 10, 0, 0)), ('cancel_date', datetime.datetime(2015, 3, 10, 0, 0)), ('days_to_cancel', 59), ('is_udacity', True), ('is_canceled', True)])\n",
            "OrderedDict([('account_key', '1304'), ('status', 'canceled'), ('join_date', datetime.datetime(2015, 3, 10, 0, 0)), ('cancel_date', datetime.datetime(2015, 6, 17, 0, 0)), ('days_to_cancel', 99), ('is_udacity', True), ('is_canceled', True)])\n",
            "OrderedDict([('account_key', '1101'), ('status', 'current'), ('join_date', datetime.datetime(2015, 2, 25, 0, 0)), ('cancel_date', None), ('days_to_cancel', None), ('is_udacity', True), ('is_canceled', False)])\n"
          ],
          "name": "stdout"
        }
      ]
    },
    {
      "cell_type": "code",
      "metadata": {
        "id": "YbfEh9A63aJz",
        "colab_type": "code",
        "colab": {
          "base_uri": "https://localhost:8080/",
          "height": 34
        },
        "outputId": "1d331f9e-25bc-4ea0-e7cf-522198c9e6dc"
      },
      "source": [
        "# Turns out these 3 belong to udacity test accounts\n",
        "# So remove the people who are just having test accounts. i.e if is_udacity is true then having test accounts\n",
        "udacity_test_accounts = set()\n",
        "for enrollment in enrollments:\n",
        "  if enrollment['is_udacity']:\n",
        "    udacity_test_accounts.add(enrollment['account_key'])\n",
        "len(udacity_test_accounts)"
      ],
      "execution_count": 30,
      "outputs": [
        {
          "output_type": "execute_result",
          "data": {
            "text/plain": [
              "6"
            ]
          },
          "metadata": {
            "tags": []
          },
          "execution_count": 30
        }
      ]
    },
    {
      "cell_type": "code",
      "metadata": {
        "id": "MN1F9xDV7JNI",
        "colab_type": "code",
        "colab": {}
      },
      "source": [
        "# 6 people with test accounts\n",
        "# remove these guys, as we wouldn't be needing them in our analysis\n",
        "def remove_udacity_accounts(data):\n",
        "  non_udacity_data = []\n",
        "  for data_point in data:\n",
        "    if data_point['account_key'] not in udacity_test_accounts:\n",
        "      non_udacity_data.append(data_point)\n",
        "  return non_udacity_data"
      ],
      "execution_count": 31,
      "outputs": []
    },
    {
      "cell_type": "code",
      "metadata": {
        "id": "yMvAyZ11-Xw6",
        "colab_type": "code",
        "colab": {
          "base_uri": "https://localhost:8080/",
          "height": 68
        },
        "outputId": "aaf8a8f8-4002-40fc-b69e-f619fd765124"
      },
      "source": [
        "non_udacity_enrollments = remove_udacity_accounts(enrollments)\n",
        "non_udacity_engagement = remove_udacity_accounts(daily_engagement)\n",
        "non_udacity_submissions = remove_udacity_accounts(project_submissions)\n",
        "\n",
        "print (len(non_udacity_enrollments))\n",
        "print (len(non_udacity_engagement))\n",
        "print (len(non_udacity_submissions))"
      ],
      "execution_count": 32,
      "outputs": [
        {
          "output_type": "stream",
          "text": [
            "1622\n",
            "135656\n",
            "3634\n"
          ],
          "name": "stdout"
        }
      ]
    },
    {
      "cell_type": "code",
      "metadata": {
        "id": "REurX4pJB_rJ",
        "colab_type": "code",
        "colab": {
          "base_uri": "https://localhost:8080/",
          "height": 136
        },
        "outputId": "ea61d3fc-b9cb-4b66-d050-7ab92cfc7601"
      },
      "source": [
        "non_udacity_enrollments[0]"
      ],
      "execution_count": 33,
      "outputs": [
        {
          "output_type": "execute_result",
          "data": {
            "text/plain": [
              "OrderedDict([('account_key', '700'),\n",
              "             ('status', 'canceled'),\n",
              "             ('join_date', datetime.datetime(2014, 11, 10, 0, 0)),\n",
              "             ('cancel_date', datetime.datetime(2014, 11, 16, 0, 0)),\n",
              "             ('days_to_cancel', 6),\n",
              "             ('is_udacity', False),\n",
              "             ('is_canceled', True)])"
            ]
          },
          "metadata": {
            "tags": []
          },
          "execution_count": 33
        }
      ]
    },
    {
      "cell_type": "code",
      "metadata": {
        "id": "qekWGLmw-wTy",
        "colab_type": "code",
        "colab": {}
      },
      "source": [
        "# Data Exploration Phase"
      ],
      "execution_count": 34,
      "outputs": []
    },
    {
      "cell_type": "code",
      "metadata": {
        "id": "TUhWsnadAJuK",
        "colab_type": "code",
        "colab": {}
      },
      "source": [
        "# Create a dictionary of students who either:\n",
        "# . haven't canceled yet  (days_to_cancel is None)\n",
        "# . stayed enrolled more than 7 days (days_to_cancel > 7) (i.e these are paid students, as there is a 7 day free trial)\n",
        "# keys: account_key, values: enrollment date\n",
        "# name the dictionary paid_students"
      ],
      "execution_count": 35,
      "outputs": []
    },
    {
      "cell_type": "code",
      "metadata": {
        "id": "zFBNaIacAM3a",
        "colab_type": "code",
        "colab": {
          "base_uri": "https://localhost:8080/",
          "height": 34
        },
        "outputId": "a2959a50-eb4e-4aa0-e0ef-6e89b5f0263b"
      },
      "source": [
        "paid_students = {}\n",
        "for enrollment in non_udacity_enrollments:\n",
        "  if not enrollment['is_canceled'] or enrollment['days_to_cancel'] > 7:\n",
        "    account_key = enrollment['account_key']\n",
        "    enrollment_date = enrollment['join_date']\n",
        "\n",
        "    # storing most recent enrollment date\n",
        "    if account_key not in paid_students or enrollment_date > paid_students[account_key]:\n",
        "      paid_students[account_key] = enrollment_date\n",
        "\n",
        "print (len(paid_students))"
      ],
      "execution_count": 36,
      "outputs": [
        {
          "output_type": "stream",
          "text": [
            "995\n"
          ],
          "name": "stdout"
        }
      ]
    },
    {
      "cell_type": "code",
      "metadata": {
        "id": "v8Oky4d9BE_w",
        "colab_type": "code",
        "colab": {
          "base_uri": "https://localhost:8080/",
          "height": 119
        },
        "outputId": "a57115d2-2555-421c-8edc-641a9c07fc5f"
      },
      "source": [
        "non_udacity_engagement[0]"
      ],
      "execution_count": 37,
      "outputs": [
        {
          "output_type": "execute_result",
          "data": {
            "text/plain": [
              "OrderedDict([('utc_date', datetime.datetime(2015, 1, 9, 0, 0)),\n",
              "             ('num_courses_visited', 1),\n",
              "             ('total_minutes_visited', 11.6793745),\n",
              "             ('lessons_completed', 0),\n",
              "             ('projects_completed', 0),\n",
              "             ('account_key', '0')])"
            ]
          },
          "metadata": {
            "tags": []
          },
          "execution_count": 37
        }
      ]
    },
    {
      "cell_type": "code",
      "metadata": {
        "id": "onzTDWk1JVl7",
        "colab_type": "code",
        "colab": {}
      },
      "source": [
        "# Takes a student's join date and the date of a specific engagement record,\n",
        "# and returns True if that engagement record happened within one week\n",
        "# of the student joining.\n",
        "def within_one_week(join_date, engagement_date):\n",
        "    time_delta = engagement_date - join_date\n",
        "    return time_delta.days < 7 and time_delta.days >= 0"
      ],
      "execution_count": 38,
      "outputs": []
    },
    {
      "cell_type": "code",
      "metadata": {
        "id": "oyOohl32J1dR",
        "colab_type": "code",
        "colab": {}
      },
      "source": [
        "## Create a list of rows from the engagement table including only rows where\n",
        "## the student is one of the paid students you just found, and the date is within\n",
        "## one week of the student's join date."
      ],
      "execution_count": 39,
      "outputs": []
    },
    {
      "cell_type": "code",
      "metadata": {
        "id": "Yd3iqZApKpJW",
        "colab_type": "code",
        "colab": {}
      },
      "source": [
        "def remove_free_trial_cancels(data):\n",
        "  new_data = []\n",
        "  for data_point in data:\n",
        "    if data_point['account_key'] in paid_students:\n",
        "      new_data.append(data_point)\n",
        "  return new_data"
      ],
      "execution_count": 40,
      "outputs": []
    },
    {
      "cell_type": "code",
      "metadata": {
        "id": "MqTVwEvmMAZG",
        "colab_type": "code",
        "colab": {
          "base_uri": "https://localhost:8080/",
          "height": 68
        },
        "outputId": "64fdc0de-13b1-4d0b-e327-183349c05fbd"
      },
      "source": [
        "paid_enrollments = remove_free_trial_cancels(non_udacity_enrollments)\n",
        "paid_engagement = remove_free_trial_cancels(non_udacity_engagement)\n",
        "paid_submissions = remove_free_trial_cancels(non_udacity_submissions)\n",
        "\n",
        "print (len(paid_enrollments))\n",
        "print (len(paid_engagement))\n",
        "print (len(paid_submissions))"
      ],
      "execution_count": 41,
      "outputs": [
        {
          "output_type": "stream",
          "text": [
            "1293\n",
            "134549\n",
            "3618\n"
          ],
          "name": "stdout"
        }
      ]
    },
    {
      "cell_type": "code",
      "metadata": {
        "id": "LhwMRwVQgRMR",
        "colab_type": "code",
        "colab": {}
      },
      "source": [
        "for engagement_record in paid_engagement:\n",
        "  if engagement_record['num_courses_visited'] > 0:\n",
        "    engagement_record['has_visited'] = 1\n",
        "  else:\n",
        "    engagement_record['has_visited'] = 0"
      ],
      "execution_count": 42,
      "outputs": []
    },
    {
      "cell_type": "code",
      "metadata": {
        "id": "lg8eopMbMYTH",
        "colab_type": "code",
        "colab": {
          "base_uri": "https://localhost:8080/",
          "height": 34
        },
        "outputId": "1d65322a-383a-4773-bce1-26b7aa578462"
      },
      "source": [
        "paid_engagement_in_first_week = []\n",
        "for engagement_record in paid_engagement:\n",
        "  account_key = engagement_record['account_key']\n",
        "  join_date = paid_students[account_key]\n",
        "  engagement_record_date = engagement_record['utc_date']\n",
        "\n",
        "  if within_one_week(join_date, engagement_record_date):\n",
        "    paid_engagement_in_first_week.append(engagement_record)\n",
        "\n",
        "print (len(paid_engagement_in_first_week)) "
      ],
      "execution_count": 43,
      "outputs": [
        {
          "output_type": "stream",
          "text": [
            "6919\n"
          ],
          "name": "stdout"
        }
      ]
    },
    {
      "cell_type": "code",
      "metadata": {
        "id": "l6Dh9EkQNJ15",
        "colab_type": "code",
        "colab": {
          "base_uri": "https://localhost:8080/",
          "height": 156
        },
        "outputId": "e846345a-e9c9-4191-d178-667516487a22"
      },
      "source": [
        "for i in range(len(paid_engagement_in_first_week)):\n",
        "  print (paid_engagement_in_first_week[i])\n",
        "  if i > 5 :\n",
        "    break"
      ],
      "execution_count": 44,
      "outputs": [
        {
          "output_type": "stream",
          "text": [
            "OrderedDict([('utc_date', datetime.datetime(2015, 1, 9, 0, 0)), ('num_courses_visited', 1), ('total_minutes_visited', 11.6793745), ('lessons_completed', 0), ('projects_completed', 0), ('account_key', '0'), ('has_visited', 1)])\n",
            "OrderedDict([('utc_date', datetime.datetime(2015, 1, 10, 0, 0)), ('num_courses_visited', 2), ('total_minutes_visited', 37.2848873333), ('lessons_completed', 0), ('projects_completed', 0), ('account_key', '0'), ('has_visited', 1)])\n",
            "OrderedDict([('utc_date', datetime.datetime(2015, 1, 11, 0, 0)), ('num_courses_visited', 2), ('total_minutes_visited', 53.6337463333), ('lessons_completed', 0), ('projects_completed', 0), ('account_key', '0'), ('has_visited', 1)])\n",
            "OrderedDict([('utc_date', datetime.datetime(2015, 1, 12, 0, 0)), ('num_courses_visited', 1), ('total_minutes_visited', 33.4892696667), ('lessons_completed', 0), ('projects_completed', 0), ('account_key', '0'), ('has_visited', 1)])\n",
            "OrderedDict([('utc_date', datetime.datetime(2015, 1, 13, 0, 0)), ('num_courses_visited', 1), ('total_minutes_visited', 64.7796776667), ('lessons_completed', 0), ('projects_completed', 0), ('account_key', '0'), ('has_visited', 1)])\n",
            "OrderedDict([('utc_date', datetime.datetime(2015, 1, 14, 0, 0)), ('num_courses_visited', 1), ('total_minutes_visited', 151.617576833), ('lessons_completed', 1), ('projects_completed', 0), ('account_key', '0'), ('has_visited', 1)])\n",
            "OrderedDict([('utc_date', datetime.datetime(2015, 1, 15, 0, 0)), ('num_courses_visited', 1), ('total_minutes_visited', 142.395963833), ('lessons_completed', 0), ('projects_completed', 0), ('account_key', '0'), ('has_visited', 1)])\n"
          ],
          "name": "stdout"
        }
      ]
    },
    {
      "cell_type": "code",
      "metadata": {
        "id": "Qt_wkFJLNn2F",
        "colab_type": "code",
        "colab": {}
      },
      "source": [
        "from collections import defaultdict"
      ],
      "execution_count": 45,
      "outputs": []
    },
    {
      "cell_type": "code",
      "metadata": {
        "id": "EzSXRlAmOw0A",
        "colab_type": "code",
        "colab": {}
      },
      "source": [
        "def group_data(data,key_name):\n",
        "  grouped_data = defaultdict(list)\n",
        "  for data_point in data:\n",
        "    key = data_point[key_name]\n",
        "    grouped_data[key].append(data_point)\n",
        "  return grouped_data"
      ],
      "execution_count": 46,
      "outputs": []
    },
    {
      "cell_type": "code",
      "metadata": {
        "id": "ZcPyO9tDPPY-",
        "colab_type": "code",
        "colab": {}
      },
      "source": [
        "engagement_by_account = group_data(paid_engagement_in_first_week,'account_key')\n",
        "\n",
        "def sum_grouped_data(grouped_data,field_name):\n",
        "  summed_data = {}\n",
        "  for account_key,engagement_for_student in grouped_data.items():\n",
        "    sum = 0\n",
        "    for engagement_record in engagement_for_student:\n",
        "      sum += engagement_record[field_name]\n",
        "    summed_data[account_key] = sum\n",
        "  return summed_data"
      ],
      "execution_count": 62,
      "outputs": []
    },
    {
      "cell_type": "code",
      "metadata": {
        "id": "ZTu2VwYYQMI-",
        "colab_type": "code",
        "colab": {
          "base_uri": "https://localhost:8080/",
          "height": 54
        },
        "outputId": "5d204aec-17c8-4b07-9098-6cd32124352e"
      },
      "source": [
        "total_minutes_by_account = sum_grouped_data(engagement_by_account,'total_minutes_visited')\n",
        "\n",
        "total_minutes = list(total_minutes_by_account.values()) # convert to list, as dict.values() does not return list\n",
        "print (total_minutes)\n"
      ],
      "execution_count": 63,
      "outputs": [
        {
          "output_type": "stream",
          "text": [
            "[494.88049616599994, 18.576384666670002, 0.0, 0.0, 33.3214046667, 329.7578566663, 780.4545511666701, 104.20388850009999, 989.113641833, 448.471384167, 130.12347833367, 0.0, 179.4719088333, 1013.3833969996999, 65.6221875, 983.375040335, 119.12030049999998, 235.49969150033, 155.1361575, 0.0, 447.93897783336996, 931.1036911666699, 657.2052335000001, 1591.3228143334, 943.188117167, 0.0, 430.801675833, 1579.12122666663, 766.256315667, 556.1906033333, 69.6578351667, 0.0, 123.2915048333, 253.9870258334, 180.413814, 765.6402170004, 809.2138958339, 1378.195091668, 0.0, 1001.5888595, 478.21952616690004, 511.925391, 576.4643026663, 88.822038, 0.0, 0.0, 26.1189351667, 854.8288881656, 1055.6871896667, 0.0, 491.9087078335, 0.0, 3.22752383333, 401.97479050029995, 427.764673834, 589.6171318323301, 106.72208133333001, 91.3514995, 1024.109326834, 47.1679638333, 0.0, 496.99219366667, 293.383122167, 465.58233333400005, 346.5030268336, 422.27366000010005, 6.95969283333, 856.8375048337, 0.0, 0.0, 310.04241416702996, 53.5545175, 704.5521115003299, 0.0, 90.48065633329999, 20.8106506667, 186.549237333, 231.80801666640002, 0.0, 416.49598383333, 106.2245978334, 227.6363853331, 537.5285965007, 293.4918854997, 752.4780518326, 500.4921706667001, 0.0, 1035.306503999, 0.0, 63.79716583327, 114.43403466663, 84.9883638333, 611.3200641666999, 751.2236896667, 0.0, 45.3963998333, 8.46994183333, 525.6444536663, 317.10422516660003, 145.70615016660003, 148.7306783333, 277.0299235, 1075.0625133337, 839.123771167, 312.1800340007, 29.0687406666, 171.2928940001, 164.27089083347, 1167.52455983297, 1214.55291799937, 169.159592167, 388.23059683327006, 83.7769855, 186.94018933324, 167.606683, 886.0703749999001, 129.2449371666, 891.8733579995999, 672.9427816664, 266.1378745, 285.36239183329997, 530.1415103337, 0.0, 51.0695815, 1410.5316330013002, 33.4956098333, 334.5606256663, 743.1407118340001, 101.387314333, 0.0, 0.0, 1196.803629999, 80.2133103333, 1017.1034851664001, 613.2567715002999, 34.1685658333, 696.2475044997, 90.3995656667, 86.4587005, 2050.1156751667004, 544.992658666, 201.21822283370003, 405.0228675003, 384.69492683359994, 893.4411686660001, 11.554518, 0.0, 0.0, 56.835209, 414.14088366667, 908.4660900005999, 745.1146233329999, 116.8988095, 736.9791355, 0.0, 635.5124964993, 8.3032715, 0.0, 0.0, 630.1675615003, 531.8882431671, 532.6464248333, 3564.7332644989997, 765.55279683203, 962.5736773336, 0.0, 0.0, 120.87673000033001, 92.5594045, 586.7042849994001, 1887.391213833, 589.8798286670001, 12.9807116667, 414.12743866659997, 2375.7954986677, 1051.5771371676, 570.776941833, 783.3383063341, 913.6758890002999, 95.4642313333, 651.9806806667, 310.2486779997, 418.01940599970004, 247.9964674996, 0.0, 601.3632028330001, 629.3766914993301, 6.20617616667, 1251.6466043334, 7.94751166667, 137.2655706667, 402.42499849989997, 121.07599299993, 315.44705699977, 1166.4244791677, 383.1542506668, 931.3076661670001, 809.546996001, 1452.709982333, 448.5325424996, 0.0, 219.2389440004, 605.7708455, 686.7681608344001, 315.34049566659996, 633.1473566663, 114.39214366666, 356.77551816640005, 4.55604183333, 421.2835453327, 593.1472776666001, 168.3080953333, 836.3458141666999, 30.3670653333, 662.64059800003, 58.36346116669999, 0.0, 2393.5421573319004, 272.6840003337, 467.6978279993, 178.70479883369998, 241.8322233337, 151.60938049966, 30.647238166630004, 247.9695998334, 439.05929566669994, 485.78090949999995, 360.4108591662, 131.7264965, 197.41214399993, 9.75699783333, 1168.2526861667002, 197.0435864997, 931.3838908327, 0.0, 467.5716475007, 704.5008775003, 330.1826238337, 40.220247, 0.0, 288.9210591667, 554.59261383367, 46.605140666699995, 123.5804105, 669.9961104997, 277.3369746671, 183.134135333, 877.8003651663, 284.6907063333, 175.613687167, 343.35795733340007, 0.0, 600.5757328336, 221.72389316627002, 0.0, 39.485681500000005, 595.2719906673, 736.3565788330001, 638.934161833, 0.0, 42.4569508333, 417.4064971669, 110.09569266679999, 371.26458716729996, 1420.1479191659998, 211.5840809997, 314.3331800003, 322.475557667, 1020.3306876671, 830.83625116633, 1203.2224428333002, 70.48434450007001, 1435.0160603327001, 44.477798999970005, 429.03252133340004, 884.915487, 0.0, 143.048056833, 255.53718516670003, 0.0, 570.5658495, 269.194508, 302.608719833, 109.141489, 195.9300631667, 283.36202233326, 4.58531166667, 955.78319766497, 442.37721166627, 0.0, 192.665344, 497.8218254996, 405.600248833, 421.6092228329, 199.06043566667, 338.67828999970004, 213.4699951663, 0.0, 88.12990766662999, 669.9500983341, 165.37368716699999, 2700.4878774989998, 194.7560403337, 538.88974533303, 0.0, 4.19664316667, 554.8758693333999, 150.7999871667, 843.170594833, 59.239222, 888.6124170002998, 1341.720517667, 657.0126268326, 1735.943607166, 2778.3161446706704, 196.3044158337, 343.6706583329, 859.426280833, 0.0, 0.0, 397.24734133329997, 1669.9007213329999, 370.8747679997, 1426.2515225012999, 355.96292199997, 667.7495933323299, 638.196504333, 187.9226685, 501.941580166, 124.52342500033, 129.087694, 0.0, 855.4038108340001, 278.6769970004, 0.0, 13.2610473333, 0.0, 392.473794834, 35.531418, 0.0, 83.295313, 614.9778563333, 246.61175300029998, 248.12435916639998, 713.3479524992999, 0.0, 211.3875440003, 107.74437683336001, 320.97561616674, 729.8468485, 122.07255516670001, 609.2861186673, 944.5557876659999, 64.7772518334, 105.06483083340001, 71.4977216667, 2530.5614099997, 677.2790736659999, 1053.7764165013, 58.3151085, 0.0, 0.0, 37.6347753333, 23.55166316667, 220.21062866679998, 817.9997333323399, 42.3843405, 0.0, 4.24015233333, 197.066153, 532.5829673333, 30.5476253333, 506.55911883299996, 65.9101326667, 803.3391453328, 0.0, 391.3939735, 51.9296121667, 0.0, 73.6446115, 212.1774728337, 925.7537420007, 446.4724451667, 0.0, 0.0, 1208.05215466633, 131.7464566667, 137.9929768333, 0.0, 427.5369333332, 3.3318835, 808.5665558337, 2.17768916667, 0.0, 34.50448516667, 12.05914466667, 177.5920131668, 239.61664966700002, 0.0, 0.0, 604.355107166, 611.4195701674, 741.2804391669999, 57.2638435, 500.9127926667, 59.7725306667, 364.480768, 951.118714666, 0.0, 55.49376599997, 578.9502861663, 68.0673978333, 0.0, 722.84210483367, 22.14904683337, 86.7824926667, 6.72066133333, 96.80278150000001, 357.275143834, 311.1889536663, 127.15142850000001, 0.0, 975.587918167, 0.0, 413.5420181666, 726.26075933267, 0.0, 1024.0636758326, 77.9742268333, 437.22883383330003, 81.51043433337, 696.5725646662999, 433.22729549969995, 858.37418699973, 39.4918656667, 363.94914149996, 847.38115366667, 45.9874008334, 1065.2951291673999, 184.162204667, 1001.813550333, 0.0, 46.3023048333, 90.90472849993, 119.916663667, 20.247478, 1096.72738949933, 79.9306696666, 36.434234, 514.86060716603, 141.19407999967, 438.50690233336, 27.37808133337, 547.552952834, 0.0, 943.8555468324001, 116.03298466660002, 89.6344988334, 749.194206334, 633.4301786670001, 503.05470083299997, 53.1803671667, 131.94636750003, 207.27739616670002, 224.91582050030001, 884.7240451653, 68.2496686666, 174.4431463334, 0.0, 285.75573750030003, 164.161086, 46.6148, 779.5860966676, 4.45095966667, 316.43186650009994, 0.0, 599.325108667, 29.5289625001, 716.3825241659999, 18.786721, 411.84511316623, 188.8958254999, 551.1900968329701, 101.401498833, 829.9734088337, 32.447970500029996, 640.0351108333, 0.0, 586.7405209996, 591.1435670003, 414.253240333, 1217.1688571673, 448.741092333, 385.2513571667001, 367.3854126667, 229.2620115, 32.8227305, 504.04492916670006, 2.8138905, 388.7726185, 459.3740381662999, 75.8750386667, 92.3539813334, 736.5973803337, 307.0653258337, 143.78600349967, 493.53649199967003, 4.26499566667, 626.2345113327, 62.84829066659999, 265.47810483300003, 454.17951166700004, 1381.1028195004, 980.5763799994, 231.0283105, 109.5149769999, 406.0453698336, 303.55134400000003, 61.33310733329999, 0.0, 0.0, 670.3438828333, 256.4187193326, 514.0743979996, 0.0, 1896.7540938320003, 594.0435458336, 422.6295078334, 455.19857933369997, 609.6590520007001, 629.7823334996999, 0.0, 30.6256575, 7.1116735, 172.5712248333, 440.96130916723, 20.879544833329998, 1036.951593167, 183.7893518334, 1421.7436063333, 307.7543378337, 41.7786686667, 0.0, 769.207330667, 32.0522478333, 18.9512853333, 0.0, 932.3012898327, 507.1024986672999, 272.16654083369997, 294.34356566670004, 187.25140866697, 1245.8182150003, 0.0, 105.24544450007, 61.7853381666, 52.4319528333, 326.448714, 21.972605, 18.4937245, 518.1875990003, 133.319127167, 321.3727448333, 28.9028346666, 1477.0239483322998, 173.9382718334, 0.0, 907.111293668, 924.2469394994, 0.0, 400.8135763341, 911.11994133237, 120.55847799993, 28.5667518333, 298.253430333, 712.1588875006701, 122.48917700033, 2.4822425, 762.169280667, 0.0, 535.00554450033, 77.7392298333, 9.64132116667, 84.6351145, 4.56274816667, 0.0, 0.0, 488.40353200030006, 0.0, 0.0, 335.5259626667, 311.07236283327, 1047.649452501, 399.2498304993, 146.89298433300002, 24.87366349997, 0.0, 615.9597956661, 207.9139188337, 1890.9937024994, 218.3752333334, 456.3332818333, 547.7397464997, 248.29428850003, 73.7238143333, 653.1940411656001, 382.93037050067, 52.9136506667, 545.9623025, 101.1193401667, 108.47527400000001, 321.2057135, 432.987765666, 513.8126981664001, 1482.9020456663002, 557.5625511664, 204.02415449966998, 396.82058733329995, 230.70437450010002, 1026.8480728333, 0.0, 95.1225038333, 1047.4820013337, 203.3427993337, 374.365616, 394.5387589999, 237.7646521667, 84.558989, 1689.189059835, 223.73943383300002, 80.5941101667, 169.3917738333, 89.0572956666, 416.14186616669997, 0.0, 340.70627749999994, 421.960349833, 793.6706421670001, 488.3752611667, 847.3979861667, 264.5287276666, 73.5741316667, 129.1323983333, 700.4743598327, 114.84451633329999, 1346.7158483327, 479.86306116670005, 736.4371648339999, 177.8367486667, 0.0, 0.0, 193.848226, 92.5547231666, 0.0, 138.052647, 144.1243173333, 0.0, 454.273163499, 115.15559099992998, 32.816891, 348.39415716703, 171.593366833, 16.5745846667, 100.0702155, 25.243540000000003, 9.61211033333, 18.889756499999997, 0.0, 0.0, 16.604203, 0.0, 198.6962631669, 666.3290910003, 88.1119545, 56.45108966666999, 0.0, 0.0, 0.0, 1329.9598305, 88.0103965, 3.56199133333, 253.23675750029997, 139.060529, 307.3006509996, 0.0, 9.4907925, 401.81893949967, 29.9067615, 21.1284496667, 0.0, 41.7199715, 219.926066667, 0.0, 313.50181033333, 489.7736965, 0.0, 374.5761038331, 706.5435295006, 0.0, 324.6302378336, 52.1289673334, 30.5951761667, 116.628876833, 413.3262124997, 34.0330873333, 0.0, 354.6223496663, 0.0, 100.06368333333, 85.29257, 59.340783666700005, 135.6825435, 275.16640700005996, 0.0, 0.0, 199.31994916669998, 48.1974151667, 4.2604045, 0.0, 0.0, 277.8489021664, 176.3818004999, 4.78649716667, 23.695871500029998, 0.0, 417.953548167, 1369.641421833, 0.0, 146.9410850001, 0.0, 0.0, 397.8826263333, 122.87407133333, 0.0, 22.7346656667, 84.1050015, 49.937148999970006, 106.2993215, 1138.3177014993998, 1764.5367983344001, 0.0, 2.30081433333, 0.0, 260.47024649996, 27.3957285, 345.17664533360005, 129.762569, 51.016355999999995, 0.0, 2.38093233333, 21.5715365, 0.0, 29.38455616663, 13.587055, 0.0, 924.060058833, 817.60166266567, 32.6861011667, 58.5606146667, 214.54059633330002, 5.92106983333, 64.29995600000001, 92.6896001666, 0.0, 0.0, 260.94864483347, 2.54122166667, 53.1295885, 0.0, 0.0, 13.442560666670001, 129.3303274997, 30.2541315, 49.7470893333, 26.5230981667, 15.5930261667, 0.0, 235.39055499926997, 1403.366643835, 62.78241916663, 3.3880415, 0.0, 0.0, 22.0889656667, 0.0, 26.5587726667, 108.9832133333, 5.75313916667, 63.3749175, 0.0, 72.9583085, 65.7383995, 21.086721, 663.5424139989, 156.1449683333, 0.0, 209.96127933370002, 125.44656916667, 80.6559995, 0.0, 0.0, 5.03956, 160.1049253333, 69.45209899999999, 0.0, 0.0, 2.99934966667, 131.70276883329998, 94.3237553333, 107.3523146666, 120.657056167, 91.64868466669999, 240.5959745003, 6.80688283333, 0.0, 666.393701501, 8.08317416667, 449.6269801663, 24.9669023333, 96.1137128333, 42.35008283337, 3.7103945, 65.0527071667, 3.35443916667, 517.8334496674, 0.0, 68.4192841666, 46.494977, 182.85550433323, 61.420162, 0.0, 106.08401216677001, 39.0104288333, 180.025886167, 16.2005246667, 8.1809285, 0.0, 0.0, 118.71332966671, 4.3800225, 619.9953998326, 38.87817050003, 75.87298200000001, 0.0, 18.8601366667, 3.50885666667, 218.55650866673005, 11.741084, 13.899305166700001, 959.9534376661, 0.0, 0.0, 12.9824898333, 45.5670335, 0.0, 37.853095, 84.5200338333, 117.195806333, 81.4415533333, 0.0, 71.5736406667, 366.5285674997, 0.0, 1768.5227493319999, 366.3194163334, 0.0, 29.7377383333, 1309.1846301673, 0.0, 0.0, 35.81870033337, 0.0, 90.6038805, 152.213267167, 5.51051366667, 0.0, 51.1061375, 179.4080511666, 0.0, 53.190095, 0.0, 464.4721495011001, 30.0975526667, 269.29544283309997, 739.8981633335999, 108.8893720001, 0.0, 0.0, 73.6289658334, 52.90383883333, 0.0, 37.2096841667, 0.0, 0.0, 89.38367816659999, 20.21580533333, 12.6563396667, 0.0, 53.4711175, 137.6759001667, 693.148515833, 0.0, 321.75119083367, 129.85920366667, 0.0, 299.9208106657, 0.0, 105.57724800007, 28.805244, 876.6454899994, 150.810125167, 113.43918199967, 565.6616593333, 0.0, 0.0, 2.70408483333, 87.8123571667, 56.4237046666, 870.43417899963, 0.0, 55.7923973333, 76.1418825, 2.7094835, 754.5790381659999, 43.0449731666, 0.0, 42.3039228333, 63.1747861666, 258.849289167, 51.7192425, 200.75333083330003, 292.8858635, 168.1376205, 6.5907805, 4.71476416667, 696.57720983267, 395.022838667, 48.67926333336, 291.7782771666, 0.0, 76.7225691667, 26.4703245, 114.066953, 247.9447956666, 430.7856678337, 0.0, 0.0, 12.822523, 1360.7287001670002, 266.32487266671006, 100.837620167, 118.30495933329999, 61.0835323333, 0.0, 0.0, 0.0, 621.5755701662999, 172.77872349963, 0.0, 0.0, 62.9114363333, 53.5962256666, 79.19556549999999, 3.50918183333, 9.62371516667, 10.0058803333, 11.2880193333, 0.0, 187.32349033330001, 30.8061303333, 0.0, 0.0, 0.0, 383.99752900006996, 2.01734133333, 0.0, 0.0, 0.0, 11.3308886667, 4.79064933333, 438.5049581666, 62.8929255, 0.0, 0.0, 134.5242838333, 32.4256981667, 0.0, 5.45628333333, 78.787234, 233.20550333356, 143.91027249997, 0.0, 0.0, 0.0, 9.771473833329999]\n"
          ],
          "name": "stdout"
        }
      ]
    },
    {
      "cell_type": "code",
      "metadata": {
        "id": "Xhu7wKtkQg0e",
        "colab_type": "code",
        "colab": {}
      },
      "source": [
        "import numpy as np"
      ],
      "execution_count": 64,
      "outputs": []
    },
    {
      "cell_type": "code",
      "metadata": {
        "id": "688naf5hQorA",
        "colab_type": "code",
        "colab": {
          "base_uri": "https://localhost:8080/",
          "height": 34
        },
        "outputId": "ed1b5446-345c-424a-af5c-15be65ccf9e6"
      },
      "source": [
        "np.mean(total_minutes)  # np.mean takes in list"
      ],
      "execution_count": 65,
      "outputs": [
        {
          "output_type": "execute_result",
          "data": {
            "text/plain": [
              "306.70832675342825"
            ]
          },
          "metadata": {
            "tags": []
          },
          "execution_count": 65
        }
      ]
    },
    {
      "cell_type": "code",
      "metadata": {
        "id": "_dfNolq6RGJM",
        "colab_type": "code",
        "colab": {}
      },
      "source": [
        "def describe_data(data):\n",
        "  print (\"Mean: \", np.mean(data))\n",
        "  print (\"Standard Deviation: \", np.std(data))\n",
        "  print (\"Minimum: \", np.min(data))\n",
        "  print (\"Maximum: \", np.max(data))"
      ],
      "execution_count": 66,
      "outputs": []
    },
    {
      "cell_type": "code",
      "metadata": {
        "id": "wloqMZAOfjHq",
        "colab_type": "code",
        "colab": {
          "base_uri": "https://localhost:8080/",
          "height": 85
        },
        "outputId": "86e4bb55-b142-49cc-bff6-6948f0f24713"
      },
      "source": [
        "describe_data(total_minutes)"
      ],
      "execution_count": 67,
      "outputs": [
        {
          "output_type": "stream",
          "text": [
            "Mean:  306.70832675342825\n",
            "Standard Deviation:  412.99693340852957\n",
            "Minimum:  0.0\n",
            "Maximum:  3564.7332644989997\n"
          ],
          "name": "stdout"
        }
      ]
    },
    {
      "cell_type": "code",
      "metadata": {
        "id": "HgSABBReSV2Q",
        "colab_type": "code",
        "colab": {}
      },
      "source": [
        "student_with_max_minutes = None\n",
        "max_minutes = 0\n",
        "\n",
        "for student,total_minutes in total_minutes_by_account.items():\n",
        "  if total_minutes > max_minutes:\n",
        "    max_minutes = total_minutes\n",
        "    student_with_max_minutes = student\n"
      ],
      "execution_count": 68,
      "outputs": []
    },
    {
      "cell_type": "code",
      "metadata": {
        "id": "kDNnjSghUtgz",
        "colab_type": "code",
        "colab": {
          "base_uri": "https://localhost:8080/",
          "height": 156
        },
        "outputId": "e122d7a5-2d97-4292-ab78-d1c26ba0e3a0"
      },
      "source": [
        "for engagement_record in paid_engagement_in_first_week:\n",
        "  if engagement_record['account_key'] == student_with_max_minutes:\n",
        "    print (engagement_record)"
      ],
      "execution_count": 69,
      "outputs": [
        {
          "output_type": "stream",
          "text": [
            "OrderedDict([('utc_date', datetime.datetime(2015, 7, 9, 0, 0)), ('num_courses_visited', 4), ('total_minutes_visited', 850.519339666), ('lessons_completed', 4), ('projects_completed', 0), ('account_key', '163'), ('has_visited', 1)])\n",
            "OrderedDict([('utc_date', datetime.datetime(2015, 7, 10, 0, 0)), ('num_courses_visited', 6), ('total_minutes_visited', 872.633923334), ('lessons_completed', 6), ('projects_completed', 0), ('account_key', '163'), ('has_visited', 1)])\n",
            "OrderedDict([('utc_date', datetime.datetime(2015, 7, 11, 0, 0)), ('num_courses_visited', 2), ('total_minutes_visited', 777.018903666), ('lessons_completed', 6), ('projects_completed', 0), ('account_key', '163'), ('has_visited', 1)])\n",
            "OrderedDict([('utc_date', datetime.datetime(2015, 7, 12, 0, 0)), ('num_courses_visited', 1), ('total_minutes_visited', 294.568774), ('lessons_completed', 2), ('projects_completed', 0), ('account_key', '163'), ('has_visited', 1)])\n",
            "OrderedDict([('utc_date', datetime.datetime(2015, 7, 13, 0, 0)), ('num_courses_visited', 3), ('total_minutes_visited', 471.2139785), ('lessons_completed', 1), ('projects_completed', 0), ('account_key', '163'), ('has_visited', 1)])\n",
            "OrderedDict([('utc_date', datetime.datetime(2015, 7, 14, 0, 0)), ('num_courses_visited', 2), ('total_minutes_visited', 298.778345333), ('lessons_completed', 1), ('projects_completed', 0), ('account_key', '163'), ('has_visited', 1)])\n",
            "OrderedDict([('utc_date', datetime.datetime(2015, 7, 15, 0, 0)), ('num_courses_visited', 0), ('total_minutes_visited', 0.0), ('lessons_completed', 0), ('projects_completed', 0), ('account_key', '163'), ('has_visited', 0)])\n"
          ],
          "name": "stdout"
        }
      ]
    },
    {
      "cell_type": "code",
      "metadata": {
        "id": "res-SYBJZHzX",
        "colab_type": "code",
        "colab": {
          "base_uri": "https://localhost:8080/",
          "height": 85
        },
        "outputId": "a54a0761-ddc0-49b1-ccfb-8337ca494f69"
      },
      "source": [
        "total_lessons_by_account = sum_grouped_data(engagement_by_account,'lessons_completed')\n",
        "total_lessons = list(total_lessons_by_account.values())\n",
        "describe_data(total_lessons)"
      ],
      "execution_count": 73,
      "outputs": [
        {
          "output_type": "stream",
          "text": [
            "Mean:  1.636180904522613\n",
            "Standard Deviation:  3.002561299829423\n",
            "Minimum:  0\n",
            "Maximum:  36\n"
          ],
          "name": "stdout"
        }
      ]
    },
    {
      "cell_type": "code",
      "metadata": {
        "id": "5vG9tTe9X0zR",
        "colab_type": "code",
        "colab": {
          "base_uri": "https://localhost:8080/",
          "height": 85
        },
        "outputId": "d6565c62-05be-4fb2-b948-1d8eeb26c4ec"
      },
      "source": [
        "days_visited_by_account = sum_grouped_data(engagement_by_account,'has_visited')\n",
        "days_visited = list(days_visited_by_account.values())\n",
        "describe_data(days_visited)"
      ],
      "execution_count": 74,
      "outputs": [
        {
          "output_type": "stream",
          "text": [
            "Mean:  2.8673366834170855\n",
            "Standard Deviation:  2.2551980029196814\n",
            "Minimum:  0\n",
            "Maximum:  7\n"
          ],
          "name": "stdout"
        }
      ]
    },
    {
      "cell_type": "code",
      "metadata": {
        "id": "RHpHkN5lgvQ8",
        "colab_type": "code",
        "colab": {
          "base_uri": "https://localhost:8080/",
          "height": 71
        },
        "outputId": "b4ea95e6-3bc4-4e24-9a33-50fc4824b327"
      },
      "source": [
        "print (paid_engagement[0])\n",
        "print (paid_submissions[0])"
      ],
      "execution_count": 75,
      "outputs": [
        {
          "output_type": "stream",
          "text": [
            "OrderedDict([('utc_date', datetime.datetime(2015, 1, 9, 0, 0)), ('num_courses_visited', 1), ('total_minutes_visited', 11.6793745), ('lessons_completed', 0), ('projects_completed', 0), ('account_key', '0'), ('has_visited', 1)])\n",
            "OrderedDict([('creation_date', datetime.datetime(2015, 1, 14, 0, 0)), ('completion_date', datetime.datetime(2015, 1, 16, 0, 0)), ('assigned_rating', 'UNGRADED'), ('account_key', '256'), ('lesson_key', '3176718735'), ('processing_state', 'EVALUATED')])\n"
          ],
          "name": "stdout"
        }
      ]
    },
    {
      "cell_type": "code",
      "metadata": {
        "id": "7c7vwQfIur-3",
        "colab_type": "code",
        "colab": {
          "base_uri": "https://localhost:8080/",
          "height": 136
        },
        "outputId": "194b7850-547c-4968-ee85-352c755e98c9"
      },
      "source": [
        "paid_engagement_in_first_week[0]"
      ],
      "execution_count": 76,
      "outputs": [
        {
          "output_type": "execute_result",
          "data": {
            "text/plain": [
              "OrderedDict([('utc_date', datetime.datetime(2015, 1, 9, 0, 0)),\n",
              "             ('num_courses_visited', 1),\n",
              "             ('total_minutes_visited', 11.6793745),\n",
              "             ('lessons_completed', 0),\n",
              "             ('projects_completed', 0),\n",
              "             ('account_key', '0'),\n",
              "             ('has_visited', 1)])"
            ]
          },
          "metadata": {
            "tags": []
          },
          "execution_count": 76
        }
      ]
    },
    {
      "cell_type": "code",
      "metadata": {
        "id": "dkQ6elaDu-Ax",
        "colab_type": "code",
        "colab": {
          "base_uri": "https://localhost:8080/",
          "height": 119
        },
        "outputId": "88be5596-e06d-47e7-ee74-64d390d656b8"
      },
      "source": [
        "paid_submissions[0]"
      ],
      "execution_count": 77,
      "outputs": [
        {
          "output_type": "execute_result",
          "data": {
            "text/plain": [
              "OrderedDict([('creation_date', datetime.datetime(2015, 1, 14, 0, 0)),\n",
              "             ('completion_date', datetime.datetime(2015, 1, 16, 0, 0)),\n",
              "             ('assigned_rating', 'UNGRADED'),\n",
              "             ('account_key', '256'),\n",
              "             ('lesson_key', '3176718735'),\n",
              "             ('processing_state', 'EVALUATED')])"
            ]
          },
          "metadata": {
            "tags": []
          },
          "execution_count": 77
        }
      ]
    },
    {
      "cell_type": "code",
      "metadata": {
        "id": "2iSaxo7nvADv",
        "colab_type": "code",
        "colab": {}
      },
      "source": [
        "passing_engagement = []\n",
        "non_passing_engagement = []\n",
        "\n",
        "passed_subway_project = set()\n",
        "for subs in paid_submissions:\n",
        "  lesson_key = subs['lesson_key']\n",
        "  rating = subs['assigned_rating']\n",
        "  if lesson_key in ['746169184', '3176718735'] and rating in ['PASSED','DISTINCTION']:\n",
        "    passed_subway_project.add(subs['account_key'])\n",
        "\n",
        "for engagement_record in paid_engagement_in_first_week:\n",
        "  account_key = engagement_record['account_key']\n",
        "  if account_key in passed_subway_project:\n",
        "    passing_engagement.append(engagement_record)\n",
        "  else:\n",
        "    non_passing_engagement.append(engagement_record)"
      ],
      "execution_count": 78,
      "outputs": []
    },
    {
      "cell_type": "code",
      "metadata": {
        "id": "EvEE_qXfvvsU",
        "colab_type": "code",
        "colab": {
          "base_uri": "https://localhost:8080/",
          "height": 51
        },
        "outputId": "79ca4805-bf78-4b37-be26-d37147057cf2"
      },
      "source": [
        "print (len(passing_engagement))\n",
        "print (len(non_passing_engagement))"
      ],
      "execution_count": 79,
      "outputs": [
        {
          "output_type": "stream",
          "text": [
            "4527\n",
            "2392\n"
          ],
          "name": "stdout"
        }
      ]
    },
    {
      "cell_type": "code",
      "metadata": {
        "id": "OjIwxFCewAq4",
        "colab_type": "code",
        "colab": {}
      },
      "source": [
        "passing_engagement_by_account = group_data(passing_engagement,'account_key')\n",
        "non_passing_engagement_by_account = group_data(non_passing_engagement,'account_key')"
      ],
      "execution_count": 80,
      "outputs": []
    },
    {
      "cell_type": "code",
      "metadata": {
        "id": "zdbSAkitzZ4E",
        "colab_type": "code",
        "colab": {
          "base_uri": "https://localhost:8080/",
          "height": 204
        },
        "outputId": "77d327e9-aeb4-43e6-ee47-fd120c48acbe"
      },
      "source": [
        "print (\"non-passing students:\")\n",
        "non_passing_minutes = sum_grouped_data(non_passing_engagement_by_account,'total_minutes_visited')\n",
        "describe_data(list(non_passing_minutes.values()))\n",
        "\n",
        "print (\"\\npassing students:\")\n",
        "passing_minutes = sum_grouped_data(passing_engagement_by_account,'total_minutes_visited')\n",
        "describe_data(list(passing_minutes.values()))\n"
      ],
      "execution_count": 81,
      "outputs": [
        {
          "output_type": "stream",
          "text": [
            "non-passing students:\n",
            "Mean:  143.32647426675584\n",
            "Standard Deviation:  269.5386190114951\n",
            "Minimum:  0.0\n",
            "Maximum:  1768.5227493319999\n",
            "\n",
            "passing students:\n",
            "Mean:  394.58604648350865\n",
            "Standard Deviation:  448.4995193265521\n",
            "Minimum:  0.0\n",
            "Maximum:  3564.7332644989997\n"
          ],
          "name": "stdout"
        }
      ]
    },
    {
      "cell_type": "code",
      "metadata": {
        "id": "aUGg8Wlsznpe",
        "colab_type": "code",
        "colab": {
          "base_uri": "https://localhost:8080/",
          "height": 204
        },
        "outputId": "a4cff737-e53b-4986-ee90-772d1e3caf32"
      },
      "source": [
        "print (\"non-passing students:\")\n",
        "non_passing_lessons = sum_grouped_data(non_passing_engagement_by_account,'lessons_completed')\n",
        "describe_data(list(non_passing_lessons.values()))\n",
        "\n",
        "print (\"\\npassing students:\")\n",
        "passing_lessons = sum_grouped_data(passing_engagement_by_account,'lessons_completed')\n",
        "describe_data(list(passing_lessons.values()))\n"
      ],
      "execution_count": 82,
      "outputs": [
        {
          "output_type": "stream",
          "text": [
            "non-passing students:\n",
            "Mean:  0.8620689655172413\n",
            "Standard Deviation:  2.5491599418312028\n",
            "Minimum:  0\n",
            "Maximum:  27\n",
            "\n",
            "passing students:\n",
            "Mean:  2.052550231839258\n",
            "Standard Deviation:  3.1422270555779344\n",
            "Minimum:  0\n",
            "Maximum:  36\n"
          ],
          "name": "stdout"
        }
      ]
    },
    {
      "cell_type": "code",
      "metadata": {
        "id": "TzMM2tQu0uSm",
        "colab_type": "code",
        "colab": {
          "base_uri": "https://localhost:8080/",
          "height": 204
        },
        "outputId": "6ce16e3b-b283-49b7-b14e-7d4c321d9226"
      },
      "source": [
        "print (\"non-passing students:\")\n",
        "non_passing_visits = sum_grouped_data(non_passing_engagement_by_account,'has_visited')\n",
        "describe_data(list(non_passing_visits.values()))\n",
        "\n",
        "print (\"\\npassing students:\")\n",
        "passing_visits = sum_grouped_data(passing_engagement_by_account,'has_visited')\n",
        "describe_data(list(passing_visits.values()))"
      ],
      "execution_count": 83,
      "outputs": [
        {
          "output_type": "stream",
          "text": [
            "non-passing students:\n",
            "Mean:  1.9051724137931034\n",
            "Standard Deviation:  1.9057314413619046\n",
            "Minimum:  0\n",
            "Maximum:  7\n",
            "\n",
            "passing students:\n",
            "Mean:  3.384853168469861\n",
            "Standard Deviation:  2.2588214709184595\n",
            "Minimum:  0\n",
            "Maximum:  7\n"
          ],
          "name": "stdout"
        }
      ]
    },
    {
      "cell_type": "code",
      "metadata": {
        "id": "SETXCFA31CYm",
        "colab_type": "code",
        "colab": {}
      },
      "source": [
        "# Making histograms in Python\n",
        "# For that make use of matplotlib library "
      ],
      "execution_count": 85,
      "outputs": []
    },
    {
      "cell_type": "code",
      "metadata": {
        "id": "4gnq62l6ACx2",
        "colab_type": "code",
        "colab": {
          "base_uri": "https://localhost:8080/",
          "height": 316
        },
        "outputId": "23fc73d3-033a-45a1-9832-ebd233752d0c"
      },
      "source": [
        "data = [1,2,1,3,3,1,4,2]\n",
        "\n",
        "# following line only for ipynb, so that the plots will appear here itself rather opening in a new window\n",
        "%matplotlib inline \n",
        "\n",
        "import matplotlib.pyplot as plt\n",
        "plt.hist(data)"
      ],
      "execution_count": 87,
      "outputs": [
        {
          "output_type": "execute_result",
          "data": {
            "text/plain": [
              "(array([3., 0., 0., 2., 0., 0., 2., 0., 0., 1.]),\n",
              " array([1. , 1.3, 1.6, 1.9, 2.2, 2.5, 2.8, 3.1, 3.4, 3.7, 4. ]),\n",
              " <a list of 10 Patch objects>)"
            ]
          },
          "metadata": {
            "tags": []
          },
          "execution_count": 87
        },
        {
          "output_type": "display_data",
          "data": {
            "image/png": "[encoded data removed]",
            "text/plain": [
              "<Figure size 432x288 with 1 Axes>"
            ]
          },
          "metadata": {
            "tags": [],
            "needs_background": "light"
          }
        }
      ]
    },
    {
      "cell_type": "code",
      "metadata": {
        "id": "psw7nnXhAt8M",
        "colab_type": "code",
        "colab": {
          "base_uri": "https://localhost:8080/",
          "height": 350
        },
        "outputId": "887ba2b2-dd50-4824-dba2-fa1c1f44946b"
      },
      "source": [
        "plt.hist(list(non_passing_minutes.values()))"
      ],
      "execution_count": 89,
      "outputs": [
        {
          "output_type": "execute_result",
          "data": {
            "text/plain": [
              "(array([272.,  34.,  17.,   9.,   6.,   2.,   1.,   5.,   0.,   2.]),\n",
              " array([   0.        ,  176.85227493,  353.70454987,  530.5568248 ,\n",
              "         707.40909973,  884.26137467, 1061.1136496 , 1237.96592453,\n",
              "        1414.81819947, 1591.6704744 , 1768.52274933]),\n",
              " <a list of 10 Patch objects>)"
            ]
          },
          "metadata": {
            "tags": []
          },
          "execution_count": 89
        },
        {
          "output_type": "display_data",
          "data": {
            "image/png": "[encoded data removed]",
            "text/plain": [
              "<Figure size 432x288 with 1 Axes>"
            ]
          },
          "metadata": {
            "tags": [],
            "needs_background": "light"
          }
        }
      ]
    },
    {
      "cell_type": "code",
      "metadata": {
        "id": "t_8Kbb-DBJYF",
        "colab_type": "code",
        "colab": {
          "base_uri": "https://localhost:8080/",
          "height": 350
        },
        "outputId": "dd8111d4-e399-4004-f691-9feef440be3f"
      },
      "source": [
        "plt.hist(list(passing_minutes.values()))"
      ],
      "execution_count": 90,
      "outputs": [
        {
          "output_type": "execute_result",
          "data": {
            "text/plain": [
              "(array([370., 155.,  83.,  19.,  10.,   4.,   2.,   3.,   0.,   1.]),\n",
              " array([   0.        ,  356.47332645,  712.9466529 , 1069.41997935,\n",
              "        1425.8933058 , 1782.36663225, 2138.8399587 , 2495.31328515,\n",
              "        2851.7866116 , 3208.25993805, 3564.7332645 ]),\n",
              " <a list of 10 Patch objects>)"
            ]
          },
          "metadata": {
            "tags": []
          },
          "execution_count": 90
        },
        {
          "output_type": "display_data",
          "data": {
            "image/png": "[encoded data removed]",
            "text/plain": [
              "<Figure size 432x288 with 1 Axes>"
            ]
          },
          "metadata": {
            "tags": [],
            "needs_background": "light"
          }
        }
      ]
    },
    {
      "cell_type": "code",
      "metadata": {
        "id": "Dl9dsrhHBfFu",
        "colab_type": "code",
        "colab": {
          "base_uri": "https://localhost:8080/",
          "height": 316
        },
        "outputId": "8c700f51-947c-46cb-cfc5-622d70c5c6ae"
      },
      "source": [
        "plt.hist(list(non_passing_lessons.values()))"
      ],
      "execution_count": 91,
      "outputs": [
        {
          "output_type": "execute_result",
          "data": {
            "text/plain": [
              "(array([317.,  17.,   6.,   4.,   1.,   1.,   0.,   1.,   0.,   1.]),\n",
              " array([ 0. ,  2.7,  5.4,  8.1, 10.8, 13.5, 16.2, 18.9, 21.6, 24.3, 27. ]),\n",
              " <a list of 10 Patch objects>)"
            ]
          },
          "metadata": {
            "tags": []
          },
          "execution_count": 91
        },
        {
          "output_type": "display_data",
          "data": {
            "image/png": "[encoded data removed]",
            "text/plain": [
              "<Figure size 432x288 with 1 Axes>"
            ]
          },
          "metadata": {
            "tags": [],
            "needs_background": "light"
          }
        }
      ]
    },
    {
      "cell_type": "code",
      "metadata": {
        "id": "WKTythZSBieD",
        "colab_type": "code",
        "colab": {
          "base_uri": "https://localhost:8080/",
          "height": 316
        },
        "outputId": "3b842483-b103-46bb-eef0-189fba24044e"
      },
      "source": [
        "plt.hist(list(passing_lessons.values()))"
      ],
      "execution_count": 92,
      "outputs": [
        {
          "output_type": "execute_result",
          "data": {
            "text/plain": [
              "(array([516.,  97.,  23.,   4.,   3.,   3.,   0.,   0.,   0.,   1.]),\n",
              " array([ 0. ,  3.6,  7.2, 10.8, 14.4, 18. , 21.6, 25.2, 28.8, 32.4, 36. ]),\n",
              " <a list of 10 Patch objects>)"
            ]
          },
          "metadata": {
            "tags": []
          },
          "execution_count": 92
        },
        {
          "output_type": "display_data",
          "data": {
            "image/png": "[encoded data removed]",
            "text/plain": [
              "<Figure size 432x288 with 1 Axes>"
            ]
          },
          "metadata": {
            "tags": [],
            "needs_background": "light"
          }
        }
      ]
    },
    {
      "cell_type": "code",
      "metadata": {
        "id": "c_kyI2J6BlBR",
        "colab_type": "code",
        "colab": {
          "base_uri": "https://localhost:8080/",
          "height": 316
        },
        "outputId": "2bcba693-d241-48c8-a1d1-4be59c38f8b8"
      },
      "source": [
        "plt.hist(list(non_passing_visits.values()))"
      ],
      "execution_count": 93,
      "outputs": [
        {
          "output_type": "execute_result",
          "data": {
            "text/plain": [
              "(array([97., 90., 56.,  0., 41., 15.,  0., 24., 17.,  8.]),\n",
              " array([0. , 0.7, 1.4, 2.1, 2.8, 3.5, 4.2, 4.9, 5.6, 6.3, 7. ]),\n",
              " <a list of 10 Patch objects>)"
            ]
          },
          "metadata": {
            "tags": []
          },
          "execution_count": 93
        },
        {
          "output_type": "display_data",
          "data": {
            "image/png": "[encoded data removed]",
            "text/plain": [
              "<Figure size 432x288 with 1 Axes>"
            ]
          },
          "metadata": {
            "tags": [],
            "needs_background": "light"
          }
        }
      ]
    },
    {
      "cell_type": "code",
      "metadata": {
        "id": "aYqXfVVDBnBx",
        "colab_type": "code",
        "colab": {
          "base_uri": "https://localhost:8080/",
          "height": 316
        },
        "outputId": "49253e77-b640-4949-92ad-fecbc980be60"
      },
      "source": [
        "plt.hist(list(passing_visits.values()))"
      ],
      "execution_count": 94,
      "outputs": [
        {
          "output_type": "execute_result",
          "data": {
            "text/plain": [
              "(array([87., 82., 79.,  0., 91., 77.,  0., 85., 78., 68.]),\n",
              " array([0. , 0.7, 1.4, 2.1, 2.8, 3.5, 4.2, 4.9, 5.6, 6.3, 7. ]),\n",
              " <a list of 10 Patch objects>)"
            ]
          },
          "metadata": {
            "tags": []
          },
          "execution_count": 94
        },
        {
          "output_type": "display_data",
          "data": {
            "image/png": "[encoded data removed]",
            "text/plain": [
              "<Figure size 432x288 with 1 Axes>"
            ]
          },
          "metadata": {
            "tags": [],
            "needs_background": "light"
          }
        }
      ]
    },
    {
      "cell_type": "code",
      "metadata": {
        "id": "1KvejvfdBoEh",
        "colab_type": "code",
        "colab": {}
      },
      "source": [
        "# Tentative Conclusion:\n",
        "# Students who pass the subway project spend more minutes in the classroom during their first week"
      ],
      "execution_count": 95,
      "outputs": []
    },
    {
      "cell_type": "code",
      "metadata": {
        "id": "w-Ec9lq9D_7_",
        "colab_type": "code",
        "colab": {}
      },
      "source": [
        "# At this point, we can make machine learning predictions\n",
        "# Like, which students are most likely to pass their first project?\n",
        "# Machine learning can make predictions automatically depending on the algorithm we use."
      ],
      "execution_count": 96,
      "outputs": []
    },
    {
      "cell_type": "code",
      "metadata": {
        "id": "8SsJbIFYFZms",
        "colab_type": "code",
        "colab": {
          "base_uri": "https://localhost:8080/",
          "height": 224
        },
        "outputId": "c9c86528-a2a4-4aa2-acfd-c82cd08302cd"
      },
      "source": [
        "pip install seaborn"
      ],
      "execution_count": 97,
      "outputs": [
        {
          "output_type": "stream",
          "text": [
            "Requirement already satisfied: seaborn in /usr/local/lib/python3.6/dist-packages (0.10.1)\n",
            "Requirement already satisfied: matplotlib>=2.1.2 in /usr/local/lib/python3.6/dist-packages (from seaborn) (3.2.1)\n",
            "Requirement already satisfied: scipy>=1.0.1 in /usr/local/lib/python3.6/dist-packages (from seaborn) (1.4.1)\n",
            "Requirement already satisfied: pandas>=0.22.0 in /usr/local/lib/python3.6/dist-packages (from seaborn) (1.0.4)\n",
            "Requirement already satisfied: numpy>=1.13.3 in /usr/local/lib/python3.6/dist-packages (from seaborn) (1.18.5)\n",
            "Requirement already satisfied: cycler>=0.10 in /usr/local/lib/python3.6/dist-packages (from matplotlib>=2.1.2->seaborn) (0.10.0)\n",
            "Requirement already satisfied: pyparsing!=2.0.4,!=2.1.2,!=2.1.6,>=2.0.1 in /usr/local/lib/python3.6/dist-packages (from matplotlib>=2.1.2->seaborn) (2.4.7)\n",
            "Requirement already satisfied: python-dateutil>=2.1 in /usr/local/lib/python3.6/dist-packages (from matplotlib>=2.1.2->seaborn) (2.8.1)\n",
            "Requirement already satisfied: kiwisolver>=1.0.1 in /usr/local/lib/python3.6/dist-packages (from matplotlib>=2.1.2->seaborn) (1.2.0)\n",
            "Requirement already satisfied: pytz>=2017.2 in /usr/local/lib/python3.6/dist-packages (from pandas>=0.22.0->seaborn) (2018.9)\n",
            "Requirement already satisfied: six in /usr/local/lib/python3.6/dist-packages (from cycler>=0.10->matplotlib>=2.1.2->seaborn) (1.12.0)\n"
          ],
          "name": "stdout"
        }
      ]
    },
    {
      "cell_type": "code",
      "metadata": {
        "id": "0kJNrr68GtRs",
        "colab_type": "code",
        "colab": {
          "base_uri": "https://localhost:8080/",
          "height": 332
        },
        "outputId": "cc3425fc-0520-4ab4-ed4c-8c7e429ffd1e"
      },
      "source": [
        "plt.hist(list(passing_minutes.values()),bins = 8)\n",
        "plt.xlabel('Number of minutes')\n",
        "plt.title('Distribution of total minutes spent in classroom for the first week' + \n",
        "          ' for students who passed the subway project')"
      ],
      "execution_count": 101,
      "outputs": [
        {
          "output_type": "execute_result",
          "data": {
            "text/plain": [
              "Text(0.5, 1.0, 'Distribution of total minutes spent in classroom for the first week for students who passed the subway project')"
            ]
          },
          "metadata": {
            "tags": []
          },
          "execution_count": 101
        },
        {
          "output_type": "display_data",
          "data": {
            "image/png": "[encoded data removed]",
            "text/plain": [
              "<Figure size 432x288 with 1 Axes>"
            ]
          },
          "metadata": {
            "tags": [],
            "needs_background": "light"
          }
        }
      ]
    },
    {
      "cell_type": "code",
      "metadata": {
        "id": "yFZmBeN5Hqhs",
        "colab_type": "code",
        "colab": {
          "base_uri": "https://localhost:8080/",
          "height": 332
        },
        "outputId": "ca342112-253a-4921-ca03-81ddf4b44415"
      },
      "source": [
        "plt.hist(list(non_passing_minutes.values()),bins = 8)\n",
        "plt.xlabel('Number of minutes')\n",
        "plt.title('Distribution of total minutes spent in classroom for the first week' + \n",
        "          ' for students who do not passed the subway project')\n"
      ],
      "execution_count": 102,
      "outputs": [
        {
          "output_type": "execute_result",
          "data": {
            "text/plain": [
              "Text(0.5, 1.0, 'Distribution of total minutes spent in classroom for the first week for students who do not passed the subway project')"
            ]
          },
          "metadata": {
            "tags": []
          },
          "execution_count": 102
        },
        {
          "output_type": "display_data",
          "data": {
            "image/png": "[encoded data removed]",
            "text/plain": [
              "<Figure size 432x288 with 1 Axes>"
            ]
          },
          "metadata": {
            "tags": [],
            "needs_background": "light"
          }
        }
      ]
    },
    {
      "cell_type": "code",
      "metadata": {
        "id": "ZjZTSulGIAo0",
        "colab_type": "code",
        "colab": {}
      },
      "source": [
        ""
      ],
      "execution_count": null,
      "outputs": []
    }
  ]
}