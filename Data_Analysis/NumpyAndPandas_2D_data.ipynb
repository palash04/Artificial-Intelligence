{
  "nbformat": 4,
  "nbformat_minor": 0,
  "metadata": {
    "colab": {
      "name": "NumpyAndPandas_2D_data.ipynb",
      "provenance": [],
      "mount_file_id": "1pEWl1Zj_kBOSPCLaO9I92bx4odDxy_Uj",
      "authorship_tag": "ABX9TyNaOgF2mDXXOu27DVAgacSs",
      "include_colab_link": true
    },
    "kernelspec": {
      "name": "python3",
      "display_name": "Python 3"
    }
  },
  "cells": [
    {
      "cell_type": "markdown",
      "metadata": {
        "id": "view-in-github",
        "colab_type": "text"
      },
      "source": [
        "<a href=\"https://colab.research.google.com/github/palash04/Artificial-Intelligence/blob/master/Data_Analysis/NumpyAndPandas_2D_data.ipynb\" target=\"_parent\"><img src=\"https://colab.research.google.com/assets/colab-badge.svg\" alt=\"Open In Colab\"/></a>"
      ]
    },
    {
      "cell_type": "code",
      "metadata": {
        "id": "KeP3wyHFmlyF",
        "colab_type": "code",
        "colab": {}
      },
      "source": [
        "# Two Dimensional Data\n",
        "\n",
        "# Python : List of lists\n",
        "# Numpy : 2Darray\n",
        "# Pandas : DataFrame"
      ],
      "execution_count": 1,
      "outputs": []
    },
    {
      "cell_type": "code",
      "metadata": {
        "id": "CiPVMKF_okL5",
        "colab_type": "code",
        "colab": {}
      },
      "source": [
        "import numpy as np\n",
        "import pandas as pd"
      ],
      "execution_count": 2,
      "outputs": []
    },
    {
      "cell_type": "code",
      "metadata": {
        "id": "ztnfUg_qoqZV",
        "colab_type": "code",
        "colab": {
          "base_uri": "https://localhost:8080/",
          "height": 215
        },
        "outputId": "172acc30-fd87-4693-bc73-ec76a25240d8"
      },
      "source": [
        "# Accessing elements\n",
        "print (ridership[1,3])\n",
        "print (ridership[1:3,3:5])\n",
        "print (ridership[1 , : ])"
      ],
      "execution_count": 3,
      "outputs": [
        {
          "output_type": "error",
          "ename": "NameError",
          "evalue": "ignored",
          "traceback": [
            "\u001b[0;31m---------------------------------------------------------------------------\u001b[0m",
            "\u001b[0;31mNameError\u001b[0m                                 Traceback (most recent call last)",
            "\u001b[0;32m<ipython-input-3-3ba92820cfcd>\u001b[0m in \u001b[0;36m<module>\u001b[0;34m()\u001b[0m\n\u001b[1;32m      1\u001b[0m \u001b[0;31m# Accessing elements\u001b[0m\u001b[0;34m\u001b[0m\u001b[0;34m\u001b[0m\u001b[0;34m\u001b[0m\u001b[0m\n\u001b[0;32m----> 2\u001b[0;31m \u001b[0mprint\u001b[0m \u001b[0;34m(\u001b[0m\u001b[0mridership\u001b[0m\u001b[0;34m[\u001b[0m\u001b[0;36m1\u001b[0m\u001b[0;34m,\u001b[0m\u001b[0;36m3\u001b[0m\u001b[0;34m]\u001b[0m\u001b[0;34m)\u001b[0m\u001b[0;34m\u001b[0m\u001b[0;34m\u001b[0m\u001b[0m\n\u001b[0m\u001b[1;32m      3\u001b[0m \u001b[0mprint\u001b[0m \u001b[0;34m(\u001b[0m\u001b[0mridership\u001b[0m\u001b[0;34m[\u001b[0m\u001b[0;36m1\u001b[0m\u001b[0;34m:\u001b[0m\u001b[0;36m3\u001b[0m\u001b[0;34m,\u001b[0m\u001b[0;36m3\u001b[0m\u001b[0;34m:\u001b[0m\u001b[0;36m5\u001b[0m\u001b[0;34m]\u001b[0m\u001b[0;34m)\u001b[0m\u001b[0;34m\u001b[0m\u001b[0;34m\u001b[0m\u001b[0m\n\u001b[1;32m      4\u001b[0m \u001b[0mprint\u001b[0m \u001b[0;34m(\u001b[0m\u001b[0mridership\u001b[0m\u001b[0;34m[\u001b[0m\u001b[0;36m1\u001b[0m \u001b[0;34m,\u001b[0m \u001b[0;34m:\u001b[0m \u001b[0;34m]\u001b[0m\u001b[0;34m)\u001b[0m\u001b[0;34m\u001b[0m\u001b[0;34m\u001b[0m\u001b[0m\n",
            "\u001b[0;31mNameError\u001b[0m: name 'ridership' is not defined"
          ]
        }
      ]
    },
    {
      "cell_type": "code",
      "metadata": {
        "id": "Q-pREVP0qLHm",
        "colab_type": "code",
        "colab": {
          "base_uri": "https://localhost:8080/",
          "height": 68
        },
        "outputId": "abcf0a46-023a-4982-8fc3-11edae05b0e7"
      },
      "source": [
        "# Vectorized operations on entire array\n",
        "a = np.array([[1,2,3],[4,5,6],[7,8,9]])\n",
        "b = np.array([[1,1,1],[2,2,2],[3,3,3]])\n",
        "\n",
        "print (a+b)"
      ],
      "execution_count": 4,
      "outputs": [
        {
          "output_type": "stream",
          "text": [
            "[[ 2  3  4]\n",
            " [ 6  7  8]\n",
            " [10 11 12]]\n"
          ],
          "name": "stdout"
        }
      ]
    },
    {
      "cell_type": "code",
      "metadata": {
        "id": "CwiVHt18qnnK",
        "colab_type": "code",
        "colab": {}
      },
      "source": [
        "# Subway ridership for 5 stations on 10 different days\n",
        "ridership = np.array([\n",
        "    [   0,    0,    2,    5,    0],\n",
        "    [1478, 3877, 3674, 2328, 2539],\n",
        "    [1613, 4088, 3991, 6461, 2691],\n",
        "    [1560, 3392, 3826, 4787, 2613],\n",
        "    [1608, 4802, 3932, 4477, 2705],\n",
        "    [1576, 3933, 3909, 4979, 2685],\n",
        "    [  95,  229,  255,  496,  201],\n",
        "    [   2,    0,    1,   27,    0],\n",
        "    [1438, 3785, 3589, 4174, 2215],\n",
        "    [1342, 4043, 4009, 4665, 3033]\n",
        "])"
      ],
      "execution_count": 5,
      "outputs": []
    },
    {
      "cell_type": "code",
      "metadata": {
        "id": "o22-LIShsk0n",
        "colab_type": "code",
        "colab": {
          "base_uri": "https://localhost:8080/",
          "height": 68
        },
        "outputId": "fbba7435-0054-4aa2-840b-8a1a5666fa2a"
      },
      "source": [
        "# Find the station with the maximum riders on the first day\n",
        "max_station = ridership[0, :].argmax() # argmax() returns the index of maximum element\n",
        "\n",
        "# Find the mean riders per day for that station\n",
        "mean_for_max = ridership[:,max_station].mean()\n",
        "\n",
        "# Find the mean ridership overall for comparison\n",
        "overall_mean = ridership.mean()\n",
        "\n",
        "print (max_station)\n",
        "print (mean_for_max)\n",
        "print (overall_mean)\n"
      ],
      "execution_count": 6,
      "outputs": [
        {
          "output_type": "stream",
          "text": [
            "3\n",
            "3239.9\n",
            "2342.6\n"
          ],
          "name": "stdout"
        }
      ]
    },
    {
      "cell_type": "code",
      "metadata": {
        "id": "jLYyD7xztOc9",
        "colab_type": "code",
        "colab": {
          "base_uri": "https://localhost:8080/",
          "height": 34
        },
        "outputId": "038a4f05-e7b8-456b-c71c-b00c7d3bab5e"
      },
      "source": [
        "# Find the mean ridership per day for each subway station\n",
        "station_riders = ridership.mean(axis=0)\n",
        "station_riders"
      ],
      "execution_count": 7,
      "outputs": [
        {
          "output_type": "execute_result",
          "data": {
            "text/plain": [
              "array([1071.2, 2814.9, 2718.8, 3239.9, 1868.2])"
            ]
          },
          "metadata": {
            "tags": []
          },
          "execution_count": 7
        }
      ]
    },
    {
      "cell_type": "code",
      "metadata": {
        "id": "Dz0UeyPouNnV",
        "colab_type": "code",
        "colab": {
          "base_uri": "https://localhost:8080/",
          "height": 51
        },
        "outputId": "f6bbe2be-e459-409f-8bcf-e82dd6d42c9b"
      },
      "source": [
        "maximum_daily_ridership = station_riders.max()\n",
        "minimum_daily_ridership = station_riders.min()\n",
        "\n",
        "print (maximum_daily_ridership)\n",
        "print (minimum_daily_ridership)"
      ],
      "execution_count": 8,
      "outputs": [
        {
          "output_type": "stream",
          "text": [
            "3239.9\n",
            "1071.2\n"
          ],
          "name": "stdout"
        }
      ]
    },
    {
      "cell_type": "code",
      "metadata": {
        "id": "VZ8mYGbE1-Um",
        "colab_type": "code",
        "colab": {
          "base_uri": "https://localhost:8080/",
          "height": 153
        },
        "outputId": "a97821ce-4c9b-482b-ac44-12b9cdfbd107"
      },
      "source": [
        "# DataFrame Creation\n",
        "\n",
        "# You can create a dataframe \n",
        "df_1 = pd.DataFrame({'A': [0,1,2], 'B': [3,4,5]}, index = [0,1,2])\n",
        "print (df_1)\n",
        "\n",
        "# You can also use a list of list or use a 2D Numpy array\n",
        "df_2 = pd.DataFrame([[1,2,3,4],[5,6,7,8],[9,10,11,12]], index = ['A','B','C'])\n",
        "print (df_2)"
      ],
      "execution_count": 12,
      "outputs": [
        {
          "output_type": "stream",
          "text": [
            "   A  B\n",
            "0  0  3\n",
            "1  1  4\n",
            "2  2  5\n",
            "   0   1   2   3\n",
            "A  1   2   3   4\n",
            "B  5   6   7   8\n",
            "C  9  10  11  12\n"
          ],
          "name": "stdout"
        }
      ]
    },
    {
      "cell_type": "code",
      "metadata": {
        "id": "wmPk8_ZAupdq",
        "colab_type": "code",
        "colab": {}
      },
      "source": [
        "# Subway ridership for 5 stations on 10 different days\n",
        "ridership_df = pd.DataFrame(\n",
        "    data=[[   0,    0,    2,    5,    0],\n",
        "          [1478, 3877, 3674, 2328, 2539],\n",
        "          [1613, 4088, 3991, 6461, 2691],\n",
        "          [1560, 3392, 3826, 4787, 2613],\n",
        "          [1608, 4802, 3932, 4477, 2705],\n",
        "          [1576, 3933, 3909, 4979, 2685],\n",
        "          [  95,  229,  255,  496,  201],\n",
        "          [   2,    0,    1,   27,    0],\n",
        "          [1438, 3785, 3589, 4174, 2215],\n",
        "          [1342, 4043, 4009, 4665, 3033]],\n",
        "    index=['05-01-11', '05-02-11', '05-03-11', '05-04-11', '05-05-11',\n",
        "           '05-06-11', '05-07-11', '05-08-11', '05-09-11', '05-10-11'],\n",
        "    columns=['R003', 'R004', 'R005', 'R006', 'R007']\n",
        ")"
      ],
      "execution_count": 13,
      "outputs": []
    },
    {
      "cell_type": "code",
      "metadata": {
        "id": "mUG1HfjiMLhl",
        "colab_type": "code",
        "colab": {
          "base_uri": "https://localhost:8080/",
          "height": 119
        },
        "outputId": "73e7a9cf-e909-45b0-b2db-4feeedd3bdbf"
      },
      "source": [
        "# Accessing elements\n",
        "print (ridership_df.iloc[2])"
      ],
      "execution_count": 14,
      "outputs": [
        {
          "output_type": "stream",
          "text": [
            "R003    1613\n",
            "R004    4088\n",
            "R005    3991\n",
            "R006    6461\n",
            "R007    2691\n",
            "Name: 05-03-11, dtype: int64\n"
          ],
          "name": "stdout"
        }
      ]
    },
    {
      "cell_type": "code",
      "metadata": {
        "id": "3x5ZX37KMT4_",
        "colab_type": "code",
        "colab": {
          "base_uri": "https://localhost:8080/",
          "height": 119
        },
        "outputId": "0189f72c-6259-440f-ba4d-fe84cbc35ea8"
      },
      "source": [
        "print (ridership_df.loc['05-04-11'])"
      ],
      "execution_count": 15,
      "outputs": [
        {
          "output_type": "stream",
          "text": [
            "R003    1560\n",
            "R004    3392\n",
            "R005    3826\n",
            "R006    4787\n",
            "R007    2613\n",
            "Name: 05-04-11, dtype: int64\n"
          ],
          "name": "stdout"
        }
      ]
    },
    {
      "cell_type": "code",
      "metadata": {
        "id": "mu6J3fZqMcd1",
        "colab_type": "code",
        "colab": {
          "base_uri": "https://localhost:8080/",
          "height": 204
        },
        "outputId": "b0b299e2-46f4-434c-c81b-c73d01047445"
      },
      "source": [
        "print (ridership_df['R003'])"
      ],
      "execution_count": 16,
      "outputs": [
        {
          "output_type": "stream",
          "text": [
            "05-01-11       0\n",
            "05-02-11    1478\n",
            "05-03-11    1613\n",
            "05-04-11    1560\n",
            "05-05-11    1608\n",
            "05-06-11    1576\n",
            "05-07-11      95\n",
            "05-08-11       2\n",
            "05-09-11    1438\n",
            "05-10-11    1342\n",
            "Name: R003, dtype: int64\n"
          ],
          "name": "stdout"
        }
      ]
    },
    {
      "cell_type": "code",
      "metadata": {
        "id": "0UKSzW6dMn88",
        "colab_type": "code",
        "colab": {
          "base_uri": "https://localhost:8080/",
          "height": 34
        },
        "outputId": "cdb95d45-e109-433d-bdf8-68f9b5493ec0"
      },
      "source": [
        "print (ridership_df.iloc[1,3])"
      ],
      "execution_count": 17,
      "outputs": [
        {
          "output_type": "stream",
          "text": [
            "2328\n"
          ],
          "name": "stdout"
        }
      ]
    },
    {
      "cell_type": "code",
      "metadata": {
        "id": "SuXJsohFMuje",
        "colab_type": "code",
        "colab": {
          "base_uri": "https://localhost:8080/",
          "height": 204
        },
        "outputId": "c8f404c5-3d50-4598-f2cc-3d20f62a70fb"
      },
      "source": [
        "# Accessing multiple columns\n",
        "print (ridership_df[['R003','R004']])"
      ],
      "execution_count": 18,
      "outputs": [
        {
          "output_type": "stream",
          "text": [
            "          R003  R004\n",
            "05-01-11     0     0\n",
            "05-02-11  1478  3877\n",
            "05-03-11  1613  4088\n",
            "05-04-11  1560  3392\n",
            "05-05-11  1608  4802\n",
            "05-06-11  1576  3933\n",
            "05-07-11    95   229\n",
            "05-08-11     2     0\n",
            "05-09-11  1438  3785\n",
            "05-10-11  1342  4043\n"
          ],
          "name": "stdout"
        }
      ]
    },
    {
      "cell_type": "code",
      "metadata": {
        "id": "qkVgwV-1M4WJ",
        "colab_type": "code",
        "colab": {
          "base_uri": "https://localhost:8080/",
          "height": 85
        },
        "outputId": "a18fba12-6790-4d53-e182-6aabb38ee80c"
      },
      "source": [
        "# Accessing multiple rows\n",
        "print (ridership_df.iloc[1:4])"
      ],
      "execution_count": 23,
      "outputs": [
        {
          "output_type": "stream",
          "text": [
            "          R003  R004  R005  R006  R007\n",
            "05-02-11  1478  3877  3674  2328  2539\n",
            "05-03-11  1613  4088  3991  6461  2691\n",
            "05-04-11  1560  3392  3826  4787  2613\n"
          ],
          "name": "stdout"
        }
      ]
    },
    {
      "cell_type": "code",
      "metadata": {
        "id": "uQjSMYidNK8D",
        "colab_type": "code",
        "colab": {
          "base_uri": "https://localhost:8080/",
          "height": 142
        },
        "outputId": "bd8e917f-2938-49f3-e6dc-c658e54167a9"
      },
      "source": [
        "df = pd.DataFrame({'A':[1,2,3],'B':[4,5,6]})\n",
        "df"
      ],
      "execution_count": 24,
      "outputs": [
        {
          "output_type": "execute_result",
          "data": {
            "text/html": [
              "<div>\n",
              "<style scoped>\n",
              "    .dataframe tbody tr th:only-of-type {\n",
              "        vertical-align: middle;\n",
              "    }\n",
              "\n",
              "    .dataframe tbody tr th {\n",
              "        vertical-align: top;\n",
              "    }\n",
              "\n",
              "    .dataframe thead th {\n",
              "        text-align: right;\n",
              "    }\n",
              "</style>\n",
              "<table border=\"1\" class=\"dataframe\">\n",
              "  <thead>\n",
              "    <tr style=\"text-align: right;\">\n",
              "      <th></th>\n",
              "      <th>A</th>\n",
              "      <th>B</th>\n",
              "    </tr>\n",
              "  </thead>\n",
              "  <tbody>\n",
              "    <tr>\n",
              "      <th>0</th>\n",
              "      <td>1</td>\n",
              "      <td>4</td>\n",
              "    </tr>\n",
              "    <tr>\n",
              "      <th>1</th>\n",
              "      <td>2</td>\n",
              "      <td>5</td>\n",
              "    </tr>\n",
              "    <tr>\n",
              "      <th>2</th>\n",
              "      <td>3</td>\n",
              "      <td>6</td>\n",
              "    </tr>\n",
              "  </tbody>\n",
              "</table>\n",
              "</div>"
            ],
            "text/plain": [
              "   A  B\n",
              "0  1  4\n",
              "1  2  5\n",
              "2  3  6"
            ]
          },
          "metadata": {
            "tags": []
          },
          "execution_count": 24
        }
      ]
    },
    {
      "cell_type": "code",
      "metadata": {
        "id": "-mRR-fm1Nb_u",
        "colab_type": "code",
        "colab": {
          "base_uri": "https://localhost:8080/",
          "height": 153
        },
        "outputId": "1ca923d7-4f63-49fb-b021-ce6cd3a5b52a"
      },
      "source": [
        "print (df.sum())\n",
        "print (df.mean(axis=1))\n",
        "print (df.values.sum())"
      ],
      "execution_count": 28,
      "outputs": [
        {
          "output_type": "stream",
          "text": [
            "A     6\n",
            "B    15\n",
            "dtype: int64\n",
            "0    2.5\n",
            "1    3.5\n",
            "2    4.5\n",
            "dtype: float64\n",
            "21\n"
          ],
          "name": "stdout"
        }
      ]
    },
    {
      "cell_type": "code",
      "metadata": {
        "id": "ylZlzSE3NgD1",
        "colab_type": "code",
        "colab": {
          "base_uri": "https://localhost:8080/",
          "height": 34
        },
        "outputId": "07ec5433-3281-405d-c968-17bb94a3edb0"
      },
      "source": [
        "riders = ridership_df.iloc[0].argmax()\n",
        "mean_for_max = ridership_df.iloc[:,riders].mean()\n",
        "overall_mean = ridership_df.values.mean()\n",
        "\n",
        "print (overall_mean,mean_for_max)"
      ],
      "execution_count": 38,
      "outputs": [
        {
          "output_type": "stream",
          "text": [
            "2342.6 3239.9\n"
          ],
          "name": "stdout"
        }
      ]
    },
    {
      "cell_type": "code",
      "metadata": {
        "id": "tjC9ziw6ODvN",
        "colab_type": "code",
        "colab": {}
      },
      "source": [
        "# DataFrames are great data structures to represent CSVs !\n",
        "\n",
        "subway_df = pd.read_csv('/content/drive/My Drive/Artificial Intelligence/DataAnalysis/nyc_subway_weather.csv')"
      ],
      "execution_count": 39,
      "outputs": []
    },
    {
      "cell_type": "code",
      "metadata": {
        "id": "KFlgLPTdQ_7K",
        "colab_type": "code",
        "colab": {
          "base_uri": "https://localhost:8080/",
          "height": 394
        },
        "outputId": "511a555c-a042-48aa-cbc3-33d898754081"
      },
      "source": [
        "# print first 5 rows\n",
        "subway_df.head()"
      ],
      "execution_count": 40,
      "outputs": [
        {
          "output_type": "execute_result",
          "data": {
            "text/html": [
              "<div>\n",
              "<style scoped>\n",
              "    .dataframe tbody tr th:only-of-type {\n",
              "        vertical-align: middle;\n",
              "    }\n",
              "\n",
              "    .dataframe tbody tr th {\n",
              "        vertical-align: top;\n",
              "    }\n",
              "\n",
              "    .dataframe thead th {\n",
              "        text-align: right;\n",
              "    }\n",
              "</style>\n",
              "<table border=\"1\" class=\"dataframe\">\n",
              "  <thead>\n",
              "    <tr style=\"text-align: right;\">\n",
              "      <th></th>\n",
              "      <th>UNIT</th>\n",
              "      <th>DATEn</th>\n",
              "      <th>TIMEn</th>\n",
              "      <th>ENTRIESn</th>\n",
              "      <th>EXITSn</th>\n",
              "      <th>ENTRIESn_hourly</th>\n",
              "      <th>EXITSn_hourly</th>\n",
              "      <th>datetime</th>\n",
              "      <th>hour</th>\n",
              "      <th>day_week</th>\n",
              "      <th>weekday</th>\n",
              "      <th>station</th>\n",
              "      <th>latitude</th>\n",
              "      <th>longitude</th>\n",
              "      <th>conds</th>\n",
              "      <th>fog</th>\n",
              "      <th>precipi</th>\n",
              "      <th>pressurei</th>\n",
              "      <th>rain</th>\n",
              "      <th>tempi</th>\n",
              "      <th>wspdi</th>\n",
              "      <th>meanprecipi</th>\n",
              "      <th>meanpressurei</th>\n",
              "      <th>meantempi</th>\n",
              "      <th>meanwspdi</th>\n",
              "      <th>weather_lat</th>\n",
              "      <th>weather_lon</th>\n",
              "    </tr>\n",
              "  </thead>\n",
              "  <tbody>\n",
              "    <tr>\n",
              "      <th>0</th>\n",
              "      <td>R003</td>\n",
              "      <td>05-01-11</td>\n",
              "      <td>00:00:00</td>\n",
              "      <td>4388333</td>\n",
              "      <td>2911002</td>\n",
              "      <td>0.0</td>\n",
              "      <td>0.0</td>\n",
              "      <td>2011-05-01 00:00:00</td>\n",
              "      <td>0</td>\n",
              "      <td>6</td>\n",
              "      <td>0</td>\n",
              "      <td>CYPRESS HILLS</td>\n",
              "      <td>40.689945</td>\n",
              "      <td>-73.872564</td>\n",
              "      <td>Clear</td>\n",
              "      <td>0</td>\n",
              "      <td>0.0</td>\n",
              "      <td>30.22</td>\n",
              "      <td>0</td>\n",
              "      <td>55.9</td>\n",
              "      <td>3.5</td>\n",
              "      <td>0.0</td>\n",
              "      <td>30.258</td>\n",
              "      <td>55.98</td>\n",
              "      <td>7.86</td>\n",
              "      <td>40.700348</td>\n",
              "      <td>-73.887177</td>\n",
              "    </tr>\n",
              "    <tr>\n",
              "      <th>1</th>\n",
              "      <td>R003</td>\n",
              "      <td>05-01-11</td>\n",
              "      <td>04:00:00</td>\n",
              "      <td>4388333</td>\n",
              "      <td>2911002</td>\n",
              "      <td>0.0</td>\n",
              "      <td>0.0</td>\n",
              "      <td>2011-05-01 04:00:00</td>\n",
              "      <td>4</td>\n",
              "      <td>6</td>\n",
              "      <td>0</td>\n",
              "      <td>CYPRESS HILLS</td>\n",
              "      <td>40.689945</td>\n",
              "      <td>-73.872564</td>\n",
              "      <td>Partly Cloudy</td>\n",
              "      <td>0</td>\n",
              "      <td>0.0</td>\n",
              "      <td>30.25</td>\n",
              "      <td>0</td>\n",
              "      <td>52.0</td>\n",
              "      <td>3.5</td>\n",
              "      <td>0.0</td>\n",
              "      <td>30.258</td>\n",
              "      <td>55.98</td>\n",
              "      <td>7.86</td>\n",
              "      <td>40.700348</td>\n",
              "      <td>-73.887177</td>\n",
              "    </tr>\n",
              "    <tr>\n",
              "      <th>2</th>\n",
              "      <td>R003</td>\n",
              "      <td>05-01-11</td>\n",
              "      <td>12:00:00</td>\n",
              "      <td>4388333</td>\n",
              "      <td>2911002</td>\n",
              "      <td>0.0</td>\n",
              "      <td>0.0</td>\n",
              "      <td>2011-05-01 12:00:00</td>\n",
              "      <td>12</td>\n",
              "      <td>6</td>\n",
              "      <td>0</td>\n",
              "      <td>CYPRESS HILLS</td>\n",
              "      <td>40.689945</td>\n",
              "      <td>-73.872564</td>\n",
              "      <td>Mostly Cloudy</td>\n",
              "      <td>0</td>\n",
              "      <td>0.0</td>\n",
              "      <td>30.28</td>\n",
              "      <td>0</td>\n",
              "      <td>62.1</td>\n",
              "      <td>6.9</td>\n",
              "      <td>0.0</td>\n",
              "      <td>30.258</td>\n",
              "      <td>55.98</td>\n",
              "      <td>7.86</td>\n",
              "      <td>40.700348</td>\n",
              "      <td>-73.887177</td>\n",
              "    </tr>\n",
              "    <tr>\n",
              "      <th>3</th>\n",
              "      <td>R003</td>\n",
              "      <td>05-01-11</td>\n",
              "      <td>16:00:00</td>\n",
              "      <td>4388333</td>\n",
              "      <td>2911002</td>\n",
              "      <td>0.0</td>\n",
              "      <td>0.0</td>\n",
              "      <td>2011-05-01 16:00:00</td>\n",
              "      <td>16</td>\n",
              "      <td>6</td>\n",
              "      <td>0</td>\n",
              "      <td>CYPRESS HILLS</td>\n",
              "      <td>40.689945</td>\n",
              "      <td>-73.872564</td>\n",
              "      <td>Mostly Cloudy</td>\n",
              "      <td>0</td>\n",
              "      <td>0.0</td>\n",
              "      <td>30.26</td>\n",
              "      <td>0</td>\n",
              "      <td>57.9</td>\n",
              "      <td>15.0</td>\n",
              "      <td>0.0</td>\n",
              "      <td>30.258</td>\n",
              "      <td>55.98</td>\n",
              "      <td>7.86</td>\n",
              "      <td>40.700348</td>\n",
              "      <td>-73.887177</td>\n",
              "    </tr>\n",
              "    <tr>\n",
              "      <th>4</th>\n",
              "      <td>R003</td>\n",
              "      <td>05-01-11</td>\n",
              "      <td>20:00:00</td>\n",
              "      <td>4388333</td>\n",
              "      <td>2911002</td>\n",
              "      <td>0.0</td>\n",
              "      <td>0.0</td>\n",
              "      <td>2011-05-01 20:00:00</td>\n",
              "      <td>20</td>\n",
              "      <td>6</td>\n",
              "      <td>0</td>\n",
              "      <td>CYPRESS HILLS</td>\n",
              "      <td>40.689945</td>\n",
              "      <td>-73.872564</td>\n",
              "      <td>Mostly Cloudy</td>\n",
              "      <td>0</td>\n",
              "      <td>0.0</td>\n",
              "      <td>30.28</td>\n",
              "      <td>0</td>\n",
              "      <td>52.0</td>\n",
              "      <td>10.4</td>\n",
              "      <td>0.0</td>\n",
              "      <td>30.258</td>\n",
              "      <td>55.98</td>\n",
              "      <td>7.86</td>\n",
              "      <td>40.700348</td>\n",
              "      <td>-73.887177</td>\n",
              "    </tr>\n",
              "  </tbody>\n",
              "</table>\n",
              "</div>"
            ],
            "text/plain": [
              "   UNIT     DATEn     TIMEn  ...  meanwspdi  weather_lat  weather_lon\n",
              "0  R003  05-01-11  00:00:00  ...       7.86    40.700348   -73.887177\n",
              "1  R003  05-01-11  04:00:00  ...       7.86    40.700348   -73.887177\n",
              "2  R003  05-01-11  12:00:00  ...       7.86    40.700348   -73.887177\n",
              "3  R003  05-01-11  16:00:00  ...       7.86    40.700348   -73.887177\n",
              "4  R003  05-01-11  20:00:00  ...       7.86    40.700348   -73.887177\n",
              "\n",
              "[5 rows x 27 columns]"
            ]
          },
          "metadata": {
            "tags": []
          },
          "execution_count": 40
        }
      ]
    },
    {
      "cell_type": "code",
      "metadata": {
        "id": "gY6ZVsILRFnG",
        "colab_type": "code",
        "colab": {
          "base_uri": "https://localhost:8080/",
          "height": 317
        },
        "outputId": "9e1684de-bb73-4230-8f3d-3a07839eeab6"
      },
      "source": [
        "subway_df.describe()"
      ],
      "execution_count": 42,
      "outputs": [
        {
          "output_type": "execute_result",
          "data": {
            "text/html": [
              "<div>\n",
              "<style scoped>\n",
              "    .dataframe tbody tr th:only-of-type {\n",
              "        vertical-align: middle;\n",
              "    }\n",
              "\n",
              "    .dataframe tbody tr th {\n",
              "        vertical-align: top;\n",
              "    }\n",
              "\n",
              "    .dataframe thead th {\n",
              "        text-align: right;\n",
              "    }\n",
              "</style>\n",
              "<table border=\"1\" class=\"dataframe\">\n",
              "  <thead>\n",
              "    <tr style=\"text-align: right;\">\n",
              "      <th></th>\n",
              "      <th>ENTRIESn</th>\n",
              "      <th>EXITSn</th>\n",
              "      <th>ENTRIESn_hourly</th>\n",
              "      <th>EXITSn_hourly</th>\n",
              "      <th>hour</th>\n",
              "      <th>day_week</th>\n",
              "      <th>weekday</th>\n",
              "      <th>latitude</th>\n",
              "      <th>longitude</th>\n",
              "      <th>fog</th>\n",
              "      <th>precipi</th>\n",
              "      <th>pressurei</th>\n",
              "      <th>rain</th>\n",
              "      <th>tempi</th>\n",
              "      <th>wspdi</th>\n",
              "      <th>meanprecipi</th>\n",
              "      <th>meanpressurei</th>\n",
              "      <th>meantempi</th>\n",
              "      <th>meanwspdi</th>\n",
              "      <th>weather_lat</th>\n",
              "      <th>weather_lon</th>\n",
              "    </tr>\n",
              "  </thead>\n",
              "  <tbody>\n",
              "    <tr>\n",
              "      <th>count</th>\n",
              "      <td>4.264900e+04</td>\n",
              "      <td>4.264900e+04</td>\n",
              "      <td>42649.000000</td>\n",
              "      <td>42649.000000</td>\n",
              "      <td>42649.000000</td>\n",
              "      <td>42649.000000</td>\n",
              "      <td>42649.000000</td>\n",
              "      <td>42649.000000</td>\n",
              "      <td>42649.000000</td>\n",
              "      <td>42649.000000</td>\n",
              "      <td>42649.000000</td>\n",
              "      <td>42649.000000</td>\n",
              "      <td>42649.000000</td>\n",
              "      <td>42649.000000</td>\n",
              "      <td>42649.000000</td>\n",
              "      <td>42649.000000</td>\n",
              "      <td>42649.000000</td>\n",
              "      <td>42649.000000</td>\n",
              "      <td>42649.000000</td>\n",
              "      <td>42649.000000</td>\n",
              "      <td>42649.000000</td>\n",
              "    </tr>\n",
              "    <tr>\n",
              "      <th>mean</th>\n",
              "      <td>2.812486e+07</td>\n",
              "      <td>1.986993e+07</td>\n",
              "      <td>1886.589955</td>\n",
              "      <td>1361.487866</td>\n",
              "      <td>10.046754</td>\n",
              "      <td>2.905719</td>\n",
              "      <td>0.714436</td>\n",
              "      <td>40.724647</td>\n",
              "      <td>-73.940364</td>\n",
              "      <td>0.009824</td>\n",
              "      <td>0.004618</td>\n",
              "      <td>29.971096</td>\n",
              "      <td>0.224741</td>\n",
              "      <td>63.103780</td>\n",
              "      <td>6.927872</td>\n",
              "      <td>0.004618</td>\n",
              "      <td>29.971096</td>\n",
              "      <td>63.103780</td>\n",
              "      <td>6.927872</td>\n",
              "      <td>40.728555</td>\n",
              "      <td>-73.938693</td>\n",
              "    </tr>\n",
              "    <tr>\n",
              "      <th>std</th>\n",
              "      <td>3.043607e+07</td>\n",
              "      <td>2.028986e+07</td>\n",
              "      <td>2952.385585</td>\n",
              "      <td>2183.845409</td>\n",
              "      <td>6.938928</td>\n",
              "      <td>2.079231</td>\n",
              "      <td>0.451688</td>\n",
              "      <td>0.071650</td>\n",
              "      <td>0.059713</td>\n",
              "      <td>0.098631</td>\n",
              "      <td>0.025832</td>\n",
              "      <td>0.137942</td>\n",
              "      <td>0.417417</td>\n",
              "      <td>8.455597</td>\n",
              "      <td>4.510178</td>\n",
              "      <td>0.016344</td>\n",
              "      <td>0.131158</td>\n",
              "      <td>6.939011</td>\n",
              "      <td>3.179832</td>\n",
              "      <td>0.065420</td>\n",
              "      <td>0.059582</td>\n",
              "    </tr>\n",
              "    <tr>\n",
              "      <th>min</th>\n",
              "      <td>0.000000e+00</td>\n",
              "      <td>0.000000e+00</td>\n",
              "      <td>0.000000</td>\n",
              "      <td>0.000000</td>\n",
              "      <td>0.000000</td>\n",
              "      <td>0.000000</td>\n",
              "      <td>0.000000</td>\n",
              "      <td>40.576152</td>\n",
              "      <td>-74.073622</td>\n",
              "      <td>0.000000</td>\n",
              "      <td>0.000000</td>\n",
              "      <td>29.550000</td>\n",
              "      <td>0.000000</td>\n",
              "      <td>46.900000</td>\n",
              "      <td>0.000000</td>\n",
              "      <td>0.000000</td>\n",
              "      <td>29.590000</td>\n",
              "      <td>49.400000</td>\n",
              "      <td>0.000000</td>\n",
              "      <td>40.600204</td>\n",
              "      <td>-74.014870</td>\n",
              "    </tr>\n",
              "    <tr>\n",
              "      <th>25%</th>\n",
              "      <td>1.039762e+07</td>\n",
              "      <td>7.613712e+06</td>\n",
              "      <td>274.000000</td>\n",
              "      <td>237.000000</td>\n",
              "      <td>4.000000</td>\n",
              "      <td>1.000000</td>\n",
              "      <td>0.000000</td>\n",
              "      <td>40.677107</td>\n",
              "      <td>-73.987342</td>\n",
              "      <td>0.000000</td>\n",
              "      <td>0.000000</td>\n",
              "      <td>29.890000</td>\n",
              "      <td>0.000000</td>\n",
              "      <td>57.000000</td>\n",
              "      <td>4.600000</td>\n",
              "      <td>0.000000</td>\n",
              "      <td>29.913333</td>\n",
              "      <td>58.283333</td>\n",
              "      <td>4.816667</td>\n",
              "      <td>40.688591</td>\n",
              "      <td>-73.985130</td>\n",
              "    </tr>\n",
              "    <tr>\n",
              "      <th>50%</th>\n",
              "      <td>1.818389e+07</td>\n",
              "      <td>1.331609e+07</td>\n",
              "      <td>905.000000</td>\n",
              "      <td>664.000000</td>\n",
              "      <td>12.000000</td>\n",
              "      <td>3.000000</td>\n",
              "      <td>1.000000</td>\n",
              "      <td>40.717241</td>\n",
              "      <td>-73.953459</td>\n",
              "      <td>0.000000</td>\n",
              "      <td>0.000000</td>\n",
              "      <td>29.960000</td>\n",
              "      <td>0.000000</td>\n",
              "      <td>61.000000</td>\n",
              "      <td>6.900000</td>\n",
              "      <td>0.000000</td>\n",
              "      <td>29.958000</td>\n",
              "      <td>60.950000</td>\n",
              "      <td>6.166667</td>\n",
              "      <td>40.720570</td>\n",
              "      <td>-73.949150</td>\n",
              "    </tr>\n",
              "    <tr>\n",
              "      <th>75%</th>\n",
              "      <td>3.263049e+07</td>\n",
              "      <td>2.393771e+07</td>\n",
              "      <td>2255.000000</td>\n",
              "      <td>1537.000000</td>\n",
              "      <td>16.000000</td>\n",
              "      <td>5.000000</td>\n",
              "      <td>1.000000</td>\n",
              "      <td>40.759123</td>\n",
              "      <td>-73.907733</td>\n",
              "      <td>0.000000</td>\n",
              "      <td>0.000000</td>\n",
              "      <td>30.060000</td>\n",
              "      <td>0.000000</td>\n",
              "      <td>69.100000</td>\n",
              "      <td>9.200000</td>\n",
              "      <td>0.000000</td>\n",
              "      <td>30.060000</td>\n",
              "      <td>67.466667</td>\n",
              "      <td>8.850000</td>\n",
              "      <td>40.755226</td>\n",
              "      <td>-73.912033</td>\n",
              "    </tr>\n",
              "    <tr>\n",
              "      <th>max</th>\n",
              "      <td>2.357746e+08</td>\n",
              "      <td>1.493782e+08</td>\n",
              "      <td>32814.000000</td>\n",
              "      <td>34828.000000</td>\n",
              "      <td>20.000000</td>\n",
              "      <td>6.000000</td>\n",
              "      <td>1.000000</td>\n",
              "      <td>40.889185</td>\n",
              "      <td>-73.755383</td>\n",
              "      <td>1.000000</td>\n",
              "      <td>0.300000</td>\n",
              "      <td>30.320000</td>\n",
              "      <td>1.000000</td>\n",
              "      <td>86.000000</td>\n",
              "      <td>23.000000</td>\n",
              "      <td>0.157500</td>\n",
              "      <td>30.293333</td>\n",
              "      <td>79.800000</td>\n",
              "      <td>17.083333</td>\n",
              "      <td>40.862064</td>\n",
              "      <td>-73.694176</td>\n",
              "    </tr>\n",
              "  </tbody>\n",
              "</table>\n",
              "</div>"
            ],
            "text/plain": [
              "           ENTRIESn        EXITSn  ...   weather_lat   weather_lon\n",
              "count  4.264900e+04  4.264900e+04  ...  42649.000000  42649.000000\n",
              "mean   2.812486e+07  1.986993e+07  ...     40.728555    -73.938693\n",
              "std    3.043607e+07  2.028986e+07  ...      0.065420      0.059582\n",
              "min    0.000000e+00  0.000000e+00  ...     40.600204    -74.014870\n",
              "25%    1.039762e+07  7.613712e+06  ...     40.688591    -73.985130\n",
              "50%    1.818389e+07  1.331609e+07  ...     40.720570    -73.949150\n",
              "75%    3.263049e+07  2.393771e+07  ...     40.755226    -73.912033\n",
              "max    2.357746e+08  1.493782e+08  ...     40.862064    -73.694176\n",
              "\n",
              "[8 rows x 21 columns]"
            ]
          },
          "metadata": {
            "tags": []
          },
          "execution_count": 42
        }
      ]
    },
    {
      "cell_type": "code",
      "metadata": {
        "id": "dYGlV4ptRIwu",
        "colab_type": "code",
        "colab": {}
      },
      "source": [
        "def correlation(x,y):\n",
        "  std_x = (x-x.mean()) / x.std(ddof=0)\n",
        "  std_y = (y-y.mean()) / y.std(ddof=0)\n",
        "\n",
        "  return (std_x*std_y).mean()"
      ],
      "execution_count": 43,
      "outputs": []
    },
    {
      "cell_type": "code",
      "metadata": {
        "id": "WEmT0NyrTTD5",
        "colab_type": "code",
        "colab": {
          "base_uri": "https://localhost:8080/",
          "height": 34
        },
        "outputId": "fa045943-94c3-408b-98cf-87c298a86652"
      },
      "source": [
        "print (correlation(subway_df['ENTRIESn_hourly'],subway_df['meanprecipi']))"
      ],
      "execution_count": 44,
      "outputs": [
        {
          "output_type": "stream",
          "text": [
            "0.03564851577223041\n"
          ],
          "name": "stdout"
        }
      ]
    },
    {
      "cell_type": "code",
      "metadata": {
        "id": "hwyxAI4RTfwR",
        "colab_type": "code",
        "colab": {
          "base_uri": "https://localhost:8080/",
          "height": 34
        },
        "outputId": "1715f69a-e919-4cdd-cc53-5a0abff8b90a"
      },
      "source": [
        "print (correlation(subway_df['ENTRIESn_hourly'],subway_df['ENTRIESn']))"
      ],
      "execution_count": 45,
      "outputs": [
        {
          "output_type": "stream",
          "text": [
            "0.5858954707662182\n"
          ],
          "name": "stdout"
        }
      ]
    },
    {
      "cell_type": "code",
      "metadata": {
        "id": "YF-scn9FTzT_",
        "colab_type": "code",
        "colab": {
          "base_uri": "https://localhost:8080/",
          "height": 85
        },
        "outputId": "0204e6c6-a8e8-4cf0-c7e9-9eccb9aad649"
      },
      "source": [
        "# Vectorized operations on dataframes\n",
        "df1 = pd.DataFrame({'a':[1,2,3],'b':[4,5,6],'c':[7,8,9]})\n",
        "df2 = pd.DataFrame({'a':[10,20,30],'b':[40,50,60],'c':[70,80,90]})\n",
        "\n",
        "print (df1 + df2)"
      ],
      "execution_count": 46,
      "outputs": [
        {
          "output_type": "stream",
          "text": [
            "    a   b   c\n",
            "0  11  44  77\n",
            "1  22  55  88\n",
            "2  33  66  99\n"
          ],
          "name": "stdout"
        }
      ]
    },
    {
      "cell_type": "code",
      "metadata": {
        "id": "AJyToLrkU2ti",
        "colab_type": "code",
        "colab": {
          "base_uri": "https://localhost:8080/",
          "height": 85
        },
        "outputId": "8e9dc3f7-b870-4973-ae03-950b9ffe43c2"
      },
      "source": [
        "df1 = pd.DataFrame({'a':[1,2,3],'b':[4,5,6],'c':[7,8,9]})\n",
        "df2 = pd.DataFrame({'d':[10,20,30],'c':[40,50,60],'b':[70,80,90]})\n",
        "\n",
        "print (df1 + df2)"
      ],
      "execution_count": 49,
      "outputs": [
        {
          "output_type": "stream",
          "text": [
            "    a   b   c   d\n",
            "0 NaN  74  47 NaN\n",
            "1 NaN  85  58 NaN\n",
            "2 NaN  96  69 NaN\n"
          ],
          "name": "stdout"
        }
      ]
    },
    {
      "cell_type": "code",
      "metadata": {
        "id": "HA428wXvVAIe",
        "colab_type": "code",
        "colab": {}
      },
      "source": [
        "grades_df = pd.DataFrame(\n",
        "    data={'exam1': [43, 81, 78, 75, 89, 70, 91, 65, 98, 87],\n",
        "          'exam2': [24, 63, 56, 56, 67, 51, 79, 46, 72, 60]},\n",
        "    index=['Andre', 'Barry', 'Chris', 'Dan', 'Emilio', \n",
        "           'Fred', 'Greta', 'Humbert', 'Ivan', 'James']\n",
        ")"
      ],
      "execution_count": 50,
      "outputs": []
    },
    {
      "cell_type": "code",
      "metadata": {
        "id": "PcdvVJWkWVj2",
        "colab_type": "code",
        "colab": {}
      },
      "source": [
        "def convert_grade(grade):\n",
        "  if grade >= 90:\n",
        "    return 'A'\n",
        "  elif grade >= 80:\n",
        "    return 'B'\n",
        "  elif grade >= 70:\n",
        "    return 'C' \n",
        "  elif grade >= 60:\n",
        "    return 'D'\n",
        "  else:\n",
        "    return 'F'"
      ],
      "execution_count": 52,
      "outputs": []
    },
    {
      "cell_type": "code",
      "metadata": {
        "id": "l5FwJMgAWpbX",
        "colab_type": "code",
        "colab": {
          "base_uri": "https://localhost:8080/",
          "height": 204
        },
        "outputId": "b47a5eda-1b03-4149-811f-c14dd1cf388c"
      },
      "source": [
        "def convert_grades(grades):\n",
        "  return grades.applymap(convert_grade)\n",
        "\n",
        "res_df = convert_grades(grades_df)\n",
        "print (res_df)"
      ],
      "execution_count": 53,
      "outputs": [
        {
          "output_type": "stream",
          "text": [
            "        exam1 exam2\n",
            "Andre       F     F\n",
            "Barry       B     D\n",
            "Chris       C     F\n",
            "Dan         C     F\n",
            "Emilio      B     D\n",
            "Fred        C     F\n",
            "Greta       A     C\n",
            "Humbert     D     F\n",
            "Ivan        A     C\n",
            "James       B     D\n"
          ],
          "name": "stdout"
        }
      ]
    },
    {
      "cell_type": "code",
      "metadata": {
        "id": "CgNCZNG_W9pn",
        "colab_type": "code",
        "colab": {}
      },
      "source": [
        "df = pd.DataFrame({\n",
        "    'a' : [4,5,3,1,2],\n",
        "    'b' : [20,10,40,50,30],\n",
        "    'c' : [25,20,5,15,10]\n",
        "})"
      ],
      "execution_count": 54,
      "outputs": []
    },
    {
      "cell_type": "code",
      "metadata": {
        "id": "O1ZXDvUzYahX",
        "colab_type": "code",
        "colab": {}
      },
      "source": [
        "def second_largest_in_column(column):\n",
        "  sorted_column = column.sort_values(ascending=False)\n",
        "  return sorted_column.iloc[1]"
      ],
      "execution_count": 55,
      "outputs": []
    },
    {
      "cell_type": "code",
      "metadata": {
        "id": "JgUQHgr_YpZY",
        "colab_type": "code",
        "colab": {}
      },
      "source": [
        "def second_largest(df):\n",
        "  return df.apply(second_largest_in_column)"
      ],
      "execution_count": 56,
      "outputs": []
    },
    {
      "cell_type": "code",
      "metadata": {
        "id": "mYX4xioOYxql",
        "colab_type": "code",
        "colab": {
          "base_uri": "https://localhost:8080/",
          "height": 85
        },
        "outputId": "3bf23fd9-387e-48d7-9c44-d614ebe0e146"
      },
      "source": [
        "second_largest(df)"
      ],
      "execution_count": 57,
      "outputs": [
        {
          "output_type": "execute_result",
          "data": {
            "text/plain": [
              "a     4\n",
              "b    40\n",
              "c    20\n",
              "dtype: int64"
            ]
          },
          "metadata": {
            "tags": []
          },
          "execution_count": 57
        }
      ]
    },
    {
      "cell_type": "code",
      "metadata": {
        "id": "ghd_uBS7Yzl2",
        "colab_type": "code",
        "colab": {}
      },
      "source": [
        ""
      ],
      "execution_count": null,
      "outputs": []
    }
  ]
}