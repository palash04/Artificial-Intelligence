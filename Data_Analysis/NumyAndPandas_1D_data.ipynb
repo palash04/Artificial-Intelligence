{
  "nbformat": 4,
  "nbformat_minor": 0,
  "metadata": {
    "colab": {
      "name": "NumyAndPandas_1D_data.ipynb",
      "provenance": [],
      "mount_file_id": "1FOzplzZR2rEYDeZvUqypKTPYwwfw1jwE",
      "authorship_tag": "ABX9TyO0h3brh+BM2HyIQEfMXFLk",
      "include_colab_link": true
    },
    "kernelspec": {
      "name": "python3",
      "display_name": "Python 3"
    }
  },
  "cells": [
    {
      "cell_type": "markdown",
      "metadata": {
        "id": "view-in-github",
        "colab_type": "text"
      },
      "source": [
        "<a href=\"https://colab.research.google.com/github/palash04/Artificial-Intelligence/blob/master/Data_Analysis/NumyAndPandas_1D_data.ipynb\" target=\"_parent\"><img src=\"https://colab.research.google.com/assets/colab-badge.svg\" alt=\"Open In Colab\"/></a>"
      ]
    },
    {
      "cell_type": "code",
      "metadata": {
        "id": "AK2AZwi6IqOG",
        "colab_type": "code",
        "colab": {}
      },
      "source": [
        "import pandas as pd"
      ],
      "execution_count": null,
      "outputs": []
    },
    {
      "cell_type": "code",
      "metadata": {
        "id": "l77VWqyBLXMF",
        "colab_type": "code",
        "colab": {}
      },
      "source": [
        "# reading csv file\n",
        "# pandas can read large files pretty quickly unlike unicodecsv which takes a lot of time for large data set\n",
        "daily_engagement = pd.read_csv('/content/drive/My Drive/Artificial Intelligence/DataAnalysis/daily_engagement.csv')"
      ],
      "execution_count": null,
      "outputs": []
    },
    {
      "cell_type": "code",
      "metadata": {
        "id": "oiVZ8_hLLlu2",
        "colab_type": "code",
        "colab": {
          "base_uri": "https://localhost:8080/",
          "height": 34
        },
        "outputId": "889d2678-68c7-47fd-f44a-8a1192f321c1"
      },
      "source": [
        "len(daily_engagement['acct'].unique())"
      ],
      "execution_count": null,
      "outputs": [
        {
          "output_type": "execute_result",
          "data": {
            "text/plain": [
              "1237"
            ]
          },
          "metadata": {
            "tags": []
          },
          "execution_count": 5
        }
      ]
    },
    {
      "cell_type": "code",
      "metadata": {
        "id": "oq9lzWixL2RL",
        "colab_type": "code",
        "colab": {}
      },
      "source": [
        "# numpy (numerical python)\n",
        "# numpy arrays"
      ],
      "execution_count": null,
      "outputs": []
    },
    {
      "cell_type": "code",
      "metadata": {
        "id": "zzHTrGaSNFZt",
        "colab_type": "code",
        "colab": {}
      },
      "source": [
        "import numpy as np"
      ],
      "execution_count": null,
      "outputs": []
    },
    {
      "cell_type": "code",
      "metadata": {
        "id": "ydYMATXENGpt",
        "colab_type": "code",
        "colab": {}
      },
      "source": [
        "# First 20 countries with employment data\n",
        "countries = np.array(['Afghanistan', 'Albania', 'Algeria', 'Angola', 'Argentina',\n",
        "    'Armenia', 'Australia', 'Austria', 'Azerbaijan', 'Bahamas',\n",
        "    'Bahrain', 'Bangladesh', 'Barbados', 'Belarus', 'Belgium',\n",
        "    'Belize', 'Benin', 'Bhutan', 'Bolivia',\n",
        "    'Bosnia and Herzegovina'])"
      ],
      "execution_count": null,
      "outputs": []
    },
    {
      "cell_type": "code",
      "metadata": {
        "id": "ucyJtTVTNQj3",
        "colab_type": "code",
        "colab": {}
      },
      "source": [
        "# Employment data in 2007 for those 20 countries\n",
        "employement = np.array([55.70000076,  51.40000153,  50.5       ,  75.69999695,\n",
        "    58.40000153,  40.09999847,  61.5       ,  57.09999847,\n",
        "    60.90000153,  66.59999847,  60.40000153,  68.09999847,\n",
        "    66.90000153,  53.40000153,  48.59999847,  56.79999924,\n",
        "    71.59999847,  58.40000153,  70.40000153,  41.20000076])"
      ],
      "execution_count": null,
      "outputs": []
    },
    {
      "cell_type": "code",
      "metadata": {
        "id": "aJxyPsrjNcdC",
        "colab_type": "code",
        "colab": {
          "base_uri": "https://localhost:8080/",
          "height": 255
        },
        "outputId": "aed2f292-e604-4e3f-cd91-8b3c4d7b7ed6"
      },
      "source": [
        "# Accessing elements\n",
        "print (countries[0])\n",
        "print (countries[19])\n",
        "\n",
        "# Slicing elements\n",
        "print (countries[0:3])\n",
        "print (countries[:3])\n",
        "print (countries[17:])\n",
        "print (countries[:])\n",
        "\n",
        "# Element types\n",
        "print (countries.dtype)\n",
        "print (employement.dtype)\n",
        "print (np.array([1,2,3,4,5]).dtype)\n",
        "print (np.array([True,False,False,True]).dtype)\n",
        "print (np.array(['AL','CA','AZ']).dtype)"
      ],
      "execution_count": null,
      "outputs": [
        {
          "output_type": "stream",
          "text": [
            "Afghanistan\n",
            "Bosnia and Herzegovina\n",
            "['Afghanistan' 'Albania' 'Algeria']\n",
            "['Afghanistan' 'Albania' 'Algeria']\n",
            "['Bhutan' 'Bolivia' 'Bosnia and Herzegovina']\n",
            "['Afghanistan' 'Albania' 'Algeria' 'Angola' 'Argentina' 'Armenia'\n",
            " 'Australia' 'Austria' 'Azerbaijan' 'Bahamas' 'Bahrain' 'Bangladesh'\n",
            " 'Barbados' 'Belarus' 'Belgium' 'Belize' 'Benin' 'Bhutan' 'Bolivia'\n",
            " 'Bosnia and Herzegovina']\n",
            "<U22\n",
            "float64\n",
            "int64\n",
            "bool\n",
            "<U2\n"
          ],
          "name": "stdout"
        }
      ]
    },
    {
      "cell_type": "code",
      "metadata": {
        "id": "GWT7gy9aNm2H",
        "colab_type": "code",
        "colab": {
          "base_uri": "https://localhost:8080/",
          "height": 697
        },
        "outputId": "c65e31ac-0b12-435c-81fb-e2dd8928bff1"
      },
      "source": [
        "# looping\n",
        "for country in countries:\n",
        "  print (\"Examining country {}\".format(country))\n",
        "\n",
        "for i in range(len(countries)):\n",
        "  country = countries[i]\n",
        "  country_employement = employement[i]\n",
        "  print (\"Country {} has {} employment\".format(country,country_employement))"
      ],
      "execution_count": null,
      "outputs": [
        {
          "output_type": "stream",
          "text": [
            "Examining country Afghanistan\n",
            "Examining country Albania\n",
            "Examining country Algeria\n",
            "Examining country Angola\n",
            "Examining country Argentina\n",
            "Examining country Armenia\n",
            "Examining country Australia\n",
            "Examining country Austria\n",
            "Examining country Azerbaijan\n",
            "Examining country Bahamas\n",
            "Examining country Bahrain\n",
            "Examining country Bangladesh\n",
            "Examining country Barbados\n",
            "Examining country Belarus\n",
            "Examining country Belgium\n",
            "Examining country Belize\n",
            "Examining country Benin\n",
            "Examining country Bhutan\n",
            "Examining country Bolivia\n",
            "Examining country Bosnia and Herzegovina\n",
            "Country Afghanistan has 55.70000076 employment\n",
            "Country Albania has 51.40000153 employment\n",
            "Country Algeria has 50.5 employment\n",
            "Country Angola has 75.69999695 employment\n",
            "Country Argentina has 58.40000153 employment\n",
            "Country Armenia has 40.09999847 employment\n",
            "Country Australia has 61.5 employment\n",
            "Country Austria has 57.09999847 employment\n",
            "Country Azerbaijan has 60.90000153 employment\n",
            "Country Bahamas has 66.59999847 employment\n",
            "Country Bahrain has 60.40000153 employment\n",
            "Country Bangladesh has 68.09999847 employment\n",
            "Country Barbados has 66.90000153 employment\n",
            "Country Belarus has 53.40000153 employment\n",
            "Country Belgium has 48.59999847 employment\n",
            "Country Belize has 56.79999924 employment\n",
            "Country Benin has 71.59999847 employment\n",
            "Country Bhutan has 58.40000153 employment\n",
            "Country Bolivia has 70.40000153 employment\n",
            "Country Bosnia and Herzegovina has 41.20000076 employment\n"
          ],
          "name": "stdout"
        }
      ]
    },
    {
      "cell_type": "code",
      "metadata": {
        "id": "MvH7ixPjPmi6",
        "colab_type": "code",
        "colab": {
          "base_uri": "https://localhost:8080/",
          "height": 102
        },
        "outputId": "77c58d36-3664-4ce6-e0f2-8b0340e95937"
      },
      "source": [
        "print (employement.mean())\n",
        "print (employement.std())\n",
        "print (employement.min())\n",
        "print (employement.max())\n",
        "print (employement.sum())\n"
      ],
      "execution_count": null,
      "outputs": [
        {
          "output_type": "stream",
          "text": [
            "58.68500003850001\n",
            "9.338269113687888\n",
            "40.09999847\n",
            "75.69999695\n",
            "1173.70000077\n"
          ],
          "name": "stdout"
        }
      ]
    },
    {
      "cell_type": "code",
      "metadata": {
        "id": "hH5bPCVYPvZZ",
        "colab_type": "code",
        "colab": {
          "base_uri": "https://localhost:8080/",
          "height": 102
        },
        "outputId": "3fd08636-6439-4b9d-e322-7cb4b8a7f041"
      },
      "source": [
        "# Vectorized operations\n",
        "a = np.array([1,2,3,4])\n",
        "b = np.array([1,2,1,2])\n",
        "\n",
        "print (a + b)\n",
        "print (a - b)\n",
        "print (a * b)\n",
        "print (a / b)\n",
        "print (a ** b)\n"
      ],
      "execution_count": null,
      "outputs": [
        {
          "output_type": "stream",
          "text": [
            "[2 4 4 6]\n",
            "[0 0 2 2]\n",
            "[1 4 3 8]\n",
            "[1. 1. 3. 2.]\n",
            "[ 1  4  3 16]\n"
          ],
          "name": "stdout"
        }
      ]
    },
    {
      "cell_type": "code",
      "metadata": {
        "id": "R_C96GCqQ_Ud",
        "colab_type": "code",
        "colab": {
          "base_uri": "https://localhost:8080/",
          "height": 85
        },
        "outputId": "718fa493-21dc-4a99-dbd4-ecc7d5df3704"
      },
      "source": [
        "# Arithmetic operations between numpy array and a single number\n",
        "a = np.array([1,2,3,4])\n",
        "b = 2\n",
        "\n",
        "print (a + b)\n",
        "print (a - b)\n",
        "print (a * b)\n",
        "print (a ** b)\n"
      ],
      "execution_count": null,
      "outputs": [
        {
          "output_type": "stream",
          "text": [
            "[3 4 5 6]\n",
            "[-1  0  1  2]\n",
            "[2 4 6 8]\n",
            "[ 1  4  9 16]\n"
          ],
          "name": "stdout"
        }
      ]
    },
    {
      "cell_type": "code",
      "metadata": {
        "id": "a7D7ts2DRmrx",
        "colab_type": "code",
        "colab": {
          "base_uri": "https://localhost:8080/",
          "height": 85
        },
        "outputId": "a1da4eda-36db-4dd2-ee03-3b757735b348"
      },
      "source": [
        "# Logical operations with Numpy Arrays\n",
        "a = np.array([True, False, True, False, True])\n",
        "b = np.array([True, True, True, False,True])\n",
        "\n",
        "print (a & b)\n",
        "print (a | b)\n",
        "print (~b)\n",
        "print (a | False)"
      ],
      "execution_count": null,
      "outputs": [
        {
          "output_type": "stream",
          "text": [
            "[ True False  True False  True]\n",
            "[ True  True  True False  True]\n",
            "[False False False  True False]\n",
            "[ True False  True False  True]\n"
          ],
          "name": "stdout"
        }
      ]
    },
    {
      "cell_type": "code",
      "metadata": {
        "id": "wegxhnPTUqeh",
        "colab_type": "code",
        "colab": {
          "base_uri": "https://localhost:8080/",
          "height": 119
        },
        "outputId": "3da1d8b5-25f3-4393-857f-52bc9b7d4ea7"
      },
      "source": [
        "# Comparision operations\n",
        "a = np.array([1,2,3,4,5])\n",
        "b = 2\n",
        "\n",
        "print (a > b)\n",
        "print (a >= b)\n",
        "print (a < b)\n",
        "print (a <= b)\n",
        "print (a == b)\n",
        "print (a != b)"
      ],
      "execution_count": null,
      "outputs": [
        {
          "output_type": "stream",
          "text": [
            "[False False  True  True  True]\n",
            "[False  True  True  True  True]\n",
            "[ True False False False False]\n",
            "[ True  True False False False]\n",
            "[False  True False False False]\n",
            "[ True False  True  True  True]\n"
          ],
          "name": "stdout"
        }
      ]
    },
    {
      "cell_type": "code",
      "metadata": {
        "id": "sXjjt-UNVIuO",
        "colab_type": "code",
        "colab": {
          "base_uri": "https://localhost:8080/",
          "height": 34
        },
        "outputId": "6113d02e-6187-461d-fdfb-f0d86eb1fcf3"
      },
      "source": [
        "a = np.array([1,2,3,4])\n",
        "b = a\n",
        "a += np.array([1,1,1,1])  # inplace\n",
        "\n",
        "print (b)"
      ],
      "execution_count": null,
      "outputs": [
        {
          "output_type": "stream",
          "text": [
            "[2 3 4 5]\n"
          ],
          "name": "stdout"
        }
      ]
    },
    {
      "cell_type": "code",
      "metadata": {
        "id": "-n7gLgSfadtb",
        "colab_type": "code",
        "colab": {
          "base_uri": "https://localhost:8080/",
          "height": 34
        },
        "outputId": "e3202fd2-88cc-4ed4-a1de-84404649ea97"
      },
      "source": [
        "a = np.array([1,2,3,4])\n",
        "b = a\n",
        "a = a + np.array([1,1,1,1]) # not in place\n",
        "print (b)"
      ],
      "execution_count": null,
      "outputs": [
        {
          "output_type": "stream",
          "text": [
            "[1 2 3 4]\n"
          ],
          "name": "stdout"
        }
      ]
    },
    {
      "cell_type": "code",
      "metadata": {
        "id": "0sEg-VYRapKw",
        "colab_type": "code",
        "colab": {}
      },
      "source": [
        "# Pandas series\n",
        "# A series is similar to numpy array but it has a additional functionality\n",
        "\n",
        "# Similarities b/w pandas seires ann numpy arrays\n",
        "# . Accessing elements a[2], a[:4]\n",
        "# . Looping for x in s\n",
        "# . Convenient functions s.mean(), s.max()\n",
        "# . Vectorized operations v1 + v2\n",
        "# . Implemented in C (fast)\n"
      ],
      "execution_count": null,
      "outputs": []
    },
    {
      "cell_type": "code",
      "metadata": {
        "id": "lIrGrRrFdV3s",
        "colab_type": "code",
        "colab": {}
      },
      "source": [
        "import pandas as pd"
      ],
      "execution_count": null,
      "outputs": []
    },
    {
      "cell_type": "code",
      "metadata": {
        "id": "mC8IuaYedX8k",
        "colab_type": "code",
        "colab": {}
      },
      "source": [
        "countries = ['Albania', 'Algeria', 'Andorra', 'Angola', 'Antigua and Barbuda',\n",
        "             'Argentina', 'Armenia', 'Australia', 'Austria', 'Azerbaijan',\n",
        "             'Bahamas', 'Bahrain', 'Bangladesh', 'Barbados', 'Belarus',\n",
        "             'Belgium', 'Belize', 'Benin', 'Bhutan', 'Bolivia']\n",
        "\n",
        "life_expectancy_values = [74.7,  75. ,  83.4,  57.6,  74.6,  75.4,  72.3,  81.5,  80.2,\n",
        "                          70.3,  72.1,  76.4,  68.1,  75.2,  69.8,  79.4,  70.8,  62.7,\n",
        "                          67.3,  70.6]\n",
        "\n",
        "gdp_values = [ 1681.61390973,   2155.48523109,  21495.80508273,    562.98768478,\n",
        "              13495.1274663 ,   9388.68852258,   1424.19056199,  24765.54890176,\n",
        "              27036.48733192,   1945.63754911,  21721.61840978,  13373.21993972,\n",
        "                483.97086804,   9783.98417323,   2253.46411147,  25034.66692293,\n",
        "               3680.91642923,    366.04496652,   1175.92638695,   1132.21387981]\n",
        "\n",
        "# Life expectancy and gdp data in 2007 for 20 countries\n",
        "life_expectancy = pd.Series(life_expectancy_values,index = countries)\n",
        "gdp = pd.Series(gdp_values,index = countries)\n"
      ],
      "execution_count": null,
      "outputs": []
    },
    {
      "cell_type": "code",
      "metadata": {
        "id": "Tt51VSNZdYoI",
        "colab_type": "code",
        "colab": {}
      },
      "source": [
        "life_expectancy_mean = life_expectancy.mean()\n",
        "gdp_mean = gdp.mean()"
      ],
      "execution_count": null,
      "outputs": []
    },
    {
      "cell_type": "code",
      "metadata": {
        "id": "qppF-UkNdxD9",
        "colab_type": "code",
        "colab": {}
      },
      "source": [
        "# Findings?\n",
        "# 1. Find the number of countries where both values are above the mean or both are below the mean\n",
        "# 2. Find the number of countries where one value is above and one value is below"
      ],
      "execution_count": null,
      "outputs": []
    },
    {
      "cell_type": "code",
      "metadata": {
        "id": "Sl2YilTkeOqB",
        "colab_type": "code",
        "colab": {}
      },
      "source": [
        "def variable_correlation(var1,var2):\n",
        "  both_above = (var1 > var1.mean()) & (var2 > var2.mean())\n",
        "  both_below = (var1 < var1.mean()) & (var2 < var2.mean())\n",
        "  is_same_direction = both_above | both_below\n",
        "  num_same_direction = is_same_direction.sum()\n",
        "  num_different_direction = len(var1) - num_same_direction\n",
        "\n",
        "  return (num_same_direction, num_different_direction)\n"
      ],
      "execution_count": null,
      "outputs": []
    },
    {
      "cell_type": "code",
      "metadata": {
        "id": "3b3OOziFewTd",
        "colab_type": "code",
        "colab": {
          "base_uri": "https://localhost:8080/",
          "height": 34
        },
        "outputId": "e560e723-12a2-4785-f234-0a61017b60c5"
      },
      "source": [
        "print (variable_correlation(life_expectancy,gdp))"
      ],
      "execution_count": null,
      "outputs": [
        {
          "output_type": "stream",
          "text": [
            "(17, 3)\n"
          ],
          "name": "stdout"
        }
      ]
    },
    {
      "cell_type": "code",
      "metadata": {
        "id": "lYHsvTfOf0BF",
        "colab_type": "code",
        "colab": {
          "base_uri": "https://localhost:8080/",
          "height": 170
        },
        "outputId": "735d31c8-8ffd-4575-86c4-de88545a4510"
      },
      "source": [
        "import numpy as np\n",
        "import pandas as pd\n",
        "\n",
        "a = np.array([1,2,3,4])\n",
        "s = pd.Series([1,2,3,4])\n",
        "\n",
        "s.describe()  # series functionality which numpy array does not have"
      ],
      "execution_count": null,
      "outputs": [
        {
          "output_type": "execute_result",
          "data": {
            "text/plain": [
              "count    4.000000\n",
              "mean     2.500000\n",
              "std      1.290994\n",
              "min      1.000000\n",
              "25%      1.750000\n",
              "50%      2.500000\n",
              "75%      3.250000\n",
              "max      4.000000\n",
              "dtype: float64"
            ]
          },
          "metadata": {
            "tags": []
          },
          "execution_count": 44
        }
      ]
    },
    {
      "cell_type": "code",
      "metadata": {
        "id": "_I-c0b5Yh__q",
        "colab_type": "code",
        "colab": {
          "base_uri": "https://localhost:8080/",
          "height": 357
        },
        "outputId": "bcbfa4ff-3832-484b-b659-89948bb54dd3"
      },
      "source": [
        "s1 = pd.Series([-10,0,10,20,30])\n",
        "s2 = pd.Series([8,9,10,11,12])\n",
        "\n",
        "print (\"s1 : \")\n",
        "print (s1.describe())\n",
        "print (\"s2 : \")\n",
        "print (s2.describe())\n",
        "\n"
      ],
      "execution_count": null,
      "outputs": [
        {
          "output_type": "stream",
          "text": [
            "s1 : \n",
            "count     5.000000\n",
            "mean     10.000000\n",
            "std      15.811388\n",
            "min     -10.000000\n",
            "25%       0.000000\n",
            "50%      10.000000\n",
            "75%      20.000000\n",
            "max      30.000000\n",
            "dtype: float64\n",
            "s2 : \n",
            "count     5.000000\n",
            "mean     10.000000\n",
            "std       1.581139\n",
            "min       8.000000\n",
            "25%       9.000000\n",
            "50%      10.000000\n",
            "75%      11.000000\n",
            "max      12.000000\n",
            "dtype: float64\n"
          ],
          "name": "stdout"
        }
      ]
    },
    {
      "cell_type": "code",
      "metadata": {
        "id": "SOaXULPDijyC",
        "colab_type": "code",
        "colab": {
          "base_uri": "https://localhost:8080/",
          "height": 119
        },
        "outputId": "869d8b0c-93b4-4f5d-f43d-6de985c07f37"
      },
      "source": [
        "a = pd.Series([1,2,3,4,5],index=[\"one\",\"two\",\"three\",\"four\",\"five\"])\n",
        "a"
      ],
      "execution_count": null,
      "outputs": [
        {
          "output_type": "execute_result",
          "data": {
            "text/plain": [
              "one      1\n",
              "two      2\n",
              "three    3\n",
              "four     4\n",
              "five     5\n",
              "dtype: int64"
            ]
          },
          "metadata": {
            "tags": []
          },
          "execution_count": 46
        }
      ]
    },
    {
      "cell_type": "code",
      "metadata": {
        "id": "A8T7evx2jJkU",
        "colab_type": "code",
        "colab": {
          "base_uri": "https://localhost:8080/",
          "height": 68
        },
        "outputId": "4b75e533-6c2b-4f33-9c36-21aea35785b7"
      },
      "source": [
        "print (a.loc[\"two\"])  # searches at the given key\n",
        "print (a[1])\n",
        "print (a.iloc[1])     # searches at the given index"
      ],
      "execution_count": null,
      "outputs": [
        {
          "output_type": "stream",
          "text": [
            "2\n",
            "2\n",
            "2\n"
          ],
          "name": "stdout"
        }
      ]
    },
    {
      "cell_type": "code",
      "metadata": {
        "id": "Amjk7r6tjlHi",
        "colab_type": "code",
        "colab": {
          "base_uri": "https://localhost:8080/",
          "height": 34
        },
        "outputId": "d4e2cb3f-5a0b-4b0b-d79e-c143ed865024"
      },
      "source": [
        "countries = [\n",
        "    'Afghanistan', 'Albania', 'Algeria', 'Angola',\n",
        "    'Argentina', 'Armenia', 'Australia', 'Austria',\n",
        "    'Azerbaijan', 'Bahamas', 'Bahrain', 'Bangladesh',\n",
        "    'Barbados', 'Belarus', 'Belgium', 'Belize',\n",
        "    'Benin', 'Bhutan', 'Bolivia', 'Bosnia and Herzegovina',\n",
        "]\n",
        "\n",
        "\n",
        "employment_values = [\n",
        "    55.70000076,  51.40000153,  50.5       ,  75.69999695,\n",
        "    58.40000153,  40.09999847,  61.5       ,  57.09999847,\n",
        "    60.90000153,  66.59999847,  60.40000153,  68.09999847,\n",
        "    66.90000153,  53.40000153,  48.59999847,  56.79999924,\n",
        "    71.59999847,  58.40000153,  70.40000153,  41.20000076,\n",
        "]\n",
        "\n",
        "employment = pd.Series(employment_values, index=countries)\n",
        "\n",
        "def max_employment(employment):\n",
        "  max_country = employment.idxmax()\n",
        "  max_value = employment.loc[max_country]\n",
        "  return (max_country,max_value)\n",
        "\n",
        "print (max_employment(employment))"
      ],
      "execution_count": null,
      "outputs": [
        {
          "output_type": "stream",
          "text": [
            "('Angola', 75.69999695)\n"
          ],
          "name": "stdout"
        }
      ]
    },
    {
      "cell_type": "code",
      "metadata": {
        "id": "2NFU98P1jpwM",
        "colab_type": "code",
        "colab": {
          "base_uri": "https://localhost:8080/",
          "height": 136
        },
        "outputId": "5576d184-6cd9-4c6b-a08d-04889e2717ad"
      },
      "source": [
        "s1 = pd.Series([1,2,3,4],index=['a','b','c','d'])\n",
        "s2 = pd.Series([10,20,30,40],index=['c','d','e','f'])\n",
        "\n",
        "print (s1+s2)"
      ],
      "execution_count": null,
      "outputs": [
        {
          "output_type": "stream",
          "text": [
            "a     NaN\n",
            "b     NaN\n",
            "c    13.0\n",
            "d    24.0\n",
            "e     NaN\n",
            "f     NaN\n",
            "dtype: float64\n"
          ],
          "name": "stdout"
        }
      ]
    },
    {
      "cell_type": "code",
      "metadata": {
        "id": "ZuysPPF0mYQP",
        "colab_type": "code",
        "colab": {
          "base_uri": "https://localhost:8080/",
          "height": 68
        },
        "outputId": "b58efa0a-d40c-4c6c-c790-51043d939638"
      },
      "source": [
        "sum_result = s1 + s2\n",
        "print (sum_result.dropna())"
      ],
      "execution_count": null,
      "outputs": [
        {
          "output_type": "stream",
          "text": [
            "c    13.0\n",
            "d    24.0\n",
            "dtype: float64\n"
          ],
          "name": "stdout"
        }
      ]
    },
    {
      "cell_type": "code",
      "metadata": {
        "id": "h9u2-yEvmsoP",
        "colab_type": "code",
        "colab": {}
      },
      "source": [
        ""
      ],
      "execution_count": null,
      "outputs": []
    }
  ]
}