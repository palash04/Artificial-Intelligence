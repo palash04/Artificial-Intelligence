{
  "nbformat": 4,
  "nbformat_minor": 0,
  "metadata": {
    "colab": {
      "name": "_01_Forward_Propagation: Intro_to_Neural_Prediction.ipynb",
      "provenance": [],
      "authorship_tag": "ABX9TyPA+iins5q3IULMI7As/CLe",
      "include_colab_link": true
    },
    "kernelspec": {
      "name": "python3",
      "display_name": "Python 3"
    }
  },
  "cells": [
    {
      "cell_type": "markdown",
      "metadata": {
        "id": "view-in-github",
        "colab_type": "text"
      },
      "source": [
        "<a href=\"https://colab.research.google.com/github/palash04/Artificial-Intelligence/blob/master/Grokking_Deep_Learning/_01_Forward_Propagation_Intro_to_Neural_Prediction.ipynb\" target=\"_parent\"><img src=\"https://colab.research.google.com/assets/colab-badge.svg\" alt=\"Open In Colab\"/></a>"
      ]
    },
    {
      "cell_type": "markdown",
      "metadata": {
        "id": "OLWQDEZOcWYm",
        "colab_type": "text"
      },
      "source": [
        "# A simple neural network prediction"
      ]
    },
    {
      "cell_type": "code",
      "metadata": {
        "id": "d9IKoqVvTZa4",
        "colab_type": "code",
        "colab": {
          "base_uri": "https://localhost:8080/",
          "height": 34
        },
        "outputId": "380cabb1-ff5a-4b49-fbc9-19bafcea3368"
      },
      "source": [
        "weight = 0.1\n",
        "def neural_network(input,weight):\n",
        "  prediction = input * weight\n",
        "  return prediction\n",
        "\n",
        "number_of_toes = [8.5,9.5,10,9]\n",
        "input = number_of_toes[0]\n",
        "pred = neural_network(input,weight)\n",
        "print (pred)"
      ],
      "execution_count": 1,
      "outputs": [
        {
          "output_type": "stream",
          "text": [
            "0.8500000000000001\n"
          ],
          "name": "stdout"
        }
      ]
    },
    {
      "cell_type": "markdown",
      "metadata": {
        "id": "6BomL4sUc718",
        "colab_type": "text"
      },
      "source": [
        "# Making a prediction with multiple inputs"
      ]
    },
    {
      "cell_type": "code",
      "metadata": {
        "id": "EhUCsUn2c3ge",
        "colab_type": "code",
        "colab": {
          "base_uri": "https://localhost:8080/",
          "height": 34
        },
        "outputId": "615eda42-571a-443a-bf1f-e3618c7301ce"
      },
      "source": [
        "# weighted sum\n",
        "def w_sum(a,b):\n",
        "  assert (len(a) == len(b))\n",
        "  output = 0\n",
        "  for i in range(len(a)):\n",
        "    output += a[i] * b[i]\n",
        "  return output\n",
        "\n",
        "def neural_network(input,weights):\n",
        "  pred = w_sum(input,weights)\n",
        "  return pred\n",
        "\n",
        "weights = [0.1,0.2,0]\n",
        "\n",
        "# This dataset is the current\n",
        "# status at the beginning of\n",
        "# each game for the first 4 games\n",
        "# in a season.\n",
        "\n",
        "# toes = current number of toes\n",
        "# wlrec = current games won (percent)\n",
        "# nfans = fan count (in millions)\n",
        "\n",
        "toes = [8.5,9.5,9.9,9.0]\n",
        "wlrec = [0.65,0.8,0.8,0.9]\n",
        "nfans = [1.2,1.3,0.5,1.0]\n",
        "\n",
        "input = [toes[0],wlrec[0],nfans[0]]\n",
        "pred = neural_network(input,weights)\n",
        "print (pred)\n"
      ],
      "execution_count": 2,
      "outputs": [
        {
          "output_type": "stream",
          "text": [
            "0.9800000000000001\n"
          ],
          "name": "stdout"
        }
      ]
    },
    {
      "cell_type": "markdown",
      "metadata": {
        "id": "xgur-zcIeGvg",
        "colab_type": "text"
      },
      "source": [
        "# Numpy code"
      ]
    },
    {
      "cell_type": "code",
      "metadata": {
        "id": "07JLjteBd8ma",
        "colab_type": "code",
        "colab": {
          "base_uri": "https://localhost:8080/",
          "height": 34
        },
        "outputId": "bc0a6ac7-5a7f-49f2-c37f-72365c34929c"
      },
      "source": [
        "import numpy as np\n",
        "weights = np.array([0.1,0.2,0.0])\n",
        "def neural_network(input,weights):\n",
        "  pred = np.dot(input,weights)\n",
        "  return pred\n",
        "\n",
        "toes = np.array([8.5,9.5,9.9,9.0])\n",
        "wlrec = np.array([0.65,0.8,0.8,0.9])\n",
        "nfans = np.array([1.2,1.3,0.5,1.0])\n",
        "\n",
        "input = np.array([toes[0],wlrec[0],nfans[0]])\n",
        "pred = neural_network(input,weights)\n",
        "\n",
        "print (pred)\n"
      ],
      "execution_count": 3,
      "outputs": [
        {
          "output_type": "stream",
          "text": [
            "0.9800000000000001\n"
          ],
          "name": "stdout"
        }
      ]
    },
    {
      "cell_type": "markdown",
      "metadata": {
        "id": "f4AhdJJMjjDi",
        "colab_type": "text"
      },
      "source": [
        "# Making a prediction with multiple outputs"
      ]
    },
    {
      "cell_type": "code",
      "metadata": {
        "id": "p-rGv_rSev_J",
        "colab_type": "code",
        "colab": {
          "base_uri": "https://localhost:8080/",
          "height": 34
        },
        "outputId": "f7aa83e5-c781-4c98-9bee-0c117ea16103"
      },
      "source": [
        "# Instead of predicting just \n",
        "# whether the team won or lost, \n",
        "# now we're also predicting whether\n",
        "# they are happy/sad AND the percentage\n",
        "# of the team that is hurt. We are\n",
        "# making this prediction using only\n",
        "# the current win/loss record.\n",
        "\n",
        "def elementwise_mul(number,vector):\n",
        "  output = [0,0,0]\n",
        "  assert (len(output) == len(vector))\n",
        "  for i in range(len(vector)):\n",
        "    output[i] = number * vector[i]\n",
        "  return output\n",
        "\n",
        "weights = [0.3,0.2,0.9]\n",
        "\n",
        "def neural_network(input,weights):\n",
        "  pred = elementwise_mul(input,weights)\n",
        "  return pred\n",
        "\n",
        "wlrec = [0.65,0.8,0.8,0.9]\n",
        "input = wlrec[0]\n",
        "pred = neural_network(input,weights)\n",
        "\n",
        "print (pred)\n"
      ],
      "execution_count": 5,
      "outputs": [
        {
          "output_type": "stream",
          "text": [
            "[0.195, 0.13, 0.5850000000000001]\n"
          ],
          "name": "stdout"
        }
      ]
    },
    {
      "cell_type": "markdown",
      "metadata": {
        "id": "zbnSxRuEkdyq",
        "colab_type": "text"
      },
      "source": [
        "# Predicting with multiple inputs and multiple outputs\n"
      ]
    },
    {
      "cell_type": "code",
      "metadata": {
        "id": "UWJzdWQNkYy_",
        "colab_type": "code",
        "colab": {
          "base_uri": "https://localhost:8080/",
          "height": 34
        },
        "outputId": "c16e966b-bcb6-4bcb-f954-e0b7224164fa"
      },
      "source": [
        "#inputs    #toes #win #fans\n",
        "weights = [[0.1, 0.1, -0.3],    # hurt?\n",
        "           [0.1, 0.2, 0.0],     # win?\n",
        "           [0.0, 1.3, 0.1]]     # sad?\n",
        "\n",
        "def w_sum(a,b):\n",
        "  assert (len(a) == len(b))\n",
        "  output = 0\n",
        "  for i in range(len(a)):\n",
        "    output += a[i] * b[i]\n",
        "  return output\n",
        "\n",
        "def vec_mat_mul(vect,matrix):\n",
        "  assert (len(vect) == len(matrix))\n",
        "  output = [0,0,0]\n",
        "  for i in range(len(vect)):\n",
        "    output[i] = w_sum(vect,matrix[i])\n",
        "  return output\n",
        "\n",
        "def neural_network(input,weights):\n",
        "  pred = vec_mat_mul(input,weights)\n",
        "  return pred\n",
        "\n",
        "# This dataset is the current\n",
        "# status at the beginning of\n",
        "# each game for the first 4 games\n",
        "# in a season.\n",
        "\n",
        "# toes = current number of toes\n",
        "# wlrec = current games won (percent)\n",
        "# nfans = fan count (in millions)\n",
        "\n",
        "toes =  [8.5, 9.5, 9.9, 9.0]\n",
        "wlrec = [0.65,0.8, 0.8, 0.9]\n",
        "nfans = [1.2, 1.3, 0.5, 1.0]\n",
        "\n",
        "# Input corresponds to every entry\n",
        "# for the first game of the season.\n",
        "\n",
        "input = [toes[0],wlrec[0],nfans[0]]\n",
        "pred = neural_network(input,weights)\n",
        "\n",
        "print (pred)"
      ],
      "execution_count": 6,
      "outputs": [
        {
          "output_type": "stream",
          "text": [
            "[0.555, 0.9800000000000001, 0.9650000000000001]\n"
          ],
          "name": "stdout"
        }
      ]
    },
    {
      "cell_type": "markdown",
      "metadata": {
        "id": "S3xSns1Xn9So",
        "colab_type": "text"
      },
      "source": [
        "# Predicting on Predictions\n",
        "### Adding a hidden layer"
      ]
    },
    {
      "cell_type": "code",
      "metadata": {
        "id": "QvvW-XmYmPKr",
        "colab_type": "code",
        "colab": {
          "base_uri": "https://localhost:8080/",
          "height": 34
        },
        "outputId": "f30adf15-8217-4d56-97f2-08f3db204224"
      },
      "source": [
        "#         #toes #win #fans\n",
        "ih_wgt = [[0.1, 0.2, -0.1],     # hid[0]?\n",
        "           [-0.1, 0.1, 0.9],    # hid[1]?\n",
        "           [0.1, 0.4, 0.1]]     # hid[2]?\n",
        "\n",
        "#         #hid[0] #hid[1] #hid[2]\n",
        "hp_wgt = [[0.3, 1.1, -0.3],     # hurt?\n",
        "           [0.2, 0.2, 0.0],     # win?\n",
        "           [0.0, 1.3, 0.1]]     # sad?\n",
        "\n",
        "\n",
        "weights = [ih_wgt, hp_wgt]\n",
        "\n",
        "def neural_network(input,weights):\n",
        "  hid = vec_mat_mul(input, weights[0])\n",
        "  pred = vec_mat_mul(hid,weights[1])\n",
        "  return pred\n",
        "\n",
        "toes =  [8.5, 9.5, 9.9, 9.0]\n",
        "wlrec = [0.65,0.8, 0.8, 0.9]\n",
        "nfans = [1.2, 1.3, 0.5, 1.0]\n",
        "\n",
        "input = [toes[0],wlrec[0],nfans[0]]\n",
        "pred = neural_network(input,weights)\n",
        "\n",
        "print (pred)"
      ],
      "execution_count": 9,
      "outputs": [
        {
          "output_type": "stream",
          "text": [
            "[0.21350000000000002, 0.23100000000000004, 0.5065]\n"
          ],
          "name": "stdout"
        }
      ]
    },
    {
      "cell_type": "markdown",
      "metadata": {
        "id": "R54p9fngpX35",
        "colab_type": "text"
      },
      "source": [
        "# Numpy version"
      ]
    },
    {
      "cell_type": "code",
      "metadata": {
        "id": "CorrlJHvmYl6",
        "colab_type": "code",
        "colab": {
          "base_uri": "https://localhost:8080/",
          "height": 34
        },
        "outputId": "a762a9eb-998a-4aca-9fa1-26950442c01f"
      },
      "source": [
        "import numpy as np\n",
        "\n",
        "#toes %win #fans\n",
        "ih_wgt = np.array([ \n",
        "            [0.1, 0.2, -0.1], #hid[0]\n",
        "            [-0.1,0.1, 0.9], #hid[1]\n",
        "            [0.1, 0.4, 0.1]]).T #hid[2]\n",
        "\n",
        "\n",
        "# hid[0] hid[1] hid[2]\n",
        "hp_wgt = np.array([  \n",
        "            [0.3, 1.1, -0.3], #hurt?\n",
        "            [0.1, 0.2, 0.0], #win?\n",
        "            [0.0, 1.3, 0.1] ]).T #sad?\n",
        "\n",
        "weights = [ih_wgt, hp_wgt]\n",
        "\n",
        "def neural_network(input,weights):\n",
        "  hid = np.dot(input,weights[0])\n",
        "  pred = np.dot(hid,weights[1])\n",
        "  return pred\n",
        "\n",
        "toes =  np.array([8.5, 9.5, 9.9, 9.0])\n",
        "wlrec = np.array([0.65,0.8, 0.8, 0.9])\n",
        "nfans = np.array([1.2, 1.3, 0.5, 1.0])\n",
        "\n",
        "input = np.array([toes[0],wlrec[0],nfans[0]])\n",
        "pred = neural_network(input,weights)\n",
        "\n",
        "print (pred)\n"
      ],
      "execution_count": 11,
      "outputs": [
        {
          "output_type": "stream",
          "text": [
            "[0.2135 0.145  0.5065]\n"
          ],
          "name": "stdout"
        }
      ]
    },
    {
      "cell_type": "markdown",
      "metadata": {
        "id": "kBYPHtR7voV-",
        "colab_type": "text"
      },
      "source": [
        "# Brushing up Numpy"
      ]
    },
    {
      "cell_type": "code",
      "metadata": {
        "id": "YS4ZqSg1qJK1",
        "colab_type": "code",
        "colab": {
          "base_uri": "https://localhost:8080/",
          "height": 153
        },
        "outputId": "8d85e333-c95c-4cc4-b678-2121d502e12b"
      },
      "source": [
        "import numpy as np\n",
        "a = np.array([0,1,2,3]) # a vector\n",
        "b = np.array([4,5,6,7]) # a vector\n",
        "c = np.array([[0,1,2,3],\n",
        "              [4,5,6,7]]) # a matrix\n",
        "\n",
        "d = np.zeros((2,4))   # (2x4) matrix of zeros\n",
        "e = np.random.rand(2,5)   # random (2x5) matrix \n",
        "\n",
        "print (a)\n",
        "print (b)\n",
        "print (c)\n",
        "print (d)\n",
        "print (e)\n",
        "\n",
        "\n"
      ],
      "execution_count": 14,
      "outputs": [
        {
          "output_type": "stream",
          "text": [
            "[0 1 2 3]\n",
            "[4 5 6 7]\n",
            "[[0 1 2 3]\n",
            " [4 5 6 7]]\n",
            "[[0. 0. 0. 0.]\n",
            " [0. 0. 0. 0.]]\n",
            "[[0.43506592 0.8209236  0.18582937 0.40994848 0.83127374]\n",
            " [0.43845339 0.47079375 0.25043299 0.74533351 0.91331647]]\n"
          ],
          "name": "stdout"
        }
      ]
    },
    {
      "cell_type": "code",
      "metadata": {
        "id": "9zCyzPw5xOvY",
        "colab_type": "code",
        "colab": {
          "base_uri": "https://localhost:8080/",
          "height": 136
        },
        "outputId": "04a9bbf7-ec5e-4af7-c2c1-cc1c15ec3c16"
      },
      "source": [
        "print (a * 0.01)  # multiplies every number in vector \"a\" by 0.01\n",
        "print (c * 0.2)   # multiplies every number in matrix \"c\" by 0.2\n",
        "print (a * b)     # multiplies elementwise between a and b (columns paired up)\n",
        "print (a * b * 0.2) # elemeentwise multiplication and then multiplied by 0.2\n",
        "print (a * c)     # elementwise multiplication on every row of matrix c"
      ],
      "execution_count": 15,
      "outputs": [
        {
          "output_type": "stream",
          "text": [
            "[0.   0.01 0.02 0.03]\n",
            "[[0.  0.2 0.4 0.6]\n",
            " [0.8 1.  1.2 1.4]]\n",
            "[ 0  5 12 21]\n",
            "[0.  1.  2.4 4.2]\n",
            "[[ 0  1  4  9]\n",
            " [ 0  5 12 21]]\n"
          ],
          "name": "stdout"
        }
      ]
    },
    {
      "cell_type": "code",
      "metadata": {
        "id": "ipW69n_UySta",
        "colab_type": "code",
        "colab": {
          "base_uri": "https://localhost:8080/",
          "height": 34
        },
        "outputId": "02703b9e-1d23-4fde-fb23-6048640380aa"
      },
      "source": [
        "a = np.zeros((2,4))\n",
        "b = np.zeros((4,3))\n",
        "c = np.dot(a,b)\n",
        "print (c.shape)"
      ],
      "execution_count": 16,
      "outputs": [
        {
          "output_type": "stream",
          "text": [
            "(2, 3)\n"
          ],
          "name": "stdout"
        }
      ]
    },
    {
      "cell_type": "code",
      "metadata": {
        "id": "17jNMkGozIrW",
        "colab_type": "code",
        "colab": {
          "base_uri": "https://localhost:8080/",
          "height": 34
        },
        "outputId": "9662ff3d-368b-4df5-a8a8-4d4b5f0e919d"
      },
      "source": [
        "a = np.zeros((5,4)).T   # matrix with 5 rows and 4 columns, transposed matrix(4x5)\n",
        "b = np.zeros((5,3))     # matrix with 5 rows and 3 columns\n",
        "c = np.dot(a,b)\n",
        "print (c.shape)"
      ],
      "execution_count": 18,
      "outputs": [
        {
          "output_type": "stream",
          "text": [
            "(4, 3)\n"
          ],
          "name": "stdout"
        }
      ]
    },
    {
      "cell_type": "code",
      "metadata": {
        "id": "yypFNWH4zjar",
        "colab_type": "code",
        "colab": {}
      },
      "source": [
        ""
      ],
      "execution_count": null,
      "outputs": []
    }
  ]
}