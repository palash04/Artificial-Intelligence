{
  "nbformat": 4,
  "nbformat_minor": 0,
  "metadata": {
    "colab": {
      "name": "_04_Intro_to_Backpropagation.ipynb",
      "provenance": [],
      "authorship_tag": "ABX9TyM3vGvlhPdybujIRraalIN6",
      "include_colab_link": true
    },
    "kernelspec": {
      "name": "python3",
      "display_name": "Python 3"
    }
  },
  "cells": [
    {
      "cell_type": "markdown",
      "metadata": {
        "id": "view-in-github",
        "colab_type": "text"
      },
      "source": [
        "<a href=\"https://colab.research.google.com/github/palash04/Artificial-Intelligence/blob/master/Grokking_Deep_Learning/_04_Intro_to_Backpropagation.ipynb\" target=\"_parent\"><img src=\"https://colab.research.google.com/assets/colab-badge.svg\" alt=\"Open In Colab\"/></a>"
      ]
    },
    {
      "cell_type": "markdown",
      "metadata": {
        "id": "FjhNI3BdopcK",
        "colab_type": "text"
      },
      "source": [
        "# Creating a matrix in python\n"
      ]
    },
    {
      "cell_type": "code",
      "metadata": {
        "id": "8ie5oUxmoHcM",
        "colab_type": "code",
        "colab": {
          "base_uri": "https://localhost:8080/",
          "height": 357
        },
        "outputId": "319f1cf8-a828-433c-9f54-2a5f0c83b05f"
      },
      "source": [
        "import numpy as np\n",
        "weights = np.array([0.5,0.48,-0.7])\n",
        "alpha = 0.1\n",
        "\n",
        "streetlights = np.array( [ [ 1, 0, 1 ],\n",
        "                           [ 0, 1, 1 ],\n",
        "                           [ 0, 0, 1 ],\n",
        "                           [ 1, 1, 1 ],\n",
        "                           [ 0, 1, 1 ],\n",
        "                           [ 1, 0, 1 ] ] )\n",
        "\n",
        "walk_vs_stop = np.array([0,1,0,1,1,0])\n",
        "\n",
        "input = streetlights[0]\n",
        "goal_pred = walk_vs_stop[0]\n",
        "\n",
        "for i in range(20):\n",
        "  pred = np.dot(input,weights)\n",
        "  error = (pred - goal_pred) ** 2\n",
        "  delta = pred - goal_pred\n",
        "  weights = weights - (alpha * (delta * input))\n",
        "  print ('Error: {:.6f} \\t Prediction: {:.6f}'.format(error,pred))"
      ],
      "execution_count": 5,
      "outputs": [
        {
          "output_type": "stream",
          "text": [
            "Error: 0.040000 \t Prediction: -0.200000\n",
            "Error: 0.025600 \t Prediction: -0.160000\n",
            "Error: 0.016384 \t Prediction: -0.128000\n",
            "Error: 0.010486 \t Prediction: -0.102400\n",
            "Error: 0.006711 \t Prediction: -0.081920\n",
            "Error: 0.004295 \t Prediction: -0.065536\n",
            "Error: 0.002749 \t Prediction: -0.052429\n",
            "Error: 0.001759 \t Prediction: -0.041943\n",
            "Error: 0.001126 \t Prediction: -0.033554\n",
            "Error: 0.000721 \t Prediction: -0.026844\n",
            "Error: 0.000461 \t Prediction: -0.021475\n",
            "Error: 0.000295 \t Prediction: -0.017180\n",
            "Error: 0.000189 \t Prediction: -0.013744\n",
            "Error: 0.000121 \t Prediction: -0.010995\n",
            "Error: 0.000077 \t Prediction: -0.008796\n",
            "Error: 0.000050 \t Prediction: -0.007037\n",
            "Error: 0.000032 \t Prediction: -0.005629\n",
            "Error: 0.000020 \t Prediction: -0.004504\n",
            "Error: 0.000013 \t Prediction: -0.003603\n",
            "Error: 0.000008 \t Prediction: -0.002882\n"
          ],
          "name": "stdout"
        }
      ]
    },
    {
      "cell_type": "markdown",
      "metadata": {
        "id": "EcG_CH0o38be",
        "colab_type": "text"
      },
      "source": [
        "#  First Deep Neural Network"
      ]
    },
    {
      "cell_type": "code",
      "metadata": {
        "id": "EPrgezr2pxVr",
        "colab_type": "code",
        "colab": {
          "base_uri": "https://localhost:8080/",
          "height": 34
        },
        "outputId": "260f70e0-6378-43d3-b535-9104854cdbbe"
      },
      "source": [
        "import numpy as np\n",
        "\n",
        "np.random.seed(1)\n",
        "\n",
        "def relu(x):\n",
        "  return (x > 0) * x\n",
        "\n",
        "alpha = 0.2\n",
        "hidden_size = 4\n",
        "\n",
        "streetlights = np.array([[1,0,1],\n",
        "                         [0,1,1],\n",
        "                         [0,0,1],\n",
        "                         [1,1,1]])\n",
        "\n",
        "walk_vs_stop = np.array([[1,1,0,0]]).T\n",
        "\n",
        "weights_0_1 = 2*np.random.random((3,hidden_size))-1\n",
        "weights_1_2 = 2*np.random.random((hidden_size,1))-1\n",
        "\n",
        "layer_0 = streetlights[0]\n",
        "layer_1 = relu(np.dot(layer_0,weights_0_1))\n",
        "layer_2 = np.dot(layer_1,weights_1_2)\n",
        "\n",
        "layer_2"
      ],
      "execution_count": 13,
      "outputs": [
        {
          "output_type": "execute_result",
          "data": {
            "text/plain": [
              "array([0.39194327])"
            ]
          },
          "metadata": {
            "tags": []
          },
          "execution_count": 13
        }
      ]
    },
    {
      "cell_type": "markdown",
      "metadata": {
        "id": "MBsXJ8h157S8",
        "colab_type": "text"
      },
      "source": [
        "# Backpropagation in code"
      ]
    },
    {
      "cell_type": "code",
      "metadata": {
        "id": "GWikrJey4hPt",
        "colab_type": "code",
        "colab": {
          "base_uri": "https://localhost:8080/",
          "height": 119
        },
        "outputId": "058b433c-3ae4-452e-c577-6b3f48d63579"
      },
      "source": [
        "import numpy as np\n",
        "\n",
        "np.random.seed(1)\n",
        "\n",
        "def relu(x):\n",
        "  return (x>0) * x\n",
        "\n",
        "def relu2deriv(output):\n",
        "  return output > 0\n",
        "\n",
        "alpha = 0.2\n",
        "hidden_size = 4\n",
        "\n",
        "streetlights = np.array([[1,0,1],\n",
        "                         [0,1,1],\n",
        "                         [0,0,1],\n",
        "                         [1,1,1]])\n",
        "\n",
        "walk_vs_stop = np.array([[1,1,0,0]]).T\n",
        "\n",
        "weights_0_1 = 2*np.random.random((3,hidden_size))-1\n",
        "weights_1_2 = 2*np.random.random((hidden_size,1))-1\n",
        "\n",
        "epochs = 60\n",
        "\n",
        "for epoch in range(1,epochs+1):\n",
        "  layer_2_error = 0\n",
        "  for i in range(len(streetlights)):\n",
        "    layer_0 = streetlights[i:i+1]\n",
        "    layer_1 = relu(np.dot(layer_0,weights_0_1))\n",
        "    layer_2 = np.dot(layer_1,weights_1_2)\n",
        "\n",
        "    layer_2_error += np.sum((layer_2 - walk_vs_stop[i:i+1]) ** 2 )\n",
        "    layer_2_delta = (walk_vs_stop[i:i+1] - layer_2)\n",
        "    layer_1_delta = np.dot(layer_2_delta , (weights_1_2.T)*relu2deriv(layer_1))\n",
        "\n",
        "    weights_1_2 += alpha * np.dot(layer_1.T, layer_2_delta)\n",
        "    weights_0_1 += alpha * np.dot(layer_0.T, layer_1_delta)\n",
        "\n",
        "  if epoch % 10 == 0:\n",
        "    print ('Error: {:.6f}'.format(layer_2_error))"
      ],
      "execution_count": 47,
      "outputs": [
        {
          "output_type": "stream",
          "text": [
            "Error: 0.634231\n",
            "Error: 0.358384\n",
            "Error: 0.083018\n",
            "Error: 0.006467\n",
            "Error: 0.000329\n",
            "Error: 0.000015\n"
          ],
          "name": "stdout"
        }
      ]
    },
    {
      "cell_type": "code",
      "metadata": {
        "id": "eFxBsEuNSN6w",
        "colab_type": "code",
        "colab": {}
      },
      "source": [
        ""
      ],
      "execution_count": null,
      "outputs": []
    }
  ]
}