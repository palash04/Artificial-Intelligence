{
  "nbformat": 4,
  "nbformat_minor": 0,
  "metadata": {
    "colab": {
      "name": "_03_Grad_Descent_with_multiple_weights_at_a_time.ipynb",
      "provenance": [],
      "authorship_tag": "ABX9TyM2xZ1U9Ww1/XEf+TuNWJ5w",
      "include_colab_link": true
    },
    "kernelspec": {
      "name": "python3",
      "display_name": "Python 3"
    }
  },
  "cells": [
    {
      "cell_type": "markdown",
      "metadata": {
        "id": "view-in-github",
        "colab_type": "text"
      },
      "source": [
        "<a href=\"https://colab.research.google.com/github/palash04/Artificial-Intelligence/blob/master/Grokking_Deep_Learning/_03_Grad_Descent_with_multiple_weights_at_a_time.ipynb\" target=\"_parent\"><img src=\"https://colab.research.google.com/assets/colab-badge.svg\" alt=\"Open In Colab\"/></a>"
      ]
    },
    {
      "cell_type": "markdown",
      "metadata": {
        "id": "Hxz-oPMpXA8R",
        "colab_type": "text"
      },
      "source": [
        "# Gradient descent learning with multiple inputs"
      ]
    },
    {
      "cell_type": "code",
      "metadata": {
        "id": "CWe8oN6fR3Pe",
        "colab_type": "code",
        "colab": {
          "base_uri": "https://localhost:8080/",
          "height": 425
        },
        "outputId": "3565e526-c1cd-490c-d166-1f2788e6b115"
      },
      "source": [
        "def w_sum(a,b):\n",
        "  assert (len(a) == len(b))\n",
        "  output = 0.0\n",
        "  for i in range(len(a)):\n",
        "    output += a[i] * b[i];\n",
        "  return output\n",
        "\n",
        "weights = [0.1,0.2,-0.1]\n",
        "\n",
        "def neural_network(input,weights):\n",
        "  pred = w_sum(input,weights)\n",
        "  return pred\n",
        "\n",
        "def ele_mul(number,vector):\n",
        "  output = [0,0,0]\n",
        "  assert (len(output) == len(vector))\n",
        "\n",
        "  for i in range(len(output)):\n",
        "    output[i] = number * vector[i]\n",
        "  return output\n",
        "\n",
        "toes =  [8.5, 9.5, 9.9, 9.0]\n",
        "wlrec = [0.65, 0.8, 0.8, 0.9]\n",
        "nfans = [1.2, 1.3, 0.5, 1.0]\n",
        "\n",
        "win_or_lose_binary = [1,1,0,1]\n",
        "\n",
        "true = win_or_lose_binary[0]\n",
        "\n",
        "input = [toes[0],wlrec[0],nfans[0]]\n",
        "\n",
        "alpha = 0.01\n",
        "\n",
        "for i in range(3):\n",
        "  pred = neural_network(input,weights)\n",
        "  error = (pred-true) ** 2\n",
        "  delta = pred - true\n",
        "  weight_deltas = ele_mul(delta,input)\n",
        "\n",
        "  print(\"Iteration:\" + str(i+1))\n",
        "  print(\"Pred:\" + str(pred))\n",
        "  print(\"Error:\" + str(error))\n",
        "  print(\"Delta:\" + str(delta))\n",
        "  print(\"Weights:\" + str(weights))\n",
        "  print(\"Weight_Deltas:\")\n",
        "  print(str(weight_deltas))\n",
        "  print ()\n",
        "\n",
        "  for i in range(len(weights)):\n",
        "    weights[i] -= alpha * weight_deltas[i]"
      ],
      "execution_count": 3,
      "outputs": [
        {
          "output_type": "stream",
          "text": [
            "Iteration:1\n",
            "Pred:0.8600000000000001\n",
            "Error:0.01959999999999997\n",
            "Delta:-0.1399999999999999\n",
            "Weights:[0.1, 0.2, -0.1]\n",
            "Weight_Deltas:\n",
            "[-1.189999999999999, -0.09099999999999994, -0.16799999999999987]\n",
            "\n",
            "Iteration:2\n",
            "Pred:0.9637574999999999\n",
            "Error:0.0013135188062500048\n",
            "Delta:-0.036242500000000066\n",
            "Weights:[0.1119, 0.20091, -0.09832]\n",
            "Weight_Deltas:\n",
            "[-0.30806125000000056, -0.023557625000000044, -0.04349100000000008]\n",
            "\n",
            "Iteration:3\n",
            "Pred:0.9906177228125002\n",
            "Error:8.802712522307997e-05\n",
            "Delta:-0.009382277187499843\n",
            "Weights:[0.11498061250000001, 0.20114557625, -0.09788509000000001]\n",
            "Weight_Deltas:\n",
            "[-0.07974935609374867, -0.006098480171874899, -0.011258732624999811]\n",
            "\n"
          ],
          "name": "stdout"
        }
      ]
    },
    {
      "cell_type": "markdown",
      "metadata": {
        "id": "32QlrBw9bCdi",
        "colab_type": "text"
      },
      "source": [
        "# Freezing one weight - What does it do?"
      ]
    },
    {
      "cell_type": "code",
      "metadata": {
        "id": "2PXsXcAFYbWb",
        "colab_type": "code",
        "colab": {
          "base_uri": "https://localhost:8080/",
          "height": 425
        },
        "outputId": "d454e756-5ce1-4c02-ba56-440b7236c728"
      },
      "source": [
        "def w_sum(a,b):\n",
        "  assert (len(a) == len(b))\n",
        "  output = 0.0\n",
        "  for i in range(len(a)):\n",
        "    output += a[i] * b[i];\n",
        "  return output\n",
        "\n",
        "weights = [0.1,0.2,-0.1]\n",
        "\n",
        "def neural_network(input,weights):\n",
        "  pred = w_sum(input,weights)\n",
        "  return pred\n",
        "\n",
        "def ele_mul(number,vector):\n",
        "  output = [0,0,0]\n",
        "  assert (len(output) == len(vector))\n",
        "\n",
        "  for i in range(len(output)):\n",
        "    output[i] = number * vector[i]\n",
        "  return output\n",
        "\n",
        "toes =  [8.5, 9.5, 9.9, 9.0]\n",
        "wlrec = [0.65, 0.8, 0.8, 0.9]\n",
        "nfans = [1.2, 1.3, 0.5, 1.0]\n",
        "\n",
        "win_or_lose_binary = [1, 1, 0, 1]\n",
        "true = win_or_lose_binary[0]\n",
        "\n",
        "alpha = 0.3\n",
        "weights = [0.1, 0.2, -.1]\n",
        "input = [toes[0],wlrec[0],nfans[0]]\n",
        "\n",
        "for i in range(3):\n",
        "  pred = neural_network(input,weights)\n",
        "  error = (pred-true) ** 2\n",
        "  delta = pred - true\n",
        "  weight_deltas = ele_mul(delta,input)\n",
        "  weight_deltas[0] = 0\n",
        "  print(\"Iteration:\" + str(i+1))\n",
        "  print(\"Pred:\" + str(pred))\n",
        "  print(\"Error:\" + str(error))\n",
        "  print(\"Delta:\" + str(delta))\n",
        "  print(\"Weights:\" + str(weights))\n",
        "  print(\"Weight_Deltas:\")\n",
        "  print(str(weight_deltas))\n",
        "  print ()\n",
        "\n",
        "  for i in range(len(weights)):\n",
        "    weights[i] -= alpha * weight_deltas[i]"
      ],
      "execution_count": 6,
      "outputs": [
        {
          "output_type": "stream",
          "text": [
            "Iteration:1\n",
            "Pred:0.8600000000000001\n",
            "Error:0.01959999999999997\n",
            "Delta:-0.1399999999999999\n",
            "Weights:[0.1, 0.2, -0.1]\n",
            "Weight_Deltas:\n",
            "[0, -0.09099999999999994, -0.16799999999999987]\n",
            "\n",
            "Iteration:2\n",
            "Pred:0.9382250000000001\n",
            "Error:0.003816150624999989\n",
            "Delta:-0.06177499999999991\n",
            "Weights:[0.1, 0.2273, -0.04960000000000005]\n",
            "Weight_Deltas:\n",
            "[0, -0.040153749999999946, -0.07412999999999989]\n",
            "\n",
            "Iteration:3\n",
            "Pred:0.97274178125\n",
            "Error:0.000743010489422852\n",
            "Delta:-0.027258218750000007\n",
            "Weights:[0.1, 0.239346125, -0.02736100000000008]\n",
            "Weight_Deltas:\n",
            "[0, -0.017717842187500006, -0.032709862500000006]\n",
            "\n"
          ],
          "name": "stdout"
        }
      ]
    },
    {
      "cell_type": "markdown",
      "metadata": {
        "id": "680yJftMcW6a",
        "colab_type": "text"
      },
      "source": [
        "# Gradient descent learning with multiple outputs\n"
      ]
    },
    {
      "cell_type": "code",
      "metadata": {
        "id": "gPXcmk29bHUI",
        "colab_type": "code",
        "colab": {
          "base_uri": "https://localhost:8080/",
          "height": 51
        },
        "outputId": "c234ccef-af47-4ec2-ea2d-ce0a4eb697ca"
      },
      "source": [
        "def ele_mul(number,vec):\n",
        "  output = [0,0,0]\n",
        "  for i in range(len(output)):\n",
        "    output[i] = number * vec[i]\n",
        "  return output\n",
        "\n",
        "def neural_network(input,weights):\n",
        "  pred = ele_mul(input,weights)\n",
        "  return pred\n",
        "\n",
        "weights = [0.3, 0.2, 0.9]\n",
        "\n",
        "wlrec = [0.65, 1.0, 1.0, 0.9]\n",
        "\n",
        "hurt  = [0.1, 0.0, 0.0, 0.1]\n",
        "win   = [  1,   1,   0,   1]\n",
        "sad   = [0.1, 0.0, 0.1, 0.2]\n",
        "\n",
        "input = wlrec[0]\n",
        "true = [hurt[0], win[0], sad[0]]\n",
        "\n",
        "pred = neural_network(input,weights)\n",
        "error = [0,0,0]\n",
        "delta = [0,0,0]\n",
        "\n",
        "for i in range(len(error)):\n",
        "  error[i] = (pred[i] - true[i]) ** 2\n",
        "  delta[i] = (pred[i] - true[i])\n",
        "\n",
        "weight_deltas = ele_mul(input,delta)\n",
        "alpha = 0.1\n",
        "\n",
        "for i in range(len(weights)):\n",
        "  weights[i] -= (weight_deltas[i] * alpha)\n",
        "\n",
        "print ('Weights:', str(weights))\n",
        "print ('Weight Deltas:',str(weight_deltas))\n",
        "\n"
      ],
      "execution_count": 8,
      "outputs": [
        {
          "output_type": "stream",
          "text": [
            "Weights: [0.293825, 0.25655, 0.868475]\n",
            "Weight Deltas: [0.061750000000000006, -0.5655, 0.3152500000000001]\n"
          ],
          "name": "stdout"
        }
      ]
    },
    {
      "cell_type": "markdown",
      "metadata": {
        "id": "XGpaAn9Ffql2",
        "colab_type": "text"
      },
      "source": [
        "# Gradient descent with multiple inputs and outputs"
      ]
    },
    {
      "cell_type": "code",
      "metadata": {
        "id": "qstgVrZ7d6As",
        "colab_type": "code",
        "colab": {
          "base_uri": "https://localhost:8080/",
          "height": 68
        },
        "outputId": "37ded1fd-6962-4de8-c1b9-251daf53973d"
      },
      "source": [
        "def cal(i_vec,delta):\n",
        "  output = 0.0\n",
        "  for i in range(len(i_vec)):\n",
        "    output += i_vec[i] * delta\n",
        "  return output\n",
        "\n",
        "def vec_mul(a,b):\n",
        "  assert (len(a) == len(b))\n",
        "  output = 0.0\n",
        "  for i in range(len(a)):\n",
        "    output += a[i] * b[i]\n",
        "  return output\n",
        "\n",
        "def ele_mul(a,b):\n",
        "  assert(len(a) == len(b))\n",
        "  output = [0,0,0]\n",
        "  for i in range(len(output)):\n",
        "    output[i] = vec_mul(a,b[i])\n",
        "  return output\n",
        "\n",
        "def neural_network(intput,weights):\n",
        "  pred = ele_mul(input,weights)\n",
        "  return pred\n",
        "\n",
        "weights = [ [0.1, 0.1, -0.3],#hurt?\n",
        "            [0.1, 0.2, 0.0], #win?\n",
        "            [0.0, 1.3, 0.1] ]#sad?\n",
        "\n",
        "toes  = [8.5, 9.5, 9.9, 9.0]\n",
        "wlrec = [0.65,0.8, 0.8, 0.9]\n",
        "nfans = [1.2, 1.3, 0.5, 1.0]\n",
        "\n",
        "hurt  = [0.1, 0.0, 0.0, 0.1]\n",
        "win   = [  1,   1,   0,   1]\n",
        "sad   = [0.1, 0.0, 0.1, 0.2]\n",
        "\n",
        "alpha = 0.01\n",
        "\n",
        "input = [toes[0],wlrec[0],nfans[0]]\n",
        "true = [hurt[0],win[0],sad[0]]\n",
        "\n",
        "pred = neural_network(input,weights)\n",
        "\n",
        "error = [0,0,0]\n",
        "delta = [0,0,0]\n",
        "\n",
        "for i in range(len(error)):\n",
        "  error[i] = (pred[i] - true[i]) ** 2\n",
        "  delta[i] = (pred[i] - true[i])\n",
        "\n",
        "weight_deltas = []\n",
        "for i in range(3):\n",
        "  wi = cal(input,delta[i])\n",
        "  weight_deltas.append(wi)\n",
        "\n",
        "\n",
        "for i in range(len(weights)):\n",
        "  for j in range(len(weights[0])):\n",
        "    weights[i][j] -= weight_deltas[i] * alpha\n",
        "\n",
        "weights"
      ],
      "execution_count": 15,
      "outputs": [
        {
          "output_type": "execute_result",
          "data": {
            "text/plain": [
              "[[0.052907499999999996, 0.052907499999999996, -0.3470925],\n",
              " [0.10207, 0.20207, 0.0020699999999999903],\n",
              " [-0.08952750000000002, 1.2104725, 0.010472499999999982]]"
            ]
          },
          "metadata": {
            "tags": []
          },
          "execution_count": 15
        }
      ]
    },
    {
      "cell_type": "code",
      "metadata": {
        "id": "3H1ND2F3i92o",
        "colab_type": "code",
        "colab": {}
      },
      "source": [
        ""
      ],
      "execution_count": null,
      "outputs": []
    }
  ]
}