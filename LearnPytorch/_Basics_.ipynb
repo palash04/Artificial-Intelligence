{
  "nbformat": 4,
  "nbformat_minor": 0,
  "metadata": {
    "colab": {
      "name": "_Basics_.ipynb",
      "provenance": [],
      "collapsed_sections": [],
      "authorship_tag": "ABX9TyOsDhNDsPR3E5WHFN1tmqlI",
      "include_colab_link": true
    },
    "kernelspec": {
      "name": "python3",
      "display_name": "Python 3"
    },
    "accelerator": "GPU"
  },
  "cells": [
    {
      "cell_type": "markdown",
      "metadata": {
        "id": "view-in-github",
        "colab_type": "text"
      },
      "source": [
        "<a href=\"https://colab.research.google.com/github/palash04/Artificial-Intelligence/blob/master/LearnPytorch/_Basics_.ipynb\" target=\"_parent\"><img src=\"https://colab.research.google.com/assets/colab-badge.svg\" alt=\"Open In Colab\"/></a>"
      ]
    },
    {
      "cell_type": "markdown",
      "metadata": {
        "id": "DEOV8Q3w2_-M",
        "colab_type": "text"
      },
      "source": [
        "# Initializing tensors"
      ]
    },
    {
      "cell_type": "code",
      "metadata": {
        "id": "qjSlg1y_2_ri",
        "colab_type": "code",
        "colab": {}
      },
      "source": [
        "import torch"
      ],
      "execution_count": 2,
      "outputs": []
    },
    {
      "cell_type": "code",
      "metadata": {
        "id": "kbopDANKzr_W",
        "colab_type": "code",
        "colab": {
          "base_uri": "https://localhost:8080/",
          "height": 51
        },
        "outputId": "03bfe275-3b3e-4f91-910d-a9088b538993"
      },
      "source": [
        "device = 'cuda' if torch.cuda.is_available() else 'cpu'\n",
        "my_tensor = torch.tensor([[1,2,3],[4,5,6]], dtype = torch.float32,device=device, requires_grad=True)\n",
        "my_tensor"
      ],
      "execution_count": 4,
      "outputs": [
        {
          "output_type": "execute_result",
          "data": {
            "text/plain": [
              "tensor([[1., 2., 3.],\n",
              "        [4., 5., 6.]], device='cuda:0', requires_grad=True)"
            ]
          },
          "metadata": {
            "tags": []
          },
          "execution_count": 4
        }
      ]
    },
    {
      "cell_type": "code",
      "metadata": {
        "id": "-HrNj-Vz3QvB",
        "colab_type": "code",
        "colab": {
          "base_uri": "https://localhost:8080/",
          "height": 34
        },
        "outputId": "232f34bb-d619-4662-d6d5-0cee5ddc8d49"
      },
      "source": [
        "print (my_tensor.dtype)"
      ],
      "execution_count": 5,
      "outputs": [
        {
          "output_type": "stream",
          "text": [
            "torch.float32\n"
          ],
          "name": "stdout"
        }
      ]
    },
    {
      "cell_type": "code",
      "metadata": {
        "id": "8BIGtcB-4pZW",
        "colab_type": "code",
        "colab": {
          "base_uri": "https://localhost:8080/",
          "height": 34
        },
        "outputId": "a7fe543d-6be1-4372-c1ae-cf3d77e162cd"
      },
      "source": [
        "print (my_tensor.device)    # cuda:0 here number 0 specifies the nnumber of gpu on which it is on."
      ],
      "execution_count": 6,
      "outputs": [
        {
          "output_type": "stream",
          "text": [
            "cuda:0\n"
          ],
          "name": "stdout"
        }
      ]
    },
    {
      "cell_type": "code",
      "metadata": {
        "id": "Qbjn5zKY4ueT",
        "colab_type": "code",
        "colab": {
          "base_uri": "https://localhost:8080/",
          "height": 34
        },
        "outputId": "5325bcdf-86c8-4e23-82d4-00837ba53471"
      },
      "source": [
        "print (my_tensor.shape)"
      ],
      "execution_count": 7,
      "outputs": [
        {
          "output_type": "stream",
          "text": [
            "torch.Size([2, 3])\n"
          ],
          "name": "stdout"
        }
      ]
    },
    {
      "cell_type": "code",
      "metadata": {
        "id": "-HZOg4Kp5VPZ",
        "colab_type": "code",
        "colab": {
          "base_uri": "https://localhost:8080/",
          "height": 34
        },
        "outputId": "94324875-1e24-4d5e-d649-8d16a325957a"
      },
      "source": [
        "print (my_tensor.requires_grad)"
      ],
      "execution_count": 8,
      "outputs": [
        {
          "output_type": "stream",
          "text": [
            "True\n"
          ],
          "name": "stdout"
        }
      ]
    },
    {
      "cell_type": "code",
      "metadata": {
        "id": "V3jeM7he5X86",
        "colab_type": "code",
        "colab": {
          "base_uri": "https://localhost:8080/",
          "height": 68
        },
        "outputId": "ca100a29-690f-4ced-9423-ee6b92a92806"
      },
      "source": [
        "# other common initialization methods\n",
        "x = torch.empty(size=(3,3))\n",
        "print (x)"
      ],
      "execution_count": 9,
      "outputs": [
        {
          "output_type": "stream",
          "text": [
            "tensor([[1.4665e+08, 0.0000e+00, 3.3631e-44],\n",
            "        [0.0000e+00,        nan, 6.1657e-44],\n",
            "        [1.1578e+27, 1.1362e+30, 7.1547e+22]])\n"
          ],
          "name": "stdout"
        }
      ]
    },
    {
      "cell_type": "code",
      "metadata": {
        "id": "xGTQ8zv76Czz",
        "colab_type": "code",
        "colab": {
          "base_uri": "https://localhost:8080/",
          "height": 68
        },
        "outputId": "93a5f5f3-1273-42d9-a8ba-2f1db7df1106"
      },
      "source": [
        "x = torch.zeros((3,3))\n",
        "print (x)"
      ],
      "execution_count": 11,
      "outputs": [
        {
          "output_type": "stream",
          "text": [
            "tensor([[0., 0., 0.],\n",
            "        [0., 0., 0.],\n",
            "        [0., 0., 0.]])\n"
          ],
          "name": "stdout"
        }
      ]
    },
    {
      "cell_type": "code",
      "metadata": {
        "id": "2jmhHinh6GAe",
        "colab_type": "code",
        "colab": {
          "base_uri": "https://localhost:8080/",
          "height": 68
        },
        "outputId": "15c5d658-89f2-4e1d-dcdf-23afe724599f"
      },
      "source": [
        "x = torch.rand((3,3))     # random values between 0 and 1\n",
        "x"
      ],
      "execution_count": 12,
      "outputs": [
        {
          "output_type": "execute_result",
          "data": {
            "text/plain": [
              "tensor([[0.0818, 0.8393, 0.7035],\n",
              "        [0.8632, 0.8726, 0.9516],\n",
              "        [0.3581, 0.9061, 0.1675]])"
            ]
          },
          "metadata": {
            "tags": []
          },
          "execution_count": 12
        }
      ]
    },
    {
      "cell_type": "code",
      "metadata": {
        "id": "MwAIxd3x6SzE",
        "colab_type": "code",
        "colab": {
          "base_uri": "https://localhost:8080/",
          "height": 68
        },
        "outputId": "23a84bad-444c-44aa-ad8b-438ce7ed911d"
      },
      "source": [
        "x = torch.ones((3,3))\n",
        "x"
      ],
      "execution_count": 13,
      "outputs": [
        {
          "output_type": "execute_result",
          "data": {
            "text/plain": [
              "tensor([[1., 1., 1.],\n",
              "        [1., 1., 1.],\n",
              "        [1., 1., 1.]])"
            ]
          },
          "metadata": {
            "tags": []
          },
          "execution_count": 13
        }
      ]
    },
    {
      "cell_type": "code",
      "metadata": {
        "id": "FypDG6Xz6U9B",
        "colab_type": "code",
        "colab": {
          "base_uri": "https://localhost:8080/",
          "height": 102
        },
        "outputId": "384a6ff2-943c-4ff4-ebbc-21a30b981853"
      },
      "source": [
        "x = torch.eye(5,5)    # Identity matrix\n",
        "x"
      ],
      "execution_count": 15,
      "outputs": [
        {
          "output_type": "execute_result",
          "data": {
            "text/plain": [
              "tensor([[1., 0., 0., 0., 0.],\n",
              "        [0., 1., 0., 0., 0.],\n",
              "        [0., 0., 1., 0., 0.],\n",
              "        [0., 0., 0., 1., 0.],\n",
              "        [0., 0., 0., 0., 1.]])"
            ]
          },
          "metadata": {
            "tags": []
          },
          "execution_count": 15
        }
      ]
    },
    {
      "cell_type": "code",
      "metadata": {
        "id": "057G9dIZ6cme",
        "colab_type": "code",
        "colab": {
          "base_uri": "https://localhost:8080/",
          "height": 34
        },
        "outputId": "f88ed3f6-05b0-4fec-dced-ad58bfe4a50a"
      },
      "source": [
        "x = torch.arange(start=0,end=5,step=1)\n",
        "x"
      ],
      "execution_count": 16,
      "outputs": [
        {
          "output_type": "execute_result",
          "data": {
            "text/plain": [
              "tensor([0, 1, 2, 3, 4])"
            ]
          },
          "metadata": {
            "tags": []
          },
          "execution_count": 16
        }
      ]
    },
    {
      "cell_type": "code",
      "metadata": {
        "id": "1RbONWGU7GhH",
        "colab_type": "code",
        "colab": {
          "base_uri": "https://localhost:8080/",
          "height": 51
        },
        "outputId": "ca28d4f8-cae4-4fc0-b967-c739274796d6"
      },
      "source": [
        "x = torch.linspace(start=0.1,end=1,steps=10)\n",
        "x"
      ],
      "execution_count": 18,
      "outputs": [
        {
          "output_type": "execute_result",
          "data": {
            "text/plain": [
              "tensor([0.1000, 0.2000, 0.3000, 0.4000, 0.5000, 0.6000, 0.7000, 0.8000, 0.9000,\n",
              "        1.0000])"
            ]
          },
          "metadata": {
            "tags": []
          },
          "execution_count": 18
        }
      ]
    },
    {
      "cell_type": "code",
      "metadata": {
        "id": "9_JqbQ2W8AOa",
        "colab_type": "code",
        "colab": {
          "base_uri": "https://localhost:8080/",
          "height": 34
        },
        "outputId": "7df40ceb-1083-4c69-9d0e-5bf20d4d6eb2"
      },
      "source": [
        "x = torch.empty(size=(1,5)).normal_(mean=0,std=1)\n",
        "x"
      ],
      "execution_count": 20,
      "outputs": [
        {
          "output_type": "execute_result",
          "data": {
            "text/plain": [
              "tensor([[-2.4259, -0.4444,  0.0477, -0.5302,  1.9504]])"
            ]
          },
          "metadata": {
            "tags": []
          },
          "execution_count": 20
        }
      ]
    },
    {
      "cell_type": "code",
      "metadata": {
        "id": "EF6yrxXd8PtF",
        "colab_type": "code",
        "colab": {
          "base_uri": "https://localhost:8080/",
          "height": 34
        },
        "outputId": "5a6868fc-e8db-45d0-9936-14ffacb309dd"
      },
      "source": [
        "x = torch.empty(size=(1,5)).uniform_(0,1)\n",
        "x"
      ],
      "execution_count": 21,
      "outputs": [
        {
          "output_type": "execute_result",
          "data": {
            "text/plain": [
              "tensor([[0.7747, 0.1089, 0.9340, 0.6522, 0.6620]])"
            ]
          },
          "metadata": {
            "tags": []
          },
          "execution_count": 21
        }
      ]
    },
    {
      "cell_type": "code",
      "metadata": {
        "id": "mgkdcn3h8dyP",
        "colab_type": "code",
        "colab": {
          "base_uri": "https://localhost:8080/",
          "height": 34
        },
        "outputId": "413f8a01-5546-4361-be56-29e6d9210b59"
      },
      "source": [
        "# How to initialize and convert tensors to other types (int, float, double)\n",
        "tensor = torch.arange(4)\n",
        "print (tensor.bool())"
      ],
      "execution_count": 23,
      "outputs": [
        {
          "output_type": "stream",
          "text": [
            "tensor([False,  True,  True,  True])\n"
          ],
          "name": "stdout"
        }
      ]
    },
    {
      "cell_type": "code",
      "metadata": {
        "id": "5ousVA_J88NL",
        "colab_type": "code",
        "colab": {
          "base_uri": "https://localhost:8080/",
          "height": 34
        },
        "outputId": "a04fc59c-e0d1-4566-c9a3-ed4ffdfa6e1b"
      },
      "source": [
        "print (tensor.short())"
      ],
      "execution_count": 24,
      "outputs": [
        {
          "output_type": "stream",
          "text": [
            "tensor([0, 1, 2, 3], dtype=torch.int16)\n"
          ],
          "name": "stdout"
        }
      ]
    },
    {
      "cell_type": "code",
      "metadata": {
        "id": "09OJH5vz9Eh6",
        "colab_type": "code",
        "colab": {
          "base_uri": "https://localhost:8080/",
          "height": 51
        },
        "outputId": "63567272-0e38-49a0-d2d9-214289ad1e14"
      },
      "source": [
        "print (tensor.long())\n",
        "print (tensor.dtype)"
      ],
      "execution_count": 26,
      "outputs": [
        {
          "output_type": "stream",
          "text": [
            "tensor([0, 1, 2, 3])\n",
            "torch.int64\n"
          ],
          "name": "stdout"
        }
      ]
    },
    {
      "cell_type": "code",
      "metadata": {
        "id": "L2vRWobA9H2z",
        "colab_type": "code",
        "colab": {
          "base_uri": "https://localhost:8080/",
          "height": 34
        },
        "outputId": "de7d6e74-0003-4528-993e-aec2b9351ca3"
      },
      "source": [
        "print (tensor.float())  # float 32 bit"
      ],
      "execution_count": 27,
      "outputs": [
        {
          "output_type": "stream",
          "text": [
            "tensor([0., 1., 2., 3.])\n"
          ],
          "name": "stdout"
        }
      ]
    },
    {
      "cell_type": "code",
      "metadata": {
        "id": "8XtNHeXZ9a3L",
        "colab_type": "code",
        "colab": {
          "base_uri": "https://localhost:8080/",
          "height": 34
        },
        "outputId": "6fd4c20b-c51c-4da2-b853-6e10f3e3f983"
      },
      "source": [
        "print (tensor.double())   # float 64 bit"
      ],
      "execution_count": 28,
      "outputs": [
        {
          "output_type": "stream",
          "text": [
            "tensor([0., 1., 2., 3.], dtype=torch.float64)\n"
          ],
          "name": "stdout"
        }
      ]
    },
    {
      "cell_type": "code",
      "metadata": {
        "id": "rMRPk8jQ9jtB",
        "colab_type": "code",
        "colab": {}
      },
      "source": [
        "# Array to tensor conversion and vice versa\n",
        "import numpy as np"
      ],
      "execution_count": 29,
      "outputs": []
    },
    {
      "cell_type": "code",
      "metadata": {
        "id": "N4iY-K8K9q4d",
        "colab_type": "code",
        "colab": {
          "base_uri": "https://localhost:8080/",
          "height": 187
        },
        "outputId": "759c86b0-0b96-49db-fbf5-f1d938ab1b14"
      },
      "source": [
        "np_array = np.zeros((5,5))\n",
        "tensor = torch.from_numpy(np_array)\n",
        "print (tensor)\n",
        "np_array_back = tensor.numpy()\n",
        "print (np_array_back)"
      ],
      "execution_count": 32,
      "outputs": [
        {
          "output_type": "stream",
          "text": [
            "tensor([[0., 0., 0., 0., 0.],\n",
            "        [0., 0., 0., 0., 0.],\n",
            "        [0., 0., 0., 0., 0.],\n",
            "        [0., 0., 0., 0., 0.],\n",
            "        [0., 0., 0., 0., 0.]], dtype=torch.float64)\n",
            "[[0. 0. 0. 0. 0.]\n",
            " [0. 0. 0. 0. 0.]\n",
            " [0. 0. 0. 0. 0.]\n",
            " [0. 0. 0. 0. 0.]\n",
            " [0. 0. 0. 0. 0.]]\n"
          ],
          "name": "stdout"
        }
      ]
    },
    {
      "cell_type": "markdown",
      "metadata": {
        "id": "LOrOZeqs-4YW",
        "colab_type": "text"
      },
      "source": [
        "# Tensor Math and Comparison operations"
      ]
    },
    {
      "cell_type": "code",
      "metadata": {
        "id": "sZMcMAkX9yku",
        "colab_type": "code",
        "colab": {}
      },
      "source": [
        "import torch"
      ],
      "execution_count": 33,
      "outputs": []
    },
    {
      "cell_type": "code",
      "metadata": {
        "id": "0wkEUzbj_OWk",
        "colab_type": "code",
        "colab": {}
      },
      "source": [
        "x = torch.tensor([1,2,3])\n",
        "y = torch.tensor([8,9,7])"
      ],
      "execution_count": 34,
      "outputs": []
    },
    {
      "cell_type": "code",
      "metadata": {
        "id": "hrtf21zm_XM7",
        "colab_type": "code",
        "colab": {
          "base_uri": "https://localhost:8080/",
          "height": 51
        },
        "outputId": "3c9f6c61-2e6d-403d-acb9-35496c905764"
      },
      "source": [
        "# Addition\n",
        "z = x + y\n",
        "print (z)\n",
        "z = torch.add(x,y)\n",
        "print (z)"
      ],
      "execution_count": 36,
      "outputs": [
        {
          "output_type": "stream",
          "text": [
            "tensor([ 9, 11, 10])\n",
            "tensor([ 9, 11, 10])\n"
          ],
          "name": "stdout"
        }
      ]
    },
    {
      "cell_type": "code",
      "metadata": {
        "id": "aCdYkVsc_aUk",
        "colab_type": "code",
        "colab": {
          "base_uri": "https://localhost:8080/",
          "height": 34
        },
        "outputId": "8ee0a504-f0df-417e-9ab3-1208481ecb52"
      },
      "source": [
        "# Subtraction\n",
        "z = x-y\n",
        "z"
      ],
      "execution_count": 37,
      "outputs": [
        {
          "output_type": "execute_result",
          "data": {
            "text/plain": [
              "tensor([-7, -7, -4])"
            ]
          },
          "metadata": {
            "tags": []
          },
          "execution_count": 37
        }
      ]
    },
    {
      "cell_type": "code",
      "metadata": {
        "id": "V9JPGhSZ_naj",
        "colab_type": "code",
        "colab": {
          "base_uri": "https://localhost:8080/",
          "height": 34
        },
        "outputId": "7dd27750-87da-4e99-ee29-2935373dedb0"
      },
      "source": [
        "# Division\n",
        "z = torch.true_divide(x,y)\n",
        "z"
      ],
      "execution_count": 40,
      "outputs": [
        {
          "output_type": "execute_result",
          "data": {
            "text/plain": [
              "tensor([0.1250, 0.2222, 0.4286])"
            ]
          },
          "metadata": {
            "tags": []
          },
          "execution_count": 40
        }
      ]
    },
    {
      "cell_type": "code",
      "metadata": {
        "id": "1hHNDUpd_v3S",
        "colab_type": "code",
        "colab": {
          "base_uri": "https://localhost:8080/",
          "height": 68
        },
        "outputId": "67a66c6b-63b7-4676-bdef-8d0bd2512c85"
      },
      "source": [
        "t = torch.zeros(3)\n",
        "print (t)\n",
        "t.add_(x)   # underscore means inplace operation\n",
        "print (t)\n",
        "\n",
        "# we can also do inplace like\n",
        "t += x\n",
        "print (t)"
      ],
      "execution_count": 43,
      "outputs": [
        {
          "output_type": "stream",
          "text": [
            "tensor([0., 0., 0.])\n",
            "tensor([1., 2., 3.])\n",
            "tensor([2., 4., 6.])\n"
          ],
          "name": "stdout"
        }
      ]
    },
    {
      "cell_type": "code",
      "metadata": {
        "id": "M-Y71CDpAHJI",
        "colab_type": "code",
        "colab": {
          "base_uri": "https://localhost:8080/",
          "height": 51
        },
        "outputId": "19fdd492-0d65-40d2-aec8-383aecce49aa"
      },
      "source": [
        "# Exponentiation\n",
        "z = x.pow(2)\n",
        "print (z)\n",
        "z = x**2\n",
        "print (z)"
      ],
      "execution_count": 46,
      "outputs": [
        {
          "output_type": "stream",
          "text": [
            "tensor([1, 4, 9])\n",
            "tensor([1, 4, 9])\n"
          ],
          "name": "stdout"
        }
      ]
    },
    {
      "cell_type": "code",
      "metadata": {
        "id": "menSCcWTAgR6",
        "colab_type": "code",
        "colab": {
          "base_uri": "https://localhost:8080/",
          "height": 34
        },
        "outputId": "8bda5dda-b8a1-4d80-b320-74bcd338092e"
      },
      "source": [
        "# Simple comaparison\n",
        "z = x > 0\n",
        "print (z)"
      ],
      "execution_count": 47,
      "outputs": [
        {
          "output_type": "stream",
          "text": [
            "tensor([True, True, True])\n"
          ],
          "name": "stdout"
        }
      ]
    },
    {
      "cell_type": "code",
      "metadata": {
        "id": "JiGmQpaJAu3o",
        "colab_type": "code",
        "colab": {
          "base_uri": "https://localhost:8080/",
          "height": 85
        },
        "outputId": "4c827a93-ddfa-4e47-c92f-f614b6b76b53"
      },
      "source": [
        "# Matrix Multiplication\n",
        "x1 = torch.rand((2,5))\n",
        "x2 = torch.rand((5,3))\n",
        "x3 = torch.mm(x1,x2)\n",
        "print (x3)\n",
        "\n",
        "# or\n",
        "x3 = x1.mm(x2)\n",
        "print (x3)"
      ],
      "execution_count": 49,
      "outputs": [
        {
          "output_type": "stream",
          "text": [
            "tensor([[0.6462, 1.9212, 1.5114],\n",
            "        [0.6121, 1.7331, 1.3171]])\n",
            "tensor([[0.6462, 1.9212, 1.5114],\n",
            "        [0.6121, 1.7331, 1.3171]])\n"
          ],
          "name": "stdout"
        }
      ]
    },
    {
      "cell_type": "code",
      "metadata": {
        "id": "7CiUpcWJA6FH",
        "colab_type": "code",
        "colab": {
          "base_uri": "https://localhost:8080/",
          "height": 51
        },
        "outputId": "0d3370cc-b0ea-4144-f54c-89a707d27c5c"
      },
      "source": [
        "x1 = torch.rand((2,5))\n",
        "x2 = torch.rand((3,5)).T\n",
        "x3 = torch.matmul(x1,x2)\n",
        "print (x3)"
      ],
      "execution_count": 54,
      "outputs": [
        {
          "output_type": "stream",
          "text": [
            "tensor([[1.2136, 1.9217, 0.8818],\n",
            "        [1.4290, 1.9110, 0.9631]])\n"
          ],
          "name": "stdout"
        }
      ]
    },
    {
      "cell_type": "code",
      "metadata": {
        "id": "4bPOJ8RlBIFJ",
        "colab_type": "code",
        "colab": {
          "base_uri": "https://localhost:8080/",
          "height": 85
        },
        "outputId": "606dcfbc-7d1b-4b17-bdc9-8d8bd1e381df"
      },
      "source": [
        "# matrix exponentiation\n",
        "a = torch.rand(4,4)\n",
        "a.matrix_power(3)"
      ],
      "execution_count": 61,
      "outputs": [
        {
          "output_type": "execute_result",
          "data": {
            "text/plain": [
              "tensor([[2.7508, 3.1160, 2.6357, 1.9635],\n",
              "        [1.4245, 1.5470, 1.3877, 0.9213],\n",
              "        [1.3660, 1.4849, 1.3031, 0.8490],\n",
              "        [2.6476, 3.0434, 2.7014, 1.8014]])"
            ]
          },
          "metadata": {
            "tags": []
          },
          "execution_count": 61
        }
      ]
    },
    {
      "cell_type": "code",
      "metadata": {
        "id": "XAv65lICBhvL",
        "colab_type": "code",
        "colab": {
          "base_uri": "https://localhost:8080/",
          "height": 34
        },
        "outputId": "d039402d-39e7-4366-ae6b-acba39e570b5"
      },
      "source": [
        "# element wise multiplication\n",
        "x = torch.tensor([1,2,3])\n",
        "y = torch.tensor([8,9,7])\n",
        "z = x*y\n",
        "z\n"
      ],
      "execution_count": 63,
      "outputs": [
        {
          "output_type": "execute_result",
          "data": {
            "text/plain": [
              "tensor([ 8, 18, 21])"
            ]
          },
          "metadata": {
            "tags": []
          },
          "execution_count": 63
        }
      ]
    },
    {
      "cell_type": "code",
      "metadata": {
        "id": "oFMJ_XUxCMVD",
        "colab_type": "code",
        "colab": {
          "base_uri": "https://localhost:8080/",
          "height": 34
        },
        "outputId": "4a25fdba-fafd-4b00-8898-2e46d68c7133"
      },
      "source": [
        "# dot product\n",
        "z = x.dot(y)\n",
        "z"
      ],
      "execution_count": 64,
      "outputs": [
        {
          "output_type": "execute_result",
          "data": {
            "text/plain": [
              "tensor(47)"
            ]
          },
          "metadata": {
            "tags": []
          },
          "execution_count": 64
        }
      ]
    },
    {
      "cell_type": "code",
      "metadata": {
        "id": "1xTAhq5PCdMD",
        "colab_type": "code",
        "colab": {
          "base_uri": "https://localhost:8080/",
          "height": 867
        },
        "outputId": "f95b43c4-2b44-4a0e-f7ce-316df816d9af"
      },
      "source": [
        "# Batch Matrix Multiplication\n",
        "batch = 32\n",
        "n = 10\n",
        "m = 20\n",
        "p = 30\n",
        "\n",
        "tensor1 = torch.rand((batch, n, m))\n",
        "tensor2 = torch.rand((batch, m, p))\n",
        "out_bmm = torch.bmm(tensor1, tensor2)\n",
        "print (out_bmm)\n",
        "print (out_bmm.shape)"
      ],
      "execution_count": 66,
      "outputs": [
        {
          "output_type": "stream",
          "text": [
            "tensor([[[6.7771, 6.6659, 7.7327,  ..., 5.5169, 6.6287, 5.8030],\n",
            "         [5.4867, 4.9324, 5.1906,  ..., 3.8128, 6.2363, 4.8783],\n",
            "         [4.1918, 4.2550, 4.3131,  ..., 3.4286, 4.7369, 4.2867],\n",
            "         ...,\n",
            "         [4.7190, 4.3780, 5.4807,  ..., 3.1594, 4.7570, 3.7874],\n",
            "         [4.1286, 5.2099, 5.1296,  ..., 3.0807, 4.2464, 4.0945],\n",
            "         [5.7726, 5.2487, 5.7074,  ..., 4.2499, 5.6019, 4.5825]],\n",
            "\n",
            "        [[4.3670, 4.6592, 5.1273,  ..., 6.5949, 6.3776, 5.4313],\n",
            "         [3.9371, 4.8978, 4.7979,  ..., 5.2433, 6.3286, 4.7848],\n",
            "         [3.0182, 3.4730, 3.9389,  ..., 3.4969, 5.2496, 3.4461],\n",
            "         ...,\n",
            "         [4.7051, 3.9607, 5.5512,  ..., 5.9657, 6.3053, 4.7585],\n",
            "         [2.8408, 2.5114, 3.8891,  ..., 3.1482, 4.6872, 3.4666],\n",
            "         [3.8256, 4.3326, 4.2087,  ..., 4.6142, 5.3847, 3.9803]],\n",
            "\n",
            "        [[3.5542, 4.4059, 5.0919,  ..., 4.4414, 4.7954, 5.0210],\n",
            "         [5.2662, 6.7550, 7.1404,  ..., 5.8663, 7.1030, 6.5304],\n",
            "         [4.3057, 5.1717, 4.4046,  ..., 5.4248, 5.0007, 4.2264],\n",
            "         ...,\n",
            "         [4.2856, 5.3600, 4.8061,  ..., 4.0106, 5.2351, 4.4349],\n",
            "         [3.7996, 4.4058, 4.4904,  ..., 4.0051, 4.3311, 4.1001],\n",
            "         [3.9585, 5.4588, 4.8531,  ..., 4.3054, 4.4363, 4.4209]],\n",
            "\n",
            "        ...,\n",
            "\n",
            "        [[5.8055, 5.2222, 5.0393,  ..., 5.9393, 4.9625, 5.6975],\n",
            "         [4.9153, 4.7130, 4.5550,  ..., 5.3685, 4.7816, 4.7467],\n",
            "         [5.3293, 4.9207, 5.2507,  ..., 6.0676, 4.2690, 5.8834],\n",
            "         ...,\n",
            "         [5.1656, 4.7377, 4.2244,  ..., 4.8178, 4.5534, 4.8119],\n",
            "         [6.0506, 4.8822, 5.6364,  ..., 6.1328, 4.1166, 6.0291],\n",
            "         [7.4647, 6.9214, 6.5984,  ..., 7.7911, 6.4781, 8.7187]],\n",
            "\n",
            "        [[3.7705, 3.9126, 3.8890,  ..., 3.6058, 4.2623, 3.3551],\n",
            "         [6.4523, 7.1196, 6.5339,  ..., 6.0471, 6.5326, 5.0518],\n",
            "         [7.4219, 6.6049, 7.6585,  ..., 7.0898, 7.0629, 5.8257],\n",
            "         ...,\n",
            "         [5.2995, 5.9307, 5.5666,  ..., 4.9633, 5.6689, 4.2710],\n",
            "         [5.2669, 5.7643, 5.5228,  ..., 5.1809, 5.1317, 4.9384],\n",
            "         [5.0859, 5.0630, 4.6522,  ..., 4.2367, 5.3881, 4.3622]],\n",
            "\n",
            "        [[5.6229, 5.8816, 5.4990,  ..., 4.4214, 4.4593, 4.6140],\n",
            "         [5.1497, 4.3697, 3.7881,  ..., 3.5418, 3.5288, 3.5366],\n",
            "         [4.7359, 4.8087, 5.0676,  ..., 3.7523, 4.3220, 4.3856],\n",
            "         ...,\n",
            "         [4.5803, 4.7066, 4.6013,  ..., 3.9874, 3.2230, 4.4249],\n",
            "         [6.7919, 6.3911, 5.7778,  ..., 5.1562, 5.2460, 5.5418],\n",
            "         [5.1164, 6.2964, 5.6538,  ..., 4.6545, 4.5958, 4.9370]]])\n",
            "torch.Size([32, 10, 30])\n"
          ],
          "name": "stdout"
        }
      ]
    },
    {
      "cell_type": "code",
      "metadata": {
        "id": "hvNuM8_qDAG5",
        "colab_type": "code",
        "colab": {
          "base_uri": "https://localhost:8080/",
          "height": 34
        },
        "outputId": "44f7cd37-f861-4663-fd94-a16adab29ccd"
      },
      "source": [
        "out_bmm[0].shape"
      ],
      "execution_count": 69,
      "outputs": [
        {
          "output_type": "execute_result",
          "data": {
            "text/plain": [
              "torch.Size([10, 30])"
            ]
          },
          "metadata": {
            "tags": []
          },
          "execution_count": 69
        }
      ]
    },
    {
      "cell_type": "code",
      "metadata": {
        "id": "HvMZ8E5ODWdy",
        "colab_type": "code",
        "colab": {
          "base_uri": "https://localhost:8080/",
          "height": 102
        },
        "outputId": "6bb0da00-53f6-475d-808a-d050dcc24722"
      },
      "source": [
        "# Example of Broadcasting\n",
        "x1 = torch.rand((5,5))\n",
        "x2 = torch.rand((1,5))\n",
        "\n",
        "z = x1 - x2\n",
        "z"
      ],
      "execution_count": 4,
      "outputs": [
        {
          "output_type": "execute_result",
          "data": {
            "text/plain": [
              "tensor([[ 0.1349, -0.1426,  0.7106, -0.1891,  0.2367],\n",
              "        [ 0.5250, -0.4598,  0.0976, -0.4294,  0.2845],\n",
              "        [ 0.1068, -0.0548,  0.2723, -0.3578, -0.0627],\n",
              "        [ 0.9109,  0.2586,  0.7162,  0.3891, -0.4681],\n",
              "        [ 0.4032,  0.2288,  0.1244,  0.4323, -0.4908]])"
            ]
          },
          "metadata": {
            "tags": []
          },
          "execution_count": 4
        }
      ]
    },
    {
      "cell_type": "code",
      "metadata": {
        "id": "YnK8isH0I3c_",
        "colab_type": "code",
        "colab": {
          "base_uri": "https://localhost:8080/",
          "height": 68
        },
        "outputId": "e80567a2-d2c0-4a55-c257-92408be68c3e"
      },
      "source": [
        "# other useful tensor operations\n",
        "x = torch.tensor([[1,2,3],[4,5,6]])\n",
        "print (x)\n",
        "print (x.shape)"
      ],
      "execution_count": 17,
      "outputs": [
        {
          "output_type": "stream",
          "text": [
            "tensor([[1, 2, 3],\n",
            "        [4, 5, 6]])\n",
            "torch.Size([2, 3])\n"
          ],
          "name": "stdout"
        }
      ]
    },
    {
      "cell_type": "code",
      "metadata": {
        "id": "R9J06s6BJNfM",
        "colab_type": "code",
        "colab": {
          "base_uri": "https://localhost:8080/",
          "height": 34
        },
        "outputId": "b52d5858-3826-41bd-b85b-e9e718638786"
      },
      "source": [
        "sum_x = torch.sum(x,dim=1)\n",
        "sum_x"
      ],
      "execution_count": 18,
      "outputs": [
        {
          "output_type": "execute_result",
          "data": {
            "text/plain": [
              "tensor([ 6, 15])"
            ]
          },
          "metadata": {
            "tags": []
          },
          "execution_count": 18
        }
      ]
    },
    {
      "cell_type": "code",
      "metadata": {
        "id": "hFVZcFw6JvYa",
        "colab_type": "code",
        "colab": {
          "base_uri": "https://localhost:8080/",
          "height": 34
        },
        "outputId": "d018fcda-6284-4ffd-abde-58690634d6b7"
      },
      "source": [
        "values, indices = torch.max(x,dim=0)\n",
        "print (values, indices)"
      ],
      "execution_count": 19,
      "outputs": [
        {
          "output_type": "stream",
          "text": [
            "tensor([4, 5, 6]) tensor([1, 1, 1])\n"
          ],
          "name": "stdout"
        }
      ]
    },
    {
      "cell_type": "code",
      "metadata": {
        "id": "l2FofB9sKYDI",
        "colab_type": "code",
        "colab": {
          "base_uri": "https://localhost:8080/",
          "height": 34
        },
        "outputId": "7faa9a93-e339-420c-a9ef-7b1b939b2bfd"
      },
      "source": [
        "z = torch.argmax(x,dim=0)   # returns index of max ele\n",
        "z"
      ],
      "execution_count": 20,
      "outputs": [
        {
          "output_type": "execute_result",
          "data": {
            "text/plain": [
              "tensor([1, 1, 1])"
            ]
          },
          "metadata": {
            "tags": []
          },
          "execution_count": 20
        }
      ]
    },
    {
      "cell_type": "code",
      "metadata": {
        "id": "wR0HSmM1Kf5t",
        "colab_type": "code",
        "colab": {
          "base_uri": "https://localhost:8080/",
          "height": 34
        },
        "outputId": "dbfb36a7-26de-494c-97a9-fb7f1d137e46"
      },
      "source": [
        "z = torch.mean(x.float(), dim=0)\n",
        "z"
      ],
      "execution_count": 21,
      "outputs": [
        {
          "output_type": "execute_result",
          "data": {
            "text/plain": [
              "tensor([2.5000, 3.5000, 4.5000])"
            ]
          },
          "metadata": {
            "tags": []
          },
          "execution_count": 21
        }
      ]
    },
    {
      "cell_type": "code",
      "metadata": {
        "id": "Z1U1QfCMKx3P",
        "colab_type": "code",
        "colab": {
          "base_uri": "https://localhost:8080/",
          "height": 34
        },
        "outputId": "d13bb08d-3ed9-4f4d-87ef-19e9472b0619"
      },
      "source": [
        "x = torch.tensor([8,2,3])\n",
        "y = torch.tensor([8,9,10])\n",
        "z = torch.eq(x,y)\n",
        "z"
      ],
      "execution_count": 23,
      "outputs": [
        {
          "output_type": "execute_result",
          "data": {
            "text/plain": [
              "tensor([ True, False, False])"
            ]
          },
          "metadata": {
            "tags": []
          },
          "execution_count": 23
        }
      ]
    },
    {
      "cell_type": "code",
      "metadata": {
        "id": "egZoep9ZK98L",
        "colab_type": "code",
        "colab": {
          "base_uri": "https://localhost:8080/",
          "height": 34
        },
        "outputId": "20aba423-7d1b-4289-e1e5-8c202c727ab3"
      },
      "source": [
        "x = torch.tensor([1,4,5,-12,40,12,6,7,-10])\n",
        "z = torch.clamp(x, min=0)   # relu function\n",
        "z"
      ],
      "execution_count": 26,
      "outputs": [
        {
          "output_type": "execute_result",
          "data": {
            "text/plain": [
              "tensor([ 1,  4,  5,  0, 40, 12,  6,  7,  0])"
            ]
          },
          "metadata": {
            "tags": []
          },
          "execution_count": 26
        }
      ]
    },
    {
      "cell_type": "code",
      "metadata": {
        "id": "jSg70Lo3MUzy",
        "colab_type": "code",
        "colab": {
          "base_uri": "https://localhost:8080/",
          "height": 51
        },
        "outputId": "b10c3166-f327-45a0-8864-dd6450a0886c"
      },
      "source": [
        "x = torch.tensor([1,1,0,0,0,1,1], dtype=torch.bool)\n",
        "z = torch.any(x)\n",
        "print (z)\n",
        "z = torch.all(x)\n",
        "print (z)"
      ],
      "execution_count": 27,
      "outputs": [
        {
          "output_type": "stream",
          "text": [
            "tensor(True)\n",
            "tensor(False)\n"
          ],
          "name": "stdout"
        }
      ]
    },
    {
      "cell_type": "markdown",
      "metadata": {
        "id": "qFs-HTT9M69X",
        "colab_type": "text"
      },
      "source": [
        "# Tensor indexing"
      ]
    },
    {
      "cell_type": "code",
      "metadata": {
        "id": "zREyKOuBMunE",
        "colab_type": "code",
        "colab": {
          "base_uri": "https://localhost:8080/",
          "height": 68
        },
        "outputId": "c28f38dd-6b1a-423d-be01-362d6e03f00c"
      },
      "source": [
        "batch_size = 10\n",
        "features = 25\n",
        "\n",
        "x = torch.rand((batch_size, features))\n",
        "\n",
        "print (x[0].shape)  # get the features from first batch\n",
        "print (x[:, 0])     # get the first feature from all batches   "
      ],
      "execution_count": 29,
      "outputs": [
        {
          "output_type": "stream",
          "text": [
            "torch.Size([25])\n",
            "tensor([0.9283, 0.1199, 0.1459, 0.5881, 0.4126, 0.9186, 0.2010, 0.2957, 0.9763,\n",
            "        0.3981])\n"
          ],
          "name": "stdout"
        }
      ]
    },
    {
      "cell_type": "code",
      "metadata": {
        "id": "0J2wNm6HNZoM",
        "colab_type": "code",
        "colab": {
          "base_uri": "https://localhost:8080/",
          "height": 51
        },
        "outputId": "21da0c1b-6031-4f6a-822d-fa3c8eed228f"
      },
      "source": [
        "print (x[2, 0:10])  # get the 3rd example from the batch,and get first 10 features from that batch"
      ],
      "execution_count": 30,
      "outputs": [
        {
          "output_type": "stream",
          "text": [
            "tensor([0.1459, 0.7693, 0.5532, 0.7497, 0.7155, 0.5012, 0.7609, 0.7069, 0.1529,\n",
            "        0.7247])\n"
          ],
          "name": "stdout"
        }
      ]
    },
    {
      "cell_type": "code",
      "metadata": {
        "id": "wACqz-LGO9p_",
        "colab_type": "code",
        "colab": {
          "base_uri": "https://localhost:8080/",
          "height": 68
        },
        "outputId": "23592815-390b-46bf-d233-5402151ba10c"
      },
      "source": [
        "# useful operations\n",
        "x = torch.arange(10)\n",
        "\n",
        "z = torch.where(x>5, x, x*2)\n",
        "print (z)\n",
        "\n",
        "print (torch.tensor([0,0,1,1,2,3,4,4]).unique())\n",
        "print (x.ndimension())"
      ],
      "execution_count": 34,
      "outputs": [
        {
          "output_type": "stream",
          "text": [
            "tensor([ 0,  2,  4,  6,  8, 10,  6,  7,  8,  9])\n",
            "tensor([0, 1, 2, 3, 4])\n",
            "1\n"
          ],
          "name": "stdout"
        }
      ]
    },
    {
      "cell_type": "markdown",
      "metadata": {
        "id": "hjDwcTC6RACs",
        "colab_type": "text"
      },
      "source": [
        "# Tensor Reshaping"
      ]
    },
    {
      "cell_type": "code",
      "metadata": {
        "id": "OtR4vqHvQVtu",
        "colab_type": "code",
        "colab": {
          "base_uri": "https://localhost:8080/",
          "height": 85
        },
        "outputId": "dda2fdae-3b47-44a0-ce00-eb1a519970f1"
      },
      "source": [
        "x = torch.arange(9)\n",
        "\n",
        "x_3x3 = x.view(3,3)\n",
        "print (x_3x3)\n",
        "print (x_3x3.shape)"
      ],
      "execution_count": 36,
      "outputs": [
        {
          "output_type": "stream",
          "text": [
            "tensor([[0, 1, 2],\n",
            "        [3, 4, 5],\n",
            "        [6, 7, 8]])\n",
            "torch.Size([3, 3])\n"
          ],
          "name": "stdout"
        }
      ]
    },
    {
      "cell_type": "code",
      "metadata": {
        "id": "FDCnF3WgRK6o",
        "colab_type": "code",
        "colab": {
          "base_uri": "https://localhost:8080/",
          "height": 68
        },
        "outputId": "e8e0f7c1-45fb-4ec7-bc9a-02b9b6c50a82"
      },
      "source": [
        "x_3x3 = x.reshape(3,3)\n",
        "print (x_3x3)"
      ],
      "execution_count": 37,
      "outputs": [
        {
          "output_type": "stream",
          "text": [
            "tensor([[0, 1, 2],\n",
            "        [3, 4, 5],\n",
            "        [6, 7, 8]])\n"
          ],
          "name": "stdout"
        }
      ]
    },
    {
      "cell_type": "code",
      "metadata": {
        "id": "h78nFICNRUuh",
        "colab_type": "code",
        "colab": {
          "base_uri": "https://localhost:8080/",
          "height": 68
        },
        "outputId": "cd65117b-9168-4314-8fc9-3b6a99205818"
      },
      "source": [
        "y = x_3x3.t()\n",
        "print (y)"
      ],
      "execution_count": 38,
      "outputs": [
        {
          "output_type": "stream",
          "text": [
            "tensor([[0, 3, 6],\n",
            "        [1, 4, 7],\n",
            "        [2, 5, 8]])\n"
          ],
          "name": "stdout"
        }
      ]
    },
    {
      "cell_type": "code",
      "metadata": {
        "id": "MmjZRUm-Rr2c",
        "colab_type": "code",
        "colab": {
          "base_uri": "https://localhost:8080/",
          "height": 51
        },
        "outputId": "6b53431b-7733-4b24-bc4d-c3b4cd057771"
      },
      "source": [
        "print (y.contiguous().view(9))\n",
        "print (y.reshape(9))"
      ],
      "execution_count": 42,
      "outputs": [
        {
          "output_type": "stream",
          "text": [
            "tensor([0, 3, 6, 1, 4, 7, 2, 5, 8])\n",
            "tensor([0, 3, 6, 1, 4, 7, 2, 5, 8])\n"
          ],
          "name": "stdout"
        }
      ]
    },
    {
      "cell_type": "code",
      "metadata": {
        "id": "nezcw690SJa_",
        "colab_type": "code",
        "colab": {
          "base_uri": "https://localhost:8080/",
          "height": 51
        },
        "outputId": "9d37b18e-2718-4747-b8e2-5a7659a430d0"
      },
      "source": [
        "x1 = torch.rand((2,5))\n",
        "x2 = torch.rand((2,5))\n",
        "\n",
        "print (torch.cat((x1,x2), dim=0).shape)\n",
        "print (torch.cat((x1,x2), dim=1).shape)"
      ],
      "execution_count": 44,
      "outputs": [
        {
          "output_type": "stream",
          "text": [
            "torch.Size([4, 5])\n",
            "torch.Size([2, 10])\n"
          ],
          "name": "stdout"
        }
      ]
    },
    {
      "cell_type": "code",
      "metadata": {
        "id": "TDpJZs9WS9vy",
        "colab_type": "code",
        "colab": {
          "base_uri": "https://localhost:8080/",
          "height": 34
        },
        "outputId": "30f219d9-26fc-4aa0-99f1-13f6fc44fb4b"
      },
      "source": [
        "z = x1.view(-1)\n",
        "print (z.shape)"
      ],
      "execution_count": 45,
      "outputs": [
        {
          "output_type": "stream",
          "text": [
            "torch.Size([10])\n"
          ],
          "name": "stdout"
        }
      ]
    },
    {
      "cell_type": "code",
      "metadata": {
        "id": "T0ihOXZNTMBf",
        "colab_type": "code",
        "colab": {
          "base_uri": "https://localhost:8080/",
          "height": 34
        },
        "outputId": "486d9182-8acb-4dd5-fd22-b07b0b5d8e40"
      },
      "source": [
        "batch = 64\n",
        "x = torch.rand((batch,2,5))\n",
        "\n",
        "# we want to keep batch as it is but we want to flatten (2x5)\n",
        "x = x.view(batch,-1)\n",
        "print (x.shape) # 64 x 10"
      ],
      "execution_count": 50,
      "outputs": [
        {
          "output_type": "stream",
          "text": [
            "torch.Size([64, 10])\n"
          ],
          "name": "stdout"
        }
      ]
    },
    {
      "cell_type": "code",
      "metadata": {
        "id": "fdN6Q73MThUU",
        "colab_type": "code",
        "colab": {
          "base_uri": "https://localhost:8080/",
          "height": 34
        },
        "outputId": "e3e5e5c5-0bdb-4cb2-b4c8-a0de104a8d0d"
      },
      "source": [
        "# switching axis\n",
        "x = torch.rand((batch,2,5))\n",
        "z = x.permute(0, 2, 1)\n",
        "z.shape"
      ],
      "execution_count": 52,
      "outputs": [
        {
          "output_type": "execute_result",
          "data": {
            "text/plain": [
              "torch.Size([64, 5, 2])"
            ]
          },
          "metadata": {
            "tags": []
          },
          "execution_count": 52
        }
      ]
    },
    {
      "cell_type": "code",
      "metadata": {
        "id": "tHeQ8UtJUHYj",
        "colab_type": "code",
        "colab": {
          "base_uri": "https://localhost:8080/",
          "height": 68
        },
        "outputId": "73cdc1b8-9700-4220-8a31-cc3652ed1c78"
      },
      "source": [
        "x = torch.arange(10)\n",
        "print (x.shape)\n",
        "print (x)\n",
        "x = x.view(1,-1)\n",
        "x.shape"
      ],
      "execution_count": 59,
      "outputs": [
        {
          "output_type": "stream",
          "text": [
            "torch.Size([10])\n",
            "tensor([0, 1, 2, 3, 4, 5, 6, 7, 8, 9])\n"
          ],
          "name": "stdout"
        },
        {
          "output_type": "execute_result",
          "data": {
            "text/plain": [
              "torch.Size([1, 10])"
            ]
          },
          "metadata": {
            "tags": []
          },
          "execution_count": 59
        }
      ]
    },
    {
      "cell_type": "code",
      "metadata": {
        "id": "ikb59vBgUiW7",
        "colab_type": "code",
        "colab": {
          "base_uri": "https://localhost:8080/",
          "height": 34
        },
        "outputId": "993c6588-a6c9-473a-cbff-2171c109f5a2"
      },
      "source": [
        "print (x)"
      ],
      "execution_count": 57,
      "outputs": [
        {
          "output_type": "stream",
          "text": [
            "tensor([[0, 1, 2, 3, 4, 5, 6, 7, 8, 9]])\n"
          ],
          "name": "stdout"
        }
      ]
    },
    {
      "cell_type": "code",
      "metadata": {
        "id": "ZljjJ2JUUvBN",
        "colab_type": "code",
        "colab": {
          "base_uri": "https://localhost:8080/",
          "height": 51
        },
        "outputId": "d2cdc92f-aff2-4e52-8f19-d61f37135771"
      },
      "source": [
        "x = torch.arange(10)\n",
        "print (x.unsqueeze(0).shape)\n",
        "print (x.unsqueeze(1).shape)"
      ],
      "execution_count": 60,
      "outputs": [
        {
          "output_type": "stream",
          "text": [
            "torch.Size([1, 10])\n",
            "torch.Size([10, 1])\n"
          ],
          "name": "stdout"
        }
      ]
    },
    {
      "cell_type": "code",
      "metadata": {
        "id": "ug70-VAjVSgQ",
        "colab_type": "code",
        "colab": {
          "base_uri": "https://localhost:8080/",
          "height": 34
        },
        "outputId": "5572dcea-0daf-49a5-b5be-7efc7d184b39"
      },
      "source": [
        "x = torch.arange(10).unsqueeze(0).unsqueeze(1)\n",
        "x.shape"
      ],
      "execution_count": 66,
      "outputs": [
        {
          "output_type": "execute_result",
          "data": {
            "text/plain": [
              "torch.Size([1, 1, 10])"
            ]
          },
          "metadata": {
            "tags": []
          },
          "execution_count": 66
        }
      ]
    },
    {
      "cell_type": "code",
      "metadata": {
        "id": "E8_tEItaVau_",
        "colab_type": "code",
        "colab": {
          "base_uri": "https://localhost:8080/",
          "height": 34
        },
        "outputId": "3ee44e36-8b32-4a01-b58f-d0abb9f7e6cc"
      },
      "source": [
        "print (x)"
      ],
      "execution_count": 67,
      "outputs": [
        {
          "output_type": "stream",
          "text": [
            "tensor([[[0, 1, 2, 3, 4, 5, 6, 7, 8, 9]]])\n"
          ],
          "name": "stdout"
        }
      ]
    },
    {
      "cell_type": "code",
      "metadata": {
        "id": "IdsN5mVMVmwR",
        "colab_type": "code",
        "colab": {
          "base_uri": "https://localhost:8080/",
          "height": 34
        },
        "outputId": "5d8f8944-9aa3-4763-e892-d49e0c39cd8b"
      },
      "source": [
        "z = x.squeeze(0)\n",
        "z.shape"
      ],
      "execution_count": 71,
      "outputs": [
        {
          "output_type": "execute_result",
          "data": {
            "text/plain": [
              "torch.Size([1, 10])"
            ]
          },
          "metadata": {
            "tags": []
          },
          "execution_count": 71
        }
      ]
    },
    {
      "cell_type": "code",
      "metadata": {
        "id": "0a5J2dd_VwQt",
        "colab_type": "code",
        "colab": {}
      },
      "source": [
        ""
      ],
      "execution_count": null,
      "outputs": []
    }
  ]
}