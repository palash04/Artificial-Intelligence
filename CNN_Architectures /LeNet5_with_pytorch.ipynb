{
  "nbformat": 4,
  "nbformat_minor": 0,
  "metadata": {
    "colab": {
      "name": "LeNet5_with_pytorch.ipynb",
      "provenance": [],
      "authorship_tag": "ABX9TyN5mHOCzag8Ax606XFSStTA",
      "include_colab_link": true
    },
    "kernelspec": {
      "name": "python3",
      "display_name": "Python 3"
    }
  },
  "cells": [
    {
      "cell_type": "markdown",
      "metadata": {
        "id": "view-in-github",
        "colab_type": "text"
      },
      "source": [
        "<a href=\"https://colab.research.google.com/github/palash04/Artificial-Intelligence/blob/master/CNN_Architectures%20/LeNet5_with_pytorch.ipynb\" target=\"_parent\"><img src=\"https://colab.research.google.com/assets/colab-badge.svg\" alt=\"Open In Colab\"/></a>"
      ]
    },
    {
      "cell_type": "markdown",
      "metadata": {
        "id": "mlsHD4W6gADh",
        "colab_type": "text"
      },
      "source": [
        "![Screenshot 2020-08-28 at 10 46 31](https://user-images.githubusercontent.com/26361028/91524011-bcd9ca80-e91b-11ea-9d9d-1501a4ab074b.png)\n",
        "![Screenshot 2020-08-28 at 10 46 56](https://user-images.githubusercontent.com/26361028/91524040-cc591380-e91b-11ea-8fda-3ee937abc976.png)\n"
      ]
    },
    {
      "cell_type": "code",
      "metadata": {
        "id": "HtZ3h1fbNxnU",
        "colab_type": "code",
        "colab": {}
      },
      "source": [
        "# importing libraries\n",
        "import torch\n",
        "import torch.nn as nn"
      ],
      "execution_count": 1,
      "outputs": []
    },
    {
      "cell_type": "code",
      "metadata": {
        "id": "uOSsRrDwgUk2",
        "colab_type": "code",
        "colab": {}
      },
      "source": [
        "# Lenet5 architecture\n",
        "class LeNet(nn.Module):\n",
        "  def __init__(self):\n",
        "    super(LeNet, self).__init__()\n",
        "    self.relu = nn.ReLU()\n",
        "    self.pool = nn.AvgPool2d(kernel_size=(2,2), stride=(2,2))\n",
        "    self.conv1 = nn.Conv2d(in_channels=1, out_channels=6, kernel_size=(5,5), stride=(1,1), padding=(0,0))\n",
        "    self.conv2 = nn.Conv2d(in_channels=6, out_channels=16, kernel_size=(5,5), stride=(1,1), padding=(0,0))\n",
        "    self.conv3 = nn.Conv2d(in_channels=16, out_channels=120, kernel_size=(5,5), stride=(1,1), padding=(0,0))\n",
        "    self.linear1 = nn.Linear(120, 84)\n",
        "    self.linear2 = nn.Linear(84,10)\n",
        "\n",
        "  def forward(self,x):\n",
        "    x = self.relu(self.conv1(x))\n",
        "    x = self.pool(x)\n",
        "    x = self.relu(self.conv2(x))\n",
        "    x = self.pool(x)\n",
        "    x = self.relu(self.conv3(x))\n",
        "    # x is of shape batch_size x 120 x 1 x 1\n",
        "    # we flatten x to feed it to FC layer\n",
        "    x = x.reshape(x.shape[0], -1)\n",
        "    x = self.relu(self.linear1(x))\n",
        "    x = self.linear2(x)\n",
        "    return x"
      ],
      "execution_count": 10,
      "outputs": []
    },
    {
      "cell_type": "code",
      "metadata": {
        "id": "syYJREdrlO-g",
        "colab_type": "code",
        "colab": {
          "base_uri": "https://localhost:8080/",
          "height": 34
        },
        "outputId": "817e295a-0b2f-47b1-c850-9e439de2edf3"
      },
      "source": [
        "x = torch.randn([64, 1, 32, 32])\n",
        "model = LeNet()\n",
        "print (model(x).shape)"
      ],
      "execution_count": 11,
      "outputs": [
        {
          "output_type": "stream",
          "text": [
            "torch.Size([64, 10])\n"
          ],
          "name": "stdout"
        }
      ]
    },
    {
      "cell_type": "code",
      "metadata": {
        "id": "4awnzodTlbZ9",
        "colab_type": "code",
        "colab": {}
      },
      "source": [
        ""
      ],
      "execution_count": null,
      "outputs": []
    }
  ]
}