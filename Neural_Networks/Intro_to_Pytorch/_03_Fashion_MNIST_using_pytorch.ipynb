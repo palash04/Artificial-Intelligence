{
  "nbformat": 4,
  "nbformat_minor": 0,
  "metadata": {
    "colab": {
      "name": "_03_Fashion_MNIST_using_pytorch.ipynb",
      "provenance": [],
      "authorship_tag": "ABX9TyMixo2f4FSBAd7HIHShxujN",
      "include_colab_link": true
    },
    "kernelspec": {
      "name": "python3",
      "display_name": "Python 3"
    }
  },
  "cells": [
    {
      "cell_type": "markdown",
      "metadata": {
        "id": "view-in-github",
        "colab_type": "text"
      },
      "source": [
        "<a href=\"https://colab.research.google.com/github/palash04/Artificial-Intelligence/blob/master/Neural_Networks/Intro_to_Pytorch/_03_Fashion_MNIST_using_pytorch.ipynb\" target=\"_parent\"><img src=\"https://colab.research.google.com/assets/colab-badge.svg\" alt=\"Open In Colab\"/></a>"
      ]
    },
    {
      "cell_type": "code",
      "metadata": {
        "id": "orHWK8Ke-2ET",
        "colab_type": "code",
        "colab": {}
      },
      "source": [
        "# Importing all the packages\n",
        "import numpy as np\n",
        "import torch\n",
        "from torch import nn,optim\n",
        "import matplotlib.pyplot as plt\n",
        "from torchvision import datasets,transforms"
      ],
      "execution_count": 72,
      "outputs": []
    },
    {
      "cell_type": "code",
      "metadata": {
        "id": "3BM7o9SLAE3O",
        "colab_type": "code",
        "colab": {}
      },
      "source": [
        "transform = transforms.Compose([transforms.ToTensor(),\n",
        "                                transforms.Normalize((0.5,),(0.5,))])"
      ],
      "execution_count": 73,
      "outputs": []
    },
    {
      "cell_type": "code",
      "metadata": {
        "id": "9GYxRr6VAfgt",
        "colab_type": "code",
        "colab": {}
      },
      "source": [
        "# Downloading dataset\n",
        "# Shuffle them and transform each one of them\n",
        "\n",
        "trainset = datasets.FashionMNIST('~/.pytorch/F_MNIST_data',download=True,train=True,transform=transform)\n",
        "testset = datasets.FashionMNIST('~/.pytorch/F_MNIST_data',download=True,train=False,transform=transform)\n",
        "\n",
        "trainloader = torch.utils.data.DataLoader(trainset, batch_size=64,shuffle=True)\n",
        "testloader = torch.utils.data.DataLoader(testset, batch_size=64, shuffle=True)"
      ],
      "execution_count": 74,
      "outputs": []
    },
    {
      "cell_type": "markdown",
      "metadata": {
        "id": "KpFIEfylDdMV",
        "colab_type": "text"
      },
      "source": [
        "![Screenshot 2020-07-01 at 16 35 31](https://user-images.githubusercontent.com/26361028/86237159-e2b34f00-bbb8-11ea-9e60-6c92a7b2491a.png)\n"
      ]
    },
    {
      "cell_type": "code",
      "metadata": {
        "id": "WoTeJ-d2DnJ-",
        "colab_type": "code",
        "colab": {
          "base_uri": "https://localhost:8080/",
          "height": 35
        },
        "outputId": "ca0fb0d7-f0ed-47f6-9074-bea53972b4ce"
      },
      "source": [
        "# Making a mapping for label and description\n",
        "def what_is_this(x):\n",
        "  what = {0: 'T-shirt/top', 1: 'Trouser', 2: 'Pullover', 3: 'Dress', 4: 'Coat', 5: 'Sandal', 6: 'Shirt', 7: 'Sneaker', 8: 'Bag', 9: 'Ankle boot'}\n",
        "  return what[x]\n",
        "\n",
        "what_is_this(3)"
      ],
      "execution_count": 75,
      "outputs": [
        {
          "output_type": "execute_result",
          "data": {
            "application/vnd.google.colaboratory.intrinsic": {
              "type": "string"
            },
            "text/plain": [
              "'Dress'"
            ]
          },
          "metadata": {
            "tags": []
          },
          "execution_count": 75
        }
      ]
    },
    {
      "cell_type": "code",
      "metadata": {
        "id": "3uFuOyayBPI1",
        "colab_type": "code",
        "colab": {
          "base_uri": "https://localhost:8080/",
          "height": 299
        },
        "outputId": "6a4e4c24-e4dd-41fc-aa8e-99182155bf52"
      },
      "source": [
        "# Let's plot one output\n",
        "images,labels = next(iter(trainloader))\n",
        "print (images.shape)\n",
        "\n",
        "i = 25\n",
        "plt.imshow(images[i].numpy().squeeze(), cmap='gray_r')\n",
        "#print (\"Them labeled item is : \", what_is_this(labels[i]))\n",
        "x = list(labels.numpy())[i]\n",
        "print (\"Labeled object is : \", what_is_this(x))"
      ],
      "execution_count": 86,
      "outputs": [
        {
          "output_type": "stream",
          "text": [
            "torch.Size([64, 1, 28, 28])\n",
            "Labeled object is :  Shirt\n"
          ],
          "name": "stdout"
        },
        {
          "output_type": "display_data",
          "data": {
            "image/png": "[encoded data removed]",
            "text/plain": [
              "<Figure size 432x288 with 1 Axes>"
            ]
          },
          "metadata": {
            "tags": [],
            "needs_background": "light"
          }
        }
      ]
    },
    {
      "cell_type": "code",
      "metadata": {
        "id": "9WS1ZhvpCSbY",
        "colab_type": "code",
        "colab": {
          "base_uri": "https://localhost:8080/",
          "height": 187
        },
        "outputId": "bdbe281b-669a-474f-f45e-9746b029749b"
      },
      "source": [
        "# Building the network\n",
        "\n",
        "input_size = 784\n",
        "hidden_sizes = [256,128,64]\n",
        "output_size = 10\n",
        "\n",
        "model = nn.Sequential(nn.Linear(input_size,hidden_sizes[0]),\n",
        "                      nn.ReLU(),\n",
        "                      nn.Linear(hidden_sizes[0],hidden_sizes[1]),\n",
        "                      nn.ReLU(),\n",
        "                      nn.Linear(hidden_sizes[1],hidden_sizes[2]),\n",
        "                      nn.ReLU(),\n",
        "                      nn.Linear(hidden_sizes[2],output_size),\n",
        "                      nn.LogSoftmax(dim=1))\n",
        "\n",
        "print (model)\n"
      ],
      "execution_count": 99,
      "outputs": [
        {
          "output_type": "stream",
          "text": [
            "Sequential(\n",
            "  (0): Linear(in_features=784, out_features=256, bias=True)\n",
            "  (1): ReLU()\n",
            "  (2): Linear(in_features=256, out_features=128, bias=True)\n",
            "  (3): ReLU()\n",
            "  (4): Linear(in_features=128, out_features=64, bias=True)\n",
            "  (5): ReLU()\n",
            "  (6): Linear(in_features=64, out_features=10, bias=True)\n",
            "  (7): LogSoftmax()\n",
            ")\n"
          ],
          "name": "stdout"
        }
      ]
    },
    {
      "cell_type": "code",
      "metadata": {
        "id": "H_N91oIXXDPD",
        "colab_type": "code",
        "colab": {
          "base_uri": "https://localhost:8080/",
          "height": 272
        },
        "outputId": "3500bcff-1ffd-4b0d-863f-6ec98e81e069"
      },
      "source": [
        "optimizer = optim.SGD(model.parameters(), lr = 0.01)\n",
        "criterion = nn.NLLLoss()\n",
        "\n",
        "epochs = 15\n",
        "for e in range(epochs):\n",
        "  running_loss = 0\n",
        "  for images,labels in trainloader:\n",
        "    images = images.view(images.shape[0],-1)\n",
        "    optimizer.zero_grad()\n",
        "    output = model(images)\n",
        "    loss = criterion(output,labels)\n",
        "    loss.backward()\n",
        "    optimizer.step()\n",
        "\n",
        "    running_loss += loss.item()\n",
        "\n",
        "  print ('Epoch {} - Training Loss: {}'.format(e,running_loss/len(trainloader)))"
      ],
      "execution_count": 87,
      "outputs": [
        {
          "output_type": "stream",
          "text": [
            "Epoch 0 - Training Loss: 1.3566355807885433\n",
            "Epoch 1 - Training Loss: 0.6120463666885392\n",
            "Epoch 2 - Training Loss: 0.5294754433987746\n",
            "Epoch 3 - Training Loss: 0.4834233410577022\n",
            "Epoch 4 - Training Loss: 0.4521421437610441\n",
            "Epoch 5 - Training Loss: 0.4268081608706954\n",
            "Epoch 6 - Training Loss: 0.40717102601520544\n",
            "Epoch 7 - Training Loss: 0.39153063438658015\n",
            "Epoch 8 - Training Loss: 0.3773364330818658\n",
            "Epoch 9 - Training Loss: 0.365087588395137\n",
            "Epoch 10 - Training Loss: 0.3556111622879754\n",
            "Epoch 11 - Training Loss: 0.3456148462000686\n",
            "Epoch 12 - Training Loss: 0.33653204980244766\n",
            "Epoch 13 - Training Loss: 0.32713798495498037\n",
            "Epoch 14 - Training Loss: 0.3208584764809497\n"
          ],
          "name": "stdout"
        }
      ]
    },
    {
      "cell_type": "code",
      "metadata": {
        "id": "1tlJhW5XeA1M",
        "colab_type": "code",
        "colab": {
          "base_uri": "https://localhost:8080/",
          "height": 51
        },
        "outputId": "31aede00-f078-4de8-95a7-43549562ce68"
      },
      "source": [
        "# Testing the model\n",
        "correct_count, all_count = 0,0\n",
        "for images,labels in testloader:\n",
        "  for i in range(len(labels)):\n",
        "    img = images[i].view(1,784)\n",
        "    with torch.no_grad():\n",
        "      logps = model(img)\n",
        "    ps = torch.exp(logps)\n",
        "    probab = list(ps.numpy()[0])\n",
        "    pred_label = probab.index(max(probab))\n",
        "    true_label = labels.numpy()[i]\n",
        "    if true_label == pred_label:\n",
        "      correct_count += 1\n",
        "    all_count += 1\n",
        "\n",
        "print ('Number of images tested: ', all_count)\n",
        "print ('Model accuracy: ', (correct_count/all_count))\n"
      ],
      "execution_count": 88,
      "outputs": [
        {
          "output_type": "stream",
          "text": [
            "Number of images tested:  10000\n",
            "Model accuracy:  0.8665\n"
          ],
          "name": "stdout"
        }
      ]
    },
    {
      "cell_type": "markdown",
      "metadata": {
        "id": "Yc3aUnm2flmA",
        "colab_type": "text"
      },
      "source": [
        "86%..Not that bad"
      ]
    },
    {
      "cell_type": "code",
      "metadata": {
        "id": "JVi5wv4EfiJR",
        "colab_type": "code",
        "colab": {}
      },
      "source": [
        "# Let's build once again, this time we will change the learning rate a bit \n",
        "\n",
        "model2 = nn.Sequential(nn.Linear(784,256),\n",
        "                       nn.ReLU(),\n",
        "                       nn.Linear(256,128),\n",
        "                       nn.ReLU(),\n",
        "                       nn.Linear(128,64),\n",
        "                       nn.ReLU(),\n",
        "                       nn.Linear(64,10),\n",
        "                       nn.LogSoftmax(dim=1))\n",
        "\n",
        "optimizer = optim.SGD(model2.parameters(), lr = 0.03)\n",
        "criterion = nn.NLLLoss()"
      ],
      "execution_count": 106,
      "outputs": []
    },
    {
      "cell_type": "code",
      "metadata": {
        "id": "NTEzLtc4ghE9",
        "colab_type": "code",
        "colab": {
          "base_uri": "https://localhost:8080/",
          "height": 272
        },
        "outputId": "b07013d6-d2ab-4335-8f98-8d48b0fa4b56"
      },
      "source": [
        "epochs = 15\n",
        "for e in range(epochs):\n",
        "  running_loss = 0\n",
        "  for images,labels in trainloader:\n",
        "    images = images.view(images.shape[0],-1)\n",
        "    logps = model2(images)\n",
        "    loss = criterion(logps,labels)\n",
        "\n",
        "    optimizer.zero_grad()\n",
        "    loss.backward()\n",
        "    optimizer.step()\n",
        "\n",
        "    running_loss += loss.item()\n",
        "  \n",
        "  print ('Epoch {} - Training Loss {}: '.format(e,running_loss/len(trainloader)))\n",
        "  "
      ],
      "execution_count": 107,
      "outputs": [
        {
          "output_type": "stream",
          "text": [
            "Epoch 0 - Training Loss 0.8564614081370042: \n",
            "Epoch 1 - Training Loss 0.47932088356028235: \n",
            "Epoch 2 - Training Loss 0.41926447956610335: \n",
            "Epoch 3 - Training Loss 0.3840973034088037: \n",
            "Epoch 4 - Training Loss 0.3590042540418314: \n",
            "Epoch 5 - Training Loss 0.33761743248017356: \n",
            "Epoch 6 - Training Loss 0.32161201929836386: \n",
            "Epoch 7 - Training Loss 0.30881492014346856: \n",
            "Epoch 8 - Training Loss 0.2967112873520043: \n",
            "Epoch 9 - Training Loss 0.2854115111248961: \n",
            "Epoch 10 - Training Loss 0.2758173187261324: \n",
            "Epoch 11 - Training Loss 0.2670316408866885: \n",
            "Epoch 12 - Training Loss 0.2589345124484634: \n",
            "Epoch 13 - Training Loss 0.2491871321411021: \n",
            "Epoch 14 - Training Loss 0.24338489096524366: \n"
          ],
          "name": "stdout"
        }
      ]
    },
    {
      "cell_type": "code",
      "metadata": {
        "id": "pQJdZuMghBz_",
        "colab_type": "code",
        "colab": {
          "base_uri": "https://localhost:8080/",
          "height": 51
        },
        "outputId": "c43a067e-010f-418d-a6e7-c7028ebad0d6"
      },
      "source": [
        "# Testing the new model\n",
        "\n",
        "correct_count, all_count = 0,0\n",
        "\n",
        "for images,labels in testloader:\n",
        "  for i in range(len(labels)):\n",
        "    img =  images[i].view(1,784)\n",
        "    with torch.no_grad():\n",
        "      logps = model2(img)\n",
        "    ps = torch.exp(logps)\n",
        "    probab = list(ps.numpy()[0])\n",
        "    pred_label = probab.index(max(probab))\n",
        "    true_label = labels.numpy()[i]\n",
        "    if true_label == pred_label:\n",
        "      correct_count += 1\n",
        "    all_count += 1\n",
        "\n",
        "print ('Number of images tested: ', all_count)\n",
        "print ('Model Accuracy: ', (correct_count/all_count))"
      ],
      "execution_count": 108,
      "outputs": [
        {
          "output_type": "stream",
          "text": [
            "Number of images tested:  10000\n",
            "Model Accuracy:  0.8813\n"
          ],
          "name": "stdout"
        }
      ]
    },
    {
      "cell_type": "code",
      "metadata": {
        "id": "sJo8qIr5ibQC",
        "colab_type": "code",
        "colab": {}
      },
      "source": [
        ""
      ],
      "execution_count": null,
      "outputs": []
    }
  ]
}