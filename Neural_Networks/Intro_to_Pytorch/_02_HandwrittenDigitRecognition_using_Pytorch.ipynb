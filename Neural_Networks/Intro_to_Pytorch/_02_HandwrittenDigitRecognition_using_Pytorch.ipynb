{
  "nbformat": 4,
  "nbformat_minor": 0,
  "metadata": {
    "colab": {
      "name": "_02_HandwrittenDigitRecognition_using_Pytorch.ipynb",
      "provenance": [],
      "mount_file_id": "1-JspyFdi4yVDcNlROvUsi_3bnntgL-C_",
      "authorship_tag": "ABX9TyNJzP8FWGkoOdt39ZunYXlO",
      "include_colab_link": true
    },
    "kernelspec": {
      "name": "python3",
      "display_name": "Python 3"
    }
  },
  "cells": [
    {
      "cell_type": "markdown",
      "metadata": {
        "id": "view-in-github",
        "colab_type": "text"
      },
      "source": [
        "<a href=\"https://colab.research.google.com/github/palash04/Artificial-Intelligence/blob/master/Neural_Networks/Intro_to_Pytorch/_02_HandwrittenDigitRecognition_using_Pytorch.ipynb\" target=\"_parent\"><img src=\"https://colab.research.google.com/assets/colab-badge.svg\" alt=\"Open In Colab\"/></a>"
      ]
    },
    {
      "cell_type": "code",
      "metadata": {
        "id": "jBvcZSPIemIx",
        "colab_type": "code",
        "colab": {}
      },
      "source": [
        "import numpy as np\n",
        "import torch\n",
        "import torchvision\n",
        "import matplotlib.pyplot as plt\n",
        "from time import time\n",
        "from torchvision import datasets,transforms\n",
        "from torch import nn, optim"
      ],
      "execution_count": 6,
      "outputs": []
    },
    {
      "cell_type": "code",
      "metadata": {
        "id": "un9_tbeJf3su",
        "colab_type": "code",
        "colab": {}
      },
      "source": [
        "transform = transforms.Compose([transforms.ToTensor(),\n",
        "                                transforms.Normalize((0.5,),(0.5,)),\n",
        "                                ])"
      ],
      "execution_count": 7,
      "outputs": []
    },
    {
      "cell_type": "markdown",
      "metadata": {
        "id": "3n5qEl3Kgeo4",
        "colab_type": "text"
      },
      "source": [
        "- **transforms.ToTensor()** — converts the image into numbers, that are understandable by the system. It separates the image into three color channels (separate images): red, green & blue. Then it converts the pixels of each image to the brightness of their color between 0 and 255. These values are then scaled down to a range between 0 and 1. The image is now a Torch Tensor.\n",
        "- **transforms.Normalize()** — normalizes the tensor with a mean and standard deviation which goes as the two parameters respectively."
      ]
    },
    {
      "cell_type": "code",
      "metadata": {
        "id": "IPe__lbWgd7T",
        "colab_type": "code",
        "colab": {}
      },
      "source": [
        "# Downloading the datasets\n",
        "# Shuffle them and transform each one of them\n",
        "\n",
        "trainset = datasets.MNIST('~/.pytorch/MNIST_data',download=True,train=True,transform = transform)\n",
        "testset = datasets.MNIST('~/.pytorch/MNIST_data',download=True,train=False,transform = transform)\n",
        "trainloader = torch.utils.data.DataLoader(trainset, batch_size = 64, shuffle = True)\n",
        "testloader = torch.utils.data.DataLoader(trainset, batch_size = 64, shuffle = True)\n",
        "\n",
        "# Batch size is the number of images we want to read in one go"
      ],
      "execution_count": 12,
      "outputs": []
    },
    {
      "cell_type": "code",
      "metadata": {
        "id": "fKxDlDollFDr",
        "colab_type": "code",
        "colab": {
          "base_uri": "https://localhost:8080/",
          "height": 51
        },
        "outputId": "e4fc5a90-e52e-4f0e-eeea-ce90fc4881ca"
      },
      "source": [
        "dataiter = iter(trainloader)\n",
        "images,labels = dataiter.next()\n",
        "\n",
        "print (images.shape)\n",
        "print (labels.shape)"
      ],
      "execution_count": 20,
      "outputs": [
        {
          "output_type": "stream",
          "text": [
            "torch.Size([64, 1, 28, 28])\n",
            "torch.Size([64])\n"
          ],
          "name": "stdout"
        }
      ]
    },
    {
      "cell_type": "markdown",
      "metadata": {
        "id": "b-dYI1KlmRib",
        "colab_type": "text"
      },
      "source": [
        "- The shape of images which is torch.Size([64, 1, 28, 28]) suggests that in one batch there are 64 images, with color channel as 1, and each image has a dimension of 28x28 pixels.\n",
        "- The shape of labels is torch.Size([64]) which is for 64 images in the batch."
      ]
    },
    {
      "cell_type": "code",
      "metadata": {
        "id": "_lLB-aUKlQio",
        "colab_type": "code",
        "colab": {
          "base_uri": "https://localhost:8080/",
          "height": 282
        },
        "outputId": "eab41ca0-7f04-4ca8-e5e0-d80b5f25b63e"
      },
      "source": [
        "# Displaying one image from the dataset\n",
        "\n",
        "plt.imshow(images[0].numpy().squeeze(), cmap='gray_r')"
      ],
      "execution_count": 22,
      "outputs": [
        {
          "output_type": "execute_result",
          "data": {
            "text/plain": [
              "<matplotlib.image.AxesImage at 0x7f4cc570fa58>"
            ]
          },
          "metadata": {
            "tags": []
          },
          "execution_count": 22
        },
        {
          "output_type": "display_data",
          "data": {
            "image/png": "[encoded data removed]",
            "text/plain": [
              "<Figure size 432x288 with 1 Axes>"
            ]
          },
          "metadata": {
            "tags": [],
            "needs_background": "light"
          }
        }
      ]
    },
    {
      "cell_type": "code",
      "metadata": {
        "id": "lB5vUDtYnqcC",
        "colab_type": "code",
        "colab": {
          "base_uri": "https://localhost:8080/",
          "height": 246
        },
        "outputId": "d00700c0-252c-4c25-e26d-2868ad5e2eee"
      },
      "source": [
        "figure = plt.figure()\n",
        "num_of_images = 60\n",
        "for index in range(1,num_of_images+1):\n",
        "  plt.subplot(6,10,index)\n",
        "  plt.axis('off')\n",
        "  plt.imshow(images[index].numpy().squeeze(), cmap='gray_r')"
      ],
      "execution_count": 32,
      "outputs": [
        {
          "output_type": "display_data",
          "data": {
            "image/png": "[encoded data removed]",
            "text/plain": [
              "<Figure size 432x288 with 60 Axes>"
            ]
          },
          "metadata": {
            "tags": [],
            "needs_background": "light"
          }
        }
      ]
    },
    {
      "cell_type": "markdown",
      "metadata": {
        "id": "-cOxg5QaozbM",
        "colab_type": "text"
      },
      "source": [
        "# Building the neural network\n",
        "![Screenshot 2020-07-01 at 10 00 02](https://user-images.githubusercontent.com/26361028/86203073-a3b5d700-bb81-11ea-9e58-1d93f3ca95d2.png)\n"
      ]
    },
    {
      "cell_type": "markdown",
      "metadata": {
        "id": "PdXEDk0apBAw",
        "colab_type": "text"
      },
      "source": [
        "PyTorch’s torch.nn module allows us to build the above network very simply."
      ]
    },
    {
      "cell_type": "code",
      "metadata": {
        "id": "APnjRDCpoVGq",
        "colab_type": "code",
        "colab": {
          "base_uri": "https://localhost:8080/",
          "height": 153
        },
        "outputId": "87396937-0684-4b20-b304-86719f79f3aa"
      },
      "source": [
        "input_size = 784      # 784 because we flatten out the image i.e 28 x 28 = 784\n",
        "hidden_sizes = [128,64]\n",
        "output_size = 10\n",
        "\n",
        "model = nn.Sequential(nn.Linear(input_size,hidden_sizes[0]),\n",
        "                      nn.ReLU(),\n",
        "                      nn.Linear(hidden_sizes[0],hidden_sizes[1]),\n",
        "                      nn.ReLU(),\n",
        "                      nn.Linear(hidden_sizes[1],output_size),\n",
        "                      nn.LogSoftmax(dim=1),\n",
        "                      )\n",
        "\n",
        "print (model)"
      ],
      "execution_count": 33,
      "outputs": [
        {
          "output_type": "stream",
          "text": [
            "Sequential(\n",
            "  (0): Linear(in_features=784, out_features=128, bias=True)\n",
            "  (1): ReLU()\n",
            "  (2): Linear(in_features=128, out_features=64, bias=True)\n",
            "  (3): ReLU()\n",
            "  (4): Linear(in_features=64, out_features=10, bias=True)\n",
            "  (5): LogSoftmax()\n",
            ")\n"
          ],
          "name": "stdout"
        }
      ]
    },
    {
      "cell_type": "markdown",
      "metadata": {
        "id": "pPLQz52spwOu",
        "colab_type": "text"
      },
      "source": [
        "The nn.Sequential wraps the layers in the network. There are three linear layers with ReLU activation ( a simple function which allows positive values to pass through, whereas negative values are modified to zero ). The output layer is a linear layer with LogSoftmax activation because this is a classification problem.\n",
        "\n",
        "Technically, a LogSoftmax function is the logarithm of a Softmax function\n",
        "\n",
        "![Screenshot 2020-07-01 at 10 04 36](https://user-images.githubusercontent.com/26361028/86203290-4706ec00-bb82-11ea-9a5c-f9429cc9d80b.png)\n"
      ]
    },
    {
      "cell_type": "markdown",
      "metadata": {
        "id": "mLKlaq32qKe3",
        "colab_type": "text"
      },
      "source": [
        "Next, we define the negative log-likelihood loss. It is useful to train a classification problem with C classes. Together the LogSoftmax() and NLLLoss() acts as the cross-entropy loss as shown in the network architecture diagram above."
      ]
    },
    {
      "cell_type": "code",
      "metadata": {
        "id": "C53tedSKpkZX",
        "colab_type": "code",
        "colab": {
          "base_uri": "https://localhost:8080/",
          "height": 34
        },
        "outputId": "449ad325-1a32-4dd6-935e-953178ee2ef0"
      },
      "source": [
        "criterion = nn.NLLLoss()\n",
        "images,labels = next(iter(trainloader))\n",
        "images = images.view(images.shape[0],-1)\n",
        "\n",
        "logps = model(images)   # log probabilities\n",
        "loss = criterion(logps,labels)  # calculate the NLL loss\n",
        "print (loss)"
      ],
      "execution_count": 35,
      "outputs": [
        {
          "output_type": "stream",
          "text": [
            "tensor(2.3549, grad_fn=<NllLossBackward>)\n"
          ],
          "name": "stdout"
        }
      ]
    },
    {
      "cell_type": "markdown",
      "metadata": {
        "id": "eE_jPxW0r3YQ",
        "colab_type": "text"
      },
      "source": [
        "### Adjusting weights\n",
        "A neural network learns by iterating multiple times over the available data. The terms learn refers to the adjustment of weights of the network to minimize the loss."
      ]
    },
    {
      "cell_type": "code",
      "metadata": {
        "id": "KDV1-QpHqAWN",
        "colab_type": "code",
        "colab": {
          "base_uri": "https://localhost:8080/",
          "height": 187
        },
        "outputId": "a4fcd990-9bcd-44f9-ac7c-d80a94da9e26"
      },
      "source": [
        "print ('Before backward pass: \\n', model[0].weight.grad)\n",
        "loss.backward()\n",
        "print ('After backward pass: \\n', model[0].weight.grad)"
      ],
      "execution_count": 36,
      "outputs": [
        {
          "output_type": "stream",
          "text": [
            "Before backward pass: \n",
            " None\n",
            "After backward pass: \n",
            " tensor([[ 0.0007,  0.0007,  0.0007,  ...,  0.0007,  0.0007,  0.0007],\n",
            "        [-0.0003, -0.0003, -0.0003,  ..., -0.0003, -0.0003, -0.0003],\n",
            "        [-0.0078, -0.0078, -0.0078,  ..., -0.0078, -0.0078, -0.0078],\n",
            "        ...,\n",
            "        [-0.0006, -0.0006, -0.0006,  ..., -0.0006, -0.0006, -0.0006],\n",
            "        [ 0.0053,  0.0053,  0.0053,  ...,  0.0053,  0.0053,  0.0053],\n",
            "        [-0.0011, -0.0011, -0.0011,  ..., -0.0011, -0.0011, -0.0011]])\n"
          ],
          "name": "stdout"
        }
      ]
    },
    {
      "cell_type": "markdown",
      "metadata": {
        "id": "EDdX4UzqsNx9",
        "colab_type": "text"
      },
      "source": [
        "# Core Training Process\n",
        "This is where the actual magic happens. Your neural network iterates over the training set and updates the weights. We make use of torch.optim which is a module provided by PyTorch to optimize the model, perform gradient descent and update the weights by back-propagation. Thus in each epoch (number of times we iterate over the training set), we will be seeing a gradual decrease in training loss."
      ]
    },
    {
      "cell_type": "code",
      "metadata": {
        "id": "Oa2Y2VPDsF1z",
        "colab_type": "code",
        "colab": {
          "base_uri": "https://localhost:8080/",
          "height": 306
        },
        "outputId": "f9535829-13c1-42b1-a56e-f69b7d2ac83d"
      },
      "source": [
        "optimizer = optim.SGD(model.parameters(), lr=0.01)\n",
        "time0 = time()\n",
        "epochs = 15\n",
        "for e in range(epochs):\n",
        "  running_loss = 0\n",
        "  for images,labels in trainloader:\n",
        "    # Flattening images\n",
        "    images = images.view(images.shape[0],-1)\n",
        "\n",
        "    # Training pass\n",
        "    optimizer.zero_grad()\n",
        "\n",
        "    output = model(images)\n",
        "    loss = criterion(output,labels)\n",
        "\n",
        "    # Backpropagate\n",
        "    loss.backward()\n",
        "\n",
        "    # Optimize the weights\n",
        "    optimizer.step()\n",
        "\n",
        "    running_loss += loss.item()\n",
        "  \n",
        "  print ('Epoch {} - Training loss: {}'.format(e,running_loss/len(trainloader)))\n",
        "\n",
        "print ('\\nTraining time (in minutes) = ', (time() - time0)/60)"
      ],
      "execution_count": 38,
      "outputs": [
        {
          "output_type": "stream",
          "text": [
            "Epoch 0 - Training loss: 0.12624317119374617\n",
            "Epoch 1 - Training loss: 0.12013763151784886\n",
            "Epoch 2 - Training loss: 0.11398777912563479\n",
            "Epoch 3 - Training loss: 0.10857373618407608\n",
            "Epoch 4 - Training loss: 0.10331249743926404\n",
            "Epoch 5 - Training loss: 0.09866303250964072\n",
            "Epoch 6 - Training loss: 0.09437341919677185\n",
            "Epoch 7 - Training loss: 0.09034820895856505\n",
            "Epoch 8 - Training loss: 0.08633282415862721\n",
            "Epoch 9 - Training loss: 0.08299035097716619\n",
            "Epoch 10 - Training loss: 0.07976984464204007\n",
            "Epoch 11 - Training loss: 0.07670844305775312\n",
            "Epoch 12 - Training loss: 0.07332229214126686\n",
            "Epoch 13 - Training loss: 0.07037379960172069\n",
            "Epoch 14 - Training loss: 0.06764646638869874\n",
            "\n",
            "Training time (in minutes) =  2.5972460389137266\n"
          ],
          "name": "stdout"
        }
      ]
    },
    {
      "cell_type": "markdown",
      "metadata": {
        "id": "OfhoIqYAvVTe",
        "colab_type": "text"
      },
      "source": [
        "## Testing and Evaluating\n"
      ]
    },
    {
      "cell_type": "code",
      "metadata": {
        "id": "GE2nFKmJsTfk",
        "colab_type": "code",
        "colab": {
          "base_uri": "https://localhost:8080/",
          "height": 34
        },
        "outputId": "93b378be-f864-4869-fd2e-beb22bc2faa1"
      },
      "source": [
        "images, labels = next(iter(testloader))\n",
        "\n",
        "images.shape"
      ],
      "execution_count": 39,
      "outputs": [
        {
          "output_type": "execute_result",
          "data": {
            "text/plain": [
              "torch.Size([64, 1, 28, 28])"
            ]
          },
          "metadata": {
            "tags": []
          },
          "execution_count": 39
        }
      ]
    },
    {
      "cell_type": "code",
      "metadata": {
        "id": "8z22sYyEvjMy",
        "colab_type": "code",
        "colab": {
          "base_uri": "https://localhost:8080/",
          "height": 282
        },
        "outputId": "b22de486-a49b-4418-b59a-f376097e41ea"
      },
      "source": [
        "# Let's plot the first image in this batch\n",
        "plt.imshow(images[1].numpy().squeeze(), cmap='gray_r')"
      ],
      "execution_count": 62,
      "outputs": [
        {
          "output_type": "execute_result",
          "data": {
            "text/plain": [
              "<matplotlib.image.AxesImage at 0x7f4cc5697780>"
            ]
          },
          "metadata": {
            "tags": []
          },
          "execution_count": 62
        },
        {
          "output_type": "display_data",
          "data": {
            "image/png": "[encoded data removed]",
            "text/plain": [
              "<Figure size 432x288 with 1 Axes>"
            ]
          },
          "metadata": {
            "tags": [],
            "needs_background": "light"
          }
        }
      ]
    },
    {
      "cell_type": "code",
      "metadata": {
        "id": "21X_VabLwUQ3",
        "colab_type": "code",
        "colab": {
          "base_uri": "https://localhost:8080/",
          "height": 34
        },
        "outputId": "662691d3-c1ff-453c-8c76-ee04c47beab4"
      },
      "source": [
        "img = images[1].view(1,784)\n",
        "img.shape"
      ],
      "execution_count": 63,
      "outputs": [
        {
          "output_type": "execute_result",
          "data": {
            "text/plain": [
              "torch.Size([1, 784])"
            ]
          },
          "metadata": {
            "tags": []
          },
          "execution_count": 63
        }
      ]
    },
    {
      "cell_type": "code",
      "metadata": {
        "id": "TuCUBf4CwfPC",
        "colab_type": "code",
        "colab": {}
      },
      "source": [
        "with torch.no_grad():\n",
        "  logps = model(img)"
      ],
      "execution_count": 64,
      "outputs": []
    },
    {
      "cell_type": "code",
      "metadata": {
        "id": "6pXL_MPdwlkF",
        "colab_type": "code",
        "colab": {
          "base_uri": "https://localhost:8080/",
          "height": 34
        },
        "outputId": "c65699f0-36e6-4781-c64d-30bd1f64dca4"
      },
      "source": [
        "ps = torch.exp(logps)\n",
        "probab = list(ps.numpy()[0])\n",
        "print('Predicted digit = ', probab.index(max(probab)))"
      ],
      "execution_count": 65,
      "outputs": [
        {
          "output_type": "stream",
          "text": [
            "Predicted digit =  6\n"
          ],
          "name": "stdout"
        }
      ]
    },
    {
      "cell_type": "markdown",
      "metadata": {
        "id": "R9vp7-9Ixc3g",
        "colab_type": "text"
      },
      "source": [
        "As we see the digit is correctly predicted by the model.\n",
        "Now we will test for the entire test set"
      ]
    },
    {
      "cell_type": "code",
      "metadata": {
        "id": "6JwUY5kfxNpJ",
        "colab_type": "code",
        "colab": {
          "base_uri": "https://localhost:8080/",
          "height": 68
        },
        "outputId": "0990e110-e6fc-4ade-a8e2-ec0aa98d5eaf"
      },
      "source": [
        "correct_count, all_count = 0,0\n",
        "for images,labels in testloader:\n",
        "  for i in range(len(labels)):\n",
        "    img = images[i].view(1,784)\n",
        "    with torch.no_grad():\n",
        "      logps = model(img)\n",
        "    \n",
        "    ps = torch.exp(logps)\n",
        "    probab = list(ps.numpy()[0])\n",
        "    prediction_label = probab.index(max(probab))\n",
        "    true_label = labels.numpy()[i]\n",
        "    if (true_label == prediction_label):\n",
        "      correct_count += 1\n",
        "    all_count += 1\n",
        "\n",
        "print ('Number of Images tested = ', all_count)\n",
        "print ('\\nModel Accuracy = ', (correct_count/all_count))"
      ],
      "execution_count": 68,
      "outputs": [
        {
          "output_type": "stream",
          "text": [
            "Number of Images tested =  60000\n",
            "\n",
            "Model Accuracy =  0.9756666666666667\n"
          ],
          "name": "stdout"
        }
      ]
    },
    {
      "cell_type": "markdown",
      "metadata": {
        "id": "nJMnTaOL0drb",
        "colab_type": "text"
      },
      "source": [
        "We got over 97.5% accuracy\n",
        "The reason we got such a high accuracy was that our data-set was clean, had a variety of well-shuffled images and a large number of them. This made our model well prepared to recognize a large number of unseen digits."
      ]
    },
    {
      "cell_type": "markdown",
      "metadata": {
        "id": "twmwCTD-2Dtf",
        "colab_type": "text"
      },
      "source": [
        "# Saving the model -\n",
        "### so that we can reuse it later instead of going through all the training process again and again."
      ]
    },
    {
      "cell_type": "code",
      "metadata": {
        "id": "v1dZ644bzzik",
        "colab_type": "code",
        "colab": {}
      },
      "source": [
        "torch.save(model, '/content/drive/My Drive/Artificial Intelligence/trained_mnist_model.pt') "
      ],
      "execution_count": 79,
      "outputs": []
    },
    {
      "cell_type": "markdown",
      "metadata": {
        "id": "jDd5cmW93qdW",
        "colab_type": "text"
      },
      "source": [
        "# Loading the model from drive"
      ]
    },
    {
      "cell_type": "code",
      "metadata": {
        "id": "AqHXRQQ52kH8",
        "colab_type": "code",
        "colab": {}
      },
      "source": [
        "path = '/content/drive/My Drive/Artificial Intelligence/trained_mnist_model.pt'\n",
        "model = torch.load(path)"
      ],
      "execution_count": 81,
      "outputs": []
    },
    {
      "cell_type": "code",
      "metadata": {
        "id": "MaC7M76S30v1",
        "colab_type": "code",
        "colab": {
          "base_uri": "https://localhost:8080/",
          "height": 34
        },
        "outputId": "ce12b4a1-441a-4184-a381-24592c816b80"
      },
      "source": [
        "# Checking if the model is successfully loaded\n",
        "\n",
        "images,labels = next(iter(testloader))\n",
        "print (images.shape)"
      ],
      "execution_count": 85,
      "outputs": [
        {
          "output_type": "stream",
          "text": [
            "torch.Size([64, 1, 28, 28])\n"
          ],
          "name": "stdout"
        }
      ]
    },
    {
      "cell_type": "code",
      "metadata": {
        "id": "8k1XHcw34W7V",
        "colab_type": "code",
        "colab": {
          "base_uri": "https://localhost:8080/",
          "height": 282
        },
        "outputId": "4acbc74f-2cf2-4ff4-e33e-ece6b069f74e"
      },
      "source": [
        "plt.imshow(images[0].numpy().squeeze(), cmap='gray_r')"
      ],
      "execution_count": 86,
      "outputs": [
        {
          "output_type": "execute_result",
          "data": {
            "text/plain": [
              "<matplotlib.image.AxesImage at 0x7f4cc4cb51d0>"
            ]
          },
          "metadata": {
            "tags": []
          },
          "execution_count": 86
        },
        {
          "output_type": "display_data",
          "data": {
            "image/png": "[encoded data removed]",
            "text/plain": [
              "<Figure size 432x288 with 1 Axes>"
            ]
          },
          "metadata": {
            "tags": [],
            "needs_background": "light"
          }
        }
      ]
    },
    {
      "cell_type": "code",
      "metadata": {
        "id": "rlPR8pUT4nxp",
        "colab_type": "code",
        "colab": {}
      },
      "source": [
        "# Let's see if the model predicts 3"
      ],
      "execution_count": 87,
      "outputs": []
    },
    {
      "cell_type": "code",
      "metadata": {
        "id": "i7eiRYrM4sVq",
        "colab_type": "code",
        "colab": {}
      },
      "source": [
        "img = images[0].view(1,784)"
      ],
      "execution_count": 88,
      "outputs": []
    },
    {
      "cell_type": "code",
      "metadata": {
        "id": "lEi9jgac4vGK",
        "colab_type": "code",
        "colab": {
          "base_uri": "https://localhost:8080/",
          "height": 34
        },
        "outputId": "7c67da05-ff22-45fa-c785-cbcea1dd0617"
      },
      "source": [
        "img.shape"
      ],
      "execution_count": 89,
      "outputs": [
        {
          "output_type": "execute_result",
          "data": {
            "text/plain": [
              "torch.Size([1, 784])"
            ]
          },
          "metadata": {
            "tags": []
          },
          "execution_count": 89
        }
      ]
    },
    {
      "cell_type": "code",
      "metadata": {
        "id": "8MKpDpUF4vrb",
        "colab_type": "code",
        "colab": {}
      },
      "source": [
        "with torch.no_grad():\n",
        "  logps = model(img)\n",
        "\n",
        "ps = torch.exp(logps)\n",
        "probab = list(ps.numpy()[0])\n",
        "predicted_digit = probab.index(max(probab))"
      ],
      "execution_count": 91,
      "outputs": []
    },
    {
      "cell_type": "code",
      "metadata": {
        "id": "u67LnpMG5Kw4",
        "colab_type": "code",
        "colab": {
          "base_uri": "https://localhost:8080/",
          "height": 34
        },
        "outputId": "c2ce0afe-f7f5-4fab-e264-2ff6493b9162"
      },
      "source": [
        "print (\"Prediction: \", predicted_digit)"
      ],
      "execution_count": 92,
      "outputs": [
        {
          "output_type": "stream",
          "text": [
            "Prediction:  3\n"
          ],
          "name": "stdout"
        }
      ]
    },
    {
      "cell_type": "markdown",
      "metadata": {
        "id": "qO7fq_zG5GDl",
        "colab_type": "text"
      },
      "source": [
        "##### Voila!!!!"
      ]
    },
    {
      "cell_type": "code",
      "metadata": {
        "id": "qXrh6Fwp5C07",
        "colab_type": "code",
        "colab": {}
      },
      "source": [
        ""
      ],
      "execution_count": null,
      "outputs": []
    }
  ]
}