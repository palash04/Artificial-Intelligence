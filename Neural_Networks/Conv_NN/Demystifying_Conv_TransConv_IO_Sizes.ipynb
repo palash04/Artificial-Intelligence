{
  "nbformat": 4,
  "nbformat_minor": 0,
  "metadata": {
    "colab": {
      "name": "Demystifying_Conv_TransConv_IO_Sizes.ipynb",
      "provenance": [],
      "collapsed_sections": [],
      "authorship_tag": "ABX9TyOTTjzX1AigHxoby5fvJFZL",
      "include_colab_link": true
    },
    "kernelspec": {
      "name": "python3",
      "display_name": "Python 3"
    }
  },
  "cells": [
    {
      "cell_type": "markdown",
      "metadata": {
        "id": "view-in-github",
        "colab_type": "text"
      },
      "source": [
        "<a href=\"https://colab.research.google.com/github/palash04/Artificial-Intelligence/blob/master/Neural_Networks/Conv_NN/Demystifying_Conv_TransConv_IO_Sizes.ipynb\" target=\"_parent\"><img src=\"https://colab.research.google.com/assets/colab-badge.svg\" alt=\"Open In Colab\"/></a>"
      ]
    },
    {
      "cell_type": "code",
      "metadata": {
        "id": "5V-uFOM9yE5z",
        "colab_type": "code",
        "colab": {}
      },
      "source": [
        "import torch\n",
        "import torch.nn as nn"
      ],
      "execution_count": 1,
      "outputs": []
    },
    {
      "cell_type": "markdown",
      "metadata": {
        "id": "A6T9tQnG40vc",
        "colab_type": "text"
      },
      "source": [
        "# Normal Convolution (2d)\n",
        "\n",
        "![Screenshot 2020-09-01 at 19 13 29](https://user-images.githubusercontent.com/26361028/91858730-3a3c6c80-ec87-11ea-88f4-67e80fa2b173.png)\n",
        "\n",
        "where, \n",
        "out = output_size\n",
        "in = input_size\n",
        "p = padding\n",
        "s = stride\n",
        "k = kernel_size"
      ]
    },
    {
      "cell_type": "code",
      "metadata": {
        "id": "eEgw-go3ySGk",
        "colab_type": "code",
        "colab": {}
      },
      "source": [
        "class Net(nn.Module):\n",
        "  def __init__(self):\n",
        "    super(Net, self).__init__()\n",
        "    self.main = nn.Sequential(\n",
        "        nn.Conv2d(3, 16, 3, 1, 1, bias=False),\n",
        "        nn.AvgPool2d(2,2),\n",
        "        nn.BatchNorm2d(16)\n",
        "    )\n",
        "  \n",
        "  def forward(self, x):\n",
        "    return self.main(x)"
      ],
      "execution_count": 8,
      "outputs": []
    },
    {
      "cell_type": "code",
      "metadata": {
        "id": "MGGDZn0kyzVn",
        "colab_type": "code",
        "colab": {
          "base_uri": "https://localhost:8080/",
          "height": 34
        },
        "outputId": "745dd3f1-b483-4c7e-8ae5-fa4e01fb8c2a"
      },
      "source": [
        "x = torch.randn(64, 3, 28, 28)\n",
        "model = Net()\n",
        "print (model(x).shape)"
      ],
      "execution_count": 9,
      "outputs": [
        {
          "output_type": "stream",
          "text": [
            "torch.Size([64, 16, 14, 14])\n"
          ],
          "name": "stdout"
        }
      ]
    },
    {
      "cell_type": "markdown",
      "metadata": {
        "id": "7RmPBlE24623",
        "colab_type": "text"
      },
      "source": [
        "# Transposed Convolution\n",
        "\n",
        "![Screenshot 2020-09-01 at 19 13 40](https://user-images.githubusercontent.com/26361028/91858741-40cae400-ec87-11ea-88a2-06b5fd2cb184.png)\n",
        "\n",
        "where, \n",
        "out = output_size\n",
        "in = input_size\n",
        "s = stride\n",
        "p = padding\n",
        "k = kernel_size"
      ]
    },
    {
      "cell_type": "code",
      "metadata": {
        "id": "UEB6EJ6Ny9NX",
        "colab_type": "code",
        "colab": {}
      },
      "source": [
        "class NetTransConv(nn.Module):\n",
        "  def __init__(self):\n",
        "    super(NetTransConv, self).__init__()\n",
        "    self.main = nn.Sequential(\n",
        "        nn.ConvTranspose2d(100, 64*8, 4, 1, 0, bias=False)\n",
        "    )\n",
        "  \n",
        "  def forward(self, x):\n",
        "    return self.main(x)"
      ],
      "execution_count": 10,
      "outputs": []
    },
    {
      "cell_type": "code",
      "metadata": {
        "id": "4hBLEDrq1PCp",
        "colab_type": "code",
        "colab": {
          "base_uri": "https://localhost:8080/",
          "height": 34
        },
        "outputId": "0cc5b82b-10a9-499e-e61c-5d82fd328f66"
      },
      "source": [
        "x = torch.randn(128, 100, 1, 1)\n",
        "model = NetTransConv()\n",
        "print (model(x).shape)"
      ],
      "execution_count": 12,
      "outputs": [
        {
          "output_type": "stream",
          "text": [
            "torch.Size([128, 512, 4, 4])\n"
          ],
          "name": "stdout"
        }
      ]
    },
    {
      "cell_type": "code",
      "metadata": {
        "id": "LPG3n_491Zan",
        "colab_type": "code",
        "colab": {}
      },
      "source": [
        "class NetTransConv2(nn.Module):\n",
        "  def __init__(self):\n",
        "    super(NetTransConv2, self).__init__()\n",
        "    self.main = nn.Sequential(\n",
        "        nn.ConvTranspose2d(100, 64*8, 4, 1, 0, bias=False),\n",
        "        nn.BatchNorm2d(64*8)\n",
        "    )\n",
        "  \n",
        "  def forward(self, x):\n",
        "    return self.main(x)"
      ],
      "execution_count": 17,
      "outputs": []
    },
    {
      "cell_type": "code",
      "metadata": {
        "id": "SwyH6b7-154K",
        "colab_type": "code",
        "colab": {
          "base_uri": "https://localhost:8080/",
          "height": 34
        },
        "outputId": "d0e4e141-6702-404f-9b1f-e363ac16a8fe"
      },
      "source": [
        "x = torch.randn(128, 100, 1, 1)\n",
        "model = NetTransConv2()\n",
        "print (model(x).shape)"
      ],
      "execution_count": 18,
      "outputs": [
        {
          "output_type": "stream",
          "text": [
            "torch.Size([128, 512, 4, 4])\n"
          ],
          "name": "stdout"
        }
      ]
    },
    {
      "cell_type": "code",
      "metadata": {
        "id": "l9R3vFdu18pu",
        "colab_type": "code",
        "colab": {
          "base_uri": "https://localhost:8080/",
          "height": 34
        },
        "outputId": "1b5cc237-341f-40a3-e485-27e293f1766b"
      },
      "source": [
        "class NetTransConv3(nn.Module):\n",
        "  def __init__(self):\n",
        "    super(NetTransConv3, self).__init__()\n",
        "    self.main = nn.Sequential(\n",
        "        # 1st layer\n",
        "        nn.ConvTranspose2d(100, 64*8, 4, 1, 0, bias=False),\n",
        "        nn.BatchNorm2d(64*8),\n",
        "        nn.ReLU(True),\n",
        "        # 2nd layer\n",
        "        nn.ConvTranspose2d(64*8, 64*4, 4, 2, 1, bias=False),\n",
        "        nn.BatchNorm2d(64*4),\n",
        "    )\n",
        "  \n",
        "  def forward(self, x):\n",
        "    return self.main(x)\n",
        "\n",
        "\n",
        "x = torch.randn(128, 100, 1, 1)\n",
        "model = NetTransConv3()\n",
        "print (model(x).shape)"
      ],
      "execution_count": 20,
      "outputs": [
        {
          "output_type": "stream",
          "text": [
            "torch.Size([128, 256, 8, 8])\n"
          ],
          "name": "stdout"
        }
      ]
    },
    {
      "cell_type": "code",
      "metadata": {
        "id": "BzzWtzLn282J",
        "colab_type": "code",
        "colab": {
          "base_uri": "https://localhost:8080/",
          "height": 34
        },
        "outputId": "c3d0a6a9-c036-47e5-c329-7867fda9eb48"
      },
      "source": [
        "class NetTransConv4(nn.Module):\n",
        "  def __init__(self):\n",
        "    super(NetTransConv4, self).__init__()\n",
        "    self.main = nn.Sequential(\n",
        "        # 1st layer\n",
        "        nn.ConvTranspose2d(100, 64*8, 4, 1, 0, bias=False),\n",
        "        nn.BatchNorm2d(64*8),\n",
        "        nn.ReLU(True),\n",
        "        # 2nd layer\n",
        "        nn.ConvTranspose2d(64*8, 64*4, 4, 2, 1, bias=False),\n",
        "        nn.BatchNorm2d(64*4),\n",
        "        nn.ReLU(),\n",
        "        # 3rd layer\n",
        "        nn.ConvTranspose2d(64*4, 64*2, 4, 2, 1, bias=False),\n",
        "        nn.BatchNorm2d(64*2),\n",
        "    )\n",
        "  \n",
        "  def forward(self, x):\n",
        "    return self.main(x)\n",
        "\n",
        "\n",
        "model = NetTransConv4()\n",
        "x = torch.randn(128, 100, 1, 1)\n",
        "print (model(x).shape)"
      ],
      "execution_count": 21,
      "outputs": [
        {
          "output_type": "stream",
          "text": [
            "torch.Size([128, 128, 16, 16])\n"
          ],
          "name": "stdout"
        }
      ]
    },
    {
      "cell_type": "code",
      "metadata": {
        "id": "gE4JO5f93byV",
        "colab_type": "code",
        "colab": {
          "base_uri": "https://localhost:8080/",
          "height": 34
        },
        "outputId": "4afd51fa-97d7-4bba-d08e-d56d4e251aa6"
      },
      "source": [
        "class NetTransConv5(nn.Module):\n",
        "  def __init__(self):\n",
        "    super(NetTransConv5, self).__init__()\n",
        "    self.main = nn.Sequential(\n",
        "        # 1st layer\n",
        "        nn.ConvTranspose2d(100, 64*8, 4, 1, 0, bias=False),\n",
        "        nn.BatchNorm2d(64*8),\n",
        "        nn.ReLU(True),\n",
        "        # 2nd layer\n",
        "        nn.ConvTranspose2d(64*8, 64*4, 4, 2, 1, bias=False),\n",
        "        nn.BatchNorm2d(64*4),\n",
        "        nn.ReLU(True),\n",
        "        # 3rd layer\n",
        "        nn.ConvTranspose2d(64*4, 64*2, 4, 2, 1, bias=False),\n",
        "        nn.BatchNorm2d(64*2),\n",
        "        nn.ReLU(True),\n",
        "        # 4th layer\n",
        "        nn.ConvTranspose2d(64*2, 64, 4, 2, 1, bias=False),\n",
        "        nn.BatchNorm2d(64),\n",
        "        nn.ReLU(True),\n",
        "    )\n",
        "  \n",
        "  def forward(self, x):\n",
        "    return self.main(x)\n",
        "\n",
        "\n",
        "model = NetTransConv5()\n",
        "x = torch.randn(128, 100, 1, 1)\n",
        "print (model(x).shape)"
      ],
      "execution_count": 22,
      "outputs": [
        {
          "output_type": "stream",
          "text": [
            "torch.Size([128, 64, 32, 32])\n"
          ],
          "name": "stdout"
        }
      ]
    },
    {
      "cell_type": "code",
      "metadata": {
        "id": "NPqqzHJT32Xg",
        "colab_type": "code",
        "colab": {
          "base_uri": "https://localhost:8080/",
          "height": 34
        },
        "outputId": "78dd84e8-dd9a-4308-dd65-84c9f672ba11"
      },
      "source": [
        "# getting the final output layer (1x64x64) (1 here is for grayscale channel, also 3 can be used for RGB)\n",
        "\n",
        "class NetTransConv6(nn.Module):\n",
        "  def __init__(self):\n",
        "    super(NetTransConv6, self).__init__()\n",
        "    self.main = nn.Sequential(\n",
        "        # 1st layer\n",
        "        nn.ConvTranspose2d(100, 64*8, 4, 1, 0, bias=False),\n",
        "        nn.BatchNorm2d(64*8),\n",
        "        nn.ReLU(True),\n",
        "        # 2nd layer\n",
        "        nn.ConvTranspose2d(64*8, 64*4, 4, 2, 1, bias=False),\n",
        "        nn.BatchNorm2d(64*4),\n",
        "        nn.ReLU(True),\n",
        "        # 3rd layer\n",
        "        nn.ConvTranspose2d(64*4, 64*2, 4, 2, 1, bias=False),\n",
        "        nn.BatchNorm2d(64*2),\n",
        "        nn.ReLU(True),\n",
        "        # 4th layer\n",
        "        nn.ConvTranspose2d(64*2, 64, 4, 2, 1, bias=False),\n",
        "        nn.BatchNorm2d(64),\n",
        "        nn.ReLU(True),\n",
        "        # output layer\n",
        "        nn.ConvTranspose2d(64, 1, 4, 2, 1, bias=False),\n",
        "        nn.Tanh()\n",
        "    )\n",
        "  \n",
        "  def forward(self, x):\n",
        "    return self.main(x)\n",
        "\n",
        "\n",
        "model = NetTransConv6()\n",
        "x = torch.randn(128, 100, 1, 1)\n",
        "print (model(x).shape)"
      ],
      "execution_count": 23,
      "outputs": [
        {
          "output_type": "stream",
          "text": [
            "torch.Size([128, 1, 64, 64])\n"
          ],
          "name": "stdout"
        }
      ]
    },
    {
      "cell_type": "code",
      "metadata": {
        "id": "_qKZBKZF4RGX",
        "colab_type": "code",
        "colab": {}
      },
      "source": [
        ""
      ],
      "execution_count": null,
      "outputs": []
    }
  ]
}