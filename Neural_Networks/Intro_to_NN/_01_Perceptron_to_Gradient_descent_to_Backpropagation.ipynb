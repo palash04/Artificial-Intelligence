{
  "nbformat": 4,
  "nbformat_minor": 0,
  "metadata": {
    "colab": {
      "name": "_01_Perceptron_to_Gradient_descent_to_Backpropagation.ipynb",
      "provenance": [],
      "collapsed_sections": [],
      "mount_file_id": "1OqiLtea4QOFTj16C1l66U6hyToJ8SwYX",
      "authorship_tag": "ABX9TyMvlr2rVgzSqLlHodmEk5pe",
      "include_colab_link": true
    },
    "kernelspec": {
      "name": "python3",
      "display_name": "Python 3"
    }
  },
  "cells": [
    {
      "cell_type": "markdown",
      "metadata": {
        "id": "view-in-github",
        "colab_type": "text"
      },
      "source": [
        "<a href=\"https://colab.research.google.com/github/palash04/Artificial-Intelligence/blob/master/Neural_Networks/Intro_to_NN/_01_Perceptron_to_Gradient_descent_to_Backpropagation.ipynb\" target=\"_parent\"><img src=\"https://colab.research.google.com/assets/colab-badge.svg\" alt=\"Open In Colab\"/></a>"
      ]
    },
    {
      "cell_type": "markdown",
      "metadata": {
        "id": "_x8XLSsQ5d75",
        "colab_type": "text"
      },
      "source": [
        "![Screenshot 2020-06-26 at 18 14 39](https://user-images.githubusercontent.com/26361028/85864457-2e917d00-b7e2-11ea-922a-dc3d9279eebd.png)\n",
        "![Screenshot 2020-06-26 at 18 16 06](https://user-images.githubusercontent.com/26361028/85864469-32250400-b7e2-11ea-87b7-9c3a83ef3d40.png)\n"
      ]
    },
    {
      "cell_type": "code",
      "metadata": {
        "id": "IyrKrO4J3For",
        "colab_type": "code",
        "colab": {}
      },
      "source": [
        "# Equation for perceptron - \n",
        "# Wx + b = 0\n",
        "# W = {w1,w2,w3,....wn}\n",
        "# x = {x1,x2,x3,....xn}\n",
        "# Here, W is list of weights\n",
        "# x is the list of features\n",
        "# b is the bias\n",
        "\n",
        "# Prediction : \n",
        "# y^ (y-hat) : 1  if Wx + b >= 0\n",
        "#            : 0  if Wx + b < 0\n",
        "\n",
        "# (y-hat) is the prediction done, and we compare it with Y\n",
        "# Y is the output label in the dataset\n"
      ],
      "execution_count": null,
      "outputs": []
    },
    {
      "cell_type": "code",
      "metadata": {
        "id": "TC0Q_2nCtluu",
        "colab_type": "code",
        "colab": {}
      },
      "source": [
        "# Perceptron as logical operators"
      ],
      "execution_count": 1,
      "outputs": []
    },
    {
      "cell_type": "code",
      "metadata": {
        "id": "8PS5fZUy4d8R",
        "colab_type": "code",
        "colab": {}
      },
      "source": [
        "# AND Perceptron"
      ],
      "execution_count": null,
      "outputs": []
    },
    {
      "cell_type": "markdown",
      "metadata": {
        "id": "aaCKiv-c5mMD",
        "colab_type": "text"
      },
      "source": [
        "![Screenshot 2020-06-26 at 18 32 19](https://user-images.githubusercontent.com/26361028/85864608-5f71b200-b7e2-11ea-8575-6b720f433d7e.png)\n"
      ]
    },
    {
      "cell_type": "code",
      "metadata": {
        "id": "sxgCfk0Z5vFK",
        "colab_type": "code",
        "colab": {
          "base_uri": "https://localhost:8080/",
          "height": 119
        },
        "outputId": "5f3feeb7-9595-477d-a2a1-e4510705f809"
      },
      "source": [
        "import pandas as pd\n",
        "\n",
        "# setting the hardcoded weights\n",
        "weight1 = 1\n",
        "weight2 = 1\n",
        "bias = -1.1\n",
        "\n",
        "# Inputs and outputs\n",
        "test_inputs = [(0,0),(0,1),(1,0),(1,1)]\n",
        "correct_outputs = [False,False,False,True]\n",
        "outputs = []\n",
        "\n",
        "# Generate and check output\n",
        "for test_input, correct_output in zip(test_inputs, correct_outputs):\n",
        "  linear_combination = weight1 * test_input[0] + weight2 * test_input[1] + bias\n",
        "  output = int(linear_combination >= 0)\n",
        "  is_correct_string = 'Yes' if output == correct_output else 'No'\n",
        "  outputs.append([test_input[0],test_input[1],linear_combination,output, is_correct_string])\n",
        "\n",
        "# Print output\n",
        "num_wrong = len([output[4] for output in outputs if output[4] == 'No'])\n",
        "output_frame = pd.DataFrame(outputs, columns=[' Input1 ',' Input2 ',' Linear Combination ', ' Activation Ouput ', ' Is Correct '])\n",
        "if not num_wrong:\n",
        "  print ('Nice! Got it all correct')\n",
        "else:\n",
        "  print ('You got {} wrong. Keep trying'.format(wrong_num))\n",
        "print(output_frame)\n"
      ],
      "execution_count": 11,
      "outputs": [
        {
          "output_type": "stream",
          "text": [
            "Nice! Got it all correct\n",
            "    Input1    Input2    Linear Combination    Activation Ouput   Is Correct \n",
            "0         0         0                  -1.1                   0          Yes\n",
            "1         0         1                  -0.1                   0          Yes\n",
            "2         1         0                  -0.1                   0          Yes\n",
            "3         1         1                   0.9                   1          Yes\n"
          ],
          "name": "stdout"
        }
      ]
    },
    {
      "cell_type": "code",
      "metadata": {
        "id": "2_QG64xW7IH9",
        "colab_type": "code",
        "colab": {}
      },
      "source": [
        "# Although in above case, perceptrons are created manually but, in real life we just give the inputs, results, and perceptron is build by themseolves."
      ],
      "execution_count": 12,
      "outputs": []
    },
    {
      "cell_type": "markdown",
      "metadata": {
        "id": "6VjNxYvGPGzE",
        "colab_type": "text"
      },
      "source": [
        "![Screenshot 2020-06-26 at 20 55 56](https://user-images.githubusercontent.com/26361028/85873911-710d8680-b7ef-11ea-86b3-8c8d22cdc883.png)\n"
      ]
    },
    {
      "cell_type": "code",
      "metadata": {
        "id": "NpKLX8ltJZS0",
        "colab_type": "code",
        "colab": {}
      },
      "source": [
        "# In above image we can see that the blue point which is in the red zone is misclassified. So, tweak the equation of line. \n",
        "# By not introducing learning rate we might misclassify some other points, but by introducing it we slowly move the line, and thereby not disturbing other points."
      ],
      "execution_count": 13,
      "outputs": []
    },
    {
      "cell_type": "markdown",
      "metadata": {
        "id": "s-9eY_qvUVqg",
        "colab_type": "text"
      },
      "source": [
        "![Screenshot 2020-06-26 at 21 18 41](https://user-images.githubusercontent.com/26361028/85875938-9fd92c00-b7f2-11ea-8bcb-e67019b1778a.png)"
      ]
    },
    {
      "cell_type": "code",
      "metadata": {
        "id": "p7NIJzxEPrK1",
        "colab_type": "code",
        "colab": {}
      },
      "source": [
        "# For a misclassified point - \n",
        "# 1. if prediction is 0 : that means the point should have been above the line, so we add\n",
        "# 2. if prediction is 1 : that means the point should have been below the line, so we subtract"
      ],
      "execution_count": 1,
      "outputs": []
    },
    {
      "cell_type": "code",
      "metadata": {
        "id": "AoJoCEegpnpB",
        "colab_type": "code",
        "colab": {}
      },
      "source": [
        "# Basic Perceptron model for linear boundaries\n",
        "\n",
        "def stepFunction(t):\n",
        "    if t >= 0:\n",
        "        return 1\n",
        "    return 0\n",
        "\n",
        "def prediction(X, W, b):\n",
        "    return stepFunction((np.matmul(X,W)+b)[0])\n",
        "\n",
        "def perceptronStep(X, y, W, b, learn_rate):\n",
        "    for i in range(len(X)):\n",
        "        y_hat = prediction(X[i],W,b)\n",
        "        if y[i] - y_hat == 1:\n",
        "            W[0] += X[i][0]*learn_rate\n",
        "            W[1] += X[i][1]*learn_rate\n",
        "            b += learn_rate\n",
        "        elif y[i] - y_hat == 0:\n",
        "            W[0] -= X[i][0]*learn_rate\n",
        "            W[1] -= X[i][1]*learn_rate\n",
        "            b -= learn_rate\n",
        "    return W,b"
      ],
      "execution_count": 14,
      "outputs": []
    },
    {
      "cell_type": "markdown",
      "metadata": {
        "id": "M0nl6S2_yAdT",
        "colab_type": "text"
      },
      "source": [
        "# Non Linear Regions\n",
        "\n",
        "![Screenshot 2020-06-27 at 08 47 38](https://user-images.githubusercontent.com/26361028/85913473-dcd50b00-b852-11ea-952c-166c785b841d.png)\n"
      ]
    },
    {
      "cell_type": "code",
      "metadata": {
        "id": "EcsvktQ4xicF",
        "colab_type": "code",
        "colab": {}
      },
      "source": [
        "# Idea - Calculating error functions\n",
        "# Error functions - Distance between current point and actual target\n",
        "\n",
        "# Calculating a proper error function - \n",
        "# We need to shift from discrete error function to continuous error function\n",
        "\n",
        "# Discrete error function - step function ... as used in the above perceptron model\n",
        "# Continuous error function - sigmoid function\n",
        "\n",
        "# Sigmioid function - \n",
        "#         For a large positive numbers, sig func will give the values close to one\n",
        "#         For a large negative numbers, sig func will give the values close to zero\n",
        "#         For numbers, sig func will give the values close to 0.5\n"
      ],
      "execution_count": 15,
      "outputs": []
    },
    {
      "cell_type": "markdown",
      "metadata": {
        "id": "ngMpXjot1uU2",
        "colab_type": "text"
      },
      "source": [
        "# Activation Functions - \n",
        "![Screenshot 2020-06-27 at 09 03 52](https://user-images.githubusercontent.com/26361028/85913770-2161a600-b855-11ea-8d1b-23679633d562.png)\n",
        "\n",
        "![Screenshot 2020-06-27 at 09 04 46](https://user-images.githubusercontent.com/26361028/85913784-41916500-b855-11ea-8781-786c08d2ee4e.png)\n",
        "\n"
      ]
    },
    {
      "cell_type": "markdown",
      "metadata": {
        "id": "0bfEVPyh3G0a",
        "colab_type": "text"
      },
      "source": [
        "![Screenshot 2020-06-27 at 09 07 42](https://user-images.githubusercontent.com/26361028/85913824-a9e04680-b855-11ea-9b62-757bf1cb91cf.png)\n",
        "![Screenshot 2020-06-27 at 09 09 54](https://user-images.githubusercontent.com/26361028/85913853-f7f54a00-b855-11ea-83ab-99623f8f34c4.png)\n",
        "\n",
        "### Discrete - A student will get accepted(1) or rejected(0)\n",
        "### Continuous - Probability that student will get accepted is this much. "
      ]
    },
    {
      "cell_type": "code",
      "metadata": {
        "id": "SZXugWgC1DUf",
        "colab_type": "code",
        "colab": {}
      },
      "source": [
        "# When we need to classify between two classes like -  cat or dog, accepted or rejected, etc.. we use sigmoid function\n",
        "# But, when we need to classify among 3 or more objects like (cat or dog or bird), etc.. we use softmax function"
      ],
      "execution_count": 18,
      "outputs": []
    },
    {
      "cell_type": "markdown",
      "metadata": {
        "id": "BsHx9dwsIShT",
        "colab_type": "text"
      },
      "source": [
        "![Screenshot 2020-06-27 at 10 24 59](https://user-images.githubusercontent.com/26361028/85914903-7656e980-b860-11ea-9a44-0e65f6a15b89.png)\n",
        "\n",
        "![Screenshot 2020-06-27 at 10 26 39](https://user-images.githubusercontent.com/26361028/85914930-b0c08680-b860-11ea-977f-b50e70e680a2.png)\n"
      ]
    },
    {
      "cell_type": "code",
      "metadata": {
        "id": "oDPyLqW4IXsT",
        "colab_type": "code",
        "colab": {}
      },
      "source": [
        "# coding softmax\n",
        "import numpy as np\n",
        "\n",
        "# a function that takes as input a list of numbers, \n",
        "# and returns the list of values given by the softmax function.\n",
        "\n",
        "def softmax(L):\n",
        "  expL = np.exp(L)\n",
        "  sumExpl = sum(expL)\n",
        "  result = []\n",
        "  for i in expL:\n",
        "    result.append(i*1.0/sumExpl)\n",
        "  return result\n"
      ],
      "execution_count": 16,
      "outputs": []
    },
    {
      "cell_type": "markdown",
      "metadata": {
        "id": "tVdBTSHQPdLw",
        "colab_type": "text"
      },
      "source": [
        "![Screenshot 2020-06-27 at 10 56 18](https://user-images.githubusercontent.com/26361028/85915400-d51e6200-b864-11ea-8cd7-6226ab9f5cc9.png)\n"
      ]
    },
    {
      "cell_type": "markdown",
      "metadata": {
        "id": "FbdUHsBWTJmk",
        "colab_type": "text"
      },
      "source": [
        "# Maximum Likelihood\n",
        "![Screenshot 2020-06-27 at 11 12 19](https://user-images.githubusercontent.com/26361028/85915668-131c8580-b867-11ea-80fa-f9e3c7080523.png)\n"
      ]
    },
    {
      "cell_type": "markdown",
      "metadata": {
        "id": "5yNEtthrjyL0",
        "colab_type": "text"
      },
      "source": [
        "\n",
        "![Screenshot 2020-06-27 at 12 24 41](https://user-images.githubusercontent.com/26361028/85916739-2f252480-b871-11ea-8f50-db2a6b30a312.png)\n",
        "\n",
        "### The points that are correctly classified have small errors, \n",
        "### The points that are missclassified have large errors.\n",
        "\n",
        "## So the cross entropy tells us whether the model is good or bad."
      ]
    },
    {
      "cell_type": "code",
      "metadata": {
        "id": "qA34guxeKigs",
        "colab_type": "code",
        "colab": {}
      },
      "source": [
        "# Goal : Instead of maximizing the probability, we try minimizing the cross entropy in order to get from the model in the left to the model in the right"
      ],
      "execution_count": 17,
      "outputs": []
    },
    {
      "cell_type": "code",
      "metadata": {
        "id": "ofwh0oVEkkH9",
        "colab_type": "code",
        "colab": {}
      },
      "source": [
        "# So that error function is precisely called as cross entropy\n",
        "# Connection between probabilities and error functions, is called cross-entropy\n",
        "\n",
        "# Given the events and probabilities, how likely is it that the events happens based on the probabilities\n",
        "# If it is very likely then, we have small cross entropy\n",
        "# If it is very unlikely then, we have large cross entropy"
      ],
      "execution_count": null,
      "outputs": []
    },
    {
      "cell_type": "markdown",
      "metadata": {
        "id": "6EgX1uuJolNe",
        "colab_type": "text"
      },
      "source": [
        "![Screenshot 2020-06-27 at 12 45 58](https://user-images.githubusercontent.com/26361028/85917036-297d0e00-b874-11ea-859f-2e30d0065711.png)\n",
        "\n",
        "## The second row above tells high probability and low cross entropy which is most likely to happen.\n",
        "## whereas, the second last row above tells low probability and high cross entropy which is most unlikely to happen.\n",
        "\n",
        "![Screenshot 2020-06-27 at 12 56 21](https://user-images.githubusercontent.com/26361028/85917187-9cd34f80-b875-11ea-82aa-82f33835a78b.png)\n"
      ]
    },
    {
      "cell_type": "code",
      "metadata": {
        "id": "xA9FqYtlrBIV",
        "colab_type": "code",
        "colab": {
          "base_uri": "https://localhost:8080/",
          "height": 34
        },
        "outputId": "4e1810b9-96d3-44af-92ae-9c836fe4de71"
      },
      "source": [
        "# Coding cross entropy\n",
        "\n",
        "import numpy as np\n",
        "\n",
        "# Y, and P are two lists\n",
        "def cross_entropy(Y, P):\n",
        "    Y = np.float_(Y)\n",
        "    P = np.float_(P)\n",
        "    \n",
        "    return -np.sum(Y * np.log(P) + (1-Y) * np.log(1-P))\n",
        "\n",
        "\n",
        "Y = [1,0,1,1]\n",
        "P = [0.4,0.6,0.1,0.5]\n",
        "\n",
        "print (cross_entropy(Y,P))"
      ],
      "execution_count": 4,
      "outputs": [
        {
          "output_type": "stream",
          "text": [
            "4.828313737302301\n"
          ],
          "name": "stdout"
        }
      ]
    },
    {
      "cell_type": "markdown",
      "metadata": {
        "id": "BxV2D3bRa21K",
        "colab_type": "text"
      },
      "source": [
        "![Screenshot 2020-06-27 at 16 25 41](https://user-images.githubusercontent.com/26361028/85920611-d9617400-b892-11ea-981b-d1f8b0980b7e.png)\n"
      ]
    },
    {
      "cell_type": "markdown",
      "metadata": {
        "id": "xbEir3BzjHGP",
        "colab_type": "text"
      },
      "source": [
        "![Screenshot 2020-06-27 at 17 00 39](https://user-images.githubusercontent.com/26361028/85921163-bbe2d900-b897-11ea-812e-c4b3b141c928.png)\n",
        "![Screenshot 2020-06-27 at 17 01 00](https://user-images.githubusercontent.com/26361028/85921167-c8673180-b897-11ea-9588-9f9ca5c9f1f3.png)\n"
      ]
    },
    {
      "cell_type": "code",
      "metadata": {
        "id": "3bwfiAV3ZhWx",
        "colab_type": "code",
        "colab": {}
      },
      "source": [
        "# Logistic Regression algorithm\n",
        "# . Take your data\n",
        "# . Pick a random model\n",
        "# . Calculate the error\n",
        "# . Minimize the error, and obtain a better model\n"
      ],
      "execution_count": 5,
      "outputs": []
    },
    {
      "cell_type": "markdown",
      "metadata": {
        "id": "ZhPE03x9rwI4",
        "colab_type": "text"
      },
      "source": [
        "![Screenshot 2020-06-27 at 17 38 54](https://user-images.githubusercontent.com/26361028/85921878-15013b80-b89d-11ea-9ccd-805d895f369a.png)\n",
        "\n",
        "Minimizing the error can be done using gradient descent.\n"
      ]
    },
    {
      "cell_type": "markdown",
      "metadata": {
        "id": "E3XFEY5YwwXU",
        "colab_type": "text"
      },
      "source": [
        "![Screenshot 2020-06-27 at 18 00 27](https://user-images.githubusercontent.com/26361028/85922330-15e79c80-b8a0-11ea-980f-6162f4d83d2f.png)\n",
        "![Screenshot 2020-06-27 at 18 00 35](https://user-images.githubusercontent.com/26361028/85922336-1aac5080-b8a0-11ea-8909-1e8efa435c54.png)\n"
      ]
    },
    {
      "cell_type": "markdown",
      "metadata": {
        "id": "rdPCyvhtx9wS",
        "colab_type": "text"
      },
      "source": [
        "![Screenshot 2020-06-27 at 18 06 40](https://user-images.githubusercontent.com/26361028/85922450-f4d37b80-b8a0-11ea-9bc7-69d25f2ce256.png)\n"
      ]
    },
    {
      "cell_type": "code",
      "metadata": {
        "id": "ja7KG9a6jhU2",
        "colab_type": "code",
        "colab": {}
      },
      "source": [
        "# Implementing the gradient descent algorithm"
      ],
      "execution_count": 1,
      "outputs": []
    },
    {
      "cell_type": "code",
      "metadata": {
        "id": "T4f6PgNu6Hof",
        "colab_type": "code",
        "colab": {}
      },
      "source": [
        "import matplotlib.pyplot as plt\n",
        "import numpy as np\n",
        "import pandas as pd"
      ],
      "execution_count": 2,
      "outputs": []
    },
    {
      "cell_type": "code",
      "metadata": {
        "id": "qpH41LOU6Pth",
        "colab_type": "code",
        "colab": {}
      },
      "source": [
        "# Some helper functions for plotting and drawing lines\n",
        "def plot_points(X,y):\n",
        "  admitted = X[np.argwhere(y == 1)]\n",
        "  rejected = X[np.argwhere(y == 0)]\n",
        "  plt.scatter([s[0][0] for s in admitted], [s[0][1] for s in admitted], s = 25, color = 'red', edgecolor = 'k')\n",
        "  plt.scatter([s[0][0] for s in rejected], [s[0][1] for s in rejected], s = 25, color = 'blue', edgecolor = 'k')\n",
        "\n",
        "def display(m, b, color='g--'):\n",
        "    plt.xlim(-0.05,1.05)\n",
        "    plt.ylim(-0.05,1.05)\n",
        "    x = np.arange(-10, 10, 0.1)\n",
        "    plt.plot(x, m*x+b, color)"
      ],
      "execution_count": 12,
      "outputs": []
    },
    {
      "cell_type": "code",
      "metadata": {
        "id": "QWL1MhSM7hnI",
        "colab_type": "code",
        "colab": {
          "base_uri": "https://localhost:8080/",
          "height": 265
        },
        "outputId": "f24d8ca2-6cbb-47e6-96e1-06dcdc6a79b0"
      },
      "source": [
        "# Reading and plotting the data\n",
        "data = pd.read_csv('/content/drive/My Drive/Artificial Intelligence/DataSet/data_NN1.csv', header = None)\n",
        "X = np.array(data[[0,1]])\n",
        "y = np.array(data[2])\n",
        "plot_points(X,y)\n",
        "plt.show()"
      ],
      "execution_count": 13,
      "outputs": [
        {
          "output_type": "display_data",
          "data": {
            "image/png": "[encoded data removed]",
            "text/plain": [
              "<Figure size 432x288 with 1 Axes>"
            ]
          },
          "metadata": {
            "tags": [],
            "needs_background": "light"
          }
        }
      ]
    },
    {
      "cell_type": "code",
      "metadata": {
        "id": "rR2rLZ9Z7x0O",
        "colab_type": "code",
        "colab": {}
      },
      "source": [
        "# Implementing the basic functions\n",
        "\n",
        "# Activation (sigmoid) function\n",
        "def sigmoid(x):\n",
        "    return 1 / (1 + np.exp(-x))\n",
        "\n",
        "# Output (prediction) formula\n",
        "def output_formula(features, weights, bias):\n",
        "    return sigmoid(np.dot(features,weights) + bias)\n",
        "\n",
        "# Error (log-loss) formula\n",
        "def error_formula(y, output):\n",
        "    return -y * np.log(output) - (1-y) * np.log(1 - output)\n",
        "\n",
        "# Gradient descent step\n",
        "def update_weights(x, y, weights, bias, learnrate):\n",
        "    output = output_formula(x,weights,bias)\n",
        "    d_error = y - output\n",
        "    weights += learnrate * d_error * x\n",
        "    bias += learnrate * d_error\n",
        "    return weights,bias"
      ],
      "execution_count": 24,
      "outputs": []
    },
    {
      "cell_type": "code",
      "metadata": {
        "id": "agqhyRVA_SWF",
        "colab_type": "code",
        "colab": {}
      },
      "source": [
        "# Training function\n",
        "\n",
        "np.random.seed(44)\n",
        "\n",
        "epochs = 100\n",
        "learnrate = 0.01\n",
        "\n",
        "def train(features, targets, epochs, learnrate, graph_lines = False):\n",
        "  errors = []\n",
        "  n_recors, n_features = features.shape\n",
        "  last_loss = None\n",
        "  weights = np.random.normal(scale=1/n_features**0.5, size = n_features)\n",
        "  bias = 0\n",
        "  for e in range(epochs):\n",
        "    for x,y in zip(features,targets):\n",
        "      output = output_formula(x,weights,bias)\n",
        "      error = error_formula(y,output)\n",
        "      weights,bias = update_weights(x,y,weights,bias,learnrate)\n",
        "\n",
        "    # Printing out the log loss error on the training set\n",
        "    out = output_formula(features,weights,bias)\n",
        "    loss = np.mean(error_formula(targets,out))\n",
        "    errors.append(loss)\n",
        "    if e % (epochs / 10) == 0:\n",
        "        print(\"\\n========== Epoch\", e,\"==========\")\n",
        "        if last_loss and last_loss < loss:\n",
        "            print(\"Train loss: \", loss, \"  WARNING - Loss Increasing\")\n",
        "        else:\n",
        "            print(\"Train loss: \", loss)\n",
        "        last_loss = loss\n",
        "        predictions = out > 0.5\n",
        "        accuracy = np.mean(predictions == targets)\n",
        "        print(\"Accuracy: \", accuracy)\n",
        "    if graph_lines and e % (epochs / 100) == 0:\n",
        "        display(-weights[0]/weights[1], -bias/weights[1])\n",
        "\n",
        "  # Plotting the solution boundary\n",
        "  plt.title(\"Solution boundary\")\n",
        "  display(-weights[0]/weights[1], -bias/weights[1], 'black')\n",
        "\n",
        "  # Plotting the data\n",
        "  plot_points(features, targets)\n",
        "  plt.show()\n",
        "\n",
        "  # Plotting the error\n",
        "  plt.title(\"Error Plot\")\n",
        "  plt.xlabel('Number of epochs')\n",
        "  plt.ylabel('Error')\n",
        "  plt.plot(errors)\n",
        "  plt.show()\n",
        "\n"
      ],
      "execution_count": 29,
      "outputs": []
    },
    {
      "cell_type": "code",
      "metadata": {
        "id": "5nk0FZTKCXH2",
        "colab_type": "code",
        "colab": {
          "base_uri": "https://localhost:8080/",
          "height": 1000
        },
        "outputId": "bcc27bdc-c478-414a-b27b-c3643f58a186"
      },
      "source": [
        "train(X, y , epochs, learnrate, True)"
      ],
      "execution_count": 30,
      "outputs": [
        {
          "output_type": "stream",
          "text": [
            "\n",
            "========== Epoch 0 ==========\n",
            "Train loss:  0.7135845195381634\n",
            "Accuracy:  0.4\n",
            "\n",
            "========== Epoch 10 ==========\n",
            "Train loss:  0.6225835210454962\n",
            "Accuracy:  0.59\n",
            "\n",
            "========== Epoch 20 ==========\n",
            "Train loss:  0.5548744083669508\n",
            "Accuracy:  0.74\n",
            "\n",
            "========== Epoch 30 ==========\n",
            "Train loss:  0.501606141872473\n",
            "Accuracy:  0.84\n",
            "\n",
            "========== Epoch 40 ==========\n",
            "Train loss:  0.4593334641861401\n",
            "Accuracy:  0.86\n",
            "\n",
            "========== Epoch 50 ==========\n",
            "Train loss:  0.42525543433469976\n",
            "Accuracy:  0.93\n",
            "\n",
            "========== Epoch 60 ==========\n",
            "Train loss:  0.3973461571671399\n",
            "Accuracy:  0.93\n",
            "\n",
            "========== Epoch 70 ==========\n",
            "Train loss:  0.3741469765239074\n",
            "Accuracy:  0.93\n",
            "\n",
            "========== Epoch 80 ==========\n",
            "Train loss:  0.35459973368161973\n",
            "Accuracy:  0.94\n",
            "\n",
            "========== Epoch 90 ==========\n",
            "Train loss:  0.3379273658879921\n",
            "Accuracy:  0.94\n"
          ],
          "name": "stdout"
        },
        {
          "output_type": "display_data",
          "data": {
            "image/png": "[encoded data removed]",
            "text/plain": [
              "<Figure size 432x288 with 1 Axes>"
            ]
          },
          "metadata": {
            "tags": [],
            "needs_background": "light"
          }
        },
        {
          "output_type": "display_data",
          "data": {
            "image/png": "[encoded data removed]",
            "text/plain": [
              "<Figure size 432x288 with 1 Axes>"
            ]
          },
          "metadata": {
            "tags": [],
            "needs_background": "light"
          }
        }
      ]
    },
    {
      "cell_type": "markdown",
      "metadata": {
        "id": "KcAc7n2cnNpd",
        "colab_type": "text"
      },
      "source": [
        "# Non Linear Data\n",
        "![Screenshot 2020-06-28 at 11 58 12](https://user-images.githubusercontent.com/26361028/85939890-a670bc00-b936-11ea-8b90-f0db87866ad5.png)\n",
        "0.7 and 0.8 is the probability of the same point in two different models.\n",
        "We combine these probabilities by multiplying with the weights and adding the bias, then passing it to a sigmoid function to get a new probability for that point between (0 and 1, ofcourse)"
      ]
    },
    {
      "cell_type": "markdown",
      "metadata": {
        "id": "PgLnQwlmpF23",
        "colab_type": "text"
      },
      "source": [
        "![Screenshot 2020-06-28 at 12 05 16](https://user-images.githubusercontent.com/26361028/85940032-a2916980-b937-11ea-86cc-6f0771825217.png)\n",
        "![Screenshot 2020-06-28 at 12 05 52](https://user-images.githubusercontent.com/26361028/85940051-b8069380-b937-11ea-9421-3a20a784fa91.png)\n",
        "![Screenshot 2020-06-28 at 12 06 22](https://user-images.githubusercontent.com/26361028/85940056-c9e83680-b937-11ea-8a66-b75367bfd64b.png)\n"
      ]
    },
    {
      "cell_type": "markdown",
      "metadata": {
        "id": "UMYHI_ttsqYl",
        "colab_type": "text"
      },
      "source": [
        "![Screenshot 2020-06-28 at 12 20 42](https://user-images.githubusercontent.com/26361028/85940408-cb1a6300-b939-11ea-8016-8e62b2c17b45.png)\n",
        "![Screenshot 2020-06-28 at 12 21 08](https://user-images.githubusercontent.com/26361028/85940413-da99ac00-b939-11ea-8599-bc7dc3493339.png)\n",
        "![Screenshot 2020-06-28 at 12 21 29](https://user-images.githubusercontent.com/26361028/85940419-e6856e00-b939-11ea-8199-dae49ab345b0.png)\n",
        "![Screenshot 2020-06-28 at 12 21 45](https://user-images.githubusercontent.com/26361028/85940422-f0a76c80-b939-11ea-8052-60279928b148.png)\n"
      ]
    },
    {
      "cell_type": "markdown",
      "metadata": {
        "id": "tZJ9MFMYxEPT",
        "colab_type": "text"
      },
      "source": [
        "# Feed Forward neural network\n",
        "![Screenshot 2020-06-28 at 17 20 47](https://user-images.githubusercontent.com/26361028/85946686-b6eb5b80-b963-11ea-8b32-ef2d698815a8.png)\n"
      ]
    },
    {
      "cell_type": "markdown",
      "metadata": {
        "id": "sgMZ9dYfz1oB",
        "colab_type": "text"
      },
      "source": [
        "# Backpropagation\n",
        "![Screenshot 2020-06-28 at 17 38 15](https://user-images.githubusercontent.com/26361028/85947069-27937780-b966-11ea-86c0-ae29a51e98ab.png)\n",
        "![Screenshot 2020-06-28 at 17 37 38](https://user-images.githubusercontent.com/26361028/85947052-10ed2080-b966-11ea-90c4-9309594b34a3.png)"
      ]
    },
    {
      "cell_type": "markdown",
      "metadata": {
        "id": "hagjF3ihGNwM",
        "colab_type": "text"
      },
      "source": [
        "![Screenshot 2020-06-28 at 18 47 10](https://user-images.githubusercontent.com/26361028/85948674-c83a6500-b96f-11ea-9f25-769e9c38e4e9.png)\n",
        "![Screenshot 2020-06-28 at 18 53 08](https://user-images.githubusercontent.com/26361028/85948840-9d044580-b970-11ea-8ed9-41346a0d9df6.png)\n"
      ]
    },
    {
      "cell_type": "code",
      "metadata": {
        "id": "-9NMh4tBrJXr",
        "colab_type": "code",
        "colab": {}
      },
      "source": [
        ""
      ],
      "execution_count": null,
      "outputs": []
    }
  ]
}