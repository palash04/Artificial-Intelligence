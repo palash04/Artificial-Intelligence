{
  "nbformat": 4,
  "nbformat_minor": 0,
  "metadata": {
    "colab": {
      "name": "_01_Intro_to_RNN.ipynb",
      "provenance": [],
      "mount_file_id": "1o3W29sg7YCntmFIOlgFqFsd4wSO04mJi",
      "authorship_tag": "ABX9TyO/BzlEU42seKtVlN4/X80i",
      "include_colab_link": true
    },
    "kernelspec": {
      "name": "python3",
      "display_name": "Python 3"
    }
  },
  "cells": [
    {
      "cell_type": "markdown",
      "metadata": {
        "id": "view-in-github",
        "colab_type": "text"
      },
      "source": [
        "<a href=\"https://colab.research.google.com/github/palash04/Artificial-Intelligence/blob/master/Neural_Networks/RNN/_01_Intro_to_RNN.ipynb\" target=\"_parent\"><img src=\"https://colab.research.google.com/assets/colab-badge.svg\" alt=\"Open In Colab\"/></a>"
      ]
    },
    {
      "cell_type": "markdown",
      "metadata": {
        "id": "KmE66_gPLSS-",
        "colab_type": "text"
      },
      "source": [
        "# Basics of RNN"
      ]
    },
    {
      "cell_type": "markdown",
      "metadata": {
        "id": "G8kJi8dEB9ab",
        "colab_type": "text"
      },
      "source": [
        "![Screenshot 2020-07-16 at 10 24 25](https://user-images.githubusercontent.com/26361028/87628427-86baff80-c74e-11ea-81ba-d7123e760057.png)\n",
        "Sqaush the layer\n",
        "![Screenshot 2020-07-16 at 10 24 58](https://user-images.githubusercontent.com/26361028/87628451-9afefc80-c74e-11ea-80ad-2fa9eb131a5a.png)\n",
        "![Screenshot 2020-07-16 at 10 25 40](https://user-images.githubusercontent.com/26361028/87628505-bd911580-c74e-11ea-99a8-022a9e7933a2.png)\n",
        "![Screenshot 2020-07-16 at 10 25 45](https://user-images.githubusercontent.com/26361028/87628491-b7029e00-c74e-11ea-9e93-7e50a0093691.png)\n",
        "![Screenshot 2020-07-16 at 10 26 12](https://user-images.githubusercontent.com/26361028/87628533-c8e44100-c74e-11ea-94ee-8c2a31bdd9d3.png)\n",
        "\n",
        "Here, each neuron represent layer of neurons.\n",
        "The middle neuron which is hidden neuron produces the output as well as feeds itself."
      ]
    },
    {
      "cell_type": "markdown",
      "metadata": {
        "id": "QKedJPaKCt2w",
        "colab_type": "text"
      },
      "source": [
        "![Screenshot 2020-07-16 at 10 43 18](https://user-images.githubusercontent.com/26361028/87629713-2aa5aa80-c751-11ea-9b0c-bba4214bd6d4.png)\n",
        "![Screenshot 2020-07-16 at 10 43 27](https://user-images.githubusercontent.com/26361028/87629722-2f6a5e80-c751-11ea-8873-a04bfc8a3e1c.png)\n"
      ]
    },
    {
      "cell_type": "markdown",
      "metadata": {
        "id": "5bBWIdmTEq9Q",
        "colab_type": "text"
      },
      "source": [
        "# Examples of RNN\n",
        "\n",
        "![Screenshot 2020-07-16 at 10 46 08](https://user-images.githubusercontent.com/26361028/87629936-8f610500-c751-11ea-82af-4236c85086e9.png)\n",
        "![Screenshot 2020-07-16 at 10 46 42](https://user-images.githubusercontent.com/26361028/87629966-a43d9880-c751-11ea-8665-5411fd78658d.png)\n",
        "![Screenshot 2020-07-16 at 10 48 52](https://user-images.githubusercontent.com/26361028/87630086-f1ba0580-c751-11ea-9d5f-9374997c8f33.png)\n",
        "![Screenshot 2020-07-16 at 10 49 18](https://user-images.githubusercontent.com/26361028/87630115-00a0b800-c752-11ea-8413-7f1ac9030092.png)\n",
        "\n",
        "Many to many - getting subtitles from a video for each frame "
      ]
    },
    {
      "cell_type": "markdown",
      "metadata": {
        "id": "saudXw35JhAE",
        "colab_type": "text"
      },
      "source": [
        "# The Vanishing Gradient Problem"
      ]
    },
    {
      "cell_type": "markdown",
      "metadata": {
        "id": "-VDzccsXJjh7",
        "colab_type": "text"
      },
      "source": [
        "![Screenshot 2020-07-16 at 10 56 38](https://user-images.githubusercontent.com/26361028/87630558-06e36400-c753-11ea-8068-2d7f2c00edee.png)\n",
        "![Screenshot 2020-07-16 at 10 57 42](https://user-images.githubusercontent.com/26361028/87630640-2ed2c780-c753-11ea-920e-824c0a6aa91c.png)\n",
        "![Screenshot 2020-07-16 at 11 03 57](https://user-images.githubusercontent.com/26361028/87630977-0c8d7980-c754-11ea-93d3-7c1ff624ca93.png)\n",
        "![Screenshot 2020-07-16 at 11 04 43](https://user-images.githubusercontent.com/26361028/87631024-28911b00-c754-11ea-9650-72e262737172.png)\n",
        "![Screenshot 2020-07-16 at 11 09 53](https://user-images.githubusercontent.com/26361028/87631416-e1575a00-c754-11ea-8e8c-ef5d0a27ddc2.png)\n"
      ]
    },
    {
      "cell_type": "markdown",
      "metadata": {
        "id": "WnIOjA7BKzr8",
        "colab_type": "text"
      },
      "source": [
        "# LSTM"
      ]
    },
    {
      "cell_type": "markdown",
      "metadata": {
        "id": "EXm3FAlGK1pk",
        "colab_type": "text"
      },
      "source": [
        "### Idea behind LSTM\n",
        "![Screenshot 2020-07-16 at 11 19 34](https://user-images.githubusercontent.com/26361028/87632055-3b0c5400-c756-11ea-96f0-72cebb5dfd0f.png)\n",
        "\n"
      ]
    },
    {
      "cell_type": "markdown",
      "metadata": {
        "id": "YKUn4vjqMMN9",
        "colab_type": "text"
      },
      "source": [
        "# Standard RNN\n",
        "![Screenshot 2020-07-16 at 11 23 55](https://user-images.githubusercontent.com/26361028/87632343-d69dc480-c756-11ea-9a85-17750709ec4f.png)\n"
      ]
    },
    {
      "cell_type": "markdown",
      "metadata": {
        "id": "RL8yLHOeMPc9",
        "colab_type": "text"
      },
      "source": [
        "# LSTM\n",
        "![Screenshot 2020-07-16 at 11 24 50](https://user-images.githubusercontent.com/26361028/87632398-f7661a00-c756-11ea-8a7f-7ec75d71b3f4.png)"
      ]
    },
    {
      "cell_type": "markdown",
      "metadata": {
        "id": "LlMnVJCnOJFb",
        "colab_type": "text"
      },
      "source": [
        "![Screenshot 2020-07-16 at 11 32 17](https://user-images.githubusercontent.com/26361028/87632923-01d4e380-c758-11ea-941d-0c2109a65db7.png)\n",
        "\n",
        "Representations - \n",
        "- C : Memory Cell\n",
        "- h : Output\n",
        "- X : Input\n",
        "\n",
        "So, a LSTM module takes in three inputs (Ct-1, ht-1, Xt), and gives 2 outputs (ht,Ct)\n",
        "\n",
        "Each of these inputs, and outputs are vectors (not a single value, but bunch of layers of nodes)"
      ]
    },
    {
      "cell_type": "markdown",
      "metadata": {
        "id": "YpIUha6xOioc",
        "colab_type": "text"
      },
      "source": [
        "# LSTM Variation - \n",
        "\n",
        "### GRU - (Gated Recurring Units)\n",
        "\n",
        "![Screenshot 2020-07-16 at 12 35 26](https://user-images.githubusercontent.com/26361028/87638103-d5719500-c760-11ea-84aa-a01f49a45528.png)\n",
        "\n"
      ]
    },
    {
      "cell_type": "code",
      "metadata": {
        "id": "XqSdoj9jtjRG",
        "colab_type": "code",
        "colab": {}
      },
      "source": [
        ""
      ],
      "execution_count": null,
      "outputs": []
    }
  ]
}