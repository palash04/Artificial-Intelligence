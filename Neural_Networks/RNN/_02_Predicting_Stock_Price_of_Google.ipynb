{
  "nbformat": 4,
  "nbformat_minor": 0,
  "metadata": {
    "colab": {
      "name": "_02_Predicting_Stock_Price_of_Google.ipynb",
      "provenance": [],
      "collapsed_sections": [],
      "mount_file_id": "1smWYxcSX53PhVZnL2_dH4wT9iKtci2T1",
      "authorship_tag": "ABX9TyPEVi40X5tVZ4QQG5fq8rRz",
      "include_colab_link": true
    },
    "kernelspec": {
      "name": "python3",
      "display_name": "Python 3"
    }
  },
  "cells": [
    {
      "cell_type": "markdown",
      "metadata": {
        "id": "view-in-github",
        "colab_type": "text"
      },
      "source": [
        "<a href=\"https://colab.research.google.com/github/palash04/Artificial-Intelligence/blob/master/Neural_Networks/RNN/_02_Predicting_Stock_Price_of_Google.ipynb\" target=\"_parent\"><img src=\"https://colab.research.google.com/assets/colab-badge.svg\" alt=\"Open In Colab\"/></a>"
      ]
    },
    {
      "cell_type": "markdown",
      "metadata": {
        "id": "_GNC8CEihyZc",
        "colab_type": "text"
      },
      "source": [
        "## Google Stock Price Dataset from 2012 to 2016\n",
        "![Screenshot 2020-07-16 at 12 58 59](https://user-images.githubusercontent.com/26361028/87640291-2040dc00-c764-11ea-9473-d374896b430e.png)\n",
        "\n",
        "We will be training on this dataset using LSTM"
      ]
    },
    {
      "cell_type": "markdown",
      "metadata": {
        "id": "MkPGZ0GJicdG",
        "colab_type": "text"
      },
      "source": [
        "# Our Goal - To predict stock prices (upward/downward trend) for the first month (January, excluding financial days(sat,sunday)) of 2017."
      ]
    },
    {
      "cell_type": "code",
      "metadata": {
        "id": "-uSkGgYQfhIY",
        "colab_type": "code",
        "colab": {}
      },
      "source": [
        "trainfilepath = '/content/drive/My Drive/Artificial Intelligence/DataSet/RNN/Google_Stock_Price_Train.csv'\n",
        "testfilepath = '/content/drive/My Drive/Artificial Intelligence/DataSet/RNN/Google_Stock_Price_Test.csv'"
      ],
      "execution_count": 1,
      "outputs": []
    },
    {
      "cell_type": "markdown",
      "metadata": {
        "id": "pnaEC6kpkRKz",
        "colab_type": "text"
      },
      "source": [
        "# Part 1 - Data Preprocessing"
      ]
    },
    {
      "cell_type": "markdown",
      "metadata": {
        "id": "dWmtSUVAkT2w",
        "colab_type": "text"
      },
      "source": [
        "### Importing the libraries"
      ]
    },
    {
      "cell_type": "code",
      "metadata": {
        "id": "x83m0lTMj9bH",
        "colab_type": "code",
        "colab": {}
      },
      "source": [
        "# import libraries\n",
        "import numpy as np\n",
        "import matplotlib.pyplot as plt\n",
        "import pandas as pd"
      ],
      "execution_count": 2,
      "outputs": []
    },
    {
      "cell_type": "markdown",
      "metadata": {
        "id": "1GsMPELslBHF",
        "colab_type": "text"
      },
      "source": [
        "### Importing the training dataset"
      ]
    },
    {
      "cell_type": "code",
      "metadata": {
        "id": "v-cPdDeRkhRp",
        "colab_type": "code",
        "colab": {}
      },
      "source": [
        "dataset_train = pd.read_csv(trainfilepath)\n",
        "training_set = dataset_train.iloc[:, 1:2].values"
      ],
      "execution_count": 3,
      "outputs": []
    },
    {
      "cell_type": "code",
      "metadata": {
        "id": "kOhefoXymU-Q",
        "colab_type": "code",
        "colab": {
          "base_uri": "https://localhost:8080/",
          "height": 34
        },
        "outputId": "e4496b98-ec9f-4acc-9a63-58b642981596"
      },
      "source": [
        "training_set.shape"
      ],
      "execution_count": 4,
      "outputs": [
        {
          "output_type": "execute_result",
          "data": {
            "text/plain": [
              "(1258, 1)"
            ]
          },
          "metadata": {
            "tags": []
          },
          "execution_count": 4
        }
      ]
    },
    {
      "cell_type": "code",
      "metadata": {
        "id": "SHTEgaHAmX_F",
        "colab_type": "code",
        "colab": {
          "base_uri": "https://localhost:8080/",
          "height": 102
        },
        "outputId": "58140682-e217-4719-f96f-6eb55daebe26"
      },
      "source": [
        "training_set[0:5]   # first 5 open stock prices"
      ],
      "execution_count": 5,
      "outputs": [
        {
          "output_type": "execute_result",
          "data": {
            "text/plain": [
              "array([[325.25],\n",
              "       [331.27],\n",
              "       [329.83],\n",
              "       [328.34],\n",
              "       [322.04]])"
            ]
          },
          "metadata": {
            "tags": []
          },
          "execution_count": 5
        }
      ]
    },
    {
      "cell_type": "markdown",
      "metadata": {
        "id": "aKjcDcsvnRlU",
        "colab_type": "text"
      },
      "source": [
        "### Feature scaling\n",
        "\n",
        "![Screenshot 2020-07-16 at 13 22 20](https://user-images.githubusercontent.com/26361028/87642607-6186bb00-c767-11ea-8c57-a1c32b84755c.png)\n"
      ]
    },
    {
      "cell_type": "code",
      "metadata": {
        "id": "zTBFlXXWmjDv",
        "colab_type": "code",
        "colab": {}
      },
      "source": [
        "# Feature scaling\n",
        "# We will use Normalization, also it is recommended to use Normaliazation when doing RNN\n",
        "from sklearn.preprocessing import MinMaxScaler\n",
        "sc = MinMaxScaler(feature_range = (0,1))        # squishes the values between 0 and 1\n",
        "training_set_scaled = sc.fit_transform(training_set)"
      ],
      "execution_count": 6,
      "outputs": []
    },
    {
      "cell_type": "code",
      "metadata": {
        "id": "6quHeph8oiRg",
        "colab_type": "code",
        "colab": {
          "base_uri": "https://localhost:8080/",
          "height": 102
        },
        "outputId": "fb3165d3-41c8-4f59-f4f4-54709067706a"
      },
      "source": [
        "training_set_scaled[0:5]"
      ],
      "execution_count": 7,
      "outputs": [
        {
          "output_type": "execute_result",
          "data": {
            "text/plain": [
              "array([[0.08581368],\n",
              "       [0.09701243],\n",
              "       [0.09433366],\n",
              "       [0.09156187],\n",
              "       [0.07984225]])"
            ]
          },
          "metadata": {
            "tags": []
          },
          "execution_count": 7
        }
      ]
    },
    {
      "cell_type": "markdown",
      "metadata": {
        "id": "YY7GTPREpixO",
        "colab_type": "text"
      },
      "source": [
        "### Creating a data structure with 60 timesteps and 1 output\n",
        "\n",
        "60 timesteps corresponds to 60 previous stock prices for 60 financial days i.e over 3 months. \n",
        "So, we will be looking at 3 months data to predict the next stock price (which will at t+1).\n"
      ]
    },
    {
      "cell_type": "code",
      "metadata": {
        "id": "eIZ-Zd3uok7j",
        "colab_type": "code",
        "colab": {}
      },
      "source": [
        "# 60 previous stock prices in X_train\n",
        "# and next stock price in y_train\n",
        "# This we will do for every T\n",
        "X_train = []\n",
        "y_train = []\n",
        "\n",
        "for i in range(60,1258):\n",
        "  X_train.append(training_set_scaled[i-60:i, 0])\n",
        "  y_train.append(training_set_scaled[i, 0])\n",
        "\n",
        "X_train, y_train = np.array(X_train), np.array(y_train)"
      ],
      "execution_count": 16,
      "outputs": []
    },
    {
      "cell_type": "code",
      "metadata": {
        "id": "ao4b6ALxtrZD",
        "colab_type": "code",
        "colab": {
          "base_uri": "https://localhost:8080/",
          "height": 51
        },
        "outputId": "1b965330-605d-4857-bd94-b0e09597056c"
      },
      "source": [
        "print (X_train.shape)\n",
        "print (y_train.shape)"
      ],
      "execution_count": 17,
      "outputs": [
        {
          "output_type": "stream",
          "text": [
            "(1198, 60)\n",
            "(1198,)\n"
          ],
          "name": "stdout"
        }
      ]
    },
    {
      "cell_type": "code",
      "metadata": {
        "id": "SyROokbyuSoX",
        "colab_type": "code",
        "colab": {
          "base_uri": "https://localhost:8080/",
          "height": 51
        },
        "outputId": "8938dc0b-d646-468e-b7d0-628d922d5189"
      },
      "source": [
        "y_train"
      ],
      "execution_count": 18,
      "outputs": [
        {
          "output_type": "execute_result",
          "data": {
            "text/plain": [
              "array([0.08627874, 0.08471612, 0.07454052, ..., 0.95725128, 0.93796041,\n",
              "       0.93688146])"
            ]
          },
          "metadata": {
            "tags": []
          },
          "execution_count": 18
        }
      ]
    },
    {
      "cell_type": "code",
      "metadata": {
        "id": "UxuOl0i9vTc0",
        "colab_type": "code",
        "colab": {
          "base_uri": "https://localhost:8080/",
          "height": 221
        },
        "outputId": "4a331dde-c452-458e-bb8b-73603ad00b25"
      },
      "source": [
        "X_train[0]"
      ],
      "execution_count": 19,
      "outputs": [
        {
          "output_type": "execute_result",
          "data": {
            "text/plain": [
              "array([0.08581368, 0.09701243, 0.09433366, 0.09156187, 0.07984225,\n",
              "       0.0643277 , 0.0585423 , 0.06568569, 0.06109085, 0.06639259,\n",
              "       0.0614257 , 0.07474514, 0.02797827, 0.02379269, 0.02409033,\n",
              "       0.0159238 , 0.01078949, 0.00967334, 0.01642607, 0.02100231,\n",
              "       0.02280676, 0.02273235, 0.02810849, 0.03212665, 0.0433812 ,\n",
              "       0.04475779, 0.04790163, 0.0440695 , 0.04648783, 0.04745517,\n",
              "       0.04873875, 0.03936305, 0.04137213, 0.04034898, 0.04784582,\n",
              "       0.04325099, 0.04356723, 0.04286033, 0.04602277, 0.05398467,\n",
              "       0.05738894, 0.05714711, 0.05569611, 0.04421832, 0.04514845,\n",
              "       0.04605997, 0.04412531, 0.03675869, 0.04486941, 0.05065481,\n",
              "       0.05214302, 0.05612397, 0.05818885, 0.06540665, 0.06882953,\n",
              "       0.07243843, 0.07993526, 0.07846566, 0.08034452, 0.08497656])"
            ]
          },
          "metadata": {
            "tags": []
          },
          "execution_count": 19
        }
      ]
    },
    {
      "cell_type": "markdown",
      "metadata": {
        "id": "DWfDBnn1QaKa",
        "colab_type": "text"
      },
      "source": [
        "### Reshaping"
      ]
    },
    {
      "cell_type": "code",
      "metadata": {
        "id": "QJOsFNPyOgZ-",
        "colab_type": "code",
        "colab": {}
      },
      "source": [
        "X_train = np.reshape(X_train, (X_train.shape[0], X_train.shape[1], 1))"
      ],
      "execution_count": 20,
      "outputs": []
    },
    {
      "cell_type": "code",
      "metadata": {
        "id": "8afhUdjySXVj",
        "colab_type": "code",
        "colab": {
          "base_uri": "https://localhost:8080/",
          "height": 34
        },
        "outputId": "e73bd251-90d8-4ee0-89fb-1adb8823c83c"
      },
      "source": [
        "X_train.shape"
      ],
      "execution_count": 21,
      "outputs": [
        {
          "output_type": "execute_result",
          "data": {
            "text/plain": [
              "(1198, 60, 1)"
            ]
          },
          "metadata": {
            "tags": []
          },
          "execution_count": 21
        }
      ]
    },
    {
      "cell_type": "markdown",
      "metadata": {
        "id": "dOXJSQnwS9QO",
        "colab_type": "text"
      },
      "source": [
        "# Part 2 - Building the RNN"
      ]
    },
    {
      "cell_type": "markdown",
      "metadata": {
        "id": "bIsUp6BITC7l",
        "colab_type": "text"
      },
      "source": [
        "### Importing the keras libraries and packages"
      ]
    },
    {
      "cell_type": "code",
      "metadata": {
        "id": "j0LRhiAZSYWk",
        "colab_type": "code",
        "colab": {}
      },
      "source": [
        "from keras.models import Sequential\n",
        "from keras.layers import Dense\n",
        "from keras.layers import LSTM\n",
        "from keras.layers import Dropout"
      ],
      "execution_count": 22,
      "outputs": []
    },
    {
      "cell_type": "markdown",
      "metadata": {
        "id": "zQEK1aBRTgoH",
        "colab_type": "text"
      },
      "source": [
        "### Initializing the RNN"
      ]
    },
    {
      "cell_type": "code",
      "metadata": {
        "id": "-0YSEGgeTd4R",
        "colab_type": "code",
        "colab": {}
      },
      "source": [
        "regressor = Sequential()    # using regression here, since we are predicting continous values"
      ],
      "execution_count": 23,
      "outputs": []
    },
    {
      "cell_type": "markdown",
      "metadata": {
        "id": "xHDo3UM4UJCz",
        "colab_type": "text"
      },
      "source": [
        "### Adding a first LSTM layer and some Dropout regularization"
      ]
    },
    {
      "cell_type": "code",
      "metadata": {
        "id": "NXOUcBeNT8uv",
        "colab_type": "code",
        "colab": {}
      },
      "source": [
        "regressor.add(LSTM(units=50, return_sequences=True, input_shape=(X_train.shape[1], 1)))   # 50 neurons in the first LSTM layer\n",
        "regressor.add(Dropout(rate=0.2))"
      ],
      "execution_count": 24,
      "outputs": []
    },
    {
      "cell_type": "markdown",
      "metadata": {
        "id": "aanNQvSWXP_9",
        "colab_type": "text"
      },
      "source": [
        "### Adding a second LSTM layer and some Dropout Regulaization"
      ]
    },
    {
      "cell_type": "code",
      "metadata": {
        "id": "yeOTwPRxXIfS",
        "colab_type": "code",
        "colab": {}
      },
      "source": [
        "regressor.add(LSTM(units=50, return_sequences=True))\n",
        "regressor.add(Dropout(rate=0.2))"
      ],
      "execution_count": 25,
      "outputs": []
    },
    {
      "cell_type": "markdown",
      "metadata": {
        "id": "CxFA7WenXWGK",
        "colab_type": "text"
      },
      "source": [
        "### Adding a third LSTM layer and some Dropout Regulaization"
      ]
    },
    {
      "cell_type": "code",
      "metadata": {
        "id": "SxpoAgR_XX8I",
        "colab_type": "code",
        "colab": {}
      },
      "source": [
        "regressor.add(LSTM(units=50, return_sequences=True))\n",
        "regressor.add(Dropout(rate=0.2))"
      ],
      "execution_count": 26,
      "outputs": []
    },
    {
      "cell_type": "markdown",
      "metadata": {
        "id": "EDUe7MWZXYN3",
        "colab_type": "text"
      },
      "source": [
        "### Adding a fourth LSTM layer and some Dropout Regulaization"
      ]
    },
    {
      "cell_type": "code",
      "metadata": {
        "id": "IV-SedZaXd7i",
        "colab_type": "code",
        "colab": {}
      },
      "source": [
        "regressor.add(LSTM(units=50))\n",
        "regressor.add(Dropout(rate=0.2))"
      ],
      "execution_count": 27,
      "outputs": []
    },
    {
      "cell_type": "markdown",
      "metadata": {
        "id": "lBcSjQ-cY37x",
        "colab_type": "text"
      },
      "source": [
        "### Adding the output layer"
      ]
    },
    {
      "cell_type": "code",
      "metadata": {
        "id": "hAv8BU6kYo3T",
        "colab_type": "code",
        "colab": {}
      },
      "source": [
        "regressor.add(Dense(units=1))"
      ],
      "execution_count": 28,
      "outputs": []
    },
    {
      "cell_type": "markdown",
      "metadata": {
        "id": "NCVNV3clZ3Jj",
        "colab_type": "text"
      },
      "source": [
        "### Compiling the RNN"
      ]
    },
    {
      "cell_type": "code",
      "metadata": {
        "id": "jkefO3o1ZVpx",
        "colab_type": "code",
        "colab": {}
      },
      "source": [
        "regressor.compile(optimizer='adam', loss='mean_squared_error')"
      ],
      "execution_count": 29,
      "outputs": []
    },
    {
      "cell_type": "markdown",
      "metadata": {
        "id": "s6YELZCtcJyb",
        "colab_type": "text"
      },
      "source": [
        "### Fitting the RNN to the Training set"
      ]
    },
    {
      "cell_type": "code",
      "metadata": {
        "id": "6uxH2FwEarY7",
        "colab_type": "code",
        "colab": {
          "base_uri": "https://localhost:8080/",
          "height": 1000
        },
        "outputId": "069d88a1-c42a-46a1-b3d6-28a09c7c6389"
      },
      "source": [
        "regressor.fit(X_train, y_train, epochs=100, batch_size=32)"
      ],
      "execution_count": 30,
      "outputs": [
        {
          "output_type": "stream",
          "text": [
            "Epoch 1/100\n",
            "1198/1198 [==============================] - 7s 6ms/step - loss: 0.0426\n",
            "Epoch 2/100\n",
            "1198/1198 [==============================] - 5s 4ms/step - loss: 0.0071\n",
            "Epoch 3/100\n",
            "1198/1198 [==============================] - 5s 4ms/step - loss: 0.0064\n",
            "Epoch 4/100\n",
            "1198/1198 [==============================] - 5s 4ms/step - loss: 0.0057\n",
            "Epoch 5/100\n",
            "1198/1198 [==============================] - 5s 4ms/step - loss: 0.0050\n",
            "Epoch 6/100\n",
            "1198/1198 [==============================] - 5s 4ms/step - loss: 0.0060\n",
            "Epoch 7/100\n",
            "1198/1198 [==============================] - 5s 4ms/step - loss: 0.0051\n",
            "Epoch 8/100\n",
            "1198/1198 [==============================] - 5s 4ms/step - loss: 0.0053\n",
            "Epoch 9/100\n",
            "1198/1198 [==============================] - 5s 4ms/step - loss: 0.0046\n",
            "Epoch 10/100\n",
            "1198/1198 [==============================] - 5s 4ms/step - loss: 0.0046\n",
            "Epoch 11/100\n",
            "1198/1198 [==============================] - 5s 5ms/step - loss: 0.0043\n",
            "Epoch 12/100\n",
            "1198/1198 [==============================] - 5s 4ms/step - loss: 0.0048\n",
            "Epoch 13/100\n",
            "1198/1198 [==============================] - 5s 4ms/step - loss: 0.0043\n",
            "Epoch 14/100\n",
            "1198/1198 [==============================] - 6s 5ms/step - loss: 0.0041\n",
            "Epoch 15/100\n",
            "1198/1198 [==============================] - 5s 4ms/step - loss: 0.0037\n",
            "Epoch 16/100\n",
            "1198/1198 [==============================] - 5s 4ms/step - loss: 0.0040\n",
            "Epoch 17/100\n",
            "1198/1198 [==============================] - 5s 4ms/step - loss: 0.0040\n",
            "Epoch 18/100\n",
            "1198/1198 [==============================] - 5s 4ms/step - loss: 0.0034\n",
            "Epoch 19/100\n",
            "1198/1198 [==============================] - 5s 4ms/step - loss: 0.0040\n",
            "Epoch 20/100\n",
            "1198/1198 [==============================] - 5s 4ms/step - loss: 0.0033\n",
            "Epoch 21/100\n",
            "1198/1198 [==============================] - 6s 5ms/step - loss: 0.0035\n",
            "Epoch 22/100\n",
            "1198/1198 [==============================] - 6s 5ms/step - loss: 0.0041\n",
            "Epoch 23/100\n",
            "1198/1198 [==============================] - 5s 4ms/step - loss: 0.0039\n",
            "Epoch 24/100\n",
            "1198/1198 [==============================] - 5s 5ms/step - loss: 0.0036\n",
            "Epoch 25/100\n",
            "1198/1198 [==============================] - 5s 4ms/step - loss: 0.0031\n",
            "Epoch 26/100\n",
            "1198/1198 [==============================] - 5s 4ms/step - loss: 0.0029\n",
            "Epoch 27/100\n",
            "1198/1198 [==============================] - 5s 4ms/step - loss: 0.0032\n",
            "Epoch 28/100\n",
            "1198/1198 [==============================] - 5s 4ms/step - loss: 0.0032\n",
            "Epoch 29/100\n",
            "1198/1198 [==============================] - 5s 4ms/step - loss: 0.0034\n",
            "Epoch 30/100\n",
            "1198/1198 [==============================] - 5s 4ms/step - loss: 0.0029\n",
            "Epoch 31/100\n",
            "1198/1198 [==============================] - 5s 4ms/step - loss: 0.0032\n",
            "Epoch 32/100\n",
            "1198/1198 [==============================] - 5s 4ms/step - loss: 0.0030\n",
            "Epoch 33/100\n",
            "1198/1198 [==============================] - 5s 4ms/step - loss: 0.0035\n",
            "Epoch 34/100\n",
            "1198/1198 [==============================] - 5s 4ms/step - loss: 0.0030\n",
            "Epoch 35/100\n",
            "1198/1198 [==============================] - 5s 4ms/step - loss: 0.0027\n",
            "Epoch 36/100\n",
            "1198/1198 [==============================] - 6s 5ms/step - loss: 0.0027\n",
            "Epoch 37/100\n",
            "1198/1198 [==============================] - 6s 5ms/step - loss: 0.0032\n",
            "Epoch 38/100\n",
            "1198/1198 [==============================] - 6s 5ms/step - loss: 0.0027\n",
            "Epoch 39/100\n",
            "1198/1198 [==============================] - 6s 5ms/step - loss: 0.0027\n",
            "Epoch 40/100\n",
            "1198/1198 [==============================] - 6s 5ms/step - loss: 0.0025\n",
            "Epoch 41/100\n",
            "1198/1198 [==============================] - 5s 5ms/step - loss: 0.0029\n",
            "Epoch 42/100\n",
            "1198/1198 [==============================] - 5s 5ms/step - loss: 0.0027\n",
            "Epoch 43/100\n",
            "1198/1198 [==============================] - 5s 5ms/step - loss: 0.0029\n",
            "Epoch 44/100\n",
            "1198/1198 [==============================] - 5s 4ms/step - loss: 0.0029\n",
            "Epoch 45/100\n",
            "1198/1198 [==============================] - 5s 5ms/step - loss: 0.0028\n",
            "Epoch 46/100\n",
            "1198/1198 [==============================] - 5s 5ms/step - loss: 0.0028\n",
            "Epoch 47/100\n",
            "1198/1198 [==============================] - 5s 4ms/step - loss: 0.0026\n",
            "Epoch 48/100\n",
            "1198/1198 [==============================] - 5s 4ms/step - loss: 0.0023\n",
            "Epoch 49/100\n",
            "1198/1198 [==============================] - 5s 5ms/step - loss: 0.0027\n",
            "Epoch 50/100\n",
            "1198/1198 [==============================] - 5s 5ms/step - loss: 0.0023\n",
            "Epoch 51/100\n",
            "1198/1198 [==============================] - 5s 5ms/step - loss: 0.0025\n",
            "Epoch 52/100\n",
            "1198/1198 [==============================] - 6s 5ms/step - loss: 0.0023\n",
            "Epoch 53/100\n",
            "1198/1198 [==============================] - 6s 5ms/step - loss: 0.0024\n",
            "Epoch 54/100\n",
            "1198/1198 [==============================] - 5s 4ms/step - loss: 0.0025\n",
            "Epoch 55/100\n",
            "1198/1198 [==============================] - 5s 4ms/step - loss: 0.0025\n",
            "Epoch 56/100\n",
            "1198/1198 [==============================] - 5s 4ms/step - loss: 0.0021\n",
            "Epoch 57/100\n",
            "1198/1198 [==============================] - 5s 5ms/step - loss: 0.0023\n",
            "Epoch 58/100\n",
            "1198/1198 [==============================] - 5s 5ms/step - loss: 0.0025\n",
            "Epoch 59/100\n",
            "1198/1198 [==============================] - 5s 5ms/step - loss: 0.0022\n",
            "Epoch 60/100\n",
            "1198/1198 [==============================] - 5s 4ms/step - loss: 0.0025\n",
            "Epoch 61/100\n",
            "1198/1198 [==============================] - 5s 4ms/step - loss: 0.0020\n",
            "Epoch 62/100\n",
            "1198/1198 [==============================] - 5s 4ms/step - loss: 0.0024\n",
            "Epoch 63/100\n",
            "1198/1198 [==============================] - 5s 4ms/step - loss: 0.0022\n",
            "Epoch 64/100\n",
            "1198/1198 [==============================] - 6s 5ms/step - loss: 0.0023\n",
            "Epoch 65/100\n",
            "1198/1198 [==============================] - 5s 5ms/step - loss: 0.0020\n",
            "Epoch 66/100\n",
            "1198/1198 [==============================] - 5s 4ms/step - loss: 0.0021\n",
            "Epoch 67/100\n",
            "1198/1198 [==============================] - 5s 5ms/step - loss: 0.0021\n",
            "Epoch 68/100\n",
            "1198/1198 [==============================] - 6s 5ms/step - loss: 0.0018\n",
            "Epoch 69/100\n",
            "1198/1198 [==============================] - 6s 5ms/step - loss: 0.0019\n",
            "Epoch 70/100\n",
            "1198/1198 [==============================] - 5s 4ms/step - loss: 0.0020\n",
            "Epoch 71/100\n",
            "1198/1198 [==============================] - 5s 5ms/step - loss: 0.0020\n",
            "Epoch 72/100\n",
            "1198/1198 [==============================] - 6s 5ms/step - loss: 0.0018\n",
            "Epoch 73/100\n",
            "1198/1198 [==============================] - 5s 5ms/step - loss: 0.0020\n",
            "Epoch 74/100\n",
            "1198/1198 [==============================] - 5s 4ms/step - loss: 0.0016\n",
            "Epoch 75/100\n",
            "1198/1198 [==============================] - 5s 5ms/step - loss: 0.0018\n",
            "Epoch 76/100\n",
            "1198/1198 [==============================] - 6s 5ms/step - loss: 0.0020\n",
            "Epoch 77/100\n",
            "1198/1198 [==============================] - 5s 4ms/step - loss: 0.0019\n",
            "Epoch 78/100\n",
            "1198/1198 [==============================] - 6s 5ms/step - loss: 0.0017\n",
            "Epoch 79/100\n",
            "1198/1198 [==============================] - 6s 5ms/step - loss: 0.0020\n",
            "Epoch 80/100\n",
            "1198/1198 [==============================] - 6s 5ms/step - loss: 0.0021\n",
            "Epoch 81/100\n",
            "1198/1198 [==============================] - 6s 5ms/step - loss: 0.0018\n",
            "Epoch 82/100\n",
            "1198/1198 [==============================] - 6s 5ms/step - loss: 0.0016\n",
            "Epoch 83/100\n",
            "1198/1198 [==============================] - 6s 5ms/step - loss: 0.0019\n",
            "Epoch 84/100\n",
            "1198/1198 [==============================] - 6s 5ms/step - loss: 0.0022\n",
            "Epoch 85/100\n",
            "1198/1198 [==============================] - 5s 5ms/step - loss: 0.0016\n",
            "Epoch 86/100\n",
            "1198/1198 [==============================] - 6s 5ms/step - loss: 0.0017\n",
            "Epoch 87/100\n",
            "1198/1198 [==============================] - 6s 5ms/step - loss: 0.0016\n",
            "Epoch 88/100\n",
            "1198/1198 [==============================] - 5s 5ms/step - loss: 0.0016\n",
            "Epoch 89/100\n",
            "1198/1198 [==============================] - 5s 4ms/step - loss: 0.0014\n",
            "Epoch 90/100\n",
            "1198/1198 [==============================] - 5s 5ms/step - loss: 0.0016\n",
            "Epoch 91/100\n",
            "1198/1198 [==============================] - 6s 5ms/step - loss: 0.0016\n",
            "Epoch 92/100\n",
            "1198/1198 [==============================] - 6s 5ms/step - loss: 0.0016\n",
            "Epoch 93/100\n",
            "1198/1198 [==============================] - 6s 5ms/step - loss: 0.0015\n",
            "Epoch 94/100\n",
            "1198/1198 [==============================] - 6s 5ms/step - loss: 0.0015\n",
            "Epoch 95/100\n",
            "1198/1198 [==============================] - 6s 5ms/step - loss: 0.0017\n",
            "Epoch 96/100\n",
            "1198/1198 [==============================] - 5s 5ms/step - loss: 0.0016\n",
            "Epoch 97/100\n",
            "1198/1198 [==============================] - 5s 5ms/step - loss: 0.0014\n",
            "Epoch 98/100\n",
            "1198/1198 [==============================] - 5s 5ms/step - loss: 0.0016\n",
            "Epoch 99/100\n",
            "1198/1198 [==============================] - 5s 5ms/step - loss: 0.0015\n",
            "Epoch 100/100\n",
            "1198/1198 [==============================] - 5s 4ms/step - loss: 0.0016\n"
          ],
          "name": "stdout"
        },
        {
          "output_type": "execute_result",
          "data": {
            "text/plain": [
              "<keras.callbacks.callbacks.History at 0x7f4c95a23f28>"
            ]
          },
          "metadata": {
            "tags": []
          },
          "execution_count": 30
        }
      ]
    },
    {
      "cell_type": "markdown",
      "metadata": {
        "id": "IIPr4smFgRM5",
        "colab_type": "text"
      },
      "source": [
        "# Part 3 - Making predictions and visualizng the results"
      ]
    },
    {
      "cell_type": "markdown",
      "metadata": {
        "id": "TbSmAfNjgmKO",
        "colab_type": "text"
      },
      "source": [
        "### Getting the real stock price of 2017"
      ]
    },
    {
      "cell_type": "code",
      "metadata": {
        "id": "Ed_vAiowdL_G",
        "colab_type": "code",
        "colab": {}
      },
      "source": [
        "dataset_test = pd.read_csv(testfilepath)\n",
        "real_stock_price = dataset_test.iloc[:, 1:2].values"
      ],
      "execution_count": 31,
      "outputs": []
    },
    {
      "cell_type": "code",
      "metadata": {
        "id": "tY_jVSZdhQYR",
        "colab_type": "code",
        "colab": {
          "base_uri": "https://localhost:8080/",
          "height": 357
        },
        "outputId": "6c9fbc9b-91c4-4d6a-c115-0f9267d978a1"
      },
      "source": [
        "real_stock_price"
      ],
      "execution_count": 33,
      "outputs": [
        {
          "output_type": "execute_result",
          "data": {
            "text/plain": [
              "array([[778.81],\n",
              "       [788.36],\n",
              "       [786.08],\n",
              "       [795.26],\n",
              "       [806.4 ],\n",
              "       [807.86],\n",
              "       [805.  ],\n",
              "       [807.14],\n",
              "       [807.48],\n",
              "       [807.08],\n",
              "       [805.81],\n",
              "       [805.12],\n",
              "       [806.91],\n",
              "       [807.25],\n",
              "       [822.3 ],\n",
              "       [829.62],\n",
              "       [837.81],\n",
              "       [834.71],\n",
              "       [814.66],\n",
              "       [796.86]])"
            ]
          },
          "metadata": {
            "tags": []
          },
          "execution_count": 33
        }
      ]
    },
    {
      "cell_type": "markdown",
      "metadata": {
        "id": "GCwC-O62hL7e",
        "colab_type": "text"
      },
      "source": [
        "### Getting the predicted stock price of 2017"
      ]
    },
    {
      "cell_type": "code",
      "metadata": {
        "id": "7WBQ8coMhLI8",
        "colab_type": "code",
        "colab": {}
      },
      "source": [
        "dataset_total = pd.concat((dataset_train['Open'],dataset_test['Open']), axis=0)\n",
        "inputs = dataset_total[len(dataset_total) - len(dataset_test) - 60 : ].values\n",
        "inputs = inputs.reshape(-1,1)\n",
        "inputs = sc.transform(inputs)\n",
        "\n",
        "X_test = []\n",
        "\n",
        "for i in range(60,80):\n",
        "  X_test.append(inputs[i-60:i, 0])\n",
        "\n",
        "X_test = np.array(X_test)\n",
        "X_test = np.reshape(X_test,(X_test.shape[0],X_test.shape[1], 1))\n",
        "predicted_stock_price = regressor.predict(X_test)\n",
        "predicted_stock_price = sc.inverse_transform(predicted_stock_price)"
      ],
      "execution_count": 34,
      "outputs": []
    },
    {
      "cell_type": "code",
      "metadata": {
        "id": "xs053rDXnVWx",
        "colab_type": "code",
        "colab": {
          "base_uri": "https://localhost:8080/",
          "height": 357
        },
        "outputId": "68aec0ad-876e-49be-840c-5114fffad383"
      },
      "source": [
        "predicted_stock_price"
      ],
      "execution_count": 35,
      "outputs": [
        {
          "output_type": "execute_result",
          "data": {
            "text/plain": [
              "array([[767.6691 ],\n",
              "       [765.17365],\n",
              "       [764.9439 ],\n",
              "       [765.9478 ],\n",
              "       [768.7716 ],\n",
              "       [773.9542 ],\n",
              "       [779.1526 ],\n",
              "       [781.8526 ],\n",
              "       [782.6537 ],\n",
              "       [782.583  ],\n",
              "       [782.2836 ],\n",
              "       [781.90186],\n",
              "       [781.58307],\n",
              "       [781.8741 ],\n",
              "       [782.63965],\n",
              "       [786.451  ],\n",
              "       [792.58905],\n",
              "       [799.555  ],\n",
              "       [803.9496 ],\n",
              "       [801.3857 ]], dtype=float32)"
            ]
          },
          "metadata": {
            "tags": []
          },
          "execution_count": 35
        }
      ]
    },
    {
      "cell_type": "markdown",
      "metadata": {
        "id": "ZJqhBrHDneix",
        "colab_type": "text"
      },
      "source": [
        "### Visualizing the results"
      ]
    },
    {
      "cell_type": "code",
      "metadata": {
        "id": "BeIB_10InXAZ",
        "colab_type": "code",
        "colab": {
          "base_uri": "https://localhost:8080/",
          "height": 295
        },
        "outputId": "031d2b80-dd9d-45f0-a00e-7cfa9499f641"
      },
      "source": [
        "plt.plot(real_stock_price, color='red', label='Real Google Stock Price')\n",
        "plt.plot(predicted_stock_price, color='blue', label='Predicted Google Stock Price')\n",
        "plt.title('Google Stock Price Prediction')\n",
        "plt.xlabel('Time')\n",
        "plt.ylabel('Google Stock Price')\n",
        "plt.legend()\n",
        "plt.show()"
      ],
      "execution_count": 36,
      "outputs": [
        {
          "output_type": "display_data",
          "data": {
            "image/png": "[encoded data removed]",
            "text/plain": [
              "<Figure size 432x288 with 1 Axes>"
            ]
          },
          "metadata": {
            "tags": [],
            "needs_background": "light"
          }
        }
      ]
    },
    {
      "cell_type": "code",
      "metadata": {
        "id": "Gd2lZvXQoXtQ",
        "colab_type": "code",
        "colab": {}
      },
      "source": [
        ""
      ],
      "execution_count": null,
      "outputs": []
    }
  ]
}