{
  "nbformat": 4,
  "nbformat_minor": 0,
  "metadata": {
    "colab": {
      "name": "Backpropagation_in_action2.ipynb",
      "provenance": []
    },
    "kernelspec": {
      "name": "python3",
      "display_name": "Python 3"
    }
  },
  "cells": [
    {
      "cell_type": "markdown",
      "metadata": {
        "id": "731L1386nRy7"
      },
      "source": [
        "![Screenshot 2021-02-17 at 07 02 32](https://user-images.githubusercontent.com/26361028/108143623-1c0be100-70ee-11eb-9dce-3a38e1eff9a9.png)\n",
        "![Screenshot 2021-02-17 at 07 02 49](https://user-images.githubusercontent.com/26361028/108143650-262ddf80-70ee-11eb-928d-d2110e5dac54.png)\n",
        "![Screenshot 2021-02-17 at 07 03 02](https://user-images.githubusercontent.com/26361028/108143664-2e861a80-70ee-11eb-909a-07b1e96c5bf6.png)\n",
        "![Screenshot 2021-02-17 at 07 03 19](https://user-images.githubusercontent.com/26361028/108143689-38a81900-70ee-11eb-88e0-86f52e74e857.png)\n",
        "![Screenshot 2021-02-17 at 07 03 39](https://user-images.githubusercontent.com/26361028/108143715-4493db00-70ee-11eb-9170-73df0fbe6c7a.png)\n",
        "![Screenshot 2021-02-17 at 07 03 54](https://user-images.githubusercontent.com/26361028/108143739-4d84ac80-70ee-11eb-8727-cf1fe9d500ba.png)\n",
        "![Screenshot 2021-02-17 at 07 04 12](https://user-images.githubusercontent.com/26361028/108143763-583f4180-70ee-11eb-949d-5a9d174f11df.png)\n",
        "![Screenshot 2021-02-17 at 07 04 27](https://user-images.githubusercontent.com/26361028/108143788-61301300-70ee-11eb-8728-c12ea92333e3.png)\n",
        "![Screenshot 2021-02-17 at 07 04 41](https://user-images.githubusercontent.com/26361028/108143807-68efb780-70ee-11eb-9a81-b86e71e33434.png)\n",
        "![Screenshot 2021-02-17 at 07 04 55](https://user-images.githubusercontent.com/26361028/108143824-71e08900-70ee-11eb-8752-5dcdac6c4083.png)\n",
        "![Screenshot 2021-02-17 at 07 05 05](https://user-images.githubusercontent.com/26361028/108143831-773dd380-70ee-11eb-95fa-3c360933adb9.png)\n",
        "\n",
        "©ourtesy: Udacity"
      ]
    },
    {
      "cell_type": "code",
      "metadata": {
        "id": "eD0tr-A0nK-K"
      },
      "source": [
        ""
      ],
      "execution_count": null,
      "outputs": []
    }
  ]
}