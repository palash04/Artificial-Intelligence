{
  "nbformat": 4,
  "nbformat_minor": 0,
  "metadata": {
    "colab": {
      "name": "NumpyBasics.ipynb",
      "provenance": [],
      "collapsed_sections": [],
      "authorship_tag": "ABX9TyNltb7ve+sFajS74jOhQHA+",
      "include_colab_link": true
    },
    "kernelspec": {
      "name": "python3",
      "display_name": "Python 3"
    }
  },
  "cells": [
    {
      "cell_type": "markdown",
      "metadata": {
        "id": "view-in-github",
        "colab_type": "text"
      },
      "source": [
        "<a href=\"https://colab.research.google.com/github/palash04/Artificial-Intelligence/blob/master/NumpyBasics.ipynb\" target=\"_parent\"><img src=\"https://colab.research.google.com/assets/colab-badge.svg\" alt=\"Open In Colab\"/></a>"
      ]
    },
    {
      "cell_type": "markdown",
      "metadata": {
        "id": "MnJWGjQIhdto"
      },
      "source": [
        "# Numpy \n",
        "NumPy (Numerical Python) is a powerful, and extensively used, library for storage and calculations. It is designed for dealing with numerical data. It allows data storage and calculations by providing data structures, algorithms, and other useful utilities. For example, this library contains basic linear algebra functions, Fourier transforms, and advanced random number capabilities. It can also be used to load data to Python and export from it.\n",
        "\n",
        "## Why Numpy?\n",
        "Data comes in all shapes and sizes. We can have image data, audio data, text data, numerical data, etc. We have all these heterogeneous sources of data but computers understand only 0’s and 1’s — At its core, data can be thought of as arrays of numbers. In fact, the prerequisite for performing any data analysis is to convert the data into numerical form. This means it is important to be able to store and manipulate arrays efficiently, and this is where Python’s NumPy package comes into picture.\n",
        "\n",
        "NumPy arrays are like Python’s lists. Their advantage is that they provide more efficient storage and data operations as the arrays grow larger in size. This is the reason NumPy arrays are at the core of nearly all data science tools in Python. This, in turn, implies that it is essential to know NumPy well!\n",
        "\n",
        "\n"
      ]
    },
    {
      "cell_type": "markdown",
      "metadata": {
        "id": "KkRZFsvcjM5R"
      },
      "source": [
        "# Creating Arrays"
      ]
    },
    {
      "cell_type": "code",
      "metadata": {
        "id": "2Xe3zhWIeCAO",
        "outputId": "1602bea6-d7ed-4dde-ab34-f00f80892e0f",
        "colab": {
          "base_uri": "https://localhost:8080/",
          "height": 493
        }
      },
      "source": [
        "import numpy as np\n",
        "\n",
        "# There are two ways for creating numpy arrays\n",
        "# a. Arrays from list\n",
        "\n",
        "# Create a 1D array from the list \n",
        "arr1 = np.array([1,2,3,4])\n",
        "print(arr1)\n",
        "print(type(arr1))\n",
        "print()\n",
        "\n",
        "# Create a 1D float array\n",
        "arr2 = np.array([1,2,3,4], dtype='float32')\n",
        "print(arr2)\n",
        "print(type(arr2))\n",
        "print()\n",
        "\n",
        "# Create a 2D array from the list of lists\n",
        "lists = [[1,2,3],[4,5,6],[6,7,8]]\n",
        "arr2d = np.array(lists)\n",
        "print(arr2d)\n",
        "print()\n",
        "\n",
        "arr1 = np.array([1,2,3,4])\n",
        "print(arr1)\n",
        "\n",
        "# Vector element-wise operations\n",
        "print(arr1 * 2)\n",
        "print(arr1 + 2)\n",
        "print(arr2 * arr1)\n",
        "\n",
        "# b. Arrays from scratch\n",
        "\n",
        "# Create an integer array of size 100 filled with zeros\n",
        "np.zeros(shape=100, dtype='int')\n",
        "\n",
        "# Create a 3x3 floating point array filled with ones\n",
        "np.ones(shape=(3,3), dtype='float32')\n",
        "\n",
        "# Create an array filled with a linear sequence\n",
        "# Starting at 0, ending at 20, stepping by 3\n",
        "# (this is similar to the built-in range() function)\n",
        "np.arange(0,20,3)\n",
        "\n",
        "# Create an array of 100 values evenly spaced between 0 and 1\n",
        "np.linspace(0,1,100)\n",
        "\n",
        "# Create a 3x3 array of uniformly distributed random values between 0 and 1\n",
        "np.random.random(size=(3,3))\n",
        "\n",
        "# Create a 3x3 array of random integers in the interval [0,10)\n",
        "np.random.randint(0,10,size=(3,3))\n",
        "\n",
        "# Create a 3x3 array of normally distributed random values with mean 0 and standard deviation 1\n",
        "np.random.normal(0,1,(3,3))\n",
        "\n",
        "# One-d array of random integers\n",
        "np.random.randint(10, size=6)\n",
        "\n",
        "# 2d array of random integers\n",
        "np.random.randint(10, size=(3,3))\n",
        "\n",
        "# 3d array of random integers\n",
        "np.random.randint(10, size=(3,4,5))\n"
      ],
      "execution_count": 1,
      "outputs": [
        {
          "output_type": "stream",
          "text": [
            "[1 2 3 4]\n",
            "<class 'numpy.ndarray'>\n",
            "\n",
            "[1. 2. 3. 4.]\n",
            "<class 'numpy.ndarray'>\n",
            "\n",
            "[[1 2 3]\n",
            " [4 5 6]\n",
            " [6 7 8]]\n",
            "\n",
            "[1 2 3 4]\n",
            "[2 4 6 8]\n",
            "[3 4 5 6]\n",
            "[ 1.  4.  9. 16.]\n"
          ],
          "name": "stdout"
        },
        {
          "output_type": "execute_result",
          "data": {
            "text/plain": [
              "array([[[1, 1, 7, 7, 2],\n",
              "        [6, 6, 1, 4, 2],\n",
              "        [8, 6, 1, 3, 0],\n",
              "        [5, 8, 3, 5, 0]],\n",
              "\n",
              "       [[0, 3, 6, 0, 2],\n",
              "        [8, 7, 3, 9, 8],\n",
              "        [1, 5, 9, 1, 6],\n",
              "        [3, 3, 8, 0, 5]],\n",
              "\n",
              "       [[4, 6, 1, 4, 8],\n",
              "        [5, 3, 3, 2, 7],\n",
              "        [3, 6, 3, 5, 5],\n",
              "        [4, 8, 8, 9, 5]]])"
            ]
          },
          "metadata": {
            "tags": []
          },
          "execution_count": 1
        }
      ]
    },
    {
      "cell_type": "markdown",
      "metadata": {
        "id": "JeTzkY9_3vLq"
      },
      "source": [
        "# Array Attributes\n",
        "\n",
        "Each array has the following attributes:\n",
        "\n",
        "- ndim: the number of dimensions\n",
        "- shape: the size of each dimension\n",
        "- size: the total size of the array\n",
        "- dtype: the data type of the array\n",
        "- itemsize: the size (in bytes) of each array element\n",
        "- nbytes: the total size (in bytes) of the array"
      ]
    },
    {
      "cell_type": "code",
      "metadata": {
        "id": "48czQx5-kJuF",
        "outputId": "04e295ad-7572-40a3-a7ee-a0e172893f5a",
        "colab": {
          "base_uri": "https://localhost:8080/",
          "height": 119
        }
      },
      "source": [
        "import numpy as np\n",
        "\n",
        "# Create a 3x3 array of random integers in the interval [0,10)\n",
        "x = np.random.randint(0,10, size=(3,3))\n",
        "\n",
        "print(f'ndim: {x.ndim}')\n",
        "print(f'shape: {x.shape}')\n",
        "print(f'x size: {x.size}')\n",
        "print(f'dtype: {x.dtype}')\n",
        "print(f'itemsize: {x.itemsize} bytes')\n",
        "print(f'nbytes: {x.nbytes} bytes')\n"
      ],
      "execution_count": 2,
      "outputs": [
        {
          "output_type": "stream",
          "text": [
            "ndim: 2\n",
            "shape: (3, 3)\n",
            "x size: 9\n",
            "dtype: int64\n",
            "itemsize: 8 bytes\n",
            "nbytes: 72 bytes\n"
          ],
          "name": "stdout"
        }
      ]
    },
    {
      "cell_type": "markdown",
      "metadata": {
        "id": "TCi5B0-v48LG"
      },
      "source": [
        "# Array indexing and slicing\n",
        "Indexing in NumPy is similar to Python’s standard list indexing. In a 1D array, we can access the ith value by specifying the index of the element we need in square brackets. One important thing to remember here is that indexing in Python starts at zero."
      ]
    },
    {
      "cell_type": "code",
      "metadata": {
        "id": "HeJihYYQ41Fh",
        "outputId": "4f380928-ff6f-45be-b816-4a7ae3ae6f0f",
        "colab": {
          "base_uri": "https://localhost:8080/",
          "height": 408
        }
      },
      "source": [
        "##################\n",
        "# Array Indexing #\n",
        "##################\n",
        "\n",
        "# Input array\n",
        "x = np.array([1,2,3,4,5,6])\n",
        "\n",
        "# Access the first value of x\n",
        "x[0]\n",
        "\n",
        "# Access the third value of x\n",
        "x[2]\n",
        "\n",
        "# Use negative indices to index from the end of the array\n",
        "\n",
        "# Get the last value of x\n",
        "print (x[-1])\n",
        "\n",
        "# Get the second last value of x\n",
        "print (x[-2])\n",
        "\n",
        "# If we have a multidimensional array, and want to access items based on both column and row, \n",
        "# we can pass the row and column indices at the same time using a comma-separated tuple as shown in the examples below.\n",
        "\n",
        "x2 = np.array([[3,2,5,5],[0,1,5,8],[3,0,5,0]])\n",
        "print (x2)\n",
        "\n",
        "# Get value in 3rd row and 4th column\n",
        "print (x2[2,3])\n",
        "\n",
        "# 3rd row and last value from the 3rd column of x2\n",
        "print (x2[2,-1])\n",
        "\n",
        "# Replace the value in the 1st row and 1st column of x2 with 1\n",
        "x2[0,0] = 1\n",
        "print (x2) \n",
        "\n",
        "#################\n",
        "# Array slicing #\n",
        "#################\n",
        "\n",
        "# Slicing array is a way to access subarrays, i.e., accessing multiple or a range of elements from an array instead of individual items. \n",
        "# In other words, when you slice arrays you get and set smaller subsets of items within larger arrays.\n",
        "# we need to use square brackets to access individual elements. \n",
        "# But this time, we also need the slice notation, “:” to access a slice or a range of elements of a given array, x\n",
        "# x[start:stop:step]\n",
        "\n",
        "# Input array\n",
        "\n",
        "x1 = np.arange(10)\n",
        "print(x1)\n",
        "\n",
        "# print the first 5 elements of the array\n",
        "print (x1[:5])\n",
        "\n",
        "# print elements after index 4\n",
        "print (x1[4:])\n",
        "\n",
        "# from 4th to 6th position\n",
        "print (x1[4:7])\n",
        "\n",
        "# print elements at even place\n",
        "print (x1[ : : 2])\n",
        "\n",
        "# print elements from 1st position step by 2 (every other element starting at index 1)\n",
        "print (x1[1::2])\n",
        "\n",
        "# reverse the array\n",
        "print (x1[::-1])\n",
        "\n",
        "# reverse every other element starting from index 5\n",
        "print (x1[5::-2])\n",
        "\n",
        "# Multi-dimensional slices\n",
        "\n",
        "x2 = np.array([[0,1,2],[3,4,5],[6,7,8]])\n",
        "\n",
        "# Extract the first two rows and first two columns\n",
        "print (x2[ :2 , :2])\n",
        "\n",
        "# all rows and every other column\n",
        "print (x2[ : , ::2 ])\n"
      ],
      "execution_count": 3,
      "outputs": [
        {
          "output_type": "stream",
          "text": [
            "6\n",
            "5\n",
            "[[3 2 5 5]\n",
            " [0 1 5 8]\n",
            " [3 0 5 0]]\n",
            "0\n",
            "0\n",
            "[[1 2 5 5]\n",
            " [0 1 5 8]\n",
            " [3 0 5 0]]\n",
            "[0 1 2 3 4 5 6 7 8 9]\n",
            "[0 1 2 3 4]\n",
            "[4 5 6 7 8 9]\n",
            "[4 5 6]\n",
            "[0 2 4 6 8]\n",
            "[1 3 5 7 9]\n",
            "[9 8 7 6 5 4 3 2 1 0]\n",
            "[5 3 1]\n",
            "[[0 1]\n",
            " [3 4]]\n",
            "[[0 2]\n",
            " [3 5]\n",
            " [6 8]]\n"
          ],
          "name": "stdout"
        }
      ]
    },
    {
      "cell_type": "markdown",
      "metadata": {
        "id": "x05ul9x5mN35"
      },
      "source": [
        "# Reshaping of array\n",
        "\n",
        "Reshaping is about changing the way items are arranged within the array so that the shape of the array changes but the overall number of dimensions stays the same, e.g., you can use it to convert a 1D array into 2D array.\n",
        "\n",
        "Reshaping is a very useful operation and it can easily be done using the reshape() method. Since a picture speaks a thousand words, let’s see the effects of reshaping visually:\n",
        "\n",
        "![Screenshot 2020-10-21 at 16 07 16](https://user-images.githubusercontent.com/26361028/96708880-7e123f00-13b7-11eb-832c-c0e6f0b8c943.png)\n",
        "\n"
      ]
    },
    {
      "cell_type": "code",
      "metadata": {
        "id": "aJO7m3cu_La2",
        "outputId": "d4310ae4-9d46-4afb-990a-3f9aec4c6dab",
        "colab": {
          "base_uri": "https://localhost:8080/",
          "height": 272
        }
      },
      "source": [
        "import numpy as np\n",
        "\n",
        "# create a 3x3 grid with numbers 1 to 9\n",
        "x = np.arange(1,10).reshape((3,3))\n",
        "print(x)\n",
        "print()\n",
        "\n",
        "x = np.array([1,2,3])\n",
        "print(x)\n",
        "print(x.shape)\n",
        "print()\n",
        "\n",
        "# row vector via reshape\n",
        "x_rv = x.reshape((1,3))\n",
        "print(x_rv)\n",
        "print(x_rv.shape)\n",
        "print()\n",
        "\n",
        "# column vector via reshape\n",
        "x_cv = x.reshape((3,1))\n",
        "print(x_cv)\n",
        "print(x_cv.shape)\n",
        "print()"
      ],
      "execution_count": 4,
      "outputs": [
        {
          "output_type": "stream",
          "text": [
            "[[1 2 3]\n",
            " [4 5 6]\n",
            " [7 8 9]]\n",
            "\n",
            "[1 2 3]\n",
            "(3,)\n",
            "\n",
            "[[1 2 3]]\n",
            "(1, 3)\n",
            "\n",
            "[[1]\n",
            " [2]\n",
            " [3]]\n",
            "(3, 1)\n",
            "\n"
          ],
          "name": "stdout"
        }
      ]
    },
    {
      "cell_type": "markdown",
      "metadata": {
        "id": "BfqRCgPtLp0u"
      },
      "source": [
        "# Concatenation of Arrays"
      ]
    },
    {
      "cell_type": "code",
      "metadata": {
        "id": "Pv16Idu-Kau3",
        "outputId": "95dd8ab0-3843-49b8-dea5-436efd5839f1",
        "colab": {
          "base_uri": "https://localhost:8080/",
          "height": 51
        }
      },
      "source": [
        "# Concatenate two or more arrays at once\n",
        "x = np.array([1,2,3])\n",
        "y = np.array([4,5,6])\n",
        "z = np.array([11,11,11])\n",
        "\n",
        "np.concatenate([x,y,z])\n",
        "\n",
        "# Concatenate 2d arrays\n",
        "x = np.array([[1,2,3],[4,5,6],[11,11,11]])\n",
        "np.concatenate([x,x])\n",
        "\n",
        "x = np.array([3,4,5])\n",
        "grid = np.array([[1,2,3],[9,10,11]])\n",
        "\n",
        "np.vstack([x,grid]) # vertically stack the arrays\n",
        "\n",
        "z = np.array([[19],[19]])\n",
        "np.hstack([grid,z])  # horizontally stack the arrays\n"
      ],
      "execution_count": 5,
      "outputs": [
        {
          "output_type": "execute_result",
          "data": {
            "text/plain": [
              "array([[ 1,  2,  3, 19],\n",
              "       [ 9, 10, 11, 19]])"
            ]
          },
          "metadata": {
            "tags": []
          },
          "execution_count": 5
        }
      ]
    },
    {
      "cell_type": "markdown",
      "metadata": {
        "id": "33CkLx_iM39M"
      },
      "source": [
        "# Splitting"
      ]
    },
    {
      "cell_type": "code",
      "metadata": {
        "id": "9EczATyxM5Yq",
        "outputId": "a0bc0406-2fb7-4a9c-cb44-f74cfa1d7a86",
        "colab": {
          "base_uri": "https://localhost:8080/",
          "height": 34
        }
      },
      "source": [
        "x = np.arange(10)\n",
        "\n",
        "x1,x2,x3 = np.split(x, [3,6],)\n",
        "print (x1, x2, x3)"
      ],
      "execution_count": 6,
      "outputs": [
        {
          "output_type": "stream",
          "text": [
            "[0 1 2] [3 4 5] [6 7 8 9]\n"
          ],
          "name": "stdout"
        }
      ]
    },
    {
      "cell_type": "markdown",
      "metadata": {
        "id": "_KxMTAr0VOlK"
      },
      "source": [
        "# Computations on Numpy Arrays\n"
      ]
    },
    {
      "cell_type": "code",
      "metadata": {
        "id": "DJrwbQWvVi4O",
        "outputId": "0b08a871-8680-45f8-92ee-2aa9dc823823",
        "colab": {
          "base_uri": "https://localhost:8080/",
          "height": 323
        }
      },
      "source": [
        "import numpy as np\n",
        "\n",
        "x = np.arange(10)\n",
        "\n",
        "# Native arithmetic operators\n",
        "print(f'x = {x}')\n",
        "print(f'x + 5 = {x + 5}')\n",
        "print(f'x - 5 = {x - 5}')\n",
        "print(f'x * 5 = {x * 5}')\n",
        "print(f'x / 5 = {x / 5}')\n",
        "print(f'x ** 2 = {x ** 2}')\n",
        "print(f'x % 2 = {x % 2}')\n",
        "\n",
        "# Trigonometric functions\n",
        "theta = np.linspace(0, np.pi, num=4)\n",
        "print(f'theta = {theta}')\n",
        "print(f'sin(theta) = {np.sin(theta)}')\n",
        "print(f'cos(theta) = {np.cos(theta)}')\n",
        "print(f'tan(theta) = {np.tan(theta)}')\n",
        "\n",
        "# Logarithms and exponentials\n",
        "x = [1,2,3]\n",
        "print(f'x = {x}')\n",
        "print(f'e^x = {np.exp(x)}')\n",
        "print(f'2^x = {np.exp2(x)}')\n",
        "print(f'3^x = {np.power(3,x)}')\n",
        "\n",
        "print(f'ln(x) = {np.log(x)}')\n",
        "print(f'log2(x) = {np.log2(x)}')\n",
        "print(f'log10(x) = {np.log10(x)}')\n"
      ],
      "execution_count": 7,
      "outputs": [
        {
          "output_type": "stream",
          "text": [
            "x = [0 1 2 3 4 5 6 7 8 9]\n",
            "x + 5 = [ 5  6  7  8  9 10 11 12 13 14]\n",
            "x - 5 = [-5 -4 -3 -2 -1  0  1  2  3  4]\n",
            "x * 5 = [ 0  5 10 15 20 25 30 35 40 45]\n",
            "x / 5 = [0.  0.2 0.4 0.6 0.8 1.  1.2 1.4 1.6 1.8]\n",
            "x ** 2 = [ 0  1  4  9 16 25 36 49 64 81]\n",
            "x % 2 = [0 1 0 1 0 1 0 1 0 1]\n",
            "theta = [0.         1.04719755 2.0943951  3.14159265]\n",
            "sin(theta) = [0.00000000e+00 8.66025404e-01 8.66025404e-01 1.22464680e-16]\n",
            "cos(theta) = [ 1.   0.5 -0.5 -1. ]\n",
            "tan(theta) = [ 0.00000000e+00  1.73205081e+00 -1.73205081e+00 -1.22464680e-16]\n",
            "x = [1, 2, 3]\n",
            "e^x = [ 2.71828183  7.3890561  20.08553692]\n",
            "2^x = [2. 4. 8.]\n",
            "3^x = [ 3  9 27]\n",
            "ln(x) = [0.         0.69314718 1.09861229]\n",
            "log2(x) = [0.        1.        1.5849625]\n",
            "log10(x) = [0.         0.30103    0.47712125]\n"
          ],
          "name": "stdout"
        }
      ]
    },
    {
      "cell_type": "code",
      "metadata": {
        "id": "h7B4pKrFY6ja",
        "outputId": "da505e0f-2f91-4dd2-d2e2-a4bc770bbc36",
        "colab": {
          "base_uri": "https://localhost:8080/",
          "height": 51
        }
      },
      "source": [
        "# Reduce method\n",
        "x = np.arange(1,6)\n",
        "sum_all = np.add.reduce(x)\n",
        "print(sum_all)\n",
        "\n",
        "# Accumulate method\n",
        "x = np.arange(1,6)\n",
        "sum_acc = np.add.accumulate(x)\n",
        "print(sum_acc)"
      ],
      "execution_count": 8,
      "outputs": [
        {
          "output_type": "stream",
          "text": [
            "15\n",
            "[ 1  3  6 10 15]\n"
          ],
          "name": "stdout"
        }
      ]
    },
    {
      "cell_type": "markdown",
      "metadata": {
        "id": "uBhv5cS7bwFN"
      },
      "source": [
        "# Aggregations"
      ]
    },
    {
      "cell_type": "code",
      "metadata": {
        "id": "dilVjfq-bvEg",
        "outputId": "435fe68e-2f81-41db-a559-490c8b65cd2c",
        "colab": {
          "base_uri": "https://localhost:8080/",
          "height": 221
        }
      },
      "source": [
        "import numpy as np\n",
        "\n",
        "x = np.random.random(100)\n",
        "\n",
        "print(f'Sum of values is: {np.sum(x)}')\n",
        "print(f'Mean value is: {np.mean(x)}')\n",
        "print(f'Max value is: {np.max(x)}')\n",
        "print(f'Min value is: {np.min(x)}')\n",
        "print()\n",
        "\n",
        "# Aggregate operations on multi-dimensional array\n",
        "grid = np.random.random((3,4))\n",
        "print (grid)\n",
        "\n",
        "print(f'Overall sum: {np.sum(grid)}')\n",
        "print(f'Overall min: {np.min(grid)}')\n",
        "\n",
        "# Row wise and column wise min\n",
        "print(f'Column wise minimum: {np.amin(grid, axis=0)}')\n",
        "print(f'Row wise minimum: {np.amin(grid, axis=1)}')"
      ],
      "execution_count": 9,
      "outputs": [
        {
          "output_type": "stream",
          "text": [
            "Sum of values is: 45.807788964835886\n",
            "Mean value is: 0.4580778896483589\n",
            "Max value is: 0.9792634816800948\n",
            "Min value is: 0.02750765307339853\n",
            "\n",
            "[[0.35923326 0.58122717 0.4171537  0.26368982]\n",
            " [0.86349691 0.04502433 0.30465066 0.35473602]\n",
            " [0.41406378 0.41481561 0.4536483  0.81313174]]\n",
            "Overall sum: 5.284871275935817\n",
            "Overall min: 0.04502432970983661\n",
            "Column wise minimum: [0.35923326 0.04502433 0.30465066 0.26368982]\n",
            "Row wise minimum: [0.26368982 0.04502433 0.41406378]\n"
          ],
          "name": "stdout"
        }
      ]
    },
    {
      "cell_type": "markdown",
      "metadata": {
        "id": "aoGlYE4If_zn"
      },
      "source": [
        "# Comparisons"
      ]
    },
    {
      "cell_type": "code",
      "metadata": {
        "id": "dw5PAoY5f_nB",
        "outputId": "a7f96fe9-a6ef-485c-b281-b3264569027c",
        "colab": {
          "base_uri": "https://localhost:8080/",
          "height": 119
        }
      },
      "source": [
        "import numpy as np\n",
        "\n",
        "x = np.arange(1,10)\n",
        "\n",
        "print(x < 2)\n",
        "print(x >= 4)\n",
        "\n",
        "x = np.array([1,2,3,4,5])\n",
        "(2 * x) == (x ** 2)\n",
        "\n",
        "x = np.arange(10)\n",
        "print(x)\n",
        "\n",
        "# How many values are less than 6\n",
        "print(np.count_nonzero(x < 6))\n",
        "\n",
        "# Are there any values greater than 8\n",
        "print(np.any(x > 8))\n",
        "\n",
        "# Are all values less than 10\n",
        "print(np.all(x < 10))\n"
      ],
      "execution_count": 10,
      "outputs": [
        {
          "output_type": "stream",
          "text": [
            "[ True False False False False False False False False]\n",
            "[False False False  True  True  True  True  True  True]\n",
            "[0 1 2 3 4 5 6 7 8 9]\n",
            "6\n",
            "True\n",
            "True\n"
          ],
          "name": "stdout"
        }
      ]
    },
    {
      "cell_type": "markdown",
      "metadata": {
        "id": "MXQmMHI3hXr_"
      },
      "source": [
        "# Boolean Masks\n"
      ]
    },
    {
      "cell_type": "code",
      "metadata": {
        "id": "LRIt1BuaY_6h",
        "outputId": "250e25e5-5e6d-4404-c93e-b2ac208aeb44",
        "colab": {
          "base_uri": "https://localhost:8080/",
          "height": 136
        }
      },
      "source": [
        "x = np.random.randint(0,10,(3,3))\n",
        "print(x)\n",
        "\n",
        "# Boolean array\n",
        "print(x < 6)\n",
        "\n",
        "# Boolean mask\n",
        "print(x[x < 6])\n"
      ],
      "execution_count": 11,
      "outputs": [
        {
          "output_type": "stream",
          "text": [
            "[[8 8 0]\n",
            " [1 2 7]\n",
            " [1 3 1]]\n",
            "[[False False  True]\n",
            " [ True  True False]\n",
            " [ True  True  True]]\n",
            "[0 1 2 1 3 1]\n"
          ],
          "name": "stdout"
        }
      ]
    },
    {
      "cell_type": "code",
      "metadata": {
        "id": "_mk40Hauv8dv"
      },
      "source": [
        ""
      ],
      "execution_count": 11,
      "outputs": []
    }
  ]
}