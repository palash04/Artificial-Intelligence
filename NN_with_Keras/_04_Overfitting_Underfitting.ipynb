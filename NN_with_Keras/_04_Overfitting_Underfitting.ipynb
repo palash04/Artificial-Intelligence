{
  "nbformat": 4,
  "nbformat_minor": 0,
  "metadata": {
    "colab": {
      "name": "_04_Overfitting_Underfitting.ipynb",
      "provenance": [],
      "authorship_tag": "ABX9TyOYf4sjWzpWCzzA8mmseSxh",
      "include_colab_link": true
    },
    "kernelspec": {
      "name": "python3",
      "display_name": "Python 3"
    }
  },
  "cells": [
    {
      "cell_type": "markdown",
      "metadata": {
        "id": "view-in-github",
        "colab_type": "text"
      },
      "source": [
        "<a href=\"https://colab.research.google.com/github/palash04/Artificial-Intelligence/blob/master/NN_with_Keras/_04_Overfitting_Underfitting.ipynb\" target=\"_parent\"><img src=\"https://colab.research.google.com/assets/colab-badge.svg\" alt=\"Open In Colab\"/></a>"
      ]
    },
    {
      "cell_type": "markdown",
      "metadata": {
        "id": "rtIwto3gZDNu",
        "colab_type": "text"
      },
      "source": [
        "# Overfitting and Underfitting"
      ]
    },
    {
      "cell_type": "code",
      "metadata": {
        "id": "yHl9vmTyY-xz",
        "colab_type": "code",
        "colab": {
          "base_uri": "https://localhost:8080/",
          "height": 35
        },
        "outputId": "ee87833b-9325-461a-ec90-6686c78f3745"
      },
      "source": [
        "import keras\n",
        "keras.__version__"
      ],
      "execution_count": 1,
      "outputs": [
        {
          "output_type": "execute_result",
          "data": {
            "application/vnd.google.colaboratory.intrinsic+json": {
              "type": "string"
            },
            "text/plain": [
              "'2.4.3'"
            ]
          },
          "metadata": {
            "tags": []
          },
          "execution_count": 1
        }
      ]
    },
    {
      "cell_type": "code",
      "metadata": {
        "id": "xfFla0eTey6F",
        "colab_type": "code",
        "colab": {}
      },
      "source": [
        "from keras.datasets import imdb\n",
        "import numpy as np\n",
        "\n",
        "(train_data, train_labels), (test_data, test_labels) = imdb.load_data(num_words = 10000)\n",
        "\n",
        "def vectorize_sequences(sequences, dimension=10000):\n",
        "  results = np.zeros((len(sequences), dimension))\n",
        "\n",
        "  for i, sequence in enumerate(sequences):\n",
        "    results[i, sequence] = 1.\n",
        "  \n",
        "  return results\n",
        "\n",
        "x_train = vectorize_sequences(train_data)\n",
        "x_test = vectorize_sequences(test_data)\n",
        "\n",
        "y_train = np.asarray(train_labels).astype('float32')\n",
        "y_test = np.asarray(test_labels).astype('float32')"
      ],
      "execution_count": 4,
      "outputs": []
    },
    {
      "cell_type": "code",
      "metadata": {
        "id": "mJuHqNZEIXOS",
        "colab_type": "code",
        "colab": {}
      },
      "source": [
        "from keras import models, layers\n",
        "\n",
        "original_model = models.Sequential()\n",
        "original_model.add(layers.Dense(16, activation='relu', input_shape=(10000,)))\n",
        "original_model.add(layers.Dense(16, activation='relu'))\n",
        "original_model.add(layers.Dense(1, activation='sigmoid'))\n",
        "\n",
        "original_model.compile(optimizer='rmsprop',\n",
        "                      loss='binary_crossentropy',\n",
        "                      metrics=['acc'])"
      ],
      "execution_count": 8,
      "outputs": []
    },
    {
      "cell_type": "code",
      "metadata": {
        "id": "juq2SWsvJsOg",
        "colab_type": "code",
        "colab": {}
      },
      "source": [
        "smaller_model = models.Sequential()\n",
        "smaller_model.add(layers.Dense(4, activation='relu', input_shape=(10000,)))\n",
        "smaller_model.add(layers.Dense(4, activation='relu'))\n",
        "smaller_model.add(layers.Dense(1, activation='sigmoid'))\n",
        "\n",
        "smaller_model.compile(optimizer='rmsprop',\n",
        "                     loss='binary_crossentropy',\n",
        "                     metrics=['acc'])"
      ],
      "execution_count": 12,
      "outputs": []
    },
    {
      "cell_type": "code",
      "metadata": {
        "id": "8mOp9pVoKjwS",
        "colab_type": "code",
        "colab": {
          "base_uri": "https://localhost:8080/",
          "height": 697
        },
        "outputId": "529d212e-a799-4a6e-d1a1-b1d3cc685bdb"
      },
      "source": [
        "original_hist = original_model.fit(x_train, y_train, epochs=20, batch_size=512, validation_data=(x_test,y_test))"
      ],
      "execution_count": 10,
      "outputs": [
        {
          "output_type": "stream",
          "text": [
            "Epoch 1/20\n",
            "49/49 [==============================] - 4s 81ms/step - loss: 0.4573 - acc: 0.8175 - val_loss: 0.3387 - val_acc: 0.8786\n",
            "Epoch 2/20\n",
            "49/49 [==============================] - 3s 52ms/step - loss: 0.2609 - acc: 0.9087 - val_loss: 0.2961 - val_acc: 0.8833\n",
            "Epoch 3/20\n",
            "49/49 [==============================] - 3s 52ms/step - loss: 0.2005 - acc: 0.9289 - val_loss: 0.2810 - val_acc: 0.8870\n",
            "Epoch 4/20\n",
            "49/49 [==============================] - 3s 51ms/step - loss: 0.1686 - acc: 0.9391 - val_loss: 0.2917 - val_acc: 0.8858\n",
            "Epoch 5/20\n",
            "49/49 [==============================] - 3s 53ms/step - loss: 0.1437 - acc: 0.9512 - val_loss: 0.3344 - val_acc: 0.8709\n",
            "Epoch 6/20\n",
            "49/49 [==============================] - 3s 53ms/step - loss: 0.1276 - acc: 0.9556 - val_loss: 0.3291 - val_acc: 0.8775\n",
            "Epoch 7/20\n",
            "49/49 [==============================] - 3s 53ms/step - loss: 0.1129 - acc: 0.9609 - val_loss: 0.3532 - val_acc: 0.8732\n",
            "Epoch 8/20\n",
            "49/49 [==============================] - 3s 52ms/step - loss: 0.0969 - acc: 0.9676 - val_loss: 0.3861 - val_acc: 0.8681\n",
            "Epoch 9/20\n",
            "49/49 [==============================] - 3s 53ms/step - loss: 0.0892 - acc: 0.9700 - val_loss: 0.4040 - val_acc: 0.8682\n",
            "Epoch 10/20\n",
            "49/49 [==============================] - 3s 52ms/step - loss: 0.0771 - acc: 0.9747 - val_loss: 0.4334 - val_acc: 0.8638\n",
            "Epoch 11/20\n",
            "49/49 [==============================] - 3s 53ms/step - loss: 0.0714 - acc: 0.9764 - val_loss: 0.4643 - val_acc: 0.8616\n",
            "Epoch 12/20\n",
            "49/49 [==============================] - 3s 52ms/step - loss: 0.0595 - acc: 0.9815 - val_loss: 0.4913 - val_acc: 0.8598\n",
            "Epoch 13/20\n",
            "49/49 [==============================] - 3s 52ms/step - loss: 0.0530 - acc: 0.9835 - val_loss: 0.5289 - val_acc: 0.8565\n",
            "Epoch 14/20\n",
            "49/49 [==============================] - 3s 53ms/step - loss: 0.0476 - acc: 0.9859 - val_loss: 0.5583 - val_acc: 0.8561\n",
            "Epoch 15/20\n",
            "49/49 [==============================] - 3s 52ms/step - loss: 0.0391 - acc: 0.9887 - val_loss: 0.5964 - val_acc: 0.8541\n",
            "Epoch 16/20\n",
            "49/49 [==============================] - 3s 53ms/step - loss: 0.0354 - acc: 0.9903 - val_loss: 0.6241 - val_acc: 0.8533\n",
            "Epoch 17/20\n",
            "49/49 [==============================] - 3s 53ms/step - loss: 0.0298 - acc: 0.9919 - val_loss: 0.6625 - val_acc: 0.8514\n",
            "Epoch 18/20\n",
            "49/49 [==============================] - 3s 54ms/step - loss: 0.0274 - acc: 0.9919 - val_loss: 0.8171 - val_acc: 0.8377\n",
            "Epoch 19/20\n",
            "49/49 [==============================] - 3s 53ms/step - loss: 0.0203 - acc: 0.9952 - val_loss: 0.7647 - val_acc: 0.8474\n",
            "Epoch 20/20\n",
            "49/49 [==============================] - 2s 48ms/step - loss: 0.0183 - acc: 0.9960 - val_loss: 0.8299 - val_acc: 0.8442\n"
          ],
          "name": "stdout"
        }
      ]
    },
    {
      "cell_type": "code",
      "metadata": {
        "id": "oGBtytcGKxdN",
        "colab_type": "code",
        "colab": {
          "base_uri": "https://localhost:8080/",
          "height": 697
        },
        "outputId": "e54e027b-0f4c-4c75-b59b-fee564f3d304"
      },
      "source": [
        "smaller_hist = smaller_model.fit(x_train, y_train, epochs=20, batch_size=512, validation_data=(x_test,y_test))"
      ],
      "execution_count": 13,
      "outputs": [
        {
          "output_type": "stream",
          "text": [
            "Epoch 1/20\n",
            "49/49 [==============================] - 2s 50ms/step - loss: 0.6062 - acc: 0.6770 - val_loss: 0.5585 - val_acc: 0.7600\n",
            "Epoch 2/20\n",
            "49/49 [==============================] - 2s 36ms/step - loss: 0.5117 - acc: 0.8238 - val_loss: 0.5052 - val_acc: 0.8506\n",
            "Epoch 3/20\n",
            "49/49 [==============================] - 2s 36ms/step - loss: 0.4576 - acc: 0.8792 - val_loss: 0.4707 - val_acc: 0.8594\n",
            "Epoch 4/20\n",
            "49/49 [==============================] - 2s 37ms/step - loss: 0.4162 - acc: 0.9047 - val_loss: 0.4497 - val_acc: 0.8590\n",
            "Epoch 5/20\n",
            "49/49 [==============================] - 2s 38ms/step - loss: 0.3807 - acc: 0.9216 - val_loss: 0.4248 - val_acc: 0.8800\n",
            "Epoch 6/20\n",
            "49/49 [==============================] - 2s 37ms/step - loss: 0.3471 - acc: 0.9341 - val_loss: 0.4043 - val_acc: 0.8815\n",
            "Epoch 7/20\n",
            "49/49 [==============================] - 2s 37ms/step - loss: 0.3096 - acc: 0.9440 - val_loss: 0.3826 - val_acc: 0.8798\n",
            "Epoch 8/20\n",
            "49/49 [==============================] - 2s 37ms/step - loss: 0.2672 - acc: 0.9500 - val_loss: 0.3483 - val_acc: 0.8828\n",
            "Epoch 9/20\n",
            "49/49 [==============================] - 2s 37ms/step - loss: 0.2021 - acc: 0.9551 - val_loss: 0.3042 - val_acc: 0.8807\n",
            "Epoch 10/20\n",
            "49/49 [==============================] - 2s 37ms/step - loss: 0.1611 - acc: 0.9568 - val_loss: 0.2996 - val_acc: 0.8815\n",
            "Epoch 11/20\n",
            "49/49 [==============================] - 2s 37ms/step - loss: 0.1425 - acc: 0.9603 - val_loss: 0.3063 - val_acc: 0.8794\n",
            "Epoch 12/20\n",
            "49/49 [==============================] - 2s 36ms/step - loss: 0.1298 - acc: 0.9626 - val_loss: 0.3144 - val_acc: 0.8794\n",
            "Epoch 13/20\n",
            "49/49 [==============================] - 2s 36ms/step - loss: 0.1192 - acc: 0.9656 - val_loss: 0.3263 - val_acc: 0.8772\n",
            "Epoch 14/20\n",
            "49/49 [==============================] - 2s 37ms/step - loss: 0.1092 - acc: 0.9683 - val_loss: 0.3405 - val_acc: 0.8752\n",
            "Epoch 15/20\n",
            "49/49 [==============================] - 2s 37ms/step - loss: 0.1013 - acc: 0.9714 - val_loss: 0.3494 - val_acc: 0.8743\n",
            "Epoch 16/20\n",
            "49/49 [==============================] - 2s 39ms/step - loss: 0.0940 - acc: 0.9724 - val_loss: 0.3592 - val_acc: 0.8724\n",
            "Epoch 17/20\n",
            "49/49 [==============================] - 2s 37ms/step - loss: 0.0864 - acc: 0.9749 - val_loss: 0.3762 - val_acc: 0.8686\n",
            "Epoch 18/20\n",
            "49/49 [==============================] - 2s 38ms/step - loss: 0.0798 - acc: 0.9771 - val_loss: 0.4055 - val_acc: 0.8632\n",
            "Epoch 19/20\n",
            "49/49 [==============================] - 2s 38ms/step - loss: 0.0739 - acc: 0.9798 - val_loss: 0.4064 - val_acc: 0.8668\n",
            "Epoch 20/20\n",
            "49/49 [==============================] - 2s 35ms/step - loss: 0.0681 - acc: 0.9810 - val_loss: 0.4242 - val_acc: 0.8657\n"
          ],
          "name": "stdout"
        }
      ]
    },
    {
      "cell_type": "code",
      "metadata": {
        "id": "BHKMRkXMLQoX",
        "colab_type": "code",
        "colab": {
          "base_uri": "https://localhost:8080/",
          "height": 51
        },
        "outputId": "010b0c8b-9d99-4a4f-b861-c2e0c79f3900"
      },
      "source": [
        "print (original_hist.history.keys())\n",
        "print (smaller_hist.history.keys())"
      ],
      "execution_count": 16,
      "outputs": [
        {
          "output_type": "stream",
          "text": [
            "dict_keys(['loss', 'acc', 'val_loss', 'val_acc'])\n",
            "dict_keys(['loss', 'acc', 'val_loss', 'val_acc'])\n"
          ],
          "name": "stdout"
        }
      ]
    },
    {
      "cell_type": "code",
      "metadata": {
        "id": "4q_sE7Z9LAIW",
        "colab_type": "code",
        "colab": {}
      },
      "source": [
        "epochs = range(1, 21)\n",
        "original_val_loss = original_hist.history['val_loss']\n",
        "smaller_model_val_loss = smaller_hist.history['val_loss']"
      ],
      "execution_count": 18,
      "outputs": []
    },
    {
      "cell_type": "code",
      "metadata": {
        "id": "GAsIS61tLDGn",
        "colab_type": "code",
        "colab": {
          "base_uri": "https://localhost:8080/",
          "height": 279
        },
        "outputId": "d4231adc-2a60-4cff-fa31-710acd074001"
      },
      "source": [
        "import matplotlib.pyplot as plt\n",
        "\n",
        "# b+ is for \"blue cross\"\n",
        "plt.plot(epochs, original_val_loss, 'b+', label='Original model')\n",
        "# \"bo\" is for \"blue dot\"\n",
        "plt.plot(epochs, smaller_model_val_loss, 'bo', label='Smaller model')\n",
        "plt.xlabel('Epochs')\n",
        "plt.ylabel('Validation loss')\n",
        "plt.legend()\n",
        "\n",
        "plt.show()"
      ],
      "execution_count": 19,
      "outputs": [
        {
          "output_type": "display_data",
          "data": {
            "image/png": "[encoded data removed]",
            "text/plain": [
              "<Figure size 432x288 with 1 Axes>"
            ]
          },
          "metadata": {
            "tags": [],
            "needs_background": "light"
          }
        }
      ]
    },
    {
      "cell_type": "code",
      "metadata": {
        "id": "xE-YJeQIL6V1",
        "colab_type": "code",
        "colab": {}
      },
      "source": [
        "bigger_model = models.Sequential()\n",
        "bigger_model.add(layers.Dense(512, activation='relu', input_shape=(10000,)))\n",
        "bigger_model.add(layers.Dense(512, activation='relu'))\n",
        "bigger_model.add(layers.Dense(1, activation='sigmoid'))\n",
        "\n",
        "bigger_model.compile(optimizer='rmsprop',\n",
        "                     loss='binary_crossentropy',\n",
        "                     metrics=['acc'])"
      ],
      "execution_count": 22,
      "outputs": []
    },
    {
      "cell_type": "code",
      "metadata": {
        "id": "l2pWMF-USlDb",
        "colab_type": "code",
        "colab": {
          "base_uri": "https://localhost:8080/",
          "height": 697
        },
        "outputId": "921932f3-d267-457b-ab00-23b798d55697"
      },
      "source": [
        "bigger_model_hist = bigger_model.fit(x_train, y_train, epochs=20, batch_size=512, validation_data=(x_test, y_test))"
      ],
      "execution_count": 23,
      "outputs": [
        {
          "output_type": "stream",
          "text": [
            "Epoch 1/20\n",
            "49/49 [==============================] - 20s 411ms/step - loss: 0.4702 - acc: 0.7899 - val_loss: 0.4063 - val_acc: 0.8149\n",
            "Epoch 2/20\n",
            "49/49 [==============================] - 16s 323ms/step - loss: 0.2192 - acc: 0.9122 - val_loss: 0.3584 - val_acc: 0.8497\n",
            "Epoch 3/20\n",
            "49/49 [==============================] - 16s 325ms/step - loss: 0.1322 - acc: 0.9508 - val_loss: 0.3528 - val_acc: 0.8752\n",
            "Epoch 4/20\n",
            "49/49 [==============================] - 16s 320ms/step - loss: 0.0502 - acc: 0.9833 - val_loss: 1.1055 - val_acc: 0.7750\n",
            "Epoch 5/20\n",
            "49/49 [==============================] - 16s 322ms/step - loss: 0.0346 - acc: 0.9897 - val_loss: 2.3285 - val_acc: 0.6738\n",
            "Epoch 6/20\n",
            "49/49 [==============================] - 16s 320ms/step - loss: 0.0384 - acc: 0.9914 - val_loss: 0.6773 - val_acc: 0.8816\n",
            "Epoch 7/20\n",
            "49/49 [==============================] - 16s 323ms/step - loss: 0.0861 - acc: 0.9874 - val_loss: 0.5957 - val_acc: 0.8804\n",
            "Epoch 8/20\n",
            "49/49 [==============================] - 16s 323ms/step - loss: 7.7096e-04 - acc: 0.9999 - val_loss: 0.7780 - val_acc: 0.8791\n",
            "Epoch 9/20\n",
            "49/49 [==============================] - 16s 324ms/step - loss: 3.7653e-04 - acc: 1.0000 - val_loss: 0.9427 - val_acc: 0.8804\n",
            "Epoch 10/20\n",
            "49/49 [==============================] - 16s 323ms/step - loss: 0.1205 - acc: 0.9886 - val_loss: 0.8466 - val_acc: 0.8616\n",
            "Epoch 11/20\n",
            "49/49 [==============================] - 16s 323ms/step - loss: 1.2592e-04 - acc: 1.0000 - val_loss: 0.8543 - val_acc: 0.8777\n",
            "Epoch 12/20\n",
            "49/49 [==============================] - 16s 323ms/step - loss: 1.8649e-05 - acc: 1.0000 - val_loss: 0.9660 - val_acc: 0.8794\n",
            "Epoch 13/20\n",
            "49/49 [==============================] - 16s 322ms/step - loss: 4.2868e-06 - acc: 1.0000 - val_loss: 1.1151 - val_acc: 0.8801\n",
            "Epoch 14/20\n",
            "49/49 [==============================] - 16s 327ms/step - loss: 8.0869e-07 - acc: 1.0000 - val_loss: 1.2577 - val_acc: 0.8799\n",
            "Epoch 15/20\n",
            "49/49 [==============================] - 17s 351ms/step - loss: 1.5106e-07 - acc: 1.0000 - val_loss: 1.3800 - val_acc: 0.8798\n",
            "Epoch 16/20\n",
            "49/49 [==============================] - 17s 341ms/step - loss: 4.1945e-08 - acc: 1.0000 - val_loss: 1.4809 - val_acc: 0.8798\n",
            "Epoch 17/20\n",
            "49/49 [==============================] - 16s 326ms/step - loss: 1.9794e-08 - acc: 1.0000 - val_loss: 1.5290 - val_acc: 0.8798\n",
            "Epoch 18/20\n",
            "49/49 [==============================] - 16s 321ms/step - loss: 1.2832e-08 - acc: 1.0000 - val_loss: 1.5572 - val_acc: 0.8797\n",
            "Epoch 19/20\n",
            "49/49 [==============================] - 16s 321ms/step - loss: 9.5330e-09 - acc: 1.0000 - val_loss: 1.5792 - val_acc: 0.8797\n",
            "Epoch 20/20\n",
            "49/49 [==============================] - 16s 323ms/step - loss: 7.5997e-09 - acc: 1.0000 - val_loss: 1.5972 - val_acc: 0.8797\n"
          ],
          "name": "stdout"
        }
      ]
    },
    {
      "cell_type": "code",
      "metadata": {
        "id": "J32uBvkyTGa4",
        "colab_type": "code",
        "colab": {
          "base_uri": "https://localhost:8080/",
          "height": 279
        },
        "outputId": "6936dfbc-f9b1-4e2c-cc3d-45bf6b839dc7"
      },
      "source": [
        "bigger_model_val_loss = bigger_model_hist.history['val_loss']\n",
        "\n",
        "plt.plot(epochs, original_val_loss, 'b+', label='Original model')\n",
        "plt.plot(epochs, bigger_model_val_loss, 'bo', label='Bigger model')\n",
        "plt.xlabel('Epochs')\n",
        "plt.ylabel('Validation loss')\n",
        "plt.legend()\n",
        "plt.show()"
      ],
      "execution_count": 24,
      "outputs": [
        {
          "output_type": "display_data",
          "data": {
            "image/png": "[encoded data removed]",
            "text/plain": [
              "<Figure size 432x288 with 1 Axes>"
            ]
          },
          "metadata": {
            "tags": [],
            "needs_background": "light"
          }
        }
      ]
    },
    {
      "cell_type": "code",
      "metadata": {
        "id": "dW54IO-1Uaq4",
        "colab_type": "code",
        "colab": {
          "base_uri": "https://localhost:8080/",
          "height": 279
        },
        "outputId": "f44697f5-fa41-45cf-b7c9-581844fede6e"
      },
      "source": [
        "original_train_loss = original_hist.history['loss']\n",
        "bigger_model_train_loss = bigger_model_hist.history['loss']\n",
        "\n",
        "plt.plot(epochs, original_train_loss, 'b+', label='Original model')\n",
        "plt.plot(epochs, bigger_model_train_loss, 'bo', label='Bigger model')\n",
        "plt.xlabel('Epochs')\n",
        "plt.ylabel('Training loss')\n",
        "plt.legend()\n",
        "\n",
        "plt.show()"
      ],
      "execution_count": 25,
      "outputs": [
        {
          "output_type": "display_data",
          "data": {
            "image/png": "[encoded data removed]",
            "text/plain": [
              "<Figure size 432x288 with 1 Axes>"
            ]
          },
          "metadata": {
            "tags": [],
            "needs_background": "light"
          }
        }
      ]
    },
    {
      "cell_type": "code",
      "metadata": {
        "id": "ZosM6cDoUxRk",
        "colab_type": "code",
        "colab": {}
      },
      "source": [
        "# Regularzation\n",
        "from keras import regularizers\n",
        "\n",
        "l2_model = models.Sequential()\n",
        "l2_model.add(layers.Dense(16, kernel_regularizer=regularizers.l2(0.001),\n",
        "                          activation='relu', input_shape=(10000,)))\n",
        "l2_model.add(layers.Dense(16, kernel_regularizer=regularizers.l2(0.001),\n",
        "                          activation='relu'))\n",
        "l2_model.add(layers.Dense(1, activation='sigmoid'))"
      ],
      "execution_count": 26,
      "outputs": []
    },
    {
      "cell_type": "code",
      "metadata": {
        "id": "PCpqwOhNVAeD",
        "colab_type": "code",
        "colab": {}
      },
      "source": [
        "l2_model.compile(optimizer='rmsprop',\n",
        "                 loss='binary_crossentropy',\n",
        "                 metrics=['acc'])"
      ],
      "execution_count": 27,
      "outputs": []
    },
    {
      "cell_type": "code",
      "metadata": {
        "id": "Tkw-tB3rVC-2",
        "colab_type": "code",
        "colab": {
          "base_uri": "https://localhost:8080/",
          "height": 697
        },
        "outputId": "6227d7d2-4263-4929-eabd-e74d359171c3"
      },
      "source": [
        "l2_model_hist = l2_model.fit(x_train, y_train,\n",
        "                             epochs=20,\n",
        "                             batch_size=512,\n",
        "                             validation_data=(x_test, y_test))"
      ],
      "execution_count": 28,
      "outputs": [
        {
          "output_type": "stream",
          "text": [
            "Epoch 1/20\n",
            "49/49 [==============================] - 5s 94ms/step - loss: 0.5001 - acc: 0.8194 - val_loss: 0.3860 - val_acc: 0.8807\n",
            "Epoch 2/20\n",
            "49/49 [==============================] - 2s 38ms/step - loss: 0.3217 - acc: 0.9047 - val_loss: 0.3361 - val_acc: 0.8898\n",
            "Epoch 3/20\n",
            "49/49 [==============================] - 2s 38ms/step - loss: 0.2768 - acc: 0.9208 - val_loss: 0.3371 - val_acc: 0.8862\n",
            "Epoch 4/20\n",
            "49/49 [==============================] - 2s 38ms/step - loss: 0.2575 - acc: 0.9267 - val_loss: 0.3416 - val_acc: 0.8832\n",
            "Epoch 5/20\n",
            "49/49 [==============================] - 2s 38ms/step - loss: 0.2409 - acc: 0.9338 - val_loss: 0.3472 - val_acc: 0.8822\n",
            "Epoch 6/20\n",
            "49/49 [==============================] - 2s 38ms/step - loss: 0.2362 - acc: 0.9340 - val_loss: 0.3531 - val_acc: 0.8806\n",
            "Epoch 7/20\n",
            "49/49 [==============================] - 2s 37ms/step - loss: 0.2275 - acc: 0.9384 - val_loss: 0.3657 - val_acc: 0.8764\n",
            "Epoch 8/20\n",
            "49/49 [==============================] - 2s 39ms/step - loss: 0.2234 - acc: 0.9390 - val_loss: 0.3638 - val_acc: 0.8782\n",
            "Epoch 9/20\n",
            "49/49 [==============================] - 2s 38ms/step - loss: 0.2193 - acc: 0.9419 - val_loss: 0.3860 - val_acc: 0.8715\n",
            "Epoch 10/20\n",
            "49/49 [==============================] - 2s 38ms/step - loss: 0.2156 - acc: 0.9411 - val_loss: 0.3756 - val_acc: 0.8758\n",
            "Epoch 11/20\n",
            "49/49 [==============================] - 2s 38ms/step - loss: 0.2137 - acc: 0.9430 - val_loss: 0.3962 - val_acc: 0.8699\n",
            "Epoch 12/20\n",
            "49/49 [==============================] - 2s 38ms/step - loss: 0.2125 - acc: 0.9427 - val_loss: 0.3872 - val_acc: 0.8734\n",
            "Epoch 13/20\n",
            "49/49 [==============================] - 2s 38ms/step - loss: 0.2082 - acc: 0.9438 - val_loss: 0.3982 - val_acc: 0.8705\n",
            "Epoch 14/20\n",
            "49/49 [==============================] - 2s 38ms/step - loss: 0.2075 - acc: 0.9444 - val_loss: 0.4001 - val_acc: 0.8712\n",
            "Epoch 15/20\n",
            "49/49 [==============================] - 2s 39ms/step - loss: 0.2038 - acc: 0.9455 - val_loss: 0.4173 - val_acc: 0.8680\n",
            "Epoch 16/20\n",
            "49/49 [==============================] - 2s 39ms/step - loss: 0.1984 - acc: 0.9494 - val_loss: 0.5656 - val_acc: 0.8308\n",
            "Epoch 17/20\n",
            "49/49 [==============================] - 2s 39ms/step - loss: 0.2011 - acc: 0.9470 - val_loss: 0.4268 - val_acc: 0.8643\n",
            "Epoch 18/20\n",
            "49/49 [==============================] - 2s 40ms/step - loss: 0.1962 - acc: 0.9487 - val_loss: 0.4091 - val_acc: 0.8696\n",
            "Epoch 19/20\n",
            "49/49 [==============================] - 2s 39ms/step - loss: 0.1980 - acc: 0.9463 - val_loss: 0.4723 - val_acc: 0.8527\n",
            "Epoch 20/20\n",
            "49/49 [==============================] - 2s 39ms/step - loss: 0.1938 - acc: 0.9504 - val_loss: 0.4198 - val_acc: 0.8669\n"
          ],
          "name": "stdout"
        }
      ]
    },
    {
      "cell_type": "code",
      "metadata": {
        "id": "I76A1GfcVGl1",
        "colab_type": "code",
        "colab": {
          "base_uri": "https://localhost:8080/",
          "height": 279
        },
        "outputId": "71c8ad30-0152-42ad-e968-379afd63ac84"
      },
      "source": [
        "l2_model_val_loss = l2_model_hist.history['val_loss']\n",
        "\n",
        "plt.plot(epochs, original_val_loss, 'b+', label='Original model')\n",
        "plt.plot(epochs, l2_model_val_loss, 'bo', label='L2-regularized model')\n",
        "plt.xlabel('Epochs')\n",
        "plt.ylabel('Validation loss')\n",
        "plt.legend()\n",
        "\n",
        "plt.show()"
      ],
      "execution_count": 29,
      "outputs": [
        {
          "output_type": "display_data",
          "data": {
            "image/png": "[encoded data removed]",
            "text/plain": [
              "<Figure size 432x288 with 1 Axes>"
            ]
          },
          "metadata": {
            "tags": [],
            "needs_background": "light"
          }
        }
      ]
    },
    {
      "cell_type": "code",
      "metadata": {
        "id": "Hcdonq1JVRxn",
        "colab_type": "code",
        "colab": {}
      },
      "source": [
        "# Adding dropout\n",
        "dpt_model = models.Sequential()\n",
        "dpt_model.add(layers.Dense(16, activation='relu', input_shape=(10000,)))\n",
        "dpt_model.add(layers.Dropout(0.5))\n",
        "dpt_model.add(layers.Dense(16, activation='relu'))\n",
        "dpt_model.add(layers.Dropout(0.5))\n",
        "dpt_model.add(layers.Dense(1, activation='sigmoid'))\n",
        "\n",
        "dpt_model.compile(optimizer='rmsprop',\n",
        "                  loss='binary_crossentropy',\n",
        "                  metrics=['acc'])"
      ],
      "execution_count": 30,
      "outputs": []
    },
    {
      "cell_type": "code",
      "metadata": {
        "id": "WW61fqxLVh4b",
        "colab_type": "code",
        "colab": {
          "base_uri": "https://localhost:8080/",
          "height": 697
        },
        "outputId": "f481a84c-3422-46a0-e0bb-952a26b408c6"
      },
      "source": [
        "dpt_model_hist = dpt_model.fit(x_train, y_train,\n",
        "                               epochs=20,\n",
        "                               batch_size=512,\n",
        "                               validation_data=(x_test, y_test))"
      ],
      "execution_count": 31,
      "outputs": [
        {
          "output_type": "stream",
          "text": [
            "Epoch 1/20\n",
            "49/49 [==============================] - 3s 59ms/step - loss: 0.6003 - acc: 0.6652 - val_loss: 0.4789 - val_acc: 0.8644\n",
            "Epoch 2/20\n",
            "49/49 [==============================] - 2s 37ms/step - loss: 0.4706 - acc: 0.8117 - val_loss: 0.3832 - val_acc: 0.8795\n",
            "Epoch 3/20\n",
            "49/49 [==============================] - 2s 37ms/step - loss: 0.3907 - acc: 0.8658 - val_loss: 0.3213 - val_acc: 0.8886\n",
            "Epoch 4/20\n",
            "49/49 [==============================] - 2s 37ms/step - loss: 0.3365 - acc: 0.8918 - val_loss: 0.2971 - val_acc: 0.8894\n",
            "Epoch 5/20\n",
            "49/49 [==============================] - 2s 37ms/step - loss: 0.2923 - acc: 0.9086 - val_loss: 0.2948 - val_acc: 0.8897\n",
            "Epoch 6/20\n",
            "49/49 [==============================] - 2s 36ms/step - loss: 0.2547 - acc: 0.9186 - val_loss: 0.2898 - val_acc: 0.8871\n",
            "Epoch 7/20\n",
            "49/49 [==============================] - 2s 36ms/step - loss: 0.2324 - acc: 0.9278 - val_loss: 0.3173 - val_acc: 0.8858\n",
            "Epoch 8/20\n",
            "49/49 [==============================] - 2s 36ms/step - loss: 0.2105 - acc: 0.9358 - val_loss: 0.3316 - val_acc: 0.8854\n",
            "Epoch 9/20\n",
            "49/49 [==============================] - 2s 36ms/step - loss: 0.1974 - acc: 0.9376 - val_loss: 0.3275 - val_acc: 0.8827\n",
            "Epoch 10/20\n",
            "49/49 [==============================] - 2s 36ms/step - loss: 0.1815 - acc: 0.9434 - val_loss: 0.3621 - val_acc: 0.8848\n",
            "Epoch 11/20\n",
            "49/49 [==============================] - 2s 36ms/step - loss: 0.1666 - acc: 0.9484 - val_loss: 0.3728 - val_acc: 0.8802\n",
            "Epoch 12/20\n",
            "49/49 [==============================] - 2s 36ms/step - loss: 0.1520 - acc: 0.9519 - val_loss: 0.4391 - val_acc: 0.8795\n",
            "Epoch 13/20\n",
            "49/49 [==============================] - 2s 36ms/step - loss: 0.1528 - acc: 0.9520 - val_loss: 0.4192 - val_acc: 0.8767\n",
            "Epoch 14/20\n",
            "49/49 [==============================] - 2s 37ms/step - loss: 0.1434 - acc: 0.9559 - val_loss: 0.4329 - val_acc: 0.8747\n",
            "Epoch 15/20\n",
            "49/49 [==============================] - 2s 37ms/step - loss: 0.1360 - acc: 0.9578 - val_loss: 0.4740 - val_acc: 0.8746\n",
            "Epoch 16/20\n",
            "49/49 [==============================] - 2s 37ms/step - loss: 0.1348 - acc: 0.9589 - val_loss: 0.5600 - val_acc: 0.8721\n",
            "Epoch 17/20\n",
            "49/49 [==============================] - 2s 36ms/step - loss: 0.1279 - acc: 0.9616 - val_loss: 0.4988 - val_acc: 0.8708\n",
            "Epoch 18/20\n",
            "49/49 [==============================] - 2s 36ms/step - loss: 0.1244 - acc: 0.9629 - val_loss: 0.5542 - val_acc: 0.8752\n",
            "Epoch 19/20\n",
            "49/49 [==============================] - 2s 36ms/step - loss: 0.1154 - acc: 0.9657 - val_loss: 0.5513 - val_acc: 0.8712\n",
            "Epoch 20/20\n",
            "49/49 [==============================] - 2s 37ms/step - loss: 0.1207 - acc: 0.9627 - val_loss: 0.6381 - val_acc: 0.8700\n"
          ],
          "name": "stdout"
        }
      ]
    },
    {
      "cell_type": "code",
      "metadata": {
        "id": "u47tNAamVj1o",
        "colab_type": "code",
        "colab": {
          "base_uri": "https://localhost:8080/",
          "height": 279
        },
        "outputId": "b0e04e4d-99b3-433e-86fe-f4c697fc5d54"
      },
      "source": [
        "dpt_model_val_loss = dpt_model_hist.history['val_loss']\n",
        "\n",
        "plt.plot(epochs, original_val_loss, 'b+', label='Original model')\n",
        "plt.plot(epochs, dpt_model_val_loss, 'bo', label='Dropout-regularized model')\n",
        "plt.xlabel('Epochs')\n",
        "plt.ylabel('Validation loss')\n",
        "plt.legend()\n",
        "\n",
        "plt.show()"
      ],
      "execution_count": 32,
      "outputs": [
        {
          "output_type": "display_data",
          "data": {
            "image/png": "[encoded data removed]",
            "text/plain": [
              "<Figure size 432x288 with 1 Axes>"
            ]
          },
          "metadata": {
            "tags": [],
            "needs_background": "light"
          }
        }
      ]
    },
    {
      "cell_type": "code",
      "metadata": {
        "id": "57ckV-2HVwE9",
        "colab_type": "code",
        "colab": {}
      },
      "source": [
        ""
      ],
      "execution_count": null,
      "outputs": []
    }
  ]
}