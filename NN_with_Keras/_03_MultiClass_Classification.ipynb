{
  "nbformat": 4,
  "nbformat_minor": 0,
  "metadata": {
    "colab": {
      "name": "_03_MultiClass_Classification.ipynb",
      "provenance": [],
      "authorship_tag": "ABX9TyMvBRf059xV5DP+aO0//wL/",
      "include_colab_link": true
    },
    "kernelspec": {
      "name": "python3",
      "display_name": "Python 3"
    }
  },
  "cells": [
    {
      "cell_type": "markdown",
      "metadata": {
        "id": "view-in-github",
        "colab_type": "text"
      },
      "source": [
        "<a href=\"https://colab.research.google.com/github/palash04/Artificial-Intelligence/blob/master/NN_with_Keras/_03_MultiClass_Classification.ipynb\" target=\"_parent\"><img src=\"https://colab.research.google.com/assets/colab-badge.svg\" alt=\"Open In Colab\"/></a>"
      ]
    },
    {
      "cell_type": "markdown",
      "metadata": {
        "id": "cChFNE6eMdSI",
        "colab_type": "text"
      },
      "source": [
        "# Classifying newswires into 46 different topics."
      ]
    },
    {
      "cell_type": "code",
      "metadata": {
        "id": "yFmgZPza9HIq",
        "colab_type": "code",
        "colab": {
          "base_uri": "https://localhost:8080/",
          "height": 35
        },
        "outputId": "4e759d00-e625-49e7-fb64-5caf64e2bc3c"
      },
      "source": [
        "import keras\n",
        "keras.__version__"
      ],
      "execution_count": 1,
      "outputs": [
        {
          "output_type": "execute_result",
          "data": {
            "application/vnd.google.colaboratory.intrinsic+json": {
              "type": "string"
            },
            "text/plain": [
              "'2.4.3'"
            ]
          },
          "metadata": {
            "tags": []
          },
          "execution_count": 1
        }
      ]
    },
    {
      "cell_type": "code",
      "metadata": {
        "id": "AjfuKL1KMbmc",
        "colab_type": "code",
        "colab": {
          "base_uri": "https://localhost:8080/",
          "height": 51
        },
        "outputId": "c850abaa-6159-4509-ad30-cba611a0a3e1"
      },
      "source": [
        "from keras.datasets import reuters\n",
        "(train_data, train_labels), (test_data, test_labels) = reuters.load_data(num_words=10000)"
      ],
      "execution_count": 2,
      "outputs": [
        {
          "output_type": "stream",
          "text": [
            "Downloading data from https://storage.googleapis.com/tensorflow/tf-keras-datasets/reuters.npz\n",
            "2113536/2110848 [==============================] - 0s 0us/step\n"
          ],
          "name": "stdout"
        }
      ]
    },
    {
      "cell_type": "code",
      "metadata": {
        "id": "CBIErQxWMxd9",
        "colab_type": "code",
        "colab": {
          "base_uri": "https://localhost:8080/",
          "height": 34
        },
        "outputId": "ffa3b5b7-541d-4c85-8c0f-204aebbfe4fd"
      },
      "source": [
        "len(train_data)"
      ],
      "execution_count": 3,
      "outputs": [
        {
          "output_type": "execute_result",
          "data": {
            "text/plain": [
              "8982"
            ]
          },
          "metadata": {
            "tags": []
          },
          "execution_count": 3
        }
      ]
    },
    {
      "cell_type": "code",
      "metadata": {
        "id": "Pl9RnzZ0MzSM",
        "colab_type": "code",
        "colab": {
          "base_uri": "https://localhost:8080/",
          "height": 34
        },
        "outputId": "c954d2d9-05a5-449d-c421-d39a4fbf66a1"
      },
      "source": [
        "len(test_data)"
      ],
      "execution_count": 4,
      "outputs": [
        {
          "output_type": "execute_result",
          "data": {
            "text/plain": [
              "2246"
            ]
          },
          "metadata": {
            "tags": []
          },
          "execution_count": 4
        }
      ]
    },
    {
      "cell_type": "code",
      "metadata": {
        "id": "YRiAB6tmM0gy",
        "colab_type": "code",
        "colab": {
          "base_uri": "https://localhost:8080/",
          "height": 544
        },
        "outputId": "7acf42c4-3b65-42dd-a516-03d5dce1ac10"
      },
      "source": [
        "train_data[10]"
      ],
      "execution_count": 5,
      "outputs": [
        {
          "output_type": "execute_result",
          "data": {
            "text/plain": [
              "[1,\n",
              " 245,\n",
              " 273,\n",
              " 207,\n",
              " 156,\n",
              " 53,\n",
              " 74,\n",
              " 160,\n",
              " 26,\n",
              " 14,\n",
              " 46,\n",
              " 296,\n",
              " 26,\n",
              " 39,\n",
              " 74,\n",
              " 2979,\n",
              " 3554,\n",
              " 14,\n",
              " 46,\n",
              " 4689,\n",
              " 4329,\n",
              " 86,\n",
              " 61,\n",
              " 3499,\n",
              " 4795,\n",
              " 14,\n",
              " 61,\n",
              " 451,\n",
              " 4329,\n",
              " 17,\n",
              " 12]"
            ]
          },
          "metadata": {
            "tags": []
          },
          "execution_count": 5
        }
      ]
    },
    {
      "cell_type": "code",
      "metadata": {
        "id": "_HcrWo8AM2m-",
        "colab_type": "code",
        "colab": {
          "base_uri": "https://localhost:8080/",
          "height": 34
        },
        "outputId": "eba3188b-ca18-48ba-dce6-ef44784d1abb"
      },
      "source": [
        "train_labels[10]"
      ],
      "execution_count": 6,
      "outputs": [
        {
          "output_type": "execute_result",
          "data": {
            "text/plain": [
              "3"
            ]
          },
          "metadata": {
            "tags": []
          },
          "execution_count": 6
        }
      ]
    },
    {
      "cell_type": "code",
      "metadata": {
        "id": "7zSq-YYaM6sv",
        "colab_type": "code",
        "colab": {}
      },
      "source": [
        "# vectroize the data\n",
        "import numpy as np\n",
        "\n",
        "def vectorize_sequences(sequences, dimension=10000):\n",
        "  results = np.zeros((len(sequences), dimension))\n",
        "  for i, sequence in enumerate(sequences):\n",
        "    results[i, sequence] = 1.\n",
        "  return results\n",
        "\n",
        "x_train = vectorize_sequences(train_data)\n",
        "x_test = vectorize_sequences(test_data)"
      ],
      "execution_count": 8,
      "outputs": []
    },
    {
      "cell_type": "code",
      "metadata": {
        "id": "C6MoMAx3NYqf",
        "colab_type": "code",
        "colab": {}
      },
      "source": [
        "# vectorize the labels\n",
        "# one-hot encoding\n",
        "def one_hot_encode(labels, dimension=46):\n",
        "  results = np.zeros((len(labels), dimension))\n",
        "  for i, label in enumerate(labels):\n",
        "    results[i,label] = 1.\n",
        "  return results\n",
        "\n",
        "one_hot_train_labels = one_hot_encode(train_labels)\n",
        "one_hot_test_labels = one_hot_encode(test_labels)"
      ],
      "execution_count": 9,
      "outputs": []
    },
    {
      "cell_type": "code",
      "metadata": {
        "id": "VG6VA2cuN_3N",
        "colab_type": "code",
        "colab": {}
      },
      "source": [
        "# built-in way to do one hot encode in keras - \n",
        "\n",
        "from keras.utils.np_utils import to_categorical\n",
        "\n",
        "one_hot_train_labels = to_categorical(train_labels)\n",
        "one_hot_test_labels = to_categorical(test_labels)"
      ],
      "execution_count": 11,
      "outputs": []
    },
    {
      "cell_type": "code",
      "metadata": {
        "id": "Ny-QBXVTOKeR",
        "colab_type": "code",
        "colab": {}
      },
      "source": [
        "# Building our network\n",
        "from keras import layers, models\n",
        "\n",
        "model = models.Sequential()\n",
        "model.add(layers.Dense(128, activation='relu', input_shape=(10000,)))\n",
        "model.add(layers.Dense(64, activation='relu'))\n",
        "model.add(layers.Dense(46, activation='softmax'))"
      ],
      "execution_count": 13,
      "outputs": []
    },
    {
      "cell_type": "code",
      "metadata": {
        "id": "d87pnudzQj3c",
        "colab_type": "code",
        "colab": {}
      },
      "source": [
        "model.compile(optimizer='rmsprop',\n",
        "              loss='categorical_crossentropy',\n",
        "              metrics=['accuracy'])"
      ],
      "execution_count": 15,
      "outputs": []
    },
    {
      "cell_type": "code",
      "metadata": {
        "id": "MpoV1PXIQkxI",
        "colab_type": "code",
        "colab": {}
      },
      "source": [
        "# validating\n",
        "x_val = x_train[:1000]\n",
        "partial_x_train = x_train[1000:]\n",
        "\n",
        "y_val = one_hot_train_labels[:1000]\n",
        "partial_y_train = one_hot_train_labels[1000:]"
      ],
      "execution_count": 16,
      "outputs": []
    },
    {
      "cell_type": "code",
      "metadata": {
        "id": "7BoPnHKpRbG_",
        "colab_type": "code",
        "colab": {
          "base_uri": "https://localhost:8080/",
          "height": 697
        },
        "outputId": "7a63d981-fd2e-4b28-9a75-676abda85f56"
      },
      "source": [
        "history = model.fit(partial_x_train, partial_y_train, epochs=20, batch_size=512,validation_data=(x_val, y_val))"
      ],
      "execution_count": 17,
      "outputs": [
        {
          "output_type": "stream",
          "text": [
            "Epoch 1/20\n",
            "16/16 [==============================] - 1s 77ms/step - loss: 2.3331 - accuracy: 0.5505 - val_loss: 1.5129 - val_accuracy: 0.6630\n",
            "Epoch 2/20\n",
            "16/16 [==============================] - 1s 65ms/step - loss: 1.1911 - accuracy: 0.7492 - val_loss: 1.1522 - val_accuracy: 0.7490\n",
            "Epoch 3/20\n",
            "16/16 [==============================] - 1s 65ms/step - loss: 0.8427 - accuracy: 0.8212 - val_loss: 1.0612 - val_accuracy: 0.7770\n",
            "Epoch 4/20\n",
            "16/16 [==============================] - 1s 64ms/step - loss: 0.6251 - accuracy: 0.8664 - val_loss: 0.9505 - val_accuracy: 0.8040\n",
            "Epoch 5/20\n",
            "16/16 [==============================] - 1s 64ms/step - loss: 0.4678 - accuracy: 0.9028 - val_loss: 0.9039 - val_accuracy: 0.8170\n",
            "Epoch 6/20\n",
            "16/16 [==============================] - 1s 64ms/step - loss: 0.3583 - accuracy: 0.9270 - val_loss: 0.8731 - val_accuracy: 0.8200\n",
            "Epoch 7/20\n",
            "16/16 [==============================] - 1s 65ms/step - loss: 0.2792 - accuracy: 0.9404 - val_loss: 0.8718 - val_accuracy: 0.8270\n",
            "Epoch 8/20\n",
            "16/16 [==============================] - 1s 65ms/step - loss: 0.2291 - accuracy: 0.9454 - val_loss: 0.9046 - val_accuracy: 0.8110\n",
            "Epoch 9/20\n",
            "16/16 [==============================] - 1s 65ms/step - loss: 0.1939 - accuracy: 0.9488 - val_loss: 1.0146 - val_accuracy: 0.7810\n",
            "Epoch 10/20\n",
            "16/16 [==============================] - 1s 65ms/step - loss: 0.1779 - accuracy: 0.9524 - val_loss: 0.9336 - val_accuracy: 0.8040\n",
            "Epoch 11/20\n",
            "16/16 [==============================] - 1s 66ms/step - loss: 0.1516 - accuracy: 0.9535 - val_loss: 1.0025 - val_accuracy: 0.7980\n",
            "Epoch 12/20\n",
            "16/16 [==============================] - 1s 65ms/step - loss: 0.1404 - accuracy: 0.9551 - val_loss: 1.0618 - val_accuracy: 0.7920\n",
            "Epoch 13/20\n",
            "16/16 [==============================] - 1s 66ms/step - loss: 0.1337 - accuracy: 0.9568 - val_loss: 1.0213 - val_accuracy: 0.7940\n",
            "Epoch 14/20\n",
            "16/16 [==============================] - 1s 64ms/step - loss: 0.1269 - accuracy: 0.9569 - val_loss: 1.0151 - val_accuracy: 0.7970\n",
            "Epoch 15/20\n",
            "16/16 [==============================] - 1s 66ms/step - loss: 0.1219 - accuracy: 0.9564 - val_loss: 1.0357 - val_accuracy: 0.8000\n",
            "Epoch 16/20\n",
            "16/16 [==============================] - 1s 64ms/step - loss: 0.1160 - accuracy: 0.9584 - val_loss: 1.0199 - val_accuracy: 0.8100\n",
            "Epoch 17/20\n",
            "16/16 [==============================] - 1s 65ms/step - loss: 0.1142 - accuracy: 0.9583 - val_loss: 1.0837 - val_accuracy: 0.7980\n",
            "Epoch 18/20\n",
            "16/16 [==============================] - 1s 65ms/step - loss: 0.1117 - accuracy: 0.9582 - val_loss: 1.0626 - val_accuracy: 0.8050\n",
            "Epoch 19/20\n",
            "16/16 [==============================] - 1s 64ms/step - loss: 0.1108 - accuracy: 0.9594 - val_loss: 1.0752 - val_accuracy: 0.8010\n",
            "Epoch 20/20\n",
            "16/16 [==============================] - 1s 64ms/step - loss: 0.1125 - accuracy: 0.9559 - val_loss: 1.1438 - val_accuracy: 0.7910\n"
          ],
          "name": "stdout"
        }
      ]
    },
    {
      "cell_type": "code",
      "metadata": {
        "id": "w378N_1HR-Bo",
        "colab_type": "code",
        "colab": {
          "base_uri": "https://localhost:8080/",
          "height": 34
        },
        "outputId": "b2f9580e-2113-4a0e-d939-9b03f4e15536"
      },
      "source": [
        "history.history.keys()"
      ],
      "execution_count": 19,
      "outputs": [
        {
          "output_type": "execute_result",
          "data": {
            "text/plain": [
              "dict_keys(['loss', 'accuracy', 'val_loss', 'val_accuracy'])"
            ]
          },
          "metadata": {
            "tags": []
          },
          "execution_count": 19
        }
      ]
    },
    {
      "cell_type": "code",
      "metadata": {
        "id": "GtRqSkwwRvkF",
        "colab_type": "code",
        "colab": {
          "base_uri": "https://localhost:8080/",
          "height": 295
        },
        "outputId": "1a28f8d1-cb3c-4d55-fbac-688120e878d6"
      },
      "source": [
        "import matplotlib.pyplot as plt\n",
        "\n",
        "loss = history.history['loss']\n",
        "val_loss = history.history['val_loss']\n",
        "\n",
        "epochs = range(1, len(loss)+1)\n",
        "\n",
        "plt.plot(epochs, loss, 'bo', label='Training loss')\n",
        "plt.plot(epochs, val_loss, 'b', label='Validation loss')\n",
        "plt.title('Training and Validation loss')\n",
        "plt.xlabel('Epochs')\n",
        "plt.ylabel('Loss')\n",
        "plt.legend()\n",
        "plt.show()"
      ],
      "execution_count": 21,
      "outputs": [
        {
          "output_type": "display_data",
          "data": {
            "image/png": "[encoded data removed]",
            "text/plain": [
              "<Figure size 432x288 with 1 Axes>"
            ]
          },
          "metadata": {
            "tags": [],
            "needs_background": "light"
          }
        }
      ]
    },
    {
      "cell_type": "code",
      "metadata": {
        "id": "YkGDZynDSgnB",
        "colab_type": "code",
        "colab": {
          "base_uri": "https://localhost:8080/",
          "height": 295
        },
        "outputId": "f92ec705-c1c7-45f0-bc54-5e7f692ff6a4"
      },
      "source": [
        "plt.clf()\n",
        "\n",
        "acc = history.history['accuracy']\n",
        "val_acc = history.history['val_accuracy']\n",
        "\n",
        "plt.plot(epochs, acc, 'bo', label='Training Acc')\n",
        "plt.plot(epochs, val_acc, 'b', label='Validation Acc')\n",
        "plt.title('Training and Validation Acc')\n",
        "plt.xlabel('Epochs')\n",
        "plt.ylabel('Acc')\n",
        "plt.legend()\n",
        "plt.show()"
      ],
      "execution_count": 23,
      "outputs": [
        {
          "output_type": "display_data",
          "data": {
            "image/png": "[encoded data removed]",
            "text/plain": [
              "<Figure size 432x288 with 1 Axes>"
            ]
          },
          "metadata": {
            "tags": [],
            "needs_background": "light"
          }
        }
      ]
    },
    {
      "cell_type": "code",
      "metadata": {
        "id": "2CH25TznS3LC",
        "colab_type": "code",
        "colab": {
          "base_uri": "https://localhost:8080/",
          "height": 255
        },
        "outputId": "c6a79a23-36a9-4f2c-b0d3-1b4d48227373"
      },
      "source": [
        "model = models.Sequential()\n",
        "model.add(layers.Dense(128, activation='relu', input_shape=(10000,)))\n",
        "model.add(layers.Dense(64, activation='relu'))\n",
        "model.add(layers.Dense(46, activation='softmax'))\n",
        "\n",
        "model.compile(optimizer='rmsprop',\n",
        "              loss='categorical_crossentropy',\n",
        "              metrics=['accuracy'])\n",
        "\n",
        "history = model.fit(partial_x_train, partial_y_train, epochs=7, batch_size=512,validation_data=(x_val, y_val))"
      ],
      "execution_count": 25,
      "outputs": [
        {
          "output_type": "stream",
          "text": [
            "Epoch 1/7\n",
            "16/16 [==============================] - 1s 71ms/step - loss: 2.3158 - accuracy: 0.5519 - val_loss: 1.4725 - val_accuracy: 0.6810\n",
            "Epoch 2/7\n",
            "16/16 [==============================] - 1s 65ms/step - loss: 1.2020 - accuracy: 0.7414 - val_loss: 1.1445 - val_accuracy: 0.7600\n",
            "Epoch 3/7\n",
            "16/16 [==============================] - 1s 65ms/step - loss: 0.8500 - accuracy: 0.8221 - val_loss: 1.0788 - val_accuracy: 0.7600\n",
            "Epoch 4/7\n",
            "16/16 [==============================] - 1s 65ms/step - loss: 0.6365 - accuracy: 0.8681 - val_loss: 0.9336 - val_accuracy: 0.8100\n",
            "Epoch 5/7\n",
            "16/16 [==============================] - 1s 65ms/step - loss: 0.4772 - accuracy: 0.9038 - val_loss: 0.8874 - val_accuracy: 0.8250\n",
            "Epoch 6/7\n",
            "16/16 [==============================] - 1s 64ms/step - loss: 0.3619 - accuracy: 0.9251 - val_loss: 0.8806 - val_accuracy: 0.8190\n",
            "Epoch 7/7\n",
            "16/16 [==============================] - 1s 64ms/step - loss: 0.2890 - accuracy: 0.9401 - val_loss: 0.8795 - val_accuracy: 0.8160\n"
          ],
          "name": "stdout"
        }
      ]
    },
    {
      "cell_type": "code",
      "metadata": {
        "id": "5DABIKEfTJaH",
        "colab_type": "code",
        "colab": {
          "base_uri": "https://localhost:8080/",
          "height": 34
        },
        "outputId": "a086de84-6c59-41d2-a13a-62a8a6211245"
      },
      "source": [
        "results = model.evaluate(x_test, one_hot_test_labels)"
      ],
      "execution_count": 26,
      "outputs": [
        {
          "output_type": "stream",
          "text": [
            "71/71 [==============================] - 0s 3ms/step - loss: 0.9711 - accuracy: 0.7885\n"
          ],
          "name": "stdout"
        }
      ]
    },
    {
      "cell_type": "code",
      "metadata": {
        "id": "-jHftA1qT04O",
        "colab_type": "code",
        "colab": {}
      },
      "source": [
        "#  generating predictions on new data\n",
        "predictions = model.predict(x_test)"
      ],
      "execution_count": 27,
      "outputs": []
    },
    {
      "cell_type": "code",
      "metadata": {
        "id": "0o3fUREKUCcj",
        "colab_type": "code",
        "colab": {
          "base_uri": "https://localhost:8080/",
          "height": 34
        },
        "outputId": "dc395b28-6e13-4eff-b050-8f3b97aee823"
      },
      "source": [
        "predictions.shape"
      ],
      "execution_count": 28,
      "outputs": [
        {
          "output_type": "execute_result",
          "data": {
            "text/plain": [
              "(2246, 46)"
            ]
          },
          "metadata": {
            "tags": []
          },
          "execution_count": 28
        }
      ]
    },
    {
      "cell_type": "code",
      "metadata": {
        "id": "7n_FEaXEUDtI",
        "colab_type": "code",
        "colab": {
          "base_uri": "https://localhost:8080/",
          "height": 34
        },
        "outputId": "2bd4e566-08c0-4ca1-fad9-c8177f3947d8"
      },
      "source": [
        "predictions[0].argmax() # to which class does this belong to"
      ],
      "execution_count": 31,
      "outputs": [
        {
          "output_type": "execute_result",
          "data": {
            "text/plain": [
              "3"
            ]
          },
          "metadata": {
            "tags": []
          },
          "execution_count": 31
        }
      ]
    },
    {
      "cell_type": "code",
      "metadata": {
        "id": "ya214zmJUF0a",
        "colab_type": "code",
        "colab": {
          "base_uri": "https://localhost:8080/",
          "height": 34
        },
        "outputId": "65acf600-0ba9-4f3f-d7c9-17ac51e5898a"
      },
      "source": [
        "one_hot_test_labels[0].argmax()"
      ],
      "execution_count": 33,
      "outputs": [
        {
          "output_type": "execute_result",
          "data": {
            "text/plain": [
              "3"
            ]
          },
          "metadata": {
            "tags": []
          },
          "execution_count": 33
        }
      ]
    },
    {
      "cell_type": "markdown",
      "metadata": {
        "id": "uGQRpKIPUUE3",
        "colab_type": "text"
      },
      "source": [
        "#### voila!!!"
      ]
    },
    {
      "cell_type": "code",
      "metadata": {
        "id": "Vo5_nhfhUO12",
        "colab_type": "code",
        "colab": {}
      },
      "source": [
        ""
      ],
      "execution_count": null,
      "outputs": []
    }
  ]
}