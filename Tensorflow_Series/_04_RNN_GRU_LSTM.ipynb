{
  "nbformat": 4,
  "nbformat_minor": 0,
  "metadata": {
    "colab": {
      "name": "_04_RNN_GRU_LSTM.ipynb",
      "provenance": []
    },
    "kernelspec": {
      "name": "python3",
      "display_name": "Python 3"
    },
    "accelerator": "GPU"
  },
  "cells": [
    {
      "cell_type": "code",
      "metadata": {
        "id": "e6zSVlINwK_3",
        "colab_type": "code",
        "colab": {}
      },
      "source": [
        "import tensorflow as tf\n",
        "from tensorflow import keras\n",
        "from tensorflow.keras import layers\n",
        "from tensorflow.keras.datasets import mnist"
      ],
      "execution_count": 1,
      "outputs": []
    },
    {
      "cell_type": "code",
      "metadata": {
        "id": "lrYdhC5twrPA",
        "colab_type": "code",
        "colab": {
          "base_uri": "https://localhost:8080/",
          "height": 51
        },
        "outputId": "af2827ca-ac38-4c6f-9dd6-ea3becb9740e"
      },
      "source": [
        "(x_train, y_train), (x_test, y_test) = mnist.load_data()"
      ],
      "execution_count": 2,
      "outputs": [
        {
          "output_type": "stream",
          "text": [
            "Downloading data from https://storage.googleapis.com/tensorflow/tf-keras-datasets/mnist.npz\n",
            "11493376/11490434 [==============================] - 0s 0us/step\n"
          ],
          "name": "stdout"
        }
      ]
    },
    {
      "cell_type": "code",
      "metadata": {
        "id": "4XUpmMr8x5oa",
        "colab_type": "code",
        "colab": {}
      },
      "source": [
        "x_train = x_train.astype(\"float32\") / 255.0\n",
        "x_test = x_test.astype(\"float32\") / 255.0"
      ],
      "execution_count": 3,
      "outputs": []
    },
    {
      "cell_type": "code",
      "metadata": {
        "id": "K1LIUMo7yb7q",
        "colab_type": "code",
        "colab": {}
      },
      "source": [
        "model = keras.Sequential()\n",
        "model.add(keras.Input(shape=(None, 28)))\n",
        "model.add(layers.SimpleRNN(256, return_sequences=True, activation='relu'))\n",
        "model.add(layers.SimpleRNN(256, activation='relu'))\n",
        "model.add(layers.Dense(10))"
      ],
      "execution_count": 4,
      "outputs": []
    },
    {
      "cell_type": "code",
      "metadata": {
        "id": "5iH8PKmmzEeQ",
        "colab_type": "code",
        "colab": {
          "base_uri": "https://localhost:8080/",
          "height": 272
        },
        "outputId": "03066623-0404-4441-b2e6-41579a616c2f"
      },
      "source": [
        "print (model.summary())"
      ],
      "execution_count": 6,
      "outputs": [
        {
          "output_type": "stream",
          "text": [
            "Model: \"sequential\"\n",
            "_________________________________________________________________\n",
            "Layer (type)                 Output Shape              Param #   \n",
            "=================================================================\n",
            "simple_rnn (SimpleRNN)       (None, None, 256)         72960     \n",
            "_________________________________________________________________\n",
            "simple_rnn_1 (SimpleRNN)     (None, 256)               131328    \n",
            "_________________________________________________________________\n",
            "dense (Dense)                (None, 10)                2570      \n",
            "=================================================================\n",
            "Total params: 206,858\n",
            "Trainable params: 206,858\n",
            "Non-trainable params: 0\n",
            "_________________________________________________________________\n",
            "None\n"
          ],
          "name": "stdout"
        }
      ]
    },
    {
      "cell_type": "code",
      "metadata": {
        "id": "iq2mx7Y_zHMg",
        "colab_type": "code",
        "colab": {
          "base_uri": "https://localhost:8080/",
          "height": 391
        },
        "outputId": "4fc17fb4-cc2b-4b17-c3d6-574262d654e2"
      },
      "source": [
        "model.compile(\n",
        "    loss = keras.losses.SparseCategoricalCrossentropy(from_logits=True),\n",
        "    optimizer = keras.optimizers.Adam(lr=0.001),\n",
        "    metrics=['accuracy']\n",
        ")\n",
        "model.fit(x_train, y_train, batch_size=64, epochs=10, verbose=1)\n",
        "model.evaluate(x_test, y_test, batch_size=64, verbose=1)"
      ],
      "execution_count": 8,
      "outputs": [
        {
          "output_type": "stream",
          "text": [
            "Epoch 1/10\n",
            "938/938 [==============================] - 58s 61ms/step - loss: 0.2757 - accuracy: 0.9171\n",
            "Epoch 2/10\n",
            "938/938 [==============================] - 58s 62ms/step - loss: 0.1255 - accuracy: 0.9647\n",
            "Epoch 3/10\n",
            "938/938 [==============================] - 59s 63ms/step - loss: 0.1012 - accuracy: 0.9721\n",
            "Epoch 4/10\n",
            "938/938 [==============================] - 58s 61ms/step - loss: 0.0888 - accuracy: 0.9751\n",
            "Epoch 5/10\n",
            "938/938 [==============================] - 58s 62ms/step - loss: 0.0809 - accuracy: 0.9780\n",
            "Epoch 6/10\n",
            "938/938 [==============================] - 59s 62ms/step - loss: 0.0766 - accuracy: 0.9791\n",
            "Epoch 7/10\n",
            "938/938 [==============================] - 58s 61ms/step - loss: 0.0766 - accuracy: 0.9782\n",
            "Epoch 8/10\n",
            "938/938 [==============================] - 57s 61ms/step - loss: 0.0620 - accuracy: 0.9832\n",
            "Epoch 9/10\n",
            "938/938 [==============================] - 58s 61ms/step - loss: 0.0633 - accuracy: 0.9824\n",
            "Epoch 10/10\n",
            "938/938 [==============================] - 57s 61ms/step - loss: 0.0596 - accuracy: 0.9835\n",
            "157/157 [==============================] - 2s 10ms/step - loss: 0.0688 - accuracy: 0.9820\n"
          ],
          "name": "stdout"
        },
        {
          "output_type": "execute_result",
          "data": {
            "text/plain": [
              "[0.06883572041988373, 0.9819999933242798]"
            ]
          },
          "metadata": {
            "tags": []
          },
          "execution_count": 8
        }
      ]
    },
    {
      "cell_type": "code",
      "metadata": {
        "id": "RPsYBMAizlgp",
        "colab_type": "code",
        "colab": {}
      },
      "source": [
        "# GRU\n",
        "model = keras.Sequential()\n",
        "model.add(keras.Input(shape=(None, 28)))\n",
        "model.add(layers.GRU(256, return_sequences=True, activation='tanh'))\n",
        "model.add(layers.GRU(256, activation='tanh'))\n",
        "model.add(layers.Dense(10))"
      ],
      "execution_count": 5,
      "outputs": []
    },
    {
      "cell_type": "code",
      "metadata": {
        "id": "ubEqkBnXN5WB",
        "colab_type": "code",
        "colab": {
          "base_uri": "https://localhost:8080/",
          "height": 272
        },
        "outputId": "f984ddce-923e-4849-e14c-0d33aee6196e"
      },
      "source": [
        "print (model.summary())"
      ],
      "execution_count": 6,
      "outputs": [
        {
          "output_type": "stream",
          "text": [
            "Model: \"sequential_1\"\n",
            "_________________________________________________________________\n",
            "Layer (type)                 Output Shape              Param #   \n",
            "=================================================================\n",
            "gru (GRU)                    (None, None, 256)         219648    \n",
            "_________________________________________________________________\n",
            "gru_1 (GRU)                  (None, 256)               394752    \n",
            "_________________________________________________________________\n",
            "dense_1 (Dense)              (None, 10)                2570      \n",
            "=================================================================\n",
            "Total params: 616,970\n",
            "Trainable params: 616,970\n",
            "Non-trainable params: 0\n",
            "_________________________________________________________________\n",
            "None\n"
          ],
          "name": "stdout"
        }
      ]
    },
    {
      "cell_type": "code",
      "metadata": {
        "id": "KBh7mjhdN8Aw",
        "colab_type": "code",
        "colab": {
          "base_uri": "https://localhost:8080/",
          "height": 391
        },
        "outputId": "bdd0e9de-fa14-417c-d9f3-afeb91fd2df2"
      },
      "source": [
        "model.compile(\n",
        "    loss = keras.losses.SparseCategoricalCrossentropy(from_logits=True),\n",
        "    optimizer = keras.optimizers.Adam(lr=0.001),\n",
        "    metrics=['accuracy']\n",
        ")\n",
        "model.fit(x_train, y_train, batch_size=64, epochs=10, verbose=1)\n",
        "model.evaluate(x_test, y_test, batch_size=64, verbose=1)"
      ],
      "execution_count": 7,
      "outputs": [
        {
          "output_type": "stream",
          "text": [
            "Epoch 1/10\n",
            "938/938 [==============================] - 6s 6ms/step - loss: 0.2757 - accuracy: 0.9088\n",
            "Epoch 2/10\n",
            "938/938 [==============================] - 6s 6ms/step - loss: 0.0686 - accuracy: 0.9791\n",
            "Epoch 3/10\n",
            "938/938 [==============================] - 6s 6ms/step - loss: 0.0462 - accuracy: 0.9859\n",
            "Epoch 4/10\n",
            "938/938 [==============================] - 6s 6ms/step - loss: 0.0350 - accuracy: 0.9890\n",
            "Epoch 5/10\n",
            "938/938 [==============================] - 6s 7ms/step - loss: 0.0302 - accuracy: 0.9904\n",
            "Epoch 6/10\n",
            "938/938 [==============================] - 6s 6ms/step - loss: 0.0260 - accuracy: 0.9915\n",
            "Epoch 7/10\n",
            "938/938 [==============================] - 6s 6ms/step - loss: 0.0217 - accuracy: 0.9927\n",
            "Epoch 8/10\n",
            "938/938 [==============================] - 6s 6ms/step - loss: 0.0168 - accuracy: 0.9945\n",
            "Epoch 9/10\n",
            "938/938 [==============================] - 6s 6ms/step - loss: 0.0173 - accuracy: 0.9943\n",
            "Epoch 10/10\n",
            "938/938 [==============================] - 6s 7ms/step - loss: 0.0144 - accuracy: 0.9952\n",
            "157/157 [==============================] - 1s 3ms/step - loss: 0.0363 - accuracy: 0.9900\n"
          ],
          "name": "stdout"
        },
        {
          "output_type": "execute_result",
          "data": {
            "text/plain": [
              "[0.03631661459803581, 0.9900000095367432]"
            ]
          },
          "metadata": {
            "tags": []
          },
          "execution_count": 7
        }
      ]
    },
    {
      "cell_type": "code",
      "metadata": {
        "id": "GZrNYGR5N9-0",
        "colab_type": "code",
        "colab": {}
      },
      "source": [
        "# LSTM\n",
        "model = keras.Sequential()\n",
        "model.add(keras.Input(shape=(None, 28)))\n",
        "model.add(layers.LSTM(256, return_sequences=True, activation='tanh'))\n",
        "model.add(layers.LSTM(256, activation='tanh'))\n",
        "model.add(layers.Dense(10))"
      ],
      "execution_count": 8,
      "outputs": []
    },
    {
      "cell_type": "code",
      "metadata": {
        "id": "sQYE7wjyOUIA",
        "colab_type": "code",
        "colab": {
          "base_uri": "https://localhost:8080/",
          "height": 272
        },
        "outputId": "db14be86-8fa8-46e8-bdbc-eb165c2be3c9"
      },
      "source": [
        "print (model.summary())"
      ],
      "execution_count": 9,
      "outputs": [
        {
          "output_type": "stream",
          "text": [
            "Model: \"sequential_2\"\n",
            "_________________________________________________________________\n",
            "Layer (type)                 Output Shape              Param #   \n",
            "=================================================================\n",
            "lstm (LSTM)                  (None, None, 256)         291840    \n",
            "_________________________________________________________________\n",
            "lstm_1 (LSTM)                (None, 256)               525312    \n",
            "_________________________________________________________________\n",
            "dense_2 (Dense)              (None, 10)                2570      \n",
            "=================================================================\n",
            "Total params: 819,722\n",
            "Trainable params: 819,722\n",
            "Non-trainable params: 0\n",
            "_________________________________________________________________\n",
            "None\n"
          ],
          "name": "stdout"
        }
      ]
    },
    {
      "cell_type": "code",
      "metadata": {
        "id": "-0Uwx3NmOVo9",
        "colab_type": "code",
        "colab": {
          "base_uri": "https://localhost:8080/",
          "height": 391
        },
        "outputId": "dc303e25-b8f1-4164-f811-b188ebb18d13"
      },
      "source": [
        "model.compile(\n",
        "    loss = keras.losses.SparseCategoricalCrossentropy(from_logits=True),\n",
        "    optimizer = keras.optimizers.Adam(lr=0.001),\n",
        "    metrics=['accuracy']\n",
        ")\n",
        "model.fit(x_train, y_train, batch_size=64, epochs=10, verbose=1)\n",
        "model.evaluate(x_test, y_test, batch_size=64, verbose=1)"
      ],
      "execution_count": 10,
      "outputs": [
        {
          "output_type": "stream",
          "text": [
            "Epoch 1/10\n",
            "938/938 [==============================] - 7s 7ms/step - loss: 0.2967 - accuracy: 0.9035\n",
            "Epoch 2/10\n",
            "938/938 [==============================] - 7s 7ms/step - loss: 0.0858 - accuracy: 0.9734\n",
            "Epoch 3/10\n",
            "938/938 [==============================] - 7s 7ms/step - loss: 0.0576 - accuracy: 0.9825\n",
            "Epoch 4/10\n",
            "938/938 [==============================] - 7s 7ms/step - loss: 0.0448 - accuracy: 0.9863\n",
            "Epoch 5/10\n",
            "938/938 [==============================] - 7s 7ms/step - loss: 0.0385 - accuracy: 0.9884\n",
            "Epoch 6/10\n",
            "938/938 [==============================] - 7s 7ms/step - loss: 0.0302 - accuracy: 0.9908\n",
            "Epoch 7/10\n",
            "938/938 [==============================] - 7s 7ms/step - loss: 0.0294 - accuracy: 0.9905\n",
            "Epoch 8/10\n",
            "938/938 [==============================] - 7s 7ms/step - loss: 0.0229 - accuracy: 0.9931\n",
            "Epoch 9/10\n",
            "938/938 [==============================] - 6s 7ms/step - loss: 0.0222 - accuracy: 0.9929\n",
            "Epoch 10/10\n",
            "938/938 [==============================] - 7s 7ms/step - loss: 0.0180 - accuracy: 0.9945\n",
            "157/157 [==============================] - 1s 3ms/step - loss: 0.0338 - accuracy: 0.9911\n"
          ],
          "name": "stdout"
        },
        {
          "output_type": "execute_result",
          "data": {
            "text/plain": [
              "[0.033813148736953735, 0.991100013256073]"
            ]
          },
          "metadata": {
            "tags": []
          },
          "execution_count": 10
        }
      ]
    },
    {
      "cell_type": "code",
      "metadata": {
        "id": "HcEeKPuhOYZp",
        "colab_type": "code",
        "colab": {}
      },
      "source": [
        ""
      ],
      "execution_count": null,
      "outputs": []
    }
  ]
}