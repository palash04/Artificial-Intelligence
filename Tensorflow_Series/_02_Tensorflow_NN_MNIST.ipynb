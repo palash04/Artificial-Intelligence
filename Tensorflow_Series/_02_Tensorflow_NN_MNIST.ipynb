{
  "nbformat": 4,
  "nbformat_minor": 0,
  "metadata": {
    "colab": {
      "name": "_02_Tensorflow_NN_MNIST.ipynb",
      "provenance": [],
      "authorship_tag": "ABX9TyP29+vF5jEKvdt4SjBaR0V6",
      "include_colab_link": true
    },
    "kernelspec": {
      "name": "python3",
      "display_name": "Python 3"
    },
    "accelerator": "GPU"
  },
  "cells": [
    {
      "cell_type": "markdown",
      "metadata": {
        "id": "view-in-github",
        "colab_type": "text"
      },
      "source": [
        "<a href=\"https://colab.research.google.com/github/palash04/Artificial-Intelligence/blob/master/Tensorflow_Series/_02_Tensorflow_NN_MNIST.ipynb\" target=\"_parent\"><img src=\"https://colab.research.google.com/assets/colab-badge.svg\" alt=\"Open In Colab\"/></a>"
      ]
    },
    {
      "cell_type": "code",
      "metadata": {
        "id": "3hyO5JNWGz6T",
        "colab_type": "code",
        "colab": {}
      },
      "source": [
        "import tensorflow as tf\n",
        "from tensorflow import keras\n",
        "from tensorflow.keras import layers\n",
        "from tensorflow.keras.datasets import mnist"
      ],
      "execution_count": 2,
      "outputs": []
    },
    {
      "cell_type": "code",
      "metadata": {
        "id": "n2fyeLUIphBx",
        "colab_type": "code",
        "colab": {
          "base_uri": "https://localhost:8080/",
          "height": 51
        },
        "outputId": "61f7434e-e925-49c3-b2e6-872fdc413d35"
      },
      "source": [
        "(x_train, y_train), (x_test, y_test) = mnist.load_data()"
      ],
      "execution_count": 3,
      "outputs": [
        {
          "output_type": "stream",
          "text": [
            "Downloading data from https://storage.googleapis.com/tensorflow/tf-keras-datasets/mnist.npz\n",
            "11493376/11490434 [==============================] - 0s 0us/step\n"
          ],
          "name": "stdout"
        }
      ]
    },
    {
      "cell_type": "code",
      "metadata": {
        "id": "gXEVZ70fp4Rw",
        "colab_type": "code",
        "colab": {
          "base_uri": "https://localhost:8080/",
          "height": 51
        },
        "outputId": "3ce11b6c-8c01-4e77-dd68-eadf7eb67712"
      },
      "source": [
        "print (x_train.shape)\n",
        "print (y_train.shape)"
      ],
      "execution_count": 4,
      "outputs": [
        {
          "output_type": "stream",
          "text": [
            "(60000, 28, 28)\n",
            "(60000,)\n"
          ],
          "name": "stdout"
        }
      ]
    },
    {
      "cell_type": "code",
      "metadata": {
        "id": "JydlGyr0p9-z",
        "colab_type": "code",
        "colab": {}
      },
      "source": [
        "# Reshaping\n",
        "x_train = x_train.reshape(-1, 28*28).astype(\"float32\") / 255.0\n",
        "x_test = x_test.reshape(-1, 28*28).astype(\"float32\") / 255.0"
      ],
      "execution_count": 5,
      "outputs": []
    },
    {
      "cell_type": "code",
      "metadata": {
        "id": "dh3hnmK6qcjX",
        "colab_type": "code",
        "colab": {
          "base_uri": "https://localhost:8080/",
          "height": 221
        },
        "outputId": "22aeedce-dfbc-4c9f-e2b2-cc9574df0ee2"
      },
      "source": [
        "# Sequential API (efficient but not flexible)\n",
        "model = keras.Sequential(\n",
        "    [\n",
        "      layers.Dense(512, activation='relu'),\n",
        "      layers.Dense(256, activation='relu'),\n",
        "      layers.Dense(10),\n",
        "    ]\n",
        ")\n",
        "\n",
        "model.compile(\n",
        "    loss = keras.losses.SparseCategoricalCrossentropy(from_logits=True),\n",
        "    optimizer = keras.optimizers.Adam(lr=0.001),\n",
        "    metrics=[\"accuracy\"],\n",
        ")\n",
        "\n",
        "model.fit(x_train, y_train, batch_size=32, epochs=5, verbose=2)\n",
        "model.evaluate(x_test,y_test, batch_size=32, verbose=2)\n"
      ],
      "execution_count": 7,
      "outputs": [
        {
          "output_type": "stream",
          "text": [
            "Epoch 1/5\n",
            "1875/1875 - 3s - loss: 0.1878 - accuracy: 0.9436\n",
            "Epoch 2/5\n",
            "1875/1875 - 3s - loss: 0.0778 - accuracy: 0.9758\n",
            "Epoch 3/5\n",
            "1875/1875 - 3s - loss: 0.0554 - accuracy: 0.9821\n",
            "Epoch 4/5\n",
            "1875/1875 - 3s - loss: 0.0424 - accuracy: 0.9869\n",
            "Epoch 5/5\n",
            "1875/1875 - 3s - loss: 0.0341 - accuracy: 0.9892\n",
            "313/313 - 0s - loss: 0.0842 - accuracy: 0.9796\n"
          ],
          "name": "stdout"
        },
        {
          "output_type": "execute_result",
          "data": {
            "text/plain": [
              "[0.08420487493276596, 0.9796000123023987]"
            ]
          },
          "metadata": {
            "tags": []
          },
          "execution_count": 7
        }
      ]
    },
    {
      "cell_type": "code",
      "metadata": {
        "id": "PLONYvxnt_X5",
        "colab_type": "code",
        "colab": {
          "base_uri": "https://localhost:8080/",
          "height": 272
        },
        "outputId": "c4bd3457-e117-436d-ec4d-ef259397fb19"
      },
      "source": [
        "model1 = keras.Sequential()\n",
        "model1.add(keras.Input(shape=(28*28)))\n",
        "model1.add(layers.Dense(512, activation='relu'))\n",
        "model1.add(layers.Dense(256, activation='relu'))\n",
        "model1.add(layers.Dense(10))\n",
        "print (model1.summary())"
      ],
      "execution_count": 12,
      "outputs": [
        {
          "output_type": "stream",
          "text": [
            "Model: \"sequential_6\"\n",
            "_________________________________________________________________\n",
            "Layer (type)                 Output Shape              Param #   \n",
            "=================================================================\n",
            "dense_16 (Dense)             (None, 512)               401920    \n",
            "_________________________________________________________________\n",
            "dense_17 (Dense)             (None, 256)               131328    \n",
            "_________________________________________________________________\n",
            "dense_18 (Dense)             (None, 10)                2570      \n",
            "=================================================================\n",
            "Total params: 535,818\n",
            "Trainable params: 535,818\n",
            "Non-trainable params: 0\n",
            "_________________________________________________________________\n",
            "None\n"
          ],
          "name": "stdout"
        }
      ]
    },
    {
      "cell_type": "code",
      "metadata": {
        "id": "zO8C0Y2JyAOg",
        "colab_type": "code",
        "colab": {
          "base_uri": "https://localhost:8080/",
          "height": 306
        },
        "outputId": "85e6eebd-55b4-4b8c-9850-9f15c951a4f4"
      },
      "source": [
        "# Functional API (A bit more flexible)\n",
        "inputs = keras.Input(shape=(784))\n",
        "x = layers.Dense(512, activation='relu', name='first_layer')(inputs)\n",
        "x = layers.Dense(256, activation='relu', name='second_layer')(x)\n",
        "outputs = layers.Dense(10, activation='softmax')(x)\n",
        "model = keras.Model(inputs=inputs, outputs=outputs)\n",
        "print (model.summary())"
      ],
      "execution_count": 14,
      "outputs": [
        {
          "output_type": "stream",
          "text": [
            "Model: \"functional_3\"\n",
            "_________________________________________________________________\n",
            "Layer (type)                 Output Shape              Param #   \n",
            "=================================================================\n",
            "input_7 (InputLayer)         [(None, 784)]             0         \n",
            "_________________________________________________________________\n",
            "first_layer (Dense)          (None, 512)               401920    \n",
            "_________________________________________________________________\n",
            "second_layer (Dense)         (None, 256)               131328    \n",
            "_________________________________________________________________\n",
            "dense_22 (Dense)             (None, 10)                2570      \n",
            "=================================================================\n",
            "Total params: 535,818\n",
            "Trainable params: 535,818\n",
            "Non-trainable params: 0\n",
            "_________________________________________________________________\n",
            "None\n"
          ],
          "name": "stdout"
        }
      ]
    },
    {
      "cell_type": "code",
      "metadata": {
        "id": "SzrcoefTvmVR",
        "colab_type": "code",
        "colab": {
          "base_uri": "https://localhost:8080/",
          "height": 221
        },
        "outputId": "e22d21a0-a746-452c-a9c9-f7abbf39d0f8"
      },
      "source": [
        "model.compile(\n",
        "    loss = keras.losses.SparseCategoricalCrossentropy(from_logits=False),  # since our outputs has softmax so from_logits=False\n",
        "    optimizer = keras.optimizers.Adam(learning_rate=0.001),\n",
        "    metrics=['accuracy'],\n",
        ")\n",
        "\n",
        "model.fit(x_train, y_train, batch_size=32, epochs=5, verbose=2)\n",
        "model.evaluate(x_test, y_test, batch_size=32, verbose=2)"
      ],
      "execution_count": 13,
      "outputs": [
        {
          "output_type": "stream",
          "text": [
            "Epoch 1/5\n",
            "1875/1875 - 3s - loss: 0.1848 - accuracy: 0.9435\n",
            "Epoch 2/5\n",
            "1875/1875 - 3s - loss: 0.0799 - accuracy: 0.9747\n",
            "Epoch 3/5\n",
            "1875/1875 - 3s - loss: 0.0558 - accuracy: 0.9826\n",
            "Epoch 4/5\n",
            "1875/1875 - 3s - loss: 0.0417 - accuracy: 0.9862\n",
            "Epoch 5/5\n",
            "1875/1875 - 3s - loss: 0.0320 - accuracy: 0.9896\n",
            "313/313 - 0s - loss: 0.0802 - accuracy: 0.9784\n"
          ],
          "name": "stdout"
        },
        {
          "output_type": "execute_result",
          "data": {
            "text/plain": [
              "[0.08019112795591354, 0.9783999919891357]"
            ]
          },
          "metadata": {
            "tags": []
          },
          "execution_count": 13
        }
      ]
    },
    {
      "cell_type": "code",
      "metadata": {
        "id": "-II781WKxvGo",
        "colab_type": "code",
        "colab": {
          "base_uri": "https://localhost:8080/",
          "height": 51
        },
        "outputId": "aad28813-43df-497c-905c-556085fe4801"
      },
      "source": [
        "# getting specific layer output\n",
        "model = keras.Sequential()\n",
        "model.add(keras.Input(shape=(784)))\n",
        "model.add(layers.Dense(512, activation='relu', name='first_layer'))\n",
        "model.add(layers.Dense(256, activation='relu', name='second_layer'))\n",
        "model.add(layers.Dense(10))\n",
        "\n",
        "#print (model.summary())\n",
        "\n",
        "model1 = keras.Model(inputs = model.inputs, \n",
        "                    outputs = [model.layers[-2].output])\n",
        "\n",
        "feature1 = model1.predict(x_train)\n",
        "print (feature.shape)\n",
        "\n",
        "     # OR\n",
        "\n",
        "model2 = keras.Model(inputs = model.inputs, \n",
        "                    outputs = [model.get_layer('second_layer').output])\n",
        "feature2 = model2.predict(x_train)\n",
        "print (feature2.shape)\n"
      ],
      "execution_count": 19,
      "outputs": [
        {
          "output_type": "stream",
          "text": [
            "(60000, 256)\n",
            "(60000, 256)\n"
          ],
          "name": "stdout"
        }
      ]
    },
    {
      "cell_type": "code",
      "metadata": {
        "id": "0pZdzf8gzDEj",
        "colab_type": "code",
        "colab": {
          "base_uri": "https://localhost:8080/",
          "height": 68
        },
        "outputId": "37ff33f2-22d2-4d21-b877-426e9fa033c7"
      },
      "source": [
        "model3 = keras.Model(inputs = model.inputs,\n",
        "                     outputs = [layer.output for layer in model.layers])\n",
        "features = model3.predict(x_train)\n",
        "for feature in features:\n",
        "  print (feature.shape)"
      ],
      "execution_count": 20,
      "outputs": [
        {
          "output_type": "stream",
          "text": [
            "(60000, 512)\n",
            "(60000, 256)\n",
            "(60000, 10)\n"
          ],
          "name": "stdout"
        }
      ]
    },
    {
      "cell_type": "code",
      "metadata": {
        "id": "qJtMUVDx003b",
        "colab_type": "code",
        "colab": {
          "base_uri": "https://localhost:8080/",
          "height": 306
        },
        "outputId": "3a9aa9a0-c8df-4f3a-f7ee-ecbe9207630c"
      },
      "source": [
        "# Training and testing with bigger network\n",
        "\n",
        "model = keras.Sequential()\n",
        "model.add(keras.Input(shape=(784)))\n",
        "model.add(layers.Dense(512, activation='relu'))\n",
        "model.add(layers.Dense(256, activation='relu'))\n",
        "model.add(layers.Dense(128, activation='relu'))\n",
        "model.add(layers.Dense(10, activation='softmax'))\n",
        "\n",
        "print (model.summary())"
      ],
      "execution_count": 21,
      "outputs": [
        {
          "output_type": "stream",
          "text": [
            "Model: \"sequential_12\"\n",
            "_________________________________________________________________\n",
            "Layer (type)                 Output Shape              Param #   \n",
            "=================================================================\n",
            "dense_30 (Dense)             (None, 512)               401920    \n",
            "_________________________________________________________________\n",
            "dense_31 (Dense)             (None, 256)               131328    \n",
            "_________________________________________________________________\n",
            "dense_32 (Dense)             (None, 128)               32896     \n",
            "_________________________________________________________________\n",
            "dense_33 (Dense)             (None, 10)                1290      \n",
            "=================================================================\n",
            "Total params: 567,434\n",
            "Trainable params: 567,434\n",
            "Non-trainable params: 0\n",
            "_________________________________________________________________\n",
            "None\n"
          ],
          "name": "stdout"
        }
      ]
    },
    {
      "cell_type": "code",
      "metadata": {
        "id": "L_6A37SU13jV",
        "colab_type": "code",
        "colab": {
          "base_uri": "https://localhost:8080/",
          "height": 1000
        },
        "outputId": "f6e6da42-7c9b-456d-d96c-96e1839b2337"
      },
      "source": [
        "model.compile(\n",
        "    loss = keras.losses.SparseCategoricalCrossentropy(from_logits=False),\n",
        "    optimizer = keras.optimizers.Adam(lr=0.001),\n",
        "    metrics=['accuracy']\n",
        ")\n",
        "\n",
        "model.fit(x_train, y_train, batch_size=128, epochs=50, verbose=2)"
      ],
      "execution_count": 22,
      "outputs": [
        {
          "output_type": "stream",
          "text": [
            "Epoch 1/50\n",
            "469/469 - 1s - loss: 0.2289 - accuracy: 0.9318\n",
            "Epoch 2/50\n",
            "469/469 - 1s - loss: 0.0873 - accuracy: 0.9724\n",
            "Epoch 3/50\n",
            "469/469 - 1s - loss: 0.0559 - accuracy: 0.9819\n",
            "Epoch 4/50\n",
            "469/469 - 1s - loss: 0.0397 - accuracy: 0.9877\n",
            "Epoch 5/50\n",
            "469/469 - 1s - loss: 0.0319 - accuracy: 0.9895\n",
            "Epoch 6/50\n",
            "469/469 - 1s - loss: 0.0262 - accuracy: 0.9913\n",
            "Epoch 7/50\n",
            "469/469 - 1s - loss: 0.0230 - accuracy: 0.9925\n",
            "Epoch 8/50\n",
            "469/469 - 1s - loss: 0.0207 - accuracy: 0.9934\n",
            "Epoch 9/50\n",
            "469/469 - 1s - loss: 0.0174 - accuracy: 0.9942\n",
            "Epoch 10/50\n",
            "469/469 - 1s - loss: 0.0161 - accuracy: 0.9948\n",
            "Epoch 11/50\n",
            "469/469 - 1s - loss: 0.0157 - accuracy: 0.9949\n",
            "Epoch 12/50\n",
            "469/469 - 1s - loss: 0.0150 - accuracy: 0.9951\n",
            "Epoch 13/50\n",
            "469/469 - 1s - loss: 0.0098 - accuracy: 0.9969\n",
            "Epoch 14/50\n",
            "469/469 - 1s - loss: 0.0097 - accuracy: 0.9969\n",
            "Epoch 15/50\n",
            "469/469 - 1s - loss: 0.0114 - accuracy: 0.9965\n",
            "Epoch 16/50\n",
            "469/469 - 1s - loss: 0.0112 - accuracy: 0.9965\n",
            "Epoch 17/50\n",
            "469/469 - 1s - loss: 0.0078 - accuracy: 0.9974\n",
            "Epoch 18/50\n",
            "469/469 - 1s - loss: 0.0115 - accuracy: 0.9965\n",
            "Epoch 19/50\n",
            "469/469 - 1s - loss: 0.0097 - accuracy: 0.9969\n",
            "Epoch 20/50\n",
            "469/469 - 1s - loss: 0.0073 - accuracy: 0.9977\n",
            "Epoch 21/50\n",
            "469/469 - 1s - loss: 0.0097 - accuracy: 0.9971\n",
            "Epoch 22/50\n",
            "469/469 - 1s - loss: 0.0080 - accuracy: 0.9976\n",
            "Epoch 23/50\n",
            "469/469 - 1s - loss: 0.0063 - accuracy: 0.9982\n",
            "Epoch 24/50\n",
            "469/469 - 1s - loss: 0.0074 - accuracy: 0.9978\n",
            "Epoch 25/50\n",
            "469/469 - 1s - loss: 0.0089 - accuracy: 0.9974\n",
            "Epoch 26/50\n",
            "469/469 - 1s - loss: 0.0035 - accuracy: 0.9990\n",
            "Epoch 27/50\n",
            "469/469 - 1s - loss: 0.0019 - accuracy: 0.9995\n",
            "Epoch 28/50\n",
            "469/469 - 1s - loss: 0.0115 - accuracy: 0.9967\n",
            "Epoch 29/50\n",
            "469/469 - 1s - loss: 0.0045 - accuracy: 0.9985\n",
            "Epoch 30/50\n",
            "469/469 - 1s - loss: 0.0042 - accuracy: 0.9988\n",
            "Epoch 31/50\n",
            "469/469 - 1s - loss: 0.0106 - accuracy: 0.9970\n",
            "Epoch 32/50\n",
            "469/469 - 1s - loss: 0.0056 - accuracy: 0.9985\n",
            "Epoch 33/50\n",
            "469/469 - 1s - loss: 0.0069 - accuracy: 0.9979\n",
            "Epoch 34/50\n",
            "469/469 - 1s - loss: 0.0049 - accuracy: 0.9986\n",
            "Epoch 35/50\n",
            "469/469 - 1s - loss: 0.0039 - accuracy: 0.9988\n",
            "Epoch 36/50\n",
            "469/469 - 1s - loss: 0.0070 - accuracy: 0.9980\n",
            "Epoch 37/50\n",
            "469/469 - 1s - loss: 0.0060 - accuracy: 0.9981\n",
            "Epoch 38/50\n",
            "469/469 - 1s - loss: 0.0016 - accuracy: 0.9996\n",
            "Epoch 39/50\n",
            "469/469 - 1s - loss: 0.0050 - accuracy: 0.9985\n",
            "Epoch 40/50\n",
            "469/469 - 1s - loss: 0.0077 - accuracy: 0.9978\n",
            "Epoch 41/50\n",
            "469/469 - 1s - loss: 0.0030 - accuracy: 0.9992\n",
            "Epoch 42/50\n",
            "469/469 - 1s - loss: 0.0052 - accuracy: 0.9986\n",
            "Epoch 43/50\n",
            "469/469 - 1s - loss: 0.0022 - accuracy: 0.9995\n",
            "Epoch 44/50\n",
            "469/469 - 1s - loss: 7.8234e-04 - accuracy: 0.9998\n",
            "Epoch 45/50\n",
            "469/469 - 1s - loss: 0.0099 - accuracy: 0.9972\n",
            "Epoch 46/50\n",
            "469/469 - 1s - loss: 0.0055 - accuracy: 0.9987\n",
            "Epoch 47/50\n",
            "469/469 - 1s - loss: 0.0021 - accuracy: 0.9995\n",
            "Epoch 48/50\n",
            "469/469 - 1s - loss: 0.0047 - accuracy: 0.9985\n",
            "Epoch 49/50\n",
            "469/469 - 1s - loss: 0.0054 - accuracy: 0.9985\n",
            "Epoch 50/50\n",
            "469/469 - 1s - loss: 0.0066 - accuracy: 0.9982\n"
          ],
          "name": "stdout"
        },
        {
          "output_type": "execute_result",
          "data": {
            "text/plain": [
              "<tensorflow.python.keras.callbacks.History at 0x7f8c6867a7f0>"
            ]
          },
          "metadata": {
            "tags": []
          },
          "execution_count": 22
        }
      ]
    },
    {
      "cell_type": "code",
      "metadata": {
        "id": "eLWN_knC2cYz",
        "colab_type": "code",
        "colab": {
          "base_uri": "https://localhost:8080/",
          "height": 51
        },
        "outputId": "9a28a02b-b5d7-48b4-9385-8fc2086c592a"
      },
      "source": [
        "model.evaluate(x_test, y_test, batch_size=128, verbose=1)"
      ],
      "execution_count": 23,
      "outputs": [
        {
          "output_type": "stream",
          "text": [
            "79/79 [==============================] - 0s 2ms/step - loss: 0.1220 - accuracy: 0.9825\n"
          ],
          "name": "stdout"
        },
        {
          "output_type": "execute_result",
          "data": {
            "text/plain": [
              "[0.12197369337081909, 0.9825000166893005]"
            ]
          },
          "metadata": {
            "tags": []
          },
          "execution_count": 23
        }
      ]
    },
    {
      "cell_type": "code",
      "metadata": {
        "id": "h3WI7bHJ27uA",
        "colab_type": "code",
        "colab": {}
      },
      "source": [
        ""
      ],
      "execution_count": null,
      "outputs": []
    }
  ]
}