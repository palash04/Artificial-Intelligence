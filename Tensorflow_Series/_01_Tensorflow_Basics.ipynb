{
  "nbformat": 4,
  "nbformat_minor": 0,
  "metadata": {
    "colab": {
      "name": "_01_Tensorflow_Basics.ipynb",
      "provenance": [],
      "authorship_tag": "ABX9TyPm1SxJL165arYB4XYQXtbS",
      "include_colab_link": true
    },
    "kernelspec": {
      "name": "python3",
      "display_name": "Python 3"
    }
  },
  "cells": [
    {
      "cell_type": "markdown",
      "metadata": {
        "id": "view-in-github",
        "colab_type": "text"
      },
      "source": [
        "<a href=\"https://colab.research.google.com/github/palash04/Artificial-Intelligence/blob/master/Tensorflow_Series/_01_Tensorflow_Basics.ipynb\" target=\"_parent\"><img src=\"https://colab.research.google.com/assets/colab-badge.svg\" alt=\"Open In Colab\"/></a>"
      ]
    },
    {
      "cell_type": "markdown",
      "metadata": {
        "id": "-o5j0QDohLFt",
        "colab_type": "text"
      },
      "source": [
        "![Screenshot 2020-09-17 at 20 12 36](https://user-images.githubusercontent.com/26361028/93486716-239e4280-f922-11ea-98c8-2cebdd5e44c2.png)\n"
      ]
    },
    {
      "cell_type": "code",
      "metadata": {
        "id": "N6FHWBsLeAku",
        "colab_type": "code",
        "colab": {}
      },
      "source": [
        "import tensorflow as tf"
      ],
      "execution_count": 1,
      "outputs": []
    },
    {
      "cell_type": "markdown",
      "metadata": {
        "id": "Ed_KYHsjhftV",
        "colab_type": "text"
      },
      "source": [
        "# Initialization of tensors"
      ]
    },
    {
      "cell_type": "code",
      "metadata": {
        "id": "RCWUfpXOeIGK",
        "colab_type": "code",
        "colab": {
          "base_uri": "https://localhost:8080/",
          "height": 34
        },
        "outputId": "162fbaaf-f1d3-47cb-b4a2-4591bc17e4b9"
      },
      "source": [
        "x = tf.constant(4)\n",
        "x"
      ],
      "execution_count": 2,
      "outputs": [
        {
          "output_type": "execute_result",
          "data": {
            "text/plain": [
              "<tf.Tensor: shape=(), dtype=int32, numpy=4>"
            ]
          },
          "metadata": {
            "tags": []
          },
          "execution_count": 2
        }
      ]
    },
    {
      "cell_type": "code",
      "metadata": {
        "id": "1QQUumm6hZ_Z",
        "colab_type": "code",
        "colab": {
          "base_uri": "https://localhost:8080/",
          "height": 68
        },
        "outputId": "4630fa3e-e158-428c-d0b3-4f6e3cf82602"
      },
      "source": [
        "x = tf.constant(4, shape=(2,4), dtype=tf.float32)\n",
        "x"
      ],
      "execution_count": 4,
      "outputs": [
        {
          "output_type": "execute_result",
          "data": {
            "text/plain": [
              "<tf.Tensor: shape=(2, 4), dtype=float32, numpy=\n",
              "array([[4., 4., 4., 4.],\n",
              "       [4., 4., 4., 4.]], dtype=float32)>"
            ]
          },
          "metadata": {
            "tags": []
          },
          "execution_count": 4
        }
      ]
    },
    {
      "cell_type": "code",
      "metadata": {
        "id": "fGivKj4JhliB",
        "colab_type": "code",
        "colab": {
          "base_uri": "https://localhost:8080/",
          "height": 68
        },
        "outputId": "e83244c1-f957-4b02-abf3-a7e4856a2ceb"
      },
      "source": [
        "# 2x3 matrix\n",
        "x = tf.constant([[1,2,3],[4,5,6]])\n",
        "x"
      ],
      "execution_count": 5,
      "outputs": [
        {
          "output_type": "execute_result",
          "data": {
            "text/plain": [
              "<tf.Tensor: shape=(2, 3), dtype=int32, numpy=\n",
              "array([[1, 2, 3],\n",
              "       [4, 5, 6]], dtype=int32)>"
            ]
          },
          "metadata": {
            "tags": []
          },
          "execution_count": 5
        }
      ]
    },
    {
      "cell_type": "code",
      "metadata": {
        "id": "2IENGDzmh0MM",
        "colab_type": "code",
        "colab": {
          "base_uri": "https://localhost:8080/",
          "height": 85
        },
        "outputId": "d2b0c7ce-84e7-4c2c-fd2c-c4156a366241"
      },
      "source": [
        "x = tf.ones((3,3))\n",
        "x"
      ],
      "execution_count": 7,
      "outputs": [
        {
          "output_type": "execute_result",
          "data": {
            "text/plain": [
              "<tf.Tensor: shape=(3, 3), dtype=float32, numpy=\n",
              "array([[1., 1., 1.],\n",
              "       [1., 1., 1.],\n",
              "       [1., 1., 1.]], dtype=float32)>"
            ]
          },
          "metadata": {
            "tags": []
          },
          "execution_count": 7
        }
      ]
    },
    {
      "cell_type": "code",
      "metadata": {
        "id": "IRwP7FCbh9Qh",
        "colab_type": "code",
        "colab": {
          "base_uri": "https://localhost:8080/",
          "height": 85
        },
        "outputId": "c10f9798-f066-4770-e8f7-dcd957beb17d"
      },
      "source": [
        "x = tf.zeros((3,5))\n",
        "x"
      ],
      "execution_count": 8,
      "outputs": [
        {
          "output_type": "execute_result",
          "data": {
            "text/plain": [
              "<tf.Tensor: shape=(3, 5), dtype=float32, numpy=\n",
              "array([[0., 0., 0., 0., 0.],\n",
              "       [0., 0., 0., 0., 0.],\n",
              "       [0., 0., 0., 0., 0.]], dtype=float32)>"
            ]
          },
          "metadata": {
            "tags": []
          },
          "execution_count": 8
        }
      ]
    },
    {
      "cell_type": "code",
      "metadata": {
        "id": "bdsk0xrLiFSq",
        "colab_type": "code",
        "colab": {
          "base_uri": "https://localhost:8080/",
          "height": 85
        },
        "outputId": "653e0169-9cda-4754-e384-7d7325c2b147"
      },
      "source": [
        "x = tf.eye(3) # I for identity matrix\n",
        "x"
      ],
      "execution_count": 9,
      "outputs": [
        {
          "output_type": "execute_result",
          "data": {
            "text/plain": [
              "<tf.Tensor: shape=(3, 3), dtype=float32, numpy=\n",
              "array([[1., 0., 0.],\n",
              "       [0., 1., 0.],\n",
              "       [0., 0., 1.]], dtype=float32)>"
            ]
          },
          "metadata": {
            "tags": []
          },
          "execution_count": 9
        }
      ]
    },
    {
      "cell_type": "code",
      "metadata": {
        "id": "Eld9s8h0iMZm",
        "colab_type": "code",
        "colab": {
          "base_uri": "https://localhost:8080/",
          "height": 272
        },
        "outputId": "0bba798b-ac7a-4c48-a8e5-a2a2cd22f9b5"
      },
      "source": [
        "x = tf.random.normal(shape=(3,4,4), mean=0, stddev=1)\n",
        "print (x)"
      ],
      "execution_count": 10,
      "outputs": [
        {
          "output_type": "stream",
          "text": [
            "tf.Tensor(\n",
            "[[[ 0.5756741  -2.553847    1.0170803  -1.7242271 ]\n",
            "  [ 0.98861986 -0.95873976  2.1728766   1.6374525 ]\n",
            "  [-0.9586493   1.3554672   0.48368454  0.1091338 ]\n",
            "  [ 0.01869251  0.19060339 -0.61049384 -1.5243425 ]]\n",
            "\n",
            " [[ 1.6256074   2.4281464   0.49905255 -0.2087348 ]\n",
            "  [-0.7635567  -1.4348464  -1.037421   -0.8663582 ]\n",
            "  [-0.49657413  0.13532451  0.24744852 -0.2015142 ]\n",
            "  [-0.7465528   1.6565493   0.05979561 -0.2069104 ]]\n",
            "\n",
            " [[ 0.7943577  -0.7708732  -0.38743564 -0.5797058 ]\n",
            "  [ 0.45152023  0.7850851   0.8271401  -0.9929536 ]\n",
            "  [ 0.33273208  0.6001988  -0.6621788  -1.8676323 ]\n",
            "  [-0.04859941  0.264578    0.8167209   1.8431972 ]]], shape=(3, 4, 4), dtype=float32)\n"
          ],
          "name": "stdout"
        }
      ]
    },
    {
      "cell_type": "code",
      "metadata": {
        "id": "YVYSGX6xkFcP",
        "colab_type": "code",
        "colab": {
          "base_uri": "https://localhost:8080/",
          "height": 85
        },
        "outputId": "9471a9d3-822c-4b82-937a-525a86fdc5e6"
      },
      "source": [
        "x = tf.random.uniform(shape=(3,3), minval=0, maxval=1)\n",
        "print (x)"
      ],
      "execution_count": 12,
      "outputs": [
        {
          "output_type": "stream",
          "text": [
            "tf.Tensor(\n",
            "[[0.6904042  0.10619545 0.184852  ]\n",
            " [0.51965415 0.66364014 0.5897888 ]\n",
            " [0.2489357  0.1086787  0.8501084 ]], shape=(3, 3), dtype=float32)\n"
          ],
          "name": "stdout"
        }
      ]
    },
    {
      "cell_type": "code",
      "metadata": {
        "id": "yRUzyLFXsfXe",
        "colab_type": "code",
        "colab": {
          "base_uri": "https://localhost:8080/",
          "height": 34
        },
        "outputId": "ee283913-e33e-4bcb-af26-c7912feef782"
      },
      "source": [
        "x = tf.range(10)\n",
        "x"
      ],
      "execution_count": 14,
      "outputs": [
        {
          "output_type": "execute_result",
          "data": {
            "text/plain": [
              "<tf.Tensor: shape=(10,), dtype=int32, numpy=array([0, 1, 2, 3, 4, 5, 6, 7, 8, 9], dtype=int32)>"
            ]
          },
          "metadata": {
            "tags": []
          },
          "execution_count": 14
        }
      ]
    },
    {
      "cell_type": "code",
      "metadata": {
        "id": "biw566-vss3_",
        "colab_type": "code",
        "colab": {
          "base_uri": "https://localhost:8080/",
          "height": 34
        },
        "outputId": "6c0fc84a-2c80-4a65-95ab-e0440c5c965b"
      },
      "source": [
        "x = tf.range(start=1, limit=10, delta=2)\n",
        "x"
      ],
      "execution_count": 15,
      "outputs": [
        {
          "output_type": "execute_result",
          "data": {
            "text/plain": [
              "<tf.Tensor: shape=(5,), dtype=int32, numpy=array([1, 3, 5, 7, 9], dtype=int32)>"
            ]
          },
          "metadata": {
            "tags": []
          },
          "execution_count": 15
        }
      ]
    },
    {
      "cell_type": "code",
      "metadata": {
        "id": "axdsjRSOtZQ-",
        "colab_type": "code",
        "colab": {
          "base_uri": "https://localhost:8080/",
          "height": 34
        },
        "outputId": "bc5ddc07-3ed3-4607-bfef-e1b4b0f50edb"
      },
      "source": [
        "# casting \n",
        "x = tf.cast(x, dtype=tf.float64)\n",
        "x"
      ],
      "execution_count": 17,
      "outputs": [
        {
          "output_type": "execute_result",
          "data": {
            "text/plain": [
              "<tf.Tensor: shape=(5,), dtype=float64, numpy=array([1., 3., 5., 7., 9.])>"
            ]
          },
          "metadata": {
            "tags": []
          },
          "execution_count": 17
        }
      ]
    },
    {
      "cell_type": "markdown",
      "metadata": {
        "id": "aaNWeHydtvBf",
        "colab_type": "text"
      },
      "source": [
        "# Mathematical operations"
      ]
    },
    {
      "cell_type": "code",
      "metadata": {
        "id": "zgD6l-ljtk-V",
        "colab_type": "code",
        "colab": {
          "base_uri": "https://localhost:8080/",
          "height": 34
        },
        "outputId": "a848b887-295a-48db-8d61-76b9dba2c44c"
      },
      "source": [
        "x = tf.constant([1,2,3])\n",
        "y = tf.constant([4,5,6])\n",
        "z = tf.add(x,y)\n",
        "print (z)"
      ],
      "execution_count": 27,
      "outputs": [
        {
          "output_type": "stream",
          "text": [
            "tf.Tensor([5 7 9], shape=(3,), dtype=int32)\n"
          ],
          "name": "stdout"
        }
      ]
    },
    {
      "cell_type": "code",
      "metadata": {
        "id": "BSKKbGn8t4tf",
        "colab_type": "code",
        "colab": {
          "base_uri": "https://localhost:8080/",
          "height": 34
        },
        "outputId": "f9b523ea-9b18-479b-ec15-4cbfa092e951"
      },
      "source": [
        "z = x + y\n",
        "z"
      ],
      "execution_count": 19,
      "outputs": [
        {
          "output_type": "execute_result",
          "data": {
            "text/plain": [
              "<tf.Tensor: shape=(3,), dtype=int32, numpy=array([5, 7, 9], dtype=int32)>"
            ]
          },
          "metadata": {
            "tags": []
          },
          "execution_count": 19
        }
      ]
    },
    {
      "cell_type": "code",
      "metadata": {
        "id": "MRY3_5GWt860",
        "colab_type": "code",
        "colab": {
          "base_uri": "https://localhost:8080/",
          "height": 34
        },
        "outputId": "6d3eebe0-dea8-4db8-a127-a60dc0f33774"
      },
      "source": [
        "z = x - y\n",
        "z"
      ],
      "execution_count": 20,
      "outputs": [
        {
          "output_type": "execute_result",
          "data": {
            "text/plain": [
              "<tf.Tensor: shape=(3,), dtype=int32, numpy=array([-3, -3, -3], dtype=int32)>"
            ]
          },
          "metadata": {
            "tags": []
          },
          "execution_count": 20
        }
      ]
    },
    {
      "cell_type": "code",
      "metadata": {
        "id": "pPleb8DpuFxa",
        "colab_type": "code",
        "colab": {
          "base_uri": "https://localhost:8080/",
          "height": 34
        },
        "outputId": "010b64c7-8213-43db-d5f9-2dcc0bfff8d3"
      },
      "source": [
        "z = tf.divide(x,y)\n",
        "z"
      ],
      "execution_count": 21,
      "outputs": [
        {
          "output_type": "execute_result",
          "data": {
            "text/plain": [
              "<tf.Tensor: shape=(3,), dtype=float64, numpy=array([0.25, 0.4 , 0.5 ])>"
            ]
          },
          "metadata": {
            "tags": []
          },
          "execution_count": 21
        }
      ]
    },
    {
      "cell_type": "code",
      "metadata": {
        "id": "VCOfc_TluKJ0",
        "colab_type": "code",
        "colab": {
          "base_uri": "https://localhost:8080/",
          "height": 34
        },
        "outputId": "a1263d00-40b8-40a6-eee9-5d2aa582480d"
      },
      "source": [
        "z = tf.multiply(x,y)\n",
        "z"
      ],
      "execution_count": 22,
      "outputs": [
        {
          "output_type": "execute_result",
          "data": {
            "text/plain": [
              "<tf.Tensor: shape=(3,), dtype=int32, numpy=array([ 4, 10, 18], dtype=int32)>"
            ]
          },
          "metadata": {
            "tags": []
          },
          "execution_count": 22
        }
      ]
    },
    {
      "cell_type": "code",
      "metadata": {
        "id": "T2lyLAn9uPk7",
        "colab_type": "code",
        "colab": {
          "base_uri": "https://localhost:8080/",
          "height": 34
        },
        "outputId": "9477378c-9922-4848-c95f-8bdcccf85dd8"
      },
      "source": [
        "z = tf.tensordot(x,y, axes=1)\n",
        "print (z)"
      ],
      "execution_count": 30,
      "outputs": [
        {
          "output_type": "stream",
          "text": [
            "tf.Tensor(32, shape=(), dtype=int32)\n"
          ],
          "name": "stdout"
        }
      ]
    },
    {
      "cell_type": "code",
      "metadata": {
        "id": "KEW6FaETuXUb",
        "colab_type": "code",
        "colab": {
          "base_uri": "https://localhost:8080/",
          "height": 34
        },
        "outputId": "916a808c-64b9-4621-a0a8-da9574c0dba5"
      },
      "source": [
        "z = tf.reduce_sum(x*y, axis=0)\n",
        "print (z)"
      ],
      "execution_count": 29,
      "outputs": [
        {
          "output_type": "stream",
          "text": [
            "tf.Tensor(32, shape=(), dtype=int32)\n"
          ],
          "name": "stdout"
        }
      ]
    },
    {
      "cell_type": "code",
      "metadata": {
        "id": "PCKjzbPrunCm",
        "colab_type": "code",
        "colab": {
          "base_uri": "https://localhost:8080/",
          "height": 34
        },
        "outputId": "0f304d93-721e-4771-cfb5-700e3f4d61ed"
      },
      "source": [
        "z = x**5\n",
        "print (z)"
      ],
      "execution_count": 31,
      "outputs": [
        {
          "output_type": "stream",
          "text": [
            "tf.Tensor([  1  32 243], shape=(3,), dtype=int32)\n"
          ],
          "name": "stdout"
        }
      ]
    },
    {
      "cell_type": "code",
      "metadata": {
        "id": "ginM4KWvvCrC",
        "colab_type": "code",
        "colab": {
          "base_uri": "https://localhost:8080/",
          "height": 68
        },
        "outputId": "4f6006bb-6a7f-4137-f9fd-c9b1170ce96b"
      },
      "source": [
        "# matrix multiplication\n",
        "x = tf.random.normal((2,3))\n",
        "y = tf.random.normal((3,4))\n",
        "z = tf.matmul(x,y)\n",
        "print (z)"
      ],
      "execution_count": 32,
      "outputs": [
        {
          "output_type": "stream",
          "text": [
            "tf.Tensor(\n",
            "[[ 0.18068916  0.94358397  0.75250536  0.5566775 ]\n",
            " [-2.0500998   2.4427855  -0.84717363 -0.9995479 ]], shape=(2, 4), dtype=float32)\n"
          ],
          "name": "stdout"
        }
      ]
    },
    {
      "cell_type": "code",
      "metadata": {
        "id": "fDODfuVcvUL8",
        "colab_type": "code",
        "colab": {
          "base_uri": "https://localhost:8080/",
          "height": 68
        },
        "outputId": "d4e5e6fe-7cc1-4f51-a311-e248a63ac98a"
      },
      "source": [
        "z = x @ y\n",
        "print (z)"
      ],
      "execution_count": 34,
      "outputs": [
        {
          "output_type": "stream",
          "text": [
            "tf.Tensor(\n",
            "[[ 0.18068916  0.94358397  0.75250536  0.5566775 ]\n",
            " [-2.0500998   2.4427855  -0.84717363 -0.9995479 ]], shape=(2, 4), dtype=float32)\n"
          ],
          "name": "stdout"
        }
      ]
    },
    {
      "cell_type": "markdown",
      "metadata": {
        "id": "uSzCBfY_vr2e",
        "colab_type": "text"
      },
      "source": [
        "# Indexing"
      ]
    },
    {
      "cell_type": "code",
      "metadata": {
        "id": "mbJ5Fyqlvkc9",
        "colab_type": "code",
        "colab": {
          "base_uri": "https://localhost:8080/",
          "height": 102
        },
        "outputId": "cd4dc249-b3c0-46a3-d96c-32e07d0dda85"
      },
      "source": [
        "x = tf.constant([0, 1, 1, 2, 3, 4, 5, 6, 7])\n",
        "print (x[:])\n",
        "print (x[1:])\n",
        "print (x[1:3])\n",
        "print (x[::2])\n",
        "print (x[::-1])"
      ],
      "execution_count": 38,
      "outputs": [
        {
          "output_type": "stream",
          "text": [
            "tf.Tensor([0 1 1 2 3 4 5 6 7], shape=(9,), dtype=int32)\n",
            "tf.Tensor([1 1 2 3 4 5 6 7], shape=(8,), dtype=int32)\n",
            "tf.Tensor([1 1], shape=(2,), dtype=int32)\n",
            "tf.Tensor([0 1 3 5 7], shape=(5,), dtype=int32)\n",
            "tf.Tensor([7 6 5 4 3 2 1 1 0], shape=(9,), dtype=int32)\n"
          ],
          "name": "stdout"
        }
      ]
    },
    {
      "cell_type": "code",
      "metadata": {
        "id": "auAEQ40_wDZH",
        "colab_type": "code",
        "colab": {
          "base_uri": "https://localhost:8080/",
          "height": 34
        },
        "outputId": "bdc37457-729f-4c25-fe2f-bb043da38d8e"
      },
      "source": [
        "indices = tf.constant([0,3])\n",
        "x_ind = tf.gather(x, indices)\n",
        "print (x_ind)"
      ],
      "execution_count": 40,
      "outputs": [
        {
          "output_type": "stream",
          "text": [
            "tf.Tensor([0 2], shape=(2,), dtype=int32)\n"
          ],
          "name": "stdout"
        }
      ]
    },
    {
      "cell_type": "code",
      "metadata": {
        "id": "zFeTpFPewi2S",
        "colab_type": "code",
        "colab": {
          "base_uri": "https://localhost:8080/",
          "height": 119
        },
        "outputId": "1171fede-7b72-4877-b69a-dfe1ee261f53"
      },
      "source": [
        "x = tf.constant([[1,2],\n",
        "                 [3,4],\n",
        "                 [5,6]])\n",
        "print (x[0])\n",
        "print (x[0, :])\n",
        "print (x[0, 1:])\n",
        "print (x[0:2, :])"
      ],
      "execution_count": 44,
      "outputs": [
        {
          "output_type": "stream",
          "text": [
            "tf.Tensor([1 2], shape=(2,), dtype=int32)\n",
            "tf.Tensor([1 2], shape=(2,), dtype=int32)\n",
            "tf.Tensor([2], shape=(1,), dtype=int32)\n",
            "tf.Tensor(\n",
            "[[1 2]\n",
            " [3 4]], shape=(2, 2), dtype=int32)\n"
          ],
          "name": "stdout"
        }
      ]
    },
    {
      "cell_type": "markdown",
      "metadata": {
        "id": "TFPe0ng0xD0G",
        "colab_type": "text"
      },
      "source": [
        "# Reshaping"
      ]
    },
    {
      "cell_type": "code",
      "metadata": {
        "id": "Fp_OOlHew49g",
        "colab_type": "code",
        "colab": {
          "base_uri": "https://localhost:8080/",
          "height": 34
        },
        "outputId": "3cdf0fa5-2f61-4fb6-cc04-9d71de38ae41"
      },
      "source": [
        "x = tf.range(9)\n",
        "print (x)"
      ],
      "execution_count": 45,
      "outputs": [
        {
          "output_type": "stream",
          "text": [
            "tf.Tensor([0 1 2 3 4 5 6 7 8], shape=(9,), dtype=int32)\n"
          ],
          "name": "stdout"
        }
      ]
    },
    {
      "cell_type": "code",
      "metadata": {
        "id": "mF2yol2ExIop",
        "colab_type": "code",
        "colab": {
          "base_uri": "https://localhost:8080/",
          "height": 85
        },
        "outputId": "b9c91747-6e2e-431b-c42b-34cafd4a80d5"
      },
      "source": [
        "x = tf.reshape(x, shape=(3,3))\n",
        "x"
      ],
      "execution_count": 46,
      "outputs": [
        {
          "output_type": "execute_result",
          "data": {
            "text/plain": [
              "<tf.Tensor: shape=(3, 3), dtype=int32, numpy=\n",
              "array([[0, 1, 2],\n",
              "       [3, 4, 5],\n",
              "       [6, 7, 8]], dtype=int32)>"
            ]
          },
          "metadata": {
            "tags": []
          },
          "execution_count": 46
        }
      ]
    },
    {
      "cell_type": "code",
      "metadata": {
        "id": "QeKZH98-xQ4Z",
        "colab_type": "code",
        "colab": {
          "base_uri": "https://localhost:8080/",
          "height": 85
        },
        "outputId": "ab3cf689-757c-443a-e380-d77b22daa5c9"
      },
      "source": [
        "x = tf.transpose(x, perm=[1,0])\n",
        "x"
      ],
      "execution_count": 47,
      "outputs": [
        {
          "output_type": "execute_result",
          "data": {
            "text/plain": [
              "<tf.Tensor: shape=(3, 3), dtype=int32, numpy=\n",
              "array([[0, 3, 6],\n",
              "       [1, 4, 7],\n",
              "       [2, 5, 8]], dtype=int32)>"
            ]
          },
          "metadata": {
            "tags": []
          },
          "execution_count": 47
        }
      ]
    },
    {
      "cell_type": "code",
      "metadata": {
        "id": "GhQ-NBLixaVX",
        "colab_type": "code",
        "colab": {}
      },
      "source": [
        ""
      ],
      "execution_count": null,
      "outputs": []
    }
  ]
}