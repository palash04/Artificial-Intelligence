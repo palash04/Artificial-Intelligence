{
  "nbformat": 4,
  "nbformat_minor": 0,
  "metadata": {
    "colab": {
      "name": "_PytorchNN_.ipynb",
      "provenance": [],
      "authorship_tag": "ABX9TyNKXNmL2tsKKwIxTJ2lbEON",
      "include_colab_link": true
    },
    "kernelspec": {
      "name": "python3",
      "display_name": "Python 3"
    },
    "accelerator": "GPU"
  },
  "cells": [
    {
      "cell_type": "markdown",
      "metadata": {
        "id": "view-in-github",
        "colab_type": "text"
      },
      "source": [
        "<a href=\"https://colab.research.google.com/github/palash04/Artificial-Intelligence/blob/master/NN_Series/_PytorchNN_.ipynb\" target=\"_parent\"><img src=\"https://colab.research.google.com/assets/colab-badge.svg\" alt=\"Open In Colab\"/></a>"
      ]
    },
    {
      "cell_type": "code",
      "metadata": {
        "id": "RQicxXjE5N2D",
        "colab_type": "code",
        "colab": {}
      },
      "source": [
        "# importing libraries\n",
        "import torch\n",
        "import torch.nn as nn\n",
        "import torch.optim as optim\n",
        "import torch.nn.functional as F\n",
        "from torch.utils.data import DataLoader\n",
        "import torchvision.datasets as datasets\n",
        "import torchvision.transforms as transforms"
      ],
      "execution_count": 7,
      "outputs": []
    },
    {
      "cell_type": "code",
      "metadata": {
        "id": "Px9nK1OP6z3Z",
        "colab_type": "code",
        "colab": {}
      },
      "source": [
        "# create fully connected layer\n",
        "class NN(nn.Module):\n",
        "  def __init__(self, input_size, num_classes):\n",
        "    super(NN,self).__init__()\n",
        "    self.hidden_size = 50\n",
        "    self.fc1 = nn.Linear(input_size,  self.hidden_size)\n",
        "    self.fc2 = nn.Linear(self.hidden_size, num_classes)\n",
        "  \n",
        "  def forward(self, x):\n",
        "    x = F.relu(self.fc1(x))\n",
        "    x = F.softmax(self.fc2(x), dim=1)\n",
        "    \n",
        "    return x"
      ],
      "execution_count": 8,
      "outputs": []
    },
    {
      "cell_type": "code",
      "metadata": {
        "id": "Lq0ov7Gg8iNj",
        "colab_type": "code",
        "colab": {
          "base_uri": "https://localhost:8080/",
          "height": 34
        },
        "outputId": "c5e675fd-a40a-4411-d6a1-933716364366"
      },
      "source": [
        "# testing NN\n",
        "model = NN(784,10)\n",
        "x = torch.rand((64,784))\n",
        "output = model(x)\n",
        "print (output.shape)  # must be 64 x 10"
      ],
      "execution_count": 9,
      "outputs": [
        {
          "output_type": "stream",
          "text": [
            "torch.Size([64, 10])\n"
          ],
          "name": "stdout"
        }
      ]
    },
    {
      "cell_type": "code",
      "metadata": {
        "id": "NoXUVal08wcK",
        "colab_type": "code",
        "colab": {}
      },
      "source": [
        "# set device\n",
        "device = 'cuda' if torch.cuda.is_available() else 'cpu'"
      ],
      "execution_count": 10,
      "outputs": []
    },
    {
      "cell_type": "code",
      "metadata": {
        "id": "Zbt1SOC381WH",
        "colab_type": "code",
        "colab": {}
      },
      "source": [
        "# Hyperparameters\n",
        "input_size = 784\n",
        "num_classes = 10\n",
        "learning_rate = 0.001\n",
        "batch_size = 64\n",
        "num_epochs = 10"
      ],
      "execution_count": 11,
      "outputs": []
    },
    {
      "cell_type": "code",
      "metadata": {
        "id": "AQdmAoGz9XkK",
        "colab_type": "code",
        "colab": {}
      },
      "source": [
        "# Load Data\n",
        "train_dataset = datasets.MNIST(root='dataset/',train=True,transform=transforms.ToTensor(), download=True)\n",
        "train_loader = DataLoader(train_dataset, batch_size=64, shuffle=True)\n",
        "\n",
        "test_dataset = datasets.MNIST(root='dataset/',train=False,transform=transforms.ToTensor(),download=True)\n",
        "test_loader = DataLoader(test_dataset, batch_size=64, shuffle=True)"
      ],
      "execution_count": 12,
      "outputs": []
    },
    {
      "cell_type": "code",
      "metadata": {
        "id": "hjyWulMw-Bju",
        "colab_type": "code",
        "colab": {}
      },
      "source": [
        "# Initialize the Network\n",
        "model = NN(input_size=input_size, num_classes=num_classes).to(device)"
      ],
      "execution_count": 13,
      "outputs": []
    },
    {
      "cell_type": "code",
      "metadata": {
        "id": "-1z0GuUI-WMw",
        "colab_type": "code",
        "colab": {}
      },
      "source": [
        "# Loss and optimizer\n",
        "criterion = nn.CrossEntropyLoss()\n",
        "optimizer = optim.Adam(model.parameters(), lr = learning_rate)"
      ],
      "execution_count": 14,
      "outputs": []
    },
    {
      "cell_type": "code",
      "metadata": {
        "id": "XZ3gd_7A-fWW",
        "colab_type": "code",
        "colab": {
          "base_uri": "https://localhost:8080/",
          "height": 187
        },
        "outputId": "aaedf600-79ed-4327-9d8b-7029c76a13d6"
      },
      "source": [
        "# Train Network\n",
        "for epoch in range(1,num_epochs+1):\n",
        "  train_loss = 0.0\n",
        "  for batch_idx, (data, targets) in enumerate(train_loader):\n",
        "    # Get data to cuda is possible\n",
        "    data = data.to(device=device)\n",
        "    targets = targets.to(device=device)\n",
        "\n",
        "    # get to correct shape\n",
        "    # data is in the form of (64 x 1 x 28 x 28)\n",
        "    # we need data to be in the form of (64 x 784)\n",
        "    data = data.reshape(data.shape[0], -1)\n",
        "\n",
        "    # forward\n",
        "    scores = model(data)\n",
        "    loss = criterion(scores, targets)\n",
        "\n",
        "    # backward\n",
        "    optimizer.zero_grad()   # store gradients to zero for each batch\n",
        "    loss.backward()\n",
        "\n",
        "    # gradient descent or adam step\n",
        "    optimizer.step()\n",
        "\n",
        "    train_loss += loss.item()\n",
        "  print (f'Epoch: {epoch}/{num_epochs} \\t Training Loss: {train_loss/(len(train_loader)):.6f}')\n"
      ],
      "execution_count": 17,
      "outputs": [
        {
          "output_type": "stream",
          "text": [
            "Epoch: 1/10 \t Training Loss: 1.532268\n",
            "Epoch: 2/10 \t Training Loss: 1.523150\n",
            "Epoch: 3/10 \t Training Loss: 1.515881\n",
            "Epoch: 4/10 \t Training Loss: 1.510483\n",
            "Epoch: 5/10 \t Training Loss: 1.506250\n",
            "Epoch: 6/10 \t Training Loss: 1.501982\n",
            "Epoch: 7/10 \t Training Loss: 1.499164\n",
            "Epoch: 8/10 \t Training Loss: 1.496359\n",
            "Epoch: 9/10 \t Training Loss: 1.494027\n",
            "Epoch: 10/10 \t Training Loss: 1.491571\n"
          ],
          "name": "stdout"
        }
      ]
    },
    {
      "cell_type": "code",
      "metadata": {
        "id": "wbrJnQPr_NDr",
        "colab_type": "code",
        "colab": {}
      },
      "source": [
        "def check_accuracy(loader, model):\n",
        "  if loader.dataset.train:\n",
        "    print ('Checking accuracy on training data')\n",
        "  else:\n",
        "    print ('Checking accuracy on test data')\n",
        "  num_correct = 0\n",
        "  num_samples = 0\n",
        "  model.eval()\n",
        "\n",
        "  with torch.no_grad():\n",
        "    for x, y in loader:\n",
        "      x = x.to(device = device)\n",
        "      y = y.to(device = device)\n",
        "\n",
        "      x = x.reshape(x.shape[0], -1)\n",
        "\n",
        "      scores = model(x)\n",
        "      _, pred = scores.max(1)\n",
        "      num_correct += (pred == y).sum()\n",
        "      num_samples += pred.size(0)\n",
        "\n",
        "    print (f'Got {num_correct}/{num_samples} with accuracy {float(num_correct)/float(num_samples)*100 :.2f}')\n",
        "  \n",
        "  model.train()"
      ],
      "execution_count": 18,
      "outputs": []
    },
    {
      "cell_type": "code",
      "metadata": {
        "id": "FKJ-WP21DYq-",
        "colab_type": "code",
        "colab": {
          "base_uri": "https://localhost:8080/",
          "height": 85
        },
        "outputId": "99ec409b-5908-448a-b648-9cce00c7a9f7"
      },
      "source": [
        "check_accuracy(train_loader, model)\n",
        "check_accuracy(test_loader,model)"
      ],
      "execution_count": 19,
      "outputs": [
        {
          "output_type": "stream",
          "text": [
            "Checking accuracy on training data\n",
            "Got 58446/60000 with accuracy 97.41\n",
            "Checking accuracy on test data\n",
            "Got 9629/10000 with accuracy 96.29\n"
          ],
          "name": "stdout"
        }
      ]
    },
    {
      "cell_type": "code",
      "metadata": {
        "id": "MTwtdRtiDi2u",
        "colab_type": "code",
        "colab": {}
      },
      "source": [
        ""
      ],
      "execution_count": null,
      "outputs": []
    }
  ]
}